{
  "nbformat": 4,
  "nbformat_minor": 0,
  "metadata": {
    "colab": {
      "provenance": []
    },
    "kernelspec": {
      "name": "python3",
      "display_name": "Python 3"
    },
    "language_info": {
      "name": "python"
    }
  },
  "cells": [
    {
      "cell_type": "markdown",
      "source": [
        "**Задание**\n",
        "\n",
        "**Цель**: закрепить знания о математическом смысле метрик TPR, FPR. Изучить построение ROC-кривой, графика Precision-Recall.\n",
        "Описание задания:\n",
        "Решить задачу классификации при помощи обучения модели логистической регрессии. Качество модели оценивается путем подсчета метрик TPR, FPR и построения графиков ROC-кривой, Precision-Recall. Данные для обучения модели хранятся в файле athletes.csv, который можно найти в материалах к занятию.\n",
        "\n",
        "**Этапы работы:**\n",
        "\n",
        "Преобразуйте данные:\n",
        "a. проверьте наличие пропущенных значений. Преобразуйте/удалите пропуски по необходимости;\n",
        "b. закодируйте категориальные переменные числовыми значениями по необходимости.\n",
        "Разделите выборку на обучающее (80% данных) и тестовое (20% данных) подмножества.\n",
        "Постройте ROC-кривую с помощью функции sklearn.metrics. roc_curve.\n",
        "Вычислите значение ROC-AUC метрики с помощью функции sklearn.metrics.roc_auc_score.\n",
        "Реализуйте подсчет метрик TPR, FPR «вручную», без использования готовых функций из библиотеки sklearn.\n",
        "Постройте ROC-кривую с помощью вычисленных в п. 5 метрик: объедините графики из п. 3 и п. 6 в один. Сравните, сделайте вывод.\n",
        "Постройте график Precision-Recall, используя метрики, посчитанные в п. 5.\n",
        "*Вычислите значение ROC-AUC метрики, используя метрики, посчитанные в п. 5.\n",
        "Сформулируйте выводы по проделанной работе:\n",
        "a. как по полученным графикам сделать вывод о качестве модели? Как вы оцениваете обученную модель исходя из подсчитанных метрик?\n",
        "b. *может ли ROC-кривая проходить ниже диагонали?\n",
        "\n",
        "**Результат:**\n",
        "\n",
        "проведена оценка качества модели классификации;\n",
        "реализован подсчет «вручную» основных метрик, проведено сравнение полученных результатов с готовыми функциями из библиотеки sklearn."
      ],
      "metadata": {
        "id": "jPjKn1_-nrR2"
      }
    },
    {
      "cell_type": "markdown",
      "source": [
        "Преобразуйте данные:\n",
        "\n",
        "a. проверьте наличие пропущенных значений. Преобразуйте/удалите пропуски по необходимости;\n",
        "\n",
        "b. закодируйте категориальные переменные числовыми значениями по необходимости."
      ],
      "metadata": {
        "id": "i3MLhpzZo77z"
      }
    },
    {
      "cell_type": "code",
      "execution_count": null,
      "metadata": {
        "id": "m34dip3QnoJw"
      },
      "outputs": [],
      "source": [
        "import pandas as pd\n",
        "from sklearn.preprocessing import LabelEncoder\n",
        "from sklearn.model_selection import train_test_split, GridSearchCV\n",
        "import matplotlib.pyplot as plt\n",
        "from numpy import arange\n",
        "from sklearn.linear_model import LogisticRegression\n",
        "from sklearn.metrics import roc_auc_score, roc_curve, precision_recall_curve"
      ]
    },
    {
      "cell_type": "code",
      "source": [
        "data = pd.read_csv('https://raw.githubusercontent.com/vn322/Russian-Sport-University/main/athletes.csv', error_bad_lines=False)\n",
        "data.head()"
      ],
      "metadata": {
        "colab": {
          "base_uri": "https://localhost:8080/",
          "height": 300
        },
        "id": "9q3Ky47O2oE3",
        "outputId": "ca3ccd79-4801-4c62-c24a-22ee4c3ee595"
      },
      "execution_count": null,
      "outputs": [
        {
          "output_type": "stream",
          "name": "stderr",
          "text": [
            "/usr/local/lib/python3.7/dist-packages/IPython/core/interactiveshell.py:3326: FutureWarning: The error_bad_lines argument has been deprecated and will be removed in a future version.\n",
            "\n",
            "\n",
            "  exec(code_obj, self.user_global_ns, self.user_ns)\n"
          ]
        },
        {
          "output_type": "execute_result",
          "data": {
            "text/plain": [
              "          id            name nationality     sex       dob  height  weight  \\\n",
              "0  736041664  A Jesus Garcia         ESP    male  10/17/69    1.72    64.0   \n",
              "1  532037425      A Lam Shin         KOR  female   9/23/86    1.68    56.0   \n",
              "2  435962603     Aaron Brown         CAN    male   5/27/92    1.98    79.0   \n",
              "3  521041435      Aaron Cook         MDA    male    1/2/91    1.83    80.0   \n",
              "4   33922579      Aaron Gate         NZL    male  11/26/90    1.81    71.0   \n",
              "\n",
              "       sport  gold  silver  bronze  \n",
              "0  athletics     0       0       0  \n",
              "1    fencing     0       0       0  \n",
              "2  athletics     0       0       1  \n",
              "3  taekwondo     0       0       0  \n",
              "4    cycling     0       0       0  "
            ],
            "text/html": [
              "\n",
              "  <div id=\"df-37431a96-e1b8-4ec6-8c4c-ebde6df0a839\">\n",
              "    <div class=\"colab-df-container\">\n",
              "      <div>\n",
              "<style scoped>\n",
              "    .dataframe tbody tr th:only-of-type {\n",
              "        vertical-align: middle;\n",
              "    }\n",
              "\n",
              "    .dataframe tbody tr th {\n",
              "        vertical-align: top;\n",
              "    }\n",
              "\n",
              "    .dataframe thead th {\n",
              "        text-align: right;\n",
              "    }\n",
              "</style>\n",
              "<table border=\"1\" class=\"dataframe\">\n",
              "  <thead>\n",
              "    <tr style=\"text-align: right;\">\n",
              "      <th></th>\n",
              "      <th>id</th>\n",
              "      <th>name</th>\n",
              "      <th>nationality</th>\n",
              "      <th>sex</th>\n",
              "      <th>dob</th>\n",
              "      <th>height</th>\n",
              "      <th>weight</th>\n",
              "      <th>sport</th>\n",
              "      <th>gold</th>\n",
              "      <th>silver</th>\n",
              "      <th>bronze</th>\n",
              "    </tr>\n",
              "  </thead>\n",
              "  <tbody>\n",
              "    <tr>\n",
              "      <th>0</th>\n",
              "      <td>736041664</td>\n",
              "      <td>A Jesus Garcia</td>\n",
              "      <td>ESP</td>\n",
              "      <td>male</td>\n",
              "      <td>10/17/69</td>\n",
              "      <td>1.72</td>\n",
              "      <td>64.0</td>\n",
              "      <td>athletics</td>\n",
              "      <td>0</td>\n",
              "      <td>0</td>\n",
              "      <td>0</td>\n",
              "    </tr>\n",
              "    <tr>\n",
              "      <th>1</th>\n",
              "      <td>532037425</td>\n",
              "      <td>A Lam Shin</td>\n",
              "      <td>KOR</td>\n",
              "      <td>female</td>\n",
              "      <td>9/23/86</td>\n",
              "      <td>1.68</td>\n",
              "      <td>56.0</td>\n",
              "      <td>fencing</td>\n",
              "      <td>0</td>\n",
              "      <td>0</td>\n",
              "      <td>0</td>\n",
              "    </tr>\n",
              "    <tr>\n",
              "      <th>2</th>\n",
              "      <td>435962603</td>\n",
              "      <td>Aaron Brown</td>\n",
              "      <td>CAN</td>\n",
              "      <td>male</td>\n",
              "      <td>5/27/92</td>\n",
              "      <td>1.98</td>\n",
              "      <td>79.0</td>\n",
              "      <td>athletics</td>\n",
              "      <td>0</td>\n",
              "      <td>0</td>\n",
              "      <td>1</td>\n",
              "    </tr>\n",
              "    <tr>\n",
              "      <th>3</th>\n",
              "      <td>521041435</td>\n",
              "      <td>Aaron Cook</td>\n",
              "      <td>MDA</td>\n",
              "      <td>male</td>\n",
              "      <td>1/2/91</td>\n",
              "      <td>1.83</td>\n",
              "      <td>80.0</td>\n",
              "      <td>taekwondo</td>\n",
              "      <td>0</td>\n",
              "      <td>0</td>\n",
              "      <td>0</td>\n",
              "    </tr>\n",
              "    <tr>\n",
              "      <th>4</th>\n",
              "      <td>33922579</td>\n",
              "      <td>Aaron Gate</td>\n",
              "      <td>NZL</td>\n",
              "      <td>male</td>\n",
              "      <td>11/26/90</td>\n",
              "      <td>1.81</td>\n",
              "      <td>71.0</td>\n",
              "      <td>cycling</td>\n",
              "      <td>0</td>\n",
              "      <td>0</td>\n",
              "      <td>0</td>\n",
              "    </tr>\n",
              "  </tbody>\n",
              "</table>\n",
              "</div>\n",
              "      <button class=\"colab-df-convert\" onclick=\"convertToInteractive('df-37431a96-e1b8-4ec6-8c4c-ebde6df0a839')\"\n",
              "              title=\"Convert this dataframe to an interactive table.\"\n",
              "              style=\"display:none;\">\n",
              "        \n",
              "  <svg xmlns=\"http://www.w3.org/2000/svg\" height=\"24px\"viewBox=\"0 0 24 24\"\n",
              "       width=\"24px\">\n",
              "    <path d=\"M0 0h24v24H0V0z\" fill=\"none\"/>\n",
              "    <path d=\"M18.56 5.44l.94 2.06.94-2.06 2.06-.94-2.06-.94-.94-2.06-.94 2.06-2.06.94zm-11 1L8.5 8.5l.94-2.06 2.06-.94-2.06-.94L8.5 2.5l-.94 2.06-2.06.94zm10 10l.94 2.06.94-2.06 2.06-.94-2.06-.94-.94-2.06-.94 2.06-2.06.94z\"/><path d=\"M17.41 7.96l-1.37-1.37c-.4-.4-.92-.59-1.43-.59-.52 0-1.04.2-1.43.59L10.3 9.45l-7.72 7.72c-.78.78-.78 2.05 0 2.83L4 21.41c.39.39.9.59 1.41.59.51 0 1.02-.2 1.41-.59l7.78-7.78 2.81-2.81c.8-.78.8-2.07 0-2.86zM5.41 20L4 18.59l7.72-7.72 1.47 1.35L5.41 20z\"/>\n",
              "  </svg>\n",
              "      </button>\n",
              "      \n",
              "  <style>\n",
              "    .colab-df-container {\n",
              "      display:flex;\n",
              "      flex-wrap:wrap;\n",
              "      gap: 12px;\n",
              "    }\n",
              "\n",
              "    .colab-df-convert {\n",
              "      background-color: #E8F0FE;\n",
              "      border: none;\n",
              "      border-radius: 50%;\n",
              "      cursor: pointer;\n",
              "      display: none;\n",
              "      fill: #1967D2;\n",
              "      height: 32px;\n",
              "      padding: 0 0 0 0;\n",
              "      width: 32px;\n",
              "    }\n",
              "\n",
              "    .colab-df-convert:hover {\n",
              "      background-color: #E2EBFA;\n",
              "      box-shadow: 0px 1px 2px rgba(60, 64, 67, 0.3), 0px 1px 3px 1px rgba(60, 64, 67, 0.15);\n",
              "      fill: #174EA6;\n",
              "    }\n",
              "\n",
              "    [theme=dark] .colab-df-convert {\n",
              "      background-color: #3B4455;\n",
              "      fill: #D2E3FC;\n",
              "    }\n",
              "\n",
              "    [theme=dark] .colab-df-convert:hover {\n",
              "      background-color: #434B5C;\n",
              "      box-shadow: 0px 1px 3px 1px rgba(0, 0, 0, 0.15);\n",
              "      filter: drop-shadow(0px 1px 2px rgba(0, 0, 0, 0.3));\n",
              "      fill: #FFFFFF;\n",
              "    }\n",
              "  </style>\n",
              "\n",
              "      <script>\n",
              "        const buttonEl =\n",
              "          document.querySelector('#df-37431a96-e1b8-4ec6-8c4c-ebde6df0a839 button.colab-df-convert');\n",
              "        buttonEl.style.display =\n",
              "          google.colab.kernel.accessAllowed ? 'block' : 'none';\n",
              "\n",
              "        async function convertToInteractive(key) {\n",
              "          const element = document.querySelector('#df-37431a96-e1b8-4ec6-8c4c-ebde6df0a839');\n",
              "          const dataTable =\n",
              "            await google.colab.kernel.invokeFunction('convertToInteractive',\n",
              "                                                     [key], {});\n",
              "          if (!dataTable) return;\n",
              "\n",
              "          const docLinkHtml = 'Like what you see? Visit the ' +\n",
              "            '<a target=\"_blank\" href=https://colab.research.google.com/notebooks/data_table.ipynb>data table notebook</a>'\n",
              "            + ' to learn more about interactive tables.';\n",
              "          element.innerHTML = '';\n",
              "          dataTable['output_type'] = 'display_data';\n",
              "          await google.colab.output.renderOutput(dataTable, element);\n",
              "          const docLink = document.createElement('div');\n",
              "          docLink.innerHTML = docLinkHtml;\n",
              "          element.appendChild(docLink);\n",
              "        }\n",
              "      </script>\n",
              "    </div>\n",
              "  </div>\n",
              "  "
            ]
          },
          "metadata": {},
          "execution_count": 2
        }
      ]
    },
    {
      "cell_type": "code",
      "source": [
        "data.info()"
      ],
      "metadata": {
        "colab": {
          "base_uri": "https://localhost:8080/"
        },
        "id": "W7wnYlUlpR8z",
        "outputId": "7d8e4cfe-1ef1-419d-f58a-c1e12a3ffdc9"
      },
      "execution_count": null,
      "outputs": [
        {
          "output_type": "stream",
          "name": "stdout",
          "text": [
            "<class 'pandas.core.frame.DataFrame'>\n",
            "RangeIndex: 11538 entries, 0 to 11537\n",
            "Data columns (total 11 columns):\n",
            " #   Column       Non-Null Count  Dtype  \n",
            "---  ------       --------------  -----  \n",
            " 0   id           11538 non-null  int64  \n",
            " 1   name         11538 non-null  object \n",
            " 2   nationality  11538 non-null  object \n",
            " 3   sex          11538 non-null  object \n",
            " 4   dob          11537 non-null  object \n",
            " 5   height       11208 non-null  float64\n",
            " 6   weight       10879 non-null  float64\n",
            " 7   sport        11538 non-null  object \n",
            " 8   gold         11538 non-null  int64  \n",
            " 9   silver       11538 non-null  int64  \n",
            " 10  bronze       11538 non-null  int64  \n",
            "dtypes: float64(2), int64(4), object(5)\n",
            "memory usage: 991.7+ KB\n"
          ]
        }
      ]
    },
    {
      "cell_type": "code",
      "source": [
        "data[ pd.isnull( data['height'] ) ]"
      ],
      "metadata": {
        "colab": {
          "base_uri": "https://localhost:8080/",
          "height": 423
        },
        "id": "r6K8EKV7BE9p",
        "outputId": "58b9be5d-7f56-4f94-9ebe-604deadb2456"
      },
      "execution_count": null,
      "outputs": [
        {
          "output_type": "execute_result",
          "data": {
            "text/plain": [
              "              id                  name nationality     sex       dob  height  \\\n",
              "12     258556239            Abbas Qali         IOA    male  10/11/92     NaN   \n",
              "47     469953606    Abdoullah Bamoussa         ITA    male    6/8/86     NaN   \n",
              "50     325809293            Abdul Omar         GHA    male   10/3/93     NaN   \n",
              "52     262868423    Abdulaziz Alshatti         IOA    male  10/30/90     NaN   \n",
              "56     897549624     Abdullah Hel Baki         BAN    male    8/1/89     NaN   \n",
              "...          ...                   ...         ...     ...       ...     ...   \n",
              "11031  404382792          Winston Hill         FIJ    male   9/17/93     NaN   \n",
              "11208  550672127  Yemane Haileselassie         ERI    male   2/21/98     NaN   \n",
              "11220    5964702       Yesenia Miranda         ESA  female   3/26/94     NaN   \n",
              "11238  390260480        Yigal Kopinsky         SUR    male  10/16/85     NaN   \n",
              "11370   86099624         Yulia Efimova         RUS  female    4/3/92     NaN   \n",
              "\n",
              "       weight      sport  gold  silver  bronze  \n",
              "12        NaN   aquatics     0       0       0  \n",
              "47        NaN  athletics     0       0       0  \n",
              "50        NaN     boxing     0       0       0  \n",
              "52        NaN    fencing     0       0       0  \n",
              "56        NaN   shooting     0       0       0  \n",
              "...       ...        ...   ...     ...     ...  \n",
              "11031     NaN     boxing     0       0       0  \n",
              "11208     NaN  athletics     0       0       0  \n",
              "11220     NaN  athletics     0       0       0  \n",
              "11238     NaN       judo     0       0       0  \n",
              "11370     NaN   aquatics     0       2       0  \n",
              "\n",
              "[330 rows x 11 columns]"
            ],
            "text/html": [
              "\n",
              "  <div id=\"df-6322bad5-7666-4f10-8e62-0994b8b8c4e0\">\n",
              "    <div class=\"colab-df-container\">\n",
              "      <div>\n",
              "<style scoped>\n",
              "    .dataframe tbody tr th:only-of-type {\n",
              "        vertical-align: middle;\n",
              "    }\n",
              "\n",
              "    .dataframe tbody tr th {\n",
              "        vertical-align: top;\n",
              "    }\n",
              "\n",
              "    .dataframe thead th {\n",
              "        text-align: right;\n",
              "    }\n",
              "</style>\n",
              "<table border=\"1\" class=\"dataframe\">\n",
              "  <thead>\n",
              "    <tr style=\"text-align: right;\">\n",
              "      <th></th>\n",
              "      <th>id</th>\n",
              "      <th>name</th>\n",
              "      <th>nationality</th>\n",
              "      <th>sex</th>\n",
              "      <th>dob</th>\n",
              "      <th>height</th>\n",
              "      <th>weight</th>\n",
              "      <th>sport</th>\n",
              "      <th>gold</th>\n",
              "      <th>silver</th>\n",
              "      <th>bronze</th>\n",
              "    </tr>\n",
              "  </thead>\n",
              "  <tbody>\n",
              "    <tr>\n",
              "      <th>12</th>\n",
              "      <td>258556239</td>\n",
              "      <td>Abbas Qali</td>\n",
              "      <td>IOA</td>\n",
              "      <td>male</td>\n",
              "      <td>10/11/92</td>\n",
              "      <td>NaN</td>\n",
              "      <td>NaN</td>\n",
              "      <td>aquatics</td>\n",
              "      <td>0</td>\n",
              "      <td>0</td>\n",
              "      <td>0</td>\n",
              "    </tr>\n",
              "    <tr>\n",
              "      <th>47</th>\n",
              "      <td>469953606</td>\n",
              "      <td>Abdoullah Bamoussa</td>\n",
              "      <td>ITA</td>\n",
              "      <td>male</td>\n",
              "      <td>6/8/86</td>\n",
              "      <td>NaN</td>\n",
              "      <td>NaN</td>\n",
              "      <td>athletics</td>\n",
              "      <td>0</td>\n",
              "      <td>0</td>\n",
              "      <td>0</td>\n",
              "    </tr>\n",
              "    <tr>\n",
              "      <th>50</th>\n",
              "      <td>325809293</td>\n",
              "      <td>Abdul Omar</td>\n",
              "      <td>GHA</td>\n",
              "      <td>male</td>\n",
              "      <td>10/3/93</td>\n",
              "      <td>NaN</td>\n",
              "      <td>NaN</td>\n",
              "      <td>boxing</td>\n",
              "      <td>0</td>\n",
              "      <td>0</td>\n",
              "      <td>0</td>\n",
              "    </tr>\n",
              "    <tr>\n",
              "      <th>52</th>\n",
              "      <td>262868423</td>\n",
              "      <td>Abdulaziz Alshatti</td>\n",
              "      <td>IOA</td>\n",
              "      <td>male</td>\n",
              "      <td>10/30/90</td>\n",
              "      <td>NaN</td>\n",
              "      <td>NaN</td>\n",
              "      <td>fencing</td>\n",
              "      <td>0</td>\n",
              "      <td>0</td>\n",
              "      <td>0</td>\n",
              "    </tr>\n",
              "    <tr>\n",
              "      <th>56</th>\n",
              "      <td>897549624</td>\n",
              "      <td>Abdullah Hel Baki</td>\n",
              "      <td>BAN</td>\n",
              "      <td>male</td>\n",
              "      <td>8/1/89</td>\n",
              "      <td>NaN</td>\n",
              "      <td>NaN</td>\n",
              "      <td>shooting</td>\n",
              "      <td>0</td>\n",
              "      <td>0</td>\n",
              "      <td>0</td>\n",
              "    </tr>\n",
              "    <tr>\n",
              "      <th>...</th>\n",
              "      <td>...</td>\n",
              "      <td>...</td>\n",
              "      <td>...</td>\n",
              "      <td>...</td>\n",
              "      <td>...</td>\n",
              "      <td>...</td>\n",
              "      <td>...</td>\n",
              "      <td>...</td>\n",
              "      <td>...</td>\n",
              "      <td>...</td>\n",
              "      <td>...</td>\n",
              "    </tr>\n",
              "    <tr>\n",
              "      <th>11031</th>\n",
              "      <td>404382792</td>\n",
              "      <td>Winston Hill</td>\n",
              "      <td>FIJ</td>\n",
              "      <td>male</td>\n",
              "      <td>9/17/93</td>\n",
              "      <td>NaN</td>\n",
              "      <td>NaN</td>\n",
              "      <td>boxing</td>\n",
              "      <td>0</td>\n",
              "      <td>0</td>\n",
              "      <td>0</td>\n",
              "    </tr>\n",
              "    <tr>\n",
              "      <th>11208</th>\n",
              "      <td>550672127</td>\n",
              "      <td>Yemane Haileselassie</td>\n",
              "      <td>ERI</td>\n",
              "      <td>male</td>\n",
              "      <td>2/21/98</td>\n",
              "      <td>NaN</td>\n",
              "      <td>NaN</td>\n",
              "      <td>athletics</td>\n",
              "      <td>0</td>\n",
              "      <td>0</td>\n",
              "      <td>0</td>\n",
              "    </tr>\n",
              "    <tr>\n",
              "      <th>11220</th>\n",
              "      <td>5964702</td>\n",
              "      <td>Yesenia Miranda</td>\n",
              "      <td>ESA</td>\n",
              "      <td>female</td>\n",
              "      <td>3/26/94</td>\n",
              "      <td>NaN</td>\n",
              "      <td>NaN</td>\n",
              "      <td>athletics</td>\n",
              "      <td>0</td>\n",
              "      <td>0</td>\n",
              "      <td>0</td>\n",
              "    </tr>\n",
              "    <tr>\n",
              "      <th>11238</th>\n",
              "      <td>390260480</td>\n",
              "      <td>Yigal Kopinsky</td>\n",
              "      <td>SUR</td>\n",
              "      <td>male</td>\n",
              "      <td>10/16/85</td>\n",
              "      <td>NaN</td>\n",
              "      <td>NaN</td>\n",
              "      <td>judo</td>\n",
              "      <td>0</td>\n",
              "      <td>0</td>\n",
              "      <td>0</td>\n",
              "    </tr>\n",
              "    <tr>\n",
              "      <th>11370</th>\n",
              "      <td>86099624</td>\n",
              "      <td>Yulia Efimova</td>\n",
              "      <td>RUS</td>\n",
              "      <td>female</td>\n",
              "      <td>4/3/92</td>\n",
              "      <td>NaN</td>\n",
              "      <td>NaN</td>\n",
              "      <td>aquatics</td>\n",
              "      <td>0</td>\n",
              "      <td>2</td>\n",
              "      <td>0</td>\n",
              "    </tr>\n",
              "  </tbody>\n",
              "</table>\n",
              "<p>330 rows × 11 columns</p>\n",
              "</div>\n",
              "      <button class=\"colab-df-convert\" onclick=\"convertToInteractive('df-6322bad5-7666-4f10-8e62-0994b8b8c4e0')\"\n",
              "              title=\"Convert this dataframe to an interactive table.\"\n",
              "              style=\"display:none;\">\n",
              "        \n",
              "  <svg xmlns=\"http://www.w3.org/2000/svg\" height=\"24px\"viewBox=\"0 0 24 24\"\n",
              "       width=\"24px\">\n",
              "    <path d=\"M0 0h24v24H0V0z\" fill=\"none\"/>\n",
              "    <path d=\"M18.56 5.44l.94 2.06.94-2.06 2.06-.94-2.06-.94-.94-2.06-.94 2.06-2.06.94zm-11 1L8.5 8.5l.94-2.06 2.06-.94-2.06-.94L8.5 2.5l-.94 2.06-2.06.94zm10 10l.94 2.06.94-2.06 2.06-.94-2.06-.94-.94-2.06-.94 2.06-2.06.94z\"/><path d=\"M17.41 7.96l-1.37-1.37c-.4-.4-.92-.59-1.43-.59-.52 0-1.04.2-1.43.59L10.3 9.45l-7.72 7.72c-.78.78-.78 2.05 0 2.83L4 21.41c.39.39.9.59 1.41.59.51 0 1.02-.2 1.41-.59l7.78-7.78 2.81-2.81c.8-.78.8-2.07 0-2.86zM5.41 20L4 18.59l7.72-7.72 1.47 1.35L5.41 20z\"/>\n",
              "  </svg>\n",
              "      </button>\n",
              "      \n",
              "  <style>\n",
              "    .colab-df-container {\n",
              "      display:flex;\n",
              "      flex-wrap:wrap;\n",
              "      gap: 12px;\n",
              "    }\n",
              "\n",
              "    .colab-df-convert {\n",
              "      background-color: #E8F0FE;\n",
              "      border: none;\n",
              "      border-radius: 50%;\n",
              "      cursor: pointer;\n",
              "      display: none;\n",
              "      fill: #1967D2;\n",
              "      height: 32px;\n",
              "      padding: 0 0 0 0;\n",
              "      width: 32px;\n",
              "    }\n",
              "\n",
              "    .colab-df-convert:hover {\n",
              "      background-color: #E2EBFA;\n",
              "      box-shadow: 0px 1px 2px rgba(60, 64, 67, 0.3), 0px 1px 3px 1px rgba(60, 64, 67, 0.15);\n",
              "      fill: #174EA6;\n",
              "    }\n",
              "\n",
              "    [theme=dark] .colab-df-convert {\n",
              "      background-color: #3B4455;\n",
              "      fill: #D2E3FC;\n",
              "    }\n",
              "\n",
              "    [theme=dark] .colab-df-convert:hover {\n",
              "      background-color: #434B5C;\n",
              "      box-shadow: 0px 1px 3px 1px rgba(0, 0, 0, 0.15);\n",
              "      filter: drop-shadow(0px 1px 2px rgba(0, 0, 0, 0.3));\n",
              "      fill: #FFFFFF;\n",
              "    }\n",
              "  </style>\n",
              "\n",
              "      <script>\n",
              "        const buttonEl =\n",
              "          document.querySelector('#df-6322bad5-7666-4f10-8e62-0994b8b8c4e0 button.colab-df-convert');\n",
              "        buttonEl.style.display =\n",
              "          google.colab.kernel.accessAllowed ? 'block' : 'none';\n",
              "\n",
              "        async function convertToInteractive(key) {\n",
              "          const element = document.querySelector('#df-6322bad5-7666-4f10-8e62-0994b8b8c4e0');\n",
              "          const dataTable =\n",
              "            await google.colab.kernel.invokeFunction('convertToInteractive',\n",
              "                                                     [key], {});\n",
              "          if (!dataTable) return;\n",
              "\n",
              "          const docLinkHtml = 'Like what you see? Visit the ' +\n",
              "            '<a target=\"_blank\" href=https://colab.research.google.com/notebooks/data_table.ipynb>data table notebook</a>'\n",
              "            + ' to learn more about interactive tables.';\n",
              "          element.innerHTML = '';\n",
              "          dataTable['output_type'] = 'display_data';\n",
              "          await google.colab.output.renderOutput(dataTable, element);\n",
              "          const docLink = document.createElement('div');\n",
              "          docLink.innerHTML = docLinkHtml;\n",
              "          element.appendChild(docLink);\n",
              "        }\n",
              "      </script>\n",
              "    </div>\n",
              "  </div>\n",
              "  "
            ]
          },
          "metadata": {},
          "execution_count": 5
        }
      ]
    },
    {
      "cell_type": "code",
      "source": [
        "data.drop('id', axis=1, inplace=True)"
      ],
      "metadata": {
        "id": "-2eNrPvsTqNv"
      },
      "execution_count": null,
      "outputs": []
    },
    {
      "cell_type": "code",
      "source": [
        "data.info()"
      ],
      "metadata": {
        "colab": {
          "base_uri": "https://localhost:8080/"
        },
        "id": "ZwcepqGDp1gr",
        "outputId": "ef978416-6768-4060-dcfe-47f77b4376ad"
      },
      "execution_count": null,
      "outputs": [
        {
          "output_type": "stream",
          "name": "stdout",
          "text": [
            "<class 'pandas.core.frame.DataFrame'>\n",
            "RangeIndex: 11538 entries, 0 to 11537\n",
            "Data columns (total 10 columns):\n",
            " #   Column       Non-Null Count  Dtype  \n",
            "---  ------       --------------  -----  \n",
            " 0   name         11538 non-null  object \n",
            " 1   nationality  11538 non-null  object \n",
            " 2   sex          11538 non-null  object \n",
            " 3   dob          11537 non-null  object \n",
            " 4   height       11208 non-null  float64\n",
            " 5   weight       10879 non-null  float64\n",
            " 6   sport        11538 non-null  object \n",
            " 7   gold         11538 non-null  int64  \n",
            " 8   silver       11538 non-null  int64  \n",
            " 9   bronze       11538 non-null  int64  \n",
            "dtypes: float64(2), int64(3), object(5)\n",
            "memory usage: 901.5+ KB\n"
          ]
        }
      ]
    },
    {
      "cell_type": "code",
      "source": [
        "(data.isna().mean() * 100).round(2)"
      ],
      "metadata": {
        "colab": {
          "base_uri": "https://localhost:8080/"
        },
        "id": "FOyjon1HZsSf",
        "outputId": "cc445b29-29ff-44fd-95dd-4149837e87fe"
      },
      "execution_count": null,
      "outputs": [
        {
          "output_type": "execute_result",
          "data": {
            "text/plain": [
              "name           0.00\n",
              "nationality    0.00\n",
              "sex            0.00\n",
              "dob            0.01\n",
              "height         2.86\n",
              "weight         5.71\n",
              "sport          0.00\n",
              "gold           0.00\n",
              "silver         0.00\n",
              "bronze         0.00\n",
              "dtype: float64"
            ]
          },
          "metadata": {},
          "execution_count": 8
        }
      ]
    },
    {
      "cell_type": "code",
      "source": [
        "data['height'].fillna((data['height'].mean()), inplace=True)\n",
        "data['weight'].fillna((data['weight'].mean()), inplace=True)\n",
        "data.info()"
      ],
      "metadata": {
        "colab": {
          "base_uri": "https://localhost:8080/"
        },
        "id": "owuy7LJUGPJZ",
        "outputId": "55d70eae-9ef9-4f92-9ce0-a531daf5b4a3"
      },
      "execution_count": null,
      "outputs": [
        {
          "output_type": "stream",
          "name": "stdout",
          "text": [
            "<class 'pandas.core.frame.DataFrame'>\n",
            "RangeIndex: 11538 entries, 0 to 11537\n",
            "Data columns (total 10 columns):\n",
            " #   Column       Non-Null Count  Dtype  \n",
            "---  ------       --------------  -----  \n",
            " 0   name         11538 non-null  object \n",
            " 1   nationality  11538 non-null  object \n",
            " 2   sex          11538 non-null  object \n",
            " 3   dob          11537 non-null  object \n",
            " 4   height       11538 non-null  float64\n",
            " 5   weight       11538 non-null  float64\n",
            " 6   sport        11538 non-null  object \n",
            " 7   gold         11538 non-null  int64  \n",
            " 8   silver       11538 non-null  int64  \n",
            " 9   bronze       11538 non-null  int64  \n",
            "dtypes: float64(2), int64(3), object(5)\n",
            "memory usage: 901.5+ KB\n"
          ]
        }
      ]
    },
    {
      "cell_type": "code",
      "source": [
        "data[ pd.isnull( data['dob'] ) ]\n"
      ],
      "metadata": {
        "colab": {
          "base_uri": "https://localhost:8080/",
          "height": 81
        },
        "id": "aL2nyw2ZB2HH",
        "outputId": "f71a3296-6b72-455c-fa19-d9a132ed5489"
      },
      "execution_count": null,
      "outputs": [
        {
          "output_type": "execute_result",
          "data": {
            "text/plain": [
              "               name nationality   sex  dob    height     weight    sport  \\\n",
              "8546  Pavel Sozykin         RUS  male  NaN  1.766282  72.068205  sailing   \n",
              "\n",
              "      gold  silver  bronze  \n",
              "8546     0       0       0  "
            ],
            "text/html": [
              "\n",
              "  <div id=\"df-3a17eed5-4360-4fb6-9b44-589b2bd76754\">\n",
              "    <div class=\"colab-df-container\">\n",
              "      <div>\n",
              "<style scoped>\n",
              "    .dataframe tbody tr th:only-of-type {\n",
              "        vertical-align: middle;\n",
              "    }\n",
              "\n",
              "    .dataframe tbody tr th {\n",
              "        vertical-align: top;\n",
              "    }\n",
              "\n",
              "    .dataframe thead th {\n",
              "        text-align: right;\n",
              "    }\n",
              "</style>\n",
              "<table border=\"1\" class=\"dataframe\">\n",
              "  <thead>\n",
              "    <tr style=\"text-align: right;\">\n",
              "      <th></th>\n",
              "      <th>name</th>\n",
              "      <th>nationality</th>\n",
              "      <th>sex</th>\n",
              "      <th>dob</th>\n",
              "      <th>height</th>\n",
              "      <th>weight</th>\n",
              "      <th>sport</th>\n",
              "      <th>gold</th>\n",
              "      <th>silver</th>\n",
              "      <th>bronze</th>\n",
              "    </tr>\n",
              "  </thead>\n",
              "  <tbody>\n",
              "    <tr>\n",
              "      <th>8546</th>\n",
              "      <td>Pavel Sozykin</td>\n",
              "      <td>RUS</td>\n",
              "      <td>male</td>\n",
              "      <td>NaN</td>\n",
              "      <td>1.766282</td>\n",
              "      <td>72.068205</td>\n",
              "      <td>sailing</td>\n",
              "      <td>0</td>\n",
              "      <td>0</td>\n",
              "      <td>0</td>\n",
              "    </tr>\n",
              "  </tbody>\n",
              "</table>\n",
              "</div>\n",
              "      <button class=\"colab-df-convert\" onclick=\"convertToInteractive('df-3a17eed5-4360-4fb6-9b44-589b2bd76754')\"\n",
              "              title=\"Convert this dataframe to an interactive table.\"\n",
              "              style=\"display:none;\">\n",
              "        \n",
              "  <svg xmlns=\"http://www.w3.org/2000/svg\" height=\"24px\"viewBox=\"0 0 24 24\"\n",
              "       width=\"24px\">\n",
              "    <path d=\"M0 0h24v24H0V0z\" fill=\"none\"/>\n",
              "    <path d=\"M18.56 5.44l.94 2.06.94-2.06 2.06-.94-2.06-.94-.94-2.06-.94 2.06-2.06.94zm-11 1L8.5 8.5l.94-2.06 2.06-.94-2.06-.94L8.5 2.5l-.94 2.06-2.06.94zm10 10l.94 2.06.94-2.06 2.06-.94-2.06-.94-.94-2.06-.94 2.06-2.06.94z\"/><path d=\"M17.41 7.96l-1.37-1.37c-.4-.4-.92-.59-1.43-.59-.52 0-1.04.2-1.43.59L10.3 9.45l-7.72 7.72c-.78.78-.78 2.05 0 2.83L4 21.41c.39.39.9.59 1.41.59.51 0 1.02-.2 1.41-.59l7.78-7.78 2.81-2.81c.8-.78.8-2.07 0-2.86zM5.41 20L4 18.59l7.72-7.72 1.47 1.35L5.41 20z\"/>\n",
              "  </svg>\n",
              "      </button>\n",
              "      \n",
              "  <style>\n",
              "    .colab-df-container {\n",
              "      display:flex;\n",
              "      flex-wrap:wrap;\n",
              "      gap: 12px;\n",
              "    }\n",
              "\n",
              "    .colab-df-convert {\n",
              "      background-color: #E8F0FE;\n",
              "      border: none;\n",
              "      border-radius: 50%;\n",
              "      cursor: pointer;\n",
              "      display: none;\n",
              "      fill: #1967D2;\n",
              "      height: 32px;\n",
              "      padding: 0 0 0 0;\n",
              "      width: 32px;\n",
              "    }\n",
              "\n",
              "    .colab-df-convert:hover {\n",
              "      background-color: #E2EBFA;\n",
              "      box-shadow: 0px 1px 2px rgba(60, 64, 67, 0.3), 0px 1px 3px 1px rgba(60, 64, 67, 0.15);\n",
              "      fill: #174EA6;\n",
              "    }\n",
              "\n",
              "    [theme=dark] .colab-df-convert {\n",
              "      background-color: #3B4455;\n",
              "      fill: #D2E3FC;\n",
              "    }\n",
              "\n",
              "    [theme=dark] .colab-df-convert:hover {\n",
              "      background-color: #434B5C;\n",
              "      box-shadow: 0px 1px 3px 1px rgba(0, 0, 0, 0.15);\n",
              "      filter: drop-shadow(0px 1px 2px rgba(0, 0, 0, 0.3));\n",
              "      fill: #FFFFFF;\n",
              "    }\n",
              "  </style>\n",
              "\n",
              "      <script>\n",
              "        const buttonEl =\n",
              "          document.querySelector('#df-3a17eed5-4360-4fb6-9b44-589b2bd76754 button.colab-df-convert');\n",
              "        buttonEl.style.display =\n",
              "          google.colab.kernel.accessAllowed ? 'block' : 'none';\n",
              "\n",
              "        async function convertToInteractive(key) {\n",
              "          const element = document.querySelector('#df-3a17eed5-4360-4fb6-9b44-589b2bd76754');\n",
              "          const dataTable =\n",
              "            await google.colab.kernel.invokeFunction('convertToInteractive',\n",
              "                                                     [key], {});\n",
              "          if (!dataTable) return;\n",
              "\n",
              "          const docLinkHtml = 'Like what you see? Visit the ' +\n",
              "            '<a target=\"_blank\" href=https://colab.research.google.com/notebooks/data_table.ipynb>data table notebook</a>'\n",
              "            + ' to learn more about interactive tables.';\n",
              "          element.innerHTML = '';\n",
              "          dataTable['output_type'] = 'display_data';\n",
              "          await google.colab.output.renderOutput(dataTable, element);\n",
              "          const docLink = document.createElement('div');\n",
              "          docLink.innerHTML = docLinkHtml;\n",
              "          element.appendChild(docLink);\n",
              "        }\n",
              "      </script>\n",
              "    </div>\n",
              "  </div>\n",
              "  "
            ]
          },
          "metadata": {},
          "execution_count": 10
        }
      ]
    },
    {
      "cell_type": "markdown",
      "source": [
        "  https://ru.wikipedia.org/wiki/%D0%A1%D0%BE%D0%B7%D1%8B%D0%BA%D0%B8%D0%BD,_%D0%9F%D0%B0%D0%B2%D0%B5%D0%BB_%D0%92%D0%B0%D0%BB%D0%B5%D1%80%D1%8C%D0%B5%D0%B2%D0%B8%D1%87"
      ],
      "metadata": {
        "id": "LGhrBFN6r0Vb"
      }
    },
    {
      "cell_type": "code",
      "source": [
        "data.at[8546, 'dob']= '12/25/87'\n",
        "data.at[8546, 'dob']\n"
      ],
      "metadata": {
        "colab": {
          "base_uri": "https://localhost:8080/",
          "height": 36
        },
        "id": "Mle7_w7GqbeL",
        "outputId": "938e3678-40fa-448f-980f-6420a525bce5"
      },
      "execution_count": null,
      "outputs": [
        {
          "output_type": "execute_result",
          "data": {
            "text/plain": [
              "'12/25/87'"
            ],
            "application/vnd.google.colaboratory.intrinsic+json": {
              "type": "string"
            }
          },
          "metadata": {},
          "execution_count": 19
        }
      ]
    },
    {
      "cell_type": "code",
      "source": [
        "data.info()"
      ],
      "metadata": {
        "colab": {
          "base_uri": "https://localhost:8080/"
        },
        "id": "daNIxMXnsH0V",
        "outputId": "abaa240e-d657-4c5a-e743-65a41176cd92"
      },
      "execution_count": null,
      "outputs": [
        {
          "output_type": "stream",
          "name": "stdout",
          "text": [
            "<class 'pandas.core.frame.DataFrame'>\n",
            "RangeIndex: 11538 entries, 0 to 11537\n",
            "Data columns (total 10 columns):\n",
            " #   Column       Non-Null Count  Dtype  \n",
            "---  ------       --------------  -----  \n",
            " 0   name         11538 non-null  object \n",
            " 1   nationality  11538 non-null  object \n",
            " 2   sex          11538 non-null  object \n",
            " 3   dob          11538 non-null  object \n",
            " 4   height       11538 non-null  float64\n",
            " 5   weight       11538 non-null  float64\n",
            " 6   sport        11538 non-null  object \n",
            " 7   gold         11538 non-null  int64  \n",
            " 8   silver       11538 non-null  int64  \n",
            " 9   bronze       11538 non-null  int64  \n",
            "dtypes: float64(2), int64(3), object(5)\n",
            "memory usage: 901.5+ KB\n"
          ]
        }
      ]
    },
    {
      "cell_type": "code",
      "source": [
        "X = data[['height', 'weight', 'gold', 'silver', 'bronze']]\n",
        "X"
      ],
      "metadata": {
        "colab": {
          "base_uri": "https://localhost:8080/",
          "height": 423
        },
        "id": "Hwu5KDozsTqy",
        "outputId": "3b515b13-642c-4164-9643-33121add3f4a"
      },
      "execution_count": null,
      "outputs": [
        {
          "output_type": "execute_result",
          "data": {
            "text/plain": [
              "       height  weight  gold  silver  bronze\n",
              "0        1.72    64.0     0       0       0\n",
              "1        1.68    56.0     0       0       0\n",
              "2        1.98    79.0     0       0       1\n",
              "3        1.83    80.0     0       0       0\n",
              "4        1.81    71.0     0       0       0\n",
              "...       ...     ...   ...     ...     ...\n",
              "11533    1.64    58.0     0       0       0\n",
              "11534    1.73    63.0     0       0       0\n",
              "11535    1.85   100.0     0       0       0\n",
              "11536    1.60    56.0     0       0       0\n",
              "11537    1.85    70.0     0       0       0\n",
              "\n",
              "[11538 rows x 5 columns]"
            ],
            "text/html": [
              "\n",
              "  <div id=\"df-313ed35d-3fec-40fd-a90b-cf374bf96da3\">\n",
              "    <div class=\"colab-df-container\">\n",
              "      <div>\n",
              "<style scoped>\n",
              "    .dataframe tbody tr th:only-of-type {\n",
              "        vertical-align: middle;\n",
              "    }\n",
              "\n",
              "    .dataframe tbody tr th {\n",
              "        vertical-align: top;\n",
              "    }\n",
              "\n",
              "    .dataframe thead th {\n",
              "        text-align: right;\n",
              "    }\n",
              "</style>\n",
              "<table border=\"1\" class=\"dataframe\">\n",
              "  <thead>\n",
              "    <tr style=\"text-align: right;\">\n",
              "      <th></th>\n",
              "      <th>height</th>\n",
              "      <th>weight</th>\n",
              "      <th>gold</th>\n",
              "      <th>silver</th>\n",
              "      <th>bronze</th>\n",
              "    </tr>\n",
              "  </thead>\n",
              "  <tbody>\n",
              "    <tr>\n",
              "      <th>0</th>\n",
              "      <td>1.72</td>\n",
              "      <td>64.0</td>\n",
              "      <td>0</td>\n",
              "      <td>0</td>\n",
              "      <td>0</td>\n",
              "    </tr>\n",
              "    <tr>\n",
              "      <th>1</th>\n",
              "      <td>1.68</td>\n",
              "      <td>56.0</td>\n",
              "      <td>0</td>\n",
              "      <td>0</td>\n",
              "      <td>0</td>\n",
              "    </tr>\n",
              "    <tr>\n",
              "      <th>2</th>\n",
              "      <td>1.98</td>\n",
              "      <td>79.0</td>\n",
              "      <td>0</td>\n",
              "      <td>0</td>\n",
              "      <td>1</td>\n",
              "    </tr>\n",
              "    <tr>\n",
              "      <th>3</th>\n",
              "      <td>1.83</td>\n",
              "      <td>80.0</td>\n",
              "      <td>0</td>\n",
              "      <td>0</td>\n",
              "      <td>0</td>\n",
              "    </tr>\n",
              "    <tr>\n",
              "      <th>4</th>\n",
              "      <td>1.81</td>\n",
              "      <td>71.0</td>\n",
              "      <td>0</td>\n",
              "      <td>0</td>\n",
              "      <td>0</td>\n",
              "    </tr>\n",
              "    <tr>\n",
              "      <th>...</th>\n",
              "      <td>...</td>\n",
              "      <td>...</td>\n",
              "      <td>...</td>\n",
              "      <td>...</td>\n",
              "      <td>...</td>\n",
              "    </tr>\n",
              "    <tr>\n",
              "      <th>11533</th>\n",
              "      <td>1.64</td>\n",
              "      <td>58.0</td>\n",
              "      <td>0</td>\n",
              "      <td>0</td>\n",
              "      <td>0</td>\n",
              "    </tr>\n",
              "    <tr>\n",
              "      <th>11534</th>\n",
              "      <td>1.73</td>\n",
              "      <td>63.0</td>\n",
              "      <td>0</td>\n",
              "      <td>0</td>\n",
              "      <td>0</td>\n",
              "    </tr>\n",
              "    <tr>\n",
              "      <th>11535</th>\n",
              "      <td>1.85</td>\n",
              "      <td>100.0</td>\n",
              "      <td>0</td>\n",
              "      <td>0</td>\n",
              "      <td>0</td>\n",
              "    </tr>\n",
              "    <tr>\n",
              "      <th>11536</th>\n",
              "      <td>1.60</td>\n",
              "      <td>56.0</td>\n",
              "      <td>0</td>\n",
              "      <td>0</td>\n",
              "      <td>0</td>\n",
              "    </tr>\n",
              "    <tr>\n",
              "      <th>11537</th>\n",
              "      <td>1.85</td>\n",
              "      <td>70.0</td>\n",
              "      <td>0</td>\n",
              "      <td>0</td>\n",
              "      <td>0</td>\n",
              "    </tr>\n",
              "  </tbody>\n",
              "</table>\n",
              "<p>11538 rows × 5 columns</p>\n",
              "</div>\n",
              "      <button class=\"colab-df-convert\" onclick=\"convertToInteractive('df-313ed35d-3fec-40fd-a90b-cf374bf96da3')\"\n",
              "              title=\"Convert this dataframe to an interactive table.\"\n",
              "              style=\"display:none;\">\n",
              "        \n",
              "  <svg xmlns=\"http://www.w3.org/2000/svg\" height=\"24px\"viewBox=\"0 0 24 24\"\n",
              "       width=\"24px\">\n",
              "    <path d=\"M0 0h24v24H0V0z\" fill=\"none\"/>\n",
              "    <path d=\"M18.56 5.44l.94 2.06.94-2.06 2.06-.94-2.06-.94-.94-2.06-.94 2.06-2.06.94zm-11 1L8.5 8.5l.94-2.06 2.06-.94-2.06-.94L8.5 2.5l-.94 2.06-2.06.94zm10 10l.94 2.06.94-2.06 2.06-.94-2.06-.94-.94-2.06-.94 2.06-2.06.94z\"/><path d=\"M17.41 7.96l-1.37-1.37c-.4-.4-.92-.59-1.43-.59-.52 0-1.04.2-1.43.59L10.3 9.45l-7.72 7.72c-.78.78-.78 2.05 0 2.83L4 21.41c.39.39.9.59 1.41.59.51 0 1.02-.2 1.41-.59l7.78-7.78 2.81-2.81c.8-.78.8-2.07 0-2.86zM5.41 20L4 18.59l7.72-7.72 1.47 1.35L5.41 20z\"/>\n",
              "  </svg>\n",
              "      </button>\n",
              "      \n",
              "  <style>\n",
              "    .colab-df-container {\n",
              "      display:flex;\n",
              "      flex-wrap:wrap;\n",
              "      gap: 12px;\n",
              "    }\n",
              "\n",
              "    .colab-df-convert {\n",
              "      background-color: #E8F0FE;\n",
              "      border: none;\n",
              "      border-radius: 50%;\n",
              "      cursor: pointer;\n",
              "      display: none;\n",
              "      fill: #1967D2;\n",
              "      height: 32px;\n",
              "      padding: 0 0 0 0;\n",
              "      width: 32px;\n",
              "    }\n",
              "\n",
              "    .colab-df-convert:hover {\n",
              "      background-color: #E2EBFA;\n",
              "      box-shadow: 0px 1px 2px rgba(60, 64, 67, 0.3), 0px 1px 3px 1px rgba(60, 64, 67, 0.15);\n",
              "      fill: #174EA6;\n",
              "    }\n",
              "\n",
              "    [theme=dark] .colab-df-convert {\n",
              "      background-color: #3B4455;\n",
              "      fill: #D2E3FC;\n",
              "    }\n",
              "\n",
              "    [theme=dark] .colab-df-convert:hover {\n",
              "      background-color: #434B5C;\n",
              "      box-shadow: 0px 1px 3px 1px rgba(0, 0, 0, 0.15);\n",
              "      filter: drop-shadow(0px 1px 2px rgba(0, 0, 0, 0.3));\n",
              "      fill: #FFFFFF;\n",
              "    }\n",
              "  </style>\n",
              "\n",
              "      <script>\n",
              "        const buttonEl =\n",
              "          document.querySelector('#df-313ed35d-3fec-40fd-a90b-cf374bf96da3 button.colab-df-convert');\n",
              "        buttonEl.style.display =\n",
              "          google.colab.kernel.accessAllowed ? 'block' : 'none';\n",
              "\n",
              "        async function convertToInteractive(key) {\n",
              "          const element = document.querySelector('#df-313ed35d-3fec-40fd-a90b-cf374bf96da3');\n",
              "          const dataTable =\n",
              "            await google.colab.kernel.invokeFunction('convertToInteractive',\n",
              "                                                     [key], {});\n",
              "          if (!dataTable) return;\n",
              "\n",
              "          const docLinkHtml = 'Like what you see? Visit the ' +\n",
              "            '<a target=\"_blank\" href=https://colab.research.google.com/notebooks/data_table.ipynb>data table notebook</a>'\n",
              "            + ' to learn more about interactive tables.';\n",
              "          element.innerHTML = '';\n",
              "          dataTable['output_type'] = 'display_data';\n",
              "          await google.colab.output.renderOutput(dataTable, element);\n",
              "          const docLink = document.createElement('div');\n",
              "          docLink.innerHTML = docLinkHtml;\n",
              "          element.appendChild(docLink);\n",
              "        }\n",
              "      </script>\n",
              "    </div>\n",
              "  </div>\n",
              "  "
            ]
          },
          "metadata": {},
          "execution_count": 21
        }
      ]
    },
    {
      "cell_type": "code",
      "source": [
        "le = LabelEncoder()\n",
        "le.fit(data['sex'])\n",
        "y = pd.Series(data = le.transform(data['sex']))\n",
        "y.head(5)"
      ],
      "metadata": {
        "colab": {
          "base_uri": "https://localhost:8080/"
        },
        "id": "m_3xf13Ow6dR",
        "outputId": "ebd9d9e0-8531-4fcc-9e5b-aa7a9605478a"
      },
      "execution_count": null,
      "outputs": [
        {
          "output_type": "execute_result",
          "data": {
            "text/plain": [
              "0    1\n",
              "1    0\n",
              "2    1\n",
              "3    1\n",
              "4    1\n",
              "dtype: int64"
            ]
          },
          "metadata": {},
          "execution_count": 22
        }
      ]
    },
    {
      "cell_type": "markdown",
      "source": [
        "Разделите выборку на обучающее (80% данных) и тестовое (20% данных) подмножества."
      ],
      "metadata": {
        "id": "UA3LXhQ9wx_S"
      }
    },
    {
      "cell_type": "code",
      "source": [
        "X_train, X_test, y_train, y_test = train_test_split(X, y, test_size=0.2)"
      ],
      "metadata": {
        "id": "wdtl6V8OwmqD"
      },
      "execution_count": null,
      "outputs": []
    },
    {
      "cell_type": "markdown",
      "source": [
        "Постройте ROC-кривую с помощью функции sklearn.metrics. roc_curve."
      ],
      "metadata": {
        "id": "21yolDBbxG1h"
      }
    },
    {
      "cell_type": "code",
      "source": [
        "model = LogisticRegression()\n",
        "model.fit(X_train, y_train)"
      ],
      "metadata": {
        "colab": {
          "base_uri": "https://localhost:8080/"
        },
        "id": "36dmjVFCxOrh",
        "outputId": "aed753ec-79b2-4d4f-9046-01f3b6f942a3"
      },
      "execution_count": null,
      "outputs": [
        {
          "output_type": "execute_result",
          "data": {
            "text/plain": [
              "LogisticRegression()"
            ]
          },
          "metadata": {},
          "execution_count": 25
        }
      ]
    },
    {
      "cell_type": "code",
      "source": [
        "predictions = model.predict_proba(X_test)\n",
        "fpr, tpr, thresh = roc_curve(y_test, predictions[:,1])"
      ],
      "metadata": {
        "id": "fZCoWXUlxIGQ"
      },
      "execution_count": null,
      "outputs": []
    },
    {
      "cell_type": "code",
      "source": [
        "plt.figure(figsize=(10, 12))\n",
        "plt.plot(fpr, tpr)\n",
        "\n",
        "plt.title('ROC AUC', fontdict={'fontsize': 20})\n",
        "plt.xlabel('False Positive Rate', fontdict={'fontsize': 20})\n",
        "plt.ylabel('True Positive Rate', fontdict={'fontsize': 20})\n",
        "plt.show()"
      ],
      "metadata": {
        "colab": {
          "base_uri": "https://localhost:8080/",
          "height": 744
        },
        "id": "78TJfYUpxUkZ",
        "outputId": "6fdc9715-f9f9-49d9-a317-ad7c9594826d"
      },
      "execution_count": null,
      "outputs": [
        {
          "output_type": "display_data",
          "data": {
            "text/plain": [
              "<Figure size 720x864 with 1 Axes>"
            ],
            "image/png": "[encoded data removed]"
          },
          "metadata": {
            "needs_background": "light"
          }
        }
      ]
    },
    {
      "cell_type": "markdown",
      "source": [
        "Вычислите значение ROC-AUC метрики с помощью функции sklearn.metrics.roc_auc_score."
      ],
      "metadata": {
        "id": "ZI2Vk3WHyHuw"
      }
    },
    {
      "cell_type": "code",
      "source": [
        "\n",
        "roc_auc_score(y_test, predictions[:, 1])"
      ],
      "metadata": {
        "colab": {
          "base_uri": "https://localhost:8080/"
        },
        "id": "aKlK0qNgyLkV",
        "outputId": "1ecef34b-4c40-44e7-f191-9531fb6c3f42"
      },
      "execution_count": null,
      "outputs": [
        {
          "output_type": "execute_result",
          "data": {
            "text/plain": [
              "0.8470627657395775"
            ]
          },
          "metadata": {},
          "execution_count": 35
        }
      ]
    },
    {
      "cell_type": "markdown",
      "source": [
        "Реализуйте подсчет метрик TPR, FPR «вручную», без использования готовых функций из библиотеки sklearn."
      ],
      "metadata": {
        "id": "drwazVYsyO8p"
      }
    },
    {
      "cell_type": "code",
      "source": [
        "thresholds = arange(0, 1, 0.1)\n",
        "\n",
        "fprs = []\n",
        "tprs = []\n",
        "prs = []\n",
        "res = []\n",
        "pr_custom = []\n",
        "for threshold in thresholds:\n",
        "    tp = 0 # True positive\n",
        "    fp = 0 # False positive\n",
        "    fn = 0 # False negative\n",
        "    tn = 0 # True negative\n",
        "    for predicted_prob, actual in zip( predictions[:, 1], y_test ):\n",
        "        if predicted_prob >= threshold:\n",
        "            predicted = 1\n",
        "        else:\n",
        "            predicted = 0\n",
        "\n",
        "        if predicted == 1:\n",
        "            if actual == 1:\n",
        "                tp += 1\n",
        "            else:\n",
        "                fp += 1\n",
        "\n",
        "        else:\n",
        "            if actual == 1:\n",
        "                fn += 1\n",
        "            else:\n",
        "                tn += 1\n",
        "    tpr2 = tp/(tp + fn)\n",
        "    fpr2 = fp/(fp + tn)\n",
        "    precision = tp/(tp + fp)\n",
        "    recall = tpr2 \n",
        "    fprs.append(fpr2)\n",
        "    tprs.append(tpr2)\n",
        "    prs.append(precision)\n",
        "    res.append(recall)"
      ],
      "metadata": {
        "id": "s0WXi6_0yTfJ"
      },
      "execution_count": null,
      "outputs": []
    },
    {
      "cell_type": "markdown",
      "source": [
        "Постройте ROC-кривую с помощью вычисленных в п. 5 метрик: объедините графики из п. 3 и п. 6 в один. Сравните, сделайте вывод.\n"
      ],
      "metadata": {
        "id": "FA7YAgJCyhBp"
      }
    },
    {
      "cell_type": "code",
      "source": [
        "\n",
        "plt.figure(figsize=(12, 12))\n",
        "plt.plot(fpr, tpr, color=\"red\")\n",
        "plt.plot(fprs, tprs, color=\"blue\")\n",
        "plt.title('ROC AUC', fontdict={'fontsize': 20})\n",
        "plt.xlabel('False Positive Rate', fontdict={'fontsize': 20})\n",
        "plt.ylabel('True Positive Rate', fontdict={'fontsize': 20})\n",
        "plt.show()"
      ],
      "metadata": {
        "colab": {
          "base_uri": "https://localhost:8080/",
          "height": 744
        },
        "id": "IxuRRQPTyihZ",
        "outputId": "cc7abdf3-d378-4adb-9c5a-e766c38f8ae3"
      },
      "execution_count": null,
      "outputs": [
        {
          "output_type": "display_data",
          "data": {
            "text/plain": [
              "<Figure size 864x864 with 1 Axes>"
            ],
            "image/png": "[encoded data removed]"
          },
          "metadata": {
            "needs_background": "light"
          }
        }
      ]
    },
    {
      "cell_type": "markdown",
      "source": [
        "Постройте график Precision-Recall, используя метрики, посчитанные в п. 5."
      ],
      "metadata": {
        "id": "LB5k8ui-yvvJ"
      }
    },
    {
      "cell_type": "code",
      "source": [
        "plt.figure(figsize=(12, 12))\n",
        "plt.plot(prs, res, color=\"red\")\n",
        "plt.title('PR AUC', fontdict={'fontsize': 20})\n",
        "plt.xlabel('Precision', fontdict={'fontsize': 20})\n",
        "plt.ylabel('Recall', fontdict={'fontsize': 20})\n",
        "plt.show()"
      ],
      "metadata": {
        "colab": {
          "base_uri": "https://localhost:8080/",
          "height": 744
        },
        "id": "X998sqrryxMA",
        "outputId": "904d2aa9-9616-48de-d842-a7013f3f80cb"
      },
      "execution_count": null,
      "outputs": [
        {
          "output_type": "display_data",
          "data": {
            "text/plain": [
              "<Figure size 864x864 with 1 Axes>"
            ],
            "image/png": "[encoded data removed]"
          },
          "metadata": {
            "needs_background": "light"
          }
        }
      ]
    },
    {
      "cell_type": "markdown",
      "source": [
        "Вычислите значение ROC-AUC метрики, используя метрики, посчитанные в п. 5."
      ],
      "metadata": {
        "id": "fWH_QNvjy3hJ"
      }
    },
    {
      "cell_type": "code",
      "source": [
        "#сортируем по возрастанию, чтобы считать от начала кривой\n",
        "fprs.sort()\n",
        "tprs.sort()\n",
        "\n",
        "custom_roc_auc = 0#аналог roc_auc_score, моделируем площадь фигуры как сумму фигур по шагам\n",
        "prev_fpr = 0\n",
        "prev_tpr = 0\n",
        "for index in range(len(fprs)):\n",
        "    if(index != 0):\n",
        "        custom_roc_auc += ((tprs[index] - prev_tpr) * (fprs[index] - prev_fpr) / 2) + (tprs[index] * (fprs[index] - prev_fpr))\n",
        "        prev_tpr = tprs[index]\n",
        "        prev_fpr = fprs[index]\n",
        "print(custom_roc_auc)"
      ],
      "metadata": {
        "colab": {
          "base_uri": "https://localhost:8080/"
        },
        "id": "ombiylj9y4TS",
        "outputId": "3fbc5020-f0d9-473f-a525-4566756f9516"
      },
      "execution_count": null,
      "outputs": [
        {
          "output_type": "stream",
          "name": "stdout",
          "text": [
            "0.917828202706379\n"
          ]
        }
      ]
    },
    {
      "cell_type": "markdown",
      "source": [
        "Сформулируйте выводы по проделанной работе:\n",
        "\n",
        "a. как по полученным графикам сделать вывод о качестве модели? Как вы оцениваете обученную модель исходя из подсчитанных метрик?\n",
        "\n",
        "b. *может ли ROC-кривая проходить ниже диагонали?"
      ],
      "metadata": {
        "id": "vtlwo_ELzUYw"
      }
    },
    {
      "cell_type": "markdown",
      "source": [
        "a.  Сравнение библиотечного и собственного подсчета графика и метрик TPR, PFR показывает, что они различаются незначительно, так как используют один и тот же принцип подсчета. Лучше пользоваться библиотечными функциями, а не творить чудеса.\n",
        "\n",
        "b. конечно может\n",
        "\n",
        "The most commonly seen ROC curves have a curve above the diagonal, which indicates that large predicted scores are associated with the label, and low predicted scores are not associated with the label.\n",
        "The diagonal, i.e. the line TPR=FPR\n",
        "A curve below the diagonal is a model that as predictions which are opposite the labels. Low predicted scores are associated with the label, and high predicted scores are not. This is the opposite of the first case.\n",
        "\n",
        "\n",
        "\n",
        "https://translated.turbopages.org/proxy_u/en-ru.ru.915f9d05-631eed70-646c3755-74722d776562/https/stats.stackexchange.com/questions/54525/roc-curve-crossing-the-diagonal?rq=1\n"
      ],
      "metadata": {
        "id": "eR2576aAzWCB"
      }
    }
  ]
}