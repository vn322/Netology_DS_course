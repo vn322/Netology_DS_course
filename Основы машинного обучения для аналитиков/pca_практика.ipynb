{
  "nbformat": 4,
  "nbformat_minor": 0,
  "metadata": {
    "kernelspec": {
      "display_name": "Python 3",
      "language": "python",
      "name": "python3"
    },
    "language_info": {
      "codemirror_mode": {
        "name": "ipython",
        "version": 3
      },
      "file_extension": ".py",
      "mimetype": "text/x-python",
      "name": "python",
      "nbconvert_exporter": "python",
      "pygments_lexer": "ipython3",
      "version": "3.7.6"
    },
    "colab": {
      "name": "pca_практика.ipynb",
      "provenance": [],
      "collapsed_sections": []
    }
  },
  "cells": [
    {
      "cell_type": "code",
      "metadata": {
        "id": "qQyffSwyrsZl"
      },
      "source": [
        "import numpy as np\n",
        "import pandas as pd\n",
        "import seaborn as sns\n",
        "from matplotlib import pyplot as plt"
      ],
      "execution_count": null,
      "outputs": []
    },
    {
      "cell_type": "code",
      "metadata": {
        "colab": {
          "base_uri": "https://localhost:8080/"
        },
        "id": "Lmb_GVNcrsZs",
        "outputId": "73a317d9-1dc3-4632-ed05-345c2e73d84b"
      },
      "source": [
        "x = np.arange(1,11) * (100 + np.random.randn(10))\n",
        "y = 2 * x + np.random.randn(10)*5\n",
        "X = np.vstack((x,y))\n",
        "print('Мы получили 10 объектов с 2 признаками')\n",
        "print(np.transpose(X))"
      ],
      "execution_count": null,
      "outputs": [
        {
          "output_type": "stream",
          "text": [
            "Мы получили 10 объектов с 2 признаками\n",
            "[[  98.96062377  208.49401978]\n",
            " [ 197.71106274  394.51477332]\n",
            " [ 300.56789197  593.53779036]\n",
            " [ 399.99347248  803.51427112]\n",
            " [ 494.05957612  992.6564117 ]\n",
            " [ 600.42154795 1202.37151833]\n",
            " [ 713.38001612 1419.95331948]\n",
            " [ 803.74484888 1605.74340083]\n",
            " [ 900.23019119 1801.75311964]\n",
            " [ 989.33664626 1977.62100825]]\n"
          ],
          "name": "stdout"
        }
      ]
    },
    {
      "cell_type": "code",
      "metadata": {
        "colab": {
          "base_uri": "https://localhost:8080/",
          "height": 129
        },
        "id": "DEJqUEBp56QQ",
        "outputId": "ef364b7f-63d7-4fb8-84eb-245b83f2efe0"
      },
      "source": [
        "print('Матрица корреляции')\n",
        "pd.DataFrame(np.transpose(X)).corr()"
      ],
      "execution_count": null,
      "outputs": [
        {
          "output_type": "stream",
          "text": [
            "Матрица корреляции\n"
          ],
          "name": "stdout"
        },
        {
          "output_type": "execute_result",
          "data": {
            "text/html": [
              "<div>\n",
              "<style scoped>\n",
              "    .dataframe tbody tr th:only-of-type {\n",
              "        vertical-align: middle;\n",
              "    }\n",
              "\n",
              "    .dataframe tbody tr th {\n",
              "        vertical-align: top;\n",
              "    }\n",
              "\n",
              "    .dataframe thead th {\n",
              "        text-align: right;\n",
              "    }\n",
              "</style>\n",
              "<table border=\"1\" class=\"dataframe\">\n",
              "  <thead>\n",
              "    <tr style=\"text-align: right;\">\n",
              "      <th></th>\n",
              "      <th>0</th>\n",
              "      <th>1</th>\n",
              "    </tr>\n",
              "  </thead>\n",
              "  <tbody>\n",
              "    <tr>\n",
              "      <th>0</th>\n",
              "      <td>1.000000</td>\n",
              "      <td>0.999965</td>\n",
              "    </tr>\n",
              "    <tr>\n",
              "      <th>1</th>\n",
              "      <td>0.999965</td>\n",
              "      <td>1.000000</td>\n",
              "    </tr>\n",
              "  </tbody>\n",
              "</table>\n",
              "</div>"
            ],
            "text/plain": [
              "          0         1\n",
              "0  1.000000  0.999965\n",
              "1  0.999965  1.000000"
            ]
          },
          "metadata": {
            "tags": []
          },
          "execution_count": 4
        }
      ]
    },
    {
      "cell_type": "code",
      "metadata": {
        "colab": {
          "base_uri": "https://localhost:8080/"
        },
        "id": "3-4sAimxrsZu",
        "outputId": "ea2784fc-23ce-4ec6-bfd1-2bd0ec6c4555"
      },
      "source": [
        "Xcentered = (X[0] - x.mean(), X[1] - y.mean())\n",
        "m = (x.mean(), y.mean())\n",
        "print('Отцентрованные признаки')\n",
        "print(np.transpose(Xcentered))\n",
        "print(\"Mean vector: \", m)"
      ],
      "execution_count": null,
      "outputs": [
        {
          "output_type": "stream",
          "text": [
            "Отцентрованные признаки\n",
            "[[-450.87996398 -891.5219435 ]\n",
            " [-352.129525   -705.50118996]\n",
            " [-249.27269578 -506.47817292]\n",
            " [-149.84711527 -296.50169216]\n",
            " [ -55.78101163 -107.35955158]\n",
            " [  50.5809602   102.35555505]\n",
            " [ 163.53942837  319.9373562 ]\n",
            " [ 253.90426113  505.72743755]\n",
            " [ 350.38960344  701.73715635]\n",
            " [ 439.49605852  877.60504497]]\n",
            "Mean vector:  (549.8405877477815, 1100.0159632811472)\n"
          ],
          "name": "stdout"
        }
      ]
    },
    {
      "cell_type": "code",
      "metadata": {
        "colab": {
          "base_uri": "https://localhost:8080/"
        },
        "id": "QvYJw9yDrsZv",
        "outputId": "20fdc8a3-c36a-4343-813d-534607133542"
      },
      "source": [
        "covmat = np.cov(Xcentered) \n",
        "print('Матрица коваиации')\n",
        "print(covmat, \"\\n\")\n",
        "print(\"Variance of X: \", np.cov(Xcentered)[0,0])\n",
        "print(\"Variance of Y: \", np.cov(Xcentered)[1,1])\n",
        "print(\"Covariance X and Y: \", np.cov(Xcentered)[0,1])"
      ],
      "execution_count": null,
      "outputs": [
        {
          "output_type": "stream",
          "text": [
            "Матрица коваиации\n",
            "[[ 91632.34577827 182728.6928815 ]\n",
            " [182728.6928815  364413.91504294]] \n",
            "\n",
            "Variance of X:  91632.34577827255\n",
            "Variance of Y:  364413.91504293657\n",
            "Covariance X and Y:  182728.69288149814\n"
          ],
          "name": "stdout"
        }
      ]
    },
    {
      "cell_type": "code",
      "metadata": {
        "colab": {
          "base_uri": "https://localhost:8080/"
        },
        "id": "gSEMfCEvrsZw",
        "outputId": "4bcccb15-bce1-4b66-9d09-c334944440c1"
      },
      "source": [
        "le, vecs = np.linalg.eig(covmat)\n",
        "v = vecs[:,1]\n",
        "Xnew = np.dot(np.transpose(Xcentered), v)\n",
        "print(f'Матрица собственных векторов:\\n{vecs}\\n Собственные числа:\\n{le}')\n",
        "print(\"\".join(['\\n']+[\"-\" for x in range(30)]))\n",
        "print(f'Так как второе собственное число гораздо больше первого,\\nто для преобразования берем второй вектор:\\n{v}')\n",
        "print(\"\".join(['\\n']+[\"-\" for x in range(30)]))\n",
        "print(f'Преобразованные данные:\\n {np.transpose(Xnew).reshape(-1,1)}')"
      ],
      "execution_count": null,
      "outputs": [
        {
          "output_type": "stream",
          "text": [
            "Матрица собственных векторов:\n",
            "[[-0.89391216 -0.44824218]\n",
            " [ 0.44824218 -0.89391216]]\n",
            " Собственные числа:\n",
            "[5.10188039e+00 4.56041159e+05]\n",
            "\n",
            "------------------------------\n",
            "Так как второе собственное число гораздо больше первого,\n",
            "то для преобразования берем второй вектор:\n",
            "[-0.44824218 -0.89391216]\n",
            "\n",
            "------------------------------\n",
            "Преобразованные данные:\n",
            " [[ 999.04572331]\n",
            " [ 788.49539785]\n",
            " [ 564.48153363]\n",
            " [ 332.21426541]\n",
            " [ 120.9734108 ]\n",
            " [-114.16939507]\n",
            " [-359.30116272]\n",
            " [-565.8865051 ]\n",
            " [-784.35077621]\n",
            " [-981.5024919 ]]\n"
          ],
          "name": "stdout"
        }
      ]
    },
    {
      "cell_type": "code",
      "metadata": {
        "colab": {
          "base_uri": "https://localhost:8080/",
          "height": 147
        },
        "id": "D5BZnQwDLeWQ",
        "outputId": "6c3ae8c7-571c-4ebc-dc1a-f9c424af7637"
      },
      "source": [
        "print( 'Как видно, матрица корреляции диагональна\\nи корреляция между признаками практически равна нулю')\n",
        "pd.DataFrame(np.dot(np.transpose(Xcentered), vecs)).corr()"
      ],
      "execution_count": null,
      "outputs": [
        {
          "output_type": "stream",
          "text": [
            "Как видно, матрица корреляции диагональна\n",
            "и корреляция между признаками практически равна нулю\n"
          ],
          "name": "stdout"
        },
        {
          "output_type": "execute_result",
          "data": {
            "text/html": [
              "<div>\n",
              "<style scoped>\n",
              "    .dataframe tbody tr th:only-of-type {\n",
              "        vertical-align: middle;\n",
              "    }\n",
              "\n",
              "    .dataframe tbody tr th {\n",
              "        vertical-align: top;\n",
              "    }\n",
              "\n",
              "    .dataframe thead th {\n",
              "        text-align: right;\n",
              "    }\n",
              "</style>\n",
              "<table border=\"1\" class=\"dataframe\">\n",
              "  <thead>\n",
              "    <tr style=\"text-align: right;\">\n",
              "      <th></th>\n",
              "      <th>0</th>\n",
              "      <th>1</th>\n",
              "    </tr>\n",
              "  </thead>\n",
              "  <tbody>\n",
              "    <tr>\n",
              "      <th>0</th>\n",
              "      <td>1.000000e+00</td>\n",
              "      <td>8.985252e-16</td>\n",
              "    </tr>\n",
              "    <tr>\n",
              "      <th>1</th>\n",
              "      <td>8.985252e-16</td>\n",
              "      <td>1.000000e+00</td>\n",
              "    </tr>\n",
              "  </tbody>\n",
              "</table>\n",
              "</div>"
            ],
            "text/plain": [
              "              0             1\n",
              "0  1.000000e+00  8.985252e-16\n",
              "1  8.985252e-16  1.000000e+00"
            ]
          },
          "metadata": {
            "tags": []
          },
          "execution_count": 8
        }
      ]
    },
    {
      "cell_type": "code",
      "metadata": {
        "colab": {
          "base_uri": "https://localhost:8080/"
        },
        "id": "ZJVyFnmXrsZx",
        "outputId": "f6b43951-9433-419e-b6b7-4cc2c5159df2"
      },
      "source": [
        "print('Восстановим элементы')\n",
        "_= [print('Restored: ', (np.dot(Xnew[i],v) + m),': original: ', X[:,i]) for i in range(len(Xnew))]"
      ],
      "execution_count": null,
      "outputs": [
        {
          "output_type": "stream",
          "text": [
            "Восстановим элементы\n",
            "Restored:  [102.0261558  206.95684329] : original:  [ 98.96062377 208.49401978]\n",
            "Restored:  [196.40369248 395.17033941] : original:  [197.71106274 394.51477332]\n",
            "Restored:  [296.8161551  595.41905654] : original:  [300.56789197 593.53779036]\n",
            "Restored:  [400.92814152 803.04559186] : original:  [399.99347248 803.51427112]\n",
            "Restored:  [495.61520249 991.87636039] : original:  [494.05957612 992.6564117 ]\n",
            "Restored:  [ 601.01612617 1202.07337378] : original:  [ 600.42154795 1202.37151833]\n",
            "Restored:  [ 710.89452385 1421.19964157] : original:  [ 713.38001612 1419.95331948]\n",
            "Restored:  [ 803.49478787 1605.86879111] : original:  [ 803.74484888 1605.74340083]\n",
            "Restored:  [ 901.41968878 1801.15665947] : original:  [ 900.23019119 1801.75311964]\n",
            "Restored:  [ 989.79140342 1977.3929754 ] : original:  [ 989.33664626 1977.62100825]\n"
          ],
          "name": "stdout"
        }
      ]
    },
    {
      "cell_type": "code",
      "metadata": {
        "id": "V0KZJ1xKrsZy"
      },
      "source": [
        "from sklearn.decomposition import PCA\n",
        "\n",
        "pca = PCA(n_components = 1)\n",
        "XPCAreduced = pca.fit_transform(X.T)"
      ],
      "execution_count": null,
      "outputs": []
    },
    {
      "cell_type": "code",
      "metadata": {
        "colab": {
          "base_uri": "https://localhost:8080/"
        },
        "id": "yeRfOamQ2unV",
        "outputId": "782b46fe-2d7f-4417-f8a4-256ffafcdcc6"
      },
      "source": [
        "XPCAreduced"
      ],
      "execution_count": null,
      "outputs": [
        {
          "output_type": "execute_result",
          "data": {
            "text/plain": [
              "array([[ 999.04572331],\n",
              "       [ 788.49539785],\n",
              "       [ 564.48153363],\n",
              "       [ 332.21426541],\n",
              "       [ 120.9734108 ],\n",
              "       [-114.16939507],\n",
              "       [-359.30116272],\n",
              "       [-565.8865051 ],\n",
              "       [-784.35077621],\n",
              "       [-981.5024919 ]])"
            ]
          },
          "metadata": {
            "tags": []
          },
          "execution_count": 11
        }
      ]
    },
    {
      "cell_type": "code",
      "metadata": {
        "id": "sGMjmlh1jigE"
      },
      "source": [
        "#Обратите внимание что при использовании PCA собственный вектор \n",
        "#используется со знаком минус этот момент разрешен так как любая \n",
        "#линейная комбинация собственных векторов x1, x2, ..., xm, \n",
        "#отвечающих одному и тому же собственному числу λ, является собственным \n",
        "#вектором с тем же собственным числом."
      ],
      "execution_count": null,
      "outputs": []
    },
    {
      "cell_type": "code",
      "metadata": {
        "colab": {
          "base_uri": "https://localhost:8080/"
        },
        "id": "ZIDaiPNlrsZy",
        "outputId": "3809cac4-d32c-4a17-8fa8-ae020ccaf0de"
      },
      "source": [
        "for xn, x_pca in zip(Xnew, XPCAreduced):\n",
        "    print(np.abs(xn), '-', np.abs(x_pca[0]), '=', np.abs(xn) - np.abs(x_pca[0]))"
      ],
      "execution_count": null,
      "outputs": [
        {
          "output_type": "stream",
          "text": [
            "999.0457233085742 - 999.0457233085751 = -9.094947017729282e-13\n",
            "788.4953978474407 - 788.4953978474409 = -2.2737367544323206e-13\n",
            "564.4815336336583 - 564.4815336336583 = 0.0\n",
            "332.21426540882067 - 332.21426540882067 = 0.0\n",
            "120.97341080183106 - 120.9734108018311 = -2.842170943040401e-14\n",
            "114.16939507065294 - 114.16939507065298 = -4.263256414560601e-14\n",
            "359.3011627197791 - 359.3011627197793 = -2.2737367544323206e-13\n",
            "565.8865051008843 - 565.8865051008845 = -2.2737367544323206e-13\n",
            "784.3507762075482 - 784.3507762075485 = -3.410605131648481e-13\n",
            "981.5024919014594 - 981.5024919014598 = -4.547473508864641e-13\n"
          ],
          "name": "stdout"
        }
      ]
    },
    {
      "cell_type": "code",
      "metadata": {
        "colab": {
          "base_uri": "https://localhost:8080/"
        },
        "id": "DKA92G8_vzrh",
        "outputId": "0a4107f7-6270-4080-b725-6d1c0a559258"
      },
      "source": [
        "pca.inverse_transform(XPCAreduced)"
      ],
      "execution_count": null,
      "outputs": [
        {
          "output_type": "execute_result",
          "data": {
            "text/plain": [
              "array([[ 102.0261558 ,  206.95684329],\n",
              "       [ 196.40369248,  395.17033941],\n",
              "       [ 296.8161551 ,  595.41905654],\n",
              "       [ 400.92814152,  803.04559186],\n",
              "       [ 495.61520249,  991.87636039],\n",
              "       [ 601.01612617, 1202.07337378],\n",
              "       [ 710.89452385, 1421.19964157],\n",
              "       [ 803.49478787, 1605.86879111],\n",
              "       [ 901.41968878, 1801.15665947],\n",
              "       [ 989.79140342, 1977.3929754 ]])"
            ]
          },
          "metadata": {
            "tags": []
          },
          "execution_count": 14
        }
      ]
    },
    {
      "cell_type": "code",
      "metadata": {
        "colab": {
          "base_uri": "https://localhost:8080/"
        },
        "id": "mbO19Uwlv5DW",
        "outputId": "2b6b9560-c5f3-4075-e5cb-6721c04c1306"
      },
      "source": [
        "print('Восстановим элементы')\n",
        "_= [print('Restored: ', (pca.inverse_transform(XPCAreduced)[i]),': original: ', X[:,i]) for i in range(len(Xnew))]"
      ],
      "execution_count": null,
      "outputs": [
        {
          "output_type": "stream",
          "text": [
            "Восстановим элементы\n",
            "Restored:  [102.0261558  206.95684329] : original:  [ 98.96062377 208.49401978]\n",
            "Restored:  [196.40369248 395.17033941] : original:  [197.71106274 394.51477332]\n",
            "Restored:  [296.8161551  595.41905654] : original:  [300.56789197 593.53779036]\n",
            "Restored:  [400.92814152 803.04559186] : original:  [399.99347248 803.51427112]\n",
            "Restored:  [495.61520249 991.87636039] : original:  [494.05957612 992.6564117 ]\n",
            "Restored:  [ 601.01612617 1202.07337378] : original:  [ 600.42154795 1202.37151833]\n",
            "Restored:  [ 710.89452385 1421.19964157] : original:  [ 713.38001612 1419.95331948]\n",
            "Restored:  [ 803.49478787 1605.86879111] : original:  [ 803.74484888 1605.74340083]\n",
            "Restored:  [ 901.41968878 1801.15665947] : original:  [ 900.23019119 1801.75311964]\n",
            "Restored:  [ 989.79140342 1977.3929754 ] : original:  [ 989.33664626 1977.62100825]\n"
          ],
          "name": "stdout"
        }
      ]
    },
    {
      "cell_type": "code",
      "metadata": {
        "id": "C6jyIfmGNcng",
        "colab": {
          "base_uri": "https://localhost:8080/"
        },
        "outputId": "993300a7-720f-4de6-9427-fd86100098de"
      },
      "source": [
        "pca.explained_variance_ratio_"
      ],
      "execution_count": null,
      "outputs": [
        {
          "output_type": "execute_result",
          "data": {
            "text/plain": [
              "array([0.99998881])"
            ]
          },
          "metadata": {
            "tags": []
          },
          "execution_count": 17
        }
      ]
    },
    {
      "cell_type": "code",
      "metadata": {
        "id": "1qpuDaVF4Oov"
      },
      "source": [
        ""
      ],
      "execution_count": null,
      "outputs": []
    }
  ]
}