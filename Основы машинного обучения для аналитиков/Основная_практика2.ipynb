{
  "nbformat": 4,
  "nbformat_minor": 0,
  "metadata": {
    "kernelspec": {
      "display_name": "Python 3",
      "language": "python",
      "name": "python3"
    },
    "language_info": {
      "codemirror_mode": {
        "name": "ipython",
        "version": 3
      },
      "file_extension": ".py",
      "mimetype": "text/x-python",
      "name": "python",
      "nbconvert_exporter": "python",
      "pygments_lexer": "ipython3",
      "version": "3.7.6"
    },
    "colab": {
      "name": "Основная практика2.ipynb",
      "provenance": [],
      "collapsed_sections": []
    }
  },
  "cells": [
    {
      "cell_type": "code",
      "metadata": {
        "id": "2vsEyCovznsR"
      },
      "source": [
        "import pandas as pd\n",
        "import numpy as np\n",
        "import seaborn as sns\n",
        " \n",
        "from matplotlib import pyplot as plt\n",
        " \n",
        "from sklearn.linear_model import LinearRegression\n",
        "from sklearn.model_selection import train_test_split"
      ],
      "execution_count": 1,
      "outputs": []
    },
    {
      "cell_type": "code",
      "metadata": {
        "id": "d-T-PPpZcFzy"
      },
      "source": [
        ""
      ],
      "execution_count": null,
      "outputs": []
    },
    {
      "cell_type": "code",
      "metadata": {
        "colab": {
          "base_uri": "https://localhost:8080/",
          "height": 513
        },
        "id": "V_iM1Fz5znsf",
        "outputId": "cfbb0673-f4b8-445b-e311-68ba554cbcfb"
      },
      "source": [
        "data = pd.read_csv('data/final_data.csv', delimiter=';')\n",
        "data.head(5)"
      ],
      "execution_count": 30,
      "outputs": [
        {
          "output_type": "execute_result",
          "data": {
            "text/html": [
              "<div>\n",
              "<style scoped>\n",
              "    .dataframe tbody tr th:only-of-type {\n",
              "        vertical-align: middle;\n",
              "    }\n",
              "\n",
              "    .dataframe tbody tr th {\n",
              "        vertical-align: top;\n",
              "    }\n",
              "\n",
              "    .dataframe thead th {\n",
              "        text-align: right;\n",
              "    }\n",
              "</style>\n",
              "<table border=\"1\" class=\"dataframe\">\n",
              "  <thead>\n",
              "    <tr style=\"text-align: right;\">\n",
              "      <th></th>\n",
              "      <th>Unnamed: 0</th>\n",
              "      <th>address</th>\n",
              "      <th>z_address</th>\n",
              "      <th>bathrooms</th>\n",
              "      <th>bedrooms</th>\n",
              "      <th>finishedsqft</th>\n",
              "      <th>lastsolddate</th>\n",
              "      <th>lastsoldprice</th>\n",
              "      <th>latitude</th>\n",
              "      <th>longitude</th>\n",
              "      <th>neighborhood</th>\n",
              "      <th>totalrooms</th>\n",
              "      <th>usecode</th>\n",
              "      <th>yearbuilt</th>\n",
              "      <th>zestimate</th>\n",
              "      <th>zindexvalue</th>\n",
              "      <th>zipcode</th>\n",
              "      <th>zpid</th>\n",
              "    </tr>\n",
              "  </thead>\n",
              "  <tbody>\n",
              "    <tr>\n",
              "      <th>0</th>\n",
              "      <td>2</td>\n",
              "      <td>Address: 1160 Mission Street #2007</td>\n",
              "      <td>1160 Mission St UNIT 2007</td>\n",
              "      <td>2.0</td>\n",
              "      <td>2.0</td>\n",
              "      <td>1043.0</td>\n",
              "      <td>02/17/2016</td>\n",
              "      <td>1300000.0</td>\n",
              "      <td>37.778705</td>\n",
              "      <td>-122.412635</td>\n",
              "      <td>South of Market</td>\n",
              "      <td>4.0</td>\n",
              "      <td>Condominium</td>\n",
              "      <td>2007.0</td>\n",
              "      <td>1167508.0</td>\n",
              "      <td>975,700</td>\n",
              "      <td>94103.0</td>\n",
              "      <td>83152781.0</td>\n",
              "    </tr>\n",
              "    <tr>\n",
              "      <th>1</th>\n",
              "      <td>5</td>\n",
              "      <td>Address: 260 King Street #475</td>\n",
              "      <td>260 King St UNIT 475</td>\n",
              "      <td>1.0</td>\n",
              "      <td>1.0</td>\n",
              "      <td>903.0</td>\n",
              "      <td>02/17/2016</td>\n",
              "      <td>750000.0</td>\n",
              "      <td>37.777641</td>\n",
              "      <td>-122.393417</td>\n",
              "      <td>South of Market</td>\n",
              "      <td>3.0</td>\n",
              "      <td>Condominium</td>\n",
              "      <td>2004.0</td>\n",
              "      <td>823719.0</td>\n",
              "      <td>975,700</td>\n",
              "      <td>94107.0</td>\n",
              "      <td>69819817.0</td>\n",
              "    </tr>\n",
              "    <tr>\n",
              "      <th>2</th>\n",
              "      <td>7</td>\n",
              "      <td>Address: 560 Missouri Street #B</td>\n",
              "      <td>560 Missouri St # B</td>\n",
              "      <td>4.0</td>\n",
              "      <td>3.0</td>\n",
              "      <td>1425.0</td>\n",
              "      <td>02/17/2016</td>\n",
              "      <td>1495000.0</td>\n",
              "      <td>37.759198</td>\n",
              "      <td>-122.396516</td>\n",
              "      <td>Potrero Hill</td>\n",
              "      <td>6.0</td>\n",
              "      <td>Condominium</td>\n",
              "      <td>2003.0</td>\n",
              "      <td>1708594.0</td>\n",
              "      <td>1,277,600</td>\n",
              "      <td>94107.0</td>\n",
              "      <td>64972847.0</td>\n",
              "    </tr>\n",
              "    <tr>\n",
              "      <th>3</th>\n",
              "      <td>9</td>\n",
              "      <td>Address: 350 Missouri Street</td>\n",
              "      <td>350 Missouri St</td>\n",
              "      <td>3.0</td>\n",
              "      <td>3.0</td>\n",
              "      <td>2231.0</td>\n",
              "      <td>02/17/2016</td>\n",
              "      <td>2700000.0</td>\n",
              "      <td>37.761886</td>\n",
              "      <td>-122.396769</td>\n",
              "      <td>Potrero Hill</td>\n",
              "      <td>10.0</td>\n",
              "      <td>SingleFamily</td>\n",
              "      <td>1927.0</td>\n",
              "      <td>2411236.0</td>\n",
              "      <td>1,277,600</td>\n",
              "      <td>94107.0</td>\n",
              "      <td>15149489.0</td>\n",
              "    </tr>\n",
              "    <tr>\n",
              "      <th>4</th>\n",
              "      <td>11</td>\n",
              "      <td>Address: 3658 Folsom Street</td>\n",
              "      <td>3658 Folsom St</td>\n",
              "      <td>3.0</td>\n",
              "      <td>3.0</td>\n",
              "      <td>1300.0</td>\n",
              "      <td>02/17/2016</td>\n",
              "      <td>1530000.0</td>\n",
              "      <td>37.740795</td>\n",
              "      <td>-122.413453</td>\n",
              "      <td>Bernal Heights</td>\n",
              "      <td>4.0</td>\n",
              "      <td>SingleFamily</td>\n",
              "      <td>1900.0</td>\n",
              "      <td>1918539.0</td>\n",
              "      <td>1,248,000</td>\n",
              "      <td>94110.0</td>\n",
              "      <td>15161978.0</td>\n",
              "    </tr>\n",
              "  </tbody>\n",
              "</table>\n",
              "</div>"
            ],
            "text/plain": [
              "   Unnamed: 0                             address  ...  zipcode        zpid\n",
              "0           2  Address: 1160 Mission Street #2007  ...  94103.0  83152781.0\n",
              "1           5       Address: 260 King Street #475  ...  94107.0  69819817.0\n",
              "2           7     Address: 560 Missouri Street #B  ...  94107.0  64972847.0\n",
              "3           9        Address: 350 Missouri Street  ...  94107.0  15149489.0\n",
              "4          11         Address: 3658 Folsom Street  ...  94110.0  15161978.0\n",
              "\n",
              "[5 rows x 18 columns]"
            ]
          },
          "metadata": {
            "tags": []
          },
          "execution_count": 30
        }
      ]
    },
    {
      "cell_type": "code",
      "metadata": {
        "colab": {
          "base_uri": "https://localhost:8080/"
        },
        "id": "3fuLjhvhDX8w",
        "outputId": "f7ffbca6-2ed9-4966-8e33-85684231d326"
      },
      "source": [
        "data.shape"
      ],
      "execution_count": 10,
      "outputs": [
        {
          "output_type": "execute_result",
          "data": {
            "text/plain": [
              "(11330, 18)"
            ]
          },
          "metadata": {
            "tags": []
          },
          "execution_count": 10
        }
      ]
    },
    {
      "cell_type": "markdown",
      "metadata": {
        "id": "hU9uKGEWXrkI"
      },
      "source": [
        "Будем использовать линейную регрессию для тестирования качества данных"
      ]
    },
    {
      "cell_type": "code",
      "metadata": {
        "id": "t21sSt0xznsg"
      },
      "source": [
        "def get_score(X,y, random_seed=42, model=None):\n",
        "  if model is None:\n",
        "    model = LinearRegression()\n",
        "  X_train, X_test, y_train, y_test = train_test_split(X, y, test_size=0.3, random_state=random_seed )  \n",
        "  model.fit(X_train, y_train)\n",
        "  return model.score(X_test, y_test)"
      ],
      "execution_count": 11,
      "outputs": []
    },
    {
      "cell_type": "markdown",
      "metadata": {
        "id": "Cm-WcvMQZCHL"
      },
      "source": [
        "Для поиска выбросов будем использовать boxplot"
      ]
    },
    {
      "cell_type": "code",
      "metadata": {
        "id": "CDP2Zn9P1I8N"
      },
      "source": [
        "def get_boxplot(X, columns=[]):\n",
        "  for i in columns:\n",
        "    sns.boxplot(x=X[i])\n",
        "  pass  \n",
        "\n",
        "def get_pairplot(X, columns=None):\n",
        "  if columns is None:\n",
        "    columns = list(X.columns)\n",
        "  sns.pairplot(X[columns])\n",
        "  pass    "
      ],
      "execution_count": 12,
      "outputs": []
    },
    {
      "cell_type": "markdown",
      "metadata": {
        "id": "0YOcCBI_Zwqt"
      },
      "source": [
        "Для заполнения пропущенных значений будем использовать стандартные способы\n",
        "- заполнение значением\n",
        "- max\n",
        "- min\n",
        "- mode\n",
        "- median\n",
        "- mean\n",
        "- метод индикатора\n",
        "- линейная регрессия"
      ]
    },
    {
      "cell_type": "code",
      "metadata": {
        "id": "K3xjIkzBM2gk"
      },
      "source": [
        "def get_value(X, column, mode='mean', value=0, columns_for_reg=None):\n",
        "  if mode == 'value':\n",
        "    X.loc[X[X[column].isna()].index ,column] = value\n",
        "  elif mode == 'max':\n",
        "    X.loc[X[X[column].isna()].index ,column] = X[column].max()\n",
        "  elif mode == 'min':\n",
        "    X.loc[X[X[column].isna()].index ,column] = X[column].min()\n",
        "  elif mode == 'median':\n",
        "    X.loc[X[X[column].isna()].index ,column] = X[column].median()    \n",
        "  elif mode == 'mode':\n",
        "    X.loc[X[X[column].isna()].index, column] = X[column].mode()[0]  \n",
        "  elif mode == 'indicator':\n",
        "    X.loc[X[X[column].isna()].index, column] = 0\n",
        "    X['ind_'+str(column)] = 0\n",
        "    X.loc[X[X[column].isna()].index, 'ind_'+str(column)] = 1\n",
        "  elif mode == 'linreg':\n",
        "    if columns_for_reg is None:\n",
        "      cols = list(X.select_dtypes([np.number]).columns) \n",
        "      cols.remove(column)\n",
        "    else:\n",
        "      cols = columns_for_reg\n",
        "    X_tmp = X.dropna()  \n",
        "    m = LinearRegression().fit(X_tmp[cols], X_tmp[column])\n",
        "    X.loc[X[X[column].isna()].index, column] = m.predict(X[X[column].isna()][cols])\n",
        "  else:\n",
        "    X.loc[X[X[column].isna()].index, column] = X[column].mean()\n",
        "  return X  \n"
      ],
      "execution_count": 13,
      "outputs": []
    },
    {
      "cell_type": "code",
      "metadata": {
        "colab": {
          "base_uri": "https://localhost:8080/"
        },
        "id": "mU2z8CFpznsg",
        "outputId": "bc0a75d0-3b41-4195-da68-838a98af9541"
      },
      "source": [
        "data.info()"
      ],
      "execution_count": 20,
      "outputs": [
        {
          "output_type": "stream",
          "text": [
            "<class 'pandas.core.frame.DataFrame'>\n",
            "RangeIndex: 11330 entries, 0 to 11329\n",
            "Data columns (total 18 columns):\n",
            " #   Column         Non-Null Count  Dtype  \n",
            "---  ------         --------------  -----  \n",
            " 0   Unnamed: 0     11330 non-null  int64  \n",
            " 1   address        11330 non-null  object \n",
            " 2   z_address      11330 non-null  object \n",
            " 3   bathrooms      11330 non-null  float64\n",
            " 4   bedrooms       11330 non-null  float64\n",
            " 5   finishedsqft   11330 non-null  float64\n",
            " 6   lastsolddate   11330 non-null  object \n",
            " 7   lastsoldprice  11330 non-null  float64\n",
            " 8   latitude       11315 non-null  float64\n",
            " 9   longitude      11315 non-null  float64\n",
            " 10  neighborhood   11330 non-null  object \n",
            " 11  totalrooms     11281 non-null  float64\n",
            " 12  usecode        11290 non-null  object \n",
            " 13  yearbuilt      11330 non-null  float64\n",
            " 14  zestimate      11330 non-null  float64\n",
            " 15  zindexvalue    11330 non-null  object \n",
            " 16  zipcode        11330 non-null  float64\n",
            " 17  zpid           11330 non-null  float64\n",
            "dtypes: float64(11), int64(1), object(6)\n",
            "memory usage: 1.6+ MB\n"
          ],
          "name": "stdout"
        }
      ]
    },
    {
      "cell_type": "code",
      "metadata": {
        "colab": {
          "base_uri": "https://localhost:8080/",
          "height": 317
        },
        "id": "zuEloCeeJakc",
        "outputId": "e0e1b70c-c2d7-42a8-8d96-d0e47aed52c1"
      },
      "source": [
        "data.describe()"
      ],
      "execution_count": 15,
      "outputs": [
        {
          "output_type": "execute_result",
          "data": {
            "text/html": [
              "<div>\n",
              "<style scoped>\n",
              "    .dataframe tbody tr th:only-of-type {\n",
              "        vertical-align: middle;\n",
              "    }\n",
              "\n",
              "    .dataframe tbody tr th {\n",
              "        vertical-align: top;\n",
              "    }\n",
              "\n",
              "    .dataframe thead th {\n",
              "        text-align: right;\n",
              "    }\n",
              "</style>\n",
              "<table border=\"1\" class=\"dataframe\">\n",
              "  <thead>\n",
              "    <tr style=\"text-align: right;\">\n",
              "      <th></th>\n",
              "      <th>Unnamed: 0</th>\n",
              "      <th>bathrooms</th>\n",
              "      <th>bedrooms</th>\n",
              "      <th>finishedsqft</th>\n",
              "      <th>lastsoldprice</th>\n",
              "      <th>latitude</th>\n",
              "      <th>longitude</th>\n",
              "      <th>totalrooms</th>\n",
              "      <th>yearbuilt</th>\n",
              "      <th>zestimate</th>\n",
              "      <th>zipcode</th>\n",
              "      <th>zpid</th>\n",
              "    </tr>\n",
              "  </thead>\n",
              "  <tbody>\n",
              "    <tr>\n",
              "      <th>count</th>\n",
              "      <td>11330.000000</td>\n",
              "      <td>11330.000000</td>\n",
              "      <td>11330.000000</td>\n",
              "      <td>11211.000000</td>\n",
              "      <td>1.133000e+04</td>\n",
              "      <td>11315.000000</td>\n",
              "      <td>11315.000000</td>\n",
              "      <td>11281.000000</td>\n",
              "      <td>11330.000000</td>\n",
              "      <td>1.133000e+04</td>\n",
              "      <td>11330.000000</td>\n",
              "      <td>1.133000e+04</td>\n",
              "    </tr>\n",
              "    <tr>\n",
              "      <th>mean</th>\n",
              "      <td>9171.729214</td>\n",
              "      <td>1.980229</td>\n",
              "      <td>2.614475</td>\n",
              "      <td>1586.081349</td>\n",
              "      <td>1.263928e+06</td>\n",
              "      <td>37.759715</td>\n",
              "      <td>-122.436508</td>\n",
              "      <td>6.113997</td>\n",
              "      <td>1948.498147</td>\n",
              "      <td>1.565695e+06</td>\n",
              "      <td>94116.912004</td>\n",
              "      <td>3.689973e+07</td>\n",
              "    </tr>\n",
              "    <tr>\n",
              "      <th>std</th>\n",
              "      <td>4921.941074</td>\n",
              "      <td>1.047358</td>\n",
              "      <td>1.299457</td>\n",
              "      <td>922.815803</td>\n",
              "      <td>1.042079e+06</td>\n",
              "      <td>0.025583</td>\n",
              "      <td>0.030742</td>\n",
              "      <td>12.151195</td>\n",
              "      <td>37.911196</td>\n",
              "      <td>1.229417e+06</td>\n",
              "      <td>9.400877</td>\n",
              "      <td>7.800741e+07</td>\n",
              "    </tr>\n",
              "    <tr>\n",
              "      <th>min</th>\n",
              "      <td>2.000000</td>\n",
              "      <td>0.500000</td>\n",
              "      <td>0.000000</td>\n",
              "      <td>1.000000</td>\n",
              "      <td>5.350000e+02</td>\n",
              "      <td>37.708170</td>\n",
              "      <td>-122.510726</td>\n",
              "      <td>1.000000</td>\n",
              "      <td>1860.000000</td>\n",
              "      <td>4.323850e+05</td>\n",
              "      <td>94102.000000</td>\n",
              "      <td>1.506329e+07</td>\n",
              "    </tr>\n",
              "    <tr>\n",
              "      <th>25%</th>\n",
              "      <td>5039.750000</td>\n",
              "      <td>1.000000</td>\n",
              "      <td>2.000000</td>\n",
              "      <td>1019.000000</td>\n",
              "      <td>7.292500e+05</td>\n",
              "      <td>37.739284</td>\n",
              "      <td>-122.455149</td>\n",
              "      <td>4.000000</td>\n",
              "      <td>1916.000000</td>\n",
              "      <td>9.052375e+05</td>\n",
              "      <td>94110.000000</td>\n",
              "      <td>1.510847e+07</td>\n",
              "    </tr>\n",
              "    <tr>\n",
              "      <th>50%</th>\n",
              "      <td>9198.500000</td>\n",
              "      <td>2.000000</td>\n",
              "      <td>2.000000</td>\n",
              "      <td>1362.000000</td>\n",
              "      <td>9.900000e+05</td>\n",
              "      <td>37.760514</td>\n",
              "      <td>-122.432510</td>\n",
              "      <td>5.000000</td>\n",
              "      <td>1940.000000</td>\n",
              "      <td>1.230758e+06</td>\n",
              "      <td>94115.000000</td>\n",
              "      <td>1.515697e+07</td>\n",
              "    </tr>\n",
              "    <tr>\n",
              "      <th>75%</th>\n",
              "      <td>13374.750000</td>\n",
              "      <td>2.000000</td>\n",
              "      <td>3.000000</td>\n",
              "      <td>1878.000000</td>\n",
              "      <td>1.450000e+06</td>\n",
              "      <td>37.781386</td>\n",
              "      <td>-122.413353</td>\n",
              "      <td>7.000000</td>\n",
              "      <td>1986.000000</td>\n",
              "      <td>1.731170e+06</td>\n",
              "      <td>94123.000000</td>\n",
              "      <td>5.970040e+07</td>\n",
              "    </tr>\n",
              "    <tr>\n",
              "      <th>max</th>\n",
              "      <td>17632.000000</td>\n",
              "      <td>14.000000</td>\n",
              "      <td>20.000000</td>\n",
              "      <td>27275.000000</td>\n",
              "      <td>2.388900e+07</td>\n",
              "      <td>37.806083</td>\n",
              "      <td>-122.381201</td>\n",
              "      <td>1264.000000</td>\n",
              "      <td>2016.000000</td>\n",
              "      <td>1.553325e+07</td>\n",
              "      <td>94158.000000</td>\n",
              "      <td>2.146999e+09</td>\n",
              "    </tr>\n",
              "  </tbody>\n",
              "</table>\n",
              "</div>"
            ],
            "text/plain": [
              "         Unnamed: 0     bathrooms  ...       zipcode          zpid\n",
              "count  11330.000000  11330.000000  ...  11330.000000  1.133000e+04\n",
              "mean    9171.729214      1.980229  ...  94116.912004  3.689973e+07\n",
              "std     4921.941074      1.047358  ...      9.400877  7.800741e+07\n",
              "min        2.000000      0.500000  ...  94102.000000  1.506329e+07\n",
              "25%     5039.750000      1.000000  ...  94110.000000  1.510847e+07\n",
              "50%     9198.500000      2.000000  ...  94115.000000  1.515697e+07\n",
              "75%    13374.750000      2.000000  ...  94123.000000  5.970040e+07\n",
              "max    17632.000000     14.000000  ...  94158.000000  2.146999e+09\n",
              "\n",
              "[8 rows x 12 columns]"
            ]
          },
          "metadata": {
            "tags": []
          },
          "execution_count": 15
        }
      ]
    },
    {
      "cell_type": "code",
      "metadata": {
        "colab": {
          "base_uri": "https://localhost:8080/"
        },
        "id": "crXdpYFZnxNK",
        "outputId": "8c6c63df-4670-446e-b8b3-ed4a713ad45d"
      },
      "source": [
        "data.columns"
      ],
      "execution_count": 16,
      "outputs": [
        {
          "output_type": "execute_result",
          "data": {
            "text/plain": [
              "Index(['Unnamed: 0', 'address', 'z_address', 'bathrooms', 'bedrooms',\n",
              "       'finishedsqft', 'lastsolddate', 'lastsoldprice', 'latitude',\n",
              "       'longitude', 'neighborhood', 'totalrooms', 'usecode', 'yearbuilt',\n",
              "       'zestimate', 'zindexvalue', 'zipcode', 'zpid'],\n",
              "      dtype='object')"
            ]
          },
          "metadata": {
            "tags": []
          },
          "execution_count": 16
        }
      ]
    },
    {
      "cell_type": "code",
      "metadata": {
        "id": "IU353zxhn2SQ"
      },
      "source": [
        "cols = ['Unnamed: 0', 'bathrooms', 'bedrooms',\n",
        "       'finishedsqft', 'lastsoldprice', 'latitude',\n",
        "       'longitude', 'totalrooms','yearbuilt','zipcode']\n",
        "cols2 = ['Unnamed: 0', 'bathrooms', 'bedrooms',\n",
        "       'finishedsqft', 'latitude',\n",
        "       'longitude', 'totalrooms','yearbuilt','zipcode']"
      ],
      "execution_count": 17,
      "outputs": []
    },
    {
      "cell_type": "code",
      "metadata": {
        "colab": {
          "base_uri": "https://localhost:8080/"
        },
        "id": "sMgZOTNeELAP",
        "outputId": "104276c6-d42a-4d18-a00a-5034e84a2789"
      },
      "source": [
        "data.dropna().shape"
      ],
      "execution_count": 18,
      "outputs": [
        {
          "output_type": "execute_result",
          "data": {
            "text/plain": [
              "(11108, 18)"
            ]
          },
          "metadata": {
            "tags": []
          },
          "execution_count": 18
        }
      ]
    },
    {
      "cell_type": "code",
      "metadata": {
        "id": "vnBpj4NAw2ze"
      },
      "source": [
        "-             = 0.8375491685999106, 0.607156739569225\n",
        "finishedsqft  = 0.8524615199933394, 0.5577844171230759\n",
        "long and lat  = 0.8517111453083177, 0.6874289038247563\n",
        "totalrooms    = 0.8598254992362179, 0.6426676296618906"
      ],
      "execution_count": null,
      "outputs": []
    },
    {
      "cell_type": "code",
      "metadata": {
        "colab": {
          "base_uri": "https://localhost:8080/"
        },
        "id": "DgOW9Jilznsh",
        "outputId": "4ae56633-c449-4e12-85a4-ed1adf26e883"
      },
      "source": [
        "get_score(data.dropna()[cols], data.dropna()['zestimate'])"
      ],
      "execution_count": null,
      "outputs": [
        {
          "output_type": "execute_result",
          "data": {
            "text/plain": [
              "0.8598254992362179"
            ]
          },
          "metadata": {
            "tags": []
          },
          "execution_count": 157
        }
      ]
    },
    {
      "cell_type": "code",
      "metadata": {
        "colab": {
          "base_uri": "https://localhost:8080/"
        },
        "id": "XjQ-EFowc5Bk",
        "outputId": "3c81a93e-37fe-48f2-e48e-2fa4d17ab6b3"
      },
      "source": [
        "get_score(data.dropna()[cols2], data.dropna()['zestimate'])"
      ],
      "execution_count": null,
      "outputs": [
        {
          "output_type": "execute_result",
          "data": {
            "text/plain": [
              "0.6426676296618906"
            ]
          },
          "metadata": {
            "tags": []
          },
          "execution_count": 158
        }
      ]
    },
    {
      "cell_type": "code",
      "metadata": {
        "id": "fGfFK3uxqT5F"
      },
      "source": [
        "for_drop = ['Unnamed: 0', 'address', 'zindexvalue', 'zpid']\n",
        "target = ['zestimate']"
      ],
      "execution_count": null,
      "outputs": []
    },
    {
      "cell_type": "code",
      "metadata": {
        "id": "aT8RM7LZ4JM_"
      },
      "source": [
        "\n",
        "_ = get_value(data, 'finishedsqft', mode='linreg', value=0, columns_for_reg=['bathrooms', 'bedrooms', 'lastsoldprice','totalrooms'])"
      ],
      "execution_count": 31,
      "outputs": []
    },
    {
      "cell_type": "code",
      "metadata": {
        "colab": {
          "base_uri": "https://localhost:8080/"
        },
        "id": "Hrp4iLsYznsh",
        "outputId": "77821354-e190-4114-bdc7-91a312c3acaa"
      },
      "source": [
        "data['neighborhood'].value_counts()"
      ],
      "execution_count": null,
      "outputs": [
        {
          "output_type": "execute_result",
          "data": {
            "text/plain": [
              "Mission             540\n",
              "Bernal Heights      525\n",
              "South of Market     524\n",
              "South Beach         461\n",
              "Pacific Heights     439\n",
              "                   ... \n",
              "North Beach          31\n",
              "Lakeside             29\n",
              "Little Hollywood     12\n",
              "North Waterfront      8\n",
              "Daly City             3\n",
              "Name: neighborhood, Length: 71, dtype: int64"
            ]
          },
          "metadata": {
            "tags": []
          },
          "execution_count": 122
        }
      ]
    },
    {
      "cell_type": "code",
      "metadata": {
        "id": "laeSBIW1yTWG"
      },
      "source": [
        "for i, el in data[data['latitude'].isna()].iterrows():\n",
        "  data.loc[i, 'longitude'] = data[data['neighborhood'] == el['neighborhood']]['longitude'].mean()\n",
        "  data.loc[i, 'latitude'] = data[data['neighborhood'] == el['neighborhood']]['latitude'].mean()\n"
      ],
      "execution_count": 32,
      "outputs": []
    },
    {
      "cell_type": "code",
      "metadata": {
        "colab": {
          "base_uri": "https://localhost:8080/",
          "height": 932
        },
        "id": "c0ELqS-xzFIm",
        "outputId": "a219d4e8-6e62-4533-ed44-71e6efc441aa"
      },
      "source": [
        "data[data.totalrooms - (data.bedrooms + data.bathrooms) < 0]"
      ],
      "execution_count": 22,
      "outputs": [
        {
          "output_type": "execute_result",
          "data": {
            "text/html": [
              "<div>\n",
              "<style scoped>\n",
              "    .dataframe tbody tr th:only-of-type {\n",
              "        vertical-align: middle;\n",
              "    }\n",
              "\n",
              "    .dataframe tbody tr th {\n",
              "        vertical-align: top;\n",
              "    }\n",
              "\n",
              "    .dataframe thead th {\n",
              "        text-align: right;\n",
              "    }\n",
              "</style>\n",
              "<table border=\"1\" class=\"dataframe\">\n",
              "  <thead>\n",
              "    <tr style=\"text-align: right;\">\n",
              "      <th></th>\n",
              "      <th>Unnamed: 0</th>\n",
              "      <th>address</th>\n",
              "      <th>z_address</th>\n",
              "      <th>bathrooms</th>\n",
              "      <th>bedrooms</th>\n",
              "      <th>finishedsqft</th>\n",
              "      <th>lastsolddate</th>\n",
              "      <th>lastsoldprice</th>\n",
              "      <th>latitude</th>\n",
              "      <th>longitude</th>\n",
              "      <th>neighborhood</th>\n",
              "      <th>totalrooms</th>\n",
              "      <th>usecode</th>\n",
              "      <th>yearbuilt</th>\n",
              "      <th>zestimate</th>\n",
              "      <th>zindexvalue</th>\n",
              "      <th>zipcode</th>\n",
              "      <th>zpid</th>\n",
              "    </tr>\n",
              "  </thead>\n",
              "  <tbody>\n",
              "    <tr>\n",
              "      <th>2</th>\n",
              "      <td>7</td>\n",
              "      <td>Address: 560 Missouri Street #B</td>\n",
              "      <td>560 Missouri St # B</td>\n",
              "      <td>4.00</td>\n",
              "      <td>3.0</td>\n",
              "      <td>1425.0</td>\n",
              "      <td>02/17/2016</td>\n",
              "      <td>1495000.0</td>\n",
              "      <td>37.759198</td>\n",
              "      <td>-122.396516</td>\n",
              "      <td>Potrero Hill</td>\n",
              "      <td>6.0</td>\n",
              "      <td>Condominium</td>\n",
              "      <td>2003.0</td>\n",
              "      <td>1708594.0</td>\n",
              "      <td>1,277,600</td>\n",
              "      <td>94107.0</td>\n",
              "      <td>64972847.0</td>\n",
              "    </tr>\n",
              "    <tr>\n",
              "      <th>4</th>\n",
              "      <td>11</td>\n",
              "      <td>Address: 3658 Folsom Street</td>\n",
              "      <td>3658 Folsom St</td>\n",
              "      <td>3.00</td>\n",
              "      <td>3.0</td>\n",
              "      <td>1300.0</td>\n",
              "      <td>02/17/2016</td>\n",
              "      <td>1530000.0</td>\n",
              "      <td>37.740795</td>\n",
              "      <td>-122.413453</td>\n",
              "      <td>Bernal Heights</td>\n",
              "      <td>4.0</td>\n",
              "      <td>SingleFamily</td>\n",
              "      <td>1900.0</td>\n",
              "      <td>1918539.0</td>\n",
              "      <td>1,248,000</td>\n",
              "      <td>94110.0</td>\n",
              "      <td>15161978.0</td>\n",
              "    </tr>\n",
              "    <tr>\n",
              "      <th>39</th>\n",
              "      <td>74</td>\n",
              "      <td>Address: 2455 14th Avenue</td>\n",
              "      <td>2455 14th Ave</td>\n",
              "      <td>3.75</td>\n",
              "      <td>4.0</td>\n",
              "      <td>1846.0</td>\n",
              "      <td>02/10/2016</td>\n",
              "      <td>1525000.0</td>\n",
              "      <td>37.742271</td>\n",
              "      <td>-122.470518</td>\n",
              "      <td>West Portal</td>\n",
              "      <td>5.0</td>\n",
              "      <td>SingleFamily</td>\n",
              "      <td>1932.0</td>\n",
              "      <td>1195679.0</td>\n",
              "      <td>1,565,000</td>\n",
              "      <td>94116.0</td>\n",
              "      <td>15122857.0</td>\n",
              "    </tr>\n",
              "    <tr>\n",
              "      <th>46</th>\n",
              "      <td>93</td>\n",
              "      <td>Address: 784 Spruce Street</td>\n",
              "      <td>784-786 Spruce St</td>\n",
              "      <td>3.00</td>\n",
              "      <td>8.0</td>\n",
              "      <td>2600.0</td>\n",
              "      <td>02/09/2016</td>\n",
              "      <td>1535000.0</td>\n",
              "      <td>37.780606</td>\n",
              "      <td>-122.452663</td>\n",
              "      <td>Lone Mountain</td>\n",
              "      <td>10.0</td>\n",
              "      <td>MultiFamily2To4</td>\n",
              "      <td>1927.0</td>\n",
              "      <td>1524759.0</td>\n",
              "      <td>1,447,700</td>\n",
              "      <td>94118.0</td>\n",
              "      <td>15083824.0</td>\n",
              "    </tr>\n",
              "    <tr>\n",
              "      <th>60</th>\n",
              "      <td>121</td>\n",
              "      <td>Address: 2017 Buchanan Street</td>\n",
              "      <td>2017 Buchanan St</td>\n",
              "      <td>4.00</td>\n",
              "      <td>4.0</td>\n",
              "      <td>2850.0</td>\n",
              "      <td>02/05/2016</td>\n",
              "      <td>2800000.0</td>\n",
              "      <td>37.788913</td>\n",
              "      <td>-122.430728</td>\n",
              "      <td>Lower Pacific Heights</td>\n",
              "      <td>7.0</td>\n",
              "      <td>Condominium</td>\n",
              "      <td>1890.0</td>\n",
              "      <td>3032479.0</td>\n",
              "      <td>1,178,700</td>\n",
              "      <td>94115.0</td>\n",
              "      <td>21699068.0</td>\n",
              "    </tr>\n",
              "    <tr>\n",
              "      <th>...</th>\n",
              "      <td>...</td>\n",
              "      <td>...</td>\n",
              "      <td>...</td>\n",
              "      <td>...</td>\n",
              "      <td>...</td>\n",
              "      <td>...</td>\n",
              "      <td>...</td>\n",
              "      <td>...</td>\n",
              "      <td>...</td>\n",
              "      <td>...</td>\n",
              "      <td>...</td>\n",
              "      <td>...</td>\n",
              "      <td>...</td>\n",
              "      <td>...</td>\n",
              "      <td>...</td>\n",
              "      <td>...</td>\n",
              "      <td>...</td>\n",
              "      <td>...</td>\n",
              "    </tr>\n",
              "    <tr>\n",
              "      <th>11255</th>\n",
              "      <td>17466</td>\n",
              "      <td>Address: 560 Missouri Street #B</td>\n",
              "      <td>560 Missouri St # B</td>\n",
              "      <td>4.00</td>\n",
              "      <td>3.0</td>\n",
              "      <td>1425.0</td>\n",
              "      <td>02/17/2016</td>\n",
              "      <td>1495000.0</td>\n",
              "      <td>37.759198</td>\n",
              "      <td>-122.396516</td>\n",
              "      <td>Potrero Hill</td>\n",
              "      <td>6.0</td>\n",
              "      <td>Condominium</td>\n",
              "      <td>2003.0</td>\n",
              "      <td>1685676.0</td>\n",
              "      <td>1,264,000</td>\n",
              "      <td>94107.0</td>\n",
              "      <td>64972847.0</td>\n",
              "    </tr>\n",
              "    <tr>\n",
              "      <th>11257</th>\n",
              "      <td>17470</td>\n",
              "      <td>Address: 3658 Folsom Street</td>\n",
              "      <td>3658 Folsom St</td>\n",
              "      <td>3.00</td>\n",
              "      <td>3.0</td>\n",
              "      <td>1300.0</td>\n",
              "      <td>02/17/2016</td>\n",
              "      <td>1530000.0</td>\n",
              "      <td>37.740795</td>\n",
              "      <td>-122.413453</td>\n",
              "      <td>Bernal Heights</td>\n",
              "      <td>4.0</td>\n",
              "      <td>SingleFamily</td>\n",
              "      <td>1900.0</td>\n",
              "      <td>1899916.0</td>\n",
              "      <td>1,214,400</td>\n",
              "      <td>94110.0</td>\n",
              "      <td>15161978.0</td>\n",
              "    </tr>\n",
              "    <tr>\n",
              "      <th>11292</th>\n",
              "      <td>17533</td>\n",
              "      <td>Address: 2455 14th Avenue</td>\n",
              "      <td>2455 14th Ave</td>\n",
              "      <td>3.75</td>\n",
              "      <td>4.0</td>\n",
              "      <td>1846.0</td>\n",
              "      <td>02/10/2016</td>\n",
              "      <td>1525000.0</td>\n",
              "      <td>37.742271</td>\n",
              "      <td>-122.470518</td>\n",
              "      <td>West Portal</td>\n",
              "      <td>5.0</td>\n",
              "      <td>SingleFamily</td>\n",
              "      <td>1932.0</td>\n",
              "      <td>1228368.0</td>\n",
              "      <td>1,551,600</td>\n",
              "      <td>94116.0</td>\n",
              "      <td>15122857.0</td>\n",
              "    </tr>\n",
              "    <tr>\n",
              "      <th>11299</th>\n",
              "      <td>17552</td>\n",
              "      <td>Address: 784 Spruce Street</td>\n",
              "      <td>784-786 Spruce St</td>\n",
              "      <td>3.00</td>\n",
              "      <td>8.0</td>\n",
              "      <td>2600.0</td>\n",
              "      <td>02/09/2016</td>\n",
              "      <td>1535000.0</td>\n",
              "      <td>37.780606</td>\n",
              "      <td>-122.452663</td>\n",
              "      <td>Lone Mountain</td>\n",
              "      <td>10.0</td>\n",
              "      <td>MultiFamily2To4</td>\n",
              "      <td>1927.0</td>\n",
              "      <td>1760133.0</td>\n",
              "      <td>1,419,600</td>\n",
              "      <td>94118.0</td>\n",
              "      <td>15083824.0</td>\n",
              "    </tr>\n",
              "    <tr>\n",
              "      <th>11313</th>\n",
              "      <td>17580</td>\n",
              "      <td>Address: 2017 Buchanan Street</td>\n",
              "      <td>2017 Buchanan St</td>\n",
              "      <td>4.00</td>\n",
              "      <td>4.0</td>\n",
              "      <td>2850.0</td>\n",
              "      <td>02/05/2016</td>\n",
              "      <td>2800000.0</td>\n",
              "      <td>37.788913</td>\n",
              "      <td>-122.430728</td>\n",
              "      <td>Lower Pacific Heights</td>\n",
              "      <td>7.0</td>\n",
              "      <td>Condominium</td>\n",
              "      <td>1890.0</td>\n",
              "      <td>3052280.0</td>\n",
              "      <td>1,146,900</td>\n",
              "      <td>94115.0</td>\n",
              "      <td>21699068.0</td>\n",
              "    </tr>\n",
              "  </tbody>\n",
              "</table>\n",
              "<p>782 rows × 18 columns</p>\n",
              "</div>"
            ],
            "text/plain": [
              "       Unnamed: 0                          address  ...  zipcode        zpid\n",
              "2               7  Address: 560 Missouri Street #B  ...  94107.0  64972847.0\n",
              "4              11      Address: 3658 Folsom Street  ...  94110.0  15161978.0\n",
              "39             74        Address: 2455 14th Avenue  ...  94116.0  15122857.0\n",
              "46             93       Address: 784 Spruce Street  ...  94118.0  15083824.0\n",
              "60            121    Address: 2017 Buchanan Street  ...  94115.0  21699068.0\n",
              "...           ...                              ...  ...      ...         ...\n",
              "11255       17466  Address: 560 Missouri Street #B  ...  94107.0  64972847.0\n",
              "11257       17470      Address: 3658 Folsom Street  ...  94110.0  15161978.0\n",
              "11292       17533        Address: 2455 14th Avenue  ...  94116.0  15122857.0\n",
              "11299       17552       Address: 784 Spruce Street  ...  94118.0  15083824.0\n",
              "11313       17580    Address: 2017 Buchanan Street  ...  94115.0  21699068.0\n",
              "\n",
              "[782 rows x 18 columns]"
            ]
          },
          "metadata": {
            "tags": []
          },
          "execution_count": 22
        }
      ]
    },
    {
      "cell_type": "code",
      "metadata": {
        "colab": {
          "base_uri": "https://localhost:8080/"
        },
        "id": "5ujl-Leaznsi",
        "outputId": "59d294f5-ed5e-43e0-eaa6-2d2fe576181c"
      },
      "source": [
        "get_score(data.dropna()[['finishedsqft']], data.dropna()['zestimate'])"
      ],
      "execution_count": 28,
      "outputs": [
        {
          "output_type": "execute_result",
          "data": {
            "text/plain": [
              "0.5788785566874417"
            ]
          },
          "metadata": {
            "tags": []
          },
          "execution_count": 28
        }
      ]
    },
    {
      "cell_type": "code",
      "metadata": {
        "id": "b8yn3AhJEL9b"
      },
      "source": [
        "\n",
        "_ = get_value(data, 'totalrooms', mode='linreg', value=0, columns_for_reg=['bathrooms', 'bedrooms', 'lastsoldprice','finishedsqft'])"
      ],
      "execution_count": 33,
      "outputs": []
    },
    {
      "cell_type": "code",
      "metadata": {
        "id": "cY_roAEKEMAV"
      },
      "source": [
        "data['totalrooms'] = data['totalrooms'].apply(lambda x: round(x))"
      ],
      "execution_count": 34,
      "outputs": []
    },
    {
      "cell_type": "code",
      "metadata": {
        "colab": {
          "base_uri": "https://localhost:8080/"
        },
        "id": "bwzn254jEMD_",
        "outputId": "7ead5f79-17c4-43e5-a820-03ff0d8b53ca"
      },
      "source": [
        "data['usecode'].value_counts(dropna=False) "
      ],
      "execution_count": 35,
      "outputs": [
        {
          "output_type": "execute_result",
          "data": {
            "text/plain": [
              "SingleFamily        5785\n",
              "Condominium         4782\n",
              "MultiFamily2To4      484\n",
              "Duplex               146\n",
              "Townhouse             66\n",
              "NaN                   40\n",
              "Miscellaneous         17\n",
              "Apartment              3\n",
              "Cooperative            3\n",
              "Mobile                 2\n",
              "MultiFamily5Plus       2\n",
              "Name: usecode, dtype: int64"
            ]
          },
          "metadata": {
            "tags": []
          },
          "execution_count": 35
        }
      ]
    },
    {
      "cell_type": "code",
      "metadata": {
        "id": "Ns4cH5W5EMJw"
      },
      "source": [
        "_ = get_value(data, 'usecode', mode='value', value='other')"
      ],
      "execution_count": 36,
      "outputs": []
    },
    {
      "cell_type": "code",
      "metadata": {
        "id": "3FSC6k5fEMOg",
        "colab": {
          "base_uri": "https://localhost:8080/",
          "height": 267
        },
        "outputId": "79a0e164-5719-4fe6-a8cb-5af3426856bd"
      },
      "source": [
        "data.head(2)"
      ],
      "execution_count": 37,
      "outputs": [
        {
          "output_type": "execute_result",
          "data": {
            "text/html": [
              "<div>\n",
              "<style scoped>\n",
              "    .dataframe tbody tr th:only-of-type {\n",
              "        vertical-align: middle;\n",
              "    }\n",
              "\n",
              "    .dataframe tbody tr th {\n",
              "        vertical-align: top;\n",
              "    }\n",
              "\n",
              "    .dataframe thead th {\n",
              "        text-align: right;\n",
              "    }\n",
              "</style>\n",
              "<table border=\"1\" class=\"dataframe\">\n",
              "  <thead>\n",
              "    <tr style=\"text-align: right;\">\n",
              "      <th></th>\n",
              "      <th>Unnamed: 0</th>\n",
              "      <th>address</th>\n",
              "      <th>z_address</th>\n",
              "      <th>bathrooms</th>\n",
              "      <th>bedrooms</th>\n",
              "      <th>finishedsqft</th>\n",
              "      <th>lastsolddate</th>\n",
              "      <th>lastsoldprice</th>\n",
              "      <th>latitude</th>\n",
              "      <th>longitude</th>\n",
              "      <th>neighborhood</th>\n",
              "      <th>totalrooms</th>\n",
              "      <th>usecode</th>\n",
              "      <th>yearbuilt</th>\n",
              "      <th>zestimate</th>\n",
              "      <th>zindexvalue</th>\n",
              "      <th>zipcode</th>\n",
              "      <th>zpid</th>\n",
              "    </tr>\n",
              "  </thead>\n",
              "  <tbody>\n",
              "    <tr>\n",
              "      <th>0</th>\n",
              "      <td>2</td>\n",
              "      <td>Address: 1160 Mission Street #2007</td>\n",
              "      <td>1160 Mission St UNIT 2007</td>\n",
              "      <td>2.0</td>\n",
              "      <td>2.0</td>\n",
              "      <td>1043.0</td>\n",
              "      <td>02/17/2016</td>\n",
              "      <td>1300000.0</td>\n",
              "      <td>37.778705</td>\n",
              "      <td>-122.412635</td>\n",
              "      <td>South of Market</td>\n",
              "      <td>4</td>\n",
              "      <td>Condominium</td>\n",
              "      <td>2007.0</td>\n",
              "      <td>1167508.0</td>\n",
              "      <td>975,700</td>\n",
              "      <td>94103.0</td>\n",
              "      <td>83152781.0</td>\n",
              "    </tr>\n",
              "    <tr>\n",
              "      <th>1</th>\n",
              "      <td>5</td>\n",
              "      <td>Address: 260 King Street #475</td>\n",
              "      <td>260 King St UNIT 475</td>\n",
              "      <td>1.0</td>\n",
              "      <td>1.0</td>\n",
              "      <td>903.0</td>\n",
              "      <td>02/17/2016</td>\n",
              "      <td>750000.0</td>\n",
              "      <td>37.777641</td>\n",
              "      <td>-122.393417</td>\n",
              "      <td>South of Market</td>\n",
              "      <td>3</td>\n",
              "      <td>Condominium</td>\n",
              "      <td>2004.0</td>\n",
              "      <td>823719.0</td>\n",
              "      <td>975,700</td>\n",
              "      <td>94107.0</td>\n",
              "      <td>69819817.0</td>\n",
              "    </tr>\n",
              "  </tbody>\n",
              "</table>\n",
              "</div>"
            ],
            "text/plain": [
              "   Unnamed: 0                             address  ...  zipcode        zpid\n",
              "0           2  Address: 1160 Mission Street #2007  ...  94103.0  83152781.0\n",
              "1           5       Address: 260 King Street #475  ...  94107.0  69819817.0\n",
              "\n",
              "[2 rows x 18 columns]"
            ]
          },
          "metadata": {
            "tags": []
          },
          "execution_count": 37
        }
      ]
    },
    {
      "cell_type": "code",
      "metadata": {
        "id": "cgi66Vf8EMRl",
        "colab": {
          "base_uri": "https://localhost:8080/"
        },
        "outputId": "d7c55381-5e63-4c3f-ba4f-2e2cb9eceaad"
      },
      "source": [
        "data.info()"
      ],
      "execution_count": 41,
      "outputs": [
        {
          "output_type": "stream",
          "text": [
            "<class 'pandas.core.frame.DataFrame'>\n",
            "RangeIndex: 11330 entries, 0 to 11329\n",
            "Data columns (total 19 columns):\n",
            " #   Column         Non-Null Count  Dtype  \n",
            "---  ------         --------------  -----  \n",
            " 0   Unnamed: 0     11330 non-null  int64  \n",
            " 1   Unnamed: 0.1   11330 non-null  int64  \n",
            " 2   address        11330 non-null  object \n",
            " 3   z_address      11330 non-null  object \n",
            " 4   bathrooms      11330 non-null  float64\n",
            " 5   bedrooms       11330 non-null  float64\n",
            " 6   finishedsqft   11330 non-null  float64\n",
            " 7   lastsolddate   11330 non-null  object \n",
            " 8   lastsoldprice  11330 non-null  float64\n",
            " 9   latitude       11330 non-null  float64\n",
            " 10  longitude      11330 non-null  float64\n",
            " 11  neighborhood   11330 non-null  object \n",
            " 12  totalrooms     11330 non-null  int64  \n",
            " 13  usecode        11330 non-null  object \n",
            " 14  yearbuilt      11330 non-null  float64\n",
            " 15  zestimate      11330 non-null  float64\n",
            " 16  zindexvalue    11330 non-null  object \n",
            " 17  zipcode        11330 non-null  float64\n",
            " 18  zpid           11330 non-null  float64\n",
            "dtypes: float64(10), int64(3), object(6)\n",
            "memory usage: 1.6+ MB\n"
          ],
          "name": "stdout"
        }
      ]
    },
    {
      "cell_type": "code",
      "metadata": {
        "id": "ERJw_V6R5N3Y"
      },
      "source": [
        "data.to_csv('new_data.csv')"
      ],
      "execution_count": 39,
      "outputs": []
    },
    {
      "cell_type": "markdown",
      "metadata": {
        "id": "LGyc0eSr5ntE"
      },
      "source": [
        " ## Вторая часть"
      ]
    },
    {
      "cell_type": "code",
      "metadata": {
        "id": "wLDhKcVZ5OIG"
      },
      "source": [
        "data = pd.read_csv('new_data.csv')"
      ],
      "execution_count": 40,
      "outputs": []
    },
    {
      "cell_type": "code",
      "metadata": {
        "id": "MuRJH0G0EMTO"
      },
      "source": [
        "def get_one_hot(X, cols):\n",
        "    for each in cols:\n",
        "        dummies = pd.get_dummies(X[each], prefix=each, drop_first=False)\n",
        "        X = pd.concat([X, dummies], axis=1)\n",
        "    return X\n",
        "\n",
        "def get_woe_v1(X, col, target_col):\n",
        "    all_one = X[col].value_counts() / X[col].value_counts()\n",
        "    all_good = len(X[X[target_col] == 1][col])\n",
        "    all_bad = len(X[X[target_col] == 0][col])\n",
        "    odds_series = (\n",
        "        (((all_one*X[df_train[target_col] == 1][col].value_counts()).fillna(0)+0.5)/all_good)\n",
        "        /\n",
        "        (((all_one*X[X[target_col] == 0][col].value_counts()).fillna(0)+0.5)/all_bad)\n",
        "    )\n",
        "    category_woe_dict = np.log(odds_series).to_dict()\n",
        "    X[col + '_woe'] = X[col].apply(category_woe_dict.get)\n",
        "    return X\n",
        "\n",
        "def get_woe_cols(X, cols, target_col):\n",
        "    for col in cols:\n",
        "        X = get_woe_v1(X, col, target_col)\n",
        "    return X    \n",
        "\n"
      ],
      "execution_count": null,
      "outputs": []
    },
    {
      "cell_type": "code",
      "metadata": {
        "id": "wxKSNjQiEMXm"
      },
      "source": [
        ""
      ],
      "execution_count": null,
      "outputs": []
    },
    {
      "cell_type": "code",
      "metadata": {
        "id": "vCiu05pVEMbP"
      },
      "source": [
        ""
      ],
      "execution_count": null,
      "outputs": []
    },
    {
      "cell_type": "code",
      "metadata": {
        "id": "CsEr39F0EMc7"
      },
      "source": [
        ""
      ],
      "execution_count": null,
      "outputs": []
    },
    {
      "cell_type": "code",
      "metadata": {
        "id": "zKqzNDIlEMiW"
      },
      "source": [
        ""
      ],
      "execution_count": null,
      "outputs": []
    },
    {
      "cell_type": "code",
      "metadata": {
        "id": "jrTmnuEwEMk4"
      },
      "source": [
        ""
      ],
      "execution_count": null,
      "outputs": []
    },
    {
      "cell_type": "code",
      "metadata": {
        "id": "5UZuZ3ZSEMrQ"
      },
      "source": [
        ""
      ],
      "execution_count": null,
      "outputs": []
    },
    {
      "cell_type": "code",
      "metadata": {
        "id": "qZjd4mbpEMuX"
      },
      "source": [
        ""
      ],
      "execution_count": null,
      "outputs": []
    }
  ]
}