{
 "cells": [
  {
   "cell_type": "code",
   "execution_count": 5,
   "metadata": {
    "id": "2vsEyCovznsR"
   },
   "outputs": [],
   "source": [
    "import pandas as pd\n",
    "import numpy as np\n",
    "import seaborn as sns\n",
    " \n",
    "from matplotlib import pyplot as plt\n",
    " \n",
    "from sklearn.linear_model import LinearRegression\n",
    "from sklearn.model_selection import train_test_split"
   ]
  },
  {
   "cell_type": "code",
   "execution_count": null,
   "metadata": {
    "id": "d-T-PPpZcFzy"
   },
   "outputs": [],
   "source": []
  },
  {
   "cell_type": "code",
   "execution_count": 30,
   "metadata": {
    "colab": {
     "base_uri": "https://localhost:8080/",
     "height": 513
    },
    "id": "V_iM1Fz5znsf",
    "outputId": "cfbb0673-f4b8-445b-e311-68ba554cbcfb"
   },
   "outputs": [
    {
     "data": {
      "text/html": [
       "<div>\n",
       "<style scoped>\n",
       "    .dataframe tbody tr th:only-of-type {\n",
       "        vertical-align: middle;\n",
       "    }\n",
       "\n",
       "    .dataframe tbody tr th {\n",
       "        vertical-align: top;\n",
       "    }\n",
       "\n",
       "    .dataframe thead th {\n",
       "        text-align: right;\n",
       "    }\n",
       "</style>\n",
       "<table border=\"1\" class=\"dataframe\">\n",
       "  <thead>\n",
       "    <tr style=\"text-align: right;\">\n",
       "      <th></th>\n",
       "      <th>Unnamed: 0</th>\n",
       "      <th>address</th>\n",
       "      <th>z_address</th>\n",
       "      <th>bathrooms</th>\n",
       "      <th>bedrooms</th>\n",
       "      <th>finishedsqft</th>\n",
       "      <th>lastsolddate</th>\n",
       "      <th>lastsoldprice</th>\n",
       "      <th>latitude</th>\n",
       "      <th>longitude</th>\n",
       "      <th>neighborhood</th>\n",
       "      <th>totalrooms</th>\n",
       "      <th>usecode</th>\n",
       "      <th>yearbuilt</th>\n",
       "      <th>zestimate</th>\n",
       "      <th>zindexvalue</th>\n",
       "      <th>zipcode</th>\n",
       "      <th>zpid</th>\n",
       "    </tr>\n",
       "  </thead>\n",
       "  <tbody>\n",
       "    <tr>\n",
       "      <th>0</th>\n",
       "      <td>2</td>\n",
       "      <td>Address: 1160 Mission Street #2007</td>\n",
       "      <td>1160 Mission St UNIT 2007</td>\n",
       "      <td>2.0</td>\n",
       "      <td>2.0</td>\n",
       "      <td>1043.0</td>\n",
       "      <td>02/17/2016</td>\n",
       "      <td>1300000.0</td>\n",
       "      <td>37.778705</td>\n",
       "      <td>-122.412635</td>\n",
       "      <td>South of Market</td>\n",
       "      <td>4.0</td>\n",
       "      <td>Condominium</td>\n",
       "      <td>2007.0</td>\n",
       "      <td>1167508.0</td>\n",
       "      <td>975,700</td>\n",
       "      <td>94103.0</td>\n",
       "      <td>83152781.0</td>\n",
       "    </tr>\n",
       "    <tr>\n",
       "      <th>1</th>\n",
       "      <td>5</td>\n",
       "      <td>Address: 260 King Street #475</td>\n",
       "      <td>260 King St UNIT 475</td>\n",
       "      <td>1.0</td>\n",
       "      <td>1.0</td>\n",
       "      <td>903.0</td>\n",
       "      <td>02/17/2016</td>\n",
       "      <td>750000.0</td>\n",
       "      <td>37.777641</td>\n",
       "      <td>-122.393417</td>\n",
       "      <td>South of Market</td>\n",
       "      <td>3.0</td>\n",
       "      <td>Condominium</td>\n",
       "      <td>2004.0</td>\n",
       "      <td>823719.0</td>\n",
       "      <td>975,700</td>\n",
       "      <td>94107.0</td>\n",
       "      <td>69819817.0</td>\n",
       "    </tr>\n",
       "    <tr>\n",
       "      <th>2</th>\n",
       "      <td>7</td>\n",
       "      <td>Address: 560 Missouri Street #B</td>\n",
       "      <td>560 Missouri St # B</td>\n",
       "      <td>4.0</td>\n",
       "      <td>3.0</td>\n",
       "      <td>1425.0</td>\n",
       "      <td>02/17/2016</td>\n",
       "      <td>1495000.0</td>\n",
       "      <td>37.759198</td>\n",
       "      <td>-122.396516</td>\n",
       "      <td>Potrero Hill</td>\n",
       "      <td>6.0</td>\n",
       "      <td>Condominium</td>\n",
       "      <td>2003.0</td>\n",
       "      <td>1708594.0</td>\n",
       "      <td>1,277,600</td>\n",
       "      <td>94107.0</td>\n",
       "      <td>64972847.0</td>\n",
       "    </tr>\n",
       "    <tr>\n",
       "      <th>3</th>\n",
       "      <td>9</td>\n",
       "      <td>Address: 350 Missouri Street</td>\n",
       "      <td>350 Missouri St</td>\n",
       "      <td>3.0</td>\n",
       "      <td>3.0</td>\n",
       "      <td>2231.0</td>\n",
       "      <td>02/17/2016</td>\n",
       "      <td>2700000.0</td>\n",
       "      <td>37.761886</td>\n",
       "      <td>-122.396769</td>\n",
       "      <td>Potrero Hill</td>\n",
       "      <td>10.0</td>\n",
       "      <td>SingleFamily</td>\n",
       "      <td>1927.0</td>\n",
       "      <td>2411236.0</td>\n",
       "      <td>1,277,600</td>\n",
       "      <td>94107.0</td>\n",
       "      <td>15149489.0</td>\n",
       "    </tr>\n",
       "    <tr>\n",
       "      <th>4</th>\n",
       "      <td>11</td>\n",
       "      <td>Address: 3658 Folsom Street</td>\n",
       "      <td>3658 Folsom St</td>\n",
       "      <td>3.0</td>\n",
       "      <td>3.0</td>\n",
       "      <td>1300.0</td>\n",
       "      <td>02/17/2016</td>\n",
       "      <td>1530000.0</td>\n",
       "      <td>37.740795</td>\n",
       "      <td>-122.413453</td>\n",
       "      <td>Bernal Heights</td>\n",
       "      <td>4.0</td>\n",
       "      <td>SingleFamily</td>\n",
       "      <td>1900.0</td>\n",
       "      <td>1918539.0</td>\n",
       "      <td>1,248,000</td>\n",
       "      <td>94110.0</td>\n",
       "      <td>15161978.0</td>\n",
       "    </tr>\n",
       "  </tbody>\n",
       "</table>\n",
       "</div>"
      ],
      "text/plain": [
       "   Unnamed: 0                             address  ...  zipcode        zpid\n",
       "0           2  Address: 1160 Mission Street #2007  ...  94103.0  83152781.0\n",
       "1           5       Address: 260 King Street #475  ...  94107.0  69819817.0\n",
       "2           7     Address: 560 Missouri Street #B  ...  94107.0  64972847.0\n",
       "3           9        Address: 350 Missouri Street  ...  94107.0  15149489.0\n",
       "4          11         Address: 3658 Folsom Street  ...  94110.0  15161978.0\n",
       "\n",
       "[5 rows x 18 columns]"
      ]
     },
     "execution_count": 30,
     "metadata": {
      "tags": []
     },
     "output_type": "execute_result"
    }
   ],
   "source": [
    "data = pd.read_csv('data/final_data.csv', delimiter=';')\n",
    "data.head(5)"
   ]
  },
  {
   "cell_type": "code",
   "execution_count": 6,
   "metadata": {
    "colab": {
     "base_uri": "https://localhost:8080/"
    },
    "id": "3fuLjhvhDX8w",
    "outputId": "f7ffbca6-2ed9-4966-8e33-85684231d326"
   },
   "outputs": [
    {
     "data": {
      "text/plain": [
       "(11330, 19)"
      ]
     },
     "execution_count": 6,
     "metadata": {},
     "output_type": "execute_result"
    }
   ],
   "source": [
    "data.shape"
   ]
  },
  {
   "cell_type": "markdown",
   "metadata": {
    "id": "hU9uKGEWXrkI"
   },
   "source": [
    "Будем использовать линейную регрессию для тестирования качества данных"
   ]
  },
  {
   "cell_type": "code",
   "execution_count": 7,
   "metadata": {
    "id": "t21sSt0xznsg"
   },
   "outputs": [],
   "source": [
    "def get_score(X,y, random_seed=42, model=None):\n",
    "  if model is None:\n",
    "    model = LinearRegression()\n",
    "  X_train, X_test, y_train, y_test = train_test_split(X, y, test_size=0.3, random_state=random_seed )  \n",
    "  model.fit(X_train, y_train)\n",
    "  return model.score(X_test, y_test)"
   ]
  },
  {
   "cell_type": "markdown",
   "metadata": {
    "id": "Cm-WcvMQZCHL"
   },
   "source": [
    "Для поиска выбросов будем использовать boxplot"
   ]
  },
  {
   "cell_type": "code",
   "execution_count": 8,
   "metadata": {
    "id": "CDP2Zn9P1I8N"
   },
   "outputs": [],
   "source": [
    "def get_boxplot(X, columns=[]):\n",
    "  for i in columns:\n",
    "    sns.boxplot(x=X[i])\n",
    "  pass  \n",
    "\n",
    "def get_pairplot(X, columns=None):\n",
    "  if columns is None:\n",
    "    columns = list(X.columns)\n",
    "  sns.pairplot(X[columns])\n",
    "  pass    "
   ]
  },
  {
   "cell_type": "markdown",
   "metadata": {
    "id": "0YOcCBI_Zwqt"
   },
   "source": [
    "Для заполнения пропущенных значений будем использовать стандартные способы\n",
    "- заполнение значением\n",
    "- max\n",
    "- min\n",
    "- mode\n",
    "- median\n",
    "- mean\n",
    "- метод индикатора\n",
    "- линейная регрессия"
   ]
  },
  {
   "cell_type": "code",
   "execution_count": 9,
   "metadata": {
    "id": "K3xjIkzBM2gk"
   },
   "outputs": [],
   "source": [
    "def get_value(X, column, mode='mean', value=0, columns_for_reg=None):\n",
    "  if mode == 'value':\n",
    "    X.loc[X[X[column].isna()].index ,column] = value\n",
    "  elif mode == 'max':\n",
    "    X.loc[X[X[column].isna()].index ,column] = X[column].max()\n",
    "  elif mode == 'min':\n",
    "    X.loc[X[X[column].isna()].index ,column] = X[column].min()\n",
    "  elif mode == 'median':\n",
    "    X.loc[X[X[column].isna()].index ,column] = X[column].median()    \n",
    "  elif mode == 'mode':\n",
    "    X.loc[X[X[column].isna()].index, column] = X[column].mode()[0]  \n",
    "  elif mode == 'indicator':\n",
    "    X.loc[X[X[column].isna()].index, column] = 0\n",
    "    X['ind_'+str(column)] = 0\n",
    "    X.loc[X[X[column].isna()].index, 'ind_'+str(column)] = 1\n",
    "  elif mode == 'linreg':\n",
    "    if columns_for_reg is None:\n",
    "      cols = list(X.select_dtypes([np.number]).columns) \n",
    "      cols.remove(column)\n",
    "    else:\n",
    "      cols = columns_for_reg\n",
    "    X_tmp = X.dropna()  \n",
    "    m = LinearRegression().fit(X_tmp[cols], X_tmp[column])\n",
    "    X.loc[X[X[column].isna()].index, column] = m.predict(X[X[column].isna()][cols])\n",
    "  else:\n",
    "    X.loc[X[X[column].isna()].index, column] = X[column].mean()\n",
    "  return X  \n"
   ]
  },
  {
   "cell_type": "code",
   "execution_count": 20,
   "metadata": {
    "colab": {
     "base_uri": "https://localhost:8080/"
    },
    "id": "mU2z8CFpznsg",
    "outputId": "bc0a75d0-3b41-4195-da68-838a98af9541"
   },
   "outputs": [
    {
     "name": "stdout",
     "output_type": "stream",
     "text": [
      "<class 'pandas.core.frame.DataFrame'>\n",
      "RangeIndex: 11330 entries, 0 to 11329\n",
      "Data columns (total 18 columns):\n",
      " #   Column         Non-Null Count  Dtype  \n",
      "---  ------         --------------  -----  \n",
      " 0   Unnamed: 0     11330 non-null  int64  \n",
      " 1   address        11330 non-null  object \n",
      " 2   z_address      11330 non-null  object \n",
      " 3   bathrooms      11330 non-null  float64\n",
      " 4   bedrooms       11330 non-null  float64\n",
      " 5   finishedsqft   11330 non-null  float64\n",
      " 6   lastsolddate   11330 non-null  object \n",
      " 7   lastsoldprice  11330 non-null  float64\n",
      " 8   latitude       11315 non-null  float64\n",
      " 9   longitude      11315 non-null  float64\n",
      " 10  neighborhood   11330 non-null  object \n",
      " 11  totalrooms     11281 non-null  float64\n",
      " 12  usecode        11290 non-null  object \n",
      " 13  yearbuilt      11330 non-null  float64\n",
      " 14  zestimate      11330 non-null  float64\n",
      " 15  zindexvalue    11330 non-null  object \n",
      " 16  zipcode        11330 non-null  float64\n",
      " 17  zpid           11330 non-null  float64\n",
      "dtypes: float64(11), int64(1), object(6)\n",
      "memory usage: 1.6+ MB\n"
     ]
    }
   ],
   "source": [
    "data.info()"
   ]
  },
  {
   "cell_type": "code",
   "execution_count": 15,
   "metadata": {
    "colab": {
     "base_uri": "https://localhost:8080/",
     "height": 317
    },
    "id": "zuEloCeeJakc",
    "outputId": "e0e1b70c-c2d7-42a8-8d96-d0e47aed52c1"
   },
   "outputs": [
    {
     "data": {
      "text/html": [
       "<div>\n",
       "<style scoped>\n",
       "    .dataframe tbody tr th:only-of-type {\n",
       "        vertical-align: middle;\n",
       "    }\n",
       "\n",
       "    .dataframe tbody tr th {\n",
       "        vertical-align: top;\n",
       "    }\n",
       "\n",
       "    .dataframe thead th {\n",
       "        text-align: right;\n",
       "    }\n",
       "</style>\n",
       "<table border=\"1\" class=\"dataframe\">\n",
       "  <thead>\n",
       "    <tr style=\"text-align: right;\">\n",
       "      <th></th>\n",
       "      <th>Unnamed: 0</th>\n",
       "      <th>bathrooms</th>\n",
       "      <th>bedrooms</th>\n",
       "      <th>finishedsqft</th>\n",
       "      <th>lastsoldprice</th>\n",
       "      <th>latitude</th>\n",
       "      <th>longitude</th>\n",
       "      <th>totalrooms</th>\n",
       "      <th>yearbuilt</th>\n",
       "      <th>zestimate</th>\n",
       "      <th>zipcode</th>\n",
       "      <th>zpid</th>\n",
       "    </tr>\n",
       "  </thead>\n",
       "  <tbody>\n",
       "    <tr>\n",
       "      <th>count</th>\n",
       "      <td>11330.000000</td>\n",
       "      <td>11330.000000</td>\n",
       "      <td>11330.000000</td>\n",
       "      <td>11211.000000</td>\n",
       "      <td>1.133000e+04</td>\n",
       "      <td>11315.000000</td>\n",
       "      <td>11315.000000</td>\n",
       "      <td>11281.000000</td>\n",
       "      <td>11330.000000</td>\n",
       "      <td>1.133000e+04</td>\n",
       "      <td>11330.000000</td>\n",
       "      <td>1.133000e+04</td>\n",
       "    </tr>\n",
       "    <tr>\n",
       "      <th>mean</th>\n",
       "      <td>9171.729214</td>\n",
       "      <td>1.980229</td>\n",
       "      <td>2.614475</td>\n",
       "      <td>1586.081349</td>\n",
       "      <td>1.263928e+06</td>\n",
       "      <td>37.759715</td>\n",
       "      <td>-122.436508</td>\n",
       "      <td>6.113997</td>\n",
       "      <td>1948.498147</td>\n",
       "      <td>1.565695e+06</td>\n",
       "      <td>94116.912004</td>\n",
       "      <td>3.689973e+07</td>\n",
       "    </tr>\n",
       "    <tr>\n",
       "      <th>std</th>\n",
       "      <td>4921.941074</td>\n",
       "      <td>1.047358</td>\n",
       "      <td>1.299457</td>\n",
       "      <td>922.815803</td>\n",
       "      <td>1.042079e+06</td>\n",
       "      <td>0.025583</td>\n",
       "      <td>0.030742</td>\n",
       "      <td>12.151195</td>\n",
       "      <td>37.911196</td>\n",
       "      <td>1.229417e+06</td>\n",
       "      <td>9.400877</td>\n",
       "      <td>7.800741e+07</td>\n",
       "    </tr>\n",
       "    <tr>\n",
       "      <th>min</th>\n",
       "      <td>2.000000</td>\n",
       "      <td>0.500000</td>\n",
       "      <td>0.000000</td>\n",
       "      <td>1.000000</td>\n",
       "      <td>5.350000e+02</td>\n",
       "      <td>37.708170</td>\n",
       "      <td>-122.510726</td>\n",
       "      <td>1.000000</td>\n",
       "      <td>1860.000000</td>\n",
       "      <td>4.323850e+05</td>\n",
       "      <td>94102.000000</td>\n",
       "      <td>1.506329e+07</td>\n",
       "    </tr>\n",
       "    <tr>\n",
       "      <th>25%</th>\n",
       "      <td>5039.750000</td>\n",
       "      <td>1.000000</td>\n",
       "      <td>2.000000</td>\n",
       "      <td>1019.000000</td>\n",
       "      <td>7.292500e+05</td>\n",
       "      <td>37.739284</td>\n",
       "      <td>-122.455149</td>\n",
       "      <td>4.000000</td>\n",
       "      <td>1916.000000</td>\n",
       "      <td>9.052375e+05</td>\n",
       "      <td>94110.000000</td>\n",
       "      <td>1.510847e+07</td>\n",
       "    </tr>\n",
       "    <tr>\n",
       "      <th>50%</th>\n",
       "      <td>9198.500000</td>\n",
       "      <td>2.000000</td>\n",
       "      <td>2.000000</td>\n",
       "      <td>1362.000000</td>\n",
       "      <td>9.900000e+05</td>\n",
       "      <td>37.760514</td>\n",
       "      <td>-122.432510</td>\n",
       "      <td>5.000000</td>\n",
       "      <td>1940.000000</td>\n",
       "      <td>1.230758e+06</td>\n",
       "      <td>94115.000000</td>\n",
       "      <td>1.515697e+07</td>\n",
       "    </tr>\n",
       "    <tr>\n",
       "      <th>75%</th>\n",
       "      <td>13374.750000</td>\n",
       "      <td>2.000000</td>\n",
       "      <td>3.000000</td>\n",
       "      <td>1878.000000</td>\n",
       "      <td>1.450000e+06</td>\n",
       "      <td>37.781386</td>\n",
       "      <td>-122.413353</td>\n",
       "      <td>7.000000</td>\n",
       "      <td>1986.000000</td>\n",
       "      <td>1.731170e+06</td>\n",
       "      <td>94123.000000</td>\n",
       "      <td>5.970040e+07</td>\n",
       "    </tr>\n",
       "    <tr>\n",
       "      <th>max</th>\n",
       "      <td>17632.000000</td>\n",
       "      <td>14.000000</td>\n",
       "      <td>20.000000</td>\n",
       "      <td>27275.000000</td>\n",
       "      <td>2.388900e+07</td>\n",
       "      <td>37.806083</td>\n",
       "      <td>-122.381201</td>\n",
       "      <td>1264.000000</td>\n",
       "      <td>2016.000000</td>\n",
       "      <td>1.553325e+07</td>\n",
       "      <td>94158.000000</td>\n",
       "      <td>2.146999e+09</td>\n",
       "    </tr>\n",
       "  </tbody>\n",
       "</table>\n",
       "</div>"
      ],
      "text/plain": [
       "         Unnamed: 0     bathrooms  ...       zipcode          zpid\n",
       "count  11330.000000  11330.000000  ...  11330.000000  1.133000e+04\n",
       "mean    9171.729214      1.980229  ...  94116.912004  3.689973e+07\n",
       "std     4921.941074      1.047358  ...      9.400877  7.800741e+07\n",
       "min        2.000000      0.500000  ...  94102.000000  1.506329e+07\n",
       "25%     5039.750000      1.000000  ...  94110.000000  1.510847e+07\n",
       "50%     9198.500000      2.000000  ...  94115.000000  1.515697e+07\n",
       "75%    13374.750000      2.000000  ...  94123.000000  5.970040e+07\n",
       "max    17632.000000     14.000000  ...  94158.000000  2.146999e+09\n",
       "\n",
       "[8 rows x 12 columns]"
      ]
     },
     "execution_count": 15,
     "metadata": {
      "tags": []
     },
     "output_type": "execute_result"
    }
   ],
   "source": [
    "data.describe()"
   ]
  },
  {
   "cell_type": "code",
   "execution_count": 16,
   "metadata": {
    "colab": {
     "base_uri": "https://localhost:8080/"
    },
    "id": "crXdpYFZnxNK",
    "outputId": "8c6c63df-4670-446e-b8b3-ed4a713ad45d"
   },
   "outputs": [
    {
     "data": {
      "text/plain": [
       "Index(['Unnamed: 0', 'address', 'z_address', 'bathrooms', 'bedrooms',\n",
       "       'finishedsqft', 'lastsolddate', 'lastsoldprice', 'latitude',\n",
       "       'longitude', 'neighborhood', 'totalrooms', 'usecode', 'yearbuilt',\n",
       "       'zestimate', 'zindexvalue', 'zipcode', 'zpid'],\n",
       "      dtype='object')"
      ]
     },
     "execution_count": 16,
     "metadata": {
      "tags": []
     },
     "output_type": "execute_result"
    }
   ],
   "source": [
    "data.columns"
   ]
  },
  {
   "cell_type": "code",
   "execution_count": 17,
   "metadata": {
    "id": "IU353zxhn2SQ"
   },
   "outputs": [],
   "source": [
    "cols = ['Unnamed: 0', 'bathrooms', 'bedrooms',\n",
    "       'finishedsqft', 'lastsoldprice', 'latitude',\n",
    "       'longitude', 'totalrooms','yearbuilt','zipcode']\n",
    "cols2 = ['Unnamed: 0', 'bathrooms', 'bedrooms',\n",
    "       'finishedsqft', 'latitude',\n",
    "       'longitude', 'totalrooms','yearbuilt','zipcode']"
   ]
  },
  {
   "cell_type": "code",
   "execution_count": 18,
   "metadata": {
    "colab": {
     "base_uri": "https://localhost:8080/"
    },
    "id": "sMgZOTNeELAP",
    "outputId": "104276c6-d42a-4d18-a00a-5034e84a2789"
   },
   "outputs": [
    {
     "data": {
      "text/plain": [
       "(11108, 18)"
      ]
     },
     "execution_count": 18,
     "metadata": {
      "tags": []
     },
     "output_type": "execute_result"
    }
   ],
   "source": [
    "data.dropna().shape"
   ]
  },
  {
   "cell_type": "code",
   "execution_count": null,
   "metadata": {
    "id": "vnBpj4NAw2ze"
   },
   "outputs": [],
   "source": [
    "-             = 0.8375491685999106, 0.607156739569225\n",
    "finishedsqft  = 0.8524615199933394, 0.5577844171230759\n",
    "long and lat  = 0.8517111453083177, 0.6874289038247563\n",
    "totalrooms    = 0.8598254992362179, 0.6426676296618906"
   ]
  },
  {
   "cell_type": "code",
   "execution_count": null,
   "metadata": {
    "colab": {
     "base_uri": "https://localhost:8080/"
    },
    "id": "DgOW9Jilznsh",
    "outputId": "4ae56633-c449-4e12-85a4-ed1adf26e883"
   },
   "outputs": [
    {
     "data": {
      "text/plain": [
       "0.8598254992362179"
      ]
     },
     "execution_count": 157,
     "metadata": {
      "tags": []
     },
     "output_type": "execute_result"
    }
   ],
   "source": [
    "get_score(data.dropna()[cols], data.dropna()['zestimate'])"
   ]
  },
  {
   "cell_type": "code",
   "execution_count": null,
   "metadata": {
    "colab": {
     "base_uri": "https://localhost:8080/"
    },
    "id": "XjQ-EFowc5Bk",
    "outputId": "3c81a93e-37fe-48f2-e48e-2fa4d17ab6b3"
   },
   "outputs": [
    {
     "data": {
      "text/plain": [
       "0.6426676296618906"
      ]
     },
     "execution_count": 158,
     "metadata": {
      "tags": []
     },
     "output_type": "execute_result"
    }
   ],
   "source": [
    "get_score(data.dropna()[cols2], data.dropna()['zestimate'])"
   ]
  },
  {
   "cell_type": "code",
   "execution_count": null,
   "metadata": {
    "id": "fGfFK3uxqT5F"
   },
   "outputs": [],
   "source": [
    "for_drop = ['Unnamed: 0', 'address', 'zindexvalue', 'zpid']\n",
    "target = ['zestimate']"
   ]
  },
  {
   "cell_type": "code",
   "execution_count": 31,
   "metadata": {
    "id": "aT8RM7LZ4JM_"
   },
   "outputs": [],
   "source": [
    "\n",
    "_ = get_value(data, 'finishedsqft', mode='linreg', value=0, columns_for_reg=['bathrooms', 'bedrooms', 'lastsoldprice','totalrooms'])"
   ]
  },
  {
   "cell_type": "code",
   "execution_count": null,
   "metadata": {
    "colab": {
     "base_uri": "https://localhost:8080/"
    },
    "id": "Hrp4iLsYznsh",
    "outputId": "77821354-e190-4114-bdc7-91a312c3acaa"
   },
   "outputs": [
    {
     "data": {
      "text/plain": [
       "Mission             540\n",
       "Bernal Heights      525\n",
       "South of Market     524\n",
       "South Beach         461\n",
       "Pacific Heights     439\n",
       "                   ... \n",
       "North Beach          31\n",
       "Lakeside             29\n",
       "Little Hollywood     12\n",
       "North Waterfront      8\n",
       "Daly City             3\n",
       "Name: neighborhood, Length: 71, dtype: int64"
      ]
     },
     "execution_count": 122,
     "metadata": {
      "tags": []
     },
     "output_type": "execute_result"
    }
   ],
   "source": [
    "data['neighborhood'].value_counts()"
   ]
  },
  {
   "cell_type": "code",
   "execution_count": 32,
   "metadata": {
    "id": "laeSBIW1yTWG"
   },
   "outputs": [],
   "source": [
    "for i, el in data[data['latitude'].isna()].iterrows():\n",
    "  data.loc[i, 'longitude'] = data[data['neighborhood'] == el['neighborhood']]['longitude'].mean()\n",
    "  data.loc[i, 'latitude'] = data[data['neighborhood'] == el['neighborhood']]['latitude'].mean()\n"
   ]
  },
  {
   "cell_type": "code",
   "execution_count": 22,
   "metadata": {
    "colab": {
     "base_uri": "https://localhost:8080/",
     "height": 932
    },
    "id": "c0ELqS-xzFIm",
    "outputId": "a219d4e8-6e62-4533-ed44-71e6efc441aa"
   },
   "outputs": [
    {
     "data": {
      "text/html": [
       "<div>\n",
       "<style scoped>\n",
       "    .dataframe tbody tr th:only-of-type {\n",
       "        vertical-align: middle;\n",
       "    }\n",
       "\n",
       "    .dataframe tbody tr th {\n",
       "        vertical-align: top;\n",
       "    }\n",
       "\n",
       "    .dataframe thead th {\n",
       "        text-align: right;\n",
       "    }\n",
       "</style>\n",
       "<table border=\"1\" class=\"dataframe\">\n",
       "  <thead>\n",
       "    <tr style=\"text-align: right;\">\n",
       "      <th></th>\n",
       "      <th>Unnamed: 0</th>\n",
       "      <th>address</th>\n",
       "      <th>z_address</th>\n",
       "      <th>bathrooms</th>\n",
       "      <th>bedrooms</th>\n",
       "      <th>finishedsqft</th>\n",
       "      <th>lastsolddate</th>\n",
       "      <th>lastsoldprice</th>\n",
       "      <th>latitude</th>\n",
       "      <th>longitude</th>\n",
       "      <th>neighborhood</th>\n",
       "      <th>totalrooms</th>\n",
       "      <th>usecode</th>\n",
       "      <th>yearbuilt</th>\n",
       "      <th>zestimate</th>\n",
       "      <th>zindexvalue</th>\n",
       "      <th>zipcode</th>\n",
       "      <th>zpid</th>\n",
       "    </tr>\n",
       "  </thead>\n",
       "  <tbody>\n",
       "    <tr>\n",
       "      <th>2</th>\n",
       "      <td>7</td>\n",
       "      <td>Address: 560 Missouri Street #B</td>\n",
       "      <td>560 Missouri St # B</td>\n",
       "      <td>4.00</td>\n",
       "      <td>3.0</td>\n",
       "      <td>1425.0</td>\n",
       "      <td>02/17/2016</td>\n",
       "      <td>1495000.0</td>\n",
       "      <td>37.759198</td>\n",
       "      <td>-122.396516</td>\n",
       "      <td>Potrero Hill</td>\n",
       "      <td>6.0</td>\n",
       "      <td>Condominium</td>\n",
       "      <td>2003.0</td>\n",
       "      <td>1708594.0</td>\n",
       "      <td>1,277,600</td>\n",
       "      <td>94107.0</td>\n",
       "      <td>64972847.0</td>\n",
       "    </tr>\n",
       "    <tr>\n",
       "      <th>4</th>\n",
       "      <td>11</td>\n",
       "      <td>Address: 3658 Folsom Street</td>\n",
       "      <td>3658 Folsom St</td>\n",
       "      <td>3.00</td>\n",
       "      <td>3.0</td>\n",
       "      <td>1300.0</td>\n",
       "      <td>02/17/2016</td>\n",
       "      <td>1530000.0</td>\n",
       "      <td>37.740795</td>\n",
       "      <td>-122.413453</td>\n",
       "      <td>Bernal Heights</td>\n",
       "      <td>4.0</td>\n",
       "      <td>SingleFamily</td>\n",
       "      <td>1900.0</td>\n",
       "      <td>1918539.0</td>\n",
       "      <td>1,248,000</td>\n",
       "      <td>94110.0</td>\n",
       "      <td>15161978.0</td>\n",
       "    </tr>\n",
       "    <tr>\n",
       "      <th>39</th>\n",
       "      <td>74</td>\n",
       "      <td>Address: 2455 14th Avenue</td>\n",
       "      <td>2455 14th Ave</td>\n",
       "      <td>3.75</td>\n",
       "      <td>4.0</td>\n",
       "      <td>1846.0</td>\n",
       "      <td>02/10/2016</td>\n",
       "      <td>1525000.0</td>\n",
       "      <td>37.742271</td>\n",
       "      <td>-122.470518</td>\n",
       "      <td>West Portal</td>\n",
       "      <td>5.0</td>\n",
       "      <td>SingleFamily</td>\n",
       "      <td>1932.0</td>\n",
       "      <td>1195679.0</td>\n",
       "      <td>1,565,000</td>\n",
       "      <td>94116.0</td>\n",
       "      <td>15122857.0</td>\n",
       "    </tr>\n",
       "    <tr>\n",
       "      <th>46</th>\n",
       "      <td>93</td>\n",
       "      <td>Address: 784 Spruce Street</td>\n",
       "      <td>784-786 Spruce St</td>\n",
       "      <td>3.00</td>\n",
       "      <td>8.0</td>\n",
       "      <td>2600.0</td>\n",
       "      <td>02/09/2016</td>\n",
       "      <td>1535000.0</td>\n",
       "      <td>37.780606</td>\n",
       "      <td>-122.452663</td>\n",
       "      <td>Lone Mountain</td>\n",
       "      <td>10.0</td>\n",
       "      <td>MultiFamily2To4</td>\n",
       "      <td>1927.0</td>\n",
       "      <td>1524759.0</td>\n",
       "      <td>1,447,700</td>\n",
       "      <td>94118.0</td>\n",
       "      <td>15083824.0</td>\n",
       "    </tr>\n",
       "    <tr>\n",
       "      <th>60</th>\n",
       "      <td>121</td>\n",
       "      <td>Address: 2017 Buchanan Street</td>\n",
       "      <td>2017 Buchanan St</td>\n",
       "      <td>4.00</td>\n",
       "      <td>4.0</td>\n",
       "      <td>2850.0</td>\n",
       "      <td>02/05/2016</td>\n",
       "      <td>2800000.0</td>\n",
       "      <td>37.788913</td>\n",
       "      <td>-122.430728</td>\n",
       "      <td>Lower Pacific Heights</td>\n",
       "      <td>7.0</td>\n",
       "      <td>Condominium</td>\n",
       "      <td>1890.0</td>\n",
       "      <td>3032479.0</td>\n",
       "      <td>1,178,700</td>\n",
       "      <td>94115.0</td>\n",
       "      <td>21699068.0</td>\n",
       "    </tr>\n",
       "    <tr>\n",
       "      <th>...</th>\n",
       "      <td>...</td>\n",
       "      <td>...</td>\n",
       "      <td>...</td>\n",
       "      <td>...</td>\n",
       "      <td>...</td>\n",
       "      <td>...</td>\n",
       "      <td>...</td>\n",
       "      <td>...</td>\n",
       "      <td>...</td>\n",
       "      <td>...</td>\n",
       "      <td>...</td>\n",
       "      <td>...</td>\n",
       "      <td>...</td>\n",
       "      <td>...</td>\n",
       "      <td>...</td>\n",
       "      <td>...</td>\n",
       "      <td>...</td>\n",
       "      <td>...</td>\n",
       "    </tr>\n",
       "    <tr>\n",
       "      <th>11255</th>\n",
       "      <td>17466</td>\n",
       "      <td>Address: 560 Missouri Street #B</td>\n",
       "      <td>560 Missouri St # B</td>\n",
       "      <td>4.00</td>\n",
       "      <td>3.0</td>\n",
       "      <td>1425.0</td>\n",
       "      <td>02/17/2016</td>\n",
       "      <td>1495000.0</td>\n",
       "      <td>37.759198</td>\n",
       "      <td>-122.396516</td>\n",
       "      <td>Potrero Hill</td>\n",
       "      <td>6.0</td>\n",
       "      <td>Condominium</td>\n",
       "      <td>2003.0</td>\n",
       "      <td>1685676.0</td>\n",
       "      <td>1,264,000</td>\n",
       "      <td>94107.0</td>\n",
       "      <td>64972847.0</td>\n",
       "    </tr>\n",
       "    <tr>\n",
       "      <th>11257</th>\n",
       "      <td>17470</td>\n",
       "      <td>Address: 3658 Folsom Street</td>\n",
       "      <td>3658 Folsom St</td>\n",
       "      <td>3.00</td>\n",
       "      <td>3.0</td>\n",
       "      <td>1300.0</td>\n",
       "      <td>02/17/2016</td>\n",
       "      <td>1530000.0</td>\n",
       "      <td>37.740795</td>\n",
       "      <td>-122.413453</td>\n",
       "      <td>Bernal Heights</td>\n",
       "      <td>4.0</td>\n",
       "      <td>SingleFamily</td>\n",
       "      <td>1900.0</td>\n",
       "      <td>1899916.0</td>\n",
       "      <td>1,214,400</td>\n",
       "      <td>94110.0</td>\n",
       "      <td>15161978.0</td>\n",
       "    </tr>\n",
       "    <tr>\n",
       "      <th>11292</th>\n",
       "      <td>17533</td>\n",
       "      <td>Address: 2455 14th Avenue</td>\n",
       "      <td>2455 14th Ave</td>\n",
       "      <td>3.75</td>\n",
       "      <td>4.0</td>\n",
       "      <td>1846.0</td>\n",
       "      <td>02/10/2016</td>\n",
       "      <td>1525000.0</td>\n",
       "      <td>37.742271</td>\n",
       "      <td>-122.470518</td>\n",
       "      <td>West Portal</td>\n",
       "      <td>5.0</td>\n",
       "      <td>SingleFamily</td>\n",
       "      <td>1932.0</td>\n",
       "      <td>1228368.0</td>\n",
       "      <td>1,551,600</td>\n",
       "      <td>94116.0</td>\n",
       "      <td>15122857.0</td>\n",
       "    </tr>\n",
       "    <tr>\n",
       "      <th>11299</th>\n",
       "      <td>17552</td>\n",
       "      <td>Address: 784 Spruce Street</td>\n",
       "      <td>784-786 Spruce St</td>\n",
       "      <td>3.00</td>\n",
       "      <td>8.0</td>\n",
       "      <td>2600.0</td>\n",
       "      <td>02/09/2016</td>\n",
       "      <td>1535000.0</td>\n",
       "      <td>37.780606</td>\n",
       "      <td>-122.452663</td>\n",
       "      <td>Lone Mountain</td>\n",
       "      <td>10.0</td>\n",
       "      <td>MultiFamily2To4</td>\n",
       "      <td>1927.0</td>\n",
       "      <td>1760133.0</td>\n",
       "      <td>1,419,600</td>\n",
       "      <td>94118.0</td>\n",
       "      <td>15083824.0</td>\n",
       "    </tr>\n",
       "    <tr>\n",
       "      <th>11313</th>\n",
       "      <td>17580</td>\n",
       "      <td>Address: 2017 Buchanan Street</td>\n",
       "      <td>2017 Buchanan St</td>\n",
       "      <td>4.00</td>\n",
       "      <td>4.0</td>\n",
       "      <td>2850.0</td>\n",
       "      <td>02/05/2016</td>\n",
       "      <td>2800000.0</td>\n",
       "      <td>37.788913</td>\n",
       "      <td>-122.430728</td>\n",
       "      <td>Lower Pacific Heights</td>\n",
       "      <td>7.0</td>\n",
       "      <td>Condominium</td>\n",
       "      <td>1890.0</td>\n",
       "      <td>3052280.0</td>\n",
       "      <td>1,146,900</td>\n",
       "      <td>94115.0</td>\n",
       "      <td>21699068.0</td>\n",
       "    </tr>\n",
       "  </tbody>\n",
       "</table>\n",
       "<p>782 rows × 18 columns</p>\n",
       "</div>"
      ],
      "text/plain": [
       "       Unnamed: 0                          address  ...  zipcode        zpid\n",
       "2               7  Address: 560 Missouri Street #B  ...  94107.0  64972847.0\n",
       "4              11      Address: 3658 Folsom Street  ...  94110.0  15161978.0\n",
       "39             74        Address: 2455 14th Avenue  ...  94116.0  15122857.0\n",
       "46             93       Address: 784 Spruce Street  ...  94118.0  15083824.0\n",
       "60            121    Address: 2017 Buchanan Street  ...  94115.0  21699068.0\n",
       "...           ...                              ...  ...      ...         ...\n",
       "11255       17466  Address: 560 Missouri Street #B  ...  94107.0  64972847.0\n",
       "11257       17470      Address: 3658 Folsom Street  ...  94110.0  15161978.0\n",
       "11292       17533        Address: 2455 14th Avenue  ...  94116.0  15122857.0\n",
       "11299       17552       Address: 784 Spruce Street  ...  94118.0  15083824.0\n",
       "11313       17580    Address: 2017 Buchanan Street  ...  94115.0  21699068.0\n",
       "\n",
       "[782 rows x 18 columns]"
      ]
     },
     "execution_count": 22,
     "metadata": {
      "tags": []
     },
     "output_type": "execute_result"
    }
   ],
   "source": [
    "data[data.totalrooms - (data.bedrooms + data.bathrooms) < 0]"
   ]
  },
  {
   "cell_type": "code",
   "execution_count": 28,
   "metadata": {
    "colab": {
     "base_uri": "https://localhost:8080/"
    },
    "id": "5ujl-Leaznsi",
    "outputId": "59d294f5-ed5e-43e0-eaa6-2d2fe576181c"
   },
   "outputs": [
    {
     "data": {
      "text/plain": [
       "0.5788785566874417"
      ]
     },
     "execution_count": 28,
     "metadata": {
      "tags": []
     },
     "output_type": "execute_result"
    }
   ],
   "source": [
    "get_score(data.dropna()[['finishedsqft']], data.dropna()['zestimate'])"
   ]
  },
  {
   "cell_type": "code",
   "execution_count": 33,
   "metadata": {
    "id": "b8yn3AhJEL9b"
   },
   "outputs": [],
   "source": [
    "\n",
    "_ = get_value(data, 'totalrooms', mode='linreg', value=0, columns_for_reg=['bathrooms', 'bedrooms', 'lastsoldprice','finishedsqft'])"
   ]
  },
  {
   "cell_type": "code",
   "execution_count": 34,
   "metadata": {
    "id": "cY_roAEKEMAV"
   },
   "outputs": [],
   "source": [
    "data['totalrooms'] = data['totalrooms'].apply(lambda x: round(x))"
   ]
  },
  {
   "cell_type": "code",
   "execution_count": 35,
   "metadata": {
    "colab": {
     "base_uri": "https://localhost:8080/"
    },
    "id": "bwzn254jEMD_",
    "outputId": "7ead5f79-17c4-43e5-a820-03ff0d8b53ca"
   },
   "outputs": [
    {
     "data": {
      "text/plain": [
       "SingleFamily        5785\n",
       "Condominium         4782\n",
       "MultiFamily2To4      484\n",
       "Duplex               146\n",
       "Townhouse             66\n",
       "NaN                   40\n",
       "Miscellaneous         17\n",
       "Apartment              3\n",
       "Cooperative            3\n",
       "Mobile                 2\n",
       "MultiFamily5Plus       2\n",
       "Name: usecode, dtype: int64"
      ]
     },
     "execution_count": 35,
     "metadata": {
      "tags": []
     },
     "output_type": "execute_result"
    }
   ],
   "source": [
    "data['usecode'].value_counts(dropna=False) "
   ]
  },
  {
   "cell_type": "code",
   "execution_count": 36,
   "metadata": {
    "id": "Ns4cH5W5EMJw"
   },
   "outputs": [],
   "source": [
    "_ = get_value(data, 'usecode', mode='value', value='other')"
   ]
  },
  {
   "cell_type": "code",
   "execution_count": 37,
   "metadata": {
    "colab": {
     "base_uri": "https://localhost:8080/",
     "height": 267
    },
    "id": "3FSC6k5fEMOg",
    "outputId": "79a0e164-5719-4fe6-a8cb-5af3426856bd"
   },
   "outputs": [
    {
     "data": {
      "text/html": [
       "<div>\n",
       "<style scoped>\n",
       "    .dataframe tbody tr th:only-of-type {\n",
       "        vertical-align: middle;\n",
       "    }\n",
       "\n",
       "    .dataframe tbody tr th {\n",
       "        vertical-align: top;\n",
       "    }\n",
       "\n",
       "    .dataframe thead th {\n",
       "        text-align: right;\n",
       "    }\n",
       "</style>\n",
       "<table border=\"1\" class=\"dataframe\">\n",
       "  <thead>\n",
       "    <tr style=\"text-align: right;\">\n",
       "      <th></th>\n",
       "      <th>Unnamed: 0</th>\n",
       "      <th>address</th>\n",
       "      <th>z_address</th>\n",
       "      <th>bathrooms</th>\n",
       "      <th>bedrooms</th>\n",
       "      <th>finishedsqft</th>\n",
       "      <th>lastsolddate</th>\n",
       "      <th>lastsoldprice</th>\n",
       "      <th>latitude</th>\n",
       "      <th>longitude</th>\n",
       "      <th>neighborhood</th>\n",
       "      <th>totalrooms</th>\n",
       "      <th>usecode</th>\n",
       "      <th>yearbuilt</th>\n",
       "      <th>zestimate</th>\n",
       "      <th>zindexvalue</th>\n",
       "      <th>zipcode</th>\n",
       "      <th>zpid</th>\n",
       "    </tr>\n",
       "  </thead>\n",
       "  <tbody>\n",
       "    <tr>\n",
       "      <th>0</th>\n",
       "      <td>2</td>\n",
       "      <td>Address: 1160 Mission Street #2007</td>\n",
       "      <td>1160 Mission St UNIT 2007</td>\n",
       "      <td>2.0</td>\n",
       "      <td>2.0</td>\n",
       "      <td>1043.0</td>\n",
       "      <td>02/17/2016</td>\n",
       "      <td>1300000.0</td>\n",
       "      <td>37.778705</td>\n",
       "      <td>-122.412635</td>\n",
       "      <td>South of Market</td>\n",
       "      <td>4</td>\n",
       "      <td>Condominium</td>\n",
       "      <td>2007.0</td>\n",
       "      <td>1167508.0</td>\n",
       "      <td>975,700</td>\n",
       "      <td>94103.0</td>\n",
       "      <td>83152781.0</td>\n",
       "    </tr>\n",
       "    <tr>\n",
       "      <th>1</th>\n",
       "      <td>5</td>\n",
       "      <td>Address: 260 King Street #475</td>\n",
       "      <td>260 King St UNIT 475</td>\n",
       "      <td>1.0</td>\n",
       "      <td>1.0</td>\n",
       "      <td>903.0</td>\n",
       "      <td>02/17/2016</td>\n",
       "      <td>750000.0</td>\n",
       "      <td>37.777641</td>\n",
       "      <td>-122.393417</td>\n",
       "      <td>South of Market</td>\n",
       "      <td>3</td>\n",
       "      <td>Condominium</td>\n",
       "      <td>2004.0</td>\n",
       "      <td>823719.0</td>\n",
       "      <td>975,700</td>\n",
       "      <td>94107.0</td>\n",
       "      <td>69819817.0</td>\n",
       "    </tr>\n",
       "  </tbody>\n",
       "</table>\n",
       "</div>"
      ],
      "text/plain": [
       "   Unnamed: 0                             address  ...  zipcode        zpid\n",
       "0           2  Address: 1160 Mission Street #2007  ...  94103.0  83152781.0\n",
       "1           5       Address: 260 King Street #475  ...  94107.0  69819817.0\n",
       "\n",
       "[2 rows x 18 columns]"
      ]
     },
     "execution_count": 37,
     "metadata": {
      "tags": []
     },
     "output_type": "execute_result"
    }
   ],
   "source": [
    "data.head(2)"
   ]
  },
  {
   "cell_type": "code",
   "execution_count": 41,
   "metadata": {
    "colab": {
     "base_uri": "https://localhost:8080/"
    },
    "id": "cgi66Vf8EMRl",
    "outputId": "d7c55381-5e63-4c3f-ba4f-2e2cb9eceaad"
   },
   "outputs": [
    {
     "name": "stdout",
     "output_type": "stream",
     "text": [
      "<class 'pandas.core.frame.DataFrame'>\n",
      "RangeIndex: 11330 entries, 0 to 11329\n",
      "Data columns (total 19 columns):\n",
      " #   Column         Non-Null Count  Dtype  \n",
      "---  ------         --------------  -----  \n",
      " 0   Unnamed: 0     11330 non-null  int64  \n",
      " 1   Unnamed: 0.1   11330 non-null  int64  \n",
      " 2   address        11330 non-null  object \n",
      " 3   z_address      11330 non-null  object \n",
      " 4   bathrooms      11330 non-null  float64\n",
      " 5   bedrooms       11330 non-null  float64\n",
      " 6   finishedsqft   11330 non-null  float64\n",
      " 7   lastsolddate   11330 non-null  object \n",
      " 8   lastsoldprice  11330 non-null  float64\n",
      " 9   latitude       11330 non-null  float64\n",
      " 10  longitude      11330 non-null  float64\n",
      " 11  neighborhood   11330 non-null  object \n",
      " 12  totalrooms     11330 non-null  int64  \n",
      " 13  usecode        11330 non-null  object \n",
      " 14  yearbuilt      11330 non-null  float64\n",
      " 15  zestimate      11330 non-null  float64\n",
      " 16  zindexvalue    11330 non-null  object \n",
      " 17  zipcode        11330 non-null  float64\n",
      " 18  zpid           11330 non-null  float64\n",
      "dtypes: float64(10), int64(3), object(6)\n",
      "memory usage: 1.6+ MB\n"
     ]
    }
   ],
   "source": [
    "data.info()"
   ]
  },
  {
   "cell_type": "code",
   "execution_count": 39,
   "metadata": {
    "id": "ERJw_V6R5N3Y"
   },
   "outputs": [],
   "source": [
    "data.to_csv('new_data.csv')"
   ]
  },
  {
   "cell_type": "markdown",
   "metadata": {
    "id": "LGyc0eSr5ntE"
   },
   "source": [
    " ## Вторая часть"
   ]
  },
  {
   "cell_type": "code",
   "execution_count": 10,
   "metadata": {
    "id": "wLDhKcVZ5OIG"
   },
   "outputs": [],
   "source": [
    "data = pd.read_csv('new_data.csv')"
   ]
  },
  {
   "cell_type": "code",
   "execution_count": 11,
   "metadata": {
    "id": "MuRJH0G0EMTO"
   },
   "outputs": [],
   "source": [
    "def get_one_hot(X, cols):\n",
    "    for each in cols:\n",
    "        dummies = pd.get_dummies(X[each], prefix=each, drop_first=False)\n",
    "        X = pd.concat([X, dummies], axis=1)\n",
    "    return X\n",
    "\n",
    "def get_woe_v1(X, col, target_col):\n",
    "    all_one = X[col].value_counts() / X[col].value_counts()\n",
    "    all_good = len(X[X[target_col] == 1][col])\n",
    "    all_bad = len(X[X[target_col] == 0][col])\n",
    "    odds_series = (\n",
    "        (((all_one*X[df_train[target_col] == 1][col].value_counts()).fillna(0)+0.5)/all_good)\n",
    "        /\n",
    "        (((all_one*X[X[target_col] == 0][col].value_counts()).fillna(0)+0.5)/all_bad)\n",
    "    )\n",
    "    category_woe_dict = np.log(odds_series).to_dict()\n",
    "    X[col + '_woe'] = X[col].apply(category_woe_dict.get)\n",
    "    return X\n",
    "\n",
    "def get_woe_cols(X, cols, target_col):\n",
    "    for col in cols:\n",
    "        X = get_woe_v1(X, col, target_col)\n",
    "    return X    \n",
    "\n"
   ]
  },
  {
   "cell_type": "code",
   "execution_count": 13,
   "metadata": {
    "id": "wxKSNjQiEMXm"
   },
   "outputs": [
    {
     "data": {
      "text/html": [
       "<div>\n",
       "<style scoped>\n",
       "    .dataframe tbody tr th:only-of-type {\n",
       "        vertical-align: middle;\n",
       "    }\n",
       "\n",
       "    .dataframe tbody tr th {\n",
       "        vertical-align: top;\n",
       "    }\n",
       "\n",
       "    .dataframe thead th {\n",
       "        text-align: right;\n",
       "    }\n",
       "</style>\n",
       "<table border=\"1\" class=\"dataframe\">\n",
       "  <thead>\n",
       "    <tr style=\"text-align: right;\">\n",
       "      <th></th>\n",
       "      <th>Unnamed: 0</th>\n",
       "      <th>Unnamed: 0.1</th>\n",
       "      <th>address</th>\n",
       "      <th>z_address</th>\n",
       "      <th>bathrooms</th>\n",
       "      <th>bedrooms</th>\n",
       "      <th>finishedsqft</th>\n",
       "      <th>lastsolddate</th>\n",
       "      <th>lastsoldprice</th>\n",
       "      <th>latitude</th>\n",
       "      <th>longitude</th>\n",
       "      <th>neighborhood</th>\n",
       "      <th>totalrooms</th>\n",
       "      <th>usecode</th>\n",
       "      <th>yearbuilt</th>\n",
       "      <th>zestimate</th>\n",
       "      <th>zindexvalue</th>\n",
       "      <th>zipcode</th>\n",
       "      <th>zpid</th>\n",
       "    </tr>\n",
       "  </thead>\n",
       "  <tbody>\n",
       "    <tr>\n",
       "      <th>0</th>\n",
       "      <td>0</td>\n",
       "      <td>2</td>\n",
       "      <td>Address: 1160 Mission Street #2007</td>\n",
       "      <td>1160 Mission St UNIT 2007</td>\n",
       "      <td>2.0</td>\n",
       "      <td>2.0</td>\n",
       "      <td>1043.0</td>\n",
       "      <td>02/17/2016</td>\n",
       "      <td>1300000.0</td>\n",
       "      <td>37.778705</td>\n",
       "      <td>-122.412635</td>\n",
       "      <td>South of Market</td>\n",
       "      <td>4</td>\n",
       "      <td>Condominium</td>\n",
       "      <td>2007.0</td>\n",
       "      <td>1167508.0</td>\n",
       "      <td>975,700</td>\n",
       "      <td>94103.0</td>\n",
       "      <td>83152781.0</td>\n",
       "    </tr>\n",
       "    <tr>\n",
       "      <th>1</th>\n",
       "      <td>1</td>\n",
       "      <td>5</td>\n",
       "      <td>Address: 260 King Street #475</td>\n",
       "      <td>260 King St UNIT 475</td>\n",
       "      <td>1.0</td>\n",
       "      <td>1.0</td>\n",
       "      <td>903.0</td>\n",
       "      <td>02/17/2016</td>\n",
       "      <td>750000.0</td>\n",
       "      <td>37.777641</td>\n",
       "      <td>-122.393417</td>\n",
       "      <td>South of Market</td>\n",
       "      <td>3</td>\n",
       "      <td>Condominium</td>\n",
       "      <td>2004.0</td>\n",
       "      <td>823719.0</td>\n",
       "      <td>975,700</td>\n",
       "      <td>94107.0</td>\n",
       "      <td>69819817.0</td>\n",
       "    </tr>\n",
       "    <tr>\n",
       "      <th>2</th>\n",
       "      <td>2</td>\n",
       "      <td>7</td>\n",
       "      <td>Address: 560 Missouri Street #B</td>\n",
       "      <td>560 Missouri St # B</td>\n",
       "      <td>4.0</td>\n",
       "      <td>3.0</td>\n",
       "      <td>1425.0</td>\n",
       "      <td>02/17/2016</td>\n",
       "      <td>1495000.0</td>\n",
       "      <td>37.759198</td>\n",
       "      <td>-122.396516</td>\n",
       "      <td>Potrero Hill</td>\n",
       "      <td>6</td>\n",
       "      <td>Condominium</td>\n",
       "      <td>2003.0</td>\n",
       "      <td>1708594.0</td>\n",
       "      <td>1,277,600</td>\n",
       "      <td>94107.0</td>\n",
       "      <td>64972847.0</td>\n",
       "    </tr>\n",
       "    <tr>\n",
       "      <th>3</th>\n",
       "      <td>3</td>\n",
       "      <td>9</td>\n",
       "      <td>Address: 350 Missouri Street</td>\n",
       "      <td>350 Missouri St</td>\n",
       "      <td>3.0</td>\n",
       "      <td>3.0</td>\n",
       "      <td>2231.0</td>\n",
       "      <td>02/17/2016</td>\n",
       "      <td>2700000.0</td>\n",
       "      <td>37.761886</td>\n",
       "      <td>-122.396769</td>\n",
       "      <td>Potrero Hill</td>\n",
       "      <td>10</td>\n",
       "      <td>SingleFamily</td>\n",
       "      <td>1927.0</td>\n",
       "      <td>2411236.0</td>\n",
       "      <td>1,277,600</td>\n",
       "      <td>94107.0</td>\n",
       "      <td>15149489.0</td>\n",
       "    </tr>\n",
       "    <tr>\n",
       "      <th>4</th>\n",
       "      <td>4</td>\n",
       "      <td>11</td>\n",
       "      <td>Address: 3658 Folsom Street</td>\n",
       "      <td>3658 Folsom St</td>\n",
       "      <td>3.0</td>\n",
       "      <td>3.0</td>\n",
       "      <td>1300.0</td>\n",
       "      <td>02/17/2016</td>\n",
       "      <td>1530000.0</td>\n",
       "      <td>37.740795</td>\n",
       "      <td>-122.413453</td>\n",
       "      <td>Bernal Heights</td>\n",
       "      <td>4</td>\n",
       "      <td>SingleFamily</td>\n",
       "      <td>1900.0</td>\n",
       "      <td>1918539.0</td>\n",
       "      <td>1,248,000</td>\n",
       "      <td>94110.0</td>\n",
       "      <td>15161978.0</td>\n",
       "    </tr>\n",
       "  </tbody>\n",
       "</table>\n",
       "</div>"
      ],
      "text/plain": [
       "   Unnamed: 0  Unnamed: 0.1                             address  \\\n",
       "0           0             2  Address: 1160 Mission Street #2007   \n",
       "1           1             5       Address: 260 King Street #475   \n",
       "2           2             7     Address: 560 Missouri Street #B   \n",
       "3           3             9        Address: 350 Missouri Street   \n",
       "4           4            11         Address: 3658 Folsom Street   \n",
       "\n",
       "                   z_address  bathrooms  bedrooms  finishedsqft lastsolddate  \\\n",
       "0  1160 Mission St UNIT 2007        2.0       2.0        1043.0   02/17/2016   \n",
       "1       260 King St UNIT 475        1.0       1.0         903.0   02/17/2016   \n",
       "2        560 Missouri St # B        4.0       3.0        1425.0   02/17/2016   \n",
       "3            350 Missouri St        3.0       3.0        2231.0   02/17/2016   \n",
       "4             3658 Folsom St        3.0       3.0        1300.0   02/17/2016   \n",
       "\n",
       "   lastsoldprice   latitude   longitude     neighborhood  totalrooms  \\\n",
       "0      1300000.0  37.778705 -122.412635  South of Market           4   \n",
       "1       750000.0  37.777641 -122.393417  South of Market           3   \n",
       "2      1495000.0  37.759198 -122.396516     Potrero Hill           6   \n",
       "3      2700000.0  37.761886 -122.396769     Potrero Hill          10   \n",
       "4      1530000.0  37.740795 -122.413453   Bernal Heights           4   \n",
       "\n",
       "        usecode  yearbuilt  zestimate zindexvalue  zipcode        zpid  \n",
       "0   Condominium     2007.0  1167508.0     975,700  94103.0  83152781.0  \n",
       "1   Condominium     2004.0   823719.0     975,700  94107.0  69819817.0  \n",
       "2   Condominium     2003.0  1708594.0   1,277,600  94107.0  64972847.0  \n",
       "3  SingleFamily     1927.0  2411236.0   1,277,600  94107.0  15149489.0  \n",
       "4  SingleFamily     1900.0  1918539.0   1,248,000  94110.0  15161978.0  "
      ]
     },
     "execution_count": 13,
     "metadata": {},
     "output_type": "execute_result"
    }
   ],
   "source": [
    "data.head()"
   ]
  },
  {
   "cell_type": "code",
   "execution_count": 22,
   "metadata": {},
   "outputs": [],
   "source": [
    "columns = [\n",
    "    'bathrooms',\n",
    "    'bedrooms',\n",
    "    'finishedsqft',\n",
    "    'latitude',\n",
    "    'longitude',\n",
    "    'totalrooms'\n",
    "]"
   ]
  },
  {
   "cell_type": "code",
   "execution_count": 23,
   "metadata": {
    "id": "vCiu05pVEMbP"
   },
   "outputs": [
    {
     "data": {
      "text/plain": [
       "0.6462356869965435"
      ]
     },
     "execution_count": 23,
     "metadata": {},
     "output_type": "execute_result"
    }
   ],
   "source": [
    "get_score(data[columns], data['zestimate'])"
   ]
  },
  {
   "cell_type": "code",
   "execution_count": 41,
   "metadata": {},
   "outputs": [],
   "source": [
    "data_processed = data.drop(columns=['Unnamed: 0', 'Unnamed: 0.1'])"
   ]
  },
  {
   "cell_type": "code",
   "execution_count": 42,
   "metadata": {
    "id": "CsEr39F0EMc7"
   },
   "outputs": [
    {
     "data": {
      "text/html": [
       "<div>\n",
       "<style scoped>\n",
       "    .dataframe tbody tr th:only-of-type {\n",
       "        vertical-align: middle;\n",
       "    }\n",
       "\n",
       "    .dataframe tbody tr th {\n",
       "        vertical-align: top;\n",
       "    }\n",
       "\n",
       "    .dataframe thead th {\n",
       "        text-align: right;\n",
       "    }\n",
       "</style>\n",
       "<table border=\"1\" class=\"dataframe\">\n",
       "  <thead>\n",
       "    <tr style=\"text-align: right;\">\n",
       "      <th></th>\n",
       "      <th>address</th>\n",
       "      <th>z_address</th>\n",
       "      <th>bathrooms</th>\n",
       "      <th>bedrooms</th>\n",
       "      <th>finishedsqft</th>\n",
       "      <th>lastsolddate</th>\n",
       "      <th>lastsoldprice</th>\n",
       "      <th>latitude</th>\n",
       "      <th>longitude</th>\n",
       "      <th>neighborhood</th>\n",
       "      <th>...</th>\n",
       "      <th>usecode_Condominium</th>\n",
       "      <th>usecode_Cooperative</th>\n",
       "      <th>usecode_Duplex</th>\n",
       "      <th>usecode_Miscellaneous</th>\n",
       "      <th>usecode_Mobile</th>\n",
       "      <th>usecode_MultiFamily2To4</th>\n",
       "      <th>usecode_MultiFamily5Plus</th>\n",
       "      <th>usecode_SingleFamily</th>\n",
       "      <th>usecode_Townhouse</th>\n",
       "      <th>usecode_other</th>\n",
       "    </tr>\n",
       "  </thead>\n",
       "  <tbody>\n",
       "    <tr>\n",
       "      <th>0</th>\n",
       "      <td>Address: 1160 Mission Street #2007</td>\n",
       "      <td>1160 Mission St UNIT 2007</td>\n",
       "      <td>2.0</td>\n",
       "      <td>2.0</td>\n",
       "      <td>1043.0</td>\n",
       "      <td>02/17/2016</td>\n",
       "      <td>1300000.0</td>\n",
       "      <td>37.778705</td>\n",
       "      <td>-122.412635</td>\n",
       "      <td>South of Market</td>\n",
       "      <td>...</td>\n",
       "      <td>1</td>\n",
       "      <td>0</td>\n",
       "      <td>0</td>\n",
       "      <td>0</td>\n",
       "      <td>0</td>\n",
       "      <td>0</td>\n",
       "      <td>0</td>\n",
       "      <td>0</td>\n",
       "      <td>0</td>\n",
       "      <td>0</td>\n",
       "    </tr>\n",
       "    <tr>\n",
       "      <th>1</th>\n",
       "      <td>Address: 260 King Street #475</td>\n",
       "      <td>260 King St UNIT 475</td>\n",
       "      <td>1.0</td>\n",
       "      <td>1.0</td>\n",
       "      <td>903.0</td>\n",
       "      <td>02/17/2016</td>\n",
       "      <td>750000.0</td>\n",
       "      <td>37.777641</td>\n",
       "      <td>-122.393417</td>\n",
       "      <td>South of Market</td>\n",
       "      <td>...</td>\n",
       "      <td>1</td>\n",
       "      <td>0</td>\n",
       "      <td>0</td>\n",
       "      <td>0</td>\n",
       "      <td>0</td>\n",
       "      <td>0</td>\n",
       "      <td>0</td>\n",
       "      <td>0</td>\n",
       "      <td>0</td>\n",
       "      <td>0</td>\n",
       "    </tr>\n",
       "    <tr>\n",
       "      <th>2</th>\n",
       "      <td>Address: 560 Missouri Street #B</td>\n",
       "      <td>560 Missouri St # B</td>\n",
       "      <td>4.0</td>\n",
       "      <td>3.0</td>\n",
       "      <td>1425.0</td>\n",
       "      <td>02/17/2016</td>\n",
       "      <td>1495000.0</td>\n",
       "      <td>37.759198</td>\n",
       "      <td>-122.396516</td>\n",
       "      <td>Potrero Hill</td>\n",
       "      <td>...</td>\n",
       "      <td>1</td>\n",
       "      <td>0</td>\n",
       "      <td>0</td>\n",
       "      <td>0</td>\n",
       "      <td>0</td>\n",
       "      <td>0</td>\n",
       "      <td>0</td>\n",
       "      <td>0</td>\n",
       "      <td>0</td>\n",
       "      <td>0</td>\n",
       "    </tr>\n",
       "    <tr>\n",
       "      <th>3</th>\n",
       "      <td>Address: 350 Missouri Street</td>\n",
       "      <td>350 Missouri St</td>\n",
       "      <td>3.0</td>\n",
       "      <td>3.0</td>\n",
       "      <td>2231.0</td>\n",
       "      <td>02/17/2016</td>\n",
       "      <td>2700000.0</td>\n",
       "      <td>37.761886</td>\n",
       "      <td>-122.396769</td>\n",
       "      <td>Potrero Hill</td>\n",
       "      <td>...</td>\n",
       "      <td>0</td>\n",
       "      <td>0</td>\n",
       "      <td>0</td>\n",
       "      <td>0</td>\n",
       "      <td>0</td>\n",
       "      <td>0</td>\n",
       "      <td>0</td>\n",
       "      <td>1</td>\n",
       "      <td>0</td>\n",
       "      <td>0</td>\n",
       "    </tr>\n",
       "    <tr>\n",
       "      <th>4</th>\n",
       "      <td>Address: 3658 Folsom Street</td>\n",
       "      <td>3658 Folsom St</td>\n",
       "      <td>3.0</td>\n",
       "      <td>3.0</td>\n",
       "      <td>1300.0</td>\n",
       "      <td>02/17/2016</td>\n",
       "      <td>1530000.0</td>\n",
       "      <td>37.740795</td>\n",
       "      <td>-122.413453</td>\n",
       "      <td>Bernal Heights</td>\n",
       "      <td>...</td>\n",
       "      <td>0</td>\n",
       "      <td>0</td>\n",
       "      <td>0</td>\n",
       "      <td>0</td>\n",
       "      <td>0</td>\n",
       "      <td>0</td>\n",
       "      <td>0</td>\n",
       "      <td>1</td>\n",
       "      <td>0</td>\n",
       "      <td>0</td>\n",
       "    </tr>\n",
       "  </tbody>\n",
       "</table>\n",
       "<p>5 rows × 27 columns</p>\n",
       "</div>"
      ],
      "text/plain": [
       "                              address                  z_address  bathrooms  \\\n",
       "0  Address: 1160 Mission Street #2007  1160 Mission St UNIT 2007        2.0   \n",
       "1       Address: 260 King Street #475       260 King St UNIT 475        1.0   \n",
       "2     Address: 560 Missouri Street #B        560 Missouri St # B        4.0   \n",
       "3        Address: 350 Missouri Street            350 Missouri St        3.0   \n",
       "4         Address: 3658 Folsom Street             3658 Folsom St        3.0   \n",
       "\n",
       "   bedrooms  finishedsqft lastsolddate  lastsoldprice   latitude   longitude  \\\n",
       "0       2.0        1043.0   02/17/2016      1300000.0  37.778705 -122.412635   \n",
       "1       1.0         903.0   02/17/2016       750000.0  37.777641 -122.393417   \n",
       "2       3.0        1425.0   02/17/2016      1495000.0  37.759198 -122.396516   \n",
       "3       3.0        2231.0   02/17/2016      2700000.0  37.761886 -122.396769   \n",
       "4       3.0        1300.0   02/17/2016      1530000.0  37.740795 -122.413453   \n",
       "\n",
       "      neighborhood  ...  usecode_Condominium  usecode_Cooperative  \\\n",
       "0  South of Market  ...                    1                    0   \n",
       "1  South of Market  ...                    1                    0   \n",
       "2     Potrero Hill  ...                    1                    0   \n",
       "3     Potrero Hill  ...                    0                    0   \n",
       "4   Bernal Heights  ...                    0                    0   \n",
       "\n",
       "   usecode_Duplex usecode_Miscellaneous  usecode_Mobile  \\\n",
       "0               0                     0               0   \n",
       "1               0                     0               0   \n",
       "2               0                     0               0   \n",
       "3               0                     0               0   \n",
       "4               0                     0               0   \n",
       "\n",
       "   usecode_MultiFamily2To4  usecode_MultiFamily5Plus  usecode_SingleFamily  \\\n",
       "0                        0                         0                     0   \n",
       "1                        0                         0                     0   \n",
       "2                        0                         0                     0   \n",
       "3                        0                         0                     1   \n",
       "4                        0                         0                     1   \n",
       "\n",
       "   usecode_Townhouse  usecode_other  \n",
       "0                  0              0  \n",
       "1                  0              0  \n",
       "2                  0              0  \n",
       "3                  0              0  \n",
       "4                  0              0  \n",
       "\n",
       "[5 rows x 27 columns]"
      ]
     },
     "execution_count": 42,
     "metadata": {},
     "output_type": "execute_result"
    }
   ],
   "source": [
    "data_processed = get_one_hot(data_processed, cols=['usecode'])\n",
    "del data_processed['usecode']\n",
    "data_processed.head()"
   ]
  },
  {
   "cell_type": "code",
   "execution_count": 29,
   "metadata": {},
   "outputs": [
    {
     "data": {
      "text/plain": [
       "Index(['Unnamed: 0', 'Unnamed: 0.1', 'address', 'z_address', 'bathrooms',\n",
       "       'bedrooms', 'finishedsqft', 'lastsolddate', 'lastsoldprice', 'latitude',\n",
       "       'longitude', 'neighborhood', 'totalrooms', 'usecode', 'yearbuilt',\n",
       "       'zestimate', 'zindexvalue', 'zipcode', 'zpid', 'usecode_Apartment',\n",
       "       'usecode_Condominium', 'usecode_Cooperative', 'usecode_Duplex',\n",
       "       'usecode_Miscellaneous', 'usecode_Mobile', 'usecode_MultiFamily2To4',\n",
       "       'usecode_MultiFamily5Plus', 'usecode_SingleFamily', 'usecode_Townhouse',\n",
       "       'usecode_other'],\n",
       "      dtype='object')"
      ]
     },
     "execution_count": 29,
     "metadata": {},
     "output_type": "execute_result"
    }
   ],
   "source": [
    "data_processed.columns"
   ]
  },
  {
   "cell_type": "code",
   "execution_count": 43,
   "metadata": {},
   "outputs": [],
   "source": [
    "exclude_columns = ['address', 'z_address', 'lastsoldprice', 'zestimate', 'lastsolddate', 'zindexvalue', 'zpid', 'neighborhood']"
   ]
  },
  {
   "cell_type": "code",
   "execution_count": 44,
   "metadata": {
    "id": "jrTmnuEwEMk4"
   },
   "outputs": [
    {
     "data": {
      "text/plain": [
       "0.6751665144897492"
      ]
     },
     "execution_count": 44,
     "metadata": {},
     "output_type": "execute_result"
    }
   ],
   "source": [
    "get_score(data_processed.drop(columns=exclude_columns), data_processed['zestimate'])"
   ]
  },
  {
   "cell_type": "code",
   "execution_count": 46,
   "metadata": {
    "id": "5UZuZ3ZSEMrQ"
   },
   "outputs": [
    {
     "data": {
      "text/plain": [
       "0.7500171307003617"
      ]
     },
     "execution_count": 46,
     "metadata": {},
     "output_type": "execute_result"
    }
   ],
   "source": [
    "get_score(get_one_hot(data_processed, cols=['neighborhood']).drop(columns=exclude_columns), data_processed['zestimate'])"
   ]
  },
  {
   "cell_type": "code",
   "execution_count": 47,
   "metadata": {
    "id": "qZjd4mbpEMuX"
   },
   "outputs": [],
   "source": [
    "data_processed = get_one_hot(data_processed, cols=['neighborhood'])"
   ]
  },
  {
   "cell_type": "code",
   "execution_count": 48,
   "metadata": {},
   "outputs": [
    {
     "data": {
      "text/html": [
       "<div>\n",
       "<style scoped>\n",
       "    .dataframe tbody tr th:only-of-type {\n",
       "        vertical-align: middle;\n",
       "    }\n",
       "\n",
       "    .dataframe tbody tr th {\n",
       "        vertical-align: top;\n",
       "    }\n",
       "\n",
       "    .dataframe thead th {\n",
       "        text-align: right;\n",
       "    }\n",
       "</style>\n",
       "<table border=\"1\" class=\"dataframe\">\n",
       "  <thead>\n",
       "    <tr style=\"text-align: right;\">\n",
       "      <th></th>\n",
       "      <th>address</th>\n",
       "      <th>z_address</th>\n",
       "      <th>bathrooms</th>\n",
       "      <th>bedrooms</th>\n",
       "      <th>finishedsqft</th>\n",
       "      <th>lastsolddate</th>\n",
       "      <th>lastsoldprice</th>\n",
       "      <th>latitude</th>\n",
       "      <th>longitude</th>\n",
       "      <th>neighborhood</th>\n",
       "      <th>...</th>\n",
       "      <th>neighborhood_Sunnyside</th>\n",
       "      <th>neighborhood_Telegraph Hill</th>\n",
       "      <th>neighborhood_Twin Peaks</th>\n",
       "      <th>neighborhood_Van Ness - Civic Center</th>\n",
       "      <th>neighborhood_Visitacion Valley</th>\n",
       "      <th>neighborhood_West Portal</th>\n",
       "      <th>neighborhood_Western Addition</th>\n",
       "      <th>neighborhood_Westwood Highlands</th>\n",
       "      <th>neighborhood_Westwood Park</th>\n",
       "      <th>neighborhood_Yerba Buena</th>\n",
       "    </tr>\n",
       "  </thead>\n",
       "  <tbody>\n",
       "    <tr>\n",
       "      <th>0</th>\n",
       "      <td>Address: 1160 Mission Street #2007</td>\n",
       "      <td>1160 Mission St UNIT 2007</td>\n",
       "      <td>2.0</td>\n",
       "      <td>2.0</td>\n",
       "      <td>1043.0</td>\n",
       "      <td>02/17/2016</td>\n",
       "      <td>1300000.0</td>\n",
       "      <td>37.778705</td>\n",
       "      <td>-122.412635</td>\n",
       "      <td>South of Market</td>\n",
       "      <td>...</td>\n",
       "      <td>0</td>\n",
       "      <td>0</td>\n",
       "      <td>0</td>\n",
       "      <td>0</td>\n",
       "      <td>0</td>\n",
       "      <td>0</td>\n",
       "      <td>0</td>\n",
       "      <td>0</td>\n",
       "      <td>0</td>\n",
       "      <td>0</td>\n",
       "    </tr>\n",
       "    <tr>\n",
       "      <th>1</th>\n",
       "      <td>Address: 260 King Street #475</td>\n",
       "      <td>260 King St UNIT 475</td>\n",
       "      <td>1.0</td>\n",
       "      <td>1.0</td>\n",
       "      <td>903.0</td>\n",
       "      <td>02/17/2016</td>\n",
       "      <td>750000.0</td>\n",
       "      <td>37.777641</td>\n",
       "      <td>-122.393417</td>\n",
       "      <td>South of Market</td>\n",
       "      <td>...</td>\n",
       "      <td>0</td>\n",
       "      <td>0</td>\n",
       "      <td>0</td>\n",
       "      <td>0</td>\n",
       "      <td>0</td>\n",
       "      <td>0</td>\n",
       "      <td>0</td>\n",
       "      <td>0</td>\n",
       "      <td>0</td>\n",
       "      <td>0</td>\n",
       "    </tr>\n",
       "    <tr>\n",
       "      <th>2</th>\n",
       "      <td>Address: 560 Missouri Street #B</td>\n",
       "      <td>560 Missouri St # B</td>\n",
       "      <td>4.0</td>\n",
       "      <td>3.0</td>\n",
       "      <td>1425.0</td>\n",
       "      <td>02/17/2016</td>\n",
       "      <td>1495000.0</td>\n",
       "      <td>37.759198</td>\n",
       "      <td>-122.396516</td>\n",
       "      <td>Potrero Hill</td>\n",
       "      <td>...</td>\n",
       "      <td>0</td>\n",
       "      <td>0</td>\n",
       "      <td>0</td>\n",
       "      <td>0</td>\n",
       "      <td>0</td>\n",
       "      <td>0</td>\n",
       "      <td>0</td>\n",
       "      <td>0</td>\n",
       "      <td>0</td>\n",
       "      <td>0</td>\n",
       "    </tr>\n",
       "    <tr>\n",
       "      <th>3</th>\n",
       "      <td>Address: 350 Missouri Street</td>\n",
       "      <td>350 Missouri St</td>\n",
       "      <td>3.0</td>\n",
       "      <td>3.0</td>\n",
       "      <td>2231.0</td>\n",
       "      <td>02/17/2016</td>\n",
       "      <td>2700000.0</td>\n",
       "      <td>37.761886</td>\n",
       "      <td>-122.396769</td>\n",
       "      <td>Potrero Hill</td>\n",
       "      <td>...</td>\n",
       "      <td>0</td>\n",
       "      <td>0</td>\n",
       "      <td>0</td>\n",
       "      <td>0</td>\n",
       "      <td>0</td>\n",
       "      <td>0</td>\n",
       "      <td>0</td>\n",
       "      <td>0</td>\n",
       "      <td>0</td>\n",
       "      <td>0</td>\n",
       "    </tr>\n",
       "    <tr>\n",
       "      <th>4</th>\n",
       "      <td>Address: 3658 Folsom Street</td>\n",
       "      <td>3658 Folsom St</td>\n",
       "      <td>3.0</td>\n",
       "      <td>3.0</td>\n",
       "      <td>1300.0</td>\n",
       "      <td>02/17/2016</td>\n",
       "      <td>1530000.0</td>\n",
       "      <td>37.740795</td>\n",
       "      <td>-122.413453</td>\n",
       "      <td>Bernal Heights</td>\n",
       "      <td>...</td>\n",
       "      <td>0</td>\n",
       "      <td>0</td>\n",
       "      <td>0</td>\n",
       "      <td>0</td>\n",
       "      <td>0</td>\n",
       "      <td>0</td>\n",
       "      <td>0</td>\n",
       "      <td>0</td>\n",
       "      <td>0</td>\n",
       "      <td>0</td>\n",
       "    </tr>\n",
       "  </tbody>\n",
       "</table>\n",
       "<p>5 rows × 98 columns</p>\n",
       "</div>"
      ],
      "text/plain": [
       "                              address                  z_address  bathrooms  \\\n",
       "0  Address: 1160 Mission Street #2007  1160 Mission St UNIT 2007        2.0   \n",
       "1       Address: 260 King Street #475       260 King St UNIT 475        1.0   \n",
       "2     Address: 560 Missouri Street #B        560 Missouri St # B        4.0   \n",
       "3        Address: 350 Missouri Street            350 Missouri St        3.0   \n",
       "4         Address: 3658 Folsom Street             3658 Folsom St        3.0   \n",
       "\n",
       "   bedrooms  finishedsqft lastsolddate  lastsoldprice   latitude   longitude  \\\n",
       "0       2.0        1043.0   02/17/2016      1300000.0  37.778705 -122.412635   \n",
       "1       1.0         903.0   02/17/2016       750000.0  37.777641 -122.393417   \n",
       "2       3.0        1425.0   02/17/2016      1495000.0  37.759198 -122.396516   \n",
       "3       3.0        2231.0   02/17/2016      2700000.0  37.761886 -122.396769   \n",
       "4       3.0        1300.0   02/17/2016      1530000.0  37.740795 -122.413453   \n",
       "\n",
       "      neighborhood  ...  neighborhood_Sunnyside  neighborhood_Telegraph Hill  \\\n",
       "0  South of Market  ...                       0                            0   \n",
       "1  South of Market  ...                       0                            0   \n",
       "2     Potrero Hill  ...                       0                            0   \n",
       "3     Potrero Hill  ...                       0                            0   \n",
       "4   Bernal Heights  ...                       0                            0   \n",
       "\n",
       "   neighborhood_Twin Peaks neighborhood_Van Ness - Civic Center  \\\n",
       "0                        0                                    0   \n",
       "1                        0                                    0   \n",
       "2                        0                                    0   \n",
       "3                        0                                    0   \n",
       "4                        0                                    0   \n",
       "\n",
       "   neighborhood_Visitacion Valley  neighborhood_West Portal  \\\n",
       "0                               0                         0   \n",
       "1                               0                         0   \n",
       "2                               0                         0   \n",
       "3                               0                         0   \n",
       "4                               0                         0   \n",
       "\n",
       "   neighborhood_Western Addition  neighborhood_Westwood Highlands  \\\n",
       "0                              0                                0   \n",
       "1                              0                                0   \n",
       "2                              0                                0   \n",
       "3                              0                                0   \n",
       "4                              0                                0   \n",
       "\n",
       "   neighborhood_Westwood Park  neighborhood_Yerba Buena  \n",
       "0                           0                         0  \n",
       "1                           0                         0  \n",
       "2                           0                         0  \n",
       "3                           0                         0  \n",
       "4                           0                         0  \n",
       "\n",
       "[5 rows x 98 columns]"
      ]
     },
     "execution_count": 48,
     "metadata": {},
     "output_type": "execute_result"
    }
   ],
   "source": [
    "data_processed.head()"
   ]
  },
  {
   "cell_type": "code",
   "execution_count": 49,
   "metadata": {},
   "outputs": [
    {
     "data": {
      "text/plain": [
       "0.7500171307003617"
      ]
     },
     "execution_count": 49,
     "metadata": {},
     "output_type": "execute_result"
    }
   ],
   "source": [
    "get_score(data_processed.drop(columns=exclude_columns), data_processed['zestimate'])"
   ]
  },
  {
   "cell_type": "code",
   "execution_count": 78,
   "metadata": {},
   "outputs": [],
   "source": [
    "data_processed['lastsoldmonth'] = [t.month for t in pd.to_datetime(data['lastsolddate'])]"
   ]
  },
  {
   "cell_type": "code",
   "execution_count": 53,
   "metadata": {},
   "outputs": [],
   "source": [
    "data_processed['lastsolddate'] = pd.to_datetime(data_processed['lastsolddate'])"
   ]
  },
  {
   "cell_type": "code",
   "execution_count": 63,
   "metadata": {},
   "outputs": [],
   "source": [
    "data_processed['lastsolddate'] = [t.timestamp() for t in data_processed['lastsolddate']]"
   ]
  },
  {
   "cell_type": "code",
   "execution_count": 66,
   "metadata": {},
   "outputs": [],
   "source": [
    "exclude_columns = ['address',\n",
    " 'z_address',\n",
    " 'lastsoldprice',\n",
    " 'zestimate',\n",
    " 'zindexvalue',\n",
    " 'zpid',\n",
    " 'neighborhood']"
   ]
  },
  {
   "cell_type": "code",
   "execution_count": 68,
   "metadata": {},
   "outputs": [],
   "source": [
    "data_processed['lastsolddate'] -= data_processed['lastsolddate'].mean()\n",
    "data_processed['lastsolddate'] /= data_processed['lastsolddate'].std()"
   ]
  },
  {
   "cell_type": "code",
   "execution_count": 69,
   "metadata": {},
   "outputs": [
    {
     "data": {
      "text/plain": [
       "0        1.230869\n",
       "1        1.230869\n",
       "2        1.230869\n",
       "3        1.230869\n",
       "4        1.230869\n",
       "           ...   \n",
       "11325    1.204338\n",
       "11326    1.202443\n",
       "11327    1.202443\n",
       "11328    1.202443\n",
       "11329    1.200548\n",
       "Name: lastsolddate, Length: 11330, dtype: float64"
      ]
     },
     "execution_count": 69,
     "metadata": {},
     "output_type": "execute_result"
    }
   ],
   "source": [
    "data_processed['lastsolddate']"
   ]
  },
  {
   "cell_type": "code",
   "execution_count": 82,
   "metadata": {},
   "outputs": [
    {
     "data": {
      "text/plain": [
       "0        2\n",
       "1        2\n",
       "2        2\n",
       "3        2\n",
       "4        2\n",
       "        ..\n",
       "11325    2\n",
       "11326    2\n",
       "11327    2\n",
       "11328    2\n",
       "11329    2\n",
       "Name: lastsoldmonth, Length: 11330, dtype: int64"
      ]
     },
     "execution_count": 82,
     "metadata": {},
     "output_type": "execute_result"
    }
   ],
   "source": [
    "data_processed['lastsoldmonth']"
   ]
  },
  {
   "cell_type": "code",
   "execution_count": 85,
   "metadata": {},
   "outputs": [
    {
     "data": {
      "text/plain": [
       "0.7500105605697285"
      ]
     },
     "execution_count": 85,
     "metadata": {},
     "output_type": "execute_result"
    }
   ],
   "source": [
    "get_score(data_processed.drop(columns=exclude_columns), data_processed['zestimate'])"
   ]
  },
  {
   "cell_type": "code",
   "execution_count": 98,
   "metadata": {},
   "outputs": [
    {
     "name": "stdout",
     "output_type": "stream",
     "text": [
      "2\n",
      "817\n",
      "1502253.364749082\n",
      "1092435.3831177326\n",
      "8\n",
      "1165\n",
      "1503064.9261802575\n",
      "1109609.7229528264\n",
      "6\n",
      "605\n",
      "1571185.1933884297\n",
      "1164659.3598672794\n",
      "1\n",
      "759\n",
      "1493958.184453228\n",
      "1132562.650724521\n",
      "3\n",
      "863\n",
      "1653870.4716106604\n",
      "1366803.1472279753\n",
      "11\n",
      "1088\n",
      "1575785.7858455882\n",
      "1229419.3377919744\n",
      "12\n",
      "988\n",
      "1622167.2358299596\n",
      "1380084.9981488846\n",
      "7\n",
      "1075\n",
      "1534187.913488372\n",
      "1276952.7007302365\n",
      "10\n",
      "1433\n",
      "1631256.240055827\n",
      "1293183.5300640475\n",
      "9\n",
      "983\n",
      "1433455.92878942\n",
      "939399.9710280234\n",
      "5\n",
      "682\n",
      "1628287.4164222875\n",
      "1251367.9007591403\n",
      "4\n",
      "872\n",
      "1634824.0699541285\n",
      "1380372.8745794736\n"
     ]
    }
   ],
   "source": [
    "for month in data_processed['lastsoldmonth'].unique():\n",
    "    print(month)\n",
    "    print(data_processed[data_processed['lastsoldmonth'] == month]['zestimate'].count())\n",
    "    print(data_processed[data_processed['lastsoldmonth'] == month]['zestimate'].mean())\n",
    "    print(data_processed[data_processed['lastsoldmonth'] == month]['zestimate'].std())"
   ]
  },
  {
   "cell_type": "code",
   "execution_count": 93,
   "metadata": {},
   "outputs": [
    {
     "data": {
      "text/plain": [
       "0.749979955183464"
      ]
     },
     "execution_count": 93,
     "metadata": {},
     "output_type": "execute_result"
    }
   ],
   "source": [
    "get_score(get_one_hot(data_processed, cols=['lastsoldmonth']).drop(columns=exclude_columns), data_processed['zestimate'])"
   ]
  },
  {
   "cell_type": "code",
   "execution_count": 97,
   "metadata": {},
   "outputs": [
    {
     "data": {
      "text/plain": [
       "0.0032757813975679007"
      ]
     },
     "execution_count": 97,
     "metadata": {},
     "output_type": "execute_result"
    }
   ],
   "source": [
    "get_score(get_one_hot(data_processed[['lastsoldmonth']], cols=['lastsoldmonth']), data_processed['zestimate'])"
   ]
  },
  {
   "cell_type": "code",
   "execution_count": 101,
   "metadata": {},
   "outputs": [
    {
     "data": {
      "text/plain": [
       "0.7561274146651628"
      ]
     },
     "execution_count": 101,
     "metadata": {},
     "output_type": "execute_result"
    }
   ],
   "source": [
    "get_score(get_one_hot(data_processed, cols=['zipcode']).drop(columns=exclude_columns), data_processed['zestimate'])"
   ]
  },
  {
   "cell_type": "markdown",
   "metadata": {},
   "source": [
    "## Создадим свои районы"
   ]
  },
  {
   "cell_type": "code",
   "execution_count": 135,
   "metadata": {},
   "outputs": [],
   "source": [
    "from sklearn.cluster import DBSCAN, KMeans"
   ]
  },
  {
   "cell_type": "code",
   "execution_count": 136,
   "metadata": {},
   "outputs": [
    {
     "data": {
      "text/plain": [
       "25"
      ]
     },
     "execution_count": 136,
     "metadata": {},
     "output_type": "execute_result"
    }
   ],
   "source": [
    "len(data_processed['zipcode'].unique())"
   ]
  },
  {
   "cell_type": "code",
   "execution_count": 137,
   "metadata": {},
   "outputs": [],
   "source": [
    "kmeans = KMeans(n_clusters=25)\n",
    "cluster = kmeans.fit_predict(data_processed[['latitude', 'longitude']])"
   ]
  },
  {
   "cell_type": "code",
   "execution_count": 138,
   "metadata": {},
   "outputs": [],
   "source": [
    "data_processed['cluster'] = cluster"
   ]
  },
  {
   "cell_type": "markdown",
   "metadata": {},
   "source": [
    "## Теперь попробуем применить полицейские данные"
   ]
  },
  {
   "cell_type": "code",
   "execution_count": 104,
   "metadata": {},
   "outputs": [],
   "source": [
    "police_data = pd.read_csv('Police_Department_Incident_Reports__2018_to_Present.csv')"
   ]
  },
  {
   "cell_type": "code",
   "execution_count": 105,
   "metadata": {},
   "outputs": [
    {
     "data": {
      "text/plain": [
       "Index(['Incident Datetime', 'Incident Date', 'Incident Time', 'Incident Year',\n",
       "       'Incident Day of Week', 'Report Datetime', 'Row ID', 'Incident ID',\n",
       "       'Incident Number', 'CAD Number', 'Report Type Code',\n",
       "       'Report Type Description', 'Filed Online', 'Incident Code',\n",
       "       'Incident Category', 'Incident Subcategory', 'Incident Description',\n",
       "       'Resolution', 'Intersection', 'CNN', 'Police District',\n",
       "       'Analysis Neighborhood', 'Supervisor District', 'Latitude', 'Longitude',\n",
       "       'point', 'SF Find Neighborhoods', 'Current Police Districts',\n",
       "       'Current Supervisor Districts', 'Analysis Neighborhoods',\n",
       "       'HSOC Zones as of 2018-06-05', 'OWED Public Spaces',\n",
       "       'Central Market/Tenderloin Boundary Polygon - Updated',\n",
       "       'Parks Alliance CPSI (27+TL sites)', 'ESNCAG - Boundary File',\n",
       "       'Areas of Vulnerability, 2016'],\n",
       "      dtype='object')"
      ]
     },
     "execution_count": 105,
     "metadata": {},
     "output_type": "execute_result"
    }
   ],
   "source": [
    "police_data.columns"
   ]
  },
  {
   "cell_type": "code",
   "execution_count": 106,
   "metadata": {},
   "outputs": [
    {
     "data": {
      "text/plain": [
       "array(['Taraval', 'Mission', 'Tenderloin', 'Richmond', 'Central',\n",
       "       'Out of SF', 'Southern', 'Park', 'Bayview', 'Northern',\n",
       "       'Ingleside'], dtype=object)"
      ]
     },
     "execution_count": 106,
     "metadata": {},
     "output_type": "execute_result"
    }
   ],
   "source": [
    "police_data['Police District'].unique()"
   ]
  },
  {
   "cell_type": "code",
   "execution_count": 108,
   "metadata": {},
   "outputs": [
    {
     "data": {
      "text/plain": [
       "array(['Missing Person', 'Stolen Property', 'Other', 'Lost Property',\n",
       "       'Miscellaneous Investigation', 'Family Offenses',\n",
       "       'Larceny Theft - Other', 'Non-Criminal', 'Larceny - From Vehicle',\n",
       "       'Larceny - Auto Parts', 'Warrant', 'Simple Assault', 'Trespass',\n",
       "       'Theft From Vehicle', 'Fraud', 'Burglary - Residential',\n",
       "       'Traffic Violation Arrest', 'Burglary - Hot Prowl', 'Loitering',\n",
       "       'Burglary - Other', 'Weapons Offense', 'Vandalism',\n",
       "       'Aggravated Assault', 'Motor Vehicle Theft', 'Drug Violation',\n",
       "       'Larceny Theft - Shoplifting', 'Burglary - Commercial',\n",
       "       'Recovered Vehicle', 'Robbery - Other', 'Suspicious Occ',\n",
       "       'Robbery - Carjacking', 'Intimidation', 'Missing Adult',\n",
       "       'Larceny Theft - From Building', 'Drunkenness', 'Embezzlement',\n",
       "       'Courtesy Report', 'Motor Vehicle Theft (Attempted)',\n",
       "       'Child Abuse', 'Robbery - Commercial', 'Other Offenses',\n",
       "       'Bad Checks', 'Traffic Collision - Hit & Run',\n",
       "       'Larceny Theft - Bicycle', 'Prostitution',\n",
       "       'Forgery And Counterfeiting', 'Case Closure', 'Sex Offense',\n",
       "       'Homicide', 'Larceny Theft - Pickpocket', 'Arson',\n",
       "       'Robbery - Street', 'Suicide', 'Vehicle Impounded',\n",
       "       'Traffic Collision', 'Liquor Law Violation', 'Disorderly Conduct',\n",
       "       'Fire Report', 'Suspicious Package',\n",
       "       'Larceny Theft - Purse Snatch', 'Kidnapping', 'Stalking',\n",
       "       'Extortion-Blackmail', 'Vehicle Misplaced', 'Rape', nan,\n",
       "       'Rape - Attempted', 'Sex Offense, Child',\n",
       "       'Human Trafficking, Commercial Sex Acts', 'Robbery - Residential',\n",
       "       'Gambling', 'Manslaughter', 'Bribery', 'Arrest',\n",
       "       'Human Trafficking (A), Commercial Sex Acts',\n",
       "       'Human Trafficking, Involuntary Servitude'], dtype=object)"
      ]
     },
     "execution_count": 108,
     "metadata": {},
     "output_type": "execute_result"
    }
   ],
   "source": [
    "police_data['Incident Subcategory'].unique()"
   ]
  },
  {
   "cell_type": "code",
   "execution_count": 142,
   "metadata": {},
   "outputs": [],
   "source": [
    "police_data = police_data.dropna(subset=['Latitude', 'Longitude'])"
   ]
  },
  {
   "cell_type": "code",
   "execution_count": 143,
   "metadata": {},
   "outputs": [
    {
     "name": "stderr",
     "output_type": "stream",
     "text": [
      "<ipython-input-143-1260b6a3120c>:1: SettingWithCopyWarning: \n",
      "A value is trying to be set on a copy of a slice from a DataFrame.\n",
      "Try using .loc[row_indexer,col_indexer] = value instead\n",
      "\n",
      "See the caveats in the documentation: https://pandas.pydata.org/pandas-docs/stable/user_guide/indexing.html#returning-a-view-versus-a-copy\n",
      "  police_data['cluster'] = kmeans.predict(police_data[['Latitude', 'Longitude']])\n"
     ]
    }
   ],
   "source": [
    "police_data['cluster'] = kmeans.predict(police_data[['Latitude', 'Longitude']])"
   ]
  },
  {
   "cell_type": "code",
   "execution_count": 144,
   "metadata": {},
   "outputs": [
    {
     "data": {
      "text/plain": [
       "0          5\n",
       "1          8\n",
       "2         11\n",
       "4         16\n",
       "5          2\n",
       "          ..\n",
       "329748     2\n",
       "329749    12\n",
       "329750    11\n",
       "329751    12\n",
       "329753     2\n",
       "Name: cluster, Length: 312074, dtype: int32"
      ]
     },
     "execution_count": 144,
     "metadata": {},
     "output_type": "execute_result"
    }
   ],
   "source": [
    "police_data['cluster']"
   ]
  },
  {
   "cell_type": "code",
   "execution_count": 152,
   "metadata": {},
   "outputs": [],
   "source": [
    "pivot = get_one_hot(police_data[['Incident Subcategory', 'cluster']], cols=['Incident Subcategory']).pivot_table(columns=['cluster'])"
   ]
  },
  {
   "cell_type": "code",
   "execution_count": 153,
   "metadata": {},
   "outputs": [
    {
     "data": {
      "text/html": [
       "<div>\n",
       "<style scoped>\n",
       "    .dataframe tbody tr th:only-of-type {\n",
       "        vertical-align: middle;\n",
       "    }\n",
       "\n",
       "    .dataframe tbody tr th {\n",
       "        vertical-align: top;\n",
       "    }\n",
       "\n",
       "    .dataframe thead th {\n",
       "        text-align: right;\n",
       "    }\n",
       "</style>\n",
       "<table border=\"1\" class=\"dataframe\">\n",
       "  <thead>\n",
       "    <tr style=\"text-align: right;\">\n",
       "      <th>cluster</th>\n",
       "      <th>0</th>\n",
       "      <th>1</th>\n",
       "      <th>2</th>\n",
       "      <th>3</th>\n",
       "      <th>4</th>\n",
       "      <th>5</th>\n",
       "      <th>6</th>\n",
       "      <th>7</th>\n",
       "      <th>8</th>\n",
       "      <th>9</th>\n",
       "      <th>...</th>\n",
       "      <th>15</th>\n",
       "      <th>16</th>\n",
       "      <th>17</th>\n",
       "      <th>18</th>\n",
       "      <th>19</th>\n",
       "      <th>20</th>\n",
       "      <th>21</th>\n",
       "      <th>22</th>\n",
       "      <th>23</th>\n",
       "      <th>24</th>\n",
       "    </tr>\n",
       "  </thead>\n",
       "  <tbody>\n",
       "    <tr>\n",
       "      <th>Incident Subcategory_Aggravated Assault</th>\n",
       "      <td>0.045076</td>\n",
       "      <td>0.010232</td>\n",
       "      <td>0.015053</td>\n",
       "      <td>0.015161</td>\n",
       "      <td>0.011163</td>\n",
       "      <td>0.020569</td>\n",
       "      <td>0.023950</td>\n",
       "      <td>0.020383</td>\n",
       "      <td>0.033208</td>\n",
       "      <td>0.036150</td>\n",
       "      <td>...</td>\n",
       "      <td>0.012733</td>\n",
       "      <td>0.013477</td>\n",
       "      <td>0.017912</td>\n",
       "      <td>0.017912</td>\n",
       "      <td>0.013427</td>\n",
       "      <td>0.011065</td>\n",
       "      <td>0.029839</td>\n",
       "      <td>0.008121</td>\n",
       "      <td>0.030846</td>\n",
       "      <td>0.031460</td>\n",
       "    </tr>\n",
       "    <tr>\n",
       "      <th>Incident Subcategory_Arrest</th>\n",
       "      <td>0.000150</td>\n",
       "      <td>0.000000</td>\n",
       "      <td>0.000000</td>\n",
       "      <td>0.000000</td>\n",
       "      <td>0.000000</td>\n",
       "      <td>0.000000</td>\n",
       "      <td>0.000000</td>\n",
       "      <td>0.000000</td>\n",
       "      <td>0.000000</td>\n",
       "      <td>0.000000</td>\n",
       "      <td>...</td>\n",
       "      <td>0.000000</td>\n",
       "      <td>0.000000</td>\n",
       "      <td>0.000000</td>\n",
       "      <td>0.000000</td>\n",
       "      <td>0.000000</td>\n",
       "      <td>0.000000</td>\n",
       "      <td>0.000000</td>\n",
       "      <td>0.000000</td>\n",
       "      <td>0.000000</td>\n",
       "      <td>0.000177</td>\n",
       "    </tr>\n",
       "    <tr>\n",
       "      <th>Incident Subcategory_Arson</th>\n",
       "      <td>0.005175</td>\n",
       "      <td>0.001659</td>\n",
       "      <td>0.002020</td>\n",
       "      <td>0.001895</td>\n",
       "      <td>0.002402</td>\n",
       "      <td>0.001736</td>\n",
       "      <td>0.003651</td>\n",
       "      <td>0.001973</td>\n",
       "      <td>0.002678</td>\n",
       "      <td>0.003356</td>\n",
       "      <td>...</td>\n",
       "      <td>0.001469</td>\n",
       "      <td>0.001198</td>\n",
       "      <td>0.002382</td>\n",
       "      <td>0.001959</td>\n",
       "      <td>0.001399</td>\n",
       "      <td>0.002438</td>\n",
       "      <td>0.004122</td>\n",
       "      <td>0.001680</td>\n",
       "      <td>0.001902</td>\n",
       "      <td>0.003358</td>\n",
       "    </tr>\n",
       "    <tr>\n",
       "      <th>Incident Subcategory_Bad Checks</th>\n",
       "      <td>0.000075</td>\n",
       "      <td>0.000000</td>\n",
       "      <td>0.000111</td>\n",
       "      <td>0.000000</td>\n",
       "      <td>0.000424</td>\n",
       "      <td>0.000000</td>\n",
       "      <td>0.000124</td>\n",
       "      <td>0.000000</td>\n",
       "      <td>0.000214</td>\n",
       "      <td>0.000000</td>\n",
       "      <td>...</td>\n",
       "      <td>0.000000</td>\n",
       "      <td>0.000000</td>\n",
       "      <td>0.000000</td>\n",
       "      <td>0.000000</td>\n",
       "      <td>0.000000</td>\n",
       "      <td>0.000375</td>\n",
       "      <td>0.000000</td>\n",
       "      <td>0.000000</td>\n",
       "      <td>0.000041</td>\n",
       "      <td>0.000177</td>\n",
       "    </tr>\n",
       "    <tr>\n",
       "      <th>Incident Subcategory_Bribery</th>\n",
       "      <td>0.000000</td>\n",
       "      <td>0.000000</td>\n",
       "      <td>0.000022</td>\n",
       "      <td>0.000000</td>\n",
       "      <td>0.000000</td>\n",
       "      <td>0.000000</td>\n",
       "      <td>0.000000</td>\n",
       "      <td>0.000047</td>\n",
       "      <td>0.000000</td>\n",
       "      <td>0.000000</td>\n",
       "      <td>...</td>\n",
       "      <td>0.000000</td>\n",
       "      <td>0.000000</td>\n",
       "      <td>0.000000</td>\n",
       "      <td>0.000000</td>\n",
       "      <td>0.000000</td>\n",
       "      <td>0.000000</td>\n",
       "      <td>0.000000</td>\n",
       "      <td>0.000140</td>\n",
       "      <td>0.000083</td>\n",
       "      <td>0.000000</td>\n",
       "    </tr>\n",
       "    <tr>\n",
       "      <th>...</th>\n",
       "      <td>...</td>\n",
       "      <td>...</td>\n",
       "      <td>...</td>\n",
       "      <td>...</td>\n",
       "      <td>...</td>\n",
       "      <td>...</td>\n",
       "      <td>...</td>\n",
       "      <td>...</td>\n",
       "      <td>...</td>\n",
       "      <td>...</td>\n",
       "      <td>...</td>\n",
       "      <td>...</td>\n",
       "      <td>...</td>\n",
       "      <td>...</td>\n",
       "      <td>...</td>\n",
       "      <td>...</td>\n",
       "      <td>...</td>\n",
       "      <td>...</td>\n",
       "      <td>...</td>\n",
       "      <td>...</td>\n",
       "      <td>...</td>\n",
       "    </tr>\n",
       "    <tr>\n",
       "      <th>Incident Subcategory_Vandalism</th>\n",
       "      <td>0.073127</td>\n",
       "      <td>0.066925</td>\n",
       "      <td>0.059214</td>\n",
       "      <td>0.057170</td>\n",
       "      <td>0.061749</td>\n",
       "      <td>0.066782</td>\n",
       "      <td>0.071477</td>\n",
       "      <td>0.057533</td>\n",
       "      <td>0.074022</td>\n",
       "      <td>0.069860</td>\n",
       "      <td>...</td>\n",
       "      <td>0.050930</td>\n",
       "      <td>0.059599</td>\n",
       "      <td>0.056296</td>\n",
       "      <td>0.061013</td>\n",
       "      <td>0.067133</td>\n",
       "      <td>0.070705</td>\n",
       "      <td>0.078720</td>\n",
       "      <td>0.052506</td>\n",
       "      <td>0.052471</td>\n",
       "      <td>0.063980</td>\n",
       "    </tr>\n",
       "    <tr>\n",
       "      <th>Incident Subcategory_Vehicle Impounded</th>\n",
       "      <td>0.003750</td>\n",
       "      <td>0.000000</td>\n",
       "      <td>0.000155</td>\n",
       "      <td>0.000948</td>\n",
       "      <td>0.002402</td>\n",
       "      <td>0.000267</td>\n",
       "      <td>0.000495</td>\n",
       "      <td>0.000470</td>\n",
       "      <td>0.001071</td>\n",
       "      <td>0.001068</td>\n",
       "      <td>...</td>\n",
       "      <td>0.000000</td>\n",
       "      <td>0.001198</td>\n",
       "      <td>0.000265</td>\n",
       "      <td>0.000280</td>\n",
       "      <td>0.000000</td>\n",
       "      <td>0.000938</td>\n",
       "      <td>0.001178</td>\n",
       "      <td>0.000700</td>\n",
       "      <td>0.000165</td>\n",
       "      <td>0.006009</td>\n",
       "    </tr>\n",
       "    <tr>\n",
       "      <th>Incident Subcategory_Vehicle Misplaced</th>\n",
       "      <td>0.000300</td>\n",
       "      <td>0.000553</td>\n",
       "      <td>0.000400</td>\n",
       "      <td>0.000632</td>\n",
       "      <td>0.000707</td>\n",
       "      <td>0.000668</td>\n",
       "      <td>0.000681</td>\n",
       "      <td>0.000329</td>\n",
       "      <td>0.000321</td>\n",
       "      <td>0.000000</td>\n",
       "      <td>...</td>\n",
       "      <td>0.000490</td>\n",
       "      <td>0.001198</td>\n",
       "      <td>0.000706</td>\n",
       "      <td>0.000560</td>\n",
       "      <td>0.000839</td>\n",
       "      <td>0.000938</td>\n",
       "      <td>0.000000</td>\n",
       "      <td>0.000280</td>\n",
       "      <td>0.000703</td>\n",
       "      <td>0.000353</td>\n",
       "    </tr>\n",
       "    <tr>\n",
       "      <th>Incident Subcategory_Warrant</th>\n",
       "      <td>0.017775</td>\n",
       "      <td>0.010509</td>\n",
       "      <td>0.015364</td>\n",
       "      <td>0.008528</td>\n",
       "      <td>0.010456</td>\n",
       "      <td>0.009617</td>\n",
       "      <td>0.017885</td>\n",
       "      <td>0.013996</td>\n",
       "      <td>0.015533</td>\n",
       "      <td>0.011135</td>\n",
       "      <td>...</td>\n",
       "      <td>0.008080</td>\n",
       "      <td>0.006888</td>\n",
       "      <td>0.018001</td>\n",
       "      <td>0.009796</td>\n",
       "      <td>0.011748</td>\n",
       "      <td>0.008065</td>\n",
       "      <td>0.014134</td>\n",
       "      <td>0.005881</td>\n",
       "      <td>0.026256</td>\n",
       "      <td>0.014493</td>\n",
       "    </tr>\n",
       "    <tr>\n",
       "      <th>Incident Subcategory_Weapons Offense</th>\n",
       "      <td>0.029551</td>\n",
       "      <td>0.004425</td>\n",
       "      <td>0.008259</td>\n",
       "      <td>0.008844</td>\n",
       "      <td>0.003674</td>\n",
       "      <td>0.009884</td>\n",
       "      <td>0.012748</td>\n",
       "      <td>0.006340</td>\n",
       "      <td>0.014783</td>\n",
       "      <td>0.021812</td>\n",
       "      <td>...</td>\n",
       "      <td>0.003918</td>\n",
       "      <td>0.006589</td>\n",
       "      <td>0.006177</td>\n",
       "      <td>0.009516</td>\n",
       "      <td>0.005594</td>\n",
       "      <td>0.006752</td>\n",
       "      <td>0.021201</td>\n",
       "      <td>0.003780</td>\n",
       "      <td>0.016498</td>\n",
       "      <td>0.018028</td>\n",
       "    </tr>\n",
       "  </tbody>\n",
       "</table>\n",
       "<p>75 rows × 25 columns</p>\n",
       "</div>"
      ],
      "text/plain": [
       "cluster                                        0         1         2   \\\n",
       "Incident Subcategory_Aggravated Assault  0.045076  0.010232  0.015053   \n",
       "Incident Subcategory_Arrest              0.000150  0.000000  0.000000   \n",
       "Incident Subcategory_Arson               0.005175  0.001659  0.002020   \n",
       "Incident Subcategory_Bad Checks          0.000075  0.000000  0.000111   \n",
       "Incident Subcategory_Bribery             0.000000  0.000000  0.000022   \n",
       "...                                           ...       ...       ...   \n",
       "Incident Subcategory_Vandalism           0.073127  0.066925  0.059214   \n",
       "Incident Subcategory_Vehicle Impounded   0.003750  0.000000  0.000155   \n",
       "Incident Subcategory_Vehicle Misplaced   0.000300  0.000553  0.000400   \n",
       "Incident Subcategory_Warrant             0.017775  0.010509  0.015364   \n",
       "Incident Subcategory_Weapons Offense     0.029551  0.004425  0.008259   \n",
       "\n",
       "cluster                                        3         4         5   \\\n",
       "Incident Subcategory_Aggravated Assault  0.015161  0.011163  0.020569   \n",
       "Incident Subcategory_Arrest              0.000000  0.000000  0.000000   \n",
       "Incident Subcategory_Arson               0.001895  0.002402  0.001736   \n",
       "Incident Subcategory_Bad Checks          0.000000  0.000424  0.000000   \n",
       "Incident Subcategory_Bribery             0.000000  0.000000  0.000000   \n",
       "...                                           ...       ...       ...   \n",
       "Incident Subcategory_Vandalism           0.057170  0.061749  0.066782   \n",
       "Incident Subcategory_Vehicle Impounded   0.000948  0.002402  0.000267   \n",
       "Incident Subcategory_Vehicle Misplaced   0.000632  0.000707  0.000668   \n",
       "Incident Subcategory_Warrant             0.008528  0.010456  0.009617   \n",
       "Incident Subcategory_Weapons Offense     0.008844  0.003674  0.009884   \n",
       "\n",
       "cluster                                        6         7         8   \\\n",
       "Incident Subcategory_Aggravated Assault  0.023950  0.020383  0.033208   \n",
       "Incident Subcategory_Arrest              0.000000  0.000000  0.000000   \n",
       "Incident Subcategory_Arson               0.003651  0.001973  0.002678   \n",
       "Incident Subcategory_Bad Checks          0.000124  0.000000  0.000214   \n",
       "Incident Subcategory_Bribery             0.000000  0.000047  0.000000   \n",
       "...                                           ...       ...       ...   \n",
       "Incident Subcategory_Vandalism           0.071477  0.057533  0.074022   \n",
       "Incident Subcategory_Vehicle Impounded   0.000495  0.000470  0.001071   \n",
       "Incident Subcategory_Vehicle Misplaced   0.000681  0.000329  0.000321   \n",
       "Incident Subcategory_Warrant             0.017885  0.013996  0.015533   \n",
       "Incident Subcategory_Weapons Offense     0.012748  0.006340  0.014783   \n",
       "\n",
       "cluster                                        9   ...        15        16  \\\n",
       "Incident Subcategory_Aggravated Assault  0.036150  ...  0.012733  0.013477   \n",
       "Incident Subcategory_Arrest              0.000000  ...  0.000000  0.000000   \n",
       "Incident Subcategory_Arson               0.003356  ...  0.001469  0.001198   \n",
       "Incident Subcategory_Bad Checks          0.000000  ...  0.000000  0.000000   \n",
       "Incident Subcategory_Bribery             0.000000  ...  0.000000  0.000000   \n",
       "...                                           ...  ...       ...       ...   \n",
       "Incident Subcategory_Vandalism           0.069860  ...  0.050930  0.059599   \n",
       "Incident Subcategory_Vehicle Impounded   0.001068  ...  0.000000  0.001198   \n",
       "Incident Subcategory_Vehicle Misplaced   0.000000  ...  0.000490  0.001198   \n",
       "Incident Subcategory_Warrant             0.011135  ...  0.008080  0.006888   \n",
       "Incident Subcategory_Weapons Offense     0.021812  ...  0.003918  0.006589   \n",
       "\n",
       "cluster                                        17        18        19  \\\n",
       "Incident Subcategory_Aggravated Assault  0.017912  0.017912  0.013427   \n",
       "Incident Subcategory_Arrest              0.000000  0.000000  0.000000   \n",
       "Incident Subcategory_Arson               0.002382  0.001959  0.001399   \n",
       "Incident Subcategory_Bad Checks          0.000000  0.000000  0.000000   \n",
       "Incident Subcategory_Bribery             0.000000  0.000000  0.000000   \n",
       "...                                           ...       ...       ...   \n",
       "Incident Subcategory_Vandalism           0.056296  0.061013  0.067133   \n",
       "Incident Subcategory_Vehicle Impounded   0.000265  0.000280  0.000000   \n",
       "Incident Subcategory_Vehicle Misplaced   0.000706  0.000560  0.000839   \n",
       "Incident Subcategory_Warrant             0.018001  0.009796  0.011748   \n",
       "Incident Subcategory_Weapons Offense     0.006177  0.009516  0.005594   \n",
       "\n",
       "cluster                                        20        21        22  \\\n",
       "Incident Subcategory_Aggravated Assault  0.011065  0.029839  0.008121   \n",
       "Incident Subcategory_Arrest              0.000000  0.000000  0.000000   \n",
       "Incident Subcategory_Arson               0.002438  0.004122  0.001680   \n",
       "Incident Subcategory_Bad Checks          0.000375  0.000000  0.000000   \n",
       "Incident Subcategory_Bribery             0.000000  0.000000  0.000140   \n",
       "...                                           ...       ...       ...   \n",
       "Incident Subcategory_Vandalism           0.070705  0.078720  0.052506   \n",
       "Incident Subcategory_Vehicle Impounded   0.000938  0.001178  0.000700   \n",
       "Incident Subcategory_Vehicle Misplaced   0.000938  0.000000  0.000280   \n",
       "Incident Subcategory_Warrant             0.008065  0.014134  0.005881   \n",
       "Incident Subcategory_Weapons Offense     0.006752  0.021201  0.003780   \n",
       "\n",
       "cluster                                        23        24  \n",
       "Incident Subcategory_Aggravated Assault  0.030846  0.031460  \n",
       "Incident Subcategory_Arrest              0.000000  0.000177  \n",
       "Incident Subcategory_Arson               0.001902  0.003358  \n",
       "Incident Subcategory_Bad Checks          0.000041  0.000177  \n",
       "Incident Subcategory_Bribery             0.000083  0.000000  \n",
       "...                                           ...       ...  \n",
       "Incident Subcategory_Vandalism           0.052471  0.063980  \n",
       "Incident Subcategory_Vehicle Impounded   0.000165  0.006009  \n",
       "Incident Subcategory_Vehicle Misplaced   0.000703  0.000353  \n",
       "Incident Subcategory_Warrant             0.026256  0.014493  \n",
       "Incident Subcategory_Weapons Offense     0.016498  0.018028  \n",
       "\n",
       "[75 rows x 25 columns]"
      ]
     },
     "execution_count": 153,
     "metadata": {},
     "output_type": "execute_result"
    }
   ],
   "source": [
    "pivot"
   ]
  },
  {
   "cell_type": "code",
   "execution_count": 155,
   "metadata": {},
   "outputs": [],
   "source": [
    "for intype, row in pivot.iterrows():\n",
    "    data_processed[intype] = [row[cluster] for cluster in data_processed['cluster']]"
   ]
  },
  {
   "cell_type": "code",
   "execution_count": 156,
   "metadata": {},
   "outputs": [
    {
     "data": {
      "text/html": [
       "<div>\n",
       "<style scoped>\n",
       "    .dataframe tbody tr th:only-of-type {\n",
       "        vertical-align: middle;\n",
       "    }\n",
       "\n",
       "    .dataframe tbody tr th {\n",
       "        vertical-align: top;\n",
       "    }\n",
       "\n",
       "    .dataframe thead th {\n",
       "        text-align: right;\n",
       "    }\n",
       "</style>\n",
       "<table border=\"1\" class=\"dataframe\">\n",
       "  <thead>\n",
       "    <tr style=\"text-align: right;\">\n",
       "      <th></th>\n",
       "      <th>address</th>\n",
       "      <th>z_address</th>\n",
       "      <th>bathrooms</th>\n",
       "      <th>bedrooms</th>\n",
       "      <th>finishedsqft</th>\n",
       "      <th>lastsolddate</th>\n",
       "      <th>lastsoldprice</th>\n",
       "      <th>latitude</th>\n",
       "      <th>longitude</th>\n",
       "      <th>neighborhood</th>\n",
       "      <th>...</th>\n",
       "      <th>Incident Subcategory_Theft From Vehicle</th>\n",
       "      <th>Incident Subcategory_Traffic Collision</th>\n",
       "      <th>Incident Subcategory_Traffic Collision - Hit &amp; Run</th>\n",
       "      <th>Incident Subcategory_Traffic Violation Arrest</th>\n",
       "      <th>Incident Subcategory_Trespass</th>\n",
       "      <th>Incident Subcategory_Vandalism</th>\n",
       "      <th>Incident Subcategory_Vehicle Impounded</th>\n",
       "      <th>Incident Subcategory_Vehicle Misplaced</th>\n",
       "      <th>Incident Subcategory_Warrant</th>\n",
       "      <th>Incident Subcategory_Weapons Offense</th>\n",
       "    </tr>\n",
       "  </thead>\n",
       "  <tbody>\n",
       "    <tr>\n",
       "      <th>0</th>\n",
       "      <td>Address: 1160 Mission Street #2007</td>\n",
       "      <td>1160 Mission St UNIT 2007</td>\n",
       "      <td>2.0</td>\n",
       "      <td>2.0</td>\n",
       "      <td>1043.0</td>\n",
       "      <td>1.230869</td>\n",
       "      <td>1300000.0</td>\n",
       "      <td>37.778705</td>\n",
       "      <td>-122.412635</td>\n",
       "      <td>South of Market</td>\n",
       "      <td>...</td>\n",
       "      <td>0.006673</td>\n",
       "      <td>0.000638</td>\n",
       "      <td>0.000793</td>\n",
       "      <td>0.015803</td>\n",
       "      <td>0.008085</td>\n",
       "      <td>0.048241</td>\n",
       "      <td>0.000290</td>\n",
       "      <td>0.000464</td>\n",
       "      <td>0.030175</td>\n",
       "      <td>0.012708</td>\n",
       "    </tr>\n",
       "    <tr>\n",
       "      <th>1</th>\n",
       "      <td>Address: 260 King Street #475</td>\n",
       "      <td>260 King St UNIT 475</td>\n",
       "      <td>1.0</td>\n",
       "      <td>1.0</td>\n",
       "      <td>903.0</td>\n",
       "      <td>1.230869</td>\n",
       "      <td>750000.0</td>\n",
       "      <td>37.777641</td>\n",
       "      <td>-122.393417</td>\n",
       "      <td>South of Market</td>\n",
       "      <td>...</td>\n",
       "      <td>0.005765</td>\n",
       "      <td>0.000641</td>\n",
       "      <td>0.000838</td>\n",
       "      <td>0.010594</td>\n",
       "      <td>0.013846</td>\n",
       "      <td>0.054474</td>\n",
       "      <td>0.000567</td>\n",
       "      <td>0.000345</td>\n",
       "      <td>0.018281</td>\n",
       "      <td>0.008722</td>\n",
       "    </tr>\n",
       "    <tr>\n",
       "      <th>2</th>\n",
       "      <td>Address: 560 Missouri Street #B</td>\n",
       "      <td>560 Missouri St # B</td>\n",
       "      <td>4.0</td>\n",
       "      <td>3.0</td>\n",
       "      <td>1425.0</td>\n",
       "      <td>1.230869</td>\n",
       "      <td>1495000.0</td>\n",
       "      <td>37.759198</td>\n",
       "      <td>-122.396516</td>\n",
       "      <td>Potrero Hill</td>\n",
       "      <td>...</td>\n",
       "      <td>0.021660</td>\n",
       "      <td>0.001238</td>\n",
       "      <td>0.001052</td>\n",
       "      <td>0.013305</td>\n",
       "      <td>0.014543</td>\n",
       "      <td>0.071477</td>\n",
       "      <td>0.000495</td>\n",
       "      <td>0.000681</td>\n",
       "      <td>0.017885</td>\n",
       "      <td>0.012748</td>\n",
       "    </tr>\n",
       "    <tr>\n",
       "      <th>3</th>\n",
       "      <td>Address: 350 Missouri Street</td>\n",
       "      <td>350 Missouri St</td>\n",
       "      <td>3.0</td>\n",
       "      <td>3.0</td>\n",
       "      <td>2231.0</td>\n",
       "      <td>1.230869</td>\n",
       "      <td>2700000.0</td>\n",
       "      <td>37.761886</td>\n",
       "      <td>-122.396769</td>\n",
       "      <td>Potrero Hill</td>\n",
       "      <td>...</td>\n",
       "      <td>0.021660</td>\n",
       "      <td>0.001238</td>\n",
       "      <td>0.001052</td>\n",
       "      <td>0.013305</td>\n",
       "      <td>0.014543</td>\n",
       "      <td>0.071477</td>\n",
       "      <td>0.000495</td>\n",
       "      <td>0.000681</td>\n",
       "      <td>0.017885</td>\n",
       "      <td>0.012748</td>\n",
       "    </tr>\n",
       "    <tr>\n",
       "      <th>4</th>\n",
       "      <td>Address: 3658 Folsom Street</td>\n",
       "      <td>3658 Folsom St</td>\n",
       "      <td>3.0</td>\n",
       "      <td>3.0</td>\n",
       "      <td>1300.0</td>\n",
       "      <td>1.230869</td>\n",
       "      <td>1530000.0</td>\n",
       "      <td>37.740795</td>\n",
       "      <td>-122.413453</td>\n",
       "      <td>Bernal Heights</td>\n",
       "      <td>...</td>\n",
       "      <td>0.023032</td>\n",
       "      <td>0.001500</td>\n",
       "      <td>0.002464</td>\n",
       "      <td>0.019711</td>\n",
       "      <td>0.009748</td>\n",
       "      <td>0.074022</td>\n",
       "      <td>0.001071</td>\n",
       "      <td>0.000321</td>\n",
       "      <td>0.015533</td>\n",
       "      <td>0.014783</td>\n",
       "    </tr>\n",
       "  </tbody>\n",
       "</table>\n",
       "<p>5 rows × 175 columns</p>\n",
       "</div>"
      ],
      "text/plain": [
       "                              address                  z_address  bathrooms  \\\n",
       "0  Address: 1160 Mission Street #2007  1160 Mission St UNIT 2007        2.0   \n",
       "1       Address: 260 King Street #475       260 King St UNIT 475        1.0   \n",
       "2     Address: 560 Missouri Street #B        560 Missouri St # B        4.0   \n",
       "3        Address: 350 Missouri Street            350 Missouri St        3.0   \n",
       "4         Address: 3658 Folsom Street             3658 Folsom St        3.0   \n",
       "\n",
       "   bedrooms  finishedsqft  lastsolddate  lastsoldprice   latitude   longitude  \\\n",
       "0       2.0        1043.0      1.230869      1300000.0  37.778705 -122.412635   \n",
       "1       1.0         903.0      1.230869       750000.0  37.777641 -122.393417   \n",
       "2       3.0        1425.0      1.230869      1495000.0  37.759198 -122.396516   \n",
       "3       3.0        2231.0      1.230869      2700000.0  37.761886 -122.396769   \n",
       "4       3.0        1300.0      1.230869      1530000.0  37.740795 -122.413453   \n",
       "\n",
       "      neighborhood  ...  Incident Subcategory_Theft From Vehicle  \\\n",
       "0  South of Market  ...                                 0.006673   \n",
       "1  South of Market  ...                                 0.005765   \n",
       "2     Potrero Hill  ...                                 0.021660   \n",
       "3     Potrero Hill  ...                                 0.021660   \n",
       "4   Bernal Heights  ...                                 0.023032   \n",
       "\n",
       "   Incident Subcategory_Traffic Collision  \\\n",
       "0                                0.000638   \n",
       "1                                0.000641   \n",
       "2                                0.001238   \n",
       "3                                0.001238   \n",
       "4                                0.001500   \n",
       "\n",
       "   Incident Subcategory_Traffic Collision - Hit & Run  \\\n",
       "0                                           0.000793    \n",
       "1                                           0.000838    \n",
       "2                                           0.001052    \n",
       "3                                           0.001052    \n",
       "4                                           0.002464    \n",
       "\n",
       "  Incident Subcategory_Traffic Violation Arrest  \\\n",
       "0                                      0.015803   \n",
       "1                                      0.010594   \n",
       "2                                      0.013305   \n",
       "3                                      0.013305   \n",
       "4                                      0.019711   \n",
       "\n",
       "   Incident Subcategory_Trespass  Incident Subcategory_Vandalism  \\\n",
       "0                       0.008085                        0.048241   \n",
       "1                       0.013846                        0.054474   \n",
       "2                       0.014543                        0.071477   \n",
       "3                       0.014543                        0.071477   \n",
       "4                       0.009748                        0.074022   \n",
       "\n",
       "   Incident Subcategory_Vehicle Impounded  \\\n",
       "0                                0.000290   \n",
       "1                                0.000567   \n",
       "2                                0.000495   \n",
       "3                                0.000495   \n",
       "4                                0.001071   \n",
       "\n",
       "   Incident Subcategory_Vehicle Misplaced  Incident Subcategory_Warrant  \\\n",
       "0                                0.000464                      0.030175   \n",
       "1                                0.000345                      0.018281   \n",
       "2                                0.000681                      0.017885   \n",
       "3                                0.000681                      0.017885   \n",
       "4                                0.000321                      0.015533   \n",
       "\n",
       "   Incident Subcategory_Weapons Offense  \n",
       "0                              0.012708  \n",
       "1                              0.008722  \n",
       "2                              0.012748  \n",
       "3                              0.012748  \n",
       "4                              0.014783  \n",
       "\n",
       "[5 rows x 175 columns]"
      ]
     },
     "execution_count": 156,
     "metadata": {},
     "output_type": "execute_result"
    }
   ],
   "source": [
    "data_processed.head()"
   ]
  },
  {
   "cell_type": "code",
   "execution_count": 157,
   "metadata": {},
   "outputs": [
    {
     "data": {
      "text/plain": [
       "0.7527214336855328"
      ]
     },
     "execution_count": 157,
     "metadata": {},
     "output_type": "execute_result"
    }
   ],
   "source": [
    "get_score(data_processed.drop(columns=exclude_columns), data_processed['zestimate'])"
   ]
  }
 ],
 "metadata": {
  "colab": {
   "collapsed_sections": [],
   "name": "Основная практика2.ipynb",
   "provenance": []
  },
  "kernelspec": {
   "display_name": "Python 3",
   "language": "python",
   "name": "python3"
  },
  "language_info": {
   "codemirror_mode": {
    "name": "ipython",
    "version": 3
   },
   "file_extension": ".py",
   "mimetype": "text/x-python",
   "name": "python",
   "nbconvert_exporter": "python",
   "pygments_lexer": "ipython3",
   "version": "3.8.6"
  }
 },
 "nbformat": 4,
 "nbformat_minor": 1
}
