{
  "cells": [
    {
      "cell_type": "markdown",
      "metadata": {
        "id": "view-in-github",
        "colab_type": "text"
      },
      "source": [
        "<a href=\"https://colab.research.google.com/github/vn322/Netology_DS_course/blob/main/%D0%94%D0%BE%D0%BC%D0%B0%D1%88%D0%BD%D0%B5%D0%B5_%D0%B7%D0%B0%D0%B4%D0%B0%D0%BD%D0%B8%D0%B5_%D0%BA_%D0%B7%D0%B0%D0%BD%D1%8F%D1%82%D0%B8%D1%8E_%C2%AB%D0%A2%D0%B5%D0%BC%D0%B0%D1%82%D0%B8%D1%87%D0%B5%D1%81%D0%BA%D0%BE%D0%B5_%D0%BC%D0%BE%D0%B4%D0%B5%D0%BB%D0%B8%D1%80%D0%BE%D0%B2%D0%B0%D0%BD%D0%B8%D0%B5%C2%BB.ipynb\" target=\"_parent\"><img src=\"https://colab.research.google.com/assets/colab-badge.svg\" alt=\"Open In Colab\"/></a>"
      ]
    },
    {
      "cell_type": "markdown",
      "metadata": {
        "id": "_oDEZAvy4sHz"
      },
      "source": [
        "# Задание\n"
      ]
    },
    {
      "cell_type": "markdown",
      "metadata": {
        "id": "U3l2QDEG2F9J"
      },
      "source": [
        "**Классификация по тональности**\n",
        "\n",
        "В этом домашнем задании вам предстоит классифицировать по тональности отзывы на банки с сайта banki.ru. https://drive.google.com/file/d/1OelGGXPXBinXvZnDb1Bmmxe4rtdBmqdk/view\n",
        "\n",
        "Данные содержат непосредственно тексты отзывов, некоторую дополнительную информацию, а также оценку по шкале от 1 до 5.\n",
        "\n",
        "Тексты хранятся в json-ах в массиве responses.\n",
        "\n",
        "Посмотрим на примере отзыва: возьмите для удобства ноутбук, размещенный в папке репозитория.\n",
        "\n",
        "**Часть 1. Анализ текстов**\n",
        "\n",
        "1. Посчитайте количество отзывов в разных городах и на разные банки\n",
        "\n",
        "2. Постройте гистограмы длин **слов** в символах и в **словах**\n",
        "\n",
        "3. Найдите 10 самых частых:\n",
        "\n",
        "- слов\n",
        "\n",
        "- слов без стоп-слов\n",
        "\n",
        "- лемм\n",
        "\n",
        "- существительных\n",
        "\n",
        "4. Постройте кривые Ципфа и Хипса\n",
        "\n",
        "5. Ответьте на следующие вопросы:\n",
        "\n",
        "- какое слово встречается чаще, \"сотрудник\" или \"клиент\"?\n",
        "\n",
        "- сколько раз встречается слова \"мошенничество\" и \"доверие\"?\n",
        "\n",
        "6. В поле \"rating_grade\" записана оценка отзыва по шкале от 1 до 5. \n",
        "Используйте меру tf-idf, для того, чтобы найти ключевые слова и биграмы для положительных отзывов (с оценкой 5) и отрицательных отзывов (с оценкой 1)\n",
        "\n",
        "**Часть 2. Тематическое моделирование**\n",
        "\n",
        "1. Постройте несколько тематических моделей коллекции документов с разным числом тем. Приведите примеры понятных (интерпретируемых) тем.\n",
        "\n",
        "2. Найдите темы, в которых упомянуты конкретные банки (Сбербанк, ВТБ, другой банк). Можете ли вы их прокомментировать / объяснить? Эта часть задания может быть сделана с использованием gensim.\n",
        "\n",
        "**Часть 3. Классификация текстов**\n",
        "\n",
        " Сформулируем для простоты задачу бинарной классификации: будем классифицировать на два класса, то есть, различать резко отрицательные отзывы (с оценкой 1) и положительные отзывы (с оценкой 5).\n",
        "\n",
        "1. Составьте обучающее и тестовое множество: выберите из всего набора данных N1 отзывов с оценкой 1 и N2 отзывов с оценкой 5 (значение N1 и N2 – на ваше усмотрение). Используйте sklearn.model_selection.train_test_split для разделения множества отобранных документов на обучающее и тестовое.\n",
        "\n",
        "2. Используйте любой известный вам алгоритм **векторизации** текстов для решения задачи и получите baseline. Сравните разные варианты векторизации текста: использование только униграм, пар или троек слов или с использованием символьных -грам.\n",
        "\n",
        "3. Сравните, как изменяется качество решения задачи при использовании скрытых тем в качестве признаков:\n",
        "\n",
        "- 1-ый вариант:   tf-idf преобразование (sklearn.feature_extraction.text.TfidfTransformer) и сингулярное разложение (оно же – латентый семантический анализ) (sklearn.decomposition.TruncatedSVD),\n",
        "\n",
        "- 2-ой вариант: тематические модели LDA (sklearn.decomposition.LatentDirichletAllocation). Используйте accuracy и F-measure для оценки качества классификации.\n",
        "\n",
        "В ноутбуке, размещенном в папке репозитория. написан примерный Pipeline для классификации текстов.\n",
        "\n",
        "Эта часть задания может быть сделана с использованием sklearn."
      ]
    },
    {
      "cell_type": "markdown",
      "metadata": {
        "id": "qV7xphoM4i6I"
      },
      "source": [
        "# Загрузка"
      ]
    },
    {
      "cell_type": "code",
      "execution_count": 2,
      "metadata": {
        "id": "rvLR1kK8f8Jz",
        "colab": {
          "base_uri": "https://localhost:8080/"
        },
        "outputId": "45d46e4a-01f9-40ee-fd30-4e8e11f43d9c"
      },
      "outputs": [
        {
          "output_type": "stream",
          "name": "stdout",
          "text": [
            "Looking in indexes: https://pypi.org/simple, https://us-python.pkg.dev/colab-wheels/public/simple/\n",
            "Collecting pymorphy2\n",
            "  Downloading pymorphy2-0.9.1-py3-none-any.whl (55 kB)\n",
            "\u001b[2K     \u001b[90m━━━━━━━━━━━━━━━━━━━━━━━━━━━━━━━━━━━━━━━━\u001b[0m \u001b[32m55.5/55.5 KB\u001b[0m \u001b[31m2.2 MB/s\u001b[0m eta \u001b[36m0:00:00\u001b[0m\n",
            "\u001b[?25hCollecting dawg-python>=0.7.1\n",
            "  Downloading DAWG_Python-0.7.2-py2.py3-none-any.whl (11 kB)\n",
            "Collecting docopt>=0.6\n",
            "  Downloading docopt-0.6.2.tar.gz (25 kB)\n",
            "  Preparing metadata (setup.py) ... \u001b[?25l\u001b[?25hdone\n",
            "Collecting pymorphy2-dicts-ru<3.0,>=2.4\n",
            "  Downloading pymorphy2_dicts_ru-2.4.417127.4579844-py2.py3-none-any.whl (8.2 MB)\n",
            "\u001b[2K     \u001b[90m━━━━━━━━━━━━━━━━━━━━━━━━━━━━━━━━━━━━━━━━\u001b[0m \u001b[32m8.2/8.2 MB\u001b[0m \u001b[31m56.7 MB/s\u001b[0m eta \u001b[36m0:00:00\u001b[0m\n",
            "\u001b[?25hBuilding wheels for collected packages: docopt\n",
            "  Building wheel for docopt (setup.py) ... \u001b[?25l\u001b[?25hdone\n",
            "  Created wheel for docopt: filename=docopt-0.6.2-py2.py3-none-any.whl size=13721 sha256=6a3af61abf14e14d8a8f09d1f1fb2db69d73e38ae99d381253ff4d385f61a5e1\n",
            "  Stored in directory: /root/.cache/pip/wheels/70/4a/46/1309fc853b8d395e60bafaf1b6df7845bdd82c95fd59dd8d2b\n",
            "Successfully built docopt\n",
            "Installing collected packages: pymorphy2-dicts-ru, docopt, dawg-python, pymorphy2\n",
            "Successfully installed dawg-python-0.7.2 docopt-0.6.2 pymorphy2-0.9.1 pymorphy2-dicts-ru-2.4.417127.4579844\n"
          ]
        }
      ],
      "source": [
        "!pip install pymorphy2"
      ]
    },
    {
      "cell_type": "code",
      "execution_count": 3,
      "metadata": {
        "id": "n_NwzOieDh5m",
        "colab": {
          "base_uri": "https://localhost:8080/"
        },
        "outputId": "a130c4d5-8bdf-4264-94d1-c6342c3b0dcf"
      },
      "outputs": [
        {
          "output_type": "stream",
          "name": "stderr",
          "text": [
            "201030it [02:26, 1372.24it/s]\n"
          ]
        }
      ],
      "source": [
        "import json\n",
        "import bz2\n",
        "from tqdm import tqdm\n",
        "\n",
        "responses = []\n",
        "with bz2.BZ2File('banki_responses.json.bz2', 'r') as thefile:\n",
        "    for row in tqdm(thefile):\n",
        "        resp = json.loads(row)\n",
        "        if not resp['rating_not_checked'] and (len(resp['text'].split()) > 0):\n",
        "            responses.append(resp)"
      ]
    },
    {
      "cell_type": "code",
      "execution_count": 4,
      "metadata": {
        "colab": {
          "base_uri": "https://localhost:8080/"
        },
        "id": "-zXaKuZeLd-d",
        "outputId": "96ad0bb7-d630-4254-9353-f71878d4925f"
      },
      "outputs": [
        {
          "output_type": "execute_result",
          "data": {
            "text/plain": [
              "{'city': 'г. Волгодонск (Ростовская обл.)',\n",
              " 'rating_not_checked': False,\n",
              " 'title': 'Купи монетку на память',\n",
              " 'num_comments': 2,\n",
              " 'bank_license': 'лицензия № 1623',\n",
              " 'author': 'visacom',\n",
              " 'bank_name': 'ВТБ 24',\n",
              " 'datetime': '2015-06-05 17:11:07',\n",
              " 'text': 'В 2014 году \\xa0в банке ВТБ 24 была приобретена серебряная монета 925 пробы знак зодиака Рыба. Возникла необходимость сдать монету в обмен на деньги. Обратилась в Банк ВТБ 24 - отказали в связи с тем, что банк только продаёт монеты, но не покупает их назад.\\xa0Обратилась в Сбербанк - там даже в каталоге не нашли эту монету. Что дальше?!',\n",
              " 'rating_grade': None}"
            ]
          },
          "metadata": {},
          "execution_count": 4
        }
      ],
      "source": [
        "responses[23]"
      ]
    },
    {
      "cell_type": "code",
      "execution_count": 5,
      "metadata": {
        "id": "JiEZjG_9TDIB",
        "colab": {
          "base_uri": "https://localhost:8080/",
          "height": 398
        },
        "outputId": "bca13e22-1751-467a-897d-bd364b60c327"
      },
      "outputs": [
        {
          "output_type": "execute_result",
          "data": {
            "text/plain": [
              "             city  rating_not_checked  \\\n",
              "0       г. Москва               False   \n",
              "1  г. Новосибирск               False   \n",
              "2       г. Москва               False   \n",
              "\n",
              "                                           title  num_comments  \\\n",
              "0                                         Жалоба             0   \n",
              "1  Не могу пользоваться услугой Сбербанк он-лайн             0   \n",
              "2                Двойное списание за один товар.             1   \n",
              "\n",
              "      bank_license      author        bank_name             datetime  \\\n",
              "0  лицензия № 2562      uhnov1          Бинбанк  2015-06-08 12:50:54   \n",
              "1  лицензия № 1481      Foryou  Сбербанк России  2015-06-08 11:09:57   \n",
              "2  лицензия № 2562  Vladimir84          Бинбанк  2015-06-05 20:14:28   \n",
              "\n",
              "                                                text  rating_grade  \n",
              "0  Добрый день! Я не являюсь клиентом банка и пор...           NaN  \n",
              "1  Доброго дня! Являюсь держателем зарплатной кар...           NaN  \n",
              "2  Здравствуйте!  Дублирую свое заявление от 03.0...           NaN  "
            ],
            "text/html": [
              "\n",
              "  <div id=\"df-0ccf1c7b-626b-41db-b147-1c1d8b54c979\">\n",
              "    <div class=\"colab-df-container\">\n",
              "      <div>\n",
              "<style scoped>\n",
              "    .dataframe tbody tr th:only-of-type {\n",
              "        vertical-align: middle;\n",
              "    }\n",
              "\n",
              "    .dataframe tbody tr th {\n",
              "        vertical-align: top;\n",
              "    }\n",
              "\n",
              "    .dataframe thead th {\n",
              "        text-align: right;\n",
              "    }\n",
              "</style>\n",
              "<table border=\"1\" class=\"dataframe\">\n",
              "  <thead>\n",
              "    <tr style=\"text-align: right;\">\n",
              "      <th></th>\n",
              "      <th>city</th>\n",
              "      <th>rating_not_checked</th>\n",
              "      <th>title</th>\n",
              "      <th>num_comments</th>\n",
              "      <th>bank_license</th>\n",
              "      <th>author</th>\n",
              "      <th>bank_name</th>\n",
              "      <th>datetime</th>\n",
              "      <th>text</th>\n",
              "      <th>rating_grade</th>\n",
              "    </tr>\n",
              "  </thead>\n",
              "  <tbody>\n",
              "    <tr>\n",
              "      <th>0</th>\n",
              "      <td>г. Москва</td>\n",
              "      <td>False</td>\n",
              "      <td>Жалоба</td>\n",
              "      <td>0</td>\n",
              "      <td>лицензия № 2562</td>\n",
              "      <td>uhnov1</td>\n",
              "      <td>Бинбанк</td>\n",
              "      <td>2015-06-08 12:50:54</td>\n",
              "      <td>Добрый день! Я не являюсь клиентом банка и пор...</td>\n",
              "      <td>NaN</td>\n",
              "    </tr>\n",
              "    <tr>\n",
              "      <th>1</th>\n",
              "      <td>г. Новосибирск</td>\n",
              "      <td>False</td>\n",
              "      <td>Не могу пользоваться услугой Сбербанк он-лайн</td>\n",
              "      <td>0</td>\n",
              "      <td>лицензия № 1481</td>\n",
              "      <td>Foryou</td>\n",
              "      <td>Сбербанк России</td>\n",
              "      <td>2015-06-08 11:09:57</td>\n",
              "      <td>Доброго дня! Являюсь держателем зарплатной кар...</td>\n",
              "      <td>NaN</td>\n",
              "    </tr>\n",
              "    <tr>\n",
              "      <th>2</th>\n",
              "      <td>г. Москва</td>\n",
              "      <td>False</td>\n",
              "      <td>Двойное списание за один товар.</td>\n",
              "      <td>1</td>\n",
              "      <td>лицензия № 2562</td>\n",
              "      <td>Vladimir84</td>\n",
              "      <td>Бинбанк</td>\n",
              "      <td>2015-06-05 20:14:28</td>\n",
              "      <td>Здравствуйте!  Дублирую свое заявление от 03.0...</td>\n",
              "      <td>NaN</td>\n",
              "    </tr>\n",
              "  </tbody>\n",
              "</table>\n",
              "</div>\n",
              "      <button class=\"colab-df-convert\" onclick=\"convertToInteractive('df-0ccf1c7b-626b-41db-b147-1c1d8b54c979')\"\n",
              "              title=\"Convert this dataframe to an interactive table.\"\n",
              "              style=\"display:none;\">\n",
              "        \n",
              "  <svg xmlns=\"http://www.w3.org/2000/svg\" height=\"24px\"viewBox=\"0 0 24 24\"\n",
              "       width=\"24px\">\n",
              "    <path d=\"M0 0h24v24H0V0z\" fill=\"none\"/>\n",
              "    <path d=\"M18.56 5.44l.94 2.06.94-2.06 2.06-.94-2.06-.94-.94-2.06-.94 2.06-2.06.94zm-11 1L8.5 8.5l.94-2.06 2.06-.94-2.06-.94L8.5 2.5l-.94 2.06-2.06.94zm10 10l.94 2.06.94-2.06 2.06-.94-2.06-.94-.94-2.06-.94 2.06-2.06.94z\"/><path d=\"M17.41 7.96l-1.37-1.37c-.4-.4-.92-.59-1.43-.59-.52 0-1.04.2-1.43.59L10.3 9.45l-7.72 7.72c-.78.78-.78 2.05 0 2.83L4 21.41c.39.39.9.59 1.41.59.51 0 1.02-.2 1.41-.59l7.78-7.78 2.81-2.81c.8-.78.8-2.07 0-2.86zM5.41 20L4 18.59l7.72-7.72 1.47 1.35L5.41 20z\"/>\n",
              "  </svg>\n",
              "      </button>\n",
              "      \n",
              "  <style>\n",
              "    .colab-df-container {\n",
              "      display:flex;\n",
              "      flex-wrap:wrap;\n",
              "      gap: 12px;\n",
              "    }\n",
              "\n",
              "    .colab-df-convert {\n",
              "      background-color: #E8F0FE;\n",
              "      border: none;\n",
              "      border-radius: 50%;\n",
              "      cursor: pointer;\n",
              "      display: none;\n",
              "      fill: #1967D2;\n",
              "      height: 32px;\n",
              "      padding: 0 0 0 0;\n",
              "      width: 32px;\n",
              "    }\n",
              "\n",
              "    .colab-df-convert:hover {\n",
              "      background-color: #E2EBFA;\n",
              "      box-shadow: 0px 1px 2px rgba(60, 64, 67, 0.3), 0px 1px 3px 1px rgba(60, 64, 67, 0.15);\n",
              "      fill: #174EA6;\n",
              "    }\n",
              "\n",
              "    [theme=dark] .colab-df-convert {\n",
              "      background-color: #3B4455;\n",
              "      fill: #D2E3FC;\n",
              "    }\n",
              "\n",
              "    [theme=dark] .colab-df-convert:hover {\n",
              "      background-color: #434B5C;\n",
              "      box-shadow: 0px 1px 3px 1px rgba(0, 0, 0, 0.15);\n",
              "      filter: drop-shadow(0px 1px 2px rgba(0, 0, 0, 0.3));\n",
              "      fill: #FFFFFF;\n",
              "    }\n",
              "  </style>\n",
              "\n",
              "      <script>\n",
              "        const buttonEl =\n",
              "          document.querySelector('#df-0ccf1c7b-626b-41db-b147-1c1d8b54c979 button.colab-df-convert');\n",
              "        buttonEl.style.display =\n",
              "          google.colab.kernel.accessAllowed ? 'block' : 'none';\n",
              "\n",
              "        async function convertToInteractive(key) {\n",
              "          const element = document.querySelector('#df-0ccf1c7b-626b-41db-b147-1c1d8b54c979');\n",
              "          const dataTable =\n",
              "            await google.colab.kernel.invokeFunction('convertToInteractive',\n",
              "                                                     [key], {});\n",
              "          if (!dataTable) return;\n",
              "\n",
              "          const docLinkHtml = 'Like what you see? Visit the ' +\n",
              "            '<a target=\"_blank\" href=https://colab.research.google.com/notebooks/data_table.ipynb>data table notebook</a>'\n",
              "            + ' to learn more about interactive tables.';\n",
              "          element.innerHTML = '';\n",
              "          dataTable['output_type'] = 'display_data';\n",
              "          await google.colab.output.renderOutput(dataTable, element);\n",
              "          const docLink = document.createElement('div');\n",
              "          docLink.innerHTML = docLinkHtml;\n",
              "          element.appendChild(docLink);\n",
              "        }\n",
              "      </script>\n",
              "    </div>\n",
              "  </div>\n",
              "  "
            ]
          },
          "metadata": {},
          "execution_count": 5
        }
      ],
      "source": [
        "import pandas as pd\n",
        "\n",
        "df = pd.DataFrame(responses)\n",
        "del responses\n",
        "df.head(3)"
      ]
    },
    {
      "cell_type": "markdown",
      "source": [
        "# Часть 1. Анализ текстов"
      ],
      "metadata": {
        "id": "-42b_C6u3QZM"
      }
    },
    {
      "cell_type": "markdown",
      "metadata": {
        "id": "I_fU_ckULqGi"
      },
      "source": [
        "## 1. Посчитайте количество отзывов в разных городах и на разные банки"
      ]
    },
    {
      "cell_type": "code",
      "execution_count": 6,
      "metadata": {
        "colab": {
          "base_uri": "https://localhost:8080/"
        },
        "id": "u5A41hDvU6OK",
        "outputId": "2761b535-9df2-40ee-f894-4a3d5e61e574"
      },
      "outputs": [
        {
          "output_type": "execute_result",
          "data": {
            "text/plain": [
              "city\n",
              "г. Москва                           55354\n",
              "г. Санкт-Петербург                  14342\n",
              "г. Екатеринбург                      2337\n",
              "г. Новосибирск                       2300\n",
              "г. Нижний Новгород                   1976\n",
              "                                    ...  \n",
              "г. Москва, Ногинск (Москва)             1\n",
              "г. Москва, Новосибирск                  1\n",
              "г. Москва, Николоямская ул., 31         1\n",
              "г. Москва, Московская область           1\n",
              "г. … или другой населенный пункт        1\n",
              "Length: 5823, dtype: int64"
            ]
          },
          "metadata": {},
          "execution_count": 6
        }
      ],
      "source": [
        "df.value_counts('city')"
      ]
    },
    {
      "cell_type": "code",
      "execution_count": 7,
      "metadata": {
        "colab": {
          "base_uri": "https://localhost:8080/"
        },
        "id": "YIEotj_pVNFG",
        "outputId": "005e097a-eeb0-45b4-97b1-982b1f5736d9"
      },
      "outputs": [
        {
          "output_type": "execute_result",
          "data": {
            "text/plain": [
              "bank_name\n",
              "Сбербанк России           26327\n",
              "Альфа-Банк                10224\n",
              "ВТБ 24                     8185\n",
              "Русский Стандарт           7943\n",
              "Хоум Кредит Банк           7549\n",
              "                          ...  \n",
              "Северный Народный Банк        1\n",
              "Сельмашбанк                   1\n",
              "Сиббизнесбанк                 1\n",
              "Сибконтакт                    1\n",
              "Мигом                         1\n",
              "Length: 670, dtype: int64"
            ]
          },
          "metadata": {},
          "execution_count": 7
        }
      ],
      "source": [
        "df.value_counts('bank_name')"
      ]
    },
    {
      "cell_type": "markdown",
      "metadata": {
        "id": "62MHI17PVntT"
      },
      "source": [
        "### 2. Постройте гистограмы длин в символах и в словах"
      ]
    },
    {
      "cell_type": "code",
      "execution_count": 8,
      "metadata": {
        "colab": {
          "base_uri": "https://localhost:8080/",
          "height": 295
        },
        "id": "NEICwkyGW1Le",
        "outputId": "4a6b2548-7222-4373-fa0d-ce81f0e26f3b"
      },
      "outputs": [
        {
          "output_type": "display_data",
          "data": {
            "text/plain": [
              "<Figure size 432x288 with 1 Axes>"
            ],
            "image/png": "[encoded data removed]"
          },
          "metadata": {
            "needs_background": "light"
          }
        }
      ],
      "source": [
        "import matplotlib.pyplot as plt\n",
        "\n",
        "df['lenght_in_char'] = df['text'].apply(lambda x: len(x))\n",
        "df['lenght_in_word'] = df['text'].apply(lambda x: len(x.split(' ')))\n",
        "df['lenght_in_char'].hist(bins=20)\n",
        "plt.title('Hist lenght in chars')\n",
        "plt.xlabel('Count chars')\n",
        "plt.ylabel('Count text')\n",
        "plt.show()"
      ]
    },
    {
      "cell_type": "code",
      "execution_count": 9,
      "metadata": {
        "colab": {
          "base_uri": "https://localhost:8080/",
          "height": 295
        },
        "id": "ZPpqEv8la0iO",
        "outputId": "cb56fc4e-4f97-4c6d-9195-0013d6347ed4"
      },
      "outputs": [
        {
          "output_type": "display_data",
          "data": {
            "text/plain": [
              "<Figure size 432x288 with 1 Axes>"
            ],
            "image/png": "[encoded data removed]"
          },
          "metadata": {
            "needs_background": "light"
          }
        }
      ],
      "source": [
        "df['lenght_in_word'].hist(bins=20)\n",
        "plt.title('Hist lenght in words')\n",
        "plt.xlabel('Count words')\n",
        "plt.ylabel('Count text')\n",
        "plt.show()"
      ]
    },
    {
      "cell_type": "markdown",
      "metadata": {
        "id": "ufBYObMkdWGp"
      },
      "source": [
        "## 3. Найдите 10 самых частых: \n",
        "- слов, \n",
        "- слов без стоп-слов, \n",
        "- лемм, \n",
        "- существительных"
      ]
    },
    {
      "cell_type": "markdown",
      "metadata": {
        "id": "v_LjO-4Zzb5J"
      },
      "source": [
        "### Слова"
      ]
    },
    {
      "cell_type": "code",
      "execution_count": 10,
      "metadata": {
        "colab": {
          "base_uri": "https://localhost:8080/"
        },
        "id": "p_JAx1VamvB6",
        "outputId": "cc47b93d-1ebe-4284-ad57-a5dc920b21b8"
      },
      "outputs": [
        {
          "output_type": "stream",
          "name": "stderr",
          "text": [
            "[nltk_data] Downloading package punkt to /root/nltk_data...\n",
            "[nltk_data]   Unzipping tokenizers/punkt.zip.\n"
          ]
        },
        {
          "output_type": "stream",
          "name": "stdout",
          "text": [
            "36766261\n"
          ]
        },
        {
          "output_type": "execute_result",
          "data": {
            "text/plain": [
              "[('в', 1322516),\n",
              " ('и', 1054485),\n",
              " ('не', 851742),\n",
              " ('на', 704396),\n",
              " ('что', 621783),\n",
              " ('я', 573896),\n",
              " ('с', 454545),\n",
              " ('по', 365188),\n",
              " ('мне', 320695),\n",
              " ('банка', 263957)]"
            ]
          },
          "metadata": {},
          "execution_count": 10
        }
      ],
      "source": [
        "from string import punctuation\n",
        "from nltk.tokenize import word_tokenize\n",
        "import nltk\n",
        "nltk.download('punkt')\n",
        "from collections import Counter\n",
        "\n",
        "vocabul = [token for tweet in df['text'] for token in word_tokenize(tweet.lower()) if token not in punctuation]\n",
        "print(len(vocabul))\n",
        "freq_dict = Counter(vocabul)\n",
        "freq_dict.most_common(10)"
      ]
    },
    {
      "cell_type": "markdown",
      "metadata": {
        "id": "YcaIGQ-tzhTD"
      },
      "source": [
        "### Слова без стоп-слов"
      ]
    },
    {
      "cell_type": "code",
      "execution_count": 11,
      "metadata": {
        "colab": {
          "base_uri": "https://localhost:8080/"
        },
        "id": "Sr6ynJoYlWnX",
        "outputId": "e47569df-6649-4f97-e4d7-e41ded00b32f"
      },
      "outputs": [
        {
          "output_type": "stream",
          "name": "stderr",
          "text": [
            "[nltk_data] Downloading package stopwords to /root/nltk_data...\n",
            "[nltk_data]   Unzipping corpora/stopwords.zip.\n"
          ]
        },
        {
          "output_type": "stream",
          "name": "stdout",
          "text": [
            "23480556\n"
          ]
        },
        {
          "output_type": "execute_result",
          "data": {
            "text/plain": [
              "[('банка', 263957),\n",
              " ('банк', 196303),\n",
              " ('это', 183054),\n",
              " ('деньги', 130062),\n",
              " ('карту', 104947),\n",
              " ('карты', 100877),\n",
              " ('кредит', 80282),\n",
              " ('день', 75996),\n",
              " ('заявление', 69524),\n",
              " ('отделение', 66468)]"
            ]
          },
          "metadata": {},
          "execution_count": 11
        }
      ],
      "source": [
        "import nltk\n",
        "nltk.download('stopwords')\n",
        "from nltk.corpus import stopwords\n",
        "\n",
        "noise = stopwords.words('russian') + list(punctuation) + ['``','\\'\\'', '...']\n",
        "vocabul = [token.lower() for tweet in df['text'] for token in word_tokenize(tweet.lower()) if token not in noise]\n",
        "print(len(vocabul))\n",
        "freq_dict = Counter(vocabul)\n",
        "freq_dict.most_common(10)"
      ]
    },
    {
      "cell_type": "markdown",
      "metadata": {
        "id": "_G4OG73l06Dm"
      },
      "source": [
        "### Леммы"
      ]
    },
    {
      "cell_type": "code",
      "execution_count": 12,
      "metadata": {
        "colab": {
          "base_uri": "https://localhost:8080/"
        },
        "id": "vyHK6zUSemhv",
        "outputId": "c7b87155-0876-4808-928a-ea6b45e0f793"
      },
      "outputs": [
        {
          "output_type": "stream",
          "name": "stderr",
          "text": [
            "100%|██████████| 23480556/23480556 [1:11:51<00:00, 5445.42it/s]\n"
          ]
        },
        {
          "output_type": "execute_result",
          "data": {
            "text/plain": [
              "[('банк', 624272),\n",
              " ('карта', 331815),\n",
              " ('это', 199740),\n",
              " ('деньга', 178338),\n",
              " ('день', 172634),\n",
              " ('мой', 167035),\n",
              " ('кредит', 154865),\n",
              " ('который', 148990),\n",
              " ('отделение', 143616),\n",
              " ('счёт', 140509)]"
            ]
          },
          "metadata": {},
          "execution_count": 12
        }
      ],
      "source": [
        "import pymorphy2\n",
        "\n",
        "morph = pymorphy2.MorphAnalyzer()\n",
        "\n",
        "corpus_lem = []\n",
        "for token in tqdm(vocabul):\n",
        "    corpus_lem.append(morph.parse(token)[0].normal_form)\n",
        "freq_dict = Counter(corpus_lem)\n",
        "freq_dict.most_common(10)"
      ]
    },
    {
      "cell_type": "markdown",
      "metadata": {
        "id": "8kBos8l89DNy"
      },
      "source": [
        "### Существительные"
      ]
    },
    {
      "cell_type": "code",
      "execution_count": 13,
      "metadata": {
        "colab": {
          "base_uri": "https://localhost:8080/"
        },
        "id": "BsKXqIyc3zL6",
        "outputId": "2f72ed65-640d-40a8-efe0-de748a8c9ac1"
      },
      "outputs": [
        {
          "output_type": "stream",
          "name": "stderr",
          "text": [
            "100%|██████████| 23480556/23480556 [1:08:24<00:00, 5720.10it/s]\n"
          ]
        },
        {
          "output_type": "execute_result",
          "data": {
            "text/plain": [
              "[('банк', 624272),\n",
              " ('карта', 331815),\n",
              " ('деньга', 178338),\n",
              " ('день', 172634),\n",
              " ('кредит', 154865),\n",
              " ('отделение', 143616),\n",
              " ('счёт', 140509),\n",
              " ('сотрудник', 133662),\n",
              " ('клиент', 132908),\n",
              " ('сумма', 110914)]"
            ]
          },
          "metadata": {},
          "execution_count": 13
        }
      ],
      "source": [
        "import pymorphy2\n",
        "\n",
        "morph = pymorphy2.MorphAnalyzer()\n",
        "\n",
        "corpus_lem_noun = []\n",
        "for token in tqdm(corpus_lem):\n",
        "    p = morph.parse(token)[0]\n",
        "    if 'NOUN' in p.tag:\n",
        "        corpus_lem_noun.append(token)\n",
        "freq_dict = Counter(corpus_lem_noun)\n",
        "freq_dict.most_common(10)"
      ]
    },
    {
      "cell_type": "markdown",
      "metadata": {
        "id": "_BKeeXievrGV"
      },
      "source": [
        "## 4. Постройте кривые Ципфа и Хипса"
      ]
    },
    {
      "cell_type": "markdown",
      "metadata": {
        "id": "6YLI8TlsxX6s"
      },
      "source": [
        "### Закон Ципфа"
      ]
    },
    {
      "cell_type": "code",
      "execution_count": 14,
      "metadata": {
        "colab": {
          "base_uri": "https://localhost:8080/",
          "height": 265
        },
        "id": "r5lpBeO8vsXz",
        "outputId": "ae269e16-b61a-4ecf-f62e-e1fae25398b5"
      },
      "outputs": [
        {
          "output_type": "display_data",
          "data": {
            "text/plain": [
              "<Figure size 432x288 with 1 Axes>"
            ],
            "image/png": "[encoded data removed]"
          },
          "metadata": {
            "needs_background": "light"
          }
        }
      ],
      "source": [
        "import matplotlib.pyplot as plt\n",
        "%matplotlib inline\n",
        "\n",
        "freqs = list(freq_dict.values())\n",
        "freqs = sorted(freqs, reverse = True)\n",
        "\n",
        "fig, ax = plt.subplots()\n",
        "ax.plot(freqs[:300], range(300))\n",
        "plt.show()"
      ]
    },
    {
      "cell_type": "markdown",
      "metadata": {
        "id": "oEdYMNdHxawr"
      },
      "source": [
        "### Закон Хипса"
      ]
    },
    {
      "cell_type": "code",
      "execution_count": 15,
      "metadata": {
        "id": "VZhFI75fIVKX"
      },
      "outputs": [],
      "source": [
        "from tqdm import tqdm\n",
        "\n",
        "cnt = Counter()\n",
        "n_words = []\n",
        "n_tokens = []\n",
        "tokens = []\n",
        "for row in df['text']:\n",
        "    tokens = word_tokenize(row)\n",
        "    cnt.update([token for token in tokens if token not in punctuation])\n",
        "    n_words.append(len(cnt))\n",
        "    n_tokens.append(sum(cnt.values()))"
      ]
    },
    {
      "cell_type": "code",
      "execution_count": 16,
      "metadata": {
        "colab": {
          "base_uri": "https://localhost:8080/",
          "height": 278
        },
        "id": "Dth6oD0Y3zPA",
        "outputId": "996bf628-20ce-443f-9600-e6360f09081b"
      },
      "outputs": [
        {
          "output_type": "display_data",
          "data": {
            "text/plain": [
              "<Figure size 432x288 with 1 Axes>"
            ],
            "image/png": "[encoded data removed]"
          },
          "metadata": {
            "needs_background": "light"
          }
        }
      ],
      "source": [
        "fig, ax = plt.subplots()\n",
        "ax.plot(n_tokens, n_words)\n",
        "plt.show()"
      ]
    },
    {
      "cell_type": "markdown",
      "metadata": {
        "id": "QgFRPvdLIuJg"
      },
      "source": [
        "## 5. Ответьте на следующие вопросы:"
      ]
    },
    {
      "cell_type": "markdown",
      "metadata": {
        "id": "M726ptUSIyD0"
      },
      "source": [
        "### какое слово встречается чаще, \"сотрудник\" или \"клиент\"?"
      ]
    },
    {
      "cell_type": "code",
      "execution_count": 17,
      "metadata": {
        "colab": {
          "base_uri": "https://localhost:8080/"
        },
        "id": "J_sB2hToI1xE",
        "outputId": "6543bb11-0156-4fb0-9feb-fcea1e7e0cae"
      },
      "outputs": [
        {
          "output_type": "stream",
          "name": "stdout",
          "text": [
            "\"сотрудник\" чаще 133662 > 132908\n"
          ]
        }
      ],
      "source": [
        "employee = freq_dict['сотрудник']\n",
        "client = freq_dict['клиент']\n",
        "if employee > client:\n",
        "    print(f'\"сотрудник\" чаще {employee} > {client}')\n",
        "elif employee < client:\n",
        "    print(f'\"клиент\" чаще {employee} < {client}')\n",
        "else:\n",
        "    print(f'\"сотрудник\" равен \"клиент\" {employee} = {client}')"
      ]
    },
    {
      "cell_type": "markdown",
      "metadata": {
        "id": "Md1yYBCwI2Ad"
      },
      "source": [
        "### сколько раз встречается слова \"мошенничество\" и \"доверие\"?"
      ]
    },
    {
      "cell_type": "code",
      "execution_count": 18,
      "metadata": {
        "colab": {
          "base_uri": "https://localhost:8080/"
        },
        "id": "5d-MzSwrI4sh",
        "outputId": "bdd88a6c-2d07-4149-b56c-4ca4ac48417d"
      },
      "outputs": [
        {
          "output_type": "stream",
          "name": "stdout",
          "text": [
            "\"мошенничество\" встречается 3228 раз\n",
            "\"доверие\" встречается 2098 раз\n"
          ]
        }
      ],
      "source": [
        "print('\"мошенничество\" встречается', freq_dict['мошенничество'], 'раз')\n",
        "print('\"доверие\" встречается', freq_dict['доверие'], 'раз')"
      ]
    },
    {
      "cell_type": "markdown",
      "metadata": {
        "id": "-xIdaOnMJBbI"
      },
      "source": [
        "## 6. \n",
        "В поле \"rating_grade\" записана оценка отзыва по шкале от 1 до 5. Используйте меру tf-idf, для того, чтобы найти ключевые слова и биграмы для положительных отзывов (с оценкой 5) и отрицательных отзывов (с оценкой 1)"
      ]
    },
    {
      "cell_type": "markdown",
      "metadata": {
        "id": "q7mepMkGZQ_9"
      },
      "source": [
        "Здесь ищется скорее наиболее среднее сообщение для оцененных в 1 и 5"
      ]
    },
    {
      "cell_type": "markdown",
      "metadata": {
        "id": "ur74TzsiCcgs"
      },
      "source": [
        "**среднее сообщение для оцененных  1** "
      ]
    },
    {
      "cell_type": "code",
      "execution_count": 19,
      "metadata": {
        "id": "T5aHHfSU8lRF"
      },
      "outputs": [],
      "source": [
        "data_1 = df[df['rating_grade'].isin([1])]"
      ]
    },
    {
      "cell_type": "code",
      "execution_count": 20,
      "metadata": {
        "colab": {
          "base_uri": "https://localhost:8080/"
        },
        "id": "n-ykpOzs2XWS",
        "outputId": "045a03e4-2243-44d4-96b5-41ba42444602"
      },
      "outputs": [
        {
          "output_type": "stream",
          "name": "stderr",
          "text": [
            "[nltk_data] Downloading package punkt to /root/nltk_data...\n",
            "[nltk_data]   Package punkt is already up-to-date!\n",
            "[nltk_data] Downloading package stopwords to /root/nltk_data...\n",
            "[nltk_data]   Package stopwords is already up-to-date!\n"
          ]
        }
      ],
      "source": [
        "from string import punctuation\n",
        "from nltk.tokenize import word_tokenize\n",
        "import nltk\n",
        "nltk.download('punkt')\n",
        "nltk.download('stopwords')\n",
        "from nltk.corpus import stopwords\n",
        "import pymorphy2\n",
        "\n",
        "morph = pymorphy2.MorphAnalyzer()\n",
        "noise = stopwords.words('russian') + list(punctuation) + ['``','\\'\\'', '...']\n",
        "tweets = []\n",
        "for tweet in data_1['text']:\n",
        "    s = ''\n",
        "    for token in word_tokenize(tweet.lower()):\n",
        "        if token not in noise:\n",
        "            s += morph.parse(token)[0].normal_form + ' '\n",
        "    tweets.append(s)\n"
      ]
    },
    {
      "cell_type": "code",
      "execution_count": 21,
      "metadata": {
        "colab": {
          "base_uri": "https://localhost:8080/",
          "height": 209
        },
        "id": "bf-LzN_-AEeV",
        "outputId": "a8223a7a-3a20-4a5f-f986-676c91cd7cad"
      },
      "outputs": [
        {
          "output_type": "execute_result",
          "data": {
            "text/plain": [
              "\"открыть вклад счёт usd плюс этот зарплатный карта рубль сам себя сегодня прийти указанный отделение цель пополнить долларовый счёт 700 usd дать операционист паспорт зарплатный карта т.к окошко написать приготовить карта подтверждение операция что-то подобный прошлый потребовать сказать нужно положить деньга долларовый счёт операционист всё взять что-то делала-крутила-вертеть вставить карта терминал сказать ввести пин ввести пин получить ответ чек написать доллар внести .... счёт карта рубль вопрос банк №1 риторический понимать кто нужно сознательно проводить такой операция угол маленький квартал курс приём валюта выше рубль действительно хотеть совершить такой хитрый операция выгодный сделать 100 шаг заработать около 700 рубль просто внести рубль счёт карта банкомат далее долгий около два час выяснение отношение операционист видимо начальник попытка отменить первый транзакция т.д т.п. сойтись компенсировать курсовой разница зачисление доллар рублёвый карта 54,6 руб/доллар слово операционист курс покупка валюта 58,7 руб/доллар купить наличный тот 700 доллар положить долларовый счёт также попросить указать чек курс который пройти первый транзакция доллар рублёвый счёт 54,6 поставить печать доллар поступить счёт 3 час курс тадааам 54,38. комиссия банк это операционист знать комиссия курс проведение операция вывод 1 итог потерять 2 час время нерв фига они 154 рубль вывод 2 другой клиент требовать распечатка тот операция который собираться провести операционист проведение высокотехнологичный подтверждение операция pin' обычный платёжка избежать вопрос банк №2 риторический сбер быть брать работа компетентный сотрудник который способный думать хотя слушать просить сделать \""
            ],
            "application/vnd.google.colaboratory.intrinsic+json": {
              "type": "string"
            }
          },
          "metadata": {},
          "execution_count": 21
        }
      ],
      "source": [
        "tweets[0]"
      ]
    },
    {
      "cell_type": "code",
      "execution_count": 22,
      "metadata": {
        "id": "DhMgOnqK5_YJ"
      },
      "outputs": [],
      "source": [
        "from sklearn.feature_extraction.text import TfidfVectorizer\n",
        "\n",
        "tfidf = TfidfVectorizer(ngram_range=(1, 2))\n",
        "tfidf_tweets = tfidf.fit_transform(tweets)"
      ]
    },
    {
      "cell_type": "code",
      "execution_count": 23,
      "metadata": {
        "colab": {
          "base_uri": "https://localhost:8080/"
        },
        "id": "L8GOKWV0kotg",
        "outputId": "3e188bb4-0565-4b07-e682-d41fa8c017eb"
      },
      "outputs": [
        {
          "output_type": "execute_result",
          "data": {
            "text/plain": [
              "array(['кредитный', 'получить', 'время', 'ответ', 'звонить', 'договор',\n",
              "       'вопрос', 'то', 'офис', 'свой', 'год', 'платёж', 'сбербанк',\n",
              "       'вклад', 'сумма', 'банкомат', 'клиент', 'который', 'сказать',\n",
              "       'заявление', 'сотрудник', 'мой', 'счёт', 'это', 'день',\n",
              "       'отделение', 'кредит', 'деньга', 'карта', 'банк'], dtype=object)"
            ]
          },
          "metadata": {},
          "execution_count": 23
        }
      ],
      "source": [
        "\n",
        "import numpy as np\n",
        "\n",
        "ind = np.argsort(tfidf_tweets.mean(axis=0).tolist()[0])\n",
        "tfidf.get_feature_names_out()[ind[-30:]]"
      ]
    },
    {
      "cell_type": "markdown",
      "metadata": {
        "id": "xTK-tQrFCOiD"
      },
      "source": [
        "**среднее сообщение для оцененных  5**"
      ]
    },
    {
      "cell_type": "code",
      "execution_count": 24,
      "metadata": {
        "id": "_avKXhX3CQNR"
      },
      "outputs": [],
      "source": [
        "data_5 = df[df['rating_grade'].isin([5])]"
      ]
    },
    {
      "cell_type": "code",
      "execution_count": 25,
      "metadata": {
        "colab": {
          "base_uri": "https://localhost:8080/"
        },
        "id": "Jnt_UyxbCQNR",
        "outputId": "5546661d-4003-42cf-8436-1daea586f055"
      },
      "outputs": [
        {
          "output_type": "stream",
          "name": "stderr",
          "text": [
            "[nltk_data] Downloading package punkt to /root/nltk_data...\n",
            "[nltk_data]   Package punkt is already up-to-date!\n",
            "[nltk_data] Downloading package stopwords to /root/nltk_data...\n",
            "[nltk_data]   Package stopwords is already up-to-date!\n"
          ]
        }
      ],
      "source": [
        "from string import punctuation\n",
        "from nltk.tokenize import word_tokenize\n",
        "import nltk\n",
        "nltk.download('punkt')\n",
        "nltk.download('stopwords')\n",
        "from nltk.corpus import stopwords\n",
        "import pymorphy2\n",
        "\n",
        "morph = pymorphy2.MorphAnalyzer()\n",
        "noise = stopwords.words('russian') + list(punctuation) + ['``','\\'\\'', '...']\n",
        "tweets = []\n",
        "for tweet in data_5['text']:\n",
        "    s = ''\n",
        "    for token in word_tokenize(tweet.lower()):\n",
        "        if token not in noise:\n",
        "            s += morph.parse(token)[0].normal_form + ' '\n",
        "    tweets.append(s)"
      ]
    },
    {
      "cell_type": "code",
      "execution_count": 26,
      "metadata": {
        "colab": {
          "base_uri": "https://localhost:8080/",
          "height": 87
        },
        "id": "_5L7k9smCQNS",
        "outputId": "d33160cb-d719-446c-a9c4-84d8691d36ee"
      },
      "outputs": [
        {
          "output_type": "execute_result",
          "data": {
            "text/plain": [
              "'досрочно закрывать вклад отпуск жена заказывать заранее забыть заказать сотрудник банк спб ленсовет 89 наталья отказать хотя сумма значительный работать быстро профессионально лишний жаль прикрыть приём вклад офис озерко доступность офис заметить нести деньга вклад брать кредит желать успех банк '"
            ],
            "application/vnd.google.colaboratory.intrinsic+json": {
              "type": "string"
            }
          },
          "metadata": {},
          "execution_count": 26
        }
      ],
      "source": [
        "tweets[0]"
      ]
    },
    {
      "cell_type": "code",
      "execution_count": 27,
      "metadata": {
        "id": "819lavCyCQNT"
      },
      "outputs": [],
      "source": [
        "from sklearn.feature_extraction.text import TfidfVectorizer\n",
        "\n",
        "tfidf = TfidfVectorizer(ngram_range=(1, 2))\n",
        "tfidf_tweets = tfidf.fit_transform(tweets)"
      ]
    },
    {
      "cell_type": "code",
      "execution_count": 28,
      "metadata": {
        "colab": {
          "base_uri": "https://localhost:8080/"
        },
        "id": "YwcuNeRwCQNV",
        "outputId": "48af8193-ff9b-48f7-f89c-eb132690762f"
      },
      "outputs": [
        {
          "output_type": "execute_result",
          "data": {
            "text/plain": [
              "array(['быстро', 'то', 'очередь', 'работать', 'сказать', 'кредитный',\n",
              "       'спасибо', 'документ', 'проблема', 'свой', 'обслуживание',\n",
              "       'работа', 'время', 'вопрос', 'год', 'мой', 'который', 'счёт',\n",
              "       'офис', 'деньга', 'сотрудник', 'клиент', 'день', 'это',\n",
              "       'отделение', 'очень', 'кредит', 'вклад', 'карта', 'банк'],\n",
              "      dtype=object)"
            ]
          },
          "metadata": {},
          "execution_count": 28
        }
      ],
      "source": [
        "import numpy as np\n",
        "\n",
        "ind = np.argsort(tfidf_tweets.mean(axis=0).tolist()[0])\n",
        "tfidf.get_feature_names_out()[ind[-30:]]"
      ]
    },
    {
      "cell_type": "markdown",
      "source": [
        "# Часть 2. Тематическое моделирование"
      ],
      "metadata": {
        "id": "bGCcfIt55OZd"
      }
    },
    {
      "cell_type": "markdown",
      "metadata": {
        "id": "tFv-WGCu4PSm"
      },
      "source": [
        "## 1. \n",
        "Постройте несколько тематических моделей коллекции документов с разным числом тем. Приведите примеры понятных (интерпретируемых) тем"
      ]
    },
    {
      "cell_type": "code",
      "execution_count": 29,
      "metadata": {
        "id": "1JKKtBoPJgNP"
      },
      "outputs": [],
      "source": [
        "data = df"
      ]
    },
    {
      "cell_type": "code",
      "execution_count": 30,
      "metadata": {
        "colab": {
          "base_uri": "https://localhost:8080/"
        },
        "id": "z3RAWgafJgNq",
        "outputId": "8bda35c6-f1a0-4c46-c7bb-004dd07ceca7"
      },
      "outputs": [
        {
          "output_type": "stream",
          "name": "stderr",
          "text": [
            "[nltk_data] Downloading package punkt to /root/nltk_data...\n",
            "[nltk_data]   Package punkt is already up-to-date!\n",
            "[nltk_data] Downloading package stopwords to /root/nltk_data...\n",
            "[nltk_data]   Package stopwords is already up-to-date!\n",
            "100%|██████████| 153499/153499 [08:17<00:00, 308.28it/s]\n"
          ]
        }
      ],
      "source": [
        "from tqdm import tqdm\n",
        "from string import punctuation\n",
        "from nltk.tokenize import word_tokenize\n",
        "import nltk\n",
        "nltk.download('punkt')\n",
        "nltk.download('stopwords')\n",
        "from nltk.corpus import stopwords\n",
        "import pymorphy2\n",
        "\n",
        "morph = pymorphy2.MorphAnalyzer()\n",
        "noise = stopwords.words('russian') + list(punctuation) + ['``','\\'\\'', '...']\n",
        "tweets = []\n",
        "for tweet in tqdm(data['text']):\n",
        "    s = []\n",
        "    for token in word_tokenize(tweet.lower()):\n",
        "        if (token not in noise) & (not token.isnumeric()):\n",
        "            # s.append(morph.parse(token)[0].normal_form) # Лемматизация долго\n",
        "            s.append(token)\n",
        "    tweets.append(s)"
      ]
    },
    {
      "cell_type": "markdown",
      "metadata": {
        "id": "psBez9KyAsxn"
      },
      "source": [
        "## Latent Dirichlet Allocation 30 тем"
      ]
    },
    {
      "cell_type": "code",
      "execution_count": 31,
      "metadata": {
        "id": "cxO5zWsLHeV4"
      },
      "outputs": [],
      "source": [
        "# Remove rare and common tokens.\n",
        "from gensim.corpora import Dictionary\n",
        "\n",
        "# Create a dictionary representation of the documents.\n",
        "dictionary = Dictionary(tweets)"
      ]
    },
    {
      "cell_type": "code",
      "execution_count": 32,
      "metadata": {
        "id": "LbPyA8jXICqx"
      },
      "outputs": [],
      "source": [
        "# Bag-of-words representation of the documents.\n",
        "corpus = [dictionary.doc2bow(tweet) for tweet in tweets if len(tweet) > 10]"
      ]
    },
    {
      "cell_type": "code",
      "execution_count": 33,
      "metadata": {
        "id": "RzWQZtYm4Qt2"
      },
      "outputs": [],
      "source": [
        "\n",
        "# Train LDA model.\n",
        "from gensim.models import LdaModel\n",
        "\n",
        "# Set training parameters.\n",
        "num_topics = 30\n",
        "\n",
        "# Make an index to word dictionary.\n",
        "temp = dictionary[0]  # This is only to \"load\" the dictionary.\n",
        "id2word = dictionary.id2token\n",
        "\n",
        "model = LdaModel(\n",
        "    corpus=corpus,\n",
        "    id2word=id2word,\n",
        "    num_topics=num_topics,\n",
        "    )"
      ]
    },
    {
      "cell_type": "code",
      "source": [
        "model.show_topics(num_topics=30 , num_words=5)"
      ],
      "metadata": {
        "colab": {
          "base_uri": "https://localhost:8080/"
        },
        "id": "5Zs6w5UL1XE1",
        "outputId": "a72a418b-2f4c-4e73-eb55-48ee865b4d07"
      },
      "execution_count": 34,
      "outputs": [
        {
          "output_type": "execute_result",
          "data": {
            "text/plain": [
              "[(0,\n",
              "  '0.031*\"вклад\" + 0.016*\"вклада\" + 0.011*\"открыть\" + 0.011*\"офис\" + 0.009*\"очереди\"'),\n",
              " (1, '0.215*\"«\" + 0.211*\"»\" + 0.111*\"–\" + 0.013*\"—\" + 0.004*\"…\"'),\n",
              " (2,\n",
              "  '0.020*\"банка\" + 0.016*\"банк\" + 0.010*\"это\" + 0.010*\"сайте\" + 0.009*\"комиссии\"'),\n",
              " (3,\n",
              "  '0.025*\"евро\" + 0.015*\"сити\" + 0.013*\"долларов\" + 0.013*\"курс\" + 0.010*\"покупки\"'),\n",
              " (4,\n",
              "  '0.023*\"банка\" + 0.011*\"девушка\" + 0.010*\"сказала\" + 0.008*\"это\" + 0.008*\"вопрос\"'),\n",
              " (5,\n",
              "  '0.011*\"это\" + 0.010*\"звоню\" + 0.009*\"карту\" + 0.007*\"решил\" + 0.007*\"позвонил\"'),\n",
              " (6,\n",
              "  '0.042*\"нам\" + 0.025*\"втб\" + 0.013*\"квартиру\" + 0.013*\"втб24\" + 0.011*\"квартиры\"'),\n",
              " (7,\n",
              "  '0.051*\"деньги\" + 0.050*\"банкомат\" + 0.017*\"денег\" + 0.013*\"банкомата\" + 0.010*\"банкомате\"'),\n",
              " (8,\n",
              "  '0.016*\"договора\" + 0.013*\"банк\" + 0.012*\"рф\" + 0.011*\"банка\" + 0.011*\"договор\"'),\n",
              " (9,\n",
              "  '0.021*\"минут\" + 0.017*\"очереди\" + 0.015*\"очередь\" + 0.012*\"это\" + 0.010*\"кассу\"'),\n",
              " (10,\n",
              "  '0.053*\"деньги\" + 0.029*\"счет\" + 0.018*\"счета\" + 0.015*\"денег\" + 0.011*\"это\"'),\n",
              " (11,\n",
              "  '0.019*\"это\" + 0.010*\"банк\" + 0.008*\"услуги\" + 0.008*\"банка\" + 0.007*\"услугу\"'),\n",
              " (12,\n",
              "  '0.009*\"документы\" + 0.005*\"документов\" + 0.005*\"это\" + 0.004*\"сертификат\" + 0.004*\"тебе\"'),\n",
              " (13,\n",
              "  '0.040*\"сбербанка\" + 0.028*\"сбербанк\" + 0.027*\"отделение\" + 0.018*\"г.\" + 0.014*\"отделения\"'),\n",
              " (14,\n",
              "  '0.034*\"заявление\" + 0.025*\"дней\" + 0.018*\"банка\" + 0.014*\"заявления\" + 0.011*\"банк\"'),\n",
              " (15,\n",
              "  '0.070*\"--\" + 0.006*\"cash-in\" + 0.004*\"предварительное\" + 0.004*\"частных\" + 0.004*\"милиции\"'),\n",
              " (16,\n",
              "  '0.033*\"всё\" + 0.022*\"ещё\" + 0.011*\"это\" + 0.010*\"счёт\" + 0.008*\"лимит\"'),\n",
              " (17,\n",
              "  '0.023*\"кредит\" + 0.015*\"сумму\" + 0.012*\"рублей\" + 0.012*\"платеж\" + 0.012*\"банк\"'),\n",
              " (18,\n",
              "  '0.007*\"паи\" + 0.006*\"промсвязьбанк\" + 0.006*\"лист\" + 0.005*\"a\" + 0.004*\"з/п\"'),\n",
              " (19,\n",
              "  '0.053*\"карты\" + 0.050*\"карту\" + 0.029*\"карта\" + 0.015*\"карте\" + 0.011*\"картой\"'),\n",
              " (20,\n",
              "  '0.010*\"это\" + 0.007*\"очень\" + 0.006*\"нам\" + 0.005*\"люди\" + 0.004*\"работать\"'),\n",
              " (21,\n",
              "  '0.022*\"спасибо\" + 0.014*\"хочу\" + 0.014*\"банка\" + 0.011*\"сотрудников\" + 0.010*\"благодарность\"'),\n",
              " (22,\n",
              "  '0.021*\"это\" + 0.016*\"банк\" + 0.011*\"банка\" + 0.009*\"просто\" + 0.006*\"кредит\"'),\n",
              " (23,\n",
              "  '0.011*\"поддержки\" + 0.009*\"операции\" + 0.009*\"ответ\" + 0.007*\"письмо\" + 0.007*\"службу\"'),\n",
              " (24,\n",
              "  '0.026*\"банка\" + 0.011*\"банк\" + 0.008*\"суд\" + 0.008*\"русский\" + 0.008*\"моей\"'),\n",
              " (25,\n",
              "  '0.042*\"админа\" + 0.006*\"помещение\" + 0.004*\"охрана\" + 0.004*\"кутузовском\" + 0.003*\"банка\"'),\n",
              " (26, '0.014*\"1.\" + 0.014*\"2.\" + 0.012*\"3.\" + 0.012*\"админа\" + 0.010*\"это\"'),\n",
              " (27,\n",
              "  '0.077*\"номер\" + 0.038*\"телефона\" + 0.028*\"телефон\" + 0.022*\"номера\" + 0.013*\"банка\"'),\n",
              " (28,\n",
              "  '0.026*\"очень\" + 0.018*\"банка\" + 0.011*\"банк\" + 0.010*\"это\" + 0.008*\"быстро\"'),\n",
              " (29,\n",
              "  '0.038*\"кредит\" + 0.020*\"документы\" + 0.017*\"кредита\" + 0.012*\"банк\" + 0.012*\"банка\"')]"
            ]
          },
          "metadata": {},
          "execution_count": 34
        }
      ]
    },
    {
      "cell_type": "markdown",
      "source": [
        "## Latent Semantic Indexing 30 тем"
      ],
      "metadata": {
        "id": "y0lbcAnompQ-"
      }
    },
    {
      "cell_type": "code",
      "source": [
        "from gensim.corpora import Dictionary\n",
        "from gensim.models import TfidfModel\n",
        "\n",
        "tfidf = TfidfModel(corpus)\n",
        "corpus_tfidf = tfidf[corpus]\n",
        "id2word = dictionary.id2token"
      ],
      "metadata": {
        "id": "JrLQ57BfmqfL"
      },
      "execution_count": 35,
      "outputs": []
    },
    {
      "cell_type": "code",
      "source": [
        "from gensim.models import lsimodel\n",
        "\n",
        "lsi = lsimodel.LsiModel(corpus=corpus, id2word=id2word, num_topics=30)"
      ],
      "metadata": {
        "id": "Z3ebdUKvSHo7"
      },
      "execution_count": 36,
      "outputs": []
    },
    {
      "cell_type": "code",
      "source": [
        "lsi.show_topics(num_topics=30 , num_words=10)"
      ],
      "metadata": {
        "colab": {
          "base_uri": "https://localhost:8080/"
        },
        "id": "ho2z9GESSQkX",
        "outputId": "8b99db25-ae0d-4cdb-a1dd-7e4b34ea7a49"
      },
      "execution_count": 37,
      "outputs": [
        {
          "output_type": "execute_result",
          "data": {
            "text/plain": [
              "[(0,\n",
              "  '0.428*\"банка\" + 0.313*\"банк\" + 0.299*\"это\" + 0.186*\"деньги\" + 0.169*\"карты\" + 0.167*\"«\" + 0.165*\"»\" + 0.163*\"карту\" + 0.111*\"заявление\" + 0.111*\"кредит\"'),\n",
              " (1,\n",
              "  '-0.659*\"«\" + -0.653*\"»\" + -0.189*\"–\" + 0.120*\"банка\" + 0.101*\"деньги\" + 0.099*\"карту\" + 0.092*\"это\" + 0.065*\"карты\" + 0.051*\"банк\" + 0.044*\"отделение\"'),\n",
              " (2,\n",
              "  '-0.998*\"--\" + -0.023*\"карты\" + 0.017*\"кредит\" + 0.015*\"банка\" + 0.014*\"«\" + 0.014*\"»\" + -0.012*\"карта\" + -0.012*\"операции\" + 0.011*\"это\" + -0.010*\"карту\"'),\n",
              " (3,\n",
              "  '0.513*\"банка\" + -0.410*\"карту\" + -0.383*\"карты\" + -0.248*\"деньги\" + 0.228*\"банк\" + 0.221*\"кредит\" + -0.192*\"карта\" + -0.124*\"сбербанка\" + 0.122*\"кредита\" + -0.111*\"это\"'),\n",
              " (4,\n",
              "  '0.495*\"банка\" + 0.403*\"карты\" + -0.399*\"это\" + -0.295*\"деньги\" + 0.261*\"карту\" + -0.202*\"кредит\" + 0.168*\"карта\" + -0.117*\"банк\" + -0.083*\"очень\" + 0.079*\"карте\"'),\n",
              " (5,\n",
              "  '0.523*\"деньги\" + -0.458*\"это\" + 0.281*\"банк\" + 0.172*\"счет\" + 0.168*\"заявление\" + 0.140*\"рублей\" + 0.129*\"средств\" + -0.115*\"очень\" + 0.107*\"денег\" + 0.099*\"г.\"'),\n",
              " (6,\n",
              "  '0.723*\"банк\" + -0.360*\"банка\" + -0.356*\"деньги\" + 0.207*\"карты\" + 0.151*\"карту\" + -0.122*\"отделение\" + -0.098*\"банкомат\" + 0.096*\"карта\" + 0.087*\"кредит\" + -0.086*\"счет\"'),\n",
              " (7,\n",
              "  '0.480*\"кредит\" + -0.340*\"банк\" + -0.284*\"деньги\" + 0.242*\"кредита\" + -0.219*\"банка\" + 0.206*\"заявление\" + 0.151*\"рублей\" + 0.150*\"сумму\" + 0.134*\"года\" + -0.126*\"вклад\"'),\n",
              " (8,\n",
              "  '-0.418*\"кредит\" + -0.389*\"карту\" + 0.292*\"это\" + -0.273*\"деньги\" + 0.178*\"сбербанка\" + 0.176*\"средств\" + 0.154*\"счета\" + -0.142*\"банка\" + 0.137*\"заявление\" + 0.125*\"счет\"'),\n",
              " (9,\n",
              "  '-0.360*\"рублей\" + -0.299*\"это\" + 0.288*\"заявление\" + 0.276*\"отделение\" + 0.206*\"банк\" + -0.192*\"карты\" + -0.170*\"сумму\" + -0.152*\"руб\" + 0.138*\"номер\" + 0.132*\"дней\"'),\n",
              " (10,\n",
              "  '0.683*\"25d0\" + 0.229*\"25d1\" + -0.229*\"это\" + 0.218*\"вклад\" + -0.195*\"заявление\" + 0.181*\"вклада\" + 0.157*\"счет\" + 0.120*\"счета\" + 0.118*\"очень\" + 0.107*\"банке\"'),\n",
              " (11,\n",
              "  '-0.572*\"25d0\" + -0.339*\"это\" + 0.219*\"–\" + -0.217*\"заявление\" + 0.203*\"вклад\" + -0.192*\"25d1\" + 0.170*\"счет\" + 0.163*\"вклада\" + 0.129*\"очень\" + -0.124*\"деньги\"'),\n",
              " (12,\n",
              "  '-0.888*\"–\" + -0.195*\"25d0\" + -0.154*\"заявление\" + 0.128*\"«\" + 0.125*\"»\" + -0.105*\"дней\" + 0.084*\"вклад\" + 0.072*\"это\" + -0.066*\"25d1\" + 0.065*\"карту\"'),\n",
              " (13,\n",
              "  '-0.389*\"заявление\" + 0.309*\"рублей\" + 0.278*\"номер\" + 0.230*\"смс\" + -0.226*\"карты\" + -0.202*\"это\" + -0.196*\"счет\" + -0.179*\"кредит\" + -0.158*\"счета\" + 0.141*\"день\"'),\n",
              " (14,\n",
              "  '0.455*\"карты\" + -0.344*\"карту\" + -0.314*\"рублей\" + -0.309*\"заявление\" + 0.301*\"кредит\" + 0.229*\"номер\" + 0.226*\"деньги\" + -0.123*\"вклад\" + 0.122*\"сбербанка\" + -0.115*\"сумму\"'),\n",
              " (15,\n",
              "  '0.563*\"счет\" + 0.320*\"счета\" + -0.270*\"рублей\" + -0.197*\"сбербанка\" + -0.174*\"года\" + -0.170*\"вклад\" + -0.136*\"заявление\" + -0.131*\"очень\" + -0.130*\"вклада\" + 0.127*\"карту\"'),\n",
              " (16,\n",
              "  '0.312*\"сбербанка\" + 0.293*\"отделение\" + -0.280*\"день\" + 0.265*\"карту\" + -0.248*\"карты\" + -0.221*\"дней\" + -0.202*\"вклад\" + -0.186*\"заявление\" + -0.182*\"вклада\" + 0.175*\"счет\"'),\n",
              " (17,\n",
              "  '-0.438*\"рублей\" + 0.396*\"карту\" + -0.267*\"отделение\" + -0.231*\"карты\" + 0.208*\"г.\" + 0.201*\"руб\" + 0.193*\"договора\" + 0.151*\"договор\" + -0.146*\"счет\" + -0.145*\"заявление\"'),\n",
              " (18,\n",
              "  '0.427*\"отделение\" + 0.318*\"руб\" + -0.230*\"заявление\" + -0.226*\"очень\" + 0.208*\"сумму\" + -0.199*\"рублей\" + -0.190*\"года\" + -0.187*\"счет\" + -0.176*\"номер\" + -0.147*\"счета\"'),\n",
              " (19,\n",
              "  '0.421*\"номер\" + 0.334*\"вклад\" + -0.301*\"дней\" + 0.261*\"вклада\" + -0.222*\"день\" + -0.188*\"очень\" + -0.178*\"документы\" + 0.153*\"телефона\" + 0.126*\"заявление\" + 0.121*\"звонки\"'),\n",
              " (20,\n",
              "  '0.389*\"очень\" + 0.335*\"руб\" + 0.309*\"заявление\" + -0.305*\"рублей\" + -0.157*\"договор\" + -0.153*\"ответ\" + -0.150*\"договора\" + 0.141*\"сумму\" + -0.136*\"документы\" + -0.135*\"дней\"'),\n",
              " (21,\n",
              "  '0.490*\"года\" + 0.448*\"день\" + -0.242*\"ответ\" + -0.182*\"вопрос\" + -0.172*\"минут\" + -0.139*\"рублей\" + -0.130*\"почему\" + 0.108*\"звонки\" + -0.106*\"девушка\" + -0.102*\"кредита\"'),\n",
              " (22,\n",
              "  '0.373*\"года\" + -0.249*\"день\" + -0.237*\"кредит\" + -0.206*\"средств\" + -0.189*\"номер\" + -0.185*\"сбербанка\" + -0.180*\"смс\" + -0.174*\"вклад\" + 0.172*\"вопрос\" + -0.166*\"вклада\"'),\n",
              " (23,\n",
              "  '0.494*\"день\" + -0.309*\"года\" + -0.304*\"дней\" + -0.252*\"смс\" + -0.181*\"сбербанка\" + -0.173*\"сбербанк\" + 0.148*\"г.\" + 0.148*\"рублей\" + -0.133*\"вклад\" + 0.125*\"карты\"'),\n",
              " (24,\n",
              "  '0.383*\"отделение\" + -0.285*\"сбербанка\" + -0.277*\"г.\" + -0.216*\"офис\" + -0.201*\"сбербанк\" + -0.184*\"вопрос\" + -0.173*\"ответ\" + 0.170*\"договора\" + 0.170*\"смс\" + -0.165*\"почему\"'),\n",
              " (25,\n",
              "  '-0.435*\"г.\" + 0.315*\"сбербанка\" + -0.247*\"банкомат\" + 0.226*\"сбербанк\" + -0.222*\"кредит\" + -0.163*\"дней\" + 0.152*\"договор\" + 0.152*\"очень\" + 0.151*\"договора\" + -0.142*\"средств\"'),\n",
              " (26,\n",
              "  '0.474*\"г.\" + 0.253*\"смс\" + -0.231*\"ответ\" + -0.230*\"средств\" + 0.191*\"очень\" + -0.189*\"кредит\" + -0.160*\"вопрос\" + -0.155*\"карту\" + -0.145*\"день\" + -0.136*\"денежных\"'),\n",
              " (27,\n",
              "  '-0.622*\"sms\" + -0.343*\"0.00\" + -0.343*\"штука\" + -0.343*\"входящие\" + -0.343*\"кемерово\" + -0.169*\"5м5\" + -0.132*\"17.03.14\" + -0.111*\"15.03.14\" + -0.103*\"16.03.14\" + -0.099*\"входящее\"'),\n",
              " (28,\n",
              "  '0.349*\"руб\" + 0.326*\"года\" + -0.288*\"очень\" + -0.218*\"дней\" + 0.177*\"всё\" + -0.153*\"рф\" + 0.145*\"номер\" + 0.144*\"документы\" + -0.143*\"почему\" + -0.137*\"срок\"'),\n",
              " (29,\n",
              "  '0.524*\"данных\" + 0.487*\"персональных\" + 0.304*\"руб\" + -0.182*\"время\" + 0.154*\"моих\" + -0.149*\"кредита\" + -0.135*\"номер\" + -0.128*\"смс\" + -0.102*\"платежа\" + 0.096*\"мои\"')]"
            ]
          },
          "metadata": {},
          "execution_count": 37
        }
      ]
    },
    {
      "cell_type": "markdown",
      "source": [
        "# Часть 3. Классификация текстов"
      ],
      "metadata": {
        "id": "peTkxerEsU9Z"
      }
    },
    {
      "cell_type": "code",
      "source": [
        "df_classification = df[df['rating_grade'].isin([1, 5])]\n",
        "df_classification.shape"
      ],
      "metadata": {
        "colab": {
          "base_uri": "https://localhost:8080/"
        },
        "id": "eBdFhwRJsW5A",
        "outputId": "7f61fab3-8925-4940-efd9-841975cfbdfd"
      },
      "execution_count": 38,
      "outputs": [
        {
          "output_type": "execute_result",
          "data": {
            "text/plain": [
              "(62100, 12)"
            ]
          },
          "metadata": {},
          "execution_count": 38
        }
      ]
    },
    {
      "cell_type": "code",
      "source": [
        "from sklearn import preprocessing\n",
        "\n",
        "le = preprocessing.LabelEncoder().fit(df_classification['rating_grade'])\n",
        "print(le.classes_)\n",
        "y = le.transform(df_classification['rating_grade'])\n",
        "X = df_classification['text']"
      ],
      "metadata": {
        "colab": {
          "base_uri": "https://localhost:8080/"
        },
        "id": "COMCXKEZxqBV",
        "outputId": "2cc734b0-f0ca-4071-babf-6e5b987504fe"
      },
      "execution_count": 39,
      "outputs": [
        {
          "output_type": "stream",
          "name": "stdout",
          "text": [
            "[1. 5.]\n"
          ]
        }
      ]
    },
    {
      "cell_type": "code",
      "source": [
        "from sklearn.model_selection import train_test_split\n",
        "\n",
        "X_train, X_test, y_train, y_test = train_test_split(X, y, test_size=0.25, random_state=42)"
      ],
      "metadata": {
        "id": "vaXdRRd8s6xE"
      },
      "execution_count": 40,
      "outputs": []
    },
    {
      "cell_type": "markdown",
      "source": [
        "### Униграмы"
      ],
      "metadata": {
        "id": "bc4Rd5G5rXR0"
      }
    },
    {
      "cell_type": "code",
      "source": [
        "from sklearn.linear_model import LogisticRegression\n",
        "from sklearn.feature_extraction.text import CountVectorizer\n",
        "\n",
        "vec = CountVectorizer(ngram_range=(1, 1))\n",
        "bow = vec.fit_transform(X_train) # bow -- bag of words (мешок слов)\n",
        "\n",
        "clf = LogisticRegression(random_state=42, solver='liblinear')\n",
        "clf.fit(bow, y_train)"
      ],
      "metadata": {
        "id": "dZCRIXiemr1f",
        "colab": {
          "base_uri": "https://localhost:8080/",
          "height": 75
        },
        "outputId": "a857545b-44be-471c-c5df-37ed612c1c27"
      },
      "execution_count": 42,
      "outputs": [
        {
          "output_type": "execute_result",
          "data": {
            "text/plain": [
              "LogisticRegression(random_state=42, solver='liblinear')"
            ],
            "text/html": [
              "<style>#sk-container-id-1 {color: black;background-color: white;}#sk-container-id-1 pre{padding: 0;}#sk-container-id-1 div.sk-toggleable {background-color: white;}#sk-container-id-1 label.sk-toggleable__label {cursor: pointer;display: block;width: 100%;margin-bottom: 0;padding: 0.3em;box-sizing: border-box;text-align: center;}#sk-container-id-1 label.sk-toggleable__label-arrow:before {content: \"▸\";float: left;margin-right: 0.25em;color: #696969;}#sk-container-id-1 label.sk-toggleable__label-arrow:hover:before {color: black;}#sk-container-id-1 div.sk-estimator:hover label.sk-toggleable__label-arrow:before {color: black;}#sk-container-id-1 div.sk-toggleable__content {max-height: 0;max-width: 0;overflow: hidden;text-align: left;background-color: #f0f8ff;}#sk-container-id-1 div.sk-toggleable__content pre {margin: 0.2em;color: black;border-radius: 0.25em;background-color: #f0f8ff;}#sk-container-id-1 input.sk-toggleable__control:checked~div.sk-toggleable__content {max-height: 200px;max-width: 100%;overflow: auto;}#sk-container-id-1 input.sk-toggleable__control:checked~label.sk-toggleable__label-arrow:before {content: \"▾\";}#sk-container-id-1 div.sk-estimator input.sk-toggleable__control:checked~label.sk-toggleable__label {background-color: #d4ebff;}#sk-container-id-1 div.sk-label input.sk-toggleable__control:checked~label.sk-toggleable__label {background-color: #d4ebff;}#sk-container-id-1 input.sk-hidden--visually {border: 0;clip: rect(1px 1px 1px 1px);clip: rect(1px, 1px, 1px, 1px);height: 1px;margin: -1px;overflow: hidden;padding: 0;position: absolute;width: 1px;}#sk-container-id-1 div.sk-estimator {font-family: monospace;background-color: #f0f8ff;border: 1px dotted black;border-radius: 0.25em;box-sizing: border-box;margin-bottom: 0.5em;}#sk-container-id-1 div.sk-estimator:hover {background-color: #d4ebff;}#sk-container-id-1 div.sk-parallel-item::after {content: \"\";width: 100%;border-bottom: 1px solid gray;flex-grow: 1;}#sk-container-id-1 div.sk-label:hover label.sk-toggleable__label {background-color: #d4ebff;}#sk-container-id-1 div.sk-serial::before {content: \"\";position: absolute;border-left: 1px solid gray;box-sizing: border-box;top: 0;bottom: 0;left: 50%;z-index: 0;}#sk-container-id-1 div.sk-serial {display: flex;flex-direction: column;align-items: center;background-color: white;padding-right: 0.2em;padding-left: 0.2em;position: relative;}#sk-container-id-1 div.sk-item {position: relative;z-index: 1;}#sk-container-id-1 div.sk-parallel {display: flex;align-items: stretch;justify-content: center;background-color: white;position: relative;}#sk-container-id-1 div.sk-item::before, #sk-container-id-1 div.sk-parallel-item::before {content: \"\";position: absolute;border-left: 1px solid gray;box-sizing: border-box;top: 0;bottom: 0;left: 50%;z-index: -1;}#sk-container-id-1 div.sk-parallel-item {display: flex;flex-direction: column;z-index: 1;position: relative;background-color: white;}#sk-container-id-1 div.sk-parallel-item:first-child::after {align-self: flex-end;width: 50%;}#sk-container-id-1 div.sk-parallel-item:last-child::after {align-self: flex-start;width: 50%;}#sk-container-id-1 div.sk-parallel-item:only-child::after {width: 0;}#sk-container-id-1 div.sk-dashed-wrapped {border: 1px dashed gray;margin: 0 0.4em 0.5em 0.4em;box-sizing: border-box;padding-bottom: 0.4em;background-color: white;}#sk-container-id-1 div.sk-label label {font-family: monospace;font-weight: bold;display: inline-block;line-height: 1.2em;}#sk-container-id-1 div.sk-label-container {text-align: center;}#sk-container-id-1 div.sk-container {/* jupyter's `normalize.less` sets `[hidden] { display: none; }` but bootstrap.min.css set `[hidden] { display: none !important; }` so we also need the `!important` here to be able to override the default hidden behavior on the sphinx rendered scikit-learn.org. See: https://github.com/scikit-learn/scikit-learn/issues/21755 */display: inline-block !important;position: relative;}#sk-container-id-1 div.sk-text-repr-fallback {display: none;}</style><div id=\"sk-container-id-1\" class=\"sk-top-container\"><div class=\"sk-text-repr-fallback\"><pre>LogisticRegression(random_state=42, solver=&#x27;liblinear&#x27;)</pre><b>In a Jupyter environment, please rerun this cell to show the HTML representation or trust the notebook. <br />On GitHub, the HTML representation is unable to render, please try loading this page with nbviewer.org.</b></div><div class=\"sk-container\" hidden><div class=\"sk-item\"><div class=\"sk-estimator sk-toggleable\"><input class=\"sk-toggleable__control sk-hidden--visually\" id=\"sk-estimator-id-1\" type=\"checkbox\" checked><label for=\"sk-estimator-id-1\" class=\"sk-toggleable__label sk-toggleable__label-arrow\">LogisticRegression</label><div class=\"sk-toggleable__content\"><pre>LogisticRegression(random_state=42, solver=&#x27;liblinear&#x27;)</pre></div></div></div></div></div>"
            ]
          },
          "metadata": {},
          "execution_count": 42
        }
      ]
    },
    {
      "cell_type": "code",
      "source": [
        "from sklearn.metrics import classification_report\n",
        "\n",
        "pred = clf.predict(vec.transform(X_test))\n",
        "print(classification_report(pred, y_test))"
      ],
      "metadata": {
        "colab": {
          "base_uri": "https://localhost:8080/"
        },
        "id": "8cNjMsmEztRG",
        "outputId": "d8a97a3d-e1be-451a-d2ef-d05d49947b23"
      },
      "execution_count": 43,
      "outputs": [
        {
          "output_type": "stream",
          "name": "stdout",
          "text": [
            "              precision    recall  f1-score   support\n",
            "\n",
            "           0       0.98      0.97      0.98     11915\n",
            "           1       0.92      0.95      0.93      3610\n",
            "\n",
            "    accuracy                           0.97     15525\n",
            "   macro avg       0.95      0.96      0.95     15525\n",
            "weighted avg       0.97      0.97      0.97     15525\n",
            "\n"
          ]
        }
      ]
    },
    {
      "cell_type": "code",
      "source": [
        "from sklearn.linear_model import LogisticRegression\n",
        "from sklearn.feature_extraction.text import CountVectorizer\n",
        "\n",
        "vec = CountVectorizer(ngram_range=(1, 2))\n",
        "bow = vec.fit_transform(X_train) # bow -- bag of words (мешок слов)\n",
        "\n",
        "clf = LogisticRegression(random_state=42, solver='liblinear')\n",
        "clf.fit(bow, y_train)"
      ],
      "metadata": {
        "colab": {
          "base_uri": "https://localhost:8080/",
          "height": 75
        },
        "outputId": "0c2f1cb1-8d75-4111-e7eb-e79d80b1a498",
        "id": "7VM5B7R701eI"
      },
      "execution_count": 44,
      "outputs": [
        {
          "output_type": "execute_result",
          "data": {
            "text/plain": [
              "LogisticRegression(random_state=42, solver='liblinear')"
            ],
            "text/html": [
              "<style>#sk-container-id-2 {color: black;background-color: white;}#sk-container-id-2 pre{padding: 0;}#sk-container-id-2 div.sk-toggleable {background-color: white;}#sk-container-id-2 label.sk-toggleable__label {cursor: pointer;display: block;width: 100%;margin-bottom: 0;padding: 0.3em;box-sizing: border-box;text-align: center;}#sk-container-id-2 label.sk-toggleable__label-arrow:before {content: \"▸\";float: left;margin-right: 0.25em;color: #696969;}#sk-container-id-2 label.sk-toggleable__label-arrow:hover:before {color: black;}#sk-container-id-2 div.sk-estimator:hover label.sk-toggleable__label-arrow:before {color: black;}#sk-container-id-2 div.sk-toggleable__content {max-height: 0;max-width: 0;overflow: hidden;text-align: left;background-color: #f0f8ff;}#sk-container-id-2 div.sk-toggleable__content pre {margin: 0.2em;color: black;border-radius: 0.25em;background-color: #f0f8ff;}#sk-container-id-2 input.sk-toggleable__control:checked~div.sk-toggleable__content {max-height: 200px;max-width: 100%;overflow: auto;}#sk-container-id-2 input.sk-toggleable__control:checked~label.sk-toggleable__label-arrow:before {content: \"▾\";}#sk-container-id-2 div.sk-estimator input.sk-toggleable__control:checked~label.sk-toggleable__label {background-color: #d4ebff;}#sk-container-id-2 div.sk-label input.sk-toggleable__control:checked~label.sk-toggleable__label {background-color: #d4ebff;}#sk-container-id-2 input.sk-hidden--visually {border: 0;clip: rect(1px 1px 1px 1px);clip: rect(1px, 1px, 1px, 1px);height: 1px;margin: -1px;overflow: hidden;padding: 0;position: absolute;width: 1px;}#sk-container-id-2 div.sk-estimator {font-family: monospace;background-color: #f0f8ff;border: 1px dotted black;border-radius: 0.25em;box-sizing: border-box;margin-bottom: 0.5em;}#sk-container-id-2 div.sk-estimator:hover {background-color: #d4ebff;}#sk-container-id-2 div.sk-parallel-item::after {content: \"\";width: 100%;border-bottom: 1px solid gray;flex-grow: 1;}#sk-container-id-2 div.sk-label:hover label.sk-toggleable__label {background-color: #d4ebff;}#sk-container-id-2 div.sk-serial::before {content: \"\";position: absolute;border-left: 1px solid gray;box-sizing: border-box;top: 0;bottom: 0;left: 50%;z-index: 0;}#sk-container-id-2 div.sk-serial {display: flex;flex-direction: column;align-items: center;background-color: white;padding-right: 0.2em;padding-left: 0.2em;position: relative;}#sk-container-id-2 div.sk-item {position: relative;z-index: 1;}#sk-container-id-2 div.sk-parallel {display: flex;align-items: stretch;justify-content: center;background-color: white;position: relative;}#sk-container-id-2 div.sk-item::before, #sk-container-id-2 div.sk-parallel-item::before {content: \"\";position: absolute;border-left: 1px solid gray;box-sizing: border-box;top: 0;bottom: 0;left: 50%;z-index: -1;}#sk-container-id-2 div.sk-parallel-item {display: flex;flex-direction: column;z-index: 1;position: relative;background-color: white;}#sk-container-id-2 div.sk-parallel-item:first-child::after {align-self: flex-end;width: 50%;}#sk-container-id-2 div.sk-parallel-item:last-child::after {align-self: flex-start;width: 50%;}#sk-container-id-2 div.sk-parallel-item:only-child::after {width: 0;}#sk-container-id-2 div.sk-dashed-wrapped {border: 1px dashed gray;margin: 0 0.4em 0.5em 0.4em;box-sizing: border-box;padding-bottom: 0.4em;background-color: white;}#sk-container-id-2 div.sk-label label {font-family: monospace;font-weight: bold;display: inline-block;line-height: 1.2em;}#sk-container-id-2 div.sk-label-container {text-align: center;}#sk-container-id-2 div.sk-container {/* jupyter's `normalize.less` sets `[hidden] { display: none; }` but bootstrap.min.css set `[hidden] { display: none !important; }` so we also need the `!important` here to be able to override the default hidden behavior on the sphinx rendered scikit-learn.org. See: https://github.com/scikit-learn/scikit-learn/issues/21755 */display: inline-block !important;position: relative;}#sk-container-id-2 div.sk-text-repr-fallback {display: none;}</style><div id=\"sk-container-id-2\" class=\"sk-top-container\"><div class=\"sk-text-repr-fallback\"><pre>LogisticRegression(random_state=42, solver=&#x27;liblinear&#x27;)</pre><b>In a Jupyter environment, please rerun this cell to show the HTML representation or trust the notebook. <br />On GitHub, the HTML representation is unable to render, please try loading this page with nbviewer.org.</b></div><div class=\"sk-container\" hidden><div class=\"sk-item\"><div class=\"sk-estimator sk-toggleable\"><input class=\"sk-toggleable__control sk-hidden--visually\" id=\"sk-estimator-id-2\" type=\"checkbox\" checked><label for=\"sk-estimator-id-2\" class=\"sk-toggleable__label sk-toggleable__label-arrow\">LogisticRegression</label><div class=\"sk-toggleable__content\"><pre>LogisticRegression(random_state=42, solver=&#x27;liblinear&#x27;)</pre></div></div></div></div></div>"
            ]
          },
          "metadata": {},
          "execution_count": 44
        }
      ]
    },
    {
      "cell_type": "code",
      "source": [
        "from sklearn.metrics import classification_report\n",
        "\n",
        "pred = clf.predict(vec.transform(X_test))\n",
        "print(classification_report(pred, y_test))"
      ],
      "metadata": {
        "colab": {
          "base_uri": "https://localhost:8080/"
        },
        "outputId": "458b10de-3bad-4dd3-9f54-6daf569377fc",
        "id": "SLGLZQpj01eK"
      },
      "execution_count": 45,
      "outputs": [
        {
          "output_type": "stream",
          "name": "stdout",
          "text": [
            "              precision    recall  f1-score   support\n",
            "\n",
            "           0       0.99      0.97      0.98     11973\n",
            "           1       0.92      0.96      0.94      3552\n",
            "\n",
            "    accuracy                           0.97     15525\n",
            "   macro avg       0.95      0.97      0.96     15525\n",
            "weighted avg       0.97      0.97      0.97     15525\n",
            "\n"
          ]
        }
      ]
    },
    {
      "cell_type": "markdown",
      "source": [
        "### Latent Semantic Indexing"
      ],
      "metadata": {
        "id": "YO5uclymrcKF"
      }
    },
    {
      "cell_type": "code",
      "source": [
        "from sklearn.feature_extraction.text import TfidfTransformer\n",
        "from sklearn.feature_extraction.text import CountVectorizer\n",
        "from sklearn.pipeline import Pipeline\n",
        "from sklearn.decomposition import TruncatedSVD\n",
        "from sklearn.linear_model import LogisticRegression\n",
        "\n",
        "vocabulary = list(dictionary.id2token.values())\n",
        "clf = Pipeline([ \n",
        "    ('vect', CountVectorizer(ngram_range=(1, 1), vocabulary=vocabulary)), \n",
        "    ('tfidf', TfidfTransformer()), \n",
        "    ('tm', TruncatedSVD(n_components=30, n_iter=7, random_state=42)), \n",
        "    ('clf', LogisticRegression(random_state=42, solver='liblinear'))\n",
        "])\n",
        "clf.fit(X_train, y_train)\n"
      ],
      "metadata": {
        "colab": {
          "base_uri": "https://localhost:8080/",
          "height": 196
        },
        "id": "hCA9Y64HOaQ-",
        "outputId": "16d199ad-9449-49cf-c83e-b2699316e96c"
      },
      "execution_count": 47,
      "outputs": [
        {
          "output_type": "execute_result",
          "data": {
            "text/plain": [
              "Pipeline(steps=[('vect',\n",
              "                 CountVectorizer(vocabulary=['09.10.2014', '20.10.2013',\n",
              "                                             'адрес', 'адресе', 'банк', 'банка',\n",
              "                                             'банком', 'бесконечные', 'бояться',\n",
              "                                             'буду', 'вашей', 'взятых',\n",
              "                                             'владимировича', 'возбуждении',\n",
              "                                             'возмещение', 'вопроса',\n",
              "                                             'вопросам', 'вреда', 'всей',\n",
              "                                             'вынуждена', 'вышеуказанный',\n",
              "                                             'года', 'город', 'гражданин',\n",
              "                                             'гражданина', 'гражданские',\n",
              "                                             'данных', 'дела', 'день', 'добрый', ...])),\n",
              "                ('tfidf', TfidfTransformer()),\n",
              "                ('tm',\n",
              "                 TruncatedSVD(n_components=30, n_iter=7, random_state=42)),\n",
              "                ('clf',\n",
              "                 LogisticRegression(random_state=42, solver='liblinear'))])"
            ],
            "text/html": [
              "<style>#sk-container-id-3 {color: black;background-color: white;}#sk-container-id-3 pre{padding: 0;}#sk-container-id-3 div.sk-toggleable {background-color: white;}#sk-container-id-3 label.sk-toggleable__label {cursor: pointer;display: block;width: 100%;margin-bottom: 0;padding: 0.3em;box-sizing: border-box;text-align: center;}#sk-container-id-3 label.sk-toggleable__label-arrow:before {content: \"▸\";float: left;margin-right: 0.25em;color: #696969;}#sk-container-id-3 label.sk-toggleable__label-arrow:hover:before {color: black;}#sk-container-id-3 div.sk-estimator:hover label.sk-toggleable__label-arrow:before {color: black;}#sk-container-id-3 div.sk-toggleable__content {max-height: 0;max-width: 0;overflow: hidden;text-align: left;background-color: #f0f8ff;}#sk-container-id-3 div.sk-toggleable__content pre {margin: 0.2em;color: black;border-radius: 0.25em;background-color: #f0f8ff;}#sk-container-id-3 input.sk-toggleable__control:checked~div.sk-toggleable__content {max-height: 200px;max-width: 100%;overflow: auto;}#sk-container-id-3 input.sk-toggleable__control:checked~label.sk-toggleable__label-arrow:before {content: \"▾\";}#sk-container-id-3 div.sk-estimator input.sk-toggleable__control:checked~label.sk-toggleable__label {background-color: #d4ebff;}#sk-container-id-3 div.sk-label input.sk-toggleable__control:checked~label.sk-toggleable__label {background-color: #d4ebff;}#sk-container-id-3 input.sk-hidden--visually {border: 0;clip: rect(1px 1px 1px 1px);clip: rect(1px, 1px, 1px, 1px);height: 1px;margin: -1px;overflow: hidden;padding: 0;position: absolute;width: 1px;}#sk-container-id-3 div.sk-estimator {font-family: monospace;background-color: #f0f8ff;border: 1px dotted black;border-radius: 0.25em;box-sizing: border-box;margin-bottom: 0.5em;}#sk-container-id-3 div.sk-estimator:hover {background-color: #d4ebff;}#sk-container-id-3 div.sk-parallel-item::after {content: \"\";width: 100%;border-bottom: 1px solid gray;flex-grow: 1;}#sk-container-id-3 div.sk-label:hover label.sk-toggleable__label {background-color: #d4ebff;}#sk-container-id-3 div.sk-serial::before {content: \"\";position: absolute;border-left: 1px solid gray;box-sizing: border-box;top: 0;bottom: 0;left: 50%;z-index: 0;}#sk-container-id-3 div.sk-serial {display: flex;flex-direction: column;align-items: center;background-color: white;padding-right: 0.2em;padding-left: 0.2em;position: relative;}#sk-container-id-3 div.sk-item {position: relative;z-index: 1;}#sk-container-id-3 div.sk-parallel {display: flex;align-items: stretch;justify-content: center;background-color: white;position: relative;}#sk-container-id-3 div.sk-item::before, #sk-container-id-3 div.sk-parallel-item::before {content: \"\";position: absolute;border-left: 1px solid gray;box-sizing: border-box;top: 0;bottom: 0;left: 50%;z-index: -1;}#sk-container-id-3 div.sk-parallel-item {display: flex;flex-direction: column;z-index: 1;position: relative;background-color: white;}#sk-container-id-3 div.sk-parallel-item:first-child::after {align-self: flex-end;width: 50%;}#sk-container-id-3 div.sk-parallel-item:last-child::after {align-self: flex-start;width: 50%;}#sk-container-id-3 div.sk-parallel-item:only-child::after {width: 0;}#sk-container-id-3 div.sk-dashed-wrapped {border: 1px dashed gray;margin: 0 0.4em 0.5em 0.4em;box-sizing: border-box;padding-bottom: 0.4em;background-color: white;}#sk-container-id-3 div.sk-label label {font-family: monospace;font-weight: bold;display: inline-block;line-height: 1.2em;}#sk-container-id-3 div.sk-label-container {text-align: center;}#sk-container-id-3 div.sk-container {/* jupyter's `normalize.less` sets `[hidden] { display: none; }` but bootstrap.min.css set `[hidden] { display: none !important; }` so we also need the `!important` here to be able to override the default hidden behavior on the sphinx rendered scikit-learn.org. See: https://github.com/scikit-learn/scikit-learn/issues/21755 */display: inline-block !important;position: relative;}#sk-container-id-3 div.sk-text-repr-fallback {display: none;}</style><div id=\"sk-container-id-3\" class=\"sk-top-container\"><div class=\"sk-text-repr-fallback\"><pre>Pipeline(steps=[(&#x27;vect&#x27;,\n",
              "                 CountVectorizer(vocabulary=[&#x27;09.10.2014&#x27;, &#x27;20.10.2013&#x27;,\n",
              "                                             &#x27;адрес&#x27;, &#x27;адресе&#x27;, &#x27;банк&#x27;, &#x27;банка&#x27;,\n",
              "                                             &#x27;банком&#x27;, &#x27;бесконечные&#x27;, &#x27;бояться&#x27;,\n",
              "                                             &#x27;буду&#x27;, &#x27;вашей&#x27;, &#x27;взятых&#x27;,\n",
              "                                             &#x27;владимировича&#x27;, &#x27;возбуждении&#x27;,\n",
              "                                             &#x27;возмещение&#x27;, &#x27;вопроса&#x27;,\n",
              "                                             &#x27;вопросам&#x27;, &#x27;вреда&#x27;, &#x27;всей&#x27;,\n",
              "                                             &#x27;вынуждена&#x27;, &#x27;вышеуказанный&#x27;,\n",
              "                                             &#x27;года&#x27;, &#x27;город&#x27;, &#x27;гражданин&#x27;,\n",
              "                                             &#x27;гражданина&#x27;, &#x27;гражданские&#x27;,\n",
              "                                             &#x27;данных&#x27;, &#x27;дела&#x27;, &#x27;день&#x27;, &#x27;добрый&#x27;, ...])),\n",
              "                (&#x27;tfidf&#x27;, TfidfTransformer()),\n",
              "                (&#x27;tm&#x27;,\n",
              "                 TruncatedSVD(n_components=30, n_iter=7, random_state=42)),\n",
              "                (&#x27;clf&#x27;,\n",
              "                 LogisticRegression(random_state=42, solver=&#x27;liblinear&#x27;))])</pre><b>In a Jupyter environment, please rerun this cell to show the HTML representation or trust the notebook. <br />On GitHub, the HTML representation is unable to render, please try loading this page with nbviewer.org.</b></div><div class=\"sk-container\" hidden><div class=\"sk-item sk-dashed-wrapped\"><div class=\"sk-label-container\"><div class=\"sk-label sk-toggleable\"><input class=\"sk-toggleable__control sk-hidden--visually\" id=\"sk-estimator-id-3\" type=\"checkbox\" ><label for=\"sk-estimator-id-3\" class=\"sk-toggleable__label sk-toggleable__label-arrow\">Pipeline</label><div class=\"sk-toggleable__content\"><pre>Pipeline(steps=[(&#x27;vect&#x27;,\n",
              "                 CountVectorizer(vocabulary=[&#x27;09.10.2014&#x27;, &#x27;20.10.2013&#x27;,\n",
              "                                             &#x27;адрес&#x27;, &#x27;адресе&#x27;, &#x27;банк&#x27;, &#x27;банка&#x27;,\n",
              "                                             &#x27;банком&#x27;, &#x27;бесконечные&#x27;, &#x27;бояться&#x27;,\n",
              "                                             &#x27;буду&#x27;, &#x27;вашей&#x27;, &#x27;взятых&#x27;,\n",
              "                                             &#x27;владимировича&#x27;, &#x27;возбуждении&#x27;,\n",
              "                                             &#x27;возмещение&#x27;, &#x27;вопроса&#x27;,\n",
              "                                             &#x27;вопросам&#x27;, &#x27;вреда&#x27;, &#x27;всей&#x27;,\n",
              "                                             &#x27;вынуждена&#x27;, &#x27;вышеуказанный&#x27;,\n",
              "                                             &#x27;года&#x27;, &#x27;город&#x27;, &#x27;гражданин&#x27;,\n",
              "                                             &#x27;гражданина&#x27;, &#x27;гражданские&#x27;,\n",
              "                                             &#x27;данных&#x27;, &#x27;дела&#x27;, &#x27;день&#x27;, &#x27;добрый&#x27;, ...])),\n",
              "                (&#x27;tfidf&#x27;, TfidfTransformer()),\n",
              "                (&#x27;tm&#x27;,\n",
              "                 TruncatedSVD(n_components=30, n_iter=7, random_state=42)),\n",
              "                (&#x27;clf&#x27;,\n",
              "                 LogisticRegression(random_state=42, solver=&#x27;liblinear&#x27;))])</pre></div></div></div><div class=\"sk-serial\"><div class=\"sk-item\"><div class=\"sk-estimator sk-toggleable\"><input class=\"sk-toggleable__control sk-hidden--visually\" id=\"sk-estimator-id-4\" type=\"checkbox\" ><label for=\"sk-estimator-id-4\" class=\"sk-toggleable__label sk-toggleable__label-arrow\">CountVectorizer</label><div class=\"sk-toggleable__content\"><pre>CountVectorizer(vocabulary=[&#x27;09.10.2014&#x27;, &#x27;20.10.2013&#x27;, &#x27;адрес&#x27;, &#x27;адресе&#x27;,\n",
              "                            &#x27;банк&#x27;, &#x27;банка&#x27;, &#x27;банком&#x27;, &#x27;бесконечные&#x27;, &#x27;бояться&#x27;,\n",
              "                            &#x27;буду&#x27;, &#x27;вашей&#x27;, &#x27;взятых&#x27;, &#x27;владимировича&#x27;,\n",
              "                            &#x27;возбуждении&#x27;, &#x27;возмещение&#x27;, &#x27;вопроса&#x27;, &#x27;вопросам&#x27;,\n",
              "                            &#x27;вреда&#x27;, &#x27;всей&#x27;, &#x27;вынуждена&#x27;, &#x27;вышеуказанный&#x27;,\n",
              "                            &#x27;года&#x27;, &#x27;город&#x27;, &#x27;гражданин&#x27;, &#x27;гражданина&#x27;,\n",
              "                            &#x27;гражданские&#x27;, &#x27;данных&#x27;, &#x27;дела&#x27;, &#x27;день&#x27;, &#x27;добрый&#x27;, ...])</pre></div></div></div><div class=\"sk-item\"><div class=\"sk-estimator sk-toggleable\"><input class=\"sk-toggleable__control sk-hidden--visually\" id=\"sk-estimator-id-5\" type=\"checkbox\" ><label for=\"sk-estimator-id-5\" class=\"sk-toggleable__label sk-toggleable__label-arrow\">TfidfTransformer</label><div class=\"sk-toggleable__content\"><pre>TfidfTransformer()</pre></div></div></div><div class=\"sk-item\"><div class=\"sk-estimator sk-toggleable\"><input class=\"sk-toggleable__control sk-hidden--visually\" id=\"sk-estimator-id-6\" type=\"checkbox\" ><label for=\"sk-estimator-id-6\" class=\"sk-toggleable__label sk-toggleable__label-arrow\">TruncatedSVD</label><div class=\"sk-toggleable__content\"><pre>TruncatedSVD(n_components=30, n_iter=7, random_state=42)</pre></div></div></div><div class=\"sk-item\"><div class=\"sk-estimator sk-toggleable\"><input class=\"sk-toggleable__control sk-hidden--visually\" id=\"sk-estimator-id-7\" type=\"checkbox\" ><label for=\"sk-estimator-id-7\" class=\"sk-toggleable__label sk-toggleable__label-arrow\">LogisticRegression</label><div class=\"sk-toggleable__content\"><pre>LogisticRegression(random_state=42, solver=&#x27;liblinear&#x27;)</pre></div></div></div></div></div></div></div>"
            ]
          },
          "metadata": {},
          "execution_count": 47
        }
      ]
    },
    {
      "cell_type": "code",
      "source": [
        "from sklearn.metrics import classification_report\n",
        "\n",
        "pred = clf.predict(X_test)\n",
        "print(classification_report(pred, y_test))"
      ],
      "metadata": {
        "colab": {
          "base_uri": "https://localhost:8080/"
        },
        "id": "YZkgrAsRPLmK",
        "outputId": "8db59c44-eef5-44dc-c19b-ec58463dea77"
      },
      "execution_count": 48,
      "outputs": [
        {
          "output_type": "stream",
          "name": "stdout",
          "text": [
            "              precision    recall  f1-score   support\n",
            "\n",
            "           0       0.98      0.93      0.96     12408\n",
            "           1       0.78      0.93      0.84      3117\n",
            "\n",
            "    accuracy                           0.93     15525\n",
            "   macro avg       0.88      0.93      0.90     15525\n",
            "weighted avg       0.94      0.93      0.93     15525\n",
            "\n"
          ]
        }
      ]
    },
    {
      "cell_type": "markdown",
      "source": [
        "### Latent Dirichlet Allocation"
      ],
      "metadata": {
        "id": "2fdL1x8MrgUG"
      }
    },
    {
      "cell_type": "code",
      "source": [
        "from sklearn.feature_extraction.text import TfidfTransformer\n",
        "from sklearn.feature_extraction.text import CountVectorizer\n",
        "from sklearn.pipeline import Pipeline\n",
        "from sklearn.decomposition import LatentDirichletAllocation\n",
        "from sklearn.linear_model import LogisticRegression\n",
        "\n",
        "vocabulary = list(dictionary.id2token.values())\n",
        "clf = Pipeline([ \n",
        "    ('vect', CountVectorizer(ngram_range=(1, 1), vocabulary=vocabulary)), \n",
        "    # ('tfidf', TfidfTransformer()), \n",
        "    ('tm', LatentDirichletAllocation(n_components=30, random_state=42)), \n",
        "    ('clf', LogisticRegression(random_state=42, solver='liblinear'))\n",
        "])\n",
        "clf.fit(X_train, y_train)"
      ],
      "metadata": {
        "colab": {
          "base_uri": "https://localhost:8080/",
          "height": 161
        },
        "id": "bZDgUvntNYXq",
        "outputId": "9b16ed88-1cce-4c91-a258-69f1c854157a"
      },
      "execution_count": 50,
      "outputs": [
        {
          "output_type": "execute_result",
          "data": {
            "text/plain": [
              "Pipeline(steps=[('vect',\n",
              "                 CountVectorizer(vocabulary=['09.10.2014', '20.10.2013',\n",
              "                                             'адрес', 'адресе', 'банк', 'банка',\n",
              "                                             'банком', 'бесконечные', 'бояться',\n",
              "                                             'буду', 'вашей', 'взятых',\n",
              "                                             'владимировича', 'возбуждении',\n",
              "                                             'возмещение', 'вопроса',\n",
              "                                             'вопросам', 'вреда', 'всей',\n",
              "                                             'вынуждена', 'вышеуказанный',\n",
              "                                             'года', 'город', 'гражданин',\n",
              "                                             'гражданина', 'гражданские',\n",
              "                                             'данных', 'дела', 'день', 'добрый', ...])),\n",
              "                ('tm',\n",
              "                 LatentDirichletAllocation(n_components=30, random_state=42)),\n",
              "                ('clf',\n",
              "                 LogisticRegression(random_state=42, solver='liblinear'))])"
            ],
            "text/html": [
              "<style>#sk-container-id-4 {color: black;background-color: white;}#sk-container-id-4 pre{padding: 0;}#sk-container-id-4 div.sk-toggleable {background-color: white;}#sk-container-id-4 label.sk-toggleable__label {cursor: pointer;display: block;width: 100%;margin-bottom: 0;padding: 0.3em;box-sizing: border-box;text-align: center;}#sk-container-id-4 label.sk-toggleable__label-arrow:before {content: \"▸\";float: left;margin-right: 0.25em;color: #696969;}#sk-container-id-4 label.sk-toggleable__label-arrow:hover:before {color: black;}#sk-container-id-4 div.sk-estimator:hover label.sk-toggleable__label-arrow:before {color: black;}#sk-container-id-4 div.sk-toggleable__content {max-height: 0;max-width: 0;overflow: hidden;text-align: left;background-color: #f0f8ff;}#sk-container-id-4 div.sk-toggleable__content pre {margin: 0.2em;color: black;border-radius: 0.25em;background-color: #f0f8ff;}#sk-container-id-4 input.sk-toggleable__control:checked~div.sk-toggleable__content {max-height: 200px;max-width: 100%;overflow: auto;}#sk-container-id-4 input.sk-toggleable__control:checked~label.sk-toggleable__label-arrow:before {content: \"▾\";}#sk-container-id-4 div.sk-estimator input.sk-toggleable__control:checked~label.sk-toggleable__label {background-color: #d4ebff;}#sk-container-id-4 div.sk-label input.sk-toggleable__control:checked~label.sk-toggleable__label {background-color: #d4ebff;}#sk-container-id-4 input.sk-hidden--visually {border: 0;clip: rect(1px 1px 1px 1px);clip: rect(1px, 1px, 1px, 1px);height: 1px;margin: -1px;overflow: hidden;padding: 0;position: absolute;width: 1px;}#sk-container-id-4 div.sk-estimator {font-family: monospace;background-color: #f0f8ff;border: 1px dotted black;border-radius: 0.25em;box-sizing: border-box;margin-bottom: 0.5em;}#sk-container-id-4 div.sk-estimator:hover {background-color: #d4ebff;}#sk-container-id-4 div.sk-parallel-item::after {content: \"\";width: 100%;border-bottom: 1px solid gray;flex-grow: 1;}#sk-container-id-4 div.sk-label:hover label.sk-toggleable__label {background-color: #d4ebff;}#sk-container-id-4 div.sk-serial::before {content: \"\";position: absolute;border-left: 1px solid gray;box-sizing: border-box;top: 0;bottom: 0;left: 50%;z-index: 0;}#sk-container-id-4 div.sk-serial {display: flex;flex-direction: column;align-items: center;background-color: white;padding-right: 0.2em;padding-left: 0.2em;position: relative;}#sk-container-id-4 div.sk-item {position: relative;z-index: 1;}#sk-container-id-4 div.sk-parallel {display: flex;align-items: stretch;justify-content: center;background-color: white;position: relative;}#sk-container-id-4 div.sk-item::before, #sk-container-id-4 div.sk-parallel-item::before {content: \"\";position: absolute;border-left: 1px solid gray;box-sizing: border-box;top: 0;bottom: 0;left: 50%;z-index: -1;}#sk-container-id-4 div.sk-parallel-item {display: flex;flex-direction: column;z-index: 1;position: relative;background-color: white;}#sk-container-id-4 div.sk-parallel-item:first-child::after {align-self: flex-end;width: 50%;}#sk-container-id-4 div.sk-parallel-item:last-child::after {align-self: flex-start;width: 50%;}#sk-container-id-4 div.sk-parallel-item:only-child::after {width: 0;}#sk-container-id-4 div.sk-dashed-wrapped {border: 1px dashed gray;margin: 0 0.4em 0.5em 0.4em;box-sizing: border-box;padding-bottom: 0.4em;background-color: white;}#sk-container-id-4 div.sk-label label {font-family: monospace;font-weight: bold;display: inline-block;line-height: 1.2em;}#sk-container-id-4 div.sk-label-container {text-align: center;}#sk-container-id-4 div.sk-container {/* jupyter's `normalize.less` sets `[hidden] { display: none; }` but bootstrap.min.css set `[hidden] { display: none !important; }` so we also need the `!important` here to be able to override the default hidden behavior on the sphinx rendered scikit-learn.org. See: https://github.com/scikit-learn/scikit-learn/issues/21755 */display: inline-block !important;position: relative;}#sk-container-id-4 div.sk-text-repr-fallback {display: none;}</style><div id=\"sk-container-id-4\" class=\"sk-top-container\"><div class=\"sk-text-repr-fallback\"><pre>Pipeline(steps=[(&#x27;vect&#x27;,\n",
              "                 CountVectorizer(vocabulary=[&#x27;09.10.2014&#x27;, &#x27;20.10.2013&#x27;,\n",
              "                                             &#x27;адрес&#x27;, &#x27;адресе&#x27;, &#x27;банк&#x27;, &#x27;банка&#x27;,\n",
              "                                             &#x27;банком&#x27;, &#x27;бесконечные&#x27;, &#x27;бояться&#x27;,\n",
              "                                             &#x27;буду&#x27;, &#x27;вашей&#x27;, &#x27;взятых&#x27;,\n",
              "                                             &#x27;владимировича&#x27;, &#x27;возбуждении&#x27;,\n",
              "                                             &#x27;возмещение&#x27;, &#x27;вопроса&#x27;,\n",
              "                                             &#x27;вопросам&#x27;, &#x27;вреда&#x27;, &#x27;всей&#x27;,\n",
              "                                             &#x27;вынуждена&#x27;, &#x27;вышеуказанный&#x27;,\n",
              "                                             &#x27;года&#x27;, &#x27;город&#x27;, &#x27;гражданин&#x27;,\n",
              "                                             &#x27;гражданина&#x27;, &#x27;гражданские&#x27;,\n",
              "                                             &#x27;данных&#x27;, &#x27;дела&#x27;, &#x27;день&#x27;, &#x27;добрый&#x27;, ...])),\n",
              "                (&#x27;tm&#x27;,\n",
              "                 LatentDirichletAllocation(n_components=30, random_state=42)),\n",
              "                (&#x27;clf&#x27;,\n",
              "                 LogisticRegression(random_state=42, solver=&#x27;liblinear&#x27;))])</pre><b>In a Jupyter environment, please rerun this cell to show the HTML representation or trust the notebook. <br />On GitHub, the HTML representation is unable to render, please try loading this page with nbviewer.org.</b></div><div class=\"sk-container\" hidden><div class=\"sk-item sk-dashed-wrapped\"><div class=\"sk-label-container\"><div class=\"sk-label sk-toggleable\"><input class=\"sk-toggleable__control sk-hidden--visually\" id=\"sk-estimator-id-8\" type=\"checkbox\" ><label for=\"sk-estimator-id-8\" class=\"sk-toggleable__label sk-toggleable__label-arrow\">Pipeline</label><div class=\"sk-toggleable__content\"><pre>Pipeline(steps=[(&#x27;vect&#x27;,\n",
              "                 CountVectorizer(vocabulary=[&#x27;09.10.2014&#x27;, &#x27;20.10.2013&#x27;,\n",
              "                                             &#x27;адрес&#x27;, &#x27;адресе&#x27;, &#x27;банк&#x27;, &#x27;банка&#x27;,\n",
              "                                             &#x27;банком&#x27;, &#x27;бесконечные&#x27;, &#x27;бояться&#x27;,\n",
              "                                             &#x27;буду&#x27;, &#x27;вашей&#x27;, &#x27;взятых&#x27;,\n",
              "                                             &#x27;владимировича&#x27;, &#x27;возбуждении&#x27;,\n",
              "                                             &#x27;возмещение&#x27;, &#x27;вопроса&#x27;,\n",
              "                                             &#x27;вопросам&#x27;, &#x27;вреда&#x27;, &#x27;всей&#x27;,\n",
              "                                             &#x27;вынуждена&#x27;, &#x27;вышеуказанный&#x27;,\n",
              "                                             &#x27;года&#x27;, &#x27;город&#x27;, &#x27;гражданин&#x27;,\n",
              "                                             &#x27;гражданина&#x27;, &#x27;гражданские&#x27;,\n",
              "                                             &#x27;данных&#x27;, &#x27;дела&#x27;, &#x27;день&#x27;, &#x27;добрый&#x27;, ...])),\n",
              "                (&#x27;tm&#x27;,\n",
              "                 LatentDirichletAllocation(n_components=30, random_state=42)),\n",
              "                (&#x27;clf&#x27;,\n",
              "                 LogisticRegression(random_state=42, solver=&#x27;liblinear&#x27;))])</pre></div></div></div><div class=\"sk-serial\"><div class=\"sk-item\"><div class=\"sk-estimator sk-toggleable\"><input class=\"sk-toggleable__control sk-hidden--visually\" id=\"sk-estimator-id-9\" type=\"checkbox\" ><label for=\"sk-estimator-id-9\" class=\"sk-toggleable__label sk-toggleable__label-arrow\">CountVectorizer</label><div class=\"sk-toggleable__content\"><pre>CountVectorizer(vocabulary=[&#x27;09.10.2014&#x27;, &#x27;20.10.2013&#x27;, &#x27;адрес&#x27;, &#x27;адресе&#x27;,\n",
              "                            &#x27;банк&#x27;, &#x27;банка&#x27;, &#x27;банком&#x27;, &#x27;бесконечные&#x27;, &#x27;бояться&#x27;,\n",
              "                            &#x27;буду&#x27;, &#x27;вашей&#x27;, &#x27;взятых&#x27;, &#x27;владимировича&#x27;,\n",
              "                            &#x27;возбуждении&#x27;, &#x27;возмещение&#x27;, &#x27;вопроса&#x27;, &#x27;вопросам&#x27;,\n",
              "                            &#x27;вреда&#x27;, &#x27;всей&#x27;, &#x27;вынуждена&#x27;, &#x27;вышеуказанный&#x27;,\n",
              "                            &#x27;года&#x27;, &#x27;город&#x27;, &#x27;гражданин&#x27;, &#x27;гражданина&#x27;,\n",
              "                            &#x27;гражданские&#x27;, &#x27;данных&#x27;, &#x27;дела&#x27;, &#x27;день&#x27;, &#x27;добрый&#x27;, ...])</pre></div></div></div><div class=\"sk-item\"><div class=\"sk-estimator sk-toggleable\"><input class=\"sk-toggleable__control sk-hidden--visually\" id=\"sk-estimator-id-10\" type=\"checkbox\" ><label for=\"sk-estimator-id-10\" class=\"sk-toggleable__label sk-toggleable__label-arrow\">LatentDirichletAllocation</label><div class=\"sk-toggleable__content\"><pre>LatentDirichletAllocation(n_components=30, random_state=42)</pre></div></div></div><div class=\"sk-item\"><div class=\"sk-estimator sk-toggleable\"><input class=\"sk-toggleable__control sk-hidden--visually\" id=\"sk-estimator-id-11\" type=\"checkbox\" ><label for=\"sk-estimator-id-11\" class=\"sk-toggleable__label sk-toggleable__label-arrow\">LogisticRegression</label><div class=\"sk-toggleable__content\"><pre>LogisticRegression(random_state=42, solver=&#x27;liblinear&#x27;)</pre></div></div></div></div></div></div></div>"
            ]
          },
          "metadata": {},
          "execution_count": 50
        }
      ]
    },
    {
      "cell_type": "code",
      "source": [
        "from sklearn.metrics import classification_report\n",
        "\n",
        "pred = clf.predict(X_test)\n",
        "print(classification_report(pred, y_test))"
      ],
      "metadata": {
        "colab": {
          "base_uri": "https://localhost:8080/"
        },
        "id": "eVyX6HiOUpOQ",
        "outputId": "2135f0eb-af01-4b85-c7f3-5a8ef733cad4"
      },
      "execution_count": 51,
      "outputs": [
        {
          "output_type": "stream",
          "name": "stdout",
          "text": [
            "              precision    recall  f1-score   support\n",
            "\n",
            "           0       0.98      0.94      0.96     12257\n",
            "           1       0.80      0.91      0.85      3268\n",
            "\n",
            "    accuracy                           0.93     15525\n",
            "   macro avg       0.89      0.92      0.90     15525\n",
            "weighted avg       0.94      0.93      0.93     15525\n",
            "\n"
          ]
        }
      ]
    },
    {
      "cell_type": "markdown",
      "source": [],
      "metadata": {
        "id": "l6h7pHpamPn1"
      }
    },
    {
      "cell_type": "markdown",
      "source": [],
      "metadata": {
        "id": "_73tt7noyzcY"
      }
    }
  ],
  "metadata": {
    "colab": {
      "provenance": [],
      "include_colab_link": true
    },
    "kernelspec": {
      "display_name": "Python 3",
      "name": "python3"
    },
    "language_info": {
      "name": "python"
    }
  },
  "nbformat": 4,
  "nbformat_minor": 0
}