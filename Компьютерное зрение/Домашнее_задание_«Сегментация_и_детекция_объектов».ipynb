{
  "nbformat": 4,
  "nbformat_minor": 0,
  "metadata": {
    "colab": {
      "provenance": []
    },
    "kernelspec": {
      "name": "python3",
      "display_name": "Python 3"
    },
    "language_info": {
      "name": "python"
    }
  },
  "cells": [
    {
      "cell_type": "markdown",
      "source": [
        "Распознавание рукописного ввода на примере базы MNIST\n",
        "\n",
        "Построить классификатор изображений рукописного ввода на базе MNIST. В качестве шаблона в данной работе можно использовать ipython-ноутбук [002-digit.ipynb](https://github.com/a4tunado/lectures/blob/master/002/002-digit.ipynb).\n",
        "\n",
        "Классификатор предлагается строить на признаках, полученных в результате предобработки изображений, например, гистограммы градиентов (HOG) или результат PCA преобразования.\n",
        "\n",
        "В качестве модели классификатора можно использовать любую известную Вам модель, за исключением сверточных нейронных сетей.\n",
        "\n",
        "Критерием качества классификатора является метрика accuracy. Для получения зачета по данной работе, значение метрики accuracy должно быть больше 0.6. Метрика оценивается на тестовой выборке в рамках контеста [Digit Recognizer](https://www.kaggle.com/c/digit-recognizer) на Kaggle.\n",
        "\n",
        "Решение необходимо предоставить в виде ipython-ноутбука с реализацией процесса построения модели и скриншота с финальным результатом на Kaggle."
      ],
      "metadata": {
        "id": "_krcHJIyKCmR"
      }
    },
    {
      "cell_type": "markdown",
      "source": [
        "# Digit Recognizer"
      ],
      "metadata": {
        "id": "go-A92aVLxP_"
      }
    },
    {
      "cell_type": "code",
      "source": [
        "%matplotlib inline\n",
        "import cv2\n",
        "import numpy as np\n",
        "import matplotlib.pyplot as plt"
      ],
      "metadata": {
        "id": "bElDUKIHLw1g"
      },
      "execution_count": null,
      "outputs": []
    },
    {
      "cell_type": "markdown",
      "source": [
        "**Загружаем исходные данные**"
      ],
      "metadata": {
        "id": "XtNh_qieL2Df"
      }
    },
    {
      "cell_type": "code",
      "execution_count": null,
      "metadata": {
        "id": "JOFjqDdlJ7LZ"
      },
      "outputs": [],
      "source": [
        "train = np.loadtxt('/content/train.csv', delimiter=',', skiprows=1)\n",
        "test = np.loadtxt('/content/test.csv', delimiter=',', skiprows=1)"
      ]
    },
    {
      "cell_type": "code",
      "source": [
        "# сохраняем разметку в отдельную переменную\n",
        "train_label = train[:, 0]\n",
        "# приводим размерность к удобному для обаботки виду\n",
        "train_img = np.resize(train[:, 1:], (train.shape[0], 28, 28))\n",
        "test_img = np.resize(test, (test.shape[0], 28, 28))"
      ],
      "metadata": {
        "id": "gzbIELjzMN1g"
      },
      "execution_count": null,
      "outputs": []
    },
    {
      "cell_type": "code",
      "source": [
        "train_img.shape"
      ],
      "metadata": {
        "colab": {
          "base_uri": "https://localhost:8080/"
        },
        "id": "-tM3HB1VMPZv",
        "outputId": "967261a8-b9d0-4372-ea31-9360a14fb76a"
      },
      "execution_count": null,
      "outputs": [
        {
          "output_type": "execute_result",
          "data": {
            "text/plain": [
              "(42000, 28, 28)"
            ]
          },
          "metadata": {},
          "execution_count": 7
        }
      ]
    },
    {
      "cell_type": "markdown",
      "source": [
        "\n",
        "**Визуализируем исходные данные**"
      ],
      "metadata": {
        "id": "_nVXZaV8MSTH"
      }
    },
    {
      "cell_type": "code",
      "source": [
        "fig = plt.figure(figsize=(20, 10))\n",
        "for i, img in enumerate(train_img[0:5], 1):\n",
        "    subplot = fig.add_subplot(1, 7, i)\n",
        "    plt.imshow(img, cmap='gray');\n",
        "    subplot.set_title('%s' % train_label[i - 1]);"
      ],
      "metadata": {
        "colab": {
          "base_uri": "https://localhost:8080/",
          "height": 177
        },
        "id": "SuLYvARHMVI4",
        "outputId": "89a607f1-f08e-419c-9e6b-3adca458b21b"
      },
      "execution_count": null,
      "outputs": [
        {
          "output_type": "display_data",
          "data": {
            "text/plain": [
              "<Figure size 1440x720 with 5 Axes>"
            ],
            "image/png": "[encoded data removed]"
          },
          "metadata": {
            "needs_background": "light"
          }
        }
      ]
    },
    {
      "cell_type": "markdown",
      "source": [
        "**Вычисляем X и Y составляющие градиента с помощью оператора Собеля**"
      ],
      "metadata": {
        "id": "Fo9nHrxCMW6f"
      }
    },
    {
      "cell_type": "code",
      "source": [
        "train_sobel_x = np.zeros_like(train_img)\n",
        "train_sobel_y = np.zeros_like(train_img)\n",
        "for i in range(len(train_img)):\n",
        "    train_sobel_x[i] = cv2.Sobel(train_img[i], cv2.CV_64F, dx=1, dy=0, ksize=3)\n",
        "    train_sobel_y[i] = cv2.Sobel(train_img[i], cv2.CV_64F, dx=0, dy=1, ksize=3)"
      ],
      "metadata": {
        "id": "vaqTNcfAMcq-"
      },
      "execution_count": null,
      "outputs": []
    },
    {
      "cell_type": "code",
      "source": [
        "test_sobel_x = np.zeros_like(test_img)\n",
        "test_sobel_y = np.zeros_like(test_img)\n",
        "for i in range(len(test_img)):\n",
        "    test_sobel_x[i] = cv2.Sobel(test_img[i], cv2.CV_64F, dx=1, dy=0, ksize=3)\n",
        "    test_sobel_y[i] = cv2.Sobel(test_img[i], cv2.CV_64F, dx=0, dy=1, ksize=3)"
      ],
      "metadata": {
        "id": "GTJDHgxwMdjm"
      },
      "execution_count": null,
      "outputs": []
    },
    {
      "cell_type": "markdown",
      "source": [
        "**Вычисляем угол и длину вектора градиента**"
      ],
      "metadata": {
        "id": "ETUGPg88Mfbe"
      }
    },
    {
      "cell_type": "code",
      "source": [
        "train_g, train_theta = cv2.cartToPolar(train_sobel_x, train_sobel_y)"
      ],
      "metadata": {
        "id": "MFjIla_BMjWO"
      },
      "execution_count": null,
      "outputs": []
    },
    {
      "cell_type": "code",
      "source": [
        "test_g, test_theta = cv2.cartToPolar(test_sobel_x, test_sobel_y)"
      ],
      "metadata": {
        "id": "iI6RhoYnMlP3"
      },
      "execution_count": null,
      "outputs": []
    },
    {
      "cell_type": "code",
      "source": [
        "fig = plt.figure(figsize=(20, 10))\n",
        "for i, img in enumerate(train_g[:5], 1):\n",
        "    subplot = fig.add_subplot(1, 7, i)\n",
        "    plt.imshow(img, cmap='gray');\n",
        "    subplot.set_title('%s' % train_label[i - 1]);\n",
        "    subplot = fig.add_subplot(3, 7, i)\n",
        "    plt.hist(train_theta[i - 1].flatten(),\n",
        "             bins=16, weights=train_g[i - 1].flatten())"
      ],
      "metadata": {
        "colab": {
          "base_uri": "https://localhost:8080/",
          "height": 335
        },
        "id": "Wgp42cIuMn0X",
        "outputId": "8451e146-5a7f-4775-8a7b-9d79c11df815"
      },
      "execution_count": null,
      "outputs": [
        {
          "output_type": "display_data",
          "data": {
            "text/plain": [
              "<Figure size 1440x720 with 10 Axes>"
            ],
            "image/png": "[encoded data removed]"
          },
          "metadata": {
            "needs_background": "light"
          }
        }
      ]
    },
    {
      "cell_type": "markdown",
      "source": [
        "**Вычисляем гистограммы градиентов**"
      ],
      "metadata": {
        "id": "U_NnYO56Mrx4"
      }
    },
    {
      "cell_type": "code",
      "source": [
        "# Гистограммы вычисляются с учетом длины вектора градиента\n",
        "train_hist = np.zeros((len(train_img), 16))\n",
        "for i in range(len(train_img)):\n",
        "    hist, borders = np.histogram(train_theta[i],\n",
        "                                 bins=16,\n",
        "                                 range=(0., 2. * np.pi),\n",
        "                                 weights=train_g[i])\n",
        "    train_hist[i] = hist"
      ],
      "metadata": {
        "id": "YTAwnXBAMtS_"
      },
      "execution_count": null,
      "outputs": []
    },
    {
      "cell_type": "code",
      "source": [
        "test_hist = np.zeros((len(test_img), 16))\n",
        "for i in range(len(test_img)):\n",
        "    hist, borders = np.histogram(test_theta[i],\n",
        "                                 bins=16,\n",
        "                                 range=(0., 2. * np.pi),\n",
        "                                 weights=test_g[i])\n",
        "    test_hist[i] = hist"
      ],
      "metadata": {
        "id": "et49V-axMvS_"
      },
      "execution_count": null,
      "outputs": []
    },
    {
      "cell_type": "markdown",
      "source": [
        "**Нормируем вектор гистограммы**"
      ],
      "metadata": {
        "id": "nvJLzQN8MxMP"
      }
    },
    {
      "cell_type": "code",
      "source": [
        "# По умолчанию используется L2 норма\n",
        "train_hist = train_hist / np.linalg.norm(train_hist, axis=1)[:, None]"
      ],
      "metadata": {
        "id": "WImYa_qwM25v"
      },
      "execution_count": null,
      "outputs": []
    },
    {
      "cell_type": "code",
      "source": [
        "train_hist.shape"
      ],
      "metadata": {
        "colab": {
          "base_uri": "https://localhost:8080/"
        },
        "id": "ziuIw94sM4mP",
        "outputId": "74593630-abf9-445e-a285-0073244c111e"
      },
      "execution_count": null,
      "outputs": [
        {
          "output_type": "execute_result",
          "data": {
            "text/plain": [
              "(42000, 16)"
            ]
          },
          "metadata": {},
          "execution_count": 17
        }
      ]
    },
    {
      "cell_type": "code",
      "source": [
        "test_hist = test_hist / np.linalg.norm(test_hist, axis=1)[:, None]"
      ],
      "metadata": {
        "id": "zFnXpYuYM6VO"
      },
      "execution_count": null,
      "outputs": []
    },
    {
      "cell_type": "code",
      "source": [
        "test_hist.shape"
      ],
      "metadata": {
        "colab": {
          "base_uri": "https://localhost:8080/"
        },
        "id": "z2XHZRVzM70P",
        "outputId": "538aff39-fbbc-452a-9b22-dd98c1a6c1a4"
      },
      "execution_count": null,
      "outputs": [
        {
          "output_type": "execute_result",
          "data": {
            "text/plain": [
              "(28000, 16)"
            ]
          },
          "metadata": {},
          "execution_count": 19
        }
      ]
    },
    {
      "cell_type": "markdown",
      "source": [
        "**Разбиваем выборку на обучение и валидацию**"
      ],
      "metadata": {
        "id": "9h_YUNKjM-6i"
      }
    },
    {
      "cell_type": "code",
      "source": [
        "from sklearn.model_selection import train_test_split\n",
        "y_train, y_val, x_train, x_val = train_test_split(\n",
        "    train_label, train_hist, test_size=0.2,\n",
        "    random_state=42)"
      ],
      "metadata": {
        "id": "O1isZEiANAhI"
      },
      "execution_count": null,
      "outputs": []
    },
    {
      "cell_type": "markdown",
      "source": [
        "\n",
        "**Выберем алгоритм kNN для предсказания**"
      ],
      "metadata": {
        "id": "GN7ZqKaFNEIe"
      }
    },
    {
      "cell_type": "code",
      "source": [
        "from sklearn.neighbors import KNeighborsClassifier"
      ],
      "metadata": {
        "id": "EVOWVE-6NDIw"
      },
      "execution_count": null,
      "outputs": []
    },
    {
      "cell_type": "code",
      "source": [
        "model = KNeighborsClassifier(n_neighbors=15, metric='l2', weights='distance')\n",
        "clf = model.fit(x_train, y_train)\n",
        "y_pred = clf.predict(x_val)"
      ],
      "metadata": {
        "id": "ad5SB63HNHvu"
      },
      "execution_count": null,
      "outputs": []
    },
    {
      "cell_type": "markdown",
      "source": [
        "**Оцениваем качество решения на валидационной выборке**"
      ],
      "metadata": {
        "id": "ftG8SxTANMF-"
      }
    },
    {
      "cell_type": "code",
      "source": [
        "from sklearn.metrics import accuracy_score\n",
        "print('Accuracy: %s' % accuracy_score(y_val, y_pred))"
      ],
      "metadata": {
        "colab": {
          "base_uri": "https://localhost:8080/"
        },
        "id": "bx_Qx2NiNN3G",
        "outputId": "580a6497-064f-4200-d33a-ca08f19dd59a"
      },
      "execution_count": null,
      "outputs": [
        {
          "output_type": "stream",
          "name": "stdout",
          "text": [
            "Accuracy: 0.6144047619047619\n"
          ]
        }
      ]
    },
    {
      "cell_type": "code",
      "source": [
        "from sklearn.metrics import classification_report\n",
        "print(classification_report(y_val, y_pred))"
      ],
      "metadata": {
        "colab": {
          "base_uri": "https://localhost:8080/"
        },
        "id": "OMjL7Yi_NRI-",
        "outputId": "e17fa39e-026e-4d4e-e472-ad6047b0cc41"
      },
      "execution_count": null,
      "outputs": [
        {
          "output_type": "stream",
          "name": "stdout",
          "text": [
            "              precision    recall  f1-score   support\n",
            "\n",
            "         0.0       0.38      0.44      0.41       816\n",
            "         1.0       0.94      0.95      0.95       909\n",
            "         2.0       0.48      0.35      0.40       846\n",
            "         3.0       0.61      0.69      0.65       937\n",
            "         4.0       0.70      0.66      0.68       839\n",
            "         5.0       0.61      0.64      0.62       702\n",
            "         6.0       0.42      0.42      0.42       785\n",
            "         7.0       0.86      0.72      0.79       893\n",
            "         8.0       0.49      0.52      0.50       835\n",
            "         9.0       0.65      0.70      0.67       838\n",
            "\n",
            "    accuracy                           0.61      8400\n",
            "   macro avg       0.61      0.61      0.61      8400\n",
            "weighted avg       0.62      0.61      0.61      8400\n",
            "\n"
          ]
        }
      ]
    },
    {
      "cell_type": "code",
      "source": [
        "from sklearn.metrics import confusion_matrix\n",
        "print(confusion_matrix(y_val, y_pred))"
      ],
      "metadata": {
        "colab": {
          "base_uri": "https://localhost:8080/"
        },
        "id": "xQ01xRKkNTbe",
        "outputId": "d6ccbf4c-bf2f-4e37-f1ee-9b876bba5170"
      },
      "execution_count": null,
      "outputs": [
        {
          "output_type": "stream",
          "name": "stdout",
          "text": [
            "[[360   8  50  37  24  17 139   0 145  36]\n",
            " [  6 866   1   0  17   0   4   3   2  10]\n",
            " [ 79   0 296 162   9 125  59  12  87  17]\n",
            " [ 31   0  72 644   1  86  14   2  82   5]\n",
            " [ 35  26   3   2 556   2  81  30  12  92]\n",
            " [ 15   0  60 123   0 446   5   6  41   6]\n",
            " [185   3  51  13  67   6 326  17  58  59]\n",
            " [ 13  13  34   3  70  15  28 645   8  64]\n",
            " [183   0  34  57   4  34  52   3 435  33]\n",
            " [ 53   2  18  15  41   6  65  31  20 587]]\n"
          ]
        }
      ]
    },
    {
      "cell_type": "markdown",
      "source": [
        "**Предсказания на тестовых данных**"
      ],
      "metadata": {
        "id": "vzwJXATPNUaX"
      }
    },
    {
      "cell_type": "code",
      "source": [
        "pred_test = clf.predict(test_hist)"
      ],
      "metadata": {
        "id": "P8qd3h6uNXNn"
      },
      "execution_count": null,
      "outputs": []
    },
    {
      "cell_type": "markdown",
      "source": [
        "**Визуализируем предсказания**"
      ],
      "metadata": {
        "id": "UPgSaybMNbbf"
      }
    },
    {
      "cell_type": "code",
      "source": [
        "\n",
        "fig = plt.figure(figsize=(20, 10))\n",
        "for i, img in enumerate(test_img[0:10], 1):\n",
        "    subplot = fig.add_subplot(1, 10, i)\n",
        "    plt.imshow(img, cmap='gray');\n",
        "    subplot.set_title('%s' % pred_test[i - 1]);"
      ],
      "metadata": {
        "colab": {
          "base_uri": "https://localhost:8080/",
          "height": 105
        },
        "id": "P0U9_e52Naq-",
        "outputId": "a4bffe79-e58a-4065-9718-e26466d9afec"
      },
      "execution_count": null,
      "outputs": [
        {
          "output_type": "display_data",
          "data": {
            "text/plain": [
              "<Figure size 1440x720 with 10 Axes>"
            ],
            "image/png": "[encoded data removed]"
          },
          "metadata": {
            "needs_background": "light"
          }
        }
      ]
    },
    {
      "cell_type": "markdown",
      "source": [
        "**Готовим файл для отправки**"
      ],
      "metadata": {
        "id": "L3pW5ce1Ngo2"
      }
    },
    {
      "cell_type": "code",
      "source": [
        "with open('submit.txt', 'w') as dst:\n",
        "    dst.write('ImageId,Label\\n')\n",
        "    for i, p in enumerate(pred_test, 1):\n",
        "        dst.write('%s,%s\\n' % (i, int(p)))"
      ],
      "metadata": {
        "id": "Yg-lC0oTNjUv"
      },
      "execution_count": null,
      "outputs": []
    },
    {
      "cell_type": "code",
      "source": [
        "!head submit.txt"
      ],
      "metadata": {
        "colab": {
          "base_uri": "https://localhost:8080/"
        },
        "id": "Wtw6wrJpNlGm",
        "outputId": "364f59b7-2a01-4a51-a1e7-f0cab0f7fc4f"
      },
      "execution_count": null,
      "outputs": [
        {
          "output_type": "stream",
          "name": "stdout",
          "text": [
            "ImageId,Label\n",
            "1,3\n",
            "2,5\n",
            "3,9\n",
            "4,0\n",
            "5,3\n",
            "6,7\n",
            "7,6\n",
            "8,3\n",
            "9,3\n"
          ]
        }
      ]
    },
    {
      "cell_type": "code",
      "source": [],
      "metadata": {
        "id": "6i6gX71L640x"
      },
      "execution_count": null,
      "outputs": []
    },
    {
      "cell_type": "markdown",
      "source": [
        "![image.png](data:image/png;base64,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)"
      ],
      "metadata": {
        "id": "dAwM6uDjWDVW"
      }
    },
    {
      "cell_type": "markdown",
      "source": [
        "Комментарии:\n",
        "\n",
        "Дополнительно можно изучить [статью](https://towardsdatascience.com/classifying-mnist-digits-using-pca-deep-learning-852aeaff48a5).\n",
        "Работа выполнена отлично, у меня нет замечаний\n",
        "\n",
        "ДЗ зачтено!"
      ],
      "metadata": {
        "id": "_2PuWneIbPyI"
      }
    }
  ]
}