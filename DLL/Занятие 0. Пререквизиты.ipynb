{
  "nbformat": 4,
  "nbformat_minor": 0,
  "metadata": {
    "kernelspec": {
      "display_name": "Python 3",
      "language": "python",
      "name": "python3"
    },
    "language_info": {
      "codemirror_mode": {
        "name": "ipython",
        "version": 3
      },
      "file_extension": ".py",
      "mimetype": "text/x-python",
      "name": "python",
      "nbconvert_exporter": "python",
      "pygments_lexer": "ipython3",
      "version": "3.7.1"
    },
    "colab": {
      "provenance": []
    }
  },
  "cells": [
    {
      "cell_type": "markdown",
      "metadata": {
        "id": "l9Ei0mS3vin_"
      },
      "source": [
        "## Манипулирование данными"
      ]
    },
    {
      "cell_type": "markdown",
      "metadata": {
        "id": "dLCtvzY9vioB"
      },
      "source": [
        "Невозможно что-либо сделать, если мы не умеем манипулировать данными. Две основные операции, которые нам нужно сделать с данными - (i) получить их и (ii) обработать. Нет смысла собирать данные, если мы даже не знаем, как их хранить, поэтому давайте сначала поработаем с синтетическими данными. Мы начнем с torch.tensor. Это основной инструмент для хранения и преобразования данных в torch. Если вы раньше работали с NumPy, вы заметите, что он по своей конструкции очень похож на многомерный массив NumPy. Тем не менее, он даёт несколько ключевых преимуществ. Во-первых, torch.tensor поддерживает асинхронные вычисления на CPU и GPU. Во-вторых, он обеспечивает поддержку автоматического дифференцирования.\n",
        "\n",
        "Начнем с импорта torch"
      ]
    },
    {
      "cell_type": "code",
      "metadata": {
        "ExecuteTime": {
          "end_time": "2020-02-14T20:49:34.200569Z",
          "start_time": "2020-02-14T20:49:33.649350Z"
        },
        "id": "tElMAYJ7vioD"
      },
      "source": [
        "import torch"
      ],
      "execution_count": null,
      "outputs": []
    },
    {
      "cell_type": "markdown",
      "metadata": {
        "id": "4TJIByYhvioN"
      },
      "source": [
        "Tensor - это массив (возможно, многомерный) числовых значений. Tensor с одной осью называется (в математике) вектором, с двумя - матрицей. Для массивов с более чем двумя осями нет специальных имен, их называют просто тензорами.\n",
        "Самый простой объект, который мы можем создать, - это вектор. Для начала мы можем использовать arange для создания вектора строки с 12 последовательными целыми числами."
      ]
    },
    {
      "cell_type": "code",
      "metadata": {
        "ExecuteTime": {
          "end_time": "2019-11-05T16:56:29.380736Z",
          "start_time": "2019-11-05T16:56:29.369443Z"
        },
        "id": "jqae2XznvioP",
        "colab": {
          "base_uri": "https://localhost:8080/",
          "height": 55
        },
        "outputId": "ee2dec72-34b7-4f84-b29f-cb0fad362423"
      },
      "source": [
        "x = torch.arange(12)\n",
        "x"
      ],
      "execution_count": null,
      "outputs": [
        {
          "output_type": "execute_result",
          "data": {
            "text/plain": [
              "tensor([ 0,  1,  2,  3,  4,  5,  6,  7,  8,  9, 10, 11])"
            ]
          },
          "metadata": {
            "tags": []
          },
          "execution_count": 2
        }
      ]
    },
    {
      "cell_type": "markdown",
      "metadata": {
        "id": "KXmdo6IPvioV"
      },
      "source": [
        "Мы можем получить форму экземпляра tensor через свойство shape."
      ]
    },
    {
      "cell_type": "code",
      "metadata": {
        "ExecuteTime": {
          "end_time": "2019-11-05T16:56:40.443088Z",
          "start_time": "2019-11-05T16:56:40.437680Z"
        },
        "scrolled": true,
        "id": "7CzGJ2sDvioW",
        "colab": {
          "base_uri": "https://localhost:8080/",
          "height": 55
        },
        "outputId": "b6c8ebb0-92a9-4dfc-8ce8-1ef7205d3628"
      },
      "source": [
        "x.shape"
      ],
      "execution_count": null,
      "outputs": [
        {
          "output_type": "execute_result",
          "data": {
            "text/plain": [
              "torch.Size([12])"
            ]
          },
          "metadata": {
            "tags": []
          },
          "execution_count": 3
        }
      ]
    },
    {
      "cell_type": "markdown",
      "metadata": {
        "id": "ZIIqydravioa"
      },
      "source": [
        "Узнать расположен ли он на gpu или cpu можно через специальный аттрибут - device"
      ]
    },
    {
      "cell_type": "code",
      "metadata": {
        "ExecuteTime": {
          "end_time": "2019-11-05T16:56:46.707413Z",
          "start_time": "2019-11-05T16:56:46.695327Z"
        },
        "id": "fuq8BPvIviob",
        "colab": {
          "base_uri": "https://localhost:8080/",
          "height": 55
        },
        "outputId": "18f0f2fd-dc95-4b44-d425-b7f880239b9f"
      },
      "source": [
        "x.device"
      ],
      "execution_count": null,
      "outputs": [
        {
          "output_type": "execute_result",
          "data": {
            "text/plain": [
              "device(type='cpu')"
            ]
          },
          "metadata": {
            "tags": []
          },
          "execution_count": 4
        }
      ]
    },
    {
      "cell_type": "markdown",
      "metadata": {
        "id": "VPDddEjZviog"
      },
      "source": [
        "Мы используем функцию view, чтобы изменить форму одного (возможно многомерного) массива на другой, который содержит такое же количество элементов. Например, мы можем преобразовать форму нашего векторного вектора x в (3, 4), который содержит те же значения, но интерпретирует их как матрицу, содержащую 3 строки и 4 столбца. Обратите внимание, что, хотя форма изменилась, элементы в x не изменились. Причем количество элементов осталось прежним."
      ]
    },
    {
      "cell_type": "code",
      "metadata": {
        "ExecuteTime": {
          "end_time": "2019-11-05T16:57:45.929995Z",
          "start_time": "2019-11-05T16:57:45.923591Z"
        },
        "id": "wPAtrhQwviog",
        "colab": {
          "base_uri": "https://localhost:8080/",
          "height": 90
        },
        "outputId": "cf4f6db8-5419-4cc8-d0b4-2fa597848c35"
      },
      "source": [
        "x.view((3,4))"
      ],
      "execution_count": null,
      "outputs": [
        {
          "output_type": "execute_result",
          "data": {
            "text/plain": [
              "tensor([[ 0,  1,  2,  3],\n",
              "        [ 4,  5,  6,  7],\n",
              "        [ 8,  9, 10, 11]])"
            ]
          },
          "metadata": {
            "tags": []
          },
          "execution_count": 5
        }
      ]
    },
    {
      "cell_type": "markdown",
      "metadata": {
        "id": "irJvOOx_vioj"
      },
      "source": [
        "Указывать каждое измерение вручную достаточно утомительно. К счастью, torch может автоматически выводить одно измерение, учитывая другие. Мы можем указать -1 для измерения, которое мы хотели бы, чтобы torch автоматически выводил. В нашем случае вместо x.view((3, 4)) мы могли бы использовать x.view ((- 1, 4)) или x.view((3, -1))."
      ]
    },
    {
      "cell_type": "code",
      "metadata": {
        "ExecuteTime": {
          "end_time": "2019-11-05T16:58:19.719321Z",
          "start_time": "2019-11-05T16:58:19.712884Z"
        },
        "id": "zaCznZ52viok",
        "colab": {
          "base_uri": "https://localhost:8080/",
          "height": 90
        },
        "outputId": "b3690b4e-ee36-47e3-d232-c0e66d1e4e64"
      },
      "source": [
        "x.view((-1, 4))"
      ],
      "execution_count": null,
      "outputs": [
        {
          "output_type": "execute_result",
          "data": {
            "text/plain": [
              "tensor([[ 0,  1,  2,  3],\n",
              "        [ 4,  5,  6,  7],\n",
              "        [ 8,  9, 10, 11]])"
            ]
          },
          "metadata": {
            "tags": []
          },
          "execution_count": 6
        }
      ]
    },
    {
      "cell_type": "markdown",
      "metadata": {
        "id": "nyj2EgUHvion"
      },
      "source": [
        "Другие две полезные функции - zeros и ones. Они создают массивы из всех нулей и всех единиц. Они принимают форму создаваемого тензора в качестве параметра"
      ]
    },
    {
      "cell_type": "code",
      "metadata": {
        "ExecuteTime": {
          "end_time": "2019-11-05T16:58:33.437194Z",
          "start_time": "2019-11-05T16:58:33.427585Z"
        },
        "id": "fZC3Sj9wvion",
        "colab": {
          "base_uri": "https://localhost:8080/",
          "height": 160
        },
        "outputId": "9d662315-561e-4dfa-bfe4-0eb42eb22a4f"
      },
      "source": [
        "torch.zeros((2,3,4))"
      ],
      "execution_count": null,
      "outputs": [
        {
          "output_type": "execute_result",
          "data": {
            "text/plain": [
              "tensor([[[0., 0., 0., 0.],\n",
              "         [0., 0., 0., 0.],\n",
              "         [0., 0., 0., 0.]],\n",
              "\n",
              "        [[0., 0., 0., 0.],\n",
              "         [0., 0., 0., 0.],\n",
              "         [0., 0., 0., 0.]]])"
            ]
          },
          "metadata": {
            "tags": []
          },
          "execution_count": 8
        }
      ]
    },
    {
      "cell_type": "code",
      "metadata": {
        "ExecuteTime": {
          "end_time": "2019-11-05T16:58:33.850404Z",
          "start_time": "2019-11-05T16:58:33.843194Z"
        },
        "id": "x6n0cd-Xvioq",
        "colab": {
          "base_uri": "https://localhost:8080/",
          "height": 160
        },
        "outputId": "1f4502fd-6892-4df2-c4eb-4221511e0d0a"
      },
      "source": [
        "torch.ones((2,3,4))"
      ],
      "execution_count": null,
      "outputs": [
        {
          "output_type": "execute_result",
          "data": {
            "text/plain": [
              "tensor([[[1., 1., 1., 1.],\n",
              "         [1., 1., 1., 1.],\n",
              "         [1., 1., 1., 1.]],\n",
              "\n",
              "        [[1., 1., 1., 1.],\n",
              "         [1., 1., 1., 1.],\n",
              "         [1., 1., 1., 1.]]])"
            ]
          },
          "metadata": {
            "tags": []
          },
          "execution_count": 7
        }
      ]
    },
    {
      "cell_type": "markdown",
      "metadata": {
        "id": "1tApGR0aviot"
      },
      "source": [
        "Конечно же, можно создать тензор явно, указав все значения"
      ]
    },
    {
      "cell_type": "code",
      "metadata": {
        "ExecuteTime": {
          "end_time": "2019-11-05T16:58:42.029162Z",
          "start_time": "2019-11-05T16:58:42.023330Z"
        },
        "id": "KHouURemviot",
        "colab": {
          "base_uri": "https://localhost:8080/",
          "height": 72
        },
        "outputId": "30758ed8-7ec4-4473-8c4e-ca831ef68570"
      },
      "source": [
        "torch.tensor([[1,2,3], [4,5,6]])"
      ],
      "execution_count": null,
      "outputs": [
        {
          "output_type": "execute_result",
          "data": {
            "text/plain": [
              "tensor([[1, 2, 3],\n",
              "        [4, 5, 6]])"
            ]
          },
          "metadata": {
            "tags": []
          },
          "execution_count": 9
        }
      ]
    },
    {
      "cell_type": "markdown",
      "metadata": {
        "id": "YYJZ4Drdviov"
      },
      "source": [
        "Иногда бывает полезно создать массив, заполненный случайными значениями. Для этого используются функции torch.rand и torch.randn. Первое использует равномерное распределение, второе - нормальное"
      ]
    },
    {
      "cell_type": "code",
      "metadata": {
        "ExecuteTime": {
          "end_time": "2019-11-05T16:58:53.711508Z",
          "start_time": "2019-11-05T16:58:53.704657Z"
        },
        "id": "teZ4rP5fviow",
        "colab": {
          "base_uri": "https://localhost:8080/",
          "height": 160
        },
        "outputId": "55b9edfe-cc03-4a6f-baa7-cc8028f46eff"
      },
      "source": [
        "torch.rand((2,3,4))"
      ],
      "execution_count": null,
      "outputs": [
        {
          "output_type": "execute_result",
          "data": {
            "text/plain": [
              "tensor([[[0.0827, 0.6590, 0.5182, 0.2846],\n",
              "         [0.5225, 0.6212, 0.4902, 0.1441],\n",
              "         [0.0318, 0.1905, 0.3201, 0.1881]],\n",
              "\n",
              "        [[0.3007, 0.4142, 0.6130, 0.1893],\n",
              "         [0.8562, 0.0046, 0.6294, 0.4582],\n",
              "         [0.8883, 0.3736, 0.8358, 0.4540]]])"
            ]
          },
          "metadata": {
            "tags": []
          },
          "execution_count": 10
        }
      ]
    },
    {
      "cell_type": "code",
      "metadata": {
        "ExecuteTime": {
          "end_time": "2019-11-05T16:58:57.349998Z",
          "start_time": "2019-11-05T16:58:57.343129Z"
        },
        "id": "91VmyGlqvioy",
        "colab": {
          "base_uri": "https://localhost:8080/",
          "height": 160
        },
        "outputId": "ae463bcf-e382-45dd-dea8-183123b8cc9d"
      },
      "source": [
        "torch.randn((2,3,4))"
      ],
      "execution_count": null,
      "outputs": [
        {
          "output_type": "execute_result",
          "data": {
            "text/plain": [
              "tensor([[[-0.6328,  0.8851, -0.7763,  0.7399],\n",
              "         [-0.3063,  0.8160,  0.2076,  0.8311],\n",
              "         [ 0.5652, -0.1442, -1.7388,  0.9346]],\n",
              "\n",
              "        [[-0.1693, -1.0134,  1.8975,  0.9035],\n",
              "         [ 0.6688, -0.7668, -0.7795, -0.4779],\n",
              "         [-0.2204, -0.5787, -1.3116, -0.8330]]])"
            ]
          },
          "metadata": {
            "tags": []
          },
          "execution_count": 11
        }
      ]
    },
    {
      "cell_type": "markdown",
      "metadata": {
        "id": "YGTXrWAOvio0"
      },
      "source": [
        "## Операции"
      ]
    },
    {
      "cell_type": "markdown",
      "metadata": {
        "id": "bCG4DGkcvio0"
      },
      "source": [
        "Обычно мы хотим не только создавать массивы, но и применять к ним функции. Самые простые и полезные из них - это поэлементные функции. Они работают, выполняя одну скалярную операцию над соответствующими элементами двух массивов. "
      ]
    },
    {
      "cell_type": "code",
      "metadata": {
        "ExecuteTime": {
          "end_time": "2019-11-05T17:00:01.055026Z",
          "start_time": "2019-11-05T17:00:01.023112Z"
        },
        "id": "1OQYNtFxvio1",
        "colab": {
          "base_uri": "https://localhost:8080/",
          "height": 143
        },
        "outputId": "4b21e58c-351b-4484-9139-8167d64ab6b5"
      },
      "source": [
        "x = torch.tensor([1., 2., 4., 8.])\n",
        "y = torch.ones_like(x) * 2\n",
        "print('x =', x)\n",
        "print('y =', y)\n",
        "print('x + y', x + y)\n",
        "print('x - y', x - y)\n",
        "print('x * y', x * y)\n",
        "print('x / y', x / y)"
      ],
      "execution_count": null,
      "outputs": [
        {
          "output_type": "stream",
          "text": [
            "x = tensor([1., 2., 4., 8.])\n",
            "y = tensor([2., 2., 2., 2.])\n",
            "x + y tensor([ 3.,  4.,  6., 10.])\n",
            "x - y tensor([-1.,  0.,  2.,  6.])\n",
            "x * y tensor([ 2.,  4.,  8., 16.])\n",
            "x / y tensor([0.5000, 1.0000, 2.0000, 4.0000])\n"
          ],
          "name": "stdout"
        }
      ]
    },
    {
      "cell_type": "markdown",
      "metadata": {
        "ExecuteTime": {
          "end_time": "2019-10-15T19:38:22.460619Z",
          "start_time": "2019-10-15T19:38:22.450666Z"
        },
        "id": "hrXPRhyAvio3"
      },
      "source": [
        "Еще больше операций может быть выполненно поэлементно. Например - операции exp"
      ]
    },
    {
      "cell_type": "code",
      "metadata": {
        "ExecuteTime": {
          "end_time": "2019-11-05T17:00:09.882910Z",
          "start_time": "2019-11-05T17:00:09.875696Z"
        },
        "id": "UGELUbDYvio3",
        "colab": {
          "base_uri": "https://localhost:8080/",
          "height": 55
        },
        "outputId": "63b31d6c-fb09-4d43-a5be-a9d74dde8862"
      },
      "source": [
        "x.exp()"
      ],
      "execution_count": null,
      "outputs": [
        {
          "output_type": "execute_result",
          "data": {
            "text/plain": [
              "tensor([2.7183e+00, 7.3891e+00, 5.4598e+01, 2.9810e+03])"
            ]
          },
          "metadata": {
            "tags": []
          },
          "execution_count": 13
        }
      ]
    },
    {
      "cell_type": "markdown",
      "metadata": {
        "id": "vmNxHXA5vio5"
      },
      "source": [
        "В дополнение к поэлементным вычислениям, мы также можем выполнять матричные операции. Например, матричное умножение. Для этого используется функция mm."
      ]
    },
    {
      "cell_type": "code",
      "metadata": {
        "ExecuteTime": {
          "end_time": "2019-11-05T17:00:38.385516Z",
          "start_time": "2019-11-05T17:00:38.377315Z"
        },
        "id": "B44gDxoivio5",
        "colab": {
          "base_uri": "https://localhost:8080/",
          "height": 90
        },
        "outputId": "caa22eec-8907-49b7-d641-6b3b1870902e"
      },
      "source": [
        "x = torch.arange(12).reshape((3,4))\n",
        "y = torch.tensor([[2, 1, 4, 3], [1, 2, 3, 4], [4, 3, 2, 1]])\n",
        "torch.mm(x, y.T)"
      ],
      "execution_count": null,
      "outputs": [
        {
          "output_type": "execute_result",
          "data": {
            "text/plain": [
              "tensor([[ 18,  20,  10],\n",
              "        [ 58,  60,  50],\n",
              "        [ 98, 100,  90]])"
            ]
          },
          "metadata": {
            "tags": []
          },
          "execution_count": 14
        }
      ]
    },
    {
      "cell_type": "markdown",
      "metadata": {
        "id": "FRROtgrOvio7"
      },
      "source": [
        "Мы также можем объединить несколько тензоров. Для этого нам нужно указать, по какому измерению производить объединение. В приведенном ниже примере объединяются две матрицы по измерению 0 (по строкам) и измерению 1 (по столбцам) соответственно."
      ]
    },
    {
      "cell_type": "code",
      "metadata": {
        "ExecuteTime": {
          "end_time": "2019-11-05T17:00:57.129028Z",
          "start_time": "2019-11-05T17:00:57.120698Z"
        },
        "id": "cJF9AYIMvio8",
        "colab": {
          "base_uri": "https://localhost:8080/",
          "height": 143
        },
        "outputId": "470e3487-e2aa-4e04-d632-ae07c2a097ff"
      },
      "source": [
        "torch.cat((x, y), dim=0)"
      ],
      "execution_count": null,
      "outputs": [
        {
          "output_type": "execute_result",
          "data": {
            "text/plain": [
              "tensor([[ 0,  1,  2,  3],\n",
              "        [ 4,  5,  6,  7],\n",
              "        [ 8,  9, 10, 11],\n",
              "        [ 2,  1,  4,  3],\n",
              "        [ 1,  2,  3,  4],\n",
              "        [ 4,  3,  2,  1]])"
            ]
          },
          "metadata": {
            "tags": []
          },
          "execution_count": 15
        }
      ]
    },
    {
      "cell_type": "code",
      "metadata": {
        "ExecuteTime": {
          "end_time": "2019-11-05T17:01:04.800117Z",
          "start_time": "2019-11-05T17:01:04.793453Z"
        },
        "id": "OZ5VetSAvio-",
        "colab": {
          "base_uri": "https://localhost:8080/",
          "height": 90
        },
        "outputId": "d45ef180-0ca1-410d-e01b-6421ea3e65d3"
      },
      "source": [
        "torch.cat((x, y), dim=1)"
      ],
      "execution_count": null,
      "outputs": [
        {
          "output_type": "execute_result",
          "data": {
            "text/plain": [
              "tensor([[ 0,  1,  2,  3,  2,  1,  4,  3],\n",
              "        [ 4,  5,  6,  7,  1,  2,  3,  4],\n",
              "        [ 8,  9, 10, 11,  4,  3,  2,  1]])"
            ]
          },
          "metadata": {
            "tags": []
          },
          "execution_count": 16
        }
      ]
    },
    {
      "cell_type": "markdown",
      "metadata": {
        "id": "WvX0zi74vipA"
      },
      "source": [
        "Для получения булевых тензоров можно использовать булевы операторы. Например, можно сравнить два тензора при помощи оператора =="
      ]
    },
    {
      "cell_type": "code",
      "metadata": {
        "ExecuteTime": {
          "end_time": "2019-11-05T17:01:23.147282Z",
          "start_time": "2019-11-05T17:01:23.141564Z"
        },
        "scrolled": true,
        "id": "-lPu-T9avipB",
        "colab": {
          "base_uri": "https://localhost:8080/",
          "height": 90
        },
        "outputId": "07fcb2a2-0d22-4a7f-f994-6b177a77051d"
      },
      "source": [
        "x == y"
      ],
      "execution_count": null,
      "outputs": [
        {
          "output_type": "execute_result",
          "data": {
            "text/plain": [
              "tensor([[False,  True, False,  True],\n",
              "        [False, False, False, False],\n",
              "        [False, False, False, False]])"
            ]
          },
          "metadata": {
            "tags": []
          },
          "execution_count": 17
        }
      ]
    },
    {
      "cell_type": "markdown",
      "metadata": {
        "id": "OZnsrU1DvipD"
      },
      "source": [
        "Суммирование всех элементов тезора дает тензор с одним элементом."
      ]
    },
    {
      "cell_type": "code",
      "metadata": {
        "ExecuteTime": {
          "end_time": "2019-11-05T17:01:29.002799Z",
          "start_time": "2019-11-05T17:01:28.996432Z"
        },
        "id": "G5ETVptZvipD",
        "colab": {
          "base_uri": "https://localhost:8080/",
          "height": 55
        },
        "outputId": "fd5be2a0-e471-40aa-bb30-b142a5c639d6"
      },
      "source": [
        "x.sum()"
      ],
      "execution_count": null,
      "outputs": [
        {
          "output_type": "execute_result",
          "data": {
            "text/plain": [
              "tensor(66)"
            ]
          },
          "metadata": {
            "tags": []
          },
          "execution_count": 18
        }
      ]
    },
    {
      "cell_type": "markdown",
      "metadata": {
        "id": "WKR_dltKvipG"
      },
      "source": [
        "Мы можем преобразовать результат в скаляр в Python, используя функцию item"
      ]
    },
    {
      "cell_type": "code",
      "metadata": {
        "ExecuteTime": {
          "end_time": "2019-11-05T17:01:46.339896Z",
          "start_time": "2019-11-05T17:01:46.334898Z"
        },
        "id": "MEkbKc0vvipG",
        "outputId": "c2bbdb72-dd02-4b7f-c03b-048cbe0d06bd"
      },
      "source": [
        "x.sum().item()"
      ],
      "execution_count": null,
      "outputs": [
        {
          "output_type": "execute_result",
          "data": {
            "text/plain": [
              "66"
            ]
          },
          "metadata": {
            "tags": []
          },
          "execution_count": 100
        }
      ]
    },
    {
      "cell_type": "markdown",
      "metadata": {
        "id": "ObCzgLdQvipI"
      },
      "source": [
        "## Broadcast \n",
        "\n",
        "Выполнять операции можно не только с тензорами одинакового размера, но и разного. Когда их формы различаются, запускается механизм broadcast. Сначала элементы копируются соответствующим образом, чтобы два тензора имели одинаковую форму, а затем операции выполняются поэлементно."
      ]
    },
    {
      "cell_type": "code",
      "metadata": {
        "ExecuteTime": {
          "end_time": "2019-11-05T17:03:16.975564Z",
          "start_time": "2019-11-05T17:03:16.968668Z"
        },
        "scrolled": true,
        "id": "I7_SxXpgvipJ",
        "colab": {
          "base_uri": "https://localhost:8080/",
          "height": 90
        },
        "outputId": "7e5d7a63-f326-4f64-e434-4ea31e14241e"
      },
      "source": [
        "a = torch.arange(3).reshape((3, 1))\n",
        "b = torch.arange(2).reshape((1, 2))\n",
        "a, b"
      ],
      "execution_count": null,
      "outputs": [
        {
          "output_type": "execute_result",
          "data": {
            "text/plain": [
              "(tensor([[0],\n",
              "         [1],\n",
              "         [2]]), tensor([[0, 1]]))"
            ]
          },
          "metadata": {
            "tags": []
          },
          "execution_count": 19
        }
      ]
    },
    {
      "cell_type": "markdown",
      "metadata": {
        "id": "fat5mmvUvipL"
      },
      "source": [
        "Поскольку a и b являются матрицами (3x1) и (1x2) соответственно, их формы не совпадают. Torch решает эту проблему путем broadcast'а значений обеих матриц в большую (3x2) матрицу следующим образом: для матрицы a он реплицирует столбцы, для матрицы b он реплицирует строки. После чего запускается операция сложения"
      ]
    },
    {
      "cell_type": "code",
      "metadata": {
        "ExecuteTime": {
          "end_time": "2019-11-05T17:04:03.206001Z",
          "start_time": "2019-11-05T17:04:03.200693Z"
        },
        "id": "rlfXM_MdvipL",
        "colab": {
          "base_uri": "https://localhost:8080/",
          "height": 90
        },
        "outputId": "e65a5d5a-86ed-43a0-92be-2be61881cc9c"
      },
      "source": [
        "a + b"
      ],
      "execution_count": null,
      "outputs": [
        {
          "output_type": "execute_result",
          "data": {
            "text/plain": [
              "tensor([[0, 1],\n",
              "        [1, 2],\n",
              "        [2, 3]])"
            ]
          },
          "metadata": {
            "tags": []
          },
          "execution_count": 20
        }
      ]
    },
    {
      "cell_type": "code",
      "metadata": {
        "id": "KYPgjAIT23HC"
      },
      "source": [],
      "execution_count": null,
      "outputs": []
    },
    {
      "cell_type": "markdown",
      "metadata": {
        "id": "ZHjmm6ppvipN"
      },
      "source": [
        "## Индексирование\n",
        "\n",
        "Как и в любом другом массиве Python, элементы в тензоре могут быть доступны по их индексу. По традиции первый элемент имеет индекс 0, а диапазоны указываются для включения первого, но не последнего элемента. По этой логике `1: 3` выбирает второй и третий элемент из тензора"
      ]
    },
    {
      "cell_type": "code",
      "metadata": {
        "ExecuteTime": {
          "end_time": "2019-11-05T17:04:40.301254Z",
          "start_time": "2019-11-05T17:04:40.295033Z"
        },
        "id": "qfYyLDJ-vipN",
        "outputId": "0f4a7552-9cab-44e5-e585-3c6de694094a"
      },
      "source": [
        "x"
      ],
      "execution_count": null,
      "outputs": [
        {
          "output_type": "execute_result",
          "data": {
            "text/plain": [
              "tensor([[ 0,  1,  2,  3],\n",
              "        [ 4,  5,  6,  7],\n",
              "        [ 8,  9, 10, 11]])"
            ]
          },
          "metadata": {
            "tags": []
          },
          "execution_count": 103
        }
      ]
    },
    {
      "cell_type": "code",
      "metadata": {
        "ExecuteTime": {
          "end_time": "2019-11-05T17:04:43.986487Z",
          "start_time": "2019-11-05T17:04:43.981855Z"
        },
        "id": "uHGV7KbQvipO",
        "outputId": "3b6cceff-fe8f-4331-9f4d-aca18581c5dd"
      },
      "source": [
        "x[1:3]"
      ],
      "execution_count": null,
      "outputs": [
        {
          "output_type": "execute_result",
          "data": {
            "text/plain": [
              "tensor([[ 4,  5,  6,  7],\n",
              "        [ 8,  9, 10, 11]])"
            ]
          },
          "metadata": {
            "tags": []
          },
          "execution_count": 104
        }
      ]
    },
    {
      "cell_type": "markdown",
      "metadata": {
        "id": "mw3avNR4vipQ"
      },
      "source": [
        "Мы так же можем изменять значения в тензоре"
      ]
    },
    {
      "cell_type": "code",
      "metadata": {
        "ExecuteTime": {
          "end_time": "2019-11-05T17:04:52.657225Z",
          "start_time": "2019-11-05T17:04:52.651720Z"
        },
        "id": "e33CVbULvipQ",
        "outputId": "fa341ea4-f37f-4653-8120-d1a839594f4f"
      },
      "source": [
        "x[1, 2] = 9\n",
        "x"
      ],
      "execution_count": null,
      "outputs": [
        {
          "output_type": "execute_result",
          "data": {
            "text/plain": [
              "tensor([[ 0,  1,  2,  3],\n",
              "        [ 4,  5,  9,  7],\n",
              "        [ 8,  9, 10, 11]])"
            ]
          },
          "metadata": {
            "tags": []
          },
          "execution_count": 105
        }
      ]
    },
    {
      "cell_type": "markdown",
      "metadata": {
        "id": "hk-dfuxrvipS"
      },
      "source": [
        "Если мы хотим присвоить нескольким элементам одно и то же значение, мы просто индексируем все из них (при помощи оператора `:`), а затем присваиваем им значение. Например, `[0:2,:]` обращается к первой и второй строчкам."
      ]
    },
    {
      "cell_type": "code",
      "metadata": {
        "ExecuteTime": {
          "end_time": "2019-11-05T17:05:16.291436Z",
          "start_time": "2019-11-05T17:05:16.284786Z"
        },
        "id": "kv6nniDVvipS",
        "outputId": "67b89ca1-fb8e-4af2-a272-5e2bc9b5bf28"
      },
      "source": [
        "x[0:2, :] = 12\n",
        "x"
      ],
      "execution_count": null,
      "outputs": [
        {
          "output_type": "execute_result",
          "data": {
            "text/plain": [
              "tensor([[12, 12, 12, 12],\n",
              "        [12, 12, 12, 12],\n",
              "        [ 8,  9, 10, 11]])"
            ]
          },
          "metadata": {
            "tags": []
          },
          "execution_count": 106
        }
      ]
    },
    {
      "cell_type": "markdown",
      "metadata": {
        "id": "uWFRKs3svipT"
      },
      "source": [
        "## В numpy и назад"
      ]
    },
    {
      "cell_type": "code",
      "metadata": {
        "ExecuteTime": {
          "end_time": "2019-11-05T17:05:23.206438Z",
          "start_time": "2019-11-05T17:05:23.200284Z"
        },
        "id": "2fV7lng0vipU",
        "outputId": "6104a782-a44c-426d-e6af-155d3c643620"
      },
      "source": [
        "x.numpy()"
      ],
      "execution_count": null,
      "outputs": [
        {
          "output_type": "execute_result",
          "data": {
            "text/plain": [
              "array([[12, 12, 12, 12],\n",
              "       [12, 12, 12, 12],\n",
              "       [ 8,  9, 10, 11]])"
            ]
          },
          "metadata": {
            "tags": []
          },
          "execution_count": 107
        }
      ]
    },
    {
      "cell_type": "code",
      "metadata": {
        "ExecuteTime": {
          "end_time": "2019-11-05T17:05:28.155761Z",
          "start_time": "2019-11-05T17:05:28.150289Z"
        },
        "id": "6g4PUA3bvipV",
        "outputId": "2acda5f7-609c-44b6-cad6-29942bf36cdd"
      },
      "source": [
        "y = torch.tensor(x.numpy())\n",
        "y"
      ],
      "execution_count": null,
      "outputs": [
        {
          "output_type": "execute_result",
          "data": {
            "text/plain": [
              "tensor([[12, 12, 12, 12],\n",
              "        [12, 12, 12, 12],\n",
              "        [ 8,  9, 10, 11]])"
            ]
          },
          "metadata": {
            "tags": []
          },
          "execution_count": 108
        }
      ]
    },
    {
      "cell_type": "markdown",
      "metadata": {
        "id": "mzTqXeaSvipX"
      },
      "source": [
        "## Немного практики"
      ]
    },
    {
      "cell_type": "markdown",
      "metadata": {
        "id": "R-_mIEi1vipX"
      },
      "source": [
        "1. Матрица B называется обратной к матрице A, если A*B = I (где I - единичная матрица). Найдите (перебором) обратную к матрице A = ((1,1), (1,2))\n",
        "2. Примените оператор преобразования A = ((1,2), (3,4)) к квадрату с вершинами в точках (1,1), (1,-1), (-1, -1), (-1, 1) и найдите расстояния между получившимися вершинами"
      ]
    },
    {
      "cell_type": "code",
      "metadata": {
        "id": "uWNFdbOU4hye",
        "colab": {
          "base_uri": "https://localhost:8080/",
          "height": 72
        },
        "outputId": "68c67b6b-3fb3-4b5b-a463-d23eedb388f0"
      },
      "source": [
        "A = torch.tensor(((1.,1.), (1.,2.)))\n",
        "B = torch.tensor(((2,-1.), (-1,1.)))\n",
        "torch.mm(A, B)"
      ],
      "execution_count": null,
      "outputs": [
        {
          "output_type": "execute_result",
          "data": {
            "text/plain": [
              "tensor([[1., 0.],\n",
              "        [0., 1.]])"
            ]
          },
          "metadata": {
            "tags": []
          },
          "execution_count": 27
        }
      ]
    },
    {
      "cell_type": "code",
      "metadata": {
        "id": "Y35nlIz65IIG",
        "colab": {
          "base_uri": "https://localhost:8080/",
          "height": 108
        },
        "outputId": "899e5c36-2a34-495a-dcd8-733d5cbefb49"
      },
      "source": [
        "vertexes = [(1,1), (1,-1), (-1, -1), (-1, 1)]\n",
        "A  = torch.tensor( ((1,1), (1,2)))\n",
        "for v  in vertexes:\n",
        "  vt = torch.tensor(v)\n",
        "  r = torch.mv(A, vt)\n",
        "  print(\"Vertex\", v, \"Result\", r)"
      ],
      "execution_count": null,
      "outputs": [
        {
          "output_type": "stream",
          "text": [
            "Vertex (1, 1) Result tensor([2, 3])\n",
            "Vertex (1, -1) Result tensor([ 0, -1])\n",
            "Vertex (-1, -1) Result tensor([-2, -3])\n",
            "Vertex (-1, 1) Result tensor([0, 1])\n"
          ],
          "name": "stdout"
        }
      ]
    },
    {
      "cell_type": "code",
      "metadata": {
        "id": "bwLtfURt51gk"
      },
      "source": [
        "for i1 in (0., 0.5, 1.):\n",
        "    for i2 in (0., 0.5, 1.):\n",
        "        for i3 in (0., 0.5, 1.):\n",
        "            for i4 in (0., 0.5, 1.):\n",
        "                yy = torch.tensor([[i1,i2], [i3,i4]])\n",
        "                xx_tmp = xx * yy\n",
        "                if torch.all(torch.eq(xx_tmp, xx_)):\n",
        "                  print(yy)"
      ],
      "execution_count": null,
      "outputs": []
    },
    {
      "cell_type": "markdown",
      "metadata": {
        "id": "Jyzp1sakvipX"
      },
      "source": [
        "## Детектор спама"
      ]
    },
    {
      "cell_type": "code",
      "metadata": {
        "ExecuteTime": {
          "end_time": "2020-02-14T20:43:56.885663Z",
          "start_time": "2020-02-14T20:43:55.305376Z"
        },
        "id": "UYlYcMb7vipX",
        "outputId": "9d66b87d-7921-4bcf-8ed9-437be98d7bb3"
      },
      "source": [
        "!wget https://archive.ics.uci.edu/ml/machine-learning-databases/00228/smsspamcollection.zip"
      ],
      "execution_count": null,
      "outputs": [
        {
          "output_type": "stream",
          "text": [
            "--2020-02-14 23:43:55--  https://archive.ics.uci.edu/ml/machine-learning-databases/00228/smsspamcollection.zip\n",
            "Resolving archive.ics.uci.edu (archive.ics.uci.edu)... 128.195.10.252\n",
            "Connecting to archive.ics.uci.edu (archive.ics.uci.edu)|128.195.10.252|:443... connected.\n",
            "HTTP request sent, awaiting response... 200 OK\n",
            "Length: 203415 (199K) [application/x-httpd-php]\n",
            "Saving to: ‘smsspamcollection.zip’\n",
            "\n",
            "smsspamcollection.z 100%[===================>] 198.65K   299KB/s    in 0.7s    \n",
            "\n",
            "2020-02-14 23:43:56 (299 KB/s) - ‘smsspamcollection.zip’ saved [203415/203415]\n",
            "\n"
          ],
          "name": "stdout"
        }
      ]
    },
    {
      "cell_type": "code",
      "metadata": {
        "ExecuteTime": {
          "end_time": "2020-02-14T20:44:06.652230Z",
          "start_time": "2020-02-14T20:44:06.517272Z"
        },
        "id": "PTwjKiSQvipZ",
        "outputId": "13605072-71f3-4725-e5f5-754dbefd13ce"
      },
      "source": [
        "!unzip smsspamcollection.zip"
      ],
      "execution_count": null,
      "outputs": [
        {
          "output_type": "stream",
          "text": [
            "Archive:  smsspamcollection.zip\r\n",
            "  inflating: SMSSpamCollection       \r\n",
            "  inflating: readme                  \r\n"
          ],
          "name": "stdout"
        }
      ]
    },
    {
      "cell_type": "code",
      "metadata": {
        "ExecuteTime": {
          "end_time": "2020-02-14T20:44:24.176395Z",
          "start_time": "2020-02-14T20:44:23.540272Z"
        },
        "id": "33EiXUQ2vipa"
      },
      "source": [
        "import pandas as pd"
      ],
      "execution_count": null,
      "outputs": []
    },
    {
      "cell_type": "code",
      "metadata": {
        "ExecuteTime": {
          "end_time": "2020-02-14T20:45:07.904543Z",
          "start_time": "2020-02-14T20:45:07.864293Z"
        },
        "id": "4b5-vLu0vipb",
        "outputId": "5b59ed46-572d-409b-801d-e91c8a057884"
      },
      "source": [
        "df = pd.read_table('SMSSpamCollection', sep='\\t', header=None,names=['label', 'sms_message'])\n",
        "\n",
        "df.head()"
      ],
      "execution_count": null,
      "outputs": [
        {
          "output_type": "execute_result",
          "data": {
            "text/html": [
              "<div>\n",
              "<style scoped>\n",
              "    .dataframe tbody tr th:only-of-type {\n",
              "        vertical-align: middle;\n",
              "    }\n",
              "\n",
              "    .dataframe tbody tr th {\n",
              "        vertical-align: top;\n",
              "    }\n",
              "\n",
              "    .dataframe thead th {\n",
              "        text-align: right;\n",
              "    }\n",
              "</style>\n",
              "<table border=\"1\" class=\"dataframe\">\n",
              "  <thead>\n",
              "    <tr style=\"text-align: right;\">\n",
              "      <th></th>\n",
              "      <th>label</th>\n",
              "      <th>sms_message</th>\n",
              "    </tr>\n",
              "  </thead>\n",
              "  <tbody>\n",
              "    <tr>\n",
              "      <th>0</th>\n",
              "      <td>ham</td>\n",
              "      <td>Go until jurong point, crazy.. Available only ...</td>\n",
              "    </tr>\n",
              "    <tr>\n",
              "      <th>1</th>\n",
              "      <td>ham</td>\n",
              "      <td>Ok lar... Joking wif u oni...</td>\n",
              "    </tr>\n",
              "    <tr>\n",
              "      <th>2</th>\n",
              "      <td>spam</td>\n",
              "      <td>Free entry in 2 a wkly comp to win FA Cup fina...</td>\n",
              "    </tr>\n",
              "    <tr>\n",
              "      <th>3</th>\n",
              "      <td>ham</td>\n",
              "      <td>U dun say so early hor... U c already then say...</td>\n",
              "    </tr>\n",
              "    <tr>\n",
              "      <th>4</th>\n",
              "      <td>ham</td>\n",
              "      <td>Nah I don't think he goes to usf, he lives aro...</td>\n",
              "    </tr>\n",
              "  </tbody>\n",
              "</table>\n",
              "</div>"
            ],
            "text/plain": [
              "  label                                        sms_message\n",
              "0   ham  Go until jurong point, crazy.. Available only ...\n",
              "1   ham                      Ok lar... Joking wif u oni...\n",
              "2  spam  Free entry in 2 a wkly comp to win FA Cup fina...\n",
              "3   ham  U dun say so early hor... U c already then say...\n",
              "4   ham  Nah I don't think he goes to usf, he lives aro..."
            ]
          },
          "metadata": {
            "tags": []
          },
          "execution_count": 7
        }
      ]
    },
    {
      "cell_type": "code",
      "metadata": {
        "ExecuteTime": {
          "end_time": "2020-02-14T20:45:33.361586Z",
          "start_time": "2020-02-14T20:45:33.348066Z"
        },
        "id": "jveHuw1Nvipc",
        "outputId": "78e46e0c-2114-478e-bb6b-cbe2940adade"
      },
      "source": [
        "df['label'] = df.label.map({'ham':0,'spam':1})\n",
        "\n",
        "df.shape"
      ],
      "execution_count": null,
      "outputs": [
        {
          "output_type": "execute_result",
          "data": {
            "text/plain": [
              "(5572, 2)"
            ]
          },
          "metadata": {
            "tags": []
          },
          "execution_count": 8
        }
      ]
    },
    {
      "cell_type": "code",
      "metadata": {
        "ExecuteTime": {
          "end_time": "2020-02-14T20:46:04.683312Z",
          "start_time": "2020-02-14T20:46:04.257304Z"
        },
        "id": "wchlpXRdvipe",
        "outputId": "ca71bf4b-8857-4620-dc1a-ff0438ee89f3"
      },
      "source": [
        "from sklearn.model_selection import train_test_split\n",
        "\n",
        "X_train, X_test, y_train, y_test = train_test_split(df['sms_message'], \n",
        "                                                    df['label'], \n",
        "                                                    random_state=1)\n",
        "\n",
        "print('Number of rows in the total set: {}'.format(df.shape[0]))\n",
        "print('Number of rows in the training set: {}'.format(X_train.shape[0]))\n",
        "print('Number of rows in the test set: {}'.format(X_test.shape[0]))"
      ],
      "execution_count": null,
      "outputs": [
        {
          "output_type": "stream",
          "text": [
            "Number of rows in the total set: 5572\n",
            "Number of rows in the training set: 4179\n",
            "Number of rows in the test set: 1393\n"
          ],
          "name": "stdout"
        }
      ]
    },
    {
      "cell_type": "code",
      "metadata": {
        "ExecuteTime": {
          "end_time": "2020-02-14T20:48:22.903904Z",
          "start_time": "2020-02-14T20:48:22.901228Z"
        },
        "id": "3mxSCM2lvipg"
      },
      "source": [
        "from sklearn.feature_extraction.text import CountVectorizer"
      ],
      "execution_count": null,
      "outputs": []
    },
    {
      "cell_type": "code",
      "metadata": {
        "ExecuteTime": {
          "end_time": "2020-02-14T20:49:10.086348Z",
          "start_time": "2020-02-14T20:49:09.920414Z"
        },
        "id": "9fkaZ7_mviph"
      },
      "source": [
        "count_vector = CountVectorizer()\n",
        "training_data = count_vector.fit_transform(X_train).toarray()\n",
        "testing_data = count_vector.transform(X_test).toarray()"
      ],
      "execution_count": null,
      "outputs": []
    },
    {
      "cell_type": "code",
      "metadata": {
        "ExecuteTime": {
          "end_time": "2020-02-14T20:50:10.826260Z",
          "start_time": "2020-02-14T20:50:10.706562Z"
        },
        "id": "9GOJAGw1vipi"
      },
      "source": [
        "training_tensor = torch.Tensor(training_data)\n",
        "testing_tensor = torch.Tensor(testing_data)"
      ],
      "execution_count": null,
      "outputs": []
    },
    {
      "cell_type": "code",
      "metadata": {
        "ExecuteTime": {
          "end_time": "2020-02-14T20:55:09.064105Z",
          "start_time": "2020-02-14T20:55:09.059192Z"
        },
        "id": "D9dtwCs-vipk",
        "outputId": "f11a379a-3d31-4839-875c-665f3f79b902"
      },
      "source": [
        "training_tensor.shape"
      ],
      "execution_count": null,
      "outputs": [
        {
          "output_type": "execute_result",
          "data": {
            "text/plain": [
              "torch.Size([4179, 7456])"
            ]
          },
          "metadata": {
            "tags": []
          },
          "execution_count": 29
        }
      ]
    },
    {
      "cell_type": "markdown",
      "metadata": {
        "id": "H77-erMyvipm"
      },
      "source": [
        "$P(w) = \\frac{Количество\\ вхождений\\ слова\\ w\\ в\\ датасет}{Количество\\ слов\\ в\\ датасете\"}$"
      ]
    },
    {
      "cell_type": "code",
      "metadata": {
        "ExecuteTime": {
          "end_time": "2020-02-14T20:54:30.799699Z",
          "start_time": "2020-02-14T20:54:30.789243Z"
        },
        "id": "mQAn3hUuvipm",
        "outputId": "d2ad1b68-0b47-461a-aa29-0fd1326b9b78"
      },
      "source": [
        "training_tensor.sum()"
      ],
      "execution_count": null,
      "outputs": [
        {
          "output_type": "execute_result",
          "data": {
            "text/plain": [
              "tensor(59839.)"
            ]
          },
          "metadata": {
            "tags": []
          },
          "execution_count": 26
        }
      ]
    },
    {
      "cell_type": "code",
      "metadata": {
        "ExecuteTime": {
          "end_time": "2020-02-14T20:55:01.075706Z",
          "start_time": "2020-02-14T20:55:01.053266Z"
        },
        "id": "uQ1o3igRvipn",
        "outputId": "369c0de8-61bd-4cbe-a82f-08bd5a5b588a"
      },
      "source": [
        "p_w = training_tensor.sum(axis=0) / training_tensor.sum()\n",
        "p_w.shape"
      ],
      "execution_count": null,
      "outputs": [
        {
          "output_type": "execute_result",
          "data": {
            "text/plain": [
              "torch.Size([7456])"
            ]
          },
          "metadata": {
            "tags": []
          },
          "execution_count": 28
        }
      ]
    },
    {
      "cell_type": "markdown",
      "metadata": {
        "ExecuteTime": {
          "end_time": "2020-02-14T20:55:50.058954Z",
          "start_time": "2020-02-14T20:55:50.054544Z"
        },
        "id": "1r0T9qwnvipp"
      },
      "source": [
        "$P(w|spam) = \\frac{Количество\\ вхождений\\ слова\\ w\\ в\\ спамные сообщения}{Количество\\ слов\\ в\\ спаме\"}$"
      ]
    },
    {
      "cell_type": "code",
      "metadata": {
        "ExecuteTime": {
          "end_time": "2020-02-14T20:58:16.538799Z",
          "start_time": "2020-02-14T20:58:16.533397Z"
        },
        "id": "t9rsXlfuvipq"
      },
      "source": [
        "spam_training_tensor = training_tensor[(y_train == 1).values]"
      ],
      "execution_count": null,
      "outputs": []
    },
    {
      "cell_type": "code",
      "metadata": {
        "ExecuteTime": {
          "end_time": "2020-02-14T20:58:16.806387Z",
          "start_time": "2020-02-14T20:58:16.802217Z"
        },
        "id": "jw7dnR8Svipr",
        "outputId": "ef675162-612e-4cb0-e4f5-5f797f54f62d"
      },
      "source": [
        "spam_training_tensor.shape"
      ],
      "execution_count": null,
      "outputs": [
        {
          "output_type": "execute_result",
          "data": {
            "text/plain": [
              "torch.Size([562, 7456])"
            ]
          },
          "metadata": {
            "tags": []
          },
          "execution_count": 42
        }
      ]
    },
    {
      "cell_type": "code",
      "metadata": {
        "ExecuteTime": {
          "end_time": "2020-02-14T20:58:16.979417Z",
          "start_time": "2020-02-14T20:58:16.972533Z"
        },
        "id": "E4vCJLaIvips",
        "outputId": "dd2db742-c115-4aa3-eccf-ae9afc86e286"
      },
      "source": [
        "p_w_spam = spam_training_tensor.sum(axis=0) / spam_training_tensor.sum()\n",
        "p_w_spam.shape"
      ],
      "execution_count": null,
      "outputs": [
        {
          "output_type": "execute_result",
          "data": {
            "text/plain": [
              "torch.Size([7456])"
            ]
          },
          "metadata": {
            "tags": []
          },
          "execution_count": 43
        }
      ]
    },
    {
      "cell_type": "markdown",
      "metadata": {
        "ExecuteTime": {
          "end_time": "2020-02-14T20:58:30.965640Z",
          "start_time": "2020-02-14T20:58:30.961026Z"
        },
        "id": "Yx4gwrlavipt"
      },
      "source": [
        "$P(spam) = \\frac{Количество\\ спама}{Количество\\ сообщений\"}$"
      ]
    },
    {
      "cell_type": "code",
      "metadata": {
        "ExecuteTime": {
          "end_time": "2020-02-14T20:59:29.904591Z",
          "start_time": "2020-02-14T20:59:29.893648Z"
        },
        "id": "ITGYwEGuvipu"
      },
      "source": [
        "p_spam = (y_train == 1).values.sum() / len(y_train)\n",
        "p_not_spam = (y_train == 0).values.sum() / len(y_train)"
      ],
      "execution_count": null,
      "outputs": []
    },
    {
      "cell_type": "code",
      "metadata": {
        "ExecuteTime": {
          "end_time": "2020-02-14T20:59:33.280463Z",
          "start_time": "2020-02-14T20:59:33.275702Z"
        },
        "id": "6oRhsziMvipv",
        "outputId": "3a516267-dca4-4b56-e273-f7962afe756f"
      },
      "source": [
        "p_spam"
      ],
      "execution_count": null,
      "outputs": [
        {
          "output_type": "execute_result",
          "data": {
            "text/plain": [
              "0.13448193347690834"
            ]
          },
          "metadata": {
            "tags": []
          },
          "execution_count": 46
        }
      ]
    },
    {
      "cell_type": "code",
      "metadata": {
        "ExecuteTime": {
          "end_time": "2020-02-14T20:59:36.887786Z",
          "start_time": "2020-02-14T20:59:36.883357Z"
        },
        "id": "RY4RWOGKvipw",
        "outputId": "5c12284e-e8ac-4a1e-b8a4-e1a2c09d11e8"
      },
      "source": [
        "p_not_spam"
      ],
      "execution_count": null,
      "outputs": [
        {
          "output_type": "execute_result",
          "data": {
            "text/plain": [
              "0.8655180665230916"
            ]
          },
          "metadata": {
            "tags": []
          },
          "execution_count": 47
        }
      ]
    },
    {
      "cell_type": "markdown",
      "metadata": {
        "id": "XbO7QyDzvipx"
      },
      "source": [
        "$P(spam|w)=\\frac{P(w|spam)P(spam)}{P(w)}$\n",
        "\n",
        "$P(spam|w)=\\frac{P(w_1|spam)P(w_2|spam)...P(w_n|spam)P(spam)}{P(w_1)P(w_2)...P(w_n)}$"
      ]
    },
    {
      "cell_type": "code",
      "metadata": {
        "ExecuteTime": {
          "end_time": "2020-02-14T21:05:30.592296Z",
          "start_time": "2020-02-14T21:05:30.589345Z"
        },
        "id": "TgZCCC4Fvipx"
      },
      "source": [
        "test_sample = testing_tensor[0]"
      ],
      "execution_count": null,
      "outputs": []
    },
    {
      "cell_type": "code",
      "metadata": {
        "ExecuteTime": {
          "end_time": "2020-02-14T21:06:07.090307Z",
          "start_time": "2020-02-14T21:06:07.085545Z"
        },
        "id": "nJyOhNTKvipy",
        "outputId": "123bfaad-4381-4fda-cab3-571690ef6264"
      },
      "source": [
        "y_test.head()"
      ],
      "execution_count": null,
      "outputs": [
        {
          "output_type": "execute_result",
          "data": {
            "text/plain": [
              "1078    0\n",
              "4028    0\n",
              "958     0\n",
              "4642    0\n",
              "4674    0\n",
              "Name: label, dtype: int64"
            ]
          },
          "metadata": {
            "tags": []
          },
          "execution_count": 60
        }
      ]
    },
    {
      "cell_type": "code",
      "metadata": {
        "ExecuteTime": {
          "end_time": "2020-02-14T21:06:19.308103Z",
          "start_time": "2020-02-14T21:06:19.302281Z"
        },
        "scrolled": false,
        "id": "kQRyO90xvip0",
        "outputId": "c33bb048-0d4b-410a-9f62-d64b09af3615"
      },
      "source": [
        "df.iloc[1078]"
      ],
      "execution_count": null,
      "outputs": [
        {
          "output_type": "execute_result",
          "data": {
            "text/plain": [
              "label                                     0\n",
              "sms_message    Yep, by the pretty sculpture\n",
              "Name: 1078, dtype: object"
            ]
          },
          "metadata": {
            "tags": []
          },
          "execution_count": 61
        }
      ]
    },
    {
      "cell_type": "code",
      "metadata": {
        "ExecuteTime": {
          "end_time": "2020-02-14T21:11:45.289399Z",
          "start_time": "2020-02-14T21:11:45.284472Z"
        },
        "id": "gx9MbRrUvip1",
        "outputId": "57bb4369-1dd0-49f2-abc6-607cbafe946b"
      },
      "source": [
        "[test_sample != 0]"
      ],
      "execution_count": null,
      "outputs": [
        {
          "output_type": "execute_result",
          "data": {
            "text/plain": [
              "[tensor([False, False, False,  ..., False, False, False])]"
            ]
          },
          "metadata": {
            "tags": []
          },
          "execution_count": 71
        }
      ]
    },
    {
      "cell_type": "code",
      "metadata": {
        "ExecuteTime": {
          "end_time": "2020-02-14T21:11:49.724629Z",
          "start_time": "2020-02-14T21:11:49.719642Z"
        },
        "id": "Ih873o5dvip2",
        "outputId": "eae42712-86b5-45de-965e-f349da7d9b44"
      },
      "source": [
        "(test_sample * p_w_spam)[test_sample != 0]"
      ],
      "execution_count": null,
      "outputs": [
        {
          "output_type": "execute_result",
          "data": {
            "text/plain": [
              "tensor([0.0021, 0.0000, 0.0119, 0.0000])"
            ]
          },
          "metadata": {
            "tags": []
          },
          "execution_count": 72
        }
      ]
    },
    {
      "cell_type": "code",
      "metadata": {
        "ExecuteTime": {
          "end_time": "2020-02-14T21:11:54.782255Z",
          "start_time": "2020-02-14T21:11:54.776740Z"
        },
        "id": "Gd6JrO36vip4",
        "outputId": "08e3b9dd-e56e-4eda-e8f2-59d96c756dec"
      },
      "source": [
        "(test_sample * p_w_spam)[test_sample != 0].prod()"
      ],
      "execution_count": null,
      "outputs": [
        {
          "output_type": "execute_result",
          "data": {
            "text/plain": [
              "tensor(0.)"
            ]
          },
          "metadata": {
            "tags": []
          },
          "execution_count": 73
        }
      ]
    },
    {
      "cell_type": "code",
      "metadata": {
        "ExecuteTime": {
          "end_time": "2020-02-14T21:12:12.389141Z",
          "start_time": "2020-02-14T21:12:12.378240Z"
        },
        "id": "aPpWw_k4vip4",
        "outputId": "a2690340-1997-4423-e0c0-7053d307c0ed"
      },
      "source": [
        "(test_sample * p_w_spam)[test_sample != 0].prod() * p_spam"
      ],
      "execution_count": null,
      "outputs": [
        {
          "output_type": "execute_result",
          "data": {
            "text/plain": [
              "tensor(0.)"
            ]
          },
          "metadata": {
            "tags": []
          },
          "execution_count": 74
        }
      ]
    },
    {
      "cell_type": "code",
      "metadata": {
        "ExecuteTime": {
          "end_time": "2020-02-14T21:13:04.460643Z",
          "start_time": "2020-02-14T21:13:04.455207Z"
        },
        "id": "mCbveoijvip6",
        "outputId": "cc56415f-9c45-4c4d-d0ab-020909a0f921"
      },
      "source": [
        "((test_sample * p_w)[test_sample != 0].prod())"
      ],
      "execution_count": null,
      "outputs": [
        {
          "output_type": "execute_result",
          "data": {
            "text/plain": [
              "tensor(1.1332e-12)"
            ]
          },
          "metadata": {
            "tags": []
          },
          "execution_count": 77
        }
      ]
    },
    {
      "cell_type": "code",
      "metadata": {
        "ExecuteTime": {
          "end_time": "2020-02-14T21:12:59.046212Z",
          "start_time": "2020-02-14T21:12:59.040674Z"
        },
        "scrolled": true,
        "id": "XxsfTxJgvip7",
        "outputId": "a1bed16e-8524-42ad-d939-6c9def739fee"
      },
      "source": [
        "(test_sample * p_w_spam)[test_sample != 0].prod() * p_spam / ((test_sample * p_w)[test_sample != 0].prod())"
      ],
      "execution_count": null,
      "outputs": [
        {
          "output_type": "execute_result",
          "data": {
            "text/plain": [
              "tensor(0.)"
            ]
          },
          "metadata": {
            "tags": []
          },
          "execution_count": 76
        }
      ]
    },
    {
      "cell_type": "markdown",
      "metadata": {
        "id": "0q4_5CjGvip8"
      },
      "source": [
        "## Вероятности"
      ]
    },
    {
      "cell_type": "code",
      "metadata": {
        "ExecuteTime": {
          "end_time": "2019-11-04T10:35:40.072759Z",
          "start_time": "2019-11-04T10:35:40.067263Z"
        },
        "id": "2quIQlbpvip8"
      },
      "source": [
        "# Равномерное распределение вероятности"
      ],
      "execution_count": null,
      "outputs": []
    },
    {
      "cell_type": "code",
      "metadata": {
        "ExecuteTime": {
          "end_time": "2019-11-05T17:49:01.948916Z",
          "start_time": "2019-11-05T17:49:01.942635Z"
        },
        "id": "ngDCREhzvip9",
        "outputId": "da2a6a9d-a3ac-4ea4-8c16-09144a874c80"
      },
      "source": [
        "torch.rand(10)"
      ],
      "execution_count": null,
      "outputs": [
        {
          "output_type": "execute_result",
          "data": {
            "text/plain": [
              "tensor([0.6737, 0.2510, 0.0436, 0.8806, 0.8414, 0.2155, 0.7819, 0.9293, 0.9413,\n",
              "        0.4566])"
            ]
          },
          "metadata": {
            "tags": []
          },
          "execution_count": 145
        }
      ]
    },
    {
      "cell_type": "code",
      "metadata": {
        "ExecuteTime": {
          "end_time": "2019-11-04T10:36:02.270795Z",
          "start_time": "2019-11-04T10:36:02.268400Z"
        },
        "id": "tZsA2S-Qvip-"
      },
      "source": [
        "## Нормальное распределение"
      ],
      "execution_count": null,
      "outputs": []
    },
    {
      "cell_type": "code",
      "metadata": {
        "ExecuteTime": {
          "end_time": "2019-11-05T17:49:06.976771Z",
          "start_time": "2019-11-05T17:49:06.970939Z"
        },
        "id": "pTAu0Ig2vip_",
        "outputId": "a4f617ef-c7fa-4052-bbcc-d37ddca5de8c"
      },
      "source": [
        "torch.randn(10)"
      ],
      "execution_count": null,
      "outputs": [
        {
          "output_type": "execute_result",
          "data": {
            "text/plain": [
              "tensor([-0.9420, -0.1692, -0.6964,  0.2431, -0.1955, -1.5139, -0.6033, -0.9355,\n",
              "        -0.0650,  0.6315])"
            ]
          },
          "metadata": {
            "tags": []
          },
          "execution_count": 146
        }
      ]
    },
    {
      "cell_type": "code",
      "metadata": {
        "ExecuteTime": {
          "end_time": "2019-11-04T10:36:29.458108Z",
          "start_time": "2019-11-04T10:36:29.455040Z"
        },
        "id": "kwXVbj79viqA"
      },
      "source": [
        "## Равномерное на целых числах"
      ],
      "execution_count": null,
      "outputs": []
    },
    {
      "cell_type": "code",
      "metadata": {
        "ExecuteTime": {
          "end_time": "2019-11-05T17:49:13.391009Z",
          "start_time": "2019-11-05T17:49:13.384594Z"
        },
        "id": "se4Pcr6jviqB",
        "outputId": "74eefda2-b8a5-4628-c0f1-51edcbb38b0b"
      },
      "source": [
        "torch.randint(0, 10, (10,))"
      ],
      "execution_count": null,
      "outputs": [
        {
          "output_type": "execute_result",
          "data": {
            "text/plain": [
              "tensor([1, 6, 7, 8, 6, 2, 7, 6, 1, 6])"
            ]
          },
          "metadata": {
            "tags": []
          },
          "execution_count": 147
        }
      ]
    },
    {
      "cell_type": "markdown",
      "metadata": {
        "id": "2BNIv8LsviqD"
      },
      "source": [
        "## Постройте график плотности для нормального распределения"
      ]
    },
    {
      "cell_type": "code",
      "metadata": {
        "id": "m7tawue6viqD"
      },
      "source": [
        "%matplotlib inline\n",
        "import matplotlib.pyplot as plt"
      ],
      "execution_count": null,
      "outputs": []
    },
    {
      "cell_type": "code",
      "metadata": {
        "id": "Ya-USflhviqD"
      },
      "source": [
        "tensor = torch.randn(1000)"
      ],
      "execution_count": null,
      "outputs": []
    },
    {
      "cell_type": "code",
      "metadata": {
        "id": "0CF243FW6z_h",
        "colab": {
          "base_uri": "https://localhost:8080/",
          "height": 373
        },
        "outputId": "c2e801b9-a32c-450c-eaf4-213e7f64a89c"
      },
      "source": [
        "plt.hist(tensor)"
      ],
      "execution_count": null,
      "outputs": [
        {
          "output_type": "execute_result",
          "data": {
            "text/plain": [
              "(array([  6.,  51., 120., 214., 254., 188., 104.,  54.,   7.,   2.]),\n",
              " array([-2.9656153 , -2.3141658 , -1.6627164 , -1.011267  , -0.3598175 ,\n",
              "         0.29163194,  0.9430814 ,  1.5945308 ,  2.2459803 ,  2.8974297 ,\n",
              "         3.5488791 ], dtype=float32),\n",
              " <a list of 10 Patch objects>)"
            ]
          },
          "metadata": {
            "tags": []
          },
          "execution_count": 31
        },
        {
          "output_type": "display_data",
          "data": {
            "image/png": "[encoded data removed]",
            "text/plain": [
              "<Figure size 432x288 with 1 Axes>"
            ]
          },
          "metadata": {
            "tags": [],
            "needs_background": "light"
          }
        }
      ]
    },
    {
      "cell_type": "code",
      "metadata": {
        "id": "v-x64RRT64Ci"
      },
      "source": [],
      "execution_count": null,
      "outputs": []
    }
  ]
}