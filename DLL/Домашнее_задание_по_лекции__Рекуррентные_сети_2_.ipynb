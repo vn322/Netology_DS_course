{
  "nbformat": 4,
  "nbformat_minor": 0,
  "metadata": {
    "colab": {
      "provenance": []
    },
    "kernelspec": {
      "name": "python3",
      "display_name": "Python 3"
    },
    "language_info": {
      "name": "python"
    },
    "widgets": {
      "application/vnd.jupyter.widget-state+json": {
        "026c415010d54674a26c06c962b22368": {
          "model_module": "@jupyter-widgets/controls",
          "model_name": "HBoxModel",
          "model_module_version": "1.5.0",
          "state": {
            "_dom_classes": [],
            "_model_module": "@jupyter-widgets/controls",
            "_model_module_version": "1.5.0",
            "_model_name": "HBoxModel",
            "_view_count": null,
            "_view_module": "@jupyter-widgets/controls",
            "_view_module_version": "1.5.0",
            "_view_name": "HBoxView",
            "box_style": "",
            "children": [
              "IPY_MODEL_0a35bdb6fbf0494389c5977f979d2793",
              "IPY_MODEL_b5fc681c2e464817aa72d65bf12019aa",
              "IPY_MODEL_85d458bb31b549d3aa296d4a6c060e20"
            ],
            "layout": "IPY_MODEL_4d683c15d12f4048abb9e5258993c427"
          }
        },
        "0a35bdb6fbf0494389c5977f979d2793": {
          "model_module": "@jupyter-widgets/controls",
          "model_name": "HTMLModel",
          "model_module_version": "1.5.0",
          "state": {
            "_dom_classes": [],
            "_model_module": "@jupyter-widgets/controls",
            "_model_module_version": "1.5.0",
            "_model_name": "HTMLModel",
            "_view_count": null,
            "_view_module": "@jupyter-widgets/controls",
            "_view_module_version": "1.5.0",
            "_view_name": "HTMLView",
            "description": "",
            "description_tooltip": null,
            "layout": "IPY_MODEL_4b2baabafb3f462b901609193f07232f",
            "placeholder": "​",
            "style": "IPY_MODEL_d1de9467d9b9465fa41faeebb4937f08",
            "value": "100%"
          }
        },
        "b5fc681c2e464817aa72d65bf12019aa": {
          "model_module": "@jupyter-widgets/controls",
          "model_name": "FloatProgressModel",
          "model_module_version": "1.5.0",
          "state": {
            "_dom_classes": [],
            "_model_module": "@jupyter-widgets/controls",
            "_model_module_version": "1.5.0",
            "_model_name": "FloatProgressModel",
            "_view_count": null,
            "_view_module": "@jupyter-widgets/controls",
            "_view_module_version": "1.5.0",
            "_view_name": "ProgressView",
            "bar_style": "success",
            "description": "",
            "description_tooltip": null,
            "layout": "IPY_MODEL_e29801831bf04336bc4abc8e4a32dd0e",
            "max": 378,
            "min": 0,
            "orientation": "horizontal",
            "style": "IPY_MODEL_b2e1e3c0b27f417e86b7ec1ea302147d",
            "value": 378
          }
        },
        "85d458bb31b549d3aa296d4a6c060e20": {
          "model_module": "@jupyter-widgets/controls",
          "model_name": "HTMLModel",
          "model_module_version": "1.5.0",
          "state": {
            "_dom_classes": [],
            "_model_module": "@jupyter-widgets/controls",
            "_model_module_version": "1.5.0",
            "_model_name": "HTMLModel",
            "_view_count": null,
            "_view_module": "@jupyter-widgets/controls",
            "_view_module_version": "1.5.0",
            "_view_name": "HTMLView",
            "description": "",
            "description_tooltip": null,
            "layout": "IPY_MODEL_4e71355de24d4d9b900f2792505c6b05",
            "placeholder": "​",
            "style": "IPY_MODEL_a1fda24d46a141c4a8722fafd9a25415",
            "value": " 378/378 [02:33&lt;00:00,  2.02it/s]"
          }
        },
        "4d683c15d12f4048abb9e5258993c427": {
          "model_module": "@jupyter-widgets/base",
          "model_name": "LayoutModel",
          "model_module_version": "1.2.0",
          "state": {
            "_model_module": "@jupyter-widgets/base",
            "_model_module_version": "1.2.0",
            "_model_name": "LayoutModel",
            "_view_count": null,
            "_view_module": "@jupyter-widgets/base",
            "_view_module_version": "1.2.0",
            "_view_name": "LayoutView",
            "align_content": null,
            "align_items": null,
            "align_self": null,
            "border": null,
            "bottom": null,
            "display": null,
            "flex": null,
            "flex_flow": null,
            "grid_area": null,
            "grid_auto_columns": null,
            "grid_auto_flow": null,
            "grid_auto_rows": null,
            "grid_column": null,
            "grid_gap": null,
            "grid_row": null,
            "grid_template_areas": null,
            "grid_template_columns": null,
            "grid_template_rows": null,
            "height": null,
            "justify_content": null,
            "justify_items": null,
            "left": null,
            "margin": null,
            "max_height": null,
            "max_width": null,
            "min_height": null,
            "min_width": null,
            "object_fit": null,
            "object_position": null,
            "order": null,
            "overflow": null,
            "overflow_x": null,
            "overflow_y": null,
            "padding": null,
            "right": null,
            "top": null,
            "visibility": null,
            "width": null
          }
        },
        "4b2baabafb3f462b901609193f07232f": {
          "model_module": "@jupyter-widgets/base",
          "model_name": "LayoutModel",
          "model_module_version": "1.2.0",
          "state": {
            "_model_module": "@jupyter-widgets/base",
            "_model_module_version": "1.2.0",
            "_model_name": "LayoutModel",
            "_view_count": null,
            "_view_module": "@jupyter-widgets/base",
            "_view_module_version": "1.2.0",
            "_view_name": "LayoutView",
            "align_content": null,
            "align_items": null,
            "align_self": null,
            "border": null,
            "bottom": null,
            "display": null,
            "flex": null,
            "flex_flow": null,
            "grid_area": null,
            "grid_auto_columns": null,
            "grid_auto_flow": null,
            "grid_auto_rows": null,
            "grid_column": null,
            "grid_gap": null,
            "grid_row": null,
            "grid_template_areas": null,
            "grid_template_columns": null,
            "grid_template_rows": null,
            "height": null,
            "justify_content": null,
            "justify_items": null,
            "left": null,
            "margin": null,
            "max_height": null,
            "max_width": null,
            "min_height": null,
            "min_width": null,
            "object_fit": null,
            "object_position": null,
            "order": null,
            "overflow": null,
            "overflow_x": null,
            "overflow_y": null,
            "padding": null,
            "right": null,
            "top": null,
            "visibility": null,
            "width": null
          }
        },
        "d1de9467d9b9465fa41faeebb4937f08": {
          "model_module": "@jupyter-widgets/controls",
          "model_name": "DescriptionStyleModel",
          "model_module_version": "1.5.0",
          "state": {
            "_model_module": "@jupyter-widgets/controls",
            "_model_module_version": "1.5.0",
            "_model_name": "DescriptionStyleModel",
            "_view_count": null,
            "_view_module": "@jupyter-widgets/base",
            "_view_module_version": "1.2.0",
            "_view_name": "StyleView",
            "description_width": ""
          }
        },
        "e29801831bf04336bc4abc8e4a32dd0e": {
          "model_module": "@jupyter-widgets/base",
          "model_name": "LayoutModel",
          "model_module_version": "1.2.0",
          "state": {
            "_model_module": "@jupyter-widgets/base",
            "_model_module_version": "1.2.0",
            "_model_name": "LayoutModel",
            "_view_count": null,
            "_view_module": "@jupyter-widgets/base",
            "_view_module_version": "1.2.0",
            "_view_name": "LayoutView",
            "align_content": null,
            "align_items": null,
            "align_self": null,
            "border": null,
            "bottom": null,
            "display": null,
            "flex": null,
            "flex_flow": null,
            "grid_area": null,
            "grid_auto_columns": null,
            "grid_auto_flow": null,
            "grid_auto_rows": null,
            "grid_column": null,
            "grid_gap": null,
            "grid_row": null,
            "grid_template_areas": null,
            "grid_template_columns": null,
            "grid_template_rows": null,
            "height": null,
            "justify_content": null,
            "justify_items": null,
            "left": null,
            "margin": null,
            "max_height": null,
            "max_width": null,
            "min_height": null,
            "min_width": null,
            "object_fit": null,
            "object_position": null,
            "order": null,
            "overflow": null,
            "overflow_x": null,
            "overflow_y": null,
            "padding": null,
            "right": null,
            "top": null,
            "visibility": null,
            "width": null
          }
        },
        "b2e1e3c0b27f417e86b7ec1ea302147d": {
          "model_module": "@jupyter-widgets/controls",
          "model_name": "ProgressStyleModel",
          "model_module_version": "1.5.0",
          "state": {
            "_model_module": "@jupyter-widgets/controls",
            "_model_module_version": "1.5.0",
            "_model_name": "ProgressStyleModel",
            "_view_count": null,
            "_view_module": "@jupyter-widgets/base",
            "_view_module_version": "1.2.0",
            "_view_name": "StyleView",
            "bar_color": null,
            "description_width": ""
          }
        },
        "4e71355de24d4d9b900f2792505c6b05": {
          "model_module": "@jupyter-widgets/base",
          "model_name": "LayoutModel",
          "model_module_version": "1.2.0",
          "state": {
            "_model_module": "@jupyter-widgets/base",
            "_model_module_version": "1.2.0",
            "_model_name": "LayoutModel",
            "_view_count": null,
            "_view_module": "@jupyter-widgets/base",
            "_view_module_version": "1.2.0",
            "_view_name": "LayoutView",
            "align_content": null,
            "align_items": null,
            "align_self": null,
            "border": null,
            "bottom": null,
            "display": null,
            "flex": null,
            "flex_flow": null,
            "grid_area": null,
            "grid_auto_columns": null,
            "grid_auto_flow": null,
            "grid_auto_rows": null,
            "grid_column": null,
            "grid_gap": null,
            "grid_row": null,
            "grid_template_areas": null,
            "grid_template_columns": null,
            "grid_template_rows": null,
            "height": null,
            "justify_content": null,
            "justify_items": null,
            "left": null,
            "margin": null,
            "max_height": null,
            "max_width": null,
            "min_height": null,
            "min_width": null,
            "object_fit": null,
            "object_position": null,
            "order": null,
            "overflow": null,
            "overflow_x": null,
            "overflow_y": null,
            "padding": null,
            "right": null,
            "top": null,
            "visibility": null,
            "width": null
          }
        },
        "a1fda24d46a141c4a8722fafd9a25415": {
          "model_module": "@jupyter-widgets/controls",
          "model_name": "DescriptionStyleModel",
          "model_module_version": "1.5.0",
          "state": {
            "_model_module": "@jupyter-widgets/controls",
            "_model_module_version": "1.5.0",
            "_model_name": "DescriptionStyleModel",
            "_view_count": null,
            "_view_module": "@jupyter-widgets/base",
            "_view_module_version": "1.2.0",
            "_view_name": "StyleView",
            "description_width": ""
          }
        },
        "e9657c813fdd45978f1605a87090ac74": {
          "model_module": "@jupyter-widgets/controls",
          "model_name": "HBoxModel",
          "model_module_version": "1.5.0",
          "state": {
            "_dom_classes": [],
            "_model_module": "@jupyter-widgets/controls",
            "_model_module_version": "1.5.0",
            "_model_name": "HBoxModel",
            "_view_count": null,
            "_view_module": "@jupyter-widgets/controls",
            "_view_module_version": "1.5.0",
            "_view_name": "HBoxView",
            "box_style": "",
            "children": [
              "IPY_MODEL_f75d48ead79e493c9d0f4bcb4b2833f0",
              "IPY_MODEL_bfa4e19d328c486487a46f6ef4a2e1f9",
              "IPY_MODEL_3a1cc7020b8e4e31a740c98c65320947"
            ],
            "layout": "IPY_MODEL_67d17881cdd14da889f134c10b659d0b"
          }
        },
        "f75d48ead79e493c9d0f4bcb4b2833f0": {
          "model_module": "@jupyter-widgets/controls",
          "model_name": "HTMLModel",
          "model_module_version": "1.5.0",
          "state": {
            "_dom_classes": [],
            "_model_module": "@jupyter-widgets/controls",
            "_model_module_version": "1.5.0",
            "_model_name": "HTMLModel",
            "_view_count": null,
            "_view_module": "@jupyter-widgets/controls",
            "_view_module_version": "1.5.0",
            "_view_name": "HTMLView",
            "description": "",
            "description_tooltip": null,
            "layout": "IPY_MODEL_c7e1e3a7105e45a3b52158fe553db0ca",
            "placeholder": "​",
            "style": "IPY_MODEL_cd9d60e06ecb44be8fad64a16a636dac",
            "value": "100%"
          }
        },
        "bfa4e19d328c486487a46f6ef4a2e1f9": {
          "model_module": "@jupyter-widgets/controls",
          "model_name": "FloatProgressModel",
          "model_module_version": "1.5.0",
          "state": {
            "_dom_classes": [],
            "_model_module": "@jupyter-widgets/controls",
            "_model_module_version": "1.5.0",
            "_model_name": "FloatProgressModel",
            "_view_count": null,
            "_view_module": "@jupyter-widgets/controls",
            "_view_module_version": "1.5.0",
            "_view_name": "ProgressView",
            "bar_style": "success",
            "description": "",
            "description_tooltip": null,
            "layout": "IPY_MODEL_49a5aba419dd43b9bcb21dd042422b83",
            "max": 378,
            "min": 0,
            "orientation": "horizontal",
            "style": "IPY_MODEL_8f6199724afd4e4fb178c58fc042af36",
            "value": 378
          }
        },
        "3a1cc7020b8e4e31a740c98c65320947": {
          "model_module": "@jupyter-widgets/controls",
          "model_name": "HTMLModel",
          "model_module_version": "1.5.0",
          "state": {
            "_dom_classes": [],
            "_model_module": "@jupyter-widgets/controls",
            "_model_module_version": "1.5.0",
            "_model_name": "HTMLModel",
            "_view_count": null,
            "_view_module": "@jupyter-widgets/controls",
            "_view_module_version": "1.5.0",
            "_view_name": "HTMLView",
            "description": "",
            "description_tooltip": null,
            "layout": "IPY_MODEL_8636bf4466044943902c84ec193fae17",
            "placeholder": "​",
            "style": "IPY_MODEL_9130fbe266104dd493c16ee473ba067e",
            "value": " 378/378 [02:38&lt;00:00,  2.62it/s]"
          }
        },
        "67d17881cdd14da889f134c10b659d0b": {
          "model_module": "@jupyter-widgets/base",
          "model_name": "LayoutModel",
          "model_module_version": "1.2.0",
          "state": {
            "_model_module": "@jupyter-widgets/base",
            "_model_module_version": "1.2.0",
            "_model_name": "LayoutModel",
            "_view_count": null,
            "_view_module": "@jupyter-widgets/base",
            "_view_module_version": "1.2.0",
            "_view_name": "LayoutView",
            "align_content": null,
            "align_items": null,
            "align_self": null,
            "border": null,
            "bottom": null,
            "display": null,
            "flex": null,
            "flex_flow": null,
            "grid_area": null,
            "grid_auto_columns": null,
            "grid_auto_flow": null,
            "grid_auto_rows": null,
            "grid_column": null,
            "grid_gap": null,
            "grid_row": null,
            "grid_template_areas": null,
            "grid_template_columns": null,
            "grid_template_rows": null,
            "height": null,
            "justify_content": null,
            "justify_items": null,
            "left": null,
            "margin": null,
            "max_height": null,
            "max_width": null,
            "min_height": null,
            "min_width": null,
            "object_fit": null,
            "object_position": null,
            "order": null,
            "overflow": null,
            "overflow_x": null,
            "overflow_y": null,
            "padding": null,
            "right": null,
            "top": null,
            "visibility": null,
            "width": null
          }
        },
        "c7e1e3a7105e45a3b52158fe553db0ca": {
          "model_module": "@jupyter-widgets/base",
          "model_name": "LayoutModel",
          "model_module_version": "1.2.0",
          "state": {
            "_model_module": "@jupyter-widgets/base",
            "_model_module_version": "1.2.0",
            "_model_name": "LayoutModel",
            "_view_count": null,
            "_view_module": "@jupyter-widgets/base",
            "_view_module_version": "1.2.0",
            "_view_name": "LayoutView",
            "align_content": null,
            "align_items": null,
            "align_self": null,
            "border": null,
            "bottom": null,
            "display": null,
            "flex": null,
            "flex_flow": null,
            "grid_area": null,
            "grid_auto_columns": null,
            "grid_auto_flow": null,
            "grid_auto_rows": null,
            "grid_column": null,
            "grid_gap": null,
            "grid_row": null,
            "grid_template_areas": null,
            "grid_template_columns": null,
            "grid_template_rows": null,
            "height": null,
            "justify_content": null,
            "justify_items": null,
            "left": null,
            "margin": null,
            "max_height": null,
            "max_width": null,
            "min_height": null,
            "min_width": null,
            "object_fit": null,
            "object_position": null,
            "order": null,
            "overflow": null,
            "overflow_x": null,
            "overflow_y": null,
            "padding": null,
            "right": null,
            "top": null,
            "visibility": null,
            "width": null
          }
        },
        "cd9d60e06ecb44be8fad64a16a636dac": {
          "model_module": "@jupyter-widgets/controls",
          "model_name": "DescriptionStyleModel",
          "model_module_version": "1.5.0",
          "state": {
            "_model_module": "@jupyter-widgets/controls",
            "_model_module_version": "1.5.0",
            "_model_name": "DescriptionStyleModel",
            "_view_count": null,
            "_view_module": "@jupyter-widgets/base",
            "_view_module_version": "1.2.0",
            "_view_name": "StyleView",
            "description_width": ""
          }
        },
        "49a5aba419dd43b9bcb21dd042422b83": {
          "model_module": "@jupyter-widgets/base",
          "model_name": "LayoutModel",
          "model_module_version": "1.2.0",
          "state": {
            "_model_module": "@jupyter-widgets/base",
            "_model_module_version": "1.2.0",
            "_model_name": "LayoutModel",
            "_view_count": null,
            "_view_module": "@jupyter-widgets/base",
            "_view_module_version": "1.2.0",
            "_view_name": "LayoutView",
            "align_content": null,
            "align_items": null,
            "align_self": null,
            "border": null,
            "bottom": null,
            "display": null,
            "flex": null,
            "flex_flow": null,
            "grid_area": null,
            "grid_auto_columns": null,
            "grid_auto_flow": null,
            "grid_auto_rows": null,
            "grid_column": null,
            "grid_gap": null,
            "grid_row": null,
            "grid_template_areas": null,
            "grid_template_columns": null,
            "grid_template_rows": null,
            "height": null,
            "justify_content": null,
            "justify_items": null,
            "left": null,
            "margin": null,
            "max_height": null,
            "max_width": null,
            "min_height": null,
            "min_width": null,
            "object_fit": null,
            "object_position": null,
            "order": null,
            "overflow": null,
            "overflow_x": null,
            "overflow_y": null,
            "padding": null,
            "right": null,
            "top": null,
            "visibility": null,
            "width": null
          }
        },
        "8f6199724afd4e4fb178c58fc042af36": {
          "model_module": "@jupyter-widgets/controls",
          "model_name": "ProgressStyleModel",
          "model_module_version": "1.5.0",
          "state": {
            "_model_module": "@jupyter-widgets/controls",
            "_model_module_version": "1.5.0",
            "_model_name": "ProgressStyleModel",
            "_view_count": null,
            "_view_module": "@jupyter-widgets/base",
            "_view_module_version": "1.2.0",
            "_view_name": "StyleView",
            "bar_color": null,
            "description_width": ""
          }
        },
        "8636bf4466044943902c84ec193fae17": {
          "model_module": "@jupyter-widgets/base",
          "model_name": "LayoutModel",
          "model_module_version": "1.2.0",
          "state": {
            "_model_module": "@jupyter-widgets/base",
            "_model_module_version": "1.2.0",
            "_model_name": "LayoutModel",
            "_view_count": null,
            "_view_module": "@jupyter-widgets/base",
            "_view_module_version": "1.2.0",
            "_view_name": "LayoutView",
            "align_content": null,
            "align_items": null,
            "align_self": null,
            "border": null,
            "bottom": null,
            "display": null,
            "flex": null,
            "flex_flow": null,
            "grid_area": null,
            "grid_auto_columns": null,
            "grid_auto_flow": null,
            "grid_auto_rows": null,
            "grid_column": null,
            "grid_gap": null,
            "grid_row": null,
            "grid_template_areas": null,
            "grid_template_columns": null,
            "grid_template_rows": null,
            "height": null,
            "justify_content": null,
            "justify_items": null,
            "left": null,
            "margin": null,
            "max_height": null,
            "max_width": null,
            "min_height": null,
            "min_width": null,
            "object_fit": null,
            "object_position": null,
            "order": null,
            "overflow": null,
            "overflow_x": null,
            "overflow_y": null,
            "padding": null,
            "right": null,
            "top": null,
            "visibility": null,
            "width": null
          }
        },
        "9130fbe266104dd493c16ee473ba067e": {
          "model_module": "@jupyter-widgets/controls",
          "model_name": "DescriptionStyleModel",
          "model_module_version": "1.5.0",
          "state": {
            "_model_module": "@jupyter-widgets/controls",
            "_model_module_version": "1.5.0",
            "_model_name": "DescriptionStyleModel",
            "_view_count": null,
            "_view_module": "@jupyter-widgets/base",
            "_view_module_version": "1.2.0",
            "_view_name": "StyleView",
            "description_width": ""
          }
        },
        "cbaf535ab3ab4e179afde7d821e12c41": {
          "model_module": "@jupyter-widgets/controls",
          "model_name": "HBoxModel",
          "model_module_version": "1.5.0",
          "state": {
            "_dom_classes": [],
            "_model_module": "@jupyter-widgets/controls",
            "_model_module_version": "1.5.0",
            "_model_name": "HBoxModel",
            "_view_count": null,
            "_view_module": "@jupyter-widgets/controls",
            "_view_module_version": "1.5.0",
            "_view_name": "HBoxView",
            "box_style": "",
            "children": [
              "IPY_MODEL_bc80cfc5b45b4df899cfc63a4c4e3f83",
              "IPY_MODEL_f9851943e71e4b879d8d240cda838653",
              "IPY_MODEL_07517fd9930a4accb2d9f1f03fa21a57"
            ],
            "layout": "IPY_MODEL_f816a3818a6a483db41c31ed8de03336"
          }
        },
        "bc80cfc5b45b4df899cfc63a4c4e3f83": {
          "model_module": "@jupyter-widgets/controls",
          "model_name": "HTMLModel",
          "model_module_version": "1.5.0",
          "state": {
            "_dom_classes": [],
            "_model_module": "@jupyter-widgets/controls",
            "_model_module_version": "1.5.0",
            "_model_name": "HTMLModel",
            "_view_count": null,
            "_view_module": "@jupyter-widgets/controls",
            "_view_module_version": "1.5.0",
            "_view_name": "HTMLView",
            "description": "",
            "description_tooltip": null,
            "layout": "IPY_MODEL_74c716abddba446b939e6fc51821883f",
            "placeholder": "​",
            "style": "IPY_MODEL_0c6530041c724fc796515a75cecea994",
            "value": "100%"
          }
        },
        "f9851943e71e4b879d8d240cda838653": {
          "model_module": "@jupyter-widgets/controls",
          "model_name": "FloatProgressModel",
          "model_module_version": "1.5.0",
          "state": {
            "_dom_classes": [],
            "_model_module": "@jupyter-widgets/controls",
            "_model_module_version": "1.5.0",
            "_model_name": "FloatProgressModel",
            "_view_count": null,
            "_view_module": "@jupyter-widgets/controls",
            "_view_module_version": "1.5.0",
            "_view_name": "ProgressView",
            "bar_style": "success",
            "description": "",
            "description_tooltip": null,
            "layout": "IPY_MODEL_9bfe962a6d8c40d6a41ba982bdcd0fcd",
            "max": 378,
            "min": 0,
            "orientation": "horizontal",
            "style": "IPY_MODEL_d4a8f9dad594497ba5b8327c168e6a96",
            "value": 378
          }
        },
        "07517fd9930a4accb2d9f1f03fa21a57": {
          "model_module": "@jupyter-widgets/controls",
          "model_name": "HTMLModel",
          "model_module_version": "1.5.0",
          "state": {
            "_dom_classes": [],
            "_model_module": "@jupyter-widgets/controls",
            "_model_module_version": "1.5.0",
            "_model_name": "HTMLModel",
            "_view_count": null,
            "_view_module": "@jupyter-widgets/controls",
            "_view_module_version": "1.5.0",
            "_view_name": "HTMLView",
            "description": "",
            "description_tooltip": null,
            "layout": "IPY_MODEL_6bbefe6be81749d2aceaa3af8f2c1251",
            "placeholder": "​",
            "style": "IPY_MODEL_d7a346829723466aa0266c31c37dce85",
            "value": " 378/378 [02:36&lt;00:00,  2.55it/s]"
          }
        },
        "f816a3818a6a483db41c31ed8de03336": {
          "model_module": "@jupyter-widgets/base",
          "model_name": "LayoutModel",
          "model_module_version": "1.2.0",
          "state": {
            "_model_module": "@jupyter-widgets/base",
            "_model_module_version": "1.2.0",
            "_model_name": "LayoutModel",
            "_view_count": null,
            "_view_module": "@jupyter-widgets/base",
            "_view_module_version": "1.2.0",
            "_view_name": "LayoutView",
            "align_content": null,
            "align_items": null,
            "align_self": null,
            "border": null,
            "bottom": null,
            "display": null,
            "flex": null,
            "flex_flow": null,
            "grid_area": null,
            "grid_auto_columns": null,
            "grid_auto_flow": null,
            "grid_auto_rows": null,
            "grid_column": null,
            "grid_gap": null,
            "grid_row": null,
            "grid_template_areas": null,
            "grid_template_columns": null,
            "grid_template_rows": null,
            "height": null,
            "justify_content": null,
            "justify_items": null,
            "left": null,
            "margin": null,
            "max_height": null,
            "max_width": null,
            "min_height": null,
            "min_width": null,
            "object_fit": null,
            "object_position": null,
            "order": null,
            "overflow": null,
            "overflow_x": null,
            "overflow_y": null,
            "padding": null,
            "right": null,
            "top": null,
            "visibility": null,
            "width": null
          }
        },
        "74c716abddba446b939e6fc51821883f": {
          "model_module": "@jupyter-widgets/base",
          "model_name": "LayoutModel",
          "model_module_version": "1.2.0",
          "state": {
            "_model_module": "@jupyter-widgets/base",
            "_model_module_version": "1.2.0",
            "_model_name": "LayoutModel",
            "_view_count": null,
            "_view_module": "@jupyter-widgets/base",
            "_view_module_version": "1.2.0",
            "_view_name": "LayoutView",
            "align_content": null,
            "align_items": null,
            "align_self": null,
            "border": null,
            "bottom": null,
            "display": null,
            "flex": null,
            "flex_flow": null,
            "grid_area": null,
            "grid_auto_columns": null,
            "grid_auto_flow": null,
            "grid_auto_rows": null,
            "grid_column": null,
            "grid_gap": null,
            "grid_row": null,
            "grid_template_areas": null,
            "grid_template_columns": null,
            "grid_template_rows": null,
            "height": null,
            "justify_content": null,
            "justify_items": null,
            "left": null,
            "margin": null,
            "max_height": null,
            "max_width": null,
            "min_height": null,
            "min_width": null,
            "object_fit": null,
            "object_position": null,
            "order": null,
            "overflow": null,
            "overflow_x": null,
            "overflow_y": null,
            "padding": null,
            "right": null,
            "top": null,
            "visibility": null,
            "width": null
          }
        },
        "0c6530041c724fc796515a75cecea994": {
          "model_module": "@jupyter-widgets/controls",
          "model_name": "DescriptionStyleModel",
          "model_module_version": "1.5.0",
          "state": {
            "_model_module": "@jupyter-widgets/controls",
            "_model_module_version": "1.5.0",
            "_model_name": "DescriptionStyleModel",
            "_view_count": null,
            "_view_module": "@jupyter-widgets/base",
            "_view_module_version": "1.2.0",
            "_view_name": "StyleView",
            "description_width": ""
          }
        },
        "9bfe962a6d8c40d6a41ba982bdcd0fcd": {
          "model_module": "@jupyter-widgets/base",
          "model_name": "LayoutModel",
          "model_module_version": "1.2.0",
          "state": {
            "_model_module": "@jupyter-widgets/base",
            "_model_module_version": "1.2.0",
            "_model_name": "LayoutModel",
            "_view_count": null,
            "_view_module": "@jupyter-widgets/base",
            "_view_module_version": "1.2.0",
            "_view_name": "LayoutView",
            "align_content": null,
            "align_items": null,
            "align_self": null,
            "border": null,
            "bottom": null,
            "display": null,
            "flex": null,
            "flex_flow": null,
            "grid_area": null,
            "grid_auto_columns": null,
            "grid_auto_flow": null,
            "grid_auto_rows": null,
            "grid_column": null,
            "grid_gap": null,
            "grid_row": null,
            "grid_template_areas": null,
            "grid_template_columns": null,
            "grid_template_rows": null,
            "height": null,
            "justify_content": null,
            "justify_items": null,
            "left": null,
            "margin": null,
            "max_height": null,
            "max_width": null,
            "min_height": null,
            "min_width": null,
            "object_fit": null,
            "object_position": null,
            "order": null,
            "overflow": null,
            "overflow_x": null,
            "overflow_y": null,
            "padding": null,
            "right": null,
            "top": null,
            "visibility": null,
            "width": null
          }
        },
        "d4a8f9dad594497ba5b8327c168e6a96": {
          "model_module": "@jupyter-widgets/controls",
          "model_name": "ProgressStyleModel",
          "model_module_version": "1.5.0",
          "state": {
            "_model_module": "@jupyter-widgets/controls",
            "_model_module_version": "1.5.0",
            "_model_name": "ProgressStyleModel",
            "_view_count": null,
            "_view_module": "@jupyter-widgets/base",
            "_view_module_version": "1.2.0",
            "_view_name": "StyleView",
            "bar_color": null,
            "description_width": ""
          }
        },
        "6bbefe6be81749d2aceaa3af8f2c1251": {
          "model_module": "@jupyter-widgets/base",
          "model_name": "LayoutModel",
          "model_module_version": "1.2.0",
          "state": {
            "_model_module": "@jupyter-widgets/base",
            "_model_module_version": "1.2.0",
            "_model_name": "LayoutModel",
            "_view_count": null,
            "_view_module": "@jupyter-widgets/base",
            "_view_module_version": "1.2.0",
            "_view_name": "LayoutView",
            "align_content": null,
            "align_items": null,
            "align_self": null,
            "border": null,
            "bottom": null,
            "display": null,
            "flex": null,
            "flex_flow": null,
            "grid_area": null,
            "grid_auto_columns": null,
            "grid_auto_flow": null,
            "grid_auto_rows": null,
            "grid_column": null,
            "grid_gap": null,
            "grid_row": null,
            "grid_template_areas": null,
            "grid_template_columns": null,
            "grid_template_rows": null,
            "height": null,
            "justify_content": null,
            "justify_items": null,
            "left": null,
            "margin": null,
            "max_height": null,
            "max_width": null,
            "min_height": null,
            "min_width": null,
            "object_fit": null,
            "object_position": null,
            "order": null,
            "overflow": null,
            "overflow_x": null,
            "overflow_y": null,
            "padding": null,
            "right": null,
            "top": null,
            "visibility": null,
            "width": null
          }
        },
        "d7a346829723466aa0266c31c37dce85": {
          "model_module": "@jupyter-widgets/controls",
          "model_name": "DescriptionStyleModel",
          "model_module_version": "1.5.0",
          "state": {
            "_model_module": "@jupyter-widgets/controls",
            "_model_module_version": "1.5.0",
            "_model_name": "DescriptionStyleModel",
            "_view_count": null,
            "_view_module": "@jupyter-widgets/base",
            "_view_module_version": "1.2.0",
            "_view_name": "StyleView",
            "description_width": ""
          }
        },
        "5b0df0ebd494402fbb758962808d33e2": {
          "model_module": "@jupyter-widgets/controls",
          "model_name": "HBoxModel",
          "model_module_version": "1.5.0",
          "state": {
            "_dom_classes": [],
            "_model_module": "@jupyter-widgets/controls",
            "_model_module_version": "1.5.0",
            "_model_name": "HBoxModel",
            "_view_count": null,
            "_view_module": "@jupyter-widgets/controls",
            "_view_module_version": "1.5.0",
            "_view_name": "HBoxView",
            "box_style": "",
            "children": [
              "IPY_MODEL_4dc1e87fe8c04656b8d21e259063dffa",
              "IPY_MODEL_2b6d29c96aa94d96b0491b25652043f5",
              "IPY_MODEL_cf555773f8bd410d886eb7d4d1feaaef"
            ],
            "layout": "IPY_MODEL_c93957ce4c5445bba38978319b4a3970"
          }
        },
        "4dc1e87fe8c04656b8d21e259063dffa": {
          "model_module": "@jupyter-widgets/controls",
          "model_name": "HTMLModel",
          "model_module_version": "1.5.0",
          "state": {
            "_dom_classes": [],
            "_model_module": "@jupyter-widgets/controls",
            "_model_module_version": "1.5.0",
            "_model_name": "HTMLModel",
            "_view_count": null,
            "_view_module": "@jupyter-widgets/controls",
            "_view_module_version": "1.5.0",
            "_view_name": "HTMLView",
            "description": "",
            "description_tooltip": null,
            "layout": "IPY_MODEL_cbae30b584a949c7b2bad4faa190ca18",
            "placeholder": "​",
            "style": "IPY_MODEL_c4de1f801ed94496a83464ed55a6085b",
            "value": "100%"
          }
        },
        "2b6d29c96aa94d96b0491b25652043f5": {
          "model_module": "@jupyter-widgets/controls",
          "model_name": "FloatProgressModel",
          "model_module_version": "1.5.0",
          "state": {
            "_dom_classes": [],
            "_model_module": "@jupyter-widgets/controls",
            "_model_module_version": "1.5.0",
            "_model_name": "FloatProgressModel",
            "_view_count": null,
            "_view_module": "@jupyter-widgets/controls",
            "_view_module_version": "1.5.0",
            "_view_name": "ProgressView",
            "bar_style": "success",
            "description": "",
            "description_tooltip": null,
            "layout": "IPY_MODEL_9bd613f0e8d94226a050fc0788dc609f",
            "max": 378,
            "min": 0,
            "orientation": "horizontal",
            "style": "IPY_MODEL_6f27a2a1784b4c7cac0e2689ccfbc1a7",
            "value": 378
          }
        },
        "cf555773f8bd410d886eb7d4d1feaaef": {
          "model_module": "@jupyter-widgets/controls",
          "model_name": "HTMLModel",
          "model_module_version": "1.5.0",
          "state": {
            "_dom_classes": [],
            "_model_module": "@jupyter-widgets/controls",
            "_model_module_version": "1.5.0",
            "_model_name": "HTMLModel",
            "_view_count": null,
            "_view_module": "@jupyter-widgets/controls",
            "_view_module_version": "1.5.0",
            "_view_name": "HTMLView",
            "description": "",
            "description_tooltip": null,
            "layout": "IPY_MODEL_e3c8c846c7f645969681407cb8cb78a1",
            "placeholder": "​",
            "style": "IPY_MODEL_6162020a364d4f50b705e89fcf032c71",
            "value": " 378/378 [02:33&lt;00:00,  2.90it/s]"
          }
        },
        "c93957ce4c5445bba38978319b4a3970": {
          "model_module": "@jupyter-widgets/base",
          "model_name": "LayoutModel",
          "model_module_version": "1.2.0",
          "state": {
            "_model_module": "@jupyter-widgets/base",
            "_model_module_version": "1.2.0",
            "_model_name": "LayoutModel",
            "_view_count": null,
            "_view_module": "@jupyter-widgets/base",
            "_view_module_version": "1.2.0",
            "_view_name": "LayoutView",
            "align_content": null,
            "align_items": null,
            "align_self": null,
            "border": null,
            "bottom": null,
            "display": null,
            "flex": null,
            "flex_flow": null,
            "grid_area": null,
            "grid_auto_columns": null,
            "grid_auto_flow": null,
            "grid_auto_rows": null,
            "grid_column": null,
            "grid_gap": null,
            "grid_row": null,
            "grid_template_areas": null,
            "grid_template_columns": null,
            "grid_template_rows": null,
            "height": null,
            "justify_content": null,
            "justify_items": null,
            "left": null,
            "margin": null,
            "max_height": null,
            "max_width": null,
            "min_height": null,
            "min_width": null,
            "object_fit": null,
            "object_position": null,
            "order": null,
            "overflow": null,
            "overflow_x": null,
            "overflow_y": null,
            "padding": null,
            "right": null,
            "top": null,
            "visibility": null,
            "width": null
          }
        },
        "cbae30b584a949c7b2bad4faa190ca18": {
          "model_module": "@jupyter-widgets/base",
          "model_name": "LayoutModel",
          "model_module_version": "1.2.0",
          "state": {
            "_model_module": "@jupyter-widgets/base",
            "_model_module_version": "1.2.0",
            "_model_name": "LayoutModel",
            "_view_count": null,
            "_view_module": "@jupyter-widgets/base",
            "_view_module_version": "1.2.0",
            "_view_name": "LayoutView",
            "align_content": null,
            "align_items": null,
            "align_self": null,
            "border": null,
            "bottom": null,
            "display": null,
            "flex": null,
            "flex_flow": null,
            "grid_area": null,
            "grid_auto_columns": null,
            "grid_auto_flow": null,
            "grid_auto_rows": null,
            "grid_column": null,
            "grid_gap": null,
            "grid_row": null,
            "grid_template_areas": null,
            "grid_template_columns": null,
            "grid_template_rows": null,
            "height": null,
            "justify_content": null,
            "justify_items": null,
            "left": null,
            "margin": null,
            "max_height": null,
            "max_width": null,
            "min_height": null,
            "min_width": null,
            "object_fit": null,
            "object_position": null,
            "order": null,
            "overflow": null,
            "overflow_x": null,
            "overflow_y": null,
            "padding": null,
            "right": null,
            "top": null,
            "visibility": null,
            "width": null
          }
        },
        "c4de1f801ed94496a83464ed55a6085b": {
          "model_module": "@jupyter-widgets/controls",
          "model_name": "DescriptionStyleModel",
          "model_module_version": "1.5.0",
          "state": {
            "_model_module": "@jupyter-widgets/controls",
            "_model_module_version": "1.5.0",
            "_model_name": "DescriptionStyleModel",
            "_view_count": null,
            "_view_module": "@jupyter-widgets/base",
            "_view_module_version": "1.2.0",
            "_view_name": "StyleView",
            "description_width": ""
          }
        },
        "9bd613f0e8d94226a050fc0788dc609f": {
          "model_module": "@jupyter-widgets/base",
          "model_name": "LayoutModel",
          "model_module_version": "1.2.0",
          "state": {
            "_model_module": "@jupyter-widgets/base",
            "_model_module_version": "1.2.0",
            "_model_name": "LayoutModel",
            "_view_count": null,
            "_view_module": "@jupyter-widgets/base",
            "_view_module_version": "1.2.0",
            "_view_name": "LayoutView",
            "align_content": null,
            "align_items": null,
            "align_self": null,
            "border": null,
            "bottom": null,
            "display": null,
            "flex": null,
            "flex_flow": null,
            "grid_area": null,
            "grid_auto_columns": null,
            "grid_auto_flow": null,
            "grid_auto_rows": null,
            "grid_column": null,
            "grid_gap": null,
            "grid_row": null,
            "grid_template_areas": null,
            "grid_template_columns": null,
            "grid_template_rows": null,
            "height": null,
            "justify_content": null,
            "justify_items": null,
            "left": null,
            "margin": null,
            "max_height": null,
            "max_width": null,
            "min_height": null,
            "min_width": null,
            "object_fit": null,
            "object_position": null,
            "order": null,
            "overflow": null,
            "overflow_x": null,
            "overflow_y": null,
            "padding": null,
            "right": null,
            "top": null,
            "visibility": null,
            "width": null
          }
        },
        "6f27a2a1784b4c7cac0e2689ccfbc1a7": {
          "model_module": "@jupyter-widgets/controls",
          "model_name": "ProgressStyleModel",
          "model_module_version": "1.5.0",
          "state": {
            "_model_module": "@jupyter-widgets/controls",
            "_model_module_version": "1.5.0",
            "_model_name": "ProgressStyleModel",
            "_view_count": null,
            "_view_module": "@jupyter-widgets/base",
            "_view_module_version": "1.2.0",
            "_view_name": "StyleView",
            "bar_color": null,
            "description_width": ""
          }
        },
        "e3c8c846c7f645969681407cb8cb78a1": {
          "model_module": "@jupyter-widgets/base",
          "model_name": "LayoutModel",
          "model_module_version": "1.2.0",
          "state": {
            "_model_module": "@jupyter-widgets/base",
            "_model_module_version": "1.2.0",
            "_model_name": "LayoutModel",
            "_view_count": null,
            "_view_module": "@jupyter-widgets/base",
            "_view_module_version": "1.2.0",
            "_view_name": "LayoutView",
            "align_content": null,
            "align_items": null,
            "align_self": null,
            "border": null,
            "bottom": null,
            "display": null,
            "flex": null,
            "flex_flow": null,
            "grid_area": null,
            "grid_auto_columns": null,
            "grid_auto_flow": null,
            "grid_auto_rows": null,
            "grid_column": null,
            "grid_gap": null,
            "grid_row": null,
            "grid_template_areas": null,
            "grid_template_columns": null,
            "grid_template_rows": null,
            "height": null,
            "justify_content": null,
            "justify_items": null,
            "left": null,
            "margin": null,
            "max_height": null,
            "max_width": null,
            "min_height": null,
            "min_width": null,
            "object_fit": null,
            "object_position": null,
            "order": null,
            "overflow": null,
            "overflow_x": null,
            "overflow_y": null,
            "padding": null,
            "right": null,
            "top": null,
            "visibility": null,
            "width": null
          }
        },
        "6162020a364d4f50b705e89fcf032c71": {
          "model_module": "@jupyter-widgets/controls",
          "model_name": "DescriptionStyleModel",
          "model_module_version": "1.5.0",
          "state": {
            "_model_module": "@jupyter-widgets/controls",
            "_model_module_version": "1.5.0",
            "_model_name": "DescriptionStyleModel",
            "_view_count": null,
            "_view_module": "@jupyter-widgets/base",
            "_view_module_version": "1.2.0",
            "_view_name": "StyleView",
            "description_width": ""
          }
        },
        "e960ed77baf545a4a267489fbf4619a6": {
          "model_module": "@jupyter-widgets/controls",
          "model_name": "HBoxModel",
          "model_module_version": "1.5.0",
          "state": {
            "_dom_classes": [],
            "_model_module": "@jupyter-widgets/controls",
            "_model_module_version": "1.5.0",
            "_model_name": "HBoxModel",
            "_view_count": null,
            "_view_module": "@jupyter-widgets/controls",
            "_view_module_version": "1.5.0",
            "_view_name": "HBoxView",
            "box_style": "",
            "children": [
              "IPY_MODEL_58fbc861429d49878200127b9a981771",
              "IPY_MODEL_2f61fc95a21747b2a164b0cd2943f333",
              "IPY_MODEL_4a5de9a0aefb4baca46cb872ed088b55"
            ],
            "layout": "IPY_MODEL_a9f4c1c8cdd84daf92f6f8c60c23f3e3"
          }
        },
        "58fbc861429d49878200127b9a981771": {
          "model_module": "@jupyter-widgets/controls",
          "model_name": "HTMLModel",
          "model_module_version": "1.5.0",
          "state": {
            "_dom_classes": [],
            "_model_module": "@jupyter-widgets/controls",
            "_model_module_version": "1.5.0",
            "_model_name": "HTMLModel",
            "_view_count": null,
            "_view_module": "@jupyter-widgets/controls",
            "_view_module_version": "1.5.0",
            "_view_name": "HTMLView",
            "description": "",
            "description_tooltip": null,
            "layout": "IPY_MODEL_83ad39e336e74f78a9e11b20e238dd5b",
            "placeholder": "​",
            "style": "IPY_MODEL_4aa8e20a553e4ed48925177105bf4544",
            "value": "100%"
          }
        },
        "2f61fc95a21747b2a164b0cd2943f333": {
          "model_module": "@jupyter-widgets/controls",
          "model_name": "FloatProgressModel",
          "model_module_version": "1.5.0",
          "state": {
            "_dom_classes": [],
            "_model_module": "@jupyter-widgets/controls",
            "_model_module_version": "1.5.0",
            "_model_name": "FloatProgressModel",
            "_view_count": null,
            "_view_module": "@jupyter-widgets/controls",
            "_view_module_version": "1.5.0",
            "_view_name": "ProgressView",
            "bar_style": "success",
            "description": "",
            "description_tooltip": null,
            "layout": "IPY_MODEL_32af461843634adba61e6401da0911b0",
            "max": 378,
            "min": 0,
            "orientation": "horizontal",
            "style": "IPY_MODEL_a1e30e7fe4f94da1b798ed8c48eba6ce",
            "value": 378
          }
        },
        "4a5de9a0aefb4baca46cb872ed088b55": {
          "model_module": "@jupyter-widgets/controls",
          "model_name": "HTMLModel",
          "model_module_version": "1.5.0",
          "state": {
            "_dom_classes": [],
            "_model_module": "@jupyter-widgets/controls",
            "_model_module_version": "1.5.0",
            "_model_name": "HTMLModel",
            "_view_count": null,
            "_view_module": "@jupyter-widgets/controls",
            "_view_module_version": "1.5.0",
            "_view_name": "HTMLView",
            "description": "",
            "description_tooltip": null,
            "layout": "IPY_MODEL_14e36b2d8d69437297f22841ecc74dbc",
            "placeholder": "​",
            "style": "IPY_MODEL_3e715db148284f8aa1dc1f7a68c6279a",
            "value": " 378/378 [02:33&lt;00:00,  2.67it/s]"
          }
        },
        "a9f4c1c8cdd84daf92f6f8c60c23f3e3": {
          "model_module": "@jupyter-widgets/base",
          "model_name": "LayoutModel",
          "model_module_version": "1.2.0",
          "state": {
            "_model_module": "@jupyter-widgets/base",
            "_model_module_version": "1.2.0",
            "_model_name": "LayoutModel",
            "_view_count": null,
            "_view_module": "@jupyter-widgets/base",
            "_view_module_version": "1.2.0",
            "_view_name": "LayoutView",
            "align_content": null,
            "align_items": null,
            "align_self": null,
            "border": null,
            "bottom": null,
            "display": null,
            "flex": null,
            "flex_flow": null,
            "grid_area": null,
            "grid_auto_columns": null,
            "grid_auto_flow": null,
            "grid_auto_rows": null,
            "grid_column": null,
            "grid_gap": null,
            "grid_row": null,
            "grid_template_areas": null,
            "grid_template_columns": null,
            "grid_template_rows": null,
            "height": null,
            "justify_content": null,
            "justify_items": null,
            "left": null,
            "margin": null,
            "max_height": null,
            "max_width": null,
            "min_height": null,
            "min_width": null,
            "object_fit": null,
            "object_position": null,
            "order": null,
            "overflow": null,
            "overflow_x": null,
            "overflow_y": null,
            "padding": null,
            "right": null,
            "top": null,
            "visibility": null,
            "width": null
          }
        },
        "83ad39e336e74f78a9e11b20e238dd5b": {
          "model_module": "@jupyter-widgets/base",
          "model_name": "LayoutModel",
          "model_module_version": "1.2.0",
          "state": {
            "_model_module": "@jupyter-widgets/base",
            "_model_module_version": "1.2.0",
            "_model_name": "LayoutModel",
            "_view_count": null,
            "_view_module": "@jupyter-widgets/base",
            "_view_module_version": "1.2.0",
            "_view_name": "LayoutView",
            "align_content": null,
            "align_items": null,
            "align_self": null,
            "border": null,
            "bottom": null,
            "display": null,
            "flex": null,
            "flex_flow": null,
            "grid_area": null,
            "grid_auto_columns": null,
            "grid_auto_flow": null,
            "grid_auto_rows": null,
            "grid_column": null,
            "grid_gap": null,
            "grid_row": null,
            "grid_template_areas": null,
            "grid_template_columns": null,
            "grid_template_rows": null,
            "height": null,
            "justify_content": null,
            "justify_items": null,
            "left": null,
            "margin": null,
            "max_height": null,
            "max_width": null,
            "min_height": null,
            "min_width": null,
            "object_fit": null,
            "object_position": null,
            "order": null,
            "overflow": null,
            "overflow_x": null,
            "overflow_y": null,
            "padding": null,
            "right": null,
            "top": null,
            "visibility": null,
            "width": null
          }
        },
        "4aa8e20a553e4ed48925177105bf4544": {
          "model_module": "@jupyter-widgets/controls",
          "model_name": "DescriptionStyleModel",
          "model_module_version": "1.5.0",
          "state": {
            "_model_module": "@jupyter-widgets/controls",
            "_model_module_version": "1.5.0",
            "_model_name": "DescriptionStyleModel",
            "_view_count": null,
            "_view_module": "@jupyter-widgets/base",
            "_view_module_version": "1.2.0",
            "_view_name": "StyleView",
            "description_width": ""
          }
        },
        "32af461843634adba61e6401da0911b0": {
          "model_module": "@jupyter-widgets/base",
          "model_name": "LayoutModel",
          "model_module_version": "1.2.0",
          "state": {
            "_model_module": "@jupyter-widgets/base",
            "_model_module_version": "1.2.0",
            "_model_name": "LayoutModel",
            "_view_count": null,
            "_view_module": "@jupyter-widgets/base",
            "_view_module_version": "1.2.0",
            "_view_name": "LayoutView",
            "align_content": null,
            "align_items": null,
            "align_self": null,
            "border": null,
            "bottom": null,
            "display": null,
            "flex": null,
            "flex_flow": null,
            "grid_area": null,
            "grid_auto_columns": null,
            "grid_auto_flow": null,
            "grid_auto_rows": null,
            "grid_column": null,
            "grid_gap": null,
            "grid_row": null,
            "grid_template_areas": null,
            "grid_template_columns": null,
            "grid_template_rows": null,
            "height": null,
            "justify_content": null,
            "justify_items": null,
            "left": null,
            "margin": null,
            "max_height": null,
            "max_width": null,
            "min_height": null,
            "min_width": null,
            "object_fit": null,
            "object_position": null,
            "order": null,
            "overflow": null,
            "overflow_x": null,
            "overflow_y": null,
            "padding": null,
            "right": null,
            "top": null,
            "visibility": null,
            "width": null
          }
        },
        "a1e30e7fe4f94da1b798ed8c48eba6ce": {
          "model_module": "@jupyter-widgets/controls",
          "model_name": "ProgressStyleModel",
          "model_module_version": "1.5.0",
          "state": {
            "_model_module": "@jupyter-widgets/controls",
            "_model_module_version": "1.5.0",
            "_model_name": "ProgressStyleModel",
            "_view_count": null,
            "_view_module": "@jupyter-widgets/base",
            "_view_module_version": "1.2.0",
            "_view_name": "StyleView",
            "bar_color": null,
            "description_width": ""
          }
        },
        "14e36b2d8d69437297f22841ecc74dbc": {
          "model_module": "@jupyter-widgets/base",
          "model_name": "LayoutModel",
          "model_module_version": "1.2.0",
          "state": {
            "_model_module": "@jupyter-widgets/base",
            "_model_module_version": "1.2.0",
            "_model_name": "LayoutModel",
            "_view_count": null,
            "_view_module": "@jupyter-widgets/base",
            "_view_module_version": "1.2.0",
            "_view_name": "LayoutView",
            "align_content": null,
            "align_items": null,
            "align_self": null,
            "border": null,
            "bottom": null,
            "display": null,
            "flex": null,
            "flex_flow": null,
            "grid_area": null,
            "grid_auto_columns": null,
            "grid_auto_flow": null,
            "grid_auto_rows": null,
            "grid_column": null,
            "grid_gap": null,
            "grid_row": null,
            "grid_template_areas": null,
            "grid_template_columns": null,
            "grid_template_rows": null,
            "height": null,
            "justify_content": null,
            "justify_items": null,
            "left": null,
            "margin": null,
            "max_height": null,
            "max_width": null,
            "min_height": null,
            "min_width": null,
            "object_fit": null,
            "object_position": null,
            "order": null,
            "overflow": null,
            "overflow_x": null,
            "overflow_y": null,
            "padding": null,
            "right": null,
            "top": null,
            "visibility": null,
            "width": null
          }
        },
        "3e715db148284f8aa1dc1f7a68c6279a": {
          "model_module": "@jupyter-widgets/controls",
          "model_name": "DescriptionStyleModel",
          "model_module_version": "1.5.0",
          "state": {
            "_model_module": "@jupyter-widgets/controls",
            "_model_module_version": "1.5.0",
            "_model_name": "DescriptionStyleModel",
            "_view_count": null,
            "_view_module": "@jupyter-widgets/base",
            "_view_module_version": "1.2.0",
            "_view_name": "StyleView",
            "description_width": ""
          }
        }
      }
    }
  },
  "cells": [
    {
      "cell_type": "markdown",
      "source": [
        "**Задание**\n",
        "\n",
        "Сгенерировать последовательности, которые бы состояли из цифр (от 0 до 9)\n",
        "и задавались следующим образом:\n",
        "\n",
        "x - последовательность цифр\n",
        "\n",
        "y1 = x1, y(i) = x(i) + x(1). Если y(i) >= 10, то y(i) = y(i) - 10\n",
        "\n",
        "**Задача**:\n",
        "\n",
        "научить модель предсказывать y(i) по x(i)\n",
        "\n",
        "пробовать RNN, LSTM, GRU\n",
        "\n",
        "**Задание 2:**\n",
        "\n",
        "применить LSTM для решения лекционного практического задания"
      ],
      "metadata": {
        "id": "_Q0sZlbnBlkm"
      }
    },
    {
      "cell_type": "markdown",
      "source": [
        "#Задание 1:"
      ],
      "metadata": {
        "id": "YhCVDxDLFoNq"
      }
    },
    {
      "cell_type": "code",
      "execution_count": null,
      "metadata": {
        "id": "G_UMz_CC2p3W"
      },
      "outputs": [],
      "source": [
        "import torch\n",
        "from torch import nn\n",
        "import random\n",
        "import tqdm\n",
        "import time"
      ]
    },
    {
      "cell_type": "code",
      "source": [
        "tensor_10 = torch.randint(10, (1000,10))\n",
        "tensor_10[0:3]"
      ],
      "metadata": {
        "colab": {
          "base_uri": "https://localhost:8080/"
        },
        "id": "4Qp5LLpxDl4Z",
        "outputId": "2e5bd5ad-7b01-43b2-dd1a-45c4531a90d4"
      },
      "execution_count": null,
      "outputs": [
        {
          "output_type": "execute_result",
          "data": {
            "text/plain": [
              "tensor([[5, 9, 6, 8, 4, 5, 2, 6, 4, 2],\n",
              "        [7, 8, 0, 0, 2, 0, 5, 9, 9, 0],\n",
              "        [3, 4, 5, 5, 0, 9, 2, 9, 9, 5]])"
            ]
          },
          "metadata": {},
          "execution_count": 2
        }
      ]
    },
    {
      "cell_type": "code",
      "source": [
        "tensor_40 = torch.randint(10, (1000,40))\n",
        "tensor_40[0:3]"
      ],
      "metadata": {
        "colab": {
          "base_uri": "https://localhost:8080/"
        },
        "id": "bJocyygyINZg",
        "outputId": "1163d2c9-00cd-4c97-e1bb-762e0b64f94e"
      },
      "execution_count": null,
      "outputs": [
        {
          "output_type": "execute_result",
          "data": {
            "text/plain": [
              "tensor([[7, 7, 7, 8, 2, 2, 4, 3, 4, 6, 5, 8, 2, 9, 8, 1, 4, 9, 3, 0, 7, 5, 6, 3,\n",
              "         6, 6, 8, 3, 6, 7, 3, 2, 4, 8, 7, 9, 5, 2, 4, 5],\n",
              "        [3, 0, 0, 6, 6, 8, 2, 9, 1, 1, 8, 7, 2, 6, 0, 8, 1, 7, 2, 4, 3, 4, 9, 9,\n",
              "         5, 0, 5, 4, 9, 5, 2, 1, 4, 6, 5, 0, 2, 8, 3, 2],\n",
              "        [2, 6, 9, 8, 7, 7, 2, 3, 4, 6, 1, 2, 3, 8, 1, 8, 5, 9, 5, 2, 1, 4, 0, 4,\n",
              "         4, 2, 6, 9, 5, 5, 7, 7, 1, 0, 0, 2, 3, 8, 1, 5]])"
            ]
          },
          "metadata": {},
          "execution_count": 3
        }
      ]
    },
    {
      "cell_type": "code",
      "source": [
        "tensor_80 = torch.randint(10, (1000,80))\n",
        "tensor_80[0:3]"
      ],
      "metadata": {
        "colab": {
          "base_uri": "https://localhost:8080/"
        },
        "id": "zxuvGxeXIk4Y",
        "outputId": "f3e31b4a-852f-4e5f-f61d-9d59aff486ae"
      },
      "execution_count": null,
      "outputs": [
        {
          "output_type": "execute_result",
          "data": {
            "text/plain": [
              "tensor([[6, 6, 6, 9, 0, 6, 8, 5, 3, 9, 0, 9, 5, 5, 0, 7, 5, 6, 3, 3, 1, 1, 0, 6,\n",
              "         0, 8, 7, 6, 5, 3, 0, 6, 2, 1, 9, 5, 4, 7, 8, 6, 3, 3, 5, 6, 0, 2, 4, 3,\n",
              "         0, 1, 9, 5, 8, 6, 4, 7, 4, 9, 8, 8, 6, 4, 9, 6, 1, 1, 5, 3, 0, 2, 3, 4,\n",
              "         4, 9, 7, 4, 8, 3, 6, 8],\n",
              "        [6, 1, 8, 7, 2, 5, 0, 4, 0, 9, 3, 1, 6, 6, 1, 9, 0, 5, 0, 2, 6, 5, 9, 7,\n",
              "         5, 2, 1, 7, 9, 0, 8, 9, 4, 6, 5, 4, 2, 3, 8, 2, 2, 6, 9, 9, 1, 4, 6, 8,\n",
              "         9, 1, 4, 4, 8, 7, 0, 8, 9, 4, 6, 0, 8, 6, 8, 2, 5, 6, 9, 8, 1, 4, 6, 6,\n",
              "         4, 2, 3, 2, 4, 9, 3, 4],\n",
              "        [2, 7, 3, 1, 3, 0, 7, 1, 5, 2, 5, 7, 0, 3, 5, 9, 9, 7, 2, 0, 4, 7, 4, 2,\n",
              "         3, 2, 5, 6, 9, 2, 2, 2, 3, 6, 7, 1, 9, 0, 2, 5, 4, 0, 6, 7, 8, 3, 8, 9,\n",
              "         6, 4, 8, 9, 3, 1, 0, 5, 8, 2, 4, 4, 1, 4, 2, 4, 9, 6, 7, 1, 7, 3, 2, 5,\n",
              "         0, 1, 8, 7, 3, 4, 1, 6]])"
            ]
          },
          "metadata": {},
          "execution_count": 4
        }
      ]
    },
    {
      "cell_type": "code",
      "source": [
        "def transform(tensor):\n",
        "    y = torch.zeros_like(tensor)\n",
        "    for j in range(len(y)):\n",
        "        for i in range(len(y[1,:])):\n",
        "            y[j,0] = tensor[j,0]\n",
        "            #y[j,i] = (y[j,i-1]+tensor[j,i]) % 10\n",
        "            y[j,i] = (tensor[j,i]+y[j,0]) % 10\n",
        "    return y"
      ],
      "metadata": {
        "id": "w3VfWTStEMje"
      },
      "execution_count": null,
      "outputs": []
    },
    {
      "cell_type": "code",
      "source": [
        "transform_tensor_10 = transform(tensor_10)\n",
        "tensor_10[:3], transform_tensor_10[:3]"
      ],
      "metadata": {
        "colab": {
          "base_uri": "https://localhost:8080/"
        },
        "id": "jfvfdmpwF0r1",
        "outputId": "12aada44-4aac-4131-e147-2831dd06fc45"
      },
      "execution_count": null,
      "outputs": [
        {
          "output_type": "execute_result",
          "data": {
            "text/plain": [
              "(tensor([[5, 9, 6, 8, 4, 5, 2, 6, 4, 2],\n",
              "         [7, 8, 0, 0, 2, 0, 5, 9, 9, 0],\n",
              "         [3, 4, 5, 5, 0, 9, 2, 9, 9, 5]]),\n",
              " tensor([[5, 4, 1, 3, 9, 0, 7, 1, 9, 7],\n",
              "         [7, 5, 7, 7, 9, 7, 2, 6, 6, 7],\n",
              "         [3, 7, 8, 8, 3, 2, 5, 2, 2, 8]]))"
            ]
          },
          "metadata": {},
          "execution_count": 6
        }
      ]
    },
    {
      "cell_type": "code",
      "source": [
        "transform_tensor_40 = transform(tensor_40)\n",
        "tensor_40[:3], transform_tensor_40[:3]"
      ],
      "metadata": {
        "colab": {
          "base_uri": "https://localhost:8080/"
        },
        "id": "PUyqTo6TP5b3",
        "outputId": "a27edd2e-d7ef-4266-da40-54099e538bda"
      },
      "execution_count": null,
      "outputs": [
        {
          "output_type": "execute_result",
          "data": {
            "text/plain": [
              "(tensor([[7, 7, 7, 8, 2, 2, 4, 3, 4, 6, 5, 8, 2, 9, 8, 1, 4, 9, 3, 0, 7, 5, 6, 3,\n",
              "          6, 6, 8, 3, 6, 7, 3, 2, 4, 8, 7, 9, 5, 2, 4, 5],\n",
              "         [3, 0, 0, 6, 6, 8, 2, 9, 1, 1, 8, 7, 2, 6, 0, 8, 1, 7, 2, 4, 3, 4, 9, 9,\n",
              "          5, 0, 5, 4, 9, 5, 2, 1, 4, 6, 5, 0, 2, 8, 3, 2],\n",
              "         [2, 6, 9, 8, 7, 7, 2, 3, 4, 6, 1, 2, 3, 8, 1, 8, 5, 9, 5, 2, 1, 4, 0, 4,\n",
              "          4, 2, 6, 9, 5, 5, 7, 7, 1, 0, 0, 2, 3, 8, 1, 5]]),\n",
              " tensor([[7, 4, 4, 5, 9, 9, 1, 0, 1, 3, 2, 5, 9, 6, 5, 8, 1, 6, 0, 7, 4, 2, 3, 0,\n",
              "          3, 3, 5, 0, 3, 4, 0, 9, 1, 5, 4, 6, 2, 9, 1, 2],\n",
              "         [3, 3, 3, 9, 9, 1, 5, 2, 4, 4, 1, 0, 5, 9, 3, 1, 4, 0, 5, 7, 6, 7, 2, 2,\n",
              "          8, 3, 8, 7, 2, 8, 5, 4, 7, 9, 8, 3, 5, 1, 6, 5],\n",
              "         [2, 8, 1, 0, 9, 9, 4, 5, 6, 8, 3, 4, 5, 0, 3, 0, 7, 1, 7, 4, 3, 6, 2, 6,\n",
              "          6, 4, 8, 1, 7, 7, 9, 9, 3, 2, 2, 4, 5, 0, 3, 7]]))"
            ]
          },
          "metadata": {},
          "execution_count": 7
        }
      ]
    },
    {
      "cell_type": "code",
      "source": [
        "transform_tensor_80 = transform(tensor_80)\n",
        "tensor_80[:3], transform_tensor_80[:3]"
      ],
      "metadata": {
        "colab": {
          "base_uri": "https://localhost:8080/"
        },
        "id": "bQWdIVQ8V-Ff",
        "outputId": "cca729d1-e1d9-423a-e2da-7db1021168ca"
      },
      "execution_count": null,
      "outputs": [
        {
          "output_type": "execute_result",
          "data": {
            "text/plain": [
              "(tensor([[6, 6, 6, 9, 0, 6, 8, 5, 3, 9, 0, 9, 5, 5, 0, 7, 5, 6, 3, 3, 1, 1, 0, 6,\n",
              "          0, 8, 7, 6, 5, 3, 0, 6, 2, 1, 9, 5, 4, 7, 8, 6, 3, 3, 5, 6, 0, 2, 4, 3,\n",
              "          0, 1, 9, 5, 8, 6, 4, 7, 4, 9, 8, 8, 6, 4, 9, 6, 1, 1, 5, 3, 0, 2, 3, 4,\n",
              "          4, 9, 7, 4, 8, 3, 6, 8],\n",
              "         [6, 1, 8, 7, 2, 5, 0, 4, 0, 9, 3, 1, 6, 6, 1, 9, 0, 5, 0, 2, 6, 5, 9, 7,\n",
              "          5, 2, 1, 7, 9, 0, 8, 9, 4, 6, 5, 4, 2, 3, 8, 2, 2, 6, 9, 9, 1, 4, 6, 8,\n",
              "          9, 1, 4, 4, 8, 7, 0, 8, 9, 4, 6, 0, 8, 6, 8, 2, 5, 6, 9, 8, 1, 4, 6, 6,\n",
              "          4, 2, 3, 2, 4, 9, 3, 4],\n",
              "         [2, 7, 3, 1, 3, 0, 7, 1, 5, 2, 5, 7, 0, 3, 5, 9, 9, 7, 2, 0, 4, 7, 4, 2,\n",
              "          3, 2, 5, 6, 9, 2, 2, 2, 3, 6, 7, 1, 9, 0, 2, 5, 4, 0, 6, 7, 8, 3, 8, 9,\n",
              "          6, 4, 8, 9, 3, 1, 0, 5, 8, 2, 4, 4, 1, 4, 2, 4, 9, 6, 7, 1, 7, 3, 2, 5,\n",
              "          0, 1, 8, 7, 3, 4, 1, 6]]),\n",
              " tensor([[6, 2, 2, 5, 6, 2, 4, 1, 9, 5, 6, 5, 1, 1, 6, 3, 1, 2, 9, 9, 7, 7, 6, 2,\n",
              "          6, 4, 3, 2, 1, 9, 6, 2, 8, 7, 5, 1, 0, 3, 4, 2, 9, 9, 1, 2, 6, 8, 0, 9,\n",
              "          6, 7, 5, 1, 4, 2, 0, 3, 0, 5, 4, 4, 2, 0, 5, 2, 7, 7, 1, 9, 6, 8, 9, 0,\n",
              "          0, 5, 3, 0, 4, 9, 2, 4],\n",
              "         [6, 7, 4, 3, 8, 1, 6, 0, 6, 5, 9, 7, 2, 2, 7, 5, 6, 1, 6, 8, 2, 1, 5, 3,\n",
              "          1, 8, 7, 3, 5, 6, 4, 5, 0, 2, 1, 0, 8, 9, 4, 8, 8, 2, 5, 5, 7, 0, 2, 4,\n",
              "          5, 7, 0, 0, 4, 3, 6, 4, 5, 0, 2, 6, 4, 2, 4, 8, 1, 2, 5, 4, 7, 0, 2, 2,\n",
              "          0, 8, 9, 8, 0, 5, 9, 0],\n",
              "         [2, 9, 5, 3, 5, 2, 9, 3, 7, 4, 7, 9, 2, 5, 7, 1, 1, 9, 4, 2, 6, 9, 6, 4,\n",
              "          5, 4, 7, 8, 1, 4, 4, 4, 5, 8, 9, 3, 1, 2, 4, 7, 6, 2, 8, 9, 0, 5, 0, 1,\n",
              "          8, 6, 0, 1, 5, 3, 2, 7, 0, 4, 6, 6, 3, 6, 4, 6, 1, 8, 9, 3, 9, 5, 4, 7,\n",
              "          2, 3, 0, 9, 5, 6, 3, 8]]))"
            ]
          },
          "metadata": {},
          "execution_count": 8
        }
      ]
    },
    {
      "cell_type": "code",
      "source": [
        "BATCH_SIZE = 128\n",
        "dataset_10 = torch.utils.data.TensorDataset(tensor_10, transform_tensor_10)\n",
        "data_10 = torch.utils.data.DataLoader(dataset_10, BATCH_SIZE, shuffle=True)\n",
        "\n",
        "dataset_40 = torch.utils.data.TensorDataset(tensor_40, transform_tensor_40)\n",
        "data_40 = torch.utils.data.DataLoader(dataset_40, BATCH_SIZE, shuffle=True)\n",
        "\n",
        "dataset_80 = torch.utils.data.TensorDataset(tensor_80, transform_tensor_80)\n",
        "data_80 = torch.utils.data.DataLoader(dataset_80, BATCH_SIZE, shuffle=True)"
      ],
      "metadata": {
        "id": "9D2CD0dLniXG"
      },
      "execution_count": null,
      "outputs": []
    },
    {
      "cell_type": "code",
      "source": [
        "class NeuralNetwork(nn.Module):\n",
        "    def __init__(self, rnnClass, dictionary_size, embedding_size, num_hiddens, num_classes):\n",
        "        super().__init__()\n",
        "\n",
        "        self.embedding = nn.Embedding(dictionary_size, embedding_size)\n",
        "        self.hidden = rnnClass(embedding_size, num_hiddens, batch_first=True)\n",
        "        self.output = nn.Linear(num_hiddens, num_classes)\n",
        "\n",
        "    def forward(self, X):\n",
        "        out = self.embedding(X)\n",
        "        #_, state = self.hidden(out)\n",
        "        #predictions = self.output(state[0])\n",
        "        out, state = self.hidden(out)\n",
        "        predictions = self.output(out)\n",
        "        if isinstance(self.hidden, nn.LSTM):\n",
        "            predictions = predictions.squeeze(0)\n",
        "        return predictions"
      ],
      "metadata": {
        "id": "q7oxd68pWFPP"
      },
      "execution_count": null,
      "outputs": []
    },
    {
      "cell_type": "code",
      "source": [
        "def train_model(model, loader, n_epochs):\n",
        "    train_losses = []\n",
        "    #train_accuracy = []\n",
        "    criterion = torch.nn.CrossEntropyLoss()\n",
        "    optimizer = torch.optim.SGD(model.parameters(), lr=0.05)\n",
        "\n",
        "    for epoch in range(1, n_epochs + 1):\n",
        "        start = time.time()\n",
        "        train_loss, train_acc, n = 0.0, 0.0, 0\n",
        "\n",
        "        model.train()\n",
        "        for X, y in loader:\n",
        "            optimizer.zero_grad()\n",
        "            y_pred = model.forward(X)\n",
        "            loss = criterion(y_pred, y)#.float())\n",
        "            train_loss += loss.item()\n",
        "            train_acc += (y_pred.argmax(dim=1) == y).sum().item()\n",
        "            n += y.shape[0]*y.shape[1]\n",
        "            loss.backward()\n",
        "            optimizer.step()\n",
        "\n",
        "        train_loss /= len(loader)\n",
        "        train_losses.append(train_loss)\n",
        "        sec = time.time() - start\n",
        "        stat = f'Epoch: {epoch}, time: {sec:.1f}s, loss: {train_loss:.3f}, acc:{train_acc/n:.3f} '\n",
        "        if (epoch) % 200 == 0:\n",
        "            print(stat)\n",
        "\n",
        "\n",
        "    return model, train_losses"
      ],
      "metadata": {
        "id": "bkGj1Klk7OKm"
      },
      "execution_count": null,
      "outputs": []
    },
    {
      "cell_type": "code",
      "source": [
        "embedding_size = 64\n",
        "num_hiddens = 128\n",
        "n_epochs = 3000"
      ],
      "metadata": {
        "id": "qC7HhVMecJmv"
      },
      "execution_count": null,
      "outputs": []
    },
    {
      "cell_type": "code",
      "source": [
        "model_RNN_10 = NeuralNetwork(nn.RNN, 10 , embedding_size, num_hiddens, 10)\n",
        "model, train_losses = train_model(model_RNN_10, data_10, n_epochs)"
      ],
      "metadata": {
        "colab": {
          "base_uri": "https://localhost:8080/"
        },
        "id": "JD3Xh-Zx8eMS",
        "outputId": "e928080e-155b-474c-a0d0-2eb2cf70da0b"
      },
      "execution_count": null,
      "outputs": [
        {
          "output_type": "stream",
          "name": "stdout",
          "text": [
            "Epoch: 200, time: 0.1s, loss: 2.080, acc:0.219 \n",
            "Epoch: 400, time: 0.1s, loss: 1.945, acc:0.303 \n",
            "Epoch: 600, time: 0.1s, loss: 1.764, acc:0.387 \n",
            "Epoch: 800, time: 0.1s, loss: 1.560, acc:0.469 \n",
            "Epoch: 1000, time: 0.1s, loss: 1.354, acc:0.549 \n",
            "Epoch: 1200, time: 0.1s, loss: 1.159, acc:0.624 \n",
            "Epoch: 1400, time: 0.1s, loss: 0.974, acc:0.695 \n",
            "Epoch: 1600, time: 0.1s, loss: 0.824, acc:0.751 \n",
            "Epoch: 1800, time: 0.1s, loss: 0.688, acc:0.801 \n",
            "Epoch: 2000, time: 0.1s, loss: 0.567, acc:0.845 \n",
            "Epoch: 2200, time: 0.1s, loss: 0.481, acc:0.869 \n",
            "Epoch: 2400, time: 0.1s, loss: 0.405, acc:0.894 \n",
            "Epoch: 2600, time: 0.1s, loss: 0.359, acc:0.906 \n",
            "Epoch: 2800, time: 0.1s, loss: 0.313, acc:0.916 \n",
            "Epoch: 3000, time: 0.1s, loss: 0.283, acc:0.924 \n"
          ]
        }
      ]
    },
    {
      "cell_type": "code",
      "source": [
        "model_RNN_40 = NeuralNetwork(nn.RNN, 40, embedding_size, num_hiddens, 40)\n",
        "model, train_losses = train_model(model_RNN_40, data_40, n_epochs)"
      ],
      "metadata": {
        "colab": {
          "base_uri": "https://localhost:8080/"
        },
        "id": "K3lnXWEwpdRV",
        "outputId": "3f4a5902-95b5-44fb-a165-89f7ba6ebaa0"
      },
      "execution_count": null,
      "outputs": [
        {
          "output_type": "stream",
          "name": "stdout",
          "text": [
            "Epoch: 200, time: 0.3s, loss: 2.344, acc:0.117 \n",
            "Epoch: 400, time: 0.3s, loss: 2.310, acc:0.130 \n",
            "Epoch: 600, time: 0.2s, loss: 2.277, acc:0.134 \n",
            "Epoch: 800, time: 0.3s, loss: 2.264, acc:0.143 \n",
            "Epoch: 1000, time: 0.2s, loss: 2.251, acc:0.151 \n",
            "Epoch: 1200, time: 0.3s, loss: 2.241, acc:0.157 \n",
            "Epoch: 1400, time: 0.3s, loss: 2.231, acc:0.163 \n",
            "Epoch: 1600, time: 0.3s, loss: 2.222, acc:0.170 \n",
            "Epoch: 1800, time: 0.3s, loss: 2.216, acc:0.174 \n",
            "Epoch: 2000, time: 0.3s, loss: 2.208, acc:0.179 \n",
            "Epoch: 2200, time: 0.2s, loss: 2.201, acc:0.183 \n",
            "Epoch: 2400, time: 0.3s, loss: 2.192, acc:0.187 \n",
            "Epoch: 2600, time: 0.2s, loss: 2.185, acc:0.192 \n",
            "Epoch: 2800, time: 0.2s, loss: 2.178, acc:0.197 \n",
            "Epoch: 3000, time: 0.4s, loss: 2.172, acc:0.199 \n"
          ]
        }
      ]
    },
    {
      "cell_type": "code",
      "source": [
        "model_RNN_80 = NeuralNetwork(nn.RNN, 80, embedding_size, num_hiddens, 80)\n",
        "model, train_losses = train_model(model_RNN_80, data_80, n_epochs)"
      ],
      "metadata": {
        "colab": {
          "base_uri": "https://localhost:8080/"
        },
        "id": "EMWI0K4_CmxH",
        "outputId": "916ec1c6-dbda-4923-ee90-bcc57c45b1f6"
      },
      "execution_count": null,
      "outputs": [
        {
          "output_type": "stream",
          "name": "stdout",
          "text": [
            "Epoch: 200, time: 0.5s, loss: 2.343, acc:0.112 \n",
            "Epoch: 400, time: 0.6s, loss: 2.311, acc:0.118 \n",
            "Epoch: 600, time: 0.6s, loss: 2.294, acc:0.125 \n",
            "Epoch: 800, time: 0.8s, loss: 2.288, acc:0.131 \n",
            "Epoch: 1000, time: 0.5s, loss: 2.283, acc:0.136 \n",
            "Epoch: 1200, time: 0.5s, loss: 2.279, acc:0.138 \n",
            "Epoch: 1400, time: 0.6s, loss: 2.275, acc:0.142 \n",
            "Epoch: 1600, time: 0.6s, loss: 2.271, acc:0.145 \n",
            "Epoch: 1800, time: 0.5s, loss: 2.267, acc:0.147 \n",
            "Epoch: 2000, time: 0.6s, loss: 2.263, acc:0.150 \n",
            "Epoch: 2200, time: 0.6s, loss: 2.259, acc:0.153 \n",
            "Epoch: 2400, time: 1.0s, loss: 2.255, acc:0.156 \n",
            "Epoch: 2600, time: 0.5s, loss: 2.251, acc:0.159 \n",
            "Epoch: 2800, time: 0.5s, loss: 2.247, acc:0.161 \n",
            "Epoch: 3000, time: 0.5s, loss: 2.243, acc:0.163 \n"
          ]
        }
      ]
    },
    {
      "cell_type": "code",
      "source": [],
      "metadata": {
        "id": "jexAN38nCnSH"
      },
      "execution_count": null,
      "outputs": []
    },
    {
      "cell_type": "code",
      "source": [
        "model_GRU_10 = NeuralNetwork(nn.GRU, 10, embedding_size, num_hiddens, 10)\n",
        "model, train_losses = train_model(model_GRU_10, data_10, n_epochs)"
      ],
      "metadata": {
        "id": "v8nauSEkCnmw",
        "colab": {
          "base_uri": "https://localhost:8080/"
        },
        "outputId": "0e6a3778-0b66-4472-938e-ec2cba04c5ce"
      },
      "execution_count": null,
      "outputs": [
        {
          "output_type": "stream",
          "name": "stdout",
          "text": [
            "Epoch: 200, time: 0.2s, loss: 2.288, acc:0.129 \n",
            "Epoch: 400, time: 0.1s, loss: 2.275, acc:0.139 \n",
            "Epoch: 600, time: 0.2s, loss: 2.255, acc:0.153 \n",
            "Epoch: 800, time: 0.1s, loss: 2.225, acc:0.167 \n",
            "Epoch: 1000, time: 0.2s, loss: 2.168, acc:0.188 \n",
            "Epoch: 1200, time: 0.1s, loss: 2.031, acc:0.249 \n",
            "Epoch: 1400, time: 0.2s, loss: 1.921, acc:0.293 \n",
            "Epoch: 1600, time: 0.2s, loss: 1.833, acc:0.330 \n",
            "Epoch: 1800, time: 0.3s, loss: 1.738, acc:0.370 \n",
            "Epoch: 2000, time: 0.3s, loss: 1.633, acc:0.420 \n",
            "Epoch: 2200, time: 0.2s, loss: 1.514, acc:0.470 \n",
            "Epoch: 2400, time: 0.2s, loss: 1.387, acc:0.519 \n",
            "Epoch: 2600, time: 0.2s, loss: 1.251, acc:0.577 \n",
            "Epoch: 2800, time: 0.2s, loss: 1.108, acc:0.640 \n",
            "Epoch: 3000, time: 0.2s, loss: 0.961, acc:0.698 \n"
          ]
        }
      ]
    },
    {
      "cell_type": "code",
      "source": [
        "model_GRU_40 = NeuralNetwork(nn.GRU, 40, embedding_size, num_hiddens, 40)\n",
        "model, train_losses = train_model(model_GRU_40, data_40, n_epochs)"
      ],
      "metadata": {
        "id": "_FHDj3KicSPH",
        "colab": {
          "base_uri": "https://localhost:8080/"
        },
        "outputId": "2b4bf066-6505-4b10-ef0c-c458c196cec1"
      },
      "execution_count": null,
      "outputs": [
        {
          "output_type": "stream",
          "name": "stdout",
          "text": [
            "Epoch: 200, time: 0.7s, loss: 2.398, acc:0.108 \n",
            "Epoch: 400, time: 0.6s, loss: 2.354, acc:0.113 \n",
            "Epoch: 600, time: 0.6s, loss: 2.317, acc:0.117 \n",
            "Epoch: 800, time: 0.6s, loss: 2.300, acc:0.122 \n",
            "Epoch: 1000, time: 0.6s, loss: 2.291, acc:0.127 \n",
            "Epoch: 1200, time: 0.7s, loss: 2.285, acc:0.131 \n",
            "Epoch: 1400, time: 0.7s, loss: 2.280, acc:0.136 \n",
            "Epoch: 1600, time: 0.6s, loss: 2.273, acc:0.138 \n",
            "Epoch: 1800, time: 0.6s, loss: 2.268, acc:0.143 \n",
            "Epoch: 2000, time: 0.7s, loss: 2.262, acc:0.146 \n",
            "Epoch: 2200, time: 0.6s, loss: 2.255, acc:0.150 \n",
            "Epoch: 2400, time: 0.9s, loss: 2.249, acc:0.154 \n",
            "Epoch: 2600, time: 0.6s, loss: 2.242, acc:0.157 \n",
            "Epoch: 2800, time: 0.9s, loss: 2.235, acc:0.163 \n",
            "Epoch: 3000, time: 0.7s, loss: 2.227, acc:0.167 \n"
          ]
        }
      ]
    },
    {
      "cell_type": "code",
      "source": [
        "model_GRU_80 = NeuralNetwork(nn.GRU, 80, embedding_size, num_hiddens, 80)\n",
        "model, train_losses = train_model(model_GRU_80, data_80, n_epochs)"
      ],
      "metadata": {
        "id": "wg184fp8GCoe",
        "colab": {
          "base_uri": "https://localhost:8080/"
        },
        "outputId": "c32e889a-5dac-487f-9be5-c90e81b63594"
      },
      "execution_count": null,
      "outputs": [
        {
          "output_type": "stream",
          "name": "stdout",
          "text": [
            "Epoch: 200, time: 1.3s, loss: 2.469, acc:0.105 \n",
            "Epoch: 400, time: 1.4s, loss: 2.385, acc:0.108 \n",
            "Epoch: 600, time: 1.3s, loss: 2.336, acc:0.114 \n",
            "Epoch: 800, time: 1.3s, loss: 2.317, acc:0.116 \n",
            "Epoch: 1000, time: 1.3s, loss: 2.307, acc:0.117 \n",
            "Epoch: 1200, time: 1.9s, loss: 2.300, acc:0.120 \n",
            "Epoch: 1400, time: 1.5s, loss: 2.296, acc:0.124 \n",
            "Epoch: 1600, time: 1.3s, loss: 2.293, acc:0.126 \n",
            "Epoch: 1800, time: 1.3s, loss: 2.291, acc:0.129 \n",
            "Epoch: 2000, time: 1.4s, loss: 2.289, acc:0.130 \n",
            "Epoch: 2200, time: 1.3s, loss: 2.286, acc:0.132 \n",
            "Epoch: 2400, time: 1.4s, loss: 2.284, acc:0.134 \n",
            "Epoch: 2600, time: 2.0s, loss: 2.282, acc:0.136 \n",
            "Epoch: 2800, time: 1.3s, loss: 2.280, acc:0.137 \n",
            "Epoch: 3000, time: 1.3s, loss: 2.278, acc:0.139 \n"
          ]
        }
      ]
    },
    {
      "cell_type": "code",
      "source": [],
      "metadata": {
        "id": "dyoisxsJGQd-"
      },
      "execution_count": null,
      "outputs": []
    },
    {
      "cell_type": "code",
      "source": [
        "model_LSTM_10 = NeuralNetwork(nn.LSTM, 10, embedding_size, num_hiddens, 10)\n",
        "model, train_losses = train_model(model_LSTM_10, data_10, n_epochs)"
      ],
      "metadata": {
        "id": "PrPvZTyfHelU",
        "colab": {
          "base_uri": "https://localhost:8080/"
        },
        "outputId": "0741be2e-7cea-4a5d-a88e-c18ba5775681"
      },
      "execution_count": null,
      "outputs": [
        {
          "output_type": "stream",
          "name": "stdout",
          "text": [
            "Epoch: 200, time: 0.2s, loss: 2.294, acc:0.120 \n",
            "Epoch: 400, time: 0.2s, loss: 2.289, acc:0.125 \n",
            "Epoch: 600, time: 0.2s, loss: 2.283, acc:0.131 \n",
            "Epoch: 800, time: 0.2s, loss: 2.270, acc:0.135 \n",
            "Epoch: 1000, time: 0.2s, loss: 2.242, acc:0.150 \n",
            "Epoch: 1200, time: 0.2s, loss: 2.171, acc:0.179 \n",
            "Epoch: 1400, time: 0.2s, loss: 2.057, acc:0.234 \n",
            "Epoch: 1600, time: 0.2s, loss: 1.962, acc:0.279 \n",
            "Epoch: 1800, time: 0.2s, loss: 1.861, acc:0.315 \n",
            "Epoch: 2000, time: 0.2s, loss: 1.755, acc:0.366 \n",
            "Epoch: 2200, time: 0.2s, loss: 1.646, acc:0.423 \n",
            "Epoch: 2400, time: 0.2s, loss: 1.531, acc:0.471 \n",
            "Epoch: 2600, time: 0.2s, loss: 1.407, acc:0.520 \n",
            "Epoch: 2800, time: 0.2s, loss: 1.272, acc:0.578 \n",
            "Epoch: 3000, time: 0.2s, loss: 1.148, acc:0.628 \n"
          ]
        }
      ]
    },
    {
      "cell_type": "code",
      "source": [
        "model_LSTM_40 = NeuralNetwork(nn.LSTM, 40, embedding_size, num_hiddens, 40)\n",
        "model, train_losses = train_model(model_LSTM_40, data_40, n_epochs)"
      ],
      "metadata": {
        "id": "HfRdvQ5FHevP",
        "colab": {
          "base_uri": "https://localhost:8080/"
        },
        "outputId": "14072266-c13d-4153-ed5b-e36355e14318"
      },
      "execution_count": null,
      "outputs": [
        {
          "output_type": "stream",
          "name": "stdout",
          "text": [
            "Epoch: 200, time: 0.9s, loss: 2.424, acc:0.104 \n",
            "Epoch: 400, time: 0.7s, loss: 2.360, acc:0.109 \n",
            "Epoch: 600, time: 0.9s, loss: 2.330, acc:0.118 \n",
            "Epoch: 800, time: 0.7s, loss: 2.308, acc:0.119 \n",
            "Epoch: 1000, time: 0.7s, loss: 2.305, acc:0.125 \n",
            "Epoch: 1200, time: 0.9s, loss: 2.293, acc:0.127 \n",
            "Epoch: 1400, time: 0.7s, loss: 2.285, acc:0.132 \n",
            "Epoch: 1600, time: 0.8s, loss: 2.279, acc:0.134 \n",
            "Epoch: 1800, time: 0.7s, loss: 2.273, acc:0.140 \n",
            "Epoch: 2000, time: 0.7s, loss: 2.266, acc:0.144 \n",
            "Epoch: 2200, time: 0.8s, loss: 2.260, acc:0.149 \n",
            "Epoch: 2400, time: 0.9s, loss: 2.254, acc:0.153 \n",
            "Epoch: 2600, time: 1.1s, loss: 2.246, acc:0.157 \n",
            "Epoch: 2800, time: 0.7s, loss: 2.236, acc:0.163 \n",
            "Epoch: 3000, time: 0.8s, loss: 2.229, acc:0.166 \n"
          ]
        }
      ]
    },
    {
      "cell_type": "code",
      "source": [
        "model_LSTM_80 = NeuralNetwork(nn.LSTM, 80, embedding_size, num_hiddens, 80)\n",
        "model, train_losses = train_model(model_LSTM_80, data_80, n_epochs)"
      ],
      "metadata": {
        "id": "sAr9lgrDHe3W",
        "colab": {
          "base_uri": "https://localhost:8080/"
        },
        "outputId": "4937f9e4-56f2-442b-fa07-a6a85701be1e"
      },
      "execution_count": null,
      "outputs": [
        {
          "output_type": "stream",
          "name": "stdout",
          "text": [
            "Epoch: 200, time: 1.6s, loss: 2.411, acc:0.101 \n",
            "Epoch: 400, time: 1.7s, loss: 2.359, acc:0.106 \n",
            "Epoch: 600, time: 1.7s, loss: 2.329, acc:0.112 \n",
            "Epoch: 800, time: 1.7s, loss: 2.317, acc:0.112 \n",
            "Epoch: 1000, time: 1.5s, loss: 2.311, acc:0.114 \n",
            "Epoch: 1200, time: 1.6s, loss: 2.305, acc:0.117 \n",
            "Epoch: 1400, time: 1.7s, loss: 2.301, acc:0.119 \n",
            "Epoch: 1600, time: 1.8s, loss: 2.298, acc:0.122 \n",
            "Epoch: 1800, time: 1.5s, loss: 2.295, acc:0.123 \n",
            "Epoch: 2000, time: 2.5s, loss: 2.293, acc:0.125 \n",
            "Epoch: 2200, time: 2.1s, loss: 2.291, acc:0.128 \n",
            "Epoch: 2400, time: 1.5s, loss: 2.289, acc:0.129 \n",
            "Epoch: 2600, time: 1.6s, loss: 2.287, acc:0.131 \n",
            "Epoch: 2800, time: 1.5s, loss: 2.285, acc:0.133 \n",
            "Epoch: 3000, time: 1.6s, loss: 2.283, acc:0.135 \n"
          ]
        }
      ]
    },
    {
      "cell_type": "markdown",
      "source": [
        "#Задание 2"
      ],
      "metadata": {
        "id": "qR3Kqr62Bxrz"
      }
    },
    {
      "cell_type": "code",
      "source": [
        "!wget https://s3.amazonaws.com/text-datasets/nietzsche.txt"
      ],
      "metadata": {
        "id": "KiyUWGLpBzYd",
        "colab": {
          "base_uri": "https://localhost:8080/"
        },
        "outputId": "a17fbf94-0adf-49dd-f27d-067a47879450"
      },
      "execution_count": null,
      "outputs": [
        {
          "output_type": "stream",
          "name": "stdout",
          "text": [
            "--2023-06-10 11:29:59--  https://s3.amazonaws.com/text-datasets/nietzsche.txt\n",
            "Resolving s3.amazonaws.com (s3.amazonaws.com)... 52.216.128.165, 52.217.254.32, 52.216.25.54, ...\n",
            "Connecting to s3.amazonaws.com (s3.amazonaws.com)|52.216.128.165|:443... connected.\n",
            "HTTP request sent, awaiting response... 200 OK\n",
            "Length: 600901 (587K) [text/plain]\n",
            "Saving to: ‘nietzsche.txt’\n",
            "\n",
            "nietzsche.txt       100%[===================>] 586.82K  --.-KB/s    in 0.04s   \n",
            "\n",
            "2023-06-10 11:29:59 (13.7 MB/s) - ‘nietzsche.txt’ saved [600901/600901]\n",
            "\n"
          ]
        }
      ]
    },
    {
      "cell_type": "code",
      "source": [
        "import re"
      ],
      "metadata": {
        "id": "CfvtxwssCENc"
      },
      "execution_count": null,
      "outputs": []
    },
    {
      "cell_type": "code",
      "source": [
        "with open('nietzsche.txt', encoding='utf-8') as f:\n",
        "    text = f.read().lower()\n",
        "print('length:', len(text))\n",
        "text = re.sub('[^a-z ]', ' ', text)\n",
        "text = re.sub('\\s+', ' ', text)"
      ],
      "metadata": {
        "id": "bi1V7HLkCHFp",
        "colab": {
          "base_uri": "https://localhost:8080/"
        },
        "outputId": "183e89ba-6ebf-4c31-b04d-42cbb67a2837"
      },
      "execution_count": null,
      "outputs": [
        {
          "output_type": "stream",
          "name": "stdout",
          "text": [
            "length: 600893\n"
          ]
        }
      ]
    },
    {
      "cell_type": "code",
      "source": [
        "text[:100]"
      ],
      "metadata": {
        "id": "1LesNEsdCHNh",
        "colab": {
          "base_uri": "https://localhost:8080/",
          "height": 53
        },
        "outputId": "acac4ae6-d604-48c6-98f6-2830b4a1cdeb"
      },
      "execution_count": null,
      "outputs": [
        {
          "output_type": "execute_result",
          "data": {
            "text/plain": [
              "'preface supposing that truth is a woman what then is there not ground for suspecting that all philos'"
            ],
            "application/vnd.google.colaboratory.intrinsic+json": {
              "type": "string"
            }
          },
          "metadata": {},
          "execution_count": 31
        }
      ]
    },
    {
      "cell_type": "code",
      "source": [
        "INDEX_TO_CHAR = sorted(list(set(text)))\n",
        "CHAR_TO_INDEX = {c: i for i, c in enumerate(INDEX_TO_CHAR)}\n",
        "CHAR_TO_INDEX"
      ],
      "metadata": {
        "id": "cLg_bst6CHT_",
        "colab": {
          "base_uri": "https://localhost:8080/"
        },
        "outputId": "704bef9e-dd7d-44f3-bc15-458c4b6abcb5"
      },
      "execution_count": null,
      "outputs": [
        {
          "output_type": "execute_result",
          "data": {
            "text/plain": [
              "{' ': 0,\n",
              " 'a': 1,\n",
              " 'b': 2,\n",
              " 'c': 3,\n",
              " 'd': 4,\n",
              " 'e': 5,\n",
              " 'f': 6,\n",
              " 'g': 7,\n",
              " 'h': 8,\n",
              " 'i': 9,\n",
              " 'j': 10,\n",
              " 'k': 11,\n",
              " 'l': 12,\n",
              " 'm': 13,\n",
              " 'n': 14,\n",
              " 'o': 15,\n",
              " 'p': 16,\n",
              " 'q': 17,\n",
              " 'r': 18,\n",
              " 's': 19,\n",
              " 't': 20,\n",
              " 'u': 21,\n",
              " 'v': 22,\n",
              " 'w': 23,\n",
              " 'x': 24,\n",
              " 'y': 25,\n",
              " 'z': 26}"
            ]
          },
          "metadata": {},
          "execution_count": 32
        }
      ]
    },
    {
      "cell_type": "code",
      "source": [
        "MAX_LEN = 40\n",
        "STEP = 3\n",
        "SENTENCES = []\n",
        "NEXT_CHARS = []\n",
        "for i in range(0, len(text) - MAX_LEN, STEP):\n",
        "    SENTENCES.append(text[i: i + MAX_LEN])\n",
        "    NEXT_CHARS.append(text[i + MAX_LEN])\n",
        "print('Num sents:', len(SENTENCES))"
      ],
      "metadata": {
        "id": "mCL30gh2CHag",
        "colab": {
          "base_uri": "https://localhost:8080/"
        },
        "outputId": "7e8c811a-8559-4995-ab27-afae7c970ce8"
      },
      "execution_count": null,
      "outputs": [
        {
          "output_type": "stream",
          "name": "stdout",
          "text": [
            "Num sents: 193075\n"
          ]
        }
      ]
    },
    {
      "cell_type": "code",
      "source": [
        "print('Vectorization...')\n",
        "X = torch.zeros((len(SENTENCES), MAX_LEN), dtype=int)\n",
        "Y = torch.zeros((len(SENTENCES)), dtype=int)\n",
        "for i, sentence in enumerate(SENTENCES):\n",
        "    for t, char in enumerate(sentence):\n",
        "        X[i, t] = CHAR_TO_INDEX[char]\n",
        "    Y[i] = CHAR_TO_INDEX[NEXT_CHARS[i]]"
      ],
      "metadata": {
        "id": "8IVm_HekCHgt",
        "colab": {
          "base_uri": "https://localhost:8080/"
        },
        "outputId": "63991a4a-1a7a-482a-913e-b7f48398c0fd"
      },
      "execution_count": null,
      "outputs": [
        {
          "output_type": "stream",
          "name": "stdout",
          "text": [
            "Vectorization...\n"
          ]
        }
      ]
    },
    {
      "cell_type": "code",
      "source": [
        "X[0:1], Y[0]"
      ],
      "metadata": {
        "id": "7RgDWjY-CQlt",
        "colab": {
          "base_uri": "https://localhost:8080/"
        },
        "outputId": "b81a0b1c-1c92-4aa6-fbc4-920b5dafc395"
      },
      "execution_count": null,
      "outputs": [
        {
          "output_type": "execute_result",
          "data": {
            "text/plain": [
              "(tensor([[16, 18,  5,  6,  1,  3,  5,  0, 19, 21, 16, 16, 15, 19,  9, 14,  7,  0,\n",
              "          20,  8,  1, 20,  0, 20, 18, 21, 20,  8,  0,  9, 19,  0,  1,  0, 23, 15,\n",
              "          13,  1, 14,  0]]),\n",
              " tensor(23))"
            ]
          },
          "metadata": {},
          "execution_count": 35
        }
      ]
    },
    {
      "cell_type": "code",
      "source": [
        "BATCH_SIZE=512\n",
        "dataset = torch.utils.data.TensorDataset(X, Y)\n",
        "data = torch.utils.data.DataLoader(dataset, BATCH_SIZE, shuffle=True)"
      ],
      "metadata": {
        "id": "XXgx0X27CQs1"
      },
      "execution_count": null,
      "outputs": []
    },
    {
      "cell_type": "code",
      "source": [
        "class NeuralNetwork(nn.Module):\n",
        "    def __init__(self, rnnClass, dictionary_size, embedding_size, num_hiddens, num_classes):\n",
        "        super().__init__()\n",
        "\n",
        "        self.num_hiddens = num_hiddens\n",
        "        self.embedding = nn.Embedding(dictionary_size, embedding_size)\n",
        "        self.hidden = rnnClass(embedding_size, num_hiddens, batch_first=True)\n",
        "        self.output = nn.Linear(num_hiddens, num_classes)\n",
        "\n",
        "    def forward(self, X):\n",
        "        out = self.embedding(X)\n",
        "        _, state = self.hidden(out)\n",
        "        predictions = self.output(state[0])\n",
        "        return predictions.squeeze(0)"
      ],
      "metadata": {
        "id": "zgN9DO7bCQz4"
      },
      "execution_count": null,
      "outputs": []
    },
    {
      "cell_type": "code",
      "source": [
        "model = NeuralNetwork(nn.LSTM, len(CHAR_TO_INDEX), 64, 128, len(CHAR_TO_INDEX))"
      ],
      "metadata": {
        "id": "sdMeUXuJCQ7R"
      },
      "execution_count": null,
      "outputs": []
    },
    {
      "cell_type": "code",
      "source": [
        "model(X[0:1])"
      ],
      "metadata": {
        "id": "m4nF78IICRGI",
        "colab": {
          "base_uri": "https://localhost:8080/"
        },
        "outputId": "81aa35f3-99d7-4519-9214-5bbdcb28b3b8"
      },
      "execution_count": null,
      "outputs": [
        {
          "output_type": "execute_result",
          "data": {
            "text/plain": [
              "tensor([[ 0.1459,  0.0355, -0.0978, -0.0496, -0.1056,  0.0474, -0.1334,  0.0601,\n",
              "         -0.0025,  0.0507, -0.1464,  0.0236, -0.0415, -0.1619,  0.2169, -0.0908,\n",
              "          0.1089, -0.0185, -0.0636, -0.0202, -0.0546, -0.0110,  0.0126,  0.1513,\n",
              "          0.1650, -0.1466, -0.0345]], grad_fn=<SqueezeBackward1>)"
            ]
          },
          "metadata": {},
          "execution_count": 39
        }
      ]
    },
    {
      "cell_type": "code",
      "source": [
        "def sample(preds):\n",
        "    softmaxed = torch.softmax(preds, 0)\n",
        "    probas = torch.distributions.multinomial.Multinomial(1, softmaxed).sample()\n",
        "    return probas.argmax()\n",
        "\n",
        "def generate_text():\n",
        "    start_index = random.randint(0, len(text) - MAX_LEN - 1)\n",
        "\n",
        "    generated = ''\n",
        "    sentence = text[start_index: start_index + MAX_LEN]\n",
        "    generated += sentence\n",
        "\n",
        "    for i in range(MAX_LEN):\n",
        "        x_pred = torch.zeros((1, MAX_LEN), dtype=int)\n",
        "        for t, char in enumerate(generated[-MAX_LEN:]):\n",
        "            x_pred[0, t] = CHAR_TO_INDEX[char]\n",
        "\n",
        "        preds = model(x_pred)[0]\n",
        "        next_char = INDEX_TO_CHAR[sample(preds)]\n",
        "        generated = generated + next_char\n",
        "\n",
        "    print(generated[:MAX_LEN] + '|' + generated[MAX_LEN:])"
      ],
      "metadata": {
        "id": "1FNqRT0ECRM_"
      },
      "execution_count": null,
      "outputs": []
    },
    {
      "cell_type": "code",
      "source": [
        "generate_text()"
      ],
      "metadata": {
        "id": "_Y3sjBQsCaHR",
        "colab": {
          "base_uri": "https://localhost:8080/"
        },
        "outputId": "4fde2b93-747c-4178-aa52-bdaefcc2dafb"
      },
      "execution_count": null,
      "outputs": [
        {
          "output_type": "stream",
          "name": "stdout",
          "text": [
            "leasure or avoid pain in any sense it is|vrfdxxhrsgxelyfhxlcazpipbesrxos mlfwlves\n"
          ]
        }
      ]
    },
    {
      "cell_type": "code",
      "source": [
        "criterion = torch.nn.CrossEntropyLoss()\n",
        "optimizer = torch.optim.Adam(model.parameters())"
      ],
      "metadata": {
        "id": "GMZkdqsECaO_"
      },
      "execution_count": null,
      "outputs": []
    },
    {
      "cell_type": "code",
      "source": [
        "for ep in range(5):\n",
        "    start = time.time()\n",
        "    train_loss = 0.\n",
        "    train_passed = 0\n",
        "\n",
        "    model.train()\n",
        "    for X_b, y_b in tqdm.tqdm_notebook(data):\n",
        "        X_b, y_b = X_b, y_b\n",
        "        optimizer.zero_grad()\n",
        "        answers = model.forward(X_b)\n",
        "        loss = criterion(answers, y_b)\n",
        "        train_loss += loss.item()\n",
        "\n",
        "        loss.backward()\n",
        "        optimizer.step()\n",
        "        train_passed += 1\n",
        "\n",
        "    print(\"Epoch {}. Time: {:.3f}, Train loss: {:.3f}\".format(ep, time.time() - start, train_loss / train_passed))\n",
        "    model.eval()\n",
        "    generate_text()"
      ],
      "metadata": {
        "id": "n23w9KimCaV1",
        "colab": {
          "base_uri": "https://localhost:8080/",
          "height": 403,
          "referenced_widgets": [
            "026c415010d54674a26c06c962b22368",
            "0a35bdb6fbf0494389c5977f979d2793",
            "b5fc681c2e464817aa72d65bf12019aa",
            "85d458bb31b549d3aa296d4a6c060e20",
            "4d683c15d12f4048abb9e5258993c427",
            "4b2baabafb3f462b901609193f07232f",
            "d1de9467d9b9465fa41faeebb4937f08",
            "e29801831bf04336bc4abc8e4a32dd0e",
            "b2e1e3c0b27f417e86b7ec1ea302147d",
            "4e71355de24d4d9b900f2792505c6b05",
            "a1fda24d46a141c4a8722fafd9a25415",
            "e9657c813fdd45978f1605a87090ac74",
            "f75d48ead79e493c9d0f4bcb4b2833f0",
            "bfa4e19d328c486487a46f6ef4a2e1f9",
            "3a1cc7020b8e4e31a740c98c65320947",
            "67d17881cdd14da889f134c10b659d0b",
            "c7e1e3a7105e45a3b52158fe553db0ca",
            "cd9d60e06ecb44be8fad64a16a636dac",
            "49a5aba419dd43b9bcb21dd042422b83",
            "8f6199724afd4e4fb178c58fc042af36",
            "8636bf4466044943902c84ec193fae17",
            "9130fbe266104dd493c16ee473ba067e",
            "cbaf535ab3ab4e179afde7d821e12c41",
            "bc80cfc5b45b4df899cfc63a4c4e3f83",
            "f9851943e71e4b879d8d240cda838653",
            "07517fd9930a4accb2d9f1f03fa21a57",
            "f816a3818a6a483db41c31ed8de03336",
            "74c716abddba446b939e6fc51821883f",
            "0c6530041c724fc796515a75cecea994",
            "9bfe962a6d8c40d6a41ba982bdcd0fcd",
            "d4a8f9dad594497ba5b8327c168e6a96",
            "6bbefe6be81749d2aceaa3af8f2c1251",
            "d7a346829723466aa0266c31c37dce85",
            "5b0df0ebd494402fbb758962808d33e2",
            "4dc1e87fe8c04656b8d21e259063dffa",
            "2b6d29c96aa94d96b0491b25652043f5",
            "cf555773f8bd410d886eb7d4d1feaaef",
            "c93957ce4c5445bba38978319b4a3970",
            "cbae30b584a949c7b2bad4faa190ca18",
            "c4de1f801ed94496a83464ed55a6085b",
            "9bd613f0e8d94226a050fc0788dc609f",
            "6f27a2a1784b4c7cac0e2689ccfbc1a7",
            "e3c8c846c7f645969681407cb8cb78a1",
            "6162020a364d4f50b705e89fcf032c71",
            "e960ed77baf545a4a267489fbf4619a6",
            "58fbc861429d49878200127b9a981771",
            "2f61fc95a21747b2a164b0cd2943f333",
            "4a5de9a0aefb4baca46cb872ed088b55",
            "a9f4c1c8cdd84daf92f6f8c60c23f3e3",
            "83ad39e336e74f78a9e11b20e238dd5b",
            "4aa8e20a553e4ed48925177105bf4544",
            "32af461843634adba61e6401da0911b0",
            "a1e30e7fe4f94da1b798ed8c48eba6ce",
            "14e36b2d8d69437297f22841ecc74dbc",
            "3e715db148284f8aa1dc1f7a68c6279a"
          ]
        },
        "outputId": "61a84f95-2185-4c9b-f5b2-b9e9bb6ed68d"
      },
      "execution_count": null,
      "outputs": [
        {
          "output_type": "stream",
          "name": "stderr",
          "text": [
            "<ipython-input-43-8f474e72f798>:7: TqdmDeprecationWarning: This function will be removed in tqdm==5.0.0\n",
            "Please use `tqdm.notebook.tqdm` instead of `tqdm.tqdm_notebook`\n",
            "  for X_b, y_b in tqdm.tqdm_notebook(data):\n"
          ]
        },
        {
          "output_type": "display_data",
          "data": {
            "text/plain": [
              "  0%|          | 0/378 [00:00<?, ?it/s]"
            ],
            "application/vnd.jupyter.widget-view+json": {
              "version_major": 2,
              "version_minor": 0,
              "model_id": "026c415010d54674a26c06c962b22368"
            }
          },
          "metadata": {}
        },
        {
          "output_type": "stream",
          "name": "stdout",
          "text": [
            "Epoch 0. Time: 153.915, Train loss: 2.163\n",
            "ars to find out who the garden god epicu|ouse in one munssess of filof mat in ofs\n"
          ]
        },
        {
          "output_type": "display_data",
          "data": {
            "text/plain": [
              "  0%|          | 0/378 [00:00<?, ?it/s]"
            ],
            "application/vnd.jupyter.widget-view+json": {
              "version_major": 2,
              "version_minor": 0,
              "model_id": "e9657c813fdd45978f1605a87090ac74"
            }
          },
          "metadata": {}
        },
        {
          "output_type": "stream",
          "name": "stdout",
          "text": [
            "Epoch 1. Time: 158.351, Train loss: 1.783\n",
            "ult situations and entertainment amid a |swicetuous s whivhe here the spirly the \n"
          ]
        },
        {
          "output_type": "display_data",
          "data": {
            "text/plain": [
              "  0%|          | 0/378 [00:00<?, ?it/s]"
            ],
            "application/vnd.jupyter.widget-view+json": {
              "version_major": 2,
              "version_minor": 0,
              "model_id": "cbaf535ab3ab4e179afde7d821e12c41"
            }
          },
          "metadata": {}
        },
        {
          "output_type": "stream",
          "name": "stdout",
          "text": [
            "Epoch 2. Time: 156.130, Train loss: 1.646\n",
            "ve and impartial eye of an epicurean god|er opres as ill is finst and sruit and l\n"
          ]
        },
        {
          "output_type": "display_data",
          "data": {
            "text/plain": [
              "  0%|          | 0/378 [00:00<?, ?it/s]"
            ],
            "application/vnd.jupyter.widget-view+json": {
              "version_major": 2,
              "version_minor": 0,
              "model_id": "5b0df0ebd494402fbb758962808d33e2"
            }
          },
          "metadata": {}
        },
        {
          "output_type": "stream",
          "name": "stdout",
          "text": [
            "Epoch 3. Time: 153.787, Train loss: 1.563\n",
            "without love with unfathomable eyes wet |as has becaper courst not severalo nast \n"
          ]
        },
        {
          "output_type": "display_data",
          "data": {
            "text/plain": [
              "  0%|          | 0/378 [00:00<?, ?it/s]"
            ],
            "application/vnd.jupyter.widget-view+json": {
              "version_major": 2,
              "version_minor": 0,
              "model_id": "e960ed77baf545a4a267489fbf4619a6"
            }
          },
          "metadata": {}
        },
        {
          "output_type": "stream",
          "name": "stdout",
          "text": [
            "Epoch 4. Time: 153.301, Train loss: 1.504\n",
            " truth from the very first nothing is mo|ss nou othest on thray relests to han po\n"
          ]
        }
      ]
    }
  ]
}