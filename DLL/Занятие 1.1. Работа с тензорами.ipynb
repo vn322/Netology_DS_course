{
  "cells": [
    {
      "cell_type": "markdown",
      "metadata": {
        "id": "l3lBw4sj34qZ"
      },
      "source": [
        "## Манипулирование данными"
      ]
    },
    {
      "cell_type": "markdown",
      "metadata": {
        "id": "I4aJFUfn34qZ"
      },
      "source": [
        "Невозможно что-либо сделать, если мы не умеем манипулировать данными. Две основные операции, которые нам нужно сделать с данными — получить их и обработать. Нет смысла собирать данные, если мы даже не знаем, как их хранить, поэтому давайте сначала поработаем с синтетическими данными. Мы начнем с torch.tensor. Это основной инструмент для хранения и преобразования данных в torch. Если вы раньше работали с NumPy, вы заметите, что он по своей конструкции очень похож на многомерный массив NumPy. Тем не менее, он даёт несколько ключевых преимуществ. Во-первых, torch.tensor поддерживает асинхронные вычисления на CPU и GPU. Во-вторых, он обеспечивает поддержку автоматического дифференцирования.\n",
        "\n",
        "Начнём с импорта torch"
      ]
    },
    {
      "cell_type": "code",
      "execution_count": null,
      "metadata": {
        "id": "B0MVM4aj34qa"
      },
      "outputs": [],
      "source": [
        "import torch"
      ]
    },
    {
      "cell_type": "markdown",
      "metadata": {
        "id": "SDaSbs7Q34qa"
      },
      "source": [
        "Tensor — это массив (возможно, многомерный) числовых значений. Tensor с одной осью называется (в математике) вектором, с двумя — матрицей. Для массивов с более чем двумя осями нет специальных имен, их называют просто тензорами.\n",
        "Самый простой объект, который мы можем создать, — это вектор. Для начала мы можем использовать arange для создания вектора строки с 12 последовательными целыми числами."
      ]
    },
    {
      "cell_type": "code",
      "execution_count": null,
      "metadata": {
        "colab": {
          "base_uri": "https://localhost:8080/"
        },
        "id": "TNGwabqm34qa",
        "outputId": "134523d0-8224-4a0e-c75c-3e5f3de2dccc"
      },
      "outputs": [
        {
          "output_type": "execute_result",
          "data": {
            "text/plain": [
              "tensor([ 0,  1,  2,  3,  4,  5,  6,  7,  8,  9, 10, 11])"
            ]
          },
          "metadata": {},
          "execution_count": 2
        }
      ],
      "source": [
        "x = torch.arange(12)\n",
        "x"
      ]
    },
    {
      "cell_type": "code",
      "execution_count": null,
      "metadata": {
        "colab": {
          "base_uri": "https://localhost:8080/"
        },
        "id": "KmrNHETgIbqc",
        "outputId": "552d2f95-898f-4574-ba42-fa9ac9ffcccf"
      },
      "outputs": [
        {
          "output_type": "execute_result",
          "data": {
            "text/plain": [
              "tensor([[0.0000e+00, 0.0000e+00, 0.0000e+00],\n",
              "        [1.0000e+00, 1.0000e+00, 1.0000e+00],\n",
              "        [2.0000e+00, 4.0000e+00, 8.0000e+00],\n",
              "        [3.0000e+00, 9.0000e+00, 2.7000e+01],\n",
              "        [4.0000e+00, 1.6000e+01, 6.4000e+01],\n",
              "        [5.0000e+00, 2.5000e+01, 1.2500e+02],\n",
              "        [6.0000e+00, 3.6000e+01, 2.1600e+02],\n",
              "        [7.0000e+00, 4.9000e+01, 3.4300e+02],\n",
              "        [8.0000e+00, 6.4000e+01, 5.1200e+02],\n",
              "        [9.0000e+00, 8.1000e+01, 7.2900e+02],\n",
              "        [1.0000e+01, 1.0000e+02, 1.0000e+03],\n",
              "        [1.1000e+01, 1.2100e+02, 1.3310e+03]])"
            ]
          },
          "metadata": {},
          "execution_count": 3
        }
      ],
      "source": [
        "xx = torch.Tensor([[x, x**2, x**3] for x in range(12)])\n",
        "xx"
      ]
    },
    {
      "cell_type": "code",
      "execution_count": null,
      "metadata": {
        "colab": {
          "base_uri": "https://localhost:8080/"
        },
        "id": "nlzShh4rLpXm",
        "outputId": "0310b513-fe0f-49cc-e43f-b541779d01ed"
      },
      "outputs": [
        {
          "output_type": "execute_result",
          "data": {
            "text/plain": [
              "tensor([1.])"
            ]
          },
          "metadata": {},
          "execution_count": 4
        }
      ],
      "source": [
        "torch.Tensor([1])"
      ]
    },
    {
      "cell_type": "markdown",
      "metadata": {
        "id": "Zv2GDLgc34qa"
      },
      "source": [
        "Мы можем получить форму экземпляра tensor через свойство shape."
      ]
    },
    {
      "cell_type": "code",
      "execution_count": null,
      "metadata": {
        "colab": {
          "base_uri": "https://localhost:8080/"
        },
        "id": "jD1U4W7K34qa",
        "scrolled": true,
        "outputId": "e7da118b-c4ec-4df2-a4b6-91299be5f95e"
      },
      "outputs": [
        {
          "output_type": "execute_result",
          "data": {
            "text/plain": [
              "(torch.Size([12]), torch.Size([12, 3]))"
            ]
          },
          "metadata": {},
          "execution_count": 5
        }
      ],
      "source": [
        "x.shape, xx.shape"
      ]
    },
    {
      "cell_type": "markdown",
      "metadata": {
        "id": "ftiBBOV734qa"
      },
      "source": [
        "Узнать, расположен ли он на gpu или cpu, можно через специальный аттрибут device."
      ]
    },
    {
      "cell_type": "code",
      "execution_count": null,
      "metadata": {
        "colab": {
          "base_uri": "https://localhost:8080/"
        },
        "id": "b2Sz6NV334qa",
        "outputId": "90d1fcda-5738-40c9-9b7d-10120d81155a"
      },
      "outputs": [
        {
          "output_type": "execute_result",
          "data": {
            "text/plain": [
              "device(type='cpu')"
            ]
          },
          "metadata": {},
          "execution_count": 6
        }
      ],
      "source": [
        "x.device"
      ]
    },
    {
      "cell_type": "markdown",
      "metadata": {
        "id": "7F4XiLK934qa"
      },
      "source": [
        "Мы используем функцию view, чтобы изменить форму одного (возможно, многомерного) массива на другой, который содержит такое же количество элементов. Например, мы можем преобразовать форму нашего векторного вектора x в (3, 4), который содержит те же значения, но интерпретирует их как матрицу, содержащую 3 строки и 4 столбца. Обратите внимание, что, хотя форма изменилась, элементы в x не изменились. Причём количество элементов осталось прежним."
      ]
    },
    {
      "cell_type": "code",
      "execution_count": null,
      "metadata": {
        "colab": {
          "base_uri": "https://localhost:8080/"
        },
        "id": "jtNiFL7I34qa",
        "outputId": "1a17f40f-a131-4730-d23f-9136d34a68e3"
      },
      "outputs": [
        {
          "output_type": "execute_result",
          "data": {
            "text/plain": [
              "torch.Size([2, 3, 2])"
            ]
          },
          "metadata": {},
          "execution_count": 7
        }
      ],
      "source": [
        "x.view((2,-1,2)).shape"
      ]
    },
    {
      "cell_type": "code",
      "source": [
        "x.reshape((2,-1,3)).shape"
      ],
      "metadata": {
        "colab": {
          "base_uri": "https://localhost:8080/"
        },
        "id": "FknF6yh8qlwg",
        "outputId": "f846adf4-2460-49b6-9596-602929413552"
      },
      "execution_count": null,
      "outputs": [
        {
          "output_type": "execute_result",
          "data": {
            "text/plain": [
              "torch.Size([2, 2, 3])"
            ]
          },
          "metadata": {},
          "execution_count": 11
        }
      ]
    },
    {
      "cell_type": "markdown",
      "metadata": {
        "id": "YS8FX2Pp34qa"
      },
      "source": [
        "Указывать каждое измерение вручную достаточно утомительно. К счастью, torch может автоматически выводить одно измерение, учитывая другие. Мы можем указать -1 для измерения, которое мы хотели бы, чтобы torch автоматически выводил. В нашем случае вместо x.view((3, 4)) мы могли бы использовать x.view ((- 1, 4)) или x.view((3, -1))."
      ]
    },
    {
      "cell_type": "code",
      "execution_count": null,
      "metadata": {
        "colab": {
          "base_uri": "https://localhost:8080/"
        },
        "id": "zLefd5AV34qa",
        "outputId": "d094a19c-3bc0-4730-9eb1-cbbdc5aff5b9"
      },
      "outputs": [
        {
          "output_type": "execute_result",
          "data": {
            "text/plain": [
              "tensor([[ 0,  1,  2,  3],\n",
              "        [ 4,  5,  6,  7],\n",
              "        [ 8,  9, 10, 11]])"
            ]
          },
          "metadata": {},
          "execution_count": 8
        }
      ],
      "source": [
        "x.view((-1, 4))"
      ]
    },
    {
      "cell_type": "markdown",
      "metadata": {
        "id": "ndZZ2mvs34qb"
      },
      "source": [
        "Другие две полезные функции — zeros и ones. Они создают массивы из всех нулей и всех единиц. Они принимают форму создаваемого тензора в качестве параметра."
      ]
    },
    {
      "cell_type": "code",
      "execution_count": null,
      "metadata": {
        "colab": {
          "base_uri": "https://localhost:8080/"
        },
        "id": "1OHmH_lc34qb",
        "outputId": "c96d90a1-1a04-471c-bf8e-11497f158ff7"
      },
      "outputs": [
        {
          "output_type": "execute_result",
          "data": {
            "text/plain": [
              "tensor([[[0., 0., 0., 0.],\n",
              "         [0., 0., 0., 0.],\n",
              "         [0., 0., 0., 0.]],\n",
              "\n",
              "        [[0., 0., 0., 0.],\n",
              "         [0., 0., 0., 0.],\n",
              "         [0., 0., 0., 0.]]])"
            ]
          },
          "metadata": {},
          "execution_count": 9
        }
      ],
      "source": [
        "torch.zeros((2,3,4))"
      ]
    },
    {
      "cell_type": "code",
      "execution_count": null,
      "metadata": {
        "colab": {
          "base_uri": "https://localhost:8080/"
        },
        "id": "E4FE7H4l34qb",
        "outputId": "d4074e5e-3f98-45cc-f3c9-fdc94c933579"
      },
      "outputs": [
        {
          "output_type": "execute_result",
          "data": {
            "text/plain": [
              "tensor([[[1., 1., 1., 1.],\n",
              "         [1., 1., 1., 1.],\n",
              "         [1., 1., 1., 1.]],\n",
              "\n",
              "        [[1., 1., 1., 1.],\n",
              "         [1., 1., 1., 1.],\n",
              "         [1., 1., 1., 1.]]])"
            ]
          },
          "metadata": {},
          "execution_count": 10
        }
      ],
      "source": [
        "torch.ones((2,3,4))"
      ]
    },
    {
      "cell_type": "markdown",
      "metadata": {
        "id": "EnuJ0sCf34qb"
      },
      "source": [
        "Конечно же, можно создать тензор явно, указав все значения."
      ]
    },
    {
      "cell_type": "code",
      "execution_count": null,
      "metadata": {
        "colab": {
          "base_uri": "https://localhost:8080/"
        },
        "id": "Aq5I6YeC34qb",
        "outputId": "ffa4464d-7b46-4dc7-8fb0-c57c77527914"
      },
      "outputs": [
        {
          "output_type": "execute_result",
          "data": {
            "text/plain": [
              "tensor([[ 1,  2,  3],\n",
              "        [ 4,  5,  6],\n",
              "        [10, 11,  0]])"
            ]
          },
          "metadata": {},
          "execution_count": 11
        }
      ],
      "source": [
        "torch.tensor([[1,2,3], [4,5,6], [10,11,0]])"
      ]
    },
    {
      "cell_type": "markdown",
      "metadata": {
        "id": "_fdDBA1t34qb"
      },
      "source": [
        "Иногда бывает полезно создать массив, заполненный случайными значениями. Для этого используются функции torch.rand и torch.randn. Первое использует равномерное распределение, второе — нормальное"
      ]
    },
    {
      "cell_type": "code",
      "execution_count": null,
      "metadata": {
        "colab": {
          "base_uri": "https://localhost:8080/"
        },
        "id": "zaVRxiJo34qb",
        "outputId": "31f0b51a-9317-4e6e-c15e-7965cadfe126"
      },
      "outputs": [
        {
          "output_type": "execute_result",
          "data": {
            "text/plain": [
              "tensor([[[0.6395, 0.9673, 0.1783, 0.7475],\n",
              "         [0.1175, 0.1170, 0.0439, 0.0460],\n",
              "         [0.1690, 0.3159, 0.5858, 0.0013]],\n",
              "\n",
              "        [[0.8692, 0.4489, 0.9983, 0.8434],\n",
              "         [0.5657, 0.2207, 0.5812, 0.2472],\n",
              "         [0.1624, 0.3124, 0.0330, 0.2344]]])"
            ]
          },
          "metadata": {},
          "execution_count": 12
        }
      ],
      "source": [
        "torch.rand((2,3,4))"
      ]
    },
    {
      "cell_type": "code",
      "execution_count": null,
      "metadata": {
        "colab": {
          "base_uri": "https://localhost:8080/"
        },
        "id": "M4gzOlNx34qb",
        "outputId": "8ea99017-f02e-432e-b1ba-b02eda5cb90c"
      },
      "outputs": [
        {
          "output_type": "execute_result",
          "data": {
            "text/plain": [
              "tensor([[[ 0.4045,  0.9398, -1.6803,  1.0544],\n",
              "         [ 2.9761, -0.0808, -1.3215,  0.6697],\n",
              "         [-0.0563,  2.8078,  0.0152,  1.6564]],\n",
              "\n",
              "        [[ 2.7859, -1.1182, -0.3278,  2.3890],\n",
              "         [-1.2613, -1.4962,  1.6390, -1.6176],\n",
              "         [ 0.6995,  2.4876,  0.3505, -0.6091]]])"
            ]
          },
          "metadata": {},
          "execution_count": 13
        }
      ],
      "source": [
        "torch.randn((2,3,4))"
      ]
    },
    {
      "cell_type": "markdown",
      "metadata": {
        "id": "AxPxZy1y34qb"
      },
      "source": [
        "## Операции"
      ]
    },
    {
      "cell_type": "markdown",
      "metadata": {
        "id": "xlB3CsoS34qb"
      },
      "source": [
        "Обычно мы хотим не только создавать массивы, но и применять к ним функции. Самые простые и полезные из них — это поэлементные функции. Они работают, выполняя одну скалярную операцию над соответствующими элементами двух массивов. "
      ]
    },
    {
      "cell_type": "code",
      "execution_count": null,
      "metadata": {
        "colab": {
          "base_uri": "https://localhost:8080/"
        },
        "id": "wy_nH2mH34qb",
        "outputId": "dedb9ef7-7cf3-41ad-ecc7-524bbedd1c96"
      },
      "outputs": [
        {
          "output_type": "stream",
          "name": "stdout",
          "text": [
            "x = tensor([1., 2., 4., 8.])\n",
            "y = tensor([2., 2., 2., 2.])\n",
            "x + y tensor([ 3.,  4.,  6., 10.])\n",
            "x - y tensor([-1.,  0.,  2.,  6.])\n",
            "x * y tensor([ 2.,  4.,  8., 16.])\n",
            "x / y tensor([0.5000, 1.0000, 2.0000, 4.0000])\n"
          ]
        }
      ],
      "source": [
        "x = torch.tensor([1., 2., 4., 8.])\n",
        "y = torch.ones_like(x) * 2\n",
        "print('x =', x)\n",
        "print('y =', y)\n",
        "print('x + y', x + y)\n",
        "print('x - y', x - y)\n",
        "print('x * y', x * y)\n",
        "print('x / y', x / y)"
      ]
    },
    {
      "cell_type": "markdown",
      "metadata": {
        "id": "zmuXKwr134qb"
      },
      "source": [
        "Ещё больше операций может быть выполненно поэлементно. Например, операции exp."
      ]
    },
    {
      "cell_type": "code",
      "execution_count": null,
      "metadata": {
        "colab": {
          "base_uri": "https://localhost:8080/"
        },
        "id": "DH-A5fDv34qb",
        "outputId": "c292934f-1142-4edd-cd79-78200d2ba7bd"
      },
      "outputs": [
        {
          "output_type": "execute_result",
          "data": {
            "text/plain": [
              "tensor([2.7183e+00, 7.3891e+00, 5.4598e+01, 2.9810e+03])"
            ]
          },
          "metadata": {},
          "execution_count": 15
        }
      ],
      "source": [
        "x.exp()"
      ]
    },
    {
      "cell_type": "markdown",
      "metadata": {
        "id": "NqV7yXc234qb"
      },
      "source": [
        "В дополнение к поэлементным вычислениям, мы также можем выполнять матричные операции. Например, матричное умножение. Для этого используется функция mm."
      ]
    },
    {
      "cell_type": "code",
      "execution_count": null,
      "metadata": {
        "id": "-mZOiVs4KmrC"
      },
      "outputs": [],
      "source": [
        "x1 = torch.arange(12)\n",
        "x2 = torch.arange(12)\n",
        "x3 = torch.arange(12)"
      ]
    },
    {
      "cell_type": "code",
      "execution_count": null,
      "metadata": {
        "colab": {
          "base_uri": "https://localhost:8080/"
        },
        "id": "ICVD0gR934qb",
        "outputId": "b5a1a179-7fc0-47d5-a68e-f9b6a1a1a1d6"
      },
      "outputs": [
        {
          "output_type": "execute_result",
          "data": {
            "text/plain": [
              "tensor([[ 18,  20,  10],\n",
              "        [ 58,  60,  50],\n",
              "        [ 98, 100,  90]])"
            ]
          },
          "metadata": {},
          "execution_count": 17
        }
      ],
      "source": [
        "x = torch.arange(12).reshape((3,4))\n",
        "y = torch.tensor([[2, 1, 4, 3], [1, 2, 3, 4], [4, 3, 2, 1]])\n",
        "torch.mm(x, y.T)"
      ]
    },
    {
      "cell_type": "markdown",
      "metadata": {
        "id": "NrBTbyHQ34qb"
      },
      "source": [
        "Мы также можем объединить несколько тензоров. Для этого нам нужно указать, по какому измерению производить объединение. В приведённом ниже примере объединяются две матрицы по измерению 0 (по строкам) и измерению 1 (по столбцам) соответственно."
      ]
    },
    {
      "cell_type": "code",
      "execution_count": null,
      "metadata": {
        "colab": {
          "base_uri": "https://localhost:8080/"
        },
        "id": "OsO4Pjdp34qb",
        "outputId": "1bba9b1e-a6e6-45a8-9dd9-a1fb2c56e4a4"
      },
      "outputs": [
        {
          "output_type": "execute_result",
          "data": {
            "text/plain": [
              "tensor([[ 0,  1,  2,  3],\n",
              "        [ 4,  5,  6,  7],\n",
              "        [ 8,  9, 10, 11],\n",
              "        [ 2,  1,  4,  3],\n",
              "        [ 1,  2,  3,  4],\n",
              "        [ 4,  3,  2,  1]])"
            ]
          },
          "metadata": {},
          "execution_count": 18
        }
      ],
      "source": [
        "torch.cat((x, y), axis=0)"
      ]
    },
    {
      "cell_type": "code",
      "execution_count": null,
      "metadata": {
        "colab": {
          "base_uri": "https://localhost:8080/"
        },
        "id": "_NY0kfhp34qc",
        "outputId": "2b85e17c-cdd3-4af2-ea2c-c583429fdac4"
      },
      "outputs": [
        {
          "output_type": "execute_result",
          "data": {
            "text/plain": [
              "tensor([[ 0,  1,  2,  3,  2,  1,  4,  3],\n",
              "        [ 4,  5,  6,  7,  1,  2,  3,  4],\n",
              "        [ 8,  9, 10, 11,  4,  3,  2,  1]])"
            ]
          },
          "metadata": {},
          "execution_count": 19
        }
      ],
      "source": [
        "torch.cat((x, y), dim=1)"
      ]
    },
    {
      "cell_type": "markdown",
      "metadata": {
        "id": "mdirOuCC34qc"
      },
      "source": [
        "Для получения булевых тензоров можно использовать булевы операторы. Например, можно сравнить два тензора при помощи оператора =="
      ]
    },
    {
      "cell_type": "code",
      "execution_count": null,
      "metadata": {
        "colab": {
          "base_uri": "https://localhost:8080/"
        },
        "id": "hVQHhUYX34qc",
        "scrolled": true,
        "outputId": "f7eb07a8-e0e7-4a8a-be1b-aa8784f69be3"
      },
      "outputs": [
        {
          "output_type": "execute_result",
          "data": {
            "text/plain": [
              "tensor([[1, 1, 1, 1],\n",
              "        [0, 0, 0, 0],\n",
              "        [0, 0, 0, 0]], dtype=torch.int32)"
            ]
          },
          "metadata": {},
          "execution_count": 20
        }
      ],
      "source": [
        "(x <= y).int()"
      ]
    },
    {
      "cell_type": "code",
      "execution_count": null,
      "metadata": {
        "colab": {
          "base_uri": "https://localhost:8080/"
        },
        "id": "pPpWVVhTckOh",
        "outputId": "bf96b749-38ea-4e38-d9d7-8127dd89e11f"
      },
      "outputs": [
        {
          "output_type": "execute_result",
          "data": {
            "text/plain": [
              "tensor([[ 0,  1,  2,  3],\n",
              "        [ 4,  5,  6,  7],\n",
              "        [ 8,  9, 10, 11]])"
            ]
          },
          "metadata": {},
          "execution_count": 21
        }
      ],
      "source": [
        "x"
      ]
    },
    {
      "cell_type": "markdown",
      "metadata": {
        "id": "ZlgOzsiQ34qc"
      },
      "source": [
        "Суммирование всех элементов тензора даёт тензор с одним элементом."
      ]
    },
    {
      "cell_type": "code",
      "execution_count": null,
      "metadata": {
        "colab": {
          "base_uri": "https://localhost:8080/"
        },
        "id": "NjjEo2zN34qc",
        "outputId": "765c87f9-ec79-4449-82ef-85c410ab8b85"
      },
      "outputs": [
        {
          "output_type": "execute_result",
          "data": {
            "text/plain": [
              "tensor(66)"
            ]
          },
          "metadata": {},
          "execution_count": 23
        }
      ],
      "source": [
        "x.sum()"
      ]
    },
    {
      "cell_type": "markdown",
      "metadata": {
        "id": "o23pUXsh34qc"
      },
      "source": [
        "Мы можем преобразовать результат в скаляр в Python, используя функцию item"
      ]
    },
    {
      "cell_type": "code",
      "execution_count": null,
      "metadata": {
        "colab": {
          "background_save": true,
          "base_uri": "https://localhost:8080/"
        },
        "id": "mkjmT83Y34qc",
        "outputId": "7254ab33-14c5-4f9f-8e1e-e349cdcdddaa"
      },
      "outputs": [
        {
          "data": {
            "text/plain": [
              "66"
            ]
          },
          "execution_count": null,
          "metadata": {},
          "output_type": "execute_result"
        }
      ],
      "source": [
        "x.sum().item()"
      ]
    },
    {
      "cell_type": "code",
      "execution_count": null,
      "metadata": {
        "colab": {
          "background_save": true,
          "base_uri": "https://localhost:8080/"
        },
        "id": "c39J_2UhjNCB",
        "outputId": "cceed307-d931-4ee8-bcc3-861ab3bde6b7"
      },
      "outputs": [
        {
          "data": {
            "text/plain": [
              "torch.Size([3])"
            ]
          },
          "execution_count": null,
          "metadata": {},
          "output_type": "execute_result"
        }
      ],
      "source": [
        "x.sum(dim=1).shape"
      ]
    },
    {
      "cell_type": "code",
      "execution_count": null,
      "metadata": {
        "colab": {
          "background_save": true,
          "base_uri": "https://localhost:8080/"
        },
        "id": "m2QsIST0ApTk",
        "outputId": "b35b23ba-4e9f-4fe8-e364-42c15fc2506e"
      },
      "outputs": [
        {
          "data": {
            "text/plain": [
              "torch.Size([3, 1])"
            ]
          },
          "execution_count": null,
          "metadata": {},
          "output_type": "execute_result"
        }
      ],
      "source": [
        "x.sum(dim=1, keepdim=True).shape"
      ]
    },
    {
      "cell_type": "code",
      "execution_count": null,
      "metadata": {
        "colab": {
          "background_save": true,
          "base_uri": "https://localhost:8080/"
        },
        "id": "9rfhXedJApY_",
        "outputId": "77e43eb1-5e32-494a-f629-eb44ed5f1589"
      },
      "outputs": [
        {
          "data": {
            "text/plain": [
              "torch.Size([1, 4])"
            ]
          },
          "execution_count": null,
          "metadata": {},
          "output_type": "execute_result"
        }
      ],
      "source": [
        "x.sum(dim=0, keepdim=True).shape"
      ]
    },
    {
      "cell_type": "markdown",
      "metadata": {
        "id": "7q3qKAAm5Sxx"
      },
      "source": [
        "Преобразование типов"
      ]
    },
    {
      "cell_type": "code",
      "execution_count": null,
      "metadata": {
        "colab": {
          "base_uri": "https://localhost:8080/"
        },
        "id": "T3TrDHdtc-Ek",
        "outputId": "a6ca57d6-4ffc-413d-a6e9-0a3dd65399f1"
      },
      "outputs": [
        {
          "output_type": "execute_result",
          "data": {
            "text/plain": [
              "torch.int64"
            ]
          },
          "metadata": {},
          "execution_count": 29
        }
      ],
      "source": [
        "x.dtype"
      ]
    },
    {
      "cell_type": "code",
      "execution_count": null,
      "metadata": {
        "colab": {
          "base_uri": "https://localhost:8080/"
        },
        "id": "glY_K40V4Quo",
        "outputId": "77bb5a07-1ec8-4ad2-abf5-bb6b2f438e0a"
      },
      "outputs": [
        {
          "output_type": "execute_result",
          "data": {
            "text/plain": [
              "tensor([[ 0.,  1.,  2.,  3.],\n",
              "        [ 4.,  5.,  6.,  7.],\n",
              "        [ 8.,  9., 10., 11.]], dtype=torch.float64)"
            ]
          },
          "metadata": {},
          "execution_count": 30
        }
      ],
      "source": [
        "x.double()"
      ]
    },
    {
      "cell_type": "code",
      "execution_count": null,
      "metadata": {
        "colab": {
          "base_uri": "https://localhost:8080/"
        },
        "id": "jMJERiCG4QzN",
        "outputId": "998b7f6e-2e28-45e2-ba38-7b1b04e38258"
      },
      "outputs": [
        {
          "output_type": "execute_result",
          "data": {
            "text/plain": [
              "tensor([[ 0.,  1.,  2.,  3.],\n",
              "        [ 4.,  5.,  6.,  7.],\n",
              "        [ 8.,  9., 10., 11.]], dtype=torch.float64)"
            ]
          },
          "metadata": {},
          "execution_count": 31
        }
      ],
      "source": [
        "x.type('torch.DoubleTensor')"
      ]
    },
    {
      "cell_type": "code",
      "source": [
        "x = torch.tensor([4,5,6,7])\n",
        "y = 3\n",
        "x - y"
      ],
      "metadata": {
        "colab": {
          "base_uri": "https://localhost:8080/"
        },
        "id": "AOQQxQvmeE4Y",
        "outputId": "0647b459-b99a-447a-ac81-550a09ba2bf0"
      },
      "execution_count": null,
      "outputs": [
        {
          "output_type": "execute_result",
          "data": {
            "text/plain": [
              "tensor([1, 2, 3, 4])"
            ]
          },
          "metadata": {},
          "execution_count": 35
        }
      ]
    },
    {
      "cell_type": "markdown",
      "metadata": {
        "id": "P1ekqZgJ-ubZ"
      },
      "source": [
        "##Изменение размерности"
      ]
    },
    {
      "cell_type": "code",
      "execution_count": null,
      "metadata": {
        "colab": {
          "base_uri": "https://localhost:8080/"
        },
        "id": "_S2N-Ooz--U4",
        "outputId": "ee930b05-d1d7-4377-e197-3929623c4dfc"
      },
      "outputs": [
        {
          "output_type": "execute_result",
          "data": {
            "text/plain": [
              "torch.Size([3, 4])"
            ]
          },
          "metadata": {},
          "execution_count": 32
        }
      ],
      "source": [
        "x.shape"
      ]
    },
    {
      "cell_type": "code",
      "execution_count": null,
      "metadata": {
        "colab": {
          "base_uri": "https://localhost:8080/"
        },
        "id": "a9V1Q_VkdfAb",
        "outputId": "b4ff4a2b-d198-4055-f20d-6fb9365bb1e0"
      },
      "outputs": [
        {
          "output_type": "execute_result",
          "data": {
            "text/plain": [
              "tensor([[ 0,  1,  2,  3],\n",
              "        [ 4,  5,  6,  7],\n",
              "        [ 8,  9, 10, 11]])"
            ]
          },
          "metadata": {},
          "execution_count": 33
        }
      ],
      "source": [
        "x"
      ]
    },
    {
      "cell_type": "code",
      "execution_count": null,
      "metadata": {
        "colab": {
          "base_uri": "https://localhost:8080/"
        },
        "id": "FKCGpx7K4Q3M",
        "outputId": "a636dc50-2974-4e49-d9f4-a058b81d73d2"
      },
      "outputs": [
        {
          "output_type": "execute_result",
          "data": {
            "text/plain": [
              "torch.Size([3, 1, 4])"
            ]
          },
          "metadata": {},
          "execution_count": 35
        }
      ],
      "source": [
        "x.unsqueeze(1).shape"
      ]
    },
    {
      "cell_type": "code",
      "execution_count": null,
      "metadata": {
        "colab": {
          "base_uri": "https://localhost:8080/"
        },
        "id": "E8RbICUN_SAA",
        "outputId": "5323b86b-d16b-4095-bf97-f131dc5f932c"
      },
      "outputs": [
        {
          "output_type": "execute_result",
          "data": {
            "text/plain": [
              "tensor([[[ 0],\n",
              "         [ 1],\n",
              "         [ 2],\n",
              "         [ 3]],\n",
              "\n",
              "        [[ 4],\n",
              "         [ 5],\n",
              "         [ 6],\n",
              "         [ 7]],\n",
              "\n",
              "        [[ 8],\n",
              "         [ 9],\n",
              "         [10],\n",
              "         [11]]])"
            ]
          },
          "metadata": {},
          "execution_count": 37
        }
      ],
      "source": [
        "x.unsqueeze(2)"
      ]
    },
    {
      "cell_type": "code",
      "execution_count": null,
      "metadata": {
        "colab": {
          "background_save": true,
          "base_uri": "https://localhost:8080/"
        },
        "id": "7vxLqg43_EnJ",
        "outputId": "de45a0af-6db0-462d-8dbb-7e54451864d2"
      },
      "outputs": [
        {
          "data": {
            "text/plain": [
              "torch.Size([3, 1, 4])"
            ]
          },
          "execution_count": null,
          "metadata": {},
          "output_type": "execute_result"
        }
      ],
      "source": [
        "x.unsqueeze(1).shape"
      ]
    },
    {
      "cell_type": "code",
      "execution_count": null,
      "metadata": {
        "colab": {
          "background_save": true,
          "base_uri": "https://localhost:8080/"
        },
        "id": "fLzx2maj_g5j",
        "outputId": "98a4efe4-58fb-41fc-84c1-686a06f39899"
      },
      "outputs": [
        {
          "data": {
            "text/plain": [
              "tensor([[[ 0,  1,  2,  3]],\n",
              "\n",
              "        [[ 4,  5,  6,  7]],\n",
              "\n",
              "        [[ 8,  9, 10, 11]]])"
            ]
          },
          "execution_count": null,
          "metadata": {},
          "output_type": "execute_result"
        }
      ],
      "source": [
        "x.unsqueeze(1)"
      ]
    },
    {
      "cell_type": "code",
      "execution_count": null,
      "metadata": {
        "colab": {
          "background_save": true,
          "base_uri": "https://localhost:8080/"
        },
        "id": "71lHapAL_qHP",
        "outputId": "8c4ad49e-e26c-4f4e-b0f3-8f77cbc4cae3"
      },
      "outputs": [
        {
          "data": {
            "text/plain": [
              "torch.Size([3, 4, 1])"
            ]
          },
          "execution_count": null,
          "metadata": {},
          "output_type": "execute_result"
        }
      ],
      "source": [
        "x.unsqueeze(2).shape"
      ]
    },
    {
      "cell_type": "code",
      "execution_count": null,
      "metadata": {
        "colab": {
          "background_save": true,
          "base_uri": "https://localhost:8080/"
        },
        "id": "74lxudUz_nDj",
        "outputId": "c5c6d121-ece1-4252-9b5e-c0ac502c94af"
      },
      "outputs": [
        {
          "data": {
            "text/plain": [
              "tensor([[[ 0],\n",
              "         [ 1],\n",
              "         [ 2],\n",
              "         [ 3]],\n",
              "\n",
              "        [[ 4],\n",
              "         [ 5],\n",
              "         [ 6],\n",
              "         [ 7]],\n",
              "\n",
              "        [[ 8],\n",
              "         [ 9],\n",
              "         [10],\n",
              "         [11]]])"
            ]
          },
          "execution_count": null,
          "metadata": {},
          "output_type": "execute_result"
        }
      ],
      "source": [
        "x.unsqueeze(2)"
      ]
    },
    {
      "cell_type": "code",
      "execution_count": null,
      "metadata": {
        "colab": {
          "base_uri": "https://localhost:8080/"
        },
        "id": "fnQKkdTWeeGH",
        "outputId": "a036917f-3ccb-4bd8-9aa9-551027418390"
      },
      "outputs": [
        {
          "output_type": "execute_result",
          "data": {
            "text/plain": [
              "torch.Size([3, 4])"
            ]
          },
          "metadata": {},
          "execution_count": 47
        }
      ],
      "source": [
        "x.unsqueeze(2).unsqueeze(1).squeeze().shape"
      ]
    },
    {
      "cell_type": "code",
      "execution_count": null,
      "metadata": {
        "colab": {
          "background_save": true,
          "base_uri": "https://localhost:8080/"
        },
        "id": "2dws5akLeeKf",
        "outputId": "36adf4a6-cbdf-45f1-8156-6c6264ea6f25"
      },
      "outputs": [
        {
          "data": {
            "text/plain": [
              "tensor([[ 0,  4,  8],\n",
              "        [ 1,  5,  9],\n",
              "        [ 2,  6, 10],\n",
              "        [ 3,  7, 11]])"
            ]
          },
          "execution_count": null,
          "metadata": {},
          "output_type": "execute_result"
        }
      ],
      "source": [
        "x.T"
      ]
    },
    {
      "cell_type": "code",
      "execution_count": null,
      "metadata": {
        "colab": {
          "background_save": true,
          "base_uri": "https://localhost:8080/"
        },
        "id": "YZHER0zWeeQ2",
        "outputId": "71ed4d22-4930-48bc-9a10-2997d4c9cacd"
      },
      "outputs": [
        {
          "data": {
            "text/plain": [
              "tensor([[ 0,  1,  2,  3],\n",
              "        [ 4,  5,  6,  7],\n",
              "        [ 8,  9, 10, 11]])"
            ]
          },
          "execution_count": null,
          "metadata": {},
          "output_type": "execute_result"
        }
      ],
      "source": [
        "x"
      ]
    },
    {
      "cell_type": "code",
      "execution_count": null,
      "metadata": {
        "colab": {
          "background_save": true,
          "base_uri": "https://localhost:8080/"
        },
        "id": "rjWEuOiV_EsX",
        "outputId": "a0eebda0-d01c-47a1-be1f-bbb2a40700e6"
      },
      "outputs": [
        {
          "data": {
            "text/plain": [
              "torch.Size([3, 4])"
            ]
          },
          "execution_count": null,
          "metadata": {},
          "output_type": "execute_result"
        }
      ],
      "source": [
        "x.unsqueeze(0).squeeze().shape"
      ]
    },
    {
      "cell_type": "markdown",
      "metadata": {
        "id": "Yj1CLDAD_xRP"
      },
      "source": [
        "##Транспонирование"
      ]
    },
    {
      "cell_type": "code",
      "execution_count": null,
      "metadata": {
        "colab": {
          "background_save": true,
          "base_uri": "https://localhost:8080/"
        },
        "id": "1By4ACrE_9ay",
        "outputId": "df0a59dc-4c27-4968-9f37-b98f7150f756"
      },
      "outputs": [
        {
          "data": {
            "text/plain": [
              "tensor([[ 0,  4,  8],\n",
              "        [ 1,  5,  9],\n",
              "        [ 2,  6, 10],\n",
              "        [ 3,  7, 11]])"
            ]
          },
          "execution_count": null,
          "metadata": {},
          "output_type": "execute_result"
        }
      ],
      "source": [
        "x.T"
      ]
    },
    {
      "cell_type": "code",
      "execution_count": null,
      "metadata": {
        "colab": {
          "base_uri": "https://localhost:8080/"
        },
        "id": "8ZPegFj6_ja9",
        "outputId": "621f9492-55b5-42c9-8595-eb0868f944b1"
      },
      "outputs": [
        {
          "output_type": "execute_result",
          "data": {
            "text/plain": [
              "tensor([[ 0,  4,  8],\n",
              "        [ 1,  5,  9],\n",
              "        [ 2,  6, 10],\n",
              "        [ 3,  7, 11]])"
            ]
          },
          "metadata": {},
          "execution_count": 38
        }
      ],
      "source": [
        "x.permute(1,0)"
      ]
    },
    {
      "cell_type": "code",
      "execution_count": null,
      "metadata": {
        "id": "KIAJVPG5f606"
      },
      "outputs": [],
      "source": [
        "xx = torch.rand((2,3,4))"
      ]
    },
    {
      "cell_type": "code",
      "execution_count": null,
      "metadata": {
        "colab": {
          "base_uri": "https://localhost:8080/"
        },
        "id": "Plo-kw5agOTF",
        "outputId": "3a06a567-2451-4880-f52c-cfb203f6f459"
      },
      "outputs": [
        {
          "output_type": "execute_result",
          "data": {
            "text/plain": [
              "tensor([[[0.6235, 0.7021, 0.5379, 0.8869],\n",
              "         [0.9846, 0.3704, 0.8588, 0.4023],\n",
              "         [0.1905, 0.6650, 0.2869, 0.5720]],\n",
              "\n",
              "        [[0.2367, 0.2103, 0.5284, 0.1468],\n",
              "         [0.3513, 0.0533, 0.7710, 0.1737],\n",
              "         [0.3670, 0.2350, 0.5171, 0.0335]]])"
            ]
          },
          "metadata": {},
          "execution_count": 40
        }
      ],
      "source": [
        "xx"
      ]
    },
    {
      "cell_type": "code",
      "execution_count": null,
      "metadata": {
        "colab": {
          "base_uri": "https://localhost:8080/"
        },
        "id": "b4QnCAMYf67U",
        "outputId": "e5169ee2-735a-4bb4-bb44-5bbeb8165fb9"
      },
      "outputs": [
        {
          "output_type": "execute_result",
          "data": {
            "text/plain": [
              "tensor([[[0.6235, 0.2367],\n",
              "         [0.7021, 0.2103],\n",
              "         [0.5379, 0.5284],\n",
              "         [0.8869, 0.1468]],\n",
              "\n",
              "        [[0.9846, 0.3513],\n",
              "         [0.3704, 0.0533],\n",
              "         [0.8588, 0.7710],\n",
              "         [0.4023, 0.1737]],\n",
              "\n",
              "        [[0.1905, 0.3670],\n",
              "         [0.6650, 0.2350],\n",
              "         [0.2869, 0.5171],\n",
              "         [0.5720, 0.0335]]])"
            ]
          },
          "metadata": {},
          "execution_count": 41
        }
      ],
      "source": [
        "xx.permute(1,2,0)"
      ]
    },
    {
      "cell_type": "code",
      "execution_count": null,
      "metadata": {
        "colab": {
          "background_save": true
        },
        "id": "y8FnOdFxgENZ"
      },
      "outputs": [],
      "source": []
    },
    {
      "cell_type": "markdown",
      "metadata": {
        "id": "ugl_OPKE34qc"
      },
      "source": [
        "## Broadcast \n",
        "\n",
        "Выполнять операции можно не только с тензорами одинакового размера, но и разного. Когда их формы различаются, запускается механизм broadcast'а. Сначала элементы копируются соответствующим образом, чтобы два тензора имели одинаковую форму, а затем операции выполняются поэлементно."
      ]
    },
    {
      "cell_type": "code",
      "execution_count": null,
      "metadata": {
        "colab": {
          "base_uri": "https://localhost:8080/"
        },
        "id": "2DMPJepA34qc",
        "scrolled": true,
        "outputId": "24442cc2-cd79-4b97-b8be-d3d80770833d"
      },
      "outputs": [
        {
          "output_type": "execute_result",
          "data": {
            "text/plain": [
              "(tensor([[0],\n",
              "         [1],\n",
              "         [2]]), tensor([[0, 1, 2, 3]]))"
            ]
          },
          "metadata": {},
          "execution_count": 42
        }
      ],
      "source": [
        "a = torch.arange(3).reshape((3, 1))\n",
        "b = torch.arange(4).reshape((1, 4))\n",
        "a, b"
      ]
    },
    {
      "cell_type": "markdown",
      "metadata": {
        "id": "3fsNkk6O34qc"
      },
      "source": [
        "Поскольку a и b являются матрицами (3x1) и (1x2) соответственно, их формы не совпадают. Torch решает эту проблему путём broadcast'а значений обеих матриц в большую (3x2) матрицу следующим образом: для матрицы a он реплицирует столбцы, для матрицы b он реплицирует строки. После чего запускается операция сложения"
      ]
    },
    {
      "cell_type": "code",
      "execution_count": null,
      "metadata": {
        "colab": {
          "base_uri": "https://localhost:8080/"
        },
        "id": "E73QA5hZ34qc",
        "outputId": "a5dbc239-2a71-4fb1-f42b-926f90994dbd"
      },
      "outputs": [
        {
          "output_type": "execute_result",
          "data": {
            "text/plain": [
              "tensor([[0, 1, 2, 3],\n",
              "        [1, 2, 3, 4],\n",
              "        [2, 3, 4, 5]])"
            ]
          },
          "metadata": {},
          "execution_count": 43
        }
      ],
      "source": [
        "a + b"
      ]
    },
    {
      "cell_type": "markdown",
      "metadata": {
        "id": "mGsDt2oI34qc"
      },
      "source": [
        "## Индексирование\n",
        "\n",
        "Как и в любом другом массиве Python, элементы в тензоре могут быть доступны по их индексу. По традиции первый элемент имеет индекс 0, а диапазоны указываются для включения первого, но не последнего элемента. По этой логике `1: 3` выбирает второй и третий элемент из тензора"
      ]
    },
    {
      "cell_type": "code",
      "execution_count": null,
      "metadata": {
        "colab": {
          "base_uri": "https://localhost:8080/"
        },
        "id": "VoIV0zfd34qc",
        "outputId": "76b73959-3ded-4737-e85d-9e0b76d011d6"
      },
      "outputs": [
        {
          "output_type": "execute_result",
          "data": {
            "text/plain": [
              "tensor([[ 0,  1,  2,  3],\n",
              "        [ 4,  5,  6,  7],\n",
              "        [ 8,  9, 10, 11]])"
            ]
          },
          "metadata": {},
          "execution_count": 48
        }
      ],
      "source": [
        "x"
      ]
    },
    {
      "cell_type": "code",
      "execution_count": null,
      "metadata": {
        "colab": {
          "base_uri": "https://localhost:8080/"
        },
        "id": "exlpsUvO34qc",
        "outputId": "96c37136-ea83-4b53-ee5c-b1d57c95608e"
      },
      "outputs": [
        {
          "output_type": "execute_result",
          "data": {
            "text/plain": [
              "tensor([[ 5,  6],\n",
              "        [ 9, 10]])"
            ]
          },
          "metadata": {},
          "execution_count": 49
        }
      ],
      "source": [
        "x[1:3,1:3]"
      ]
    },
    {
      "cell_type": "markdown",
      "metadata": {
        "id": "jQl5OOWd34qc"
      },
      "source": [
        "Мы так же можем изменять значения в тензоре"
      ]
    },
    {
      "cell_type": "code",
      "execution_count": null,
      "metadata": {
        "colab": {
          "base_uri": "https://localhost:8080/"
        },
        "id": "L5uldJc734qc",
        "outputId": "50a86ed0-47ce-4186-9755-4c015fecff91"
      },
      "outputs": [
        {
          "output_type": "execute_result",
          "data": {
            "text/plain": [
              "tensor([[ 0,  1,  2,  3],\n",
              "        [ 4,  5,  9,  7],\n",
              "        [ 8,  9,  9, 11]])"
            ]
          },
          "metadata": {},
          "execution_count": 51
        }
      ],
      "source": [
        "x[1:3, 2:3] = 9\n",
        "x"
      ]
    },
    {
      "cell_type": "markdown",
      "metadata": {
        "id": "74LlTvcY34qc"
      },
      "source": [
        "Если мы хотим присвоить нескольким элементам одно и то же значение, мы просто индексируем все из них (при помощи оператора `:`), а затем присваиваем им значения. Например, `[0:2,:]` обращается к первой и второй строчкам."
      ]
    },
    {
      "cell_type": "code",
      "execution_count": null,
      "metadata": {
        "colab": {
          "base_uri": "https://localhost:8080/"
        },
        "id": "vc2sGtyA34qc",
        "outputId": "fe28de74-fd17-4280-fecf-1db4d21048e9"
      },
      "outputs": [
        {
          "output_type": "execute_result",
          "data": {
            "text/plain": [
              "tensor([[12, 12, 12, 12],\n",
              "        [12, 12, 12, 12],\n",
              "        [ 8,  9,  9, 11]])"
            ]
          },
          "metadata": {},
          "execution_count": 52
        }
      ],
      "source": [
        "x[0:2, :] = 12\n",
        "x"
      ]
    },
    {
      "cell_type": "markdown",
      "metadata": {
        "id": "hOCnSvL434qc"
      },
      "source": [
        "## В numpy и назад"
      ]
    },
    {
      "cell_type": "code",
      "execution_count": null,
      "metadata": {
        "colab": {
          "base_uri": "https://localhost:8080/"
        },
        "id": "WkOvY9KQ34qc",
        "outputId": "d9e91268-d816-4c3f-e140-ddfa4dcf0015"
      },
      "outputs": [
        {
          "data": {
            "text/plain": [
              "array([[12, 12, 12, 12],\n",
              "       [12, 12, 12, 12],\n",
              "       [ 8,  9, 10, 11]])"
            ]
          },
          "execution_count": 114,
          "metadata": {
            "tags": []
          },
          "output_type": "execute_result"
        }
      ],
      "source": [
        "x.numpy()"
      ]
    },
    {
      "cell_type": "code",
      "execution_count": null,
      "metadata": {
        "colab": {
          "base_uri": "https://localhost:8080/"
        },
        "id": "xelGRn4L34qc",
        "outputId": "d4ab44c0-7c33-42b1-ff19-b952b63b950d"
      },
      "outputs": [
        {
          "data": {
            "text/plain": [
              "tensor([[12, 12, 12, 12],\n",
              "        [12, 12, 12, 12],\n",
              "        [ 8,  9, 10, 11]])"
            ]
          },
          "execution_count": 115,
          "metadata": {
            "tags": []
          },
          "output_type": "execute_result"
        }
      ],
      "source": [
        "y = torch.tensor(x.numpy())\n",
        "y"
      ]
    },
    {
      "cell_type": "markdown",
      "metadata": {
        "id": "wrBPGmYI34qc"
      },
      "source": [
        "## Немного практики"
      ]
    },
    {
      "cell_type": "markdown",
      "metadata": {
        "id": "Ih_9Za0d34qc"
      },
      "source": [
        "1. Матрица B называется обратной к матрице A, если A*B = I (где I - единичная матрица). Найдите (перебором) обратную к матрице A = ((1,1), (1,2))\n",
        "2. Примените оператор преобразования A = ((1,2), (3,4)) к квадрату с вершинами в точках (1,1), (1,-1), (-1, -1), (-1, 1) и найдите расстояния между получившимися вершинами"
      ]
    },
    {
      "cell_type": "code",
      "execution_count": null,
      "metadata": {
        "colab": {
          "base_uri": "https://localhost:8080/"
        },
        "id": "6mwzk83_34qd",
        "outputId": "a3d285ad-b817-4ed9-a174-7211e5133548"
      },
      "outputs": [
        {
          "output_type": "execute_result",
          "data": {
            "text/plain": [
              "tensor([[1, 0],\n",
              "        [0, 1]])"
            ]
          },
          "metadata": {},
          "execution_count": 53
        }
      ],
      "source": [
        "a = torch.tensor([[1,1],[1,2]])\n",
        "b = torch.tensor([[2,-1],[-1,1]])\n",
        "torch.mm(a,b)\n"
      ]
    },
    {
      "cell_type": "code",
      "execution_count": null,
      "metadata": {
        "id": "H6422ppWm9Cg"
      },
      "outputs": [],
      "source": [
        "a = torch.tensor([[1,2],[3,4]])\n",
        "\n",
        "l = [[1,1],[1,-1],[-1,-1],[-1,1]]"
      ]
    },
    {
      "cell_type": "code",
      "execution_count": null,
      "metadata": {
        "colab": {
          "base_uri": "https://localhost:8080/"
        },
        "id": "dGa73yQdnlZu",
        "outputId": "0d869883-22b3-48a5-8129-cf52adfff5a1"
      },
      "outputs": [
        {
          "output_type": "stream",
          "name": "stdout",
          "text": [
            "tensor([3, 7])\n",
            "tensor([-1, -1])\n",
            "tensor([-3, -7])\n",
            "tensor([1, 1])\n"
          ]
        }
      ],
      "source": [
        "for i in l:\n",
        "  t = torch.tensor(i)\n",
        "  print(torch.mv(a,t))\n"
      ]
    },
    {
      "cell_type": "markdown",
      "metadata": {
        "id": "tws2kh1Q34qd"
      },
      "source": [
        "## Вероятности"
      ]
    },
    {
      "cell_type": "code",
      "execution_count": null,
      "metadata": {
        "id": "Zaxu9d6g34qd"
      },
      "outputs": [],
      "source": [
        "# Равномерное распределение вероятности"
      ]
    },
    {
      "cell_type": "code",
      "execution_count": null,
      "metadata": {
        "colab": {
          "base_uri": "https://localhost:8080/"
        },
        "id": "gYjE950K34qd",
        "outputId": "fc3c2558-b190-4618-bd2b-b781d0405c89"
      },
      "outputs": [
        {
          "data": {
            "text/plain": [
              "tensor([0.6790, 0.1662, 0.2623, 0.9339, 0.4865, 0.5421, 0.4671, 0.3601, 0.5452,\n",
              "        0.9982])"
            ]
          },
          "execution_count": 120,
          "metadata": {
            "tags": []
          },
          "output_type": "execute_result"
        }
      ],
      "source": [
        "torch.rand(10)"
      ]
    },
    {
      "cell_type": "code",
      "execution_count": null,
      "metadata": {
        "id": "2IwxOG-P34qd"
      },
      "outputs": [],
      "source": [
        "## Нормальное распределение"
      ]
    },
    {
      "cell_type": "code",
      "execution_count": null,
      "metadata": {
        "colab": {
          "base_uri": "https://localhost:8080/"
        },
        "id": "s-fhgixy34qd",
        "outputId": "ace5ff8a-0c9c-4ea3-b2ef-2af1dc3648e3"
      },
      "outputs": [
        {
          "data": {
            "text/plain": [
              "tensor([ 1.4297,  0.5075,  0.1440,  0.5910,  0.7830,  2.2571, -2.4278, -0.1643,\n",
              "        -1.2213,  1.7620])"
            ]
          },
          "execution_count": 122,
          "metadata": {
            "tags": []
          },
          "output_type": "execute_result"
        }
      ],
      "source": [
        "torch.randn(10)"
      ]
    },
    {
      "cell_type": "code",
      "execution_count": null,
      "metadata": {
        "id": "2oDMvl9734qd"
      },
      "outputs": [],
      "source": [
        "## Равномерное на целых числах"
      ]
    },
    {
      "cell_type": "code",
      "execution_count": null,
      "metadata": {
        "colab": {
          "base_uri": "https://localhost:8080/"
        },
        "id": "tU-Smdw234qd",
        "outputId": "fe3005f8-01e0-4a2d-f58d-7ae9177e2106"
      },
      "outputs": [
        {
          "data": {
            "text/plain": [
              "tensor([4, 6, 5, 5, 7, 6, 0, 6, 3, 0])"
            ]
          },
          "execution_count": 124,
          "metadata": {
            "tags": []
          },
          "output_type": "execute_result"
        }
      ],
      "source": [
        "torch.randint(0, 10, (10,))"
      ]
    },
    {
      "cell_type": "markdown",
      "metadata": {
        "id": "jBy7JnNt34qd"
      },
      "source": [
        "## Постройте график плотности для нормального распределения"
      ]
    },
    {
      "cell_type": "code",
      "execution_count": null,
      "metadata": {
        "colab": {
          "base_uri": "https://localhost:8080/"
        },
        "id": "YVf5rJeV34qd",
        "outputId": "78dd8f1e-4faf-426e-8f28-1b7a371fbb08"
      },
      "outputs": [
        {
          "data": {
            "image/png": "[encoded data removed]",
            "text/plain": [
              "<Figure size 432x288 with 1 Axes>"
            ]
          },
          "metadata": {
            "tags": []
          },
          "output_type": "display_data"
        }
      ],
      "source": [
        "from matplotlib import pyplot as plt\n",
        "_ = plt.hist(torch.randn(1000000), bins=1000)"
      ]
    },
    {
      "cell_type": "code",
      "execution_count": null,
      "metadata": {
        "id": "oSK1T9Sg34qd"
      },
      "outputs": [],
      "source": []
    },
    {
      "cell_type": "code",
      "execution_count": null,
      "metadata": {
        "id": "dm7x4iTJ34qd"
      },
      "outputs": [],
      "source": []
    }
  ],
  "metadata": {
    "colab": {
      "provenance": []
    },
    "kernelspec": {
      "display_name": "Python 3",
      "language": "python",
      "name": "python3"
    },
    "language_info": {
      "codemirror_mode": {
        "name": "ipython",
        "version": 3
      },
      "file_extension": ".py",
      "mimetype": "text/x-python",
      "name": "python",
      "nbconvert_exporter": "python",
      "pygments_lexer": "ipython3",
      "version": "3.7.1"
    }
  },
  "nbformat": 4,
  "nbformat_minor": 0
}