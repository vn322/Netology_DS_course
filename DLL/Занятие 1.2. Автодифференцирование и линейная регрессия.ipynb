{
  "cells": [
    {
      "cell_type": "markdown",
      "metadata": {
        "id": "2ZIiCcBm31Wv"
      },
      "source": [
        "## Автоматическое дифференцирование"
      ]
    },
    {
      "cell_type": "code",
      "execution_count": null,
      "metadata": {
        "id": "aYrk3oBX31Ww"
      },
      "outputs": [],
      "source": [
        "import torch\n",
        "from torch import autograd"
      ]
    },
    {
      "cell_type": "code",
      "execution_count": null,
      "metadata": {
        "id": "nBnQNG7i31Ww",
        "colab": {
          "base_uri": "https://localhost:8080/"
        },
        "outputId": "0fe16c14-19f7-42a9-c7a2-70c022141e14"
      },
      "outputs": [
        {
          "output_type": "stream",
          "name": "stdout",
          "text": [
            "tensor([0., 1., 2., 3.])\n"
          ]
        }
      ],
      "source": [
        "x = torch.arange(4).type(torch.float)\n",
        "print(x)"
      ]
    },
    {
      "cell_type": "markdown",
      "metadata": {
        "id": "9IURmWho31Ww"
      },
      "source": [
        "## Присоединение градиента к `x`\n",
        "\n",
        "- Говорит системе, что мы хотим хранить градиент"
      ]
    },
    {
      "cell_type": "code",
      "execution_count": null,
      "metadata": {
        "id": "9-8w-QC931Ww",
        "colab": {
          "base_uri": "https://localhost:8080/"
        },
        "outputId": "9eb7615a-8a02-431f-b3fe-1f62edcce11d"
      },
      "outputs": [
        {
          "output_type": "execute_result",
          "data": {
            "text/plain": [
              "False"
            ]
          },
          "metadata": {},
          "execution_count": 3
        }
      ],
      "source": [
        "x.requires_grad"
      ]
    },
    {
      "cell_type": "code",
      "execution_count": null,
      "metadata": {
        "id": "ilpGW8d031Ww"
      },
      "outputs": [],
      "source": [
        "x = x.requires_grad_()"
      ]
    },
    {
      "cell_type": "code",
      "execution_count": null,
      "metadata": {
        "id": "7gr4GM2Z31Ww",
        "colab": {
          "base_uri": "https://localhost:8080/"
        },
        "outputId": "d7385d02-0b1d-4684-d692-60003de57468"
      },
      "outputs": [
        {
          "output_type": "execute_result",
          "data": {
            "text/plain": [
              "True"
            ]
          },
          "metadata": {},
          "execution_count": 5
        }
      ],
      "source": [
        "x.requires_grad"
      ]
    },
    {
      "cell_type": "code",
      "source": [
        "x.detach().requires_grad"
      ],
      "metadata": {
        "colab": {
          "base_uri": "https://localhost:8080/"
        },
        "id": "vh4xya6qGZIe",
        "outputId": "aafa7482-19cb-40cc-8b2a-4d97c8f3bd32"
      },
      "execution_count": null,
      "outputs": [
        {
          "output_type": "execute_result",
          "data": {
            "text/plain": [
              "False"
            ]
          },
          "metadata": {},
          "execution_count": 8
        }
      ]
    },
    {
      "cell_type": "code",
      "execution_count": null,
      "metadata": {
        "id": "DLrma54A31Ww"
      },
      "outputs": [],
      "source": [
        "x.grad"
      ]
    },
    {
      "cell_type": "markdown",
      "metadata": {
        "id": "qf8SjbES31Ww"
      },
      "source": [
        "## Forward\n",
        "\n",
        "Вычислим \n",
        "\n",
        "$$y = 2\\mathbf{x}^{\\top}\\mathbf{x}$$"
      ]
    },
    {
      "cell_type": "code",
      "execution_count": null,
      "metadata": {
        "id": "Rial63TM31Ww",
        "colab": {
          "base_uri": "https://localhost:8080/"
        },
        "outputId": "27a8d81f-1ead-4444-b4f3-f29ec2b1bde8"
      },
      "outputs": [
        {
          "output_type": "stream",
          "name": "stderr",
          "text": [
            "/usr/local/lib/python3.7/dist-packages/ipykernel_launcher.py:1: UserWarning: The use of `x.T` on tensors of dimension other than 2 to reverse their shape is deprecated and it will throw an error in a future release. Consider `x.mT` to transpose batches of matricesor `x.permute(*torch.arange(x.ndim - 1, -1, -1))` to reverse the dimensions of a tensor. (Triggered internally at  ../aten/src/ATen/native/TensorShape.cpp:2981.)\n",
            "  \"\"\"Entry point for launching an IPython kernel.\n"
          ]
        }
      ],
      "source": [
        "y = 2 * x.dot(x.T)\n",
        "y2 = 2 * x.dot(x.T)"
      ]
    },
    {
      "cell_type": "code",
      "execution_count": null,
      "metadata": {
        "id": "gJ6OPpMa31Ww",
        "colab": {
          "base_uri": "https://localhost:8080/"
        },
        "outputId": "1d46bd79-61b4-45b5-9285-3bde8e93bd2b"
      },
      "outputs": [
        {
          "output_type": "execute_result",
          "data": {
            "text/plain": [
              "tensor(28., grad_fn=<MulBackward0>)"
            ]
          },
          "metadata": {},
          "execution_count": 11
        }
      ],
      "source": [
        "y"
      ]
    },
    {
      "cell_type": "markdown",
      "metadata": {
        "id": "ENNZlqQQ31Ww"
      },
      "source": [
        "## Backward"
      ]
    },
    {
      "cell_type": "code",
      "execution_count": null,
      "metadata": {
        "id": "hSPS6vkq31Ww"
      },
      "outputs": [],
      "source": [
        "y.backward()\n",
        "\n"
      ]
    },
    {
      "cell_type": "markdown",
      "metadata": {
        "id": "gNGtphuz31Ww"
      },
      "source": [
        "## Получение градиента\n",
        "\n",
        "$y = 2\\mathbf{x}^{\\top}\\mathbf{x}$, значит \n",
        "\n",
        "$$\\frac{\\partial y}{\\partial \\mathbf x} = 4\\mathbf{x}$$\n",
        "\n",
        "Проверим:"
      ]
    },
    {
      "cell_type": "code",
      "execution_count": null,
      "metadata": {
        "id": "glDck1bX31Ww",
        "colab": {
          "base_uri": "https://localhost:8080/"
        },
        "outputId": "28526810-3788-4b12-9c61-b8f9ba067452"
      },
      "outputs": [
        {
          "output_type": "execute_result",
          "data": {
            "text/plain": [
              "tensor([ 0.,  4.,  8., 12.])"
            ]
          },
          "metadata": {},
          "execution_count": 10
        }
      ],
      "source": [
        "x.grad"
      ]
    },
    {
      "cell_type": "code",
      "execution_count": null,
      "metadata": {
        "id": "BuzBfu1A31Wx",
        "colab": {
          "base_uri": "https://localhost:8080/"
        },
        "outputId": "e8835106-22f4-4fd8-bb96-57badcf99fbf"
      },
      "outputs": [
        {
          "output_type": "execute_result",
          "data": {
            "text/plain": [
              "tensor([True, True, True, True])"
            ]
          },
          "metadata": {},
          "execution_count": 11
        }
      ],
      "source": [
        "4 * x == x.grad"
      ]
    },
    {
      "cell_type": "markdown",
      "metadata": {
        "id": "O7s8xgfh31Wx"
      },
      "source": [
        "## no_grad\n",
        "\n",
        "Функция no_grad позволяет отключить вычисление градиента для части кода"
      ]
    },
    {
      "cell_type": "code",
      "execution_count": null,
      "metadata": {
        "id": "F5DExvLF31Wx",
        "colab": {
          "base_uri": "https://localhost:8080/"
        },
        "outputId": "da5a9139-451d-44d7-8889-8d5118cd6730"
      },
      "outputs": [
        {
          "output_type": "stream",
          "name": "stdout",
          "text": [
            "<MulBackward0 object at 0x7fcda27b8490>\n",
            "None\n"
          ]
        }
      ],
      "source": [
        "y = 2 * x.dot(x)\n",
        "print(y.grad_fn)\n",
        "with torch.no_grad():\n",
        "    y = 2 * x.dot(x)\n",
        "    print(y.grad_fn)"
      ]
    },
    {
      "cell_type": "code",
      "execution_count": null,
      "metadata": {
        "id": "5G8lgKfp0Kkc",
        "colab": {
          "base_uri": "https://localhost:8080/"
        },
        "outputId": "b5ebfceb-80e3-4eea-f9ff-4da49264def6"
      },
      "outputs": [
        {
          "output_type": "execute_result",
          "data": {
            "text/plain": [
              "tensor([ 0.,  4.,  8., 12.])"
            ]
          },
          "metadata": {},
          "execution_count": 13
        }
      ],
      "source": [
        "x.grad"
      ]
    },
    {
      "cell_type": "code",
      "execution_count": null,
      "metadata": {
        "id": "4GCZhuT231Wx",
        "colab": {
          "base_uri": "https://localhost:8080/",
          "height": 410
        },
        "outputId": "d7acf93b-f35a-4d91-dcaf-bacdab4c12cd"
      },
      "outputs": [
        {
          "output_type": "stream",
          "name": "stdout",
          "text": [
            "tensor([ 0.,  8., 16., 24.])\n"
          ]
        },
        {
          "output_type": "error",
          "ename": "RuntimeError",
          "evalue": "ignored",
          "traceback": [
            "\u001b[0;31m---------------------------------------------------------------------------\u001b[0m",
            "\u001b[0;31mRuntimeError\u001b[0m                              Traceback (most recent call last)",
            "\u001b[0;32m<ipython-input-14-e4856f420946>\u001b[0m in \u001b[0;36m<module>\u001b[0;34m()\u001b[0m\n\u001b[1;32m      4\u001b[0m \u001b[0;32mwith\u001b[0m \u001b[0mtorch\u001b[0m\u001b[0;34m.\u001b[0m\u001b[0mno_grad\u001b[0m\u001b[0;34m(\u001b[0m\u001b[0;34m)\u001b[0m\u001b[0;34m:\u001b[0m\u001b[0;34m\u001b[0m\u001b[0;34m\u001b[0m\u001b[0m\n\u001b[1;32m      5\u001b[0m   \u001b[0my\u001b[0m \u001b[0;34m=\u001b[0m \u001b[0;36m2\u001b[0m \u001b[0;34m*\u001b[0m \u001b[0mx\u001b[0m\u001b[0;34m.\u001b[0m\u001b[0mdot\u001b[0m\u001b[0;34m(\u001b[0m\u001b[0mx\u001b[0m\u001b[0;34m)\u001b[0m\u001b[0;34m\u001b[0m\u001b[0;34m\u001b[0m\u001b[0m\n\u001b[0;32m----> 6\u001b[0;31m   \u001b[0my\u001b[0m\u001b[0;34m.\u001b[0m\u001b[0mbackward\u001b[0m\u001b[0;34m(\u001b[0m\u001b[0;34m)\u001b[0m\u001b[0;34m\u001b[0m\u001b[0;34m\u001b[0m\u001b[0m\n\u001b[0m\u001b[1;32m      7\u001b[0m   \u001b[0mprint\u001b[0m\u001b[0;34m(\u001b[0m\u001b[0mx\u001b[0m\u001b[0;34m.\u001b[0m\u001b[0mgrad\u001b[0m\u001b[0;34m)\u001b[0m\u001b[0;34m\u001b[0m\u001b[0;34m\u001b[0m\u001b[0m\n",
            "\u001b[0;32m/usr/local/lib/python3.7/dist-packages/torch/_tensor.py\u001b[0m in \u001b[0;36mbackward\u001b[0;34m(self, gradient, retain_graph, create_graph, inputs)\u001b[0m\n\u001b[1;32m    361\u001b[0m                 \u001b[0mcreate_graph\u001b[0m\u001b[0;34m=\u001b[0m\u001b[0mcreate_graph\u001b[0m\u001b[0;34m,\u001b[0m\u001b[0;34m\u001b[0m\u001b[0;34m\u001b[0m\u001b[0m\n\u001b[1;32m    362\u001b[0m                 inputs=inputs)\n\u001b[0;32m--> 363\u001b[0;31m         \u001b[0mtorch\u001b[0m\u001b[0;34m.\u001b[0m\u001b[0mautograd\u001b[0m\u001b[0;34m.\u001b[0m\u001b[0mbackward\u001b[0m\u001b[0;34m(\u001b[0m\u001b[0mself\u001b[0m\u001b[0;34m,\u001b[0m \u001b[0mgradient\u001b[0m\u001b[0;34m,\u001b[0m \u001b[0mretain_graph\u001b[0m\u001b[0;34m,\u001b[0m \u001b[0mcreate_graph\u001b[0m\u001b[0;34m,\u001b[0m \u001b[0minputs\u001b[0m\u001b[0;34m=\u001b[0m\u001b[0minputs\u001b[0m\u001b[0;34m)\u001b[0m\u001b[0;34m\u001b[0m\u001b[0;34m\u001b[0m\u001b[0m\n\u001b[0m\u001b[1;32m    364\u001b[0m \u001b[0;34m\u001b[0m\u001b[0m\n\u001b[1;32m    365\u001b[0m     \u001b[0;32mdef\u001b[0m \u001b[0mregister_hook\u001b[0m\u001b[0;34m(\u001b[0m\u001b[0mself\u001b[0m\u001b[0;34m,\u001b[0m \u001b[0mhook\u001b[0m\u001b[0;34m)\u001b[0m\u001b[0;34m:\u001b[0m\u001b[0;34m\u001b[0m\u001b[0;34m\u001b[0m\u001b[0m\n",
            "\u001b[0;32m/usr/local/lib/python3.7/dist-packages/torch/autograd/__init__.py\u001b[0m in \u001b[0;36mbackward\u001b[0;34m(tensors, grad_tensors, retain_graph, create_graph, grad_variables, inputs)\u001b[0m\n\u001b[1;32m    173\u001b[0m     Variable._execution_engine.run_backward(  # Calls into the C++ engine to run the backward pass\n\u001b[1;32m    174\u001b[0m         \u001b[0mtensors\u001b[0m\u001b[0;34m,\u001b[0m \u001b[0mgrad_tensors_\u001b[0m\u001b[0;34m,\u001b[0m \u001b[0mretain_graph\u001b[0m\u001b[0;34m,\u001b[0m \u001b[0mcreate_graph\u001b[0m\u001b[0;34m,\u001b[0m \u001b[0minputs\u001b[0m\u001b[0;34m,\u001b[0m\u001b[0;34m\u001b[0m\u001b[0;34m\u001b[0m\u001b[0m\n\u001b[0;32m--> 175\u001b[0;31m         allow_unreachable=True, accumulate_grad=True)  # Calls into the C++ engine to run the backward pass\n\u001b[0m\u001b[1;32m    176\u001b[0m \u001b[0;34m\u001b[0m\u001b[0m\n\u001b[1;32m    177\u001b[0m def grad(\n",
            "\u001b[0;31mRuntimeError\u001b[0m: element 0 of tensors does not require grad and does not have a grad_fn"
          ]
        }
      ],
      "source": [
        "y = 2 * x.dot(x)\n",
        "y.backward()\n",
        "print(x.grad)\n",
        "with torch.no_grad():\n",
        "  y = 2 * x.dot(x)\n",
        "  y.backward()\n",
        "  print(x.grad)"
      ]
    },
    {
      "cell_type": "markdown",
      "metadata": {
        "id": "9oZBfVqd31Wx"
      },
      "source": [
        "## Гибкий граф"
      ]
    },
    {
      "cell_type": "code",
      "execution_count": null,
      "metadata": {
        "id": "5cMlgUBQ31Wx"
      },
      "outputs": [],
      "source": [
        "def f(a):\n",
        "    b = a * 2\n",
        "    while b.norm().item() < 1000:\n",
        "        b = b * 2\n",
        "    if b.sum().item() > 0:\n",
        "        c = b\n",
        "    else:\n",
        "        c = 100 * b\n",
        "    return c"
      ]
    },
    {
      "cell_type": "code",
      "execution_count": null,
      "metadata": {
        "id": "kFUeW2Tj31Wx"
      },
      "outputs": [],
      "source": [
        "a = torch.randn(1).requires_grad_()\n",
        "d = f(a)\n",
        "d.backward()"
      ]
    },
    {
      "cell_type": "code",
      "execution_count": null,
      "metadata": {
        "colab": {
          "base_uri": "https://localhost:8080/"
        },
        "id": "5wYHp2_l31Wx",
        "outputId": "02b96357-59dd-4c38-e39c-f836321083b3"
      },
      "outputs": [
        {
          "output_type": "execute_result",
          "data": {
            "text/plain": [
              "tensor([-170053.6094], grad_fn=<MulBackward0>)"
            ]
          },
          "metadata": {},
          "execution_count": 19
        }
      ],
      "source": [
        "d"
      ]
    },
    {
      "cell_type": "code",
      "execution_count": null,
      "metadata": {
        "colab": {
          "base_uri": "https://localhost:8080/"
        },
        "id": "Lr-QZSZy31Wx",
        "outputId": "2521f6af-b5aa-4c20-fdab-9aea31cbb86e"
      },
      "outputs": [
        {
          "output_type": "execute_result",
          "data": {
            "text/plain": [
              "tensor([-0.8303], requires_grad=True)"
            ]
          },
          "metadata": {},
          "execution_count": 20
        }
      ],
      "source": [
        "a"
      ]
    },
    {
      "cell_type": "markdown",
      "metadata": {
        "id": "_hy7PFz031Wx"
      },
      "source": [
        "## Практика\n",
        "\n",
        "1. Пусть $f(x) = \\sin(x) * x$. Постройте график $f(x)$ и $\\frac{df(x)}{dx}$ используя пакет autograd для расчёта производных (т.е. нельзя выводить производную явно)"
      ]
    },
    {
      "cell_type": "code",
      "execution_count": null,
      "metadata": {
        "id": "PbBX0O9hGA4t"
      },
      "outputs": [],
      "source": [
        "from matplotlib import pyplot as plt"
      ]
    },
    {
      "cell_type": "code",
      "execution_count": null,
      "metadata": {
        "id": "uWVqJpH5GBEP"
      },
      "outputs": [],
      "source": [
        "X = [w / 100.0 for w in range(-1000,1000,1)]"
      ]
    },
    {
      "cell_type": "code",
      "execution_count": null,
      "metadata": {
        "id": "noTSdVaAGBSl"
      },
      "outputs": [],
      "source": [
        "Y = []\n",
        "Y_der = []"
      ]
    },
    {
      "cell_type": "code",
      "execution_count": null,
      "metadata": {
        "id": "dp7_6sQSGYjX"
      },
      "outputs": [],
      "source": [
        "for x in X:\n",
        "  xt = torch.Tensor((x,))\n",
        "  xt.requires_grad_()\n",
        "  y = torch.sin(xt) * xt\n",
        "  y.backward()\n",
        "  Y.append(y.item())\n",
        "  Y_der.append(xt.grad.item())"
      ]
    },
    {
      "cell_type": "code",
      "execution_count": null,
      "metadata": {
        "colab": {
          "base_uri": "https://localhost:8080/",
          "height": 265
        },
        "id": "8vwGb-ljIPKl",
        "outputId": "f2438416-4568-4efa-d740-265fb195d1e5"
      },
      "outputs": [
        {
          "output_type": "display_data",
          "data": {
            "text/plain": [
              "<Figure size 432x288 with 1 Axes>"
            ],
            "image/png": "[encoded data removed]"
          },
          "metadata": {
            "needs_background": "light"
          }
        }
      ],
      "source": [
        "plt.plot(X,Y)\n",
        "plt.plot(X,Y_der)\n",
        "plt.grid()\n",
        "plt.show()"
      ]
    },
    {
      "cell_type": "code",
      "execution_count": null,
      "metadata": {
        "colab": {
          "base_uri": "https://localhost:8080/",
          "height": 357
        },
        "id": "bK-Tv1TyxbnG",
        "outputId": "6bfd4968-fbc7-43c3-dd62-ec81ef72cbc2"
      },
      "outputs": [
        {
          "output_type": "stream",
          "name": "stderr",
          "text": [
            "/usr/local/lib/python3.7/dist-packages/seaborn/_decorators.py:43: FutureWarning: Pass the following variables as keyword args: x, y. From version 0.12, the only valid positional argument will be `data`, and passing other arguments without an explicit keyword will result in an error or misinterpretation.\n",
            "  FutureWarning\n",
            "/usr/local/lib/python3.7/dist-packages/seaborn/_decorators.py:43: FutureWarning: Pass the following variables as keyword args: x, y. From version 0.12, the only valid positional argument will be `data`, and passing other arguments without an explicit keyword will result in an error or misinterpretation.\n",
            "  FutureWarning\n"
          ]
        },
        {
          "output_type": "display_data",
          "data": {
            "text/plain": [
              "<Figure size 432x288 with 1 Axes>"
            ],
            "image/png": "[encoded data removed]"
          },
          "metadata": {
            "needs_background": "light"
          }
        }
      ],
      "source": [
        "import seaborn as sns \n",
        "def f(x): \n",
        "  return torch.sin(x)*x \n",
        "  \n",
        "x = torch.linspace(-10,10,1000).requires_grad_() \n",
        "y = f(x) \n",
        "y.backward(torch.ones_like(y))\n",
        "dx = x.grad \n",
        "sns.lineplot(x.detach().numpy(), dx) \n",
        "sns.lineplot(x.detach().numpy(), y.detach().numpy())\n",
        "plt.grid()"
      ]
    },
    {
      "cell_type": "code",
      "source": [
        "import seaborn as sns \n",
        "def f(x): \n",
        "  return torch.sin(x)*x \n",
        "  \n",
        "x = torch.linspace(-10,10,1000).requires_grad_() \n",
        "y = f(x) \n",
        "y2 = y.sum()\n",
        "y2.backward()\n",
        "dx = x.grad \n",
        "sns.lineplot(x.detach().numpy(), dx) \n",
        "sns.lineplot(x.detach().numpy(), y.detach().numpy())\n",
        "plt.grid()"
      ],
      "metadata": {
        "colab": {
          "base_uri": "https://localhost:8080/",
          "height": 357
        },
        "id": "9-1vTcjv1q4S",
        "outputId": "6e37f483-f1d4-4687-dfaf-be69bcb897f7"
      },
      "execution_count": null,
      "outputs": [
        {
          "output_type": "stream",
          "name": "stderr",
          "text": [
            "/usr/local/lib/python3.7/dist-packages/seaborn/_decorators.py:43: FutureWarning: Pass the following variables as keyword args: x, y. From version 0.12, the only valid positional argument will be `data`, and passing other arguments without an explicit keyword will result in an error or misinterpretation.\n",
            "  FutureWarning\n",
            "/usr/local/lib/python3.7/dist-packages/seaborn/_decorators.py:43: FutureWarning: Pass the following variables as keyword args: x, y. From version 0.12, the only valid positional argument will be `data`, and passing other arguments without an explicit keyword will result in an error or misinterpretation.\n",
            "  FutureWarning\n"
          ]
        },
        {
          "output_type": "display_data",
          "data": {
            "text/plain": [
              "<Figure size 432x288 with 1 Axes>"
            ],
            "image/png": "[encoded data removed]"
          },
          "metadata": {
            "needs_background": "light"
          }
        }
      ]
    },
    {
      "cell_type": "markdown",
      "metadata": {
        "id": "6xuVl2zm31Wx"
      },
      "source": [
        "## Линейная регрессия с нуля"
      ]
    },
    {
      "cell_type": "code",
      "execution_count": null,
      "metadata": {
        "id": "XSy6aQYV31Wx"
      },
      "outputs": [],
      "source": [
        "%matplotlib inline\n",
        "from IPython import display\n",
        "from matplotlib import pyplot as plt\n",
        "import torch\n",
        "import random"
      ]
    },
    {
      "cell_type": "markdown",
      "metadata": {
        "id": "LJmk4LYk31Wx"
      },
      "source": [
        "## Генерируем данные\n",
        "\n",
        "- Случайно генерируем $\\mathbf{X}\\in \\mathbb{R}^{1000 \\times 2}$\n",
        "- Выбираем значения весов (истинные): $\\mathbf{w} = [2, -3.4]^\\top$ и свободного члена $b = 4.2$\n",
        "- Генерируем метки по формле $\\mathbf{y}= \\mathbf{X} \\mathbf{w} + b + \\mathbf\\epsilon$\n",
        "  с шумом $\\epsilon$ нормально распределённым с мат ожиданием 0 и дисперсией 1"
      ]
    },
    {
      "cell_type": "code",
      "execution_count": null,
      "metadata": {
        "id": "S7jbn_AQ31Wx"
      },
      "outputs": [],
      "source": [
        "num_inputs = 2\n",
        "num_examples = 1000\n",
        "true_w = torch.tensor([2, -3.4])\n",
        "true_b = 4.2\n",
        "features = torch.randn((num_examples, num_inputs))\n",
        "labels = torch.mv(features, true_w) + true_b\n",
        "labels += torch.randn(labels.shape)"
      ]
    },
    {
      "cell_type": "markdown",
      "metadata": {
        "id": "p4PYLjPh31Wx"
      },
      "source": [
        "## Визуализируем данные"
      ]
    },
    {
      "cell_type": "code",
      "execution_count": null,
      "metadata": {
        "colab": {
          "base_uri": "https://localhost:8080/",
          "height": 265
        },
        "id": "airdzG6f31Wx",
        "outputId": "07dbedfe-c24c-4222-877c-519f5b130d0f"
      },
      "outputs": [
        {
          "output_type": "display_data",
          "data": {
            "text/plain": [
              "<Figure size 864x288 with 3 Axes>"
            ],
            "image/png": "[encoded data removed]"
          },
          "metadata": {
            "needs_background": "light"
          }
        }
      ],
      "source": [
        "plt.figure(figsize=(12, 4))\n",
        "plt.subplot(131)\n",
        "plt.scatter(features[:, 0], labels, 1)\n",
        "plt.subplot(132)\n",
        "plt.scatter(features[:, 1], labels, 1)\n",
        "plt.subplot(133)\n",
        "plt.scatter(features[:, 0], features[:, 1], 1)\n",
        "plt.show()"
      ]
    },
    {
      "cell_type": "markdown",
      "metadata": {
        "id": "qw2-hzy431Wx"
      },
      "source": [
        "\n",
        "## Чтение данных\n",
        "\n",
        "Итерируемся по датасету и возвращаем случайные `batch_size` примеры."
      ]
    },
    {
      "cell_type": "code",
      "execution_count": null,
      "metadata": {
        "id": "kCLlQ5QA31Wx"
      },
      "outputs": [],
      "source": [
        "import random\n",
        "\n",
        "def data_iter(batch_size, features, labels):\n",
        "    num_examples = len(features)\n",
        "    indices = list(range(num_examples))\n",
        "    random.shuffle(indices)\n",
        "    for i in range(0, num_examples, batch_size):\n",
        "        j = indices[i: min(i + batch_size, num_examples)]\n",
        "        yield features[j, :], labels[j]"
      ]
    },
    {
      "cell_type": "markdown",
      "metadata": {
        "id": "1pZQgKwD31Wx"
      },
      "source": [
        "## Выводим маленький батч"
      ]
    },
    {
      "cell_type": "code",
      "execution_count": null,
      "metadata": {
        "colab": {
          "base_uri": "https://localhost:8080/"
        },
        "id": "JK2ATkeT31Wx",
        "outputId": "32fbd634-f197-4482-f2b0-2d5e95cee910"
      },
      "outputs": [
        {
          "output_type": "stream",
          "name": "stdout",
          "text": [
            "tensor([[ 0.6414, -0.0140],\n",
            "        [-0.2455, -0.6213],\n",
            "        [-0.9405,  1.7354],\n",
            "        [ 0.1481,  0.0426],\n",
            "        [ 0.2203, -1.8093],\n",
            "        [-0.1473, -1.0808],\n",
            "        [-1.3825,  0.4214],\n",
            "        [ 0.4227, -0.8688],\n",
            "        [-1.1712, -0.9247],\n",
            "        [ 0.4759, -0.4197]]) \n",
            " tensor([ 4.7990,  7.8094, -4.0510,  2.3349, 11.1539,  6.8245,  0.0382,  8.4685,\n",
            "         3.7750,  6.4771])\n"
          ]
        }
      ],
      "source": [
        "batch_size = 10\n",
        "for X, y in data_iter(batch_size, features, labels):\n",
        "    print(X,'\\n', y)\n",
        "    break"
      ]
    },
    {
      "cell_type": "markdown",
      "metadata": {
        "id": "fsWOPNUj31Wx"
      },
      "source": [
        "### Создаём модель для обучения"
      ]
    },
    {
      "cell_type": "code",
      "execution_count": null,
      "metadata": {
        "id": "TBiKsI1_31Wx"
      },
      "outputs": [],
      "source": [
        "w = torch.randn((num_inputs))\n",
        "b = torch.zeros((1,))"
      ]
    },
    {
      "cell_type": "code",
      "execution_count": null,
      "metadata": {
        "colab": {
          "base_uri": "https://localhost:8080/"
        },
        "id": "Vt3MkAdz31Wx",
        "outputId": "338a57df-2b1c-46e4-fd03-3d3a5e766a11"
      },
      "outputs": [
        {
          "output_type": "execute_result",
          "data": {
            "text/plain": [
              "tensor([0.], requires_grad=True)"
            ]
          },
          "metadata": {},
          "execution_count": 39
        }
      ],
      "source": [
        "w.requires_grad_()\n",
        "b.requires_grad_()"
      ]
    },
    {
      "cell_type": "markdown",
      "metadata": {
        "id": "P5sg1Wp931Wx"
      },
      "source": [
        "## Практика. Реализуйте функции:\n",
        "- linreg - применение модели линейной регресии\n",
        "- squared_loss - MSE функция потерь\n",
        "- sgd - стохастический шаг градиентного спуска по массиву параметров\n",
        "\n",
        "и допишите код обучения линейной регрессии"
      ]
    },
    {
      "cell_type": "code",
      "execution_count": null,
      "metadata": {
        "id": "An9oVfEP31Wx"
      },
      "outputs": [],
      "source": [
        "def linreg(X, w, b):\n",
        "  return torch.mv(X,w)+b"
      ]
    },
    {
      "cell_type": "markdown",
      "metadata": {
        "id": "3cGXbylW31Wy"
      },
      "source": [
        "### Обучение"
      ]
    },
    {
      "cell_type": "code",
      "execution_count": null,
      "metadata": {
        "id": "PLn-r17u31Wy"
      },
      "outputs": [],
      "source": [
        "def squared_loss(y_hat, y):\n",
        "  return ((y_hat-y.reshape(y_hat.shape)) ** 2).mean()"
      ]
    },
    {
      "cell_type": "code",
      "execution_count": null,
      "metadata": {
        "id": "ehI7xhJY31Wy"
      },
      "outputs": [],
      "source": [
        "def sgd(params, lr):\n",
        "  for param in params:\n",
        "    param.data[:] = param - lr*param.grad\n",
        "    "
      ]
    },
    {
      "cell_type": "code",
      "execution_count": null,
      "metadata": {
        "colab": {
          "base_uri": "https://localhost:8080/"
        },
        "id": "Vqht52qQ31Wy",
        "outputId": "c1bb1539-0f50-4fa2-b131-d13c2bc617c3"
      },
      "outputs": [
        {
          "output_type": "stream",
          "name": "stdout",
          "text": [
            "epoch 1, loss 1.462493\n",
            "epoch 2, loss 0.952648\n",
            "epoch 3, loss 0.932427\n",
            "epoch 4, loss 0.931975\n",
            "epoch 5, loss 0.932602\n",
            "epoch 6, loss 0.934194\n",
            "epoch 7, loss 0.932463\n",
            "epoch 8, loss 0.932906\n",
            "epoch 9, loss 0.931957\n",
            "epoch 10, loss 0.931823\n"
          ]
        }
      ],
      "source": [
        "lr = 0.01  \n",
        "num_epochs = 10\n",
        "\n",
        "for epoch in range(num_epochs):\n",
        "    for X, y in data_iter(batch_size, features, labels):   \n",
        "        w = w.detach()\n",
        "        b = b.detach()\n",
        "        w.requires_grad_()\n",
        "        b.requires_grad_()\n",
        "        \n",
        "        l = squared_loss(linreg(X,w,b), y)\n",
        "        l.backward()\n",
        "        sgd([w,b], lr)\n",
        "    train_l = squared_loss(linreg(features, w, b), labels)\n",
        "    print('epoch %d, loss %f' % (epoch + 1, train_l.mean().item()))"
      ]
    },
    {
      "cell_type": "code",
      "source": [],
      "metadata": {
        "id": "f4-rB1Hk4HLj"
      },
      "execution_count": null,
      "outputs": []
    },
    {
      "cell_type": "markdown",
      "metadata": {
        "id": "wwMc2GNl31Wy"
      },
      "source": [
        "## Оценка качества модели"
      ]
    },
    {
      "cell_type": "code",
      "execution_count": null,
      "metadata": {
        "colab": {
          "base_uri": "https://localhost:8080/"
        },
        "id": "LvbDr8SM31Wy",
        "outputId": "ebf6a89e-85e6-4898-b8e0-288f9650a8fb"
      },
      "outputs": [
        {
          "output_type": "stream",
          "name": "stdout",
          "text": [
            "Error in estimating w tensor([-0.0126, -0.0055], grad_fn=<SubBackward0>)\n",
            "Error in estimating b tensor([-0.0225], grad_fn=<RsubBackward1>)\n",
            "tensor([ 2.0126, -3.3945], requires_grad=True)\n",
            "tensor([4.2225], requires_grad=True)\n"
          ]
        }
      ],
      "source": [
        "print('Error in estimating w', true_w - w.reshape(true_w.shape))\n",
        "print('Error in estimating b', true_b - b)\n",
        "print(w)\n",
        "print(b)"
      ]
    },
    {
      "cell_type": "markdown",
      "metadata": {
        "id": "A3TcBghX31Wy"
      },
      "source": [
        "## Линейная регрессия на torch"
      ]
    },
    {
      "cell_type": "code",
      "execution_count": null,
      "metadata": {
        "id": "QM2XRHG631Wy"
      },
      "outputs": [],
      "source": [
        "from torch.utils.data import TensorDataset, DataLoader"
      ]
    },
    {
      "cell_type": "code",
      "execution_count": null,
      "metadata": {
        "id": "GtlYcn3131Wy"
      },
      "outputs": [],
      "source": [
        "num_inputs = 2\n",
        "num_examples = 1000\n",
        "true_w = torch.tensor([2, -3.4])\n",
        "true_b = 4.2\n",
        "features = torch.randn((num_examples, num_inputs))\n",
        "labels = torch.mv(features, true_w) + true_b\n",
        "labels += torch.randn(labels.shape)"
      ]
    },
    {
      "cell_type": "code",
      "execution_count": null,
      "metadata": {
        "colab": {
          "base_uri": "https://localhost:8080/"
        },
        "id": "6KDcWMGd31Wy",
        "outputId": "61b3f08d-10dd-4045-fc4b-a804ebed72e7",
        "scrolled": false
      },
      "outputs": [
        {
          "output_type": "stream",
          "name": "stdout",
          "text": [
            "tensor([[ 0.0345,  0.8763],\n",
            "        [-0.1276, -0.5479],\n",
            "        [-0.7614,  0.2112],\n",
            "        [ 0.2410,  0.0866],\n",
            "        [ 0.6860,  0.8563],\n",
            "        [ 1.0380,  1.1428],\n",
            "        [-0.9644, -1.7634],\n",
            "        [ 0.5707,  1.4203],\n",
            "        [-1.8953,  0.7940],\n",
            "        [-0.8702,  0.7706]]) tensor([ 1.4240,  5.4325,  1.8391,  6.3614,  4.5907,  0.9070,  8.5382,  2.3789,\n",
            "        -2.7428,  0.7567])\n"
          ]
        }
      ],
      "source": [
        "batch_size = 10\n",
        "dataset = TensorDataset(features, labels)\n",
        "# Randomly reading mini-batches\n",
        "data_iter = DataLoader(dataset, batch_size, shuffle=True)\n",
        "\n",
        "# Read a batch to see how it works\n",
        "for X, y in data_iter:\n",
        "    print(X, y)\n",
        "    break"
      ]
    },
    {
      "cell_type": "code",
      "execution_count": null,
      "metadata": {
        "colab": {
          "base_uri": "https://localhost:8080/"
        },
        "id": "6xK7H5LB3gf0",
        "outputId": "4e9a49a0-273d-431f-aa53-4dadbd10e6d0"
      },
      "outputs": [
        {
          "output_type": "execute_result",
          "data": {
            "text/plain": [
              "tensor([[ 4.2777,  1.1808],\n",
              "        [ 3.9514,  6.1010],\n",
              "        [ 2.6763,  3.4786],\n",
              "        [ 4.6930,  3.9092],\n",
              "        [ 5.5884,  1.2501],\n",
              "        [ 6.2965,  0.2601],\n",
              "        [ 2.2679, 10.3002],\n",
              "        [ 5.3564, -0.6985],\n",
              "        [ 0.3950,  1.4653],\n",
              "        [ 2.4574,  1.5459]], grad_fn=<AddBackward0>)"
            ]
          },
          "metadata": {},
          "execution_count": 48
        }
      ],
      "source": [
        "X * w + b "
      ]
    },
    {
      "cell_type": "code",
      "execution_count": null,
      "metadata": {
        "id": "YsIkQx6731Wy"
      },
      "outputs": [],
      "source": [
        "model = torch.nn.Sequential(torch.nn.Linear(2, 1))"
      ]
    },
    {
      "cell_type": "code",
      "execution_count": null,
      "metadata": {
        "id": "tUjU3mYr5hGj",
        "colab": {
          "base_uri": "https://localhost:8080/"
        },
        "outputId": "d3d84202-9625-41d0-d991-93ad8d0d5f54"
      },
      "outputs": [
        {
          "output_type": "execute_result",
          "data": {
            "text/plain": [
              "Sequential(\n",
              "  (0): Linear(in_features=2, out_features=1, bias=True)\n",
              ")"
            ]
          },
          "metadata": {},
          "execution_count": 50
        }
      ],
      "source": [
        "model"
      ]
    },
    {
      "cell_type": "code",
      "execution_count": null,
      "metadata": {
        "id": "qSZXsijF31Wy",
        "scrolled": true
      },
      "outputs": [],
      "source": [
        "model[0].weight.data = true_w.clone().detach().requires_grad_(True).reshape((1, 2))\n",
        "model[0].bias.data = torch.tensor([true_b], requires_grad = True)"
      ]
    },
    {
      "cell_type": "code",
      "execution_count": null,
      "metadata": {
        "id": "FArQZx_a31Wy"
      },
      "outputs": [],
      "source": [
        "loss = torch.nn.MSELoss(reduction='mean')"
      ]
    },
    {
      "cell_type": "code",
      "execution_count": null,
      "metadata": {
        "id": "0HZQmrKr8CCD"
      },
      "outputs": [],
      "source": []
    },
    {
      "cell_type": "code",
      "execution_count": null,
      "metadata": {
        "id": "94jAjXQc31Wy"
      },
      "outputs": [],
      "source": [
        "trainer = torch.optim.SGD(model.parameters(), lr=0.001)"
      ]
    },
    {
      "cell_type": "code",
      "execution_count": null,
      "metadata": {
        "id": "_DSVnaFk6eva"
      },
      "outputs": [],
      "source": [
        "zzz = torch.tensor([[1.,2.],[3.,4.],[5.,6.]])"
      ]
    },
    {
      "cell_type": "code",
      "source": [
        "labels.shape"
      ],
      "metadata": {
        "colab": {
          "base_uri": "https://localhost:8080/"
        },
        "id": "gjEwmuxv5wEx",
        "outputId": "d83ce700-8ef6-4ff7-c817-d0b7bae5c477"
      },
      "execution_count": null,
      "outputs": [
        {
          "output_type": "execute_result",
          "data": {
            "text/plain": [
              "torch.Size([1000])"
            ]
          },
          "metadata": {},
          "execution_count": 56
        }
      ]
    },
    {
      "cell_type": "code",
      "execution_count": null,
      "metadata": {
        "colab": {
          "base_uri": "https://localhost:8080/"
        },
        "id": "Fylj9yIE6o44",
        "outputId": "7e75cd88-a033-419b-e62d-d47958d3d77a"
      },
      "outputs": [
        {
          "output_type": "execute_result",
          "data": {
            "text/plain": [
              "torch.Size([3, 1])"
            ]
          },
          "metadata": {},
          "execution_count": 57
        }
      ],
      "source": [
        "model(zzz).shape"
      ]
    },
    {
      "cell_type": "code",
      "execution_count": null,
      "metadata": {
        "colab": {
          "base_uri": "https://localhost:8080/"
        },
        "id": "_40n7zag6llG",
        "outputId": "7db5e1f2-4233-4dd4-c37a-7daf74bd051f"
      },
      "outputs": [
        {
          "output_type": "execute_result",
          "data": {
            "text/plain": [
              "tensor([-1.5867, -3.9512, -6.3158], grad_fn=<ReshapeAliasBackward0>)"
            ]
          },
          "metadata": {},
          "execution_count": 58
        }
      ],
      "source": [
        "model(zzz).reshape(-1)"
      ]
    },
    {
      "cell_type": "code",
      "execution_count": null,
      "metadata": {
        "colab": {
          "base_uri": "https://localhost:8080/"
        },
        "id": "soQ8kc6_31Wy",
        "outputId": "6776f3b5-c9dd-4ce7-ef96-d30b67ecc58a"
      },
      "outputs": [
        {
          "output_type": "stream",
          "name": "stdout",
          "text": [
            "epoch 5, loss: 4.882812 |\tw tensor([[ 1.0015, -2.3883]]) |\tb tensor([2.6789])\n",
            "epoch 10, loss: 1.545528 |\tw tensor([[ 1.5716, -3.0123]]) |\tb tensor([3.5937])\n",
            "epoch 15, loss: 1.066341 |\tw tensor([[ 1.7897, -3.2420]]) |\tb tensor([3.9433])\n",
            "epoch 20, loss: 0.997042 |\tw tensor([[ 1.8731, -3.3264]]) |\tb tensor([4.0789])\n",
            "epoch 25, loss: 0.987234 |\tw tensor([[ 1.9050, -3.3572]]) |\tb tensor([4.1300])\n",
            "epoch 30, loss: 0.985825 |\tw tensor([[ 1.9170, -3.3684]]) |\tb tensor([4.1499])\n",
            "epoch 35, loss: 0.985628 |\tw tensor([[ 1.9215, -3.3718]]) |\tb tensor([4.1578])\n",
            "epoch 40, loss: 0.985599 |\tw tensor([[ 1.9245, -3.3745]]) |\tb tensor([4.1598])\n",
            "epoch 45, loss: 0.985596 |\tw tensor([[ 1.9252, -3.3749]]) |\tb tensor([4.1614])\n",
            "epoch 50, loss: 0.985597 |\tw tensor([[ 1.9255, -3.3751]]) |\tb tensor([4.1619])\n",
            "epoch 55, loss: 0.985596 |\tw tensor([[ 1.9254, -3.3746]]) |\tb tensor([4.1612])\n",
            "epoch 60, loss: 0.985597 |\tw tensor([[ 1.9254, -3.3745]]) |\tb tensor([4.1609])\n",
            "epoch 65, loss: 0.985597 |\tw tensor([[ 1.9251, -3.3748]]) |\tb tensor([4.1620])\n",
            "epoch 70, loss: 0.985598 |\tw tensor([[ 1.9262, -3.3751]]) |\tb tensor([4.1622])\n",
            "epoch 75, loss: 0.985597 |\tw tensor([[ 1.9258, -3.3753]]) |\tb tensor([4.1618])\n",
            "epoch 80, loss: 0.985599 |\tw tensor([[ 1.9258, -3.3754]]) |\tb tensor([4.1629])\n",
            "epoch 85, loss: 0.985597 |\tw tensor([[ 1.9256, -3.3748]]) |\tb tensor([4.1619])\n",
            "epoch 90, loss: 0.985597 |\tw tensor([[ 1.9259, -3.3753]]) |\tb tensor([4.1614])\n",
            "epoch 95, loss: 0.985596 |\tw tensor([[ 1.9252, -3.3749]]) |\tb tensor([4.1617])\n",
            "epoch 100, loss: 0.985597 |\tw tensor([[ 1.9251, -3.3753]]) |\tb tensor([4.1615])\n"
          ]
        }
      ],
      "source": [
        "num_epochs = 100\n",
        "for epoch in range(1, num_epochs + 1):\n",
        "    for X, y in data_iter:\n",
        "        trainer.zero_grad()\n",
        "        l = loss(model(X).reshape(-1), y)\n",
        "        l.backward()\n",
        "        trainer.step()\n",
        "    l = loss(model(features).reshape(-1), labels)\n",
        "    if epoch % 5 == 0:\n",
        "        print('epoch %d, loss: %f' % (epoch, l.item()),'|\\tw', model[0].weight.data, '|\\tb', model[0].bias.data)\n",
        "    "
      ]
    },
    {
      "cell_type": "code",
      "execution_count": null,
      "metadata": {
        "colab": {
          "base_uri": "https://localhost:8080/"
        },
        "id": "k7aEenze31Wy",
        "outputId": "0dd75d04-361d-4b74-9653-a582904bc5b0"
      },
      "outputs": [
        {
          "name": "stdout",
          "output_type": "stream",
          "text": [
            "Error in estimating w tensor([[-0.0492,  0.0096]])\n",
            "Error in estimating b tensor([-0.0037])\n"
          ]
        }
      ],
      "source": [
        "w = model[0].weight.data\n",
        "print('Error in estimating w', true_w.reshape(w.shape) - w)\n",
        "b = model[0].bias.data\n",
        "print('Error in estimating b', true_b - b)"
      ]
    },
    {
      "cell_type": "code",
      "execution_count": null,
      "metadata": {
        "colab": {
          "base_uri": "https://localhost:8080/"
        },
        "id": "_aOQfbv931Wy",
        "outputId": "06c57868-9699-49cb-b147-16c6d8721cc2"
      },
      "outputs": [
        {
          "data": {
            "text/plain": [
              "tensor([[ 2.0492, -3.4096]])"
            ]
          },
          "execution_count": 53,
          "metadata": {
            "tags": []
          },
          "output_type": "execute_result"
        }
      ],
      "source": [
        "model[0].weight.data"
      ]
    },
    {
      "cell_type": "code",
      "execution_count": null,
      "metadata": {
        "colab": {
          "base_uri": "https://localhost:8080/"
        },
        "id": "NkpczGnS31Wy",
        "outputId": "bc9e2074-c886-4c66-b25a-2d3f30803b6b"
      },
      "outputs": [
        {
          "data": {
            "text/plain": [
              "tensor([4.2037])"
            ]
          },
          "execution_count": 54,
          "metadata": {
            "tags": []
          },
          "output_type": "execute_result"
        }
      ],
      "source": [
        "model[0].bias.data"
      ]
    },
    {
      "cell_type": "code",
      "execution_count": null,
      "metadata": {
        "id": "hw9eJBJg31Wy"
      },
      "outputs": [],
      "source": []
    },
    {
      "cell_type": "code",
      "execution_count": null,
      "metadata": {
        "id": "vUGDqjy_N6rb"
      },
      "outputs": [],
      "source": []
    }
  ],
  "metadata": {
    "colab": {
      "provenance": []
    },
    "kernelspec": {
      "display_name": "Python 3",
      "language": "python",
      "name": "python3"
    },
    "language_info": {
      "codemirror_mode": {
        "name": "ipython",
        "version": 3
      },
      "file_extension": ".py",
      "mimetype": "text/x-python",
      "name": "python",
      "nbconvert_exporter": "python",
      "pygments_lexer": "ipython3",
      "version": "3.7.1"
    }
  },
  "nbformat": 4,
  "nbformat_minor": 0
}