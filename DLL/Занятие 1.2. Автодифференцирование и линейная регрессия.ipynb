





<!DOCTYPE html>
<html lang="en" data-color-mode="auto" data-light-theme="light" data-dark-theme="dark" data-a11y-animated-images="system">
  <head>
    <meta charset="utf-8">
  <link rel="dns-prefetch" href="https://github.githubassets.com">
  <link rel="dns-prefetch" href="https://avatars.githubusercontent.com">
  <link rel="dns-prefetch" href="https://github-cloud.s3.amazonaws.com">
  <link rel="dns-prefetch" href="https://user-images.githubusercontent.com/">
  <link rel="preconnect" href="https://github.githubassets.com" crossorigin>
  <link rel="preconnect" href="https://avatars.githubusercontent.com">

  


  <link crossorigin="anonymous" media="all" rel="stylesheet" href="https://github.githubassets.com/assets/light-0946cdc16f15.css" /><link crossorigin="anonymous" media="all" rel="stylesheet" href="https://github.githubassets.com/assets/dark-3946c959759a.css" /><link data-color-theme="dark_dimmed" crossorigin="anonymous" media="all" rel="stylesheet" data-href="https://github.githubassets.com/assets/dark_dimmed-9b9a8c91acc5.css" /><link data-color-theme="dark_high_contrast" crossorigin="anonymous" media="all" rel="stylesheet" data-href="https://github.githubassets.com/assets/dark_high_contrast-11302a585e33.css" /><link data-color-theme="dark_colorblind" crossorigin="anonymous" media="all" rel="stylesheet" data-href="https://github.githubassets.com/assets/dark_colorblind-1a4564ab0fbf.css" /><link data-color-theme="light_colorblind" crossorigin="anonymous" media="all" rel="stylesheet" data-href="https://github.githubassets.com/assets/light_colorblind-12a8b2aa9101.css" /><link data-color-theme="light_high_contrast" crossorigin="anonymous" media="all" rel="stylesheet" data-href="https://github.githubassets.com/assets/light_high_contrast-5924a648f3e7.css" /><link data-color-theme="light_tritanopia" crossorigin="anonymous" media="all" rel="stylesheet" data-href="https://github.githubassets.com/assets/light_tritanopia-05358496cb79.css" /><link data-color-theme="dark_tritanopia" crossorigin="anonymous" media="all" rel="stylesheet" data-href="https://github.githubassets.com/assets/dark_tritanopia-aad6b801a158.css" />
    <link crossorigin="anonymous" media="all" rel="stylesheet" href="https://github.githubassets.com/assets/primer-primitives-fb1d51d1ef66.css" />
    <link crossorigin="anonymous" media="all" rel="stylesheet" href="https://github.githubassets.com/assets/primer-0e3420bbec16.css" />
    <link crossorigin="anonymous" media="all" rel="stylesheet" href="https://github.githubassets.com/assets/global-0d04dfcdc794.css" />
    <link crossorigin="anonymous" media="all" rel="stylesheet" href="https://github.githubassets.com/assets/github-c7a3a0ac71d4.css" />
  <link crossorigin="anonymous" media="all" rel="stylesheet" href="https://github.githubassets.com/assets/code-9271f811184f.css" />



  <script crossorigin="anonymous" defer="defer" type="application/javascript" src="https://github.githubassets.com/assets/wp-runtime-e731ddccc74f.js"></script>
<script crossorigin="anonymous" defer="defer" type="application/javascript" src="https://github.githubassets.com/assets/vendors-node_modules_stacktrace-parser_dist_stack-trace-parser_esm_js-node_modules_github_bro-a4c183-ae93d3fba59c.js"></script>
<script crossorigin="anonymous" defer="defer" type="application/javascript" src="https://github.githubassets.com/assets/ui_packages_failbot_failbot_ts-b1f8e13beba5.js"></script>
<script crossorigin="anonymous" defer="defer" type="application/javascript" src="https://github.githubassets.com/assets/environment-de3997b81651.js"></script>
<script crossorigin="anonymous" defer="defer" type="application/javascript" src="https://github.githubassets.com/assets/vendors-node_modules_github_selector-observer_dist_index_esm_js-2646a2c533e3.js"></script>
<script crossorigin="anonymous" defer="defer" type="application/javascript" src="https://github.githubassets.com/assets/vendors-node_modules_github_relative-time-element_dist_index_js-99e288659d4f.js"></script>
<script crossorigin="anonymous" defer="defer" type="application/javascript" src="https://github.githubassets.com/assets/vendors-node_modules_fzy_js_index_js-node_modules_github_markdown-toolbar-element_dist_index_js-e3de700a4c9d.js"></script>
<script crossorigin="anonymous" defer="defer" type="application/javascript" src="https://github.githubassets.com/assets/vendors-node_modules_delegated-events_dist_index_js-node_modules_github_auto-complete-element-5b3870-ff38694180c6.js"></script>
<script crossorigin="anonymous" defer="defer" type="application/javascript" src="https://github.githubassets.com/assets/vendors-node_modules_github_file-attachment-element_dist_index_js-node_modules_github_text-ex-3415a8-7ecc10fb88d0.js"></script>
<script crossorigin="anonymous" defer="defer" type="application/javascript" src="https://github.githubassets.com/assets/vendors-node_modules_github_filter-input-element_dist_index_js-node_modules_github_remote-inp-8873b7-5771678648e0.js"></script>
<script crossorigin="anonymous" defer="defer" type="application/javascript" src="https://github.githubassets.com/assets/vendors-node_modules_primer_view-components_app_components_primer_primer_js-node_modules_gith-3af896-d8cf3e5f5813.js"></script>
<script crossorigin="anonymous" defer="defer" type="application/javascript" src="https://github.githubassets.com/assets/github-elements-6f05fe60d18a.js"></script>
<script crossorigin="anonymous" defer="defer" type="application/javascript" src="https://github.githubassets.com/assets/element-registry-84be4ef284ec.js"></script>
<script crossorigin="anonymous" defer="defer" type="application/javascript" src="https://github.githubassets.com/assets/vendors-node_modules_lit-html_lit-html_js-9d9fe1859ce5.js"></script>
<script crossorigin="anonymous" defer="defer" type="application/javascript" src="https://github.githubassets.com/assets/vendors-node_modules_github_mini-throttle_dist_index_js-node_modules_github_alive-client_dist-bf5aa2-424aa982deef.js"></script>
<script crossorigin="anonymous" defer="defer" type="application/javascript" src="https://github.githubassets.com/assets/vendors-node_modules_github_turbo_dist_turbo_es2017-esm_js-ba0e4d5b3207.js"></script>
<script crossorigin="anonymous" defer="defer" type="application/javascript" src="https://github.githubassets.com/assets/vendors-node_modules_color-convert_index_js-node_modules_github_jtml_lib_index_js-40bf234a19dc.js"></script>
<script crossorigin="anonymous" defer="defer" type="application/javascript" src="https://github.githubassets.com/assets/vendors-node_modules_github_remote-form_dist_index_js-node_modules_scroll-anchoring_dist_scro-52dc4b-e1e33bfc0b7e.js"></script>
<script crossorigin="anonymous" defer="defer" type="application/javascript" src="https://github.githubassets.com/assets/vendors-node_modules_github_paste-markdown_dist_index_esm_js-node_modules_github_quote-select-743f1d-1b20d530fbf0.js"></script>
<script crossorigin="anonymous" defer="defer" type="application/javascript" src="https://github.githubassets.com/assets/app_assets_modules_github_updatable-content_ts-dadb69f79923.js"></script>
<script crossorigin="anonymous" defer="defer" type="application/javascript" src="https://github.githubassets.com/assets/app_assets_modules_github_behaviors_keyboard-shortcuts-helper_ts-app_assets_modules_github_be-f5afdb-3f05df4c282b.js"></script>
<script crossorigin="anonymous" defer="defer" type="application/javascript" src="https://github.githubassets.com/assets/app_assets_modules_github_sticky-scroll-into-view_ts-050ad6637d58.js"></script>
<script crossorigin="anonymous" defer="defer" type="application/javascript" src="https://github.githubassets.com/assets/app_assets_modules_github_behaviors_ajax-error_ts-app_assets_modules_github_behaviors_include-2e2258-7effad8d88d4.js"></script>
<script crossorigin="anonymous" defer="defer" type="application/javascript" src="https://github.githubassets.com/assets/app_assets_modules_github_behaviors_commenting_edit_ts-app_assets_modules_github_behaviors_ht-83c235-c97eacdef68a.js"></script>
<script crossorigin="anonymous" defer="defer" type="application/javascript" src="https://github.githubassets.com/assets/app_assets_modules_github_blob-anchor_ts-app_assets_modules_github_filter-sort_ts-app_assets_-e5f169-c54621d9e188.js"></script>
<script crossorigin="anonymous" defer="defer" type="application/javascript" src="https://github.githubassets.com/assets/behaviors-06a1697465d3.js"></script>
<script crossorigin="anonymous" defer="defer" type="application/javascript" src="https://github.githubassets.com/assets/vendors-node_modules_delegated-events_dist_index_js-node_modules_github_catalyst_lib_index_js-623425af41e1.js"></script>
<script crossorigin="anonymous" defer="defer" type="application/javascript" src="https://github.githubassets.com/assets/notifications-global-4dc6f295cc92.js"></script>
<script crossorigin="anonymous" defer="defer" type="application/javascript" src="https://github.githubassets.com/assets/code-menu-da1cefc25b0a.js"></script>
  
  <script crossorigin="anonymous" defer="defer" type="application/javascript" src="https://github.githubassets.com/assets/react-lib-210c4b5934c3.js"></script>
<script crossorigin="anonymous" defer="defer" type="application/javascript" src="https://github.githubassets.com/assets/vendors-node_modules_primer_octicons-react_dist_index_esm_js-node_modules_primer_react_lib-es-ca6dae-5cb928c5681d.js"></script>
<script crossorigin="anonymous" defer="defer" type="application/javascript" src="https://github.githubassets.com/assets/vendors-node_modules_primer_react_lib-esm_Button_index_js-node_modules_primer_react_lib-esm_T-c6e74c-0275da95e0ca.js"></script>
<script crossorigin="anonymous" defer="defer" type="application/javascript" src="https://github.githubassets.com/assets/vendors-node_modules_primer_react_lib-esm_TextInput_TextInput_js-78eadeb91f74.js"></script>
<script crossorigin="anonymous" defer="defer" type="application/javascript" src="https://github.githubassets.com/assets/vendors-node_modules_primer_react_lib-esm_ActionList_index_js-node_modules_primer_react_lib-e-6c83fc-209125ca37d7.js"></script>
<script crossorigin="anonymous" defer="defer" type="application/javascript" src="https://github.githubassets.com/assets/vendors-node_modules_dompurify_dist_purify_js-64d590970fa6.js"></script>
<script crossorigin="anonymous" defer="defer" type="application/javascript" src="https://github.githubassets.com/assets/vendors-node_modules_primer_react_lib-esm_ActionMenu_js-6f5478fce534.js"></script>
<script crossorigin="anonymous" defer="defer" type="application/javascript" src="https://github.githubassets.com/assets/vendors-node_modules_primer_react_lib-esm_deprecated_ActionList_index_js-node_modules_primer_-fed12b-aab66293925c.js"></script>
<script crossorigin="anonymous" defer="defer" type="application/javascript" src="https://github.githubassets.com/assets/vendors-node_modules_primer_react_lib-esm_FormControl_FormControl_js-785e3d3ff3f3.js"></script>
<script crossorigin="anonymous" defer="defer" type="application/javascript" src="https://github.githubassets.com/assets/vendors-node_modules_primer_react_lib-esm_Heading_Heading_js-node_modules_primer_react_lib-es-20c766-2f73d206e824.js"></script>
<script crossorigin="anonymous" defer="defer" type="application/javascript" src="https://github.githubassets.com/assets/vendors-node_modules_primer_react_lib-esm_Dialog_ConfirmationDialog_js-5c0818339f06.js"></script>
<script crossorigin="anonymous" defer="defer" type="application/javascript" src="https://github.githubassets.com/assets/vendors-node_modules_primer_behaviors_dist_esm_focus-zone_js-e11d55a242ff.js"></script>
<script crossorigin="anonymous" defer="defer" type="application/javascript" src="https://github.githubassets.com/assets/vendors-node_modules_primer_react_lib-esm_TreeView_TreeView_js-7165830dc4a6.js"></script>
<script crossorigin="anonymous" defer="defer" type="application/javascript" src="https://github.githubassets.com/assets/vendors-node_modules_primer_react_lib-esm_Avatar_Avatar_js-node_modules_primer_react_lib-esm_-ad6b17-ee5dd79d6342.js"></script>
<script crossorigin="anonymous" defer="defer" type="application/javascript" src="https://github.githubassets.com/assets/vendors-node_modules_github_blackbird-parser_dist_blackbird_js-fcd9d30e9b7e.js"></script>
<script crossorigin="anonymous" defer="defer" type="application/javascript" src="https://github.githubassets.com/assets/vendors-node_modules_primer_react_lib-esm_Button_LinkButton_js-node_modules_primer_react_lib--92b054-f72812849ac0.js"></script>
<script crossorigin="anonymous" defer="defer" type="application/javascript" src="https://github.githubassets.com/assets/vendors-node_modules_primer_behaviors_dist_esm_anchored-position_js-node_modules_primer_react-62957b-61ce148ff6c8.js"></script>
<script crossorigin="anonymous" defer="defer" type="application/javascript" src="https://github.githubassets.com/assets/vendors-node_modules_primer_react_lib-esm_UnderlineNav2_index_js-0f3ba9d900a1.js"></script>
<script crossorigin="anonymous" defer="defer" type="application/javascript" src="https://github.githubassets.com/assets/vendors-node_modules_primer_behaviors_dist_esm_scroll-into-view_js-node_modules_primer_react_-67ba45-ebe1dea0d6b7.js"></script>
<script crossorigin="anonymous" defer="defer" type="application/javascript" src="https://github.githubassets.com/assets/ui_packages_react-core_deferred-registry_ts-ui_packages_react-core_AppContextProvider_tsx-ui_-ffd985-0c6c86cde0a6.js"></script>
<script crossorigin="anonymous" defer="defer" type="application/javascript" src="https://github.githubassets.com/assets/ui_packages_react-core_Entry_tsx-f122dd87b4f0.js"></script>
<script crossorigin="anonymous" defer="defer" type="application/javascript" src="https://github.githubassets.com/assets/ui_packages_paths_path_ts-ui_packages_verified-fetch_verified-fetch_ts-ui_packages_safe-html_-d7e3f1-8681e57cea17.js"></script>
<script crossorigin="anonymous" defer="defer" type="application/javascript" src="https://github.githubassets.com/assets/ui_packages_use-navigate_use-navigate_ts-app_assets_modules_react-shared_RefSelector_RefSelec-9ae7f6-6e66464ac264.js"></script>
<script crossorigin="anonymous" defer="defer" type="application/javascript" src="https://github.githubassets.com/assets/app_assets_modules_blackbird-monolith_hooks_use-navigate-to-query_ts-app_assets_modules_black-049373-f07bf83a5bba.js"></script>
<script crossorigin="anonymous" defer="defer" type="application/javascript" src="https://github.githubassets.com/assets/app_assets_modules_react-code-view_pages_CodeView_tsx-889801abe8f1.js"></script>
<script crossorigin="anonymous" defer="defer" type="application/javascript" src="https://github.githubassets.com/assets/react-code-view-beb248654072.js"></script>


  <title>DLL/Занятие 1.2. Автодифференцирование и линейная регрессия.ipynb at main · netology-ds-team/DLL</title>



  <meta name="route-pattern" content="/:user_id/:repository/blob/*name(/*path)">

    
  <meta name="current-catalog-service-hash" content="581425c0eaaa5e5e53c5b736f58a14dbe5d38b0be425901738ad0670bd1d5a33">


  <meta name="request-id" content="8E7A:DA1C:1A10814C:1A77FB65:647EF5BB" data-turbo-transient="true" /><meta name="html-safe-nonce" content="f282e301664128d17cfb2b9db0cd2fcded6924eb54552edd5fdcbff1f3eae064" data-turbo-transient="true" /><meta name="visitor-payload" content="eyJyZWZlcnJlciI6Imh0dHBzOi8vZ2l0aHViLmNvbS9uZXRvbG9neS1kcy10ZWFtL0RMTC90cmVlL21haW4vRExMLW1hdGVyaWFscyIsInJlcXVlc3RfaWQiOiI4RTdBOkRBMUM6MUExMDgxNEM6MUE3N0ZCNjU6NjQ3RUY1QkIiLCJ2aXNpdG9yX2lkIjoiMTI5NTkxNTExMDkwMjczMjAwMiIsInJlZ2lvbl9lZGdlIjoiZnJhIiwicmVnaW9uX3JlbmRlciI6ImlhZCJ9" data-turbo-transient="true" /><meta name="visitor-hmac" content="3ccca577b4029304485e1758035969b84352fa9673d779290f9dd4795e28b39a" data-turbo-transient="true" />


    <meta name="hovercard-subject-tag" content="repository:595657061" data-turbo-transient>


  <meta name="github-keyboard-shortcuts" content="repository,source-code,file-tree" data-turbo-transient="true" />
  

  <meta name="selected-link" value="repo_source" data-turbo-transient>
  <link rel="assets" href="https://github.githubassets.com/">

    <meta name="google-site-verification" content="c1kuD-K2HIVF635lypcsWPoD4kilo5-jA_wBFyT4uMY">
  <meta name="google-site-verification" content="KT5gs8h0wvaagLKAVWq8bbeNwnZZK1r1XQysX3xurLU">
  <meta name="google-site-verification" content="ZzhVyEFwb7w3e0-uOTltm8Jsck2F5StVihD0exw2fsA">
  <meta name="google-site-verification" content="GXs5KoUUkNCoaAZn7wPN-t01Pywp9M3sEjnt_3_ZWPc">
  <meta name="google-site-verification" content="Apib7-x98H0j5cPqHWwSMm6dNU4GmODRoqxLiDzdx9I">

<meta name="octolytics-url" content="https://collector.github.com/github/collect" /><meta name="octolytics-actor-id" content="77914048" /><meta name="octolytics-actor-login" content="vn322" /><meta name="octolytics-actor-hash" content="e59785a2f597d3b2bce156191b9ffa192b3c69ddf3a07aaf57bafbf0ea4feaa9" />

  <meta name="analytics-location" content="/&lt;user-name&gt;/&lt;repo-name&gt;/blob/show" data-turbo-transient="true" />

  




  

    <meta name="user-login" content="vn322">

  <link rel="sudo-modal" href="/sessions/sudo_modal">

    <meta name="viewport" content="width=device-width">
    
      <meta name="description" content="Материалы для практики по курсу &quot;Deep Learning&quot;. Contribute to netology-ds-team/DLL development by creating an account on GitHub.">
      <link rel="search" type="application/opensearchdescription+xml" href="/opensearch.xml" title="GitHub">
    <link rel="fluid-icon" href="https://github.com/fluidicon.png" title="GitHub">
    <meta property="fb:app_id" content="1401488693436528">
    <meta name="apple-itunes-app" content="app-id=1477376905" />
      <meta name="twitter:image:src" content="https://opengraph.githubassets.com/358e482daeb8809a7fa02ed063c26fa283a37c6b8a2715fcac6366488fd7b6c2/netology-ds-team/DLL" /><meta name="twitter:site" content="@github" /><meta name="twitter:card" content="summary_large_image" /><meta name="twitter:title" content="DLL/Занятие 1.2. Автодифференцирование и линейная регрессия.ipynb at main · netology-ds-team/DLL" /><meta name="twitter:description" content="Материалы для практики по курсу &quot;Deep Learning&quot;. Contribute to netology-ds-team/DLL development by creating an account on GitHub." />
      <meta property="og:image" content="https://opengraph.githubassets.com/358e482daeb8809a7fa02ed063c26fa283a37c6b8a2715fcac6366488fd7b6c2/netology-ds-team/DLL" /><meta property="og:image:alt" content="Материалы для практики по курсу &quot;Deep Learning&quot;. Contribute to netology-ds-team/DLL development by creating an account on GitHub." /><meta property="og:image:width" content="1200" /><meta property="og:image:height" content="600" /><meta property="og:site_name" content="GitHub" /><meta property="og:type" content="object" /><meta property="og:title" content="DLL/Занятие 1.2. Автодифференцирование и линейная регрессия.ipynb at main · netology-ds-team/DLL" /><meta property="og:url" content="https://github.com/netology-ds-team/DLL" /><meta property="og:description" content="Материалы для практики по курсу &quot;Deep Learning&quot;. Contribute to netology-ds-team/DLL development by creating an account on GitHub." />
      

      <link rel="shared-web-socket" href="wss://alive.github.com/_sockets/u/77914048/ws?session=eyJ2IjoiVjMiLCJ1Ijo3NzkxNDA0OCwicyI6MTEwNTM2MDQ0MCwiYyI6NjAwNTM4NTk3LCJ0IjoxNjg2MDQyMDQ4fQ==--60d800460d45a49e38c2440aff99ba7f615c48930401a7a2bf58bf94b01b2bba" data-refresh-url="/_alive" data-session-id="91bef5b8638fd2f08109bca83e371ad726eab2305375913c044653fb34ab1be2">
      <link rel="shared-web-socket-src" href="/assets-cdn/worker/socket-worker-71e98f781d79.js">


        <meta name="hostname" content="github.com">


      <meta name="keyboard-shortcuts-preference" content="all">

        <meta name="expected-hostname" content="github.com">

    <meta name="enabled-features" content="TURBO_EXPERIMENT_RISKY,IMAGE_METRIC_TRACKING,GEOJSON_AZURE_MAPS,SUDO_MODAL_FOCUS">


  <meta http-equiv="x-pjax-version" content="c26838f134c466a5369daf9ee3dea34455db04160e2d09902ac0d2e797adad4d" data-turbo-track="reload">
  <meta http-equiv="x-pjax-csp-version" content="0db263f9a873141d8256f783c35f244c06d490aacc3b680f99794dd8fd59fb59" data-turbo-track="reload">
  <meta http-equiv="x-pjax-css-version" content="3a5ebe862e241f673b94226e4d40972fd95ee6fdb7d57b8b44f2b2fa29ce05f7" data-turbo-track="reload">
  <meta http-equiv="x-pjax-js-version" content="6cc4c11a08fa9620dcdb6a8c6e55aca83a874799b24a89d6cdf8983e1520d3c0" data-turbo-track="reload">

  <meta name="turbo-cache-control" content="no-preview" data-turbo-transient="">

      <meta name="turbo-cache-control" content="no-cache" data-turbo-transient>
    <meta data-hydrostats="publish">

  <meta name="go-import" content="github.com/netology-ds-team/DLL git https://github.com/netology-ds-team/DLL.git">

  <meta name="octolytics-dimension-user_id" content="83753353" /><meta name="octolytics-dimension-user_login" content="netology-ds-team" /><meta name="octolytics-dimension-repository_id" content="595657061" /><meta name="octolytics-dimension-repository_nwo" content="netology-ds-team/DLL" /><meta name="octolytics-dimension-repository_public" content="true" /><meta name="octolytics-dimension-repository_is_fork" content="false" /><meta name="octolytics-dimension-repository_network_root_id" content="595657061" /><meta name="octolytics-dimension-repository_network_root_nwo" content="netology-ds-team/DLL" />



  <meta name="turbo-body-classes" content="logged-in env-production page-responsive">


  <meta name="browser-stats-url" content="https://api.github.com/_private/browser/stats">

  <meta name="browser-errors-url" content="https://api.github.com/_private/browser/errors">

  <meta name="browser-optimizely-client-errors-url" content="https://api.github.com/_private/browser/optimizely_client/errors">

  <link rel="mask-icon" href="https://github.githubassets.com/pinned-octocat.svg" color="#000000">
  <link rel="alternate icon" class="js-site-favicon" type="image/png" href="https://github.githubassets.com/favicons/favicon.png">
  <link rel="icon" class="js-site-favicon" type="image/svg+xml" href="https://github.githubassets.com/favicons/favicon.svg">

<meta name="theme-color" content="#1e2327">
<meta name="color-scheme" content="light dark" />


  <link rel="manifest" href="/manifest.json" crossOrigin="use-credentials">

  </head>

  <body class="logged-in env-production page-responsive" style="word-wrap: break-word;">
    <div data-turbo-body class="logged-in env-production page-responsive" style="word-wrap: break-word;">
      


    <div class="position-relative js-header-wrapper ">
      <a href="#start-of-content" class="p-3 color-bg-accent-emphasis color-fg-on-emphasis show-on-focus js-skip-to-content">Skip to content</a>
      <span data-view-component="true" class="progress-pjax-loader Progress position-fixed width-full">
    <span style="width: 0%;" data-view-component="true" class="Progress-item progress-pjax-loader-bar left-0 top-0 color-bg-accent-emphasis"></span>
</span>      
      


        <script crossorigin="anonymous" defer="defer" type="application/javascript" src="https://github.githubassets.com/assets/vendors-node_modules_allex_crc32_lib_crc32_esm_js-node_modules_github_mini-throttle_dist_deco-26fa0f-02e7ed68dae1.js"></script>
<script crossorigin="anonymous" defer="defer" type="application/javascript" src="https://github.githubassets.com/assets/vendors-node_modules_github_clipboard-copy-element_dist_index_esm_js-node_modules_delegated-e-b37f7d-a9177ba414f2.js"></script>
<script crossorigin="anonymous" defer="defer" type="application/javascript" src="https://github.githubassets.com/assets/app_assets_modules_github_command-palette_items_help-item_ts-app_assets_modules_github_comman-48ad9d-beffe41c24a7.js"></script>
<script crossorigin="anonymous" defer="defer" type="application/javascript" src="https://github.githubassets.com/assets/command-palette-c2a5f7e7eb12.js"></script>

            <header class="Header js-details-container Details px-3 px-md-4 px-lg-5 flex-wrap flex-md-nowrap" role="banner">

    <div class="Header-item mt-n1 mb-n1  d-none d-md-flex">
      <a
  class="Header-link"
  href="https://github.com/"
  data-hotkey="g d"
  aria-label="Homepage "
  data-turbo="false"
  data-analytics-event="{&quot;category&quot;:&quot;Header&quot;,&quot;action&quot;:&quot;go to dashboard&quot;,&quot;label&quot;:&quot;icon:logo&quot;}"
>
  <svg height="32" aria-hidden="true" viewBox="0 0 16 16" version="1.1" width="32" data-view-component="true" class="octicon octicon-mark-github v-align-middle">
    <path d="M8 0c4.42 0 8 3.58 8 8a8.013 8.013 0 0 1-5.45 7.59c-.4.08-.55-.17-.55-.38 0-.27.01-1.13.01-2.2 0-.75-.25-1.23-.54-1.48 1.78-.2 3.65-.88 3.65-3.95 0-.88-.31-1.59-.82-2.15.08-.2.36-1.02-.08-2.12 0 0-.67-.22-2.2.82-.64-.18-1.32-.27-2-.27-.68 0-1.36.09-2 .27-1.53-1.03-2.2-.82-2.2-.82-.44 1.1-.16 1.92-.08 2.12-.51.56-.82 1.28-.82 2.15 0 3.06 1.86 3.75 3.64 3.95-.23.2-.44.55-.51 1.07-.46.21-1.61.55-2.33-.66-.15-.24-.6-.83-1.23-.82-.67.01-.27.38.01.53.34.19.73.9.82 1.13.16.45.68 1.31 2.69.94 0 .67.01 1.3.01 1.49 0 .21-.15.45-.55.38A7.995 7.995 0 0 1 0 8c0-4.42 3.58-8 8-8Z"></path>
</svg>
</a>

    </div>

    <div class="Header-item d-md-none">
        <button aria-label="Toggle navigation" aria-expanded="false" type="button" data-view-component="true" class="Header-link js-details-target btn-link">    <svg aria-hidden="true" height="24" viewBox="0 0 16 16" version="1.1" width="24" data-view-component="true" class="octicon octicon-three-bars">
    <path d="M1 2.75A.75.75 0 0 1 1.75 2h12.5a.75.75 0 0 1 0 1.5H1.75A.75.75 0 0 1 1 2.75Zm0 5A.75.75 0 0 1 1.75 7h12.5a.75.75 0 0 1 0 1.5H1.75A.75.75 0 0 1 1 7.75ZM1.75 12h12.5a.75.75 0 0 1 0 1.5H1.75a.75.75 0 0 1 0-1.5Z"></path>
</svg>
</button>    </div>

    <div class="Header-item Header-item--full flex-column flex-md-row width-full flex-order-2 flex-md-order-none mr-0 mt-3 mt-md-0 Details-content--hidden-not-important d-md-flex">
              


<template id="search-icon">
  <svg aria-hidden="true" height="16" viewBox="0 0 16 16" version="1.1" width="16" data-view-component="true" class="octicon octicon-search">
    <path d="M10.68 11.74a6 6 0 0 1-7.922-8.982 6 6 0 0 1 8.982 7.922l3.04 3.04a.749.749 0 0 1-.326 1.275.749.749 0 0 1-.734-.215ZM11.5 7a4.499 4.499 0 1 0-8.997 0A4.499 4.499 0 0 0 11.5 7Z"></path>
</svg>
</template>

<template id="code-icon">
  <svg aria-hidden="true" height="16" viewBox="0 0 16 16" version="1.1" width="16" data-view-component="true" class="octicon octicon-code">
    <path d="m11.28 3.22 4.25 4.25a.75.75 0 0 1 0 1.06l-4.25 4.25a.749.749 0 0 1-1.275-.326.749.749 0 0 1 .215-.734L13.94 8l-3.72-3.72a.749.749 0 0 1 .326-1.275.749.749 0 0 1 .734.215Zm-6.56 0a.751.751 0 0 1 1.042.018.751.751 0 0 1 .018 1.042L2.06 8l3.72 3.72a.749.749 0 0 1-.326 1.275.749.749 0 0 1-.734-.215L.47 8.53a.75.75 0 0 1 0-1.06Z"></path>
</svg>
</template>

<template id="file-code-icon">
  <svg aria-hidden="true" height="16" viewBox="0 0 16 16" version="1.1" width="16" data-view-component="true" class="octicon octicon-file-code">
    <path d="M4 1.75C4 .784 4.784 0 5.75 0h5.586c.464 0 .909.184 1.237.513l2.914 2.914c.329.328.513.773.513 1.237v8.586A1.75 1.75 0 0 1 14.25 15h-9a.75.75 0 0 1 0-1.5h9a.25.25 0 0 0 .25-.25V6h-2.75A1.75 1.75 0 0 1 10 4.25V1.5H5.75a.25.25 0 0 0-.25.25v2.5a.75.75 0 0 1-1.5 0Zm1.72 4.97a.75.75 0 0 1 1.06 0l2 2a.75.75 0 0 1 0 1.06l-2 2a.749.749 0 0 1-1.275-.326.749.749 0 0 1 .215-.734l1.47-1.47-1.47-1.47a.75.75 0 0 1 0-1.06ZM3.28 7.78 1.81 9.25l1.47 1.47a.751.751 0 0 1-.018 1.042.751.751 0 0 1-1.042.018l-2-2a.75.75 0 0 1 0-1.06l2-2a.751.751 0 0 1 1.042.018.751.751 0 0 1 .018 1.042Zm8.22-6.218V4.25c0 .138.112.25.25.25h2.688l-.011-.013-2.914-2.914-.013-.011Z"></path>
</svg>
</template>

<template id="history-icon">
  <svg aria-hidden="true" height="16" viewBox="0 0 16 16" version="1.1" width="16" data-view-component="true" class="octicon octicon-history">
    <path d="m.427 1.927 1.215 1.215a8.002 8.002 0 1 1-1.6 5.685.75.75 0 1 1 1.493-.154 6.5 6.5 0 1 0 1.18-4.458l1.358 1.358A.25.25 0 0 1 3.896 6H.25A.25.25 0 0 1 0 5.75V2.104a.25.25 0 0 1 .427-.177ZM7.75 4a.75.75 0 0 1 .75.75v2.992l2.028.812a.75.75 0 0 1-.557 1.392l-2.5-1A.751.751 0 0 1 7 8.25v-3.5A.75.75 0 0 1 7.75 4Z"></path>
</svg>
</template>

<template id="repo-icon">
  <svg aria-hidden="true" height="16" viewBox="0 0 16 16" version="1.1" width="16" data-view-component="true" class="octicon octicon-repo">
    <path d="M2 2.5A2.5 2.5 0 0 1 4.5 0h8.75a.75.75 0 0 1 .75.75v12.5a.75.75 0 0 1-.75.75h-2.5a.75.75 0 0 1 0-1.5h1.75v-2h-8a1 1 0 0 0-.714 1.7.75.75 0 1 1-1.072 1.05A2.495 2.495 0 0 1 2 11.5Zm10.5-1h-8a1 1 0 0 0-1 1v6.708A2.486 2.486 0 0 1 4.5 9h8ZM5 12.25a.25.25 0 0 1 .25-.25h3.5a.25.25 0 0 1 .25.25v3.25a.25.25 0 0 1-.4.2l-1.45-1.087a.249.249 0 0 0-.3 0L5.4 15.7a.25.25 0 0 1-.4-.2Z"></path>
</svg>
</template>

<template id="bookmark-icon">
  <svg aria-hidden="true" height="16" viewBox="0 0 16 16" version="1.1" width="16" data-view-component="true" class="octicon octicon-bookmark">
    <path d="M3 2.75C3 1.784 3.784 1 4.75 1h6.5c.966 0 1.75.784 1.75 1.75v11.5a.75.75 0 0 1-1.227.579L8 11.722l-3.773 3.107A.751.751 0 0 1 3 14.25Zm1.75-.25a.25.25 0 0 0-.25.25v9.91l3.023-2.489a.75.75 0 0 1 .954 0l3.023 2.49V2.75a.25.25 0 0 0-.25-.25Z"></path>
</svg>
</template>

<template id="plus-circle-icon">
  <svg aria-hidden="true" height="16" viewBox="0 0 16 16" version="1.1" width="16" data-view-component="true" class="octicon octicon-plus-circle">
    <path d="M8 0a8 8 0 1 1 0 16A8 8 0 0 1 8 0ZM1.5 8a6.5 6.5 0 1 0 13 0 6.5 6.5 0 0 0-13 0Zm7.25-3.25v2.5h2.5a.75.75 0 0 1 0 1.5h-2.5v2.5a.75.75 0 0 1-1.5 0v-2.5h-2.5a.75.75 0 0 1 0-1.5h2.5v-2.5a.75.75 0 0 1 1.5 0Z"></path>
</svg>
</template>

<template id="circle-icon">
  <svg aria-hidden="true" height="16" viewBox="0 0 16 16" version="1.1" width="16" data-view-component="true" class="octicon octicon-dot-fill">
    <path d="M8 4a4 4 0 1 1 0 8 4 4 0 0 1 0-8Z"></path>
</svg>
</template>

<template id="trash-icon">
  <svg aria-hidden="true" height="16" viewBox="0 0 16 16" version="1.1" width="16" data-view-component="true" class="octicon octicon-trash">
    <path d="M11 1.75V3h2.25a.75.75 0 0 1 0 1.5H2.75a.75.75 0 0 1 0-1.5H5V1.75C5 .784 5.784 0 6.75 0h2.5C10.216 0 11 .784 11 1.75ZM4.496 6.675l.66 6.6a.25.25 0 0 0 .249.225h5.19a.25.25 0 0 0 .249-.225l.66-6.6a.75.75 0 0 1 1.492.149l-.66 6.6A1.748 1.748 0 0 1 10.595 15h-5.19a1.75 1.75 0 0 1-1.741-1.575l-.66-6.6a.75.75 0 1 1 1.492-.15ZM6.5 1.75V3h3V1.75a.25.25 0 0 0-.25-.25h-2.5a.25.25 0 0 0-.25.25Z"></path>
</svg>
</template>

<template id="team-icon">
  <svg aria-hidden="true" height="16" viewBox="0 0 16 16" version="1.1" width="16" data-view-component="true" class="octicon octicon-people">
    <path d="M2 5.5a3.5 3.5 0 1 1 5.898 2.549 5.508 5.508 0 0 1 3.034 4.084.75.75 0 1 1-1.482.235 4 4 0 0 0-7.9 0 .75.75 0 0 1-1.482-.236A5.507 5.507 0 0 1 3.102 8.05 3.493 3.493 0 0 1 2 5.5ZM11 4a3.001 3.001 0 0 1 2.22 5.018 5.01 5.01 0 0 1 2.56 3.012.749.749 0 0 1-.885.954.752.752 0 0 1-.549-.514 3.507 3.507 0 0 0-2.522-2.372.75.75 0 0 1-.574-.73v-.352a.75.75 0 0 1 .416-.672A1.5 1.5 0 0 0 11 5.5.75.75 0 0 1 11 4Zm-5.5-.5a2 2 0 1 0-.001 3.999A2 2 0 0 0 5.5 3.5Z"></path>
</svg>
</template>

<template id="project-icon">
  <svg aria-hidden="true" height="16" viewBox="0 0 16 16" version="1.1" width="16" data-view-component="true" class="octicon octicon-project">
    <path d="M1.75 0h12.5C15.216 0 16 .784 16 1.75v12.5A1.75 1.75 0 0 1 14.25 16H1.75A1.75 1.75 0 0 1 0 14.25V1.75C0 .784.784 0 1.75 0ZM1.5 1.75v12.5c0 .138.112.25.25.25h12.5a.25.25 0 0 0 .25-.25V1.75a.25.25 0 0 0-.25-.25H1.75a.25.25 0 0 0-.25.25ZM11.75 3a.75.75 0 0 1 .75.75v7.5a.75.75 0 0 1-1.5 0v-7.5a.75.75 0 0 1 .75-.75Zm-8.25.75a.75.75 0 0 1 1.5 0v5.5a.75.75 0 0 1-1.5 0ZM8 3a.75.75 0 0 1 .75.75v3.5a.75.75 0 0 1-1.5 0v-3.5A.75.75 0 0 1 8 3Z"></path>
</svg>
</template>

<template id="pencil-icon">
  <svg aria-hidden="true" height="16" viewBox="0 0 16 16" version="1.1" width="16" data-view-component="true" class="octicon octicon-pencil">
    <path d="M11.013 1.427a1.75 1.75 0 0 1 2.474 0l1.086 1.086a1.75 1.75 0 0 1 0 2.474l-8.61 8.61c-.21.21-.47.364-.756.445l-3.251.93a.75.75 0 0 1-.927-.928l.929-3.25c.081-.286.235-.547.445-.758l8.61-8.61Zm.176 4.823L9.75 4.81l-6.286 6.287a.253.253 0 0 0-.064.108l-.558 1.953 1.953-.558a.253.253 0 0 0 .108-.064Zm1.238-3.763a.25.25 0 0 0-.354 0L10.811 3.75l1.439 1.44 1.263-1.263a.25.25 0 0 0 0-.354Z"></path>
</svg>
</template>

<qbsearch-input class="search-input" data-scope="repo:netology-ds-team/DLL" data-custom-scopes-path="/search/custom_scopes" data-delete-custom-scopes-csrf="3MQpdVUJBjo48-rGW3gtIsUTJIsmY2Tw-rvU3eKJqdRi_e35r7ATsVc34W--qD3iY-UM3rDruOdpCjx5NPOmvw" data-max-custom-scopes="10" data-header-redesign-enabled="false" data-initial-value="" data-blackbird-suggestions-path="/search/suggestions" data-jump-to-suggestions-path="/_graphql/GetSuggestedNavigationDestinations" data-current-repository="netology-ds-team/DLL" data-current-org="netology-ds-team" data-current-owner="">
  <div
    class="search-input-container search-with-dialog position-relative d-flex flex-row flex-items-center mr-4 rounded"
    data-action="click:qbsearch-input#searchInputContainerClicked"
  >
      <button
        type="button"
        class="header-search-button placeholder  input-button form-control d-flex flex-1 flex-self-stretch flex-items-center no-wrap width-full py-0 pl-2 pr-0 text-left border-0 box-shadow-none"
        data-target="qbsearch-input.inputButton"
        placeholder="Search or jump to..."
        data-hotkey=s,/
        autocapitalize="off"
        data-action="click:qbsearch-input#handleExpand"
      >
        <div class="mr-2 color-fg-muted">
          <svg aria-hidden="true" height="16" viewBox="0 0 16 16" version="1.1" width="16" data-view-component="true" class="octicon octicon-search">
    <path d="M10.68 11.74a6 6 0 0 1-7.922-8.982 6 6 0 0 1 8.982 7.922l3.04 3.04a.749.749 0 0 1-.326 1.275.749.749 0 0 1-.734-.215ZM11.5 7a4.499 4.499 0 1 0-8.997 0A4.499 4.499 0 0 0 11.5 7Z"></path>
</svg>
        </div>
        <span class="flex-1" data-target="qbsearch-input.inputButtonText">Search or jump to...</span>
          <div class="d-flex" data-target="qbsearch-input.hotkeyIndicator">
            <svg xmlns="http://www.w3.org/2000/svg" width="22" height="20" aria-hidden="true" class="mr-1"><path fill="none" stroke="#979A9C" opacity=".4" d="M3.5.5h12c1.7 0 3 1.3 3 3v13c0 1.7-1.3 3-3 3h-12c-1.7 0-3-1.3-3-3v-13c0-1.7 1.3-3 3-3z"></path><path fill="#979A9C" d="M11.8 6L8 15.1h-.9L10.8 6h1z"></path></svg>

          </div>
      </button>

    <input type="hidden" name="type" class="js-site-search-type-field">

    
<div class="Overlay--hidden " data-modal-dialog-overlay>
  <modal-dialog data-action="close:qbsearch-input#handleClose cancel:qbsearch-input#handleClose" data-target="qbsearch-input.searchSuggestionsDialog" role="dialog" id="search-suggestions-dialog" aria-modal="true" aria-labelledby="search-suggestions-dialog-header" data-view-component="true" class="Overlay Overlay--width-large Overlay--height-auto">
      <h1 id="search-suggestions-dialog-header" class="sr-only">Search code, repositories, users, issues, pull requests...</h1>
    <div class="Overlay-body Overlay-body--paddingNone">
      
          <div data-view-component="true">        <div class="search-suggestions position-absolute width-full color-shadow-large border color-fg-default color-bg-default overflow-hidden d-flex flex-column query-builder-container"
          style="border-radius: 12px;"
          data-target="qbsearch-input.queryBuilderContainer"
          hidden
        >
          <!-- '"` --><!-- </textarea></xmp> --></option></form><form id="query-builder-test-form" action="" accept-charset="UTF-8" method="get">
  <query-builder data-target="qbsearch-input.queryBuilder" id="query-builder-query-builder-test" data-filter-key=":" data-view-component="true" class="QueryBuilder search-query-builder">
    <div class="FormControl FormControl--fullWidth">
      <label id="query-builder-test-label" for="query-builder-test" class="FormControl-label sr-only">
        Search
      </label>
      <div class="QueryBuilder-StyledInput width-fit" data-target="query-builder.styledInput">
          <span id="query-builder-test-leadingvisual-wrap" class="FormControl-input-leadingVisualWrap QueryBuilder-leadingVisualWrap">
            <svg aria-hidden="true" height="16" viewBox="0 0 16 16" version="1.1" width="16" data-view-component="true" class="octicon octicon-search FormControl-input-leadingVisual">
    <path d="M10.68 11.74a6 6 0 0 1-7.922-8.982 6 6 0 0 1 8.982 7.922l3.04 3.04a.749.749 0 0 1-.326 1.275.749.749 0 0 1-.734-.215ZM11.5 7a4.499 4.499 0 1 0-8.997 0A4.499 4.499 0 0 0 11.5 7Z"></path>
</svg>
          </span>
        <div data-target="query-builder.styledInputContainer" class="QueryBuilder-StyledInputContainer">
          <div
            aria-hidden="true"
            class="QueryBuilder-StyledInputContent"
            data-target="query-builder.styledInputContent"
          ></div>
          <div class="QueryBuilder-InputWrapper">
            <div aria-hidden="true" class="QueryBuilder-Sizer" data-target="query-builder.sizer"></div>
            <input id="query-builder-test" name="query-builder-test" value="" autocomplete="off" type="text" role="combobox" spellcheck="false" aria-expanded="false" data-target="query-builder.input" data-action="
          input:query-builder#inputChange
          blur:query-builder#inputBlur
          keydown:query-builder#inputKeydown
          focus:query-builder#inputFocus
        " data-view-component="true" class="FormControl-input QueryBuilder-Input FormControl-medium" />
          </div>
        </div>
          <span class="sr-only" id="query-builder-test-clear">Clear</span>
          
  <button role="button" id="query-builder-test-clear-button" aria-labelledby="query-builder-test-clear query-builder-test-label" data-target="query-builder.clearButton" data-action="
                click:query-builder#clear
                focus:query-builder#clearButtonFocus
                blur:query-builder#clearButtonBlur
              " variant="small" hidden="hidden" type="button" data-view-component="true" class="Button Button--iconOnly Button--invisible Button--medium mr-1 px-2 py-0 d-flex flex-items-center rounded-1 color-fg-muted">    <svg aria-hidden="true" height="16" viewBox="0 0 16 16" version="1.1" width="16" data-view-component="true" class="octicon octicon-x-circle-fill Button-visual">
    <path d="M2.343 13.657A8 8 0 1 1 13.658 2.343 8 8 0 0 1 2.343 13.657ZM6.03 4.97a.751.751 0 0 0-1.042.018.751.751 0 0 0-.018 1.042L6.94 8 4.97 9.97a.749.749 0 0 0 .326 1.275.749.749 0 0 0 .734-.215L8 9.06l1.97 1.97a.749.749 0 0 0 1.275-.326.749.749 0 0 0-.215-.734L9.06 8l1.97-1.97a.749.749 0 0 0-.326-1.275.749.749 0 0 0-.734.215L8 6.94Z"></path>
</svg>
</button>  

      </div>
      <template id="search-icon">
  <svg aria-hidden="true" height="16" viewBox="0 0 16 16" version="1.1" width="16" data-view-component="true" class="octicon octicon-search">
    <path d="M10.68 11.74a6 6 0 0 1-7.922-8.982 6 6 0 0 1 8.982 7.922l3.04 3.04a.749.749 0 0 1-.326 1.275.749.749 0 0 1-.734-.215ZM11.5 7a4.499 4.499 0 1 0-8.997 0A4.499 4.499 0 0 0 11.5 7Z"></path>
</svg>
</template>

<template id="code-icon">
  <svg aria-hidden="true" height="16" viewBox="0 0 16 16" version="1.1" width="16" data-view-component="true" class="octicon octicon-code">
    <path d="m11.28 3.22 4.25 4.25a.75.75 0 0 1 0 1.06l-4.25 4.25a.749.749 0 0 1-1.275-.326.749.749 0 0 1 .215-.734L13.94 8l-3.72-3.72a.749.749 0 0 1 .326-1.275.749.749 0 0 1 .734.215Zm-6.56 0a.751.751 0 0 1 1.042.018.751.751 0 0 1 .018 1.042L2.06 8l3.72 3.72a.749.749 0 0 1-.326 1.275.749.749 0 0 1-.734-.215L.47 8.53a.75.75 0 0 1 0-1.06Z"></path>
</svg>
</template>

<template id="file-code-icon">
  <svg aria-hidden="true" height="16" viewBox="0 0 16 16" version="1.1" width="16" data-view-component="true" class="octicon octicon-file-code">
    <path d="M4 1.75C4 .784 4.784 0 5.75 0h5.586c.464 0 .909.184 1.237.513l2.914 2.914c.329.328.513.773.513 1.237v8.586A1.75 1.75 0 0 1 14.25 15h-9a.75.75 0 0 1 0-1.5h9a.25.25 0 0 0 .25-.25V6h-2.75A1.75 1.75 0 0 1 10 4.25V1.5H5.75a.25.25 0 0 0-.25.25v2.5a.75.75 0 0 1-1.5 0Zm1.72 4.97a.75.75 0 0 1 1.06 0l2 2a.75.75 0 0 1 0 1.06l-2 2a.749.749 0 0 1-1.275-.326.749.749 0 0 1 .215-.734l1.47-1.47-1.47-1.47a.75.75 0 0 1 0-1.06ZM3.28 7.78 1.81 9.25l1.47 1.47a.751.751 0 0 1-.018 1.042.751.751 0 0 1-1.042.018l-2-2a.75.75 0 0 1 0-1.06l2-2a.751.751 0 0 1 1.042.018.751.751 0 0 1 .018 1.042Zm8.22-6.218V4.25c0 .138.112.25.25.25h2.688l-.011-.013-2.914-2.914-.013-.011Z"></path>
</svg>
</template>

<template id="history-icon">
  <svg aria-hidden="true" height="16" viewBox="0 0 16 16" version="1.1" width="16" data-view-component="true" class="octicon octicon-history">
    <path d="m.427 1.927 1.215 1.215a8.002 8.002 0 1 1-1.6 5.685.75.75 0 1 1 1.493-.154 6.5 6.5 0 1 0 1.18-4.458l1.358 1.358A.25.25 0 0 1 3.896 6H.25A.25.25 0 0 1 0 5.75V2.104a.25.25 0 0 1 .427-.177ZM7.75 4a.75.75 0 0 1 .75.75v2.992l2.028.812a.75.75 0 0 1-.557 1.392l-2.5-1A.751.751 0 0 1 7 8.25v-3.5A.75.75 0 0 1 7.75 4Z"></path>
</svg>
</template>

<template id="repo-icon">
  <svg aria-hidden="true" height="16" viewBox="0 0 16 16" version="1.1" width="16" data-view-component="true" class="octicon octicon-repo">
    <path d="M2 2.5A2.5 2.5 0 0 1 4.5 0h8.75a.75.75 0 0 1 .75.75v12.5a.75.75 0 0 1-.75.75h-2.5a.75.75 0 0 1 0-1.5h1.75v-2h-8a1 1 0 0 0-.714 1.7.75.75 0 1 1-1.072 1.05A2.495 2.495 0 0 1 2 11.5Zm10.5-1h-8a1 1 0 0 0-1 1v6.708A2.486 2.486 0 0 1 4.5 9h8ZM5 12.25a.25.25 0 0 1 .25-.25h3.5a.25.25 0 0 1 .25.25v3.25a.25.25 0 0 1-.4.2l-1.45-1.087a.249.249 0 0 0-.3 0L5.4 15.7a.25.25 0 0 1-.4-.2Z"></path>
</svg>
</template>

<template id="bookmark-icon">
  <svg aria-hidden="true" height="16" viewBox="0 0 16 16" version="1.1" width="16" data-view-component="true" class="octicon octicon-bookmark">
    <path d="M3 2.75C3 1.784 3.784 1 4.75 1h6.5c.966 0 1.75.784 1.75 1.75v11.5a.75.75 0 0 1-1.227.579L8 11.722l-3.773 3.107A.751.751 0 0 1 3 14.25Zm1.75-.25a.25.25 0 0 0-.25.25v9.91l3.023-2.489a.75.75 0 0 1 .954 0l3.023 2.49V2.75a.25.25 0 0 0-.25-.25Z"></path>
</svg>
</template>

<template id="plus-circle-icon">
  <svg aria-hidden="true" height="16" viewBox="0 0 16 16" version="1.1" width="16" data-view-component="true" class="octicon octicon-plus-circle">
    <path d="M8 0a8 8 0 1 1 0 16A8 8 0 0 1 8 0ZM1.5 8a6.5 6.5 0 1 0 13 0 6.5 6.5 0 0 0-13 0Zm7.25-3.25v2.5h2.5a.75.75 0 0 1 0 1.5h-2.5v2.5a.75.75 0 0 1-1.5 0v-2.5h-2.5a.75.75 0 0 1 0-1.5h2.5v-2.5a.75.75 0 0 1 1.5 0Z"></path>
</svg>
</template>

<template id="circle-icon">
  <svg aria-hidden="true" height="16" viewBox="0 0 16 16" version="1.1" width="16" data-view-component="true" class="octicon octicon-dot-fill">
    <path d="M8 4a4 4 0 1 1 0 8 4 4 0 0 1 0-8Z"></path>
</svg>
</template>

<template id="trash-icon">
  <svg aria-hidden="true" height="16" viewBox="0 0 16 16" version="1.1" width="16" data-view-component="true" class="octicon octicon-trash">
    <path d="M11 1.75V3h2.25a.75.75 0 0 1 0 1.5H2.75a.75.75 0 0 1 0-1.5H5V1.75C5 .784 5.784 0 6.75 0h2.5C10.216 0 11 .784 11 1.75ZM4.496 6.675l.66 6.6a.25.25 0 0 0 .249.225h5.19a.25.25 0 0 0 .249-.225l.66-6.6a.75.75 0 0 1 1.492.149l-.66 6.6A1.748 1.748 0 0 1 10.595 15h-5.19a1.75 1.75 0 0 1-1.741-1.575l-.66-6.6a.75.75 0 1 1 1.492-.15ZM6.5 1.75V3h3V1.75a.25.25 0 0 0-.25-.25h-2.5a.25.25 0 0 0-.25.25Z"></path>
</svg>
</template>

<template id="team-icon">
  <svg aria-hidden="true" height="16" viewBox="0 0 16 16" version="1.1" width="16" data-view-component="true" class="octicon octicon-people">
    <path d="M2 5.5a3.5 3.5 0 1 1 5.898 2.549 5.508 5.508 0 0 1 3.034 4.084.75.75 0 1 1-1.482.235 4 4 0 0 0-7.9 0 .75.75 0 0 1-1.482-.236A5.507 5.507 0 0 1 3.102 8.05 3.493 3.493 0 0 1 2 5.5ZM11 4a3.001 3.001 0 0 1 2.22 5.018 5.01 5.01 0 0 1 2.56 3.012.749.749 0 0 1-.885.954.752.752 0 0 1-.549-.514 3.507 3.507 0 0 0-2.522-2.372.75.75 0 0 1-.574-.73v-.352a.75.75 0 0 1 .416-.672A1.5 1.5 0 0 0 11 5.5.75.75 0 0 1 11 4Zm-5.5-.5a2 2 0 1 0-.001 3.999A2 2 0 0 0 5.5 3.5Z"></path>
</svg>
</template>

<template id="project-icon">
  <svg aria-hidden="true" height="16" viewBox="0 0 16 16" version="1.1" width="16" data-view-component="true" class="octicon octicon-project">
    <path d="M1.75 0h12.5C15.216 0 16 .784 16 1.75v12.5A1.75 1.75 0 0 1 14.25 16H1.75A1.75 1.75 0 0 1 0 14.25V1.75C0 .784.784 0 1.75 0ZM1.5 1.75v12.5c0 .138.112.25.25.25h12.5a.25.25 0 0 0 .25-.25V1.75a.25.25 0 0 0-.25-.25H1.75a.25.25 0 0 0-.25.25ZM11.75 3a.75.75 0 0 1 .75.75v7.5a.75.75 0 0 1-1.5 0v-7.5a.75.75 0 0 1 .75-.75Zm-8.25.75a.75.75 0 0 1 1.5 0v5.5a.75.75 0 0 1-1.5 0ZM8 3a.75.75 0 0 1 .75.75v3.5a.75.75 0 0 1-1.5 0v-3.5A.75.75 0 0 1 8 3Z"></path>
</svg>
</template>

<template id="pencil-icon">
  <svg aria-hidden="true" height="16" viewBox="0 0 16 16" version="1.1" width="16" data-view-component="true" class="octicon octicon-pencil">
    <path d="M11.013 1.427a1.75 1.75 0 0 1 2.474 0l1.086 1.086a1.75 1.75 0 0 1 0 2.474l-8.61 8.61c-.21.21-.47.364-.756.445l-3.251.93a.75.75 0 0 1-.927-.928l.929-3.25c.081-.286.235-.547.445-.758l8.61-8.61Zm.176 4.823L9.75 4.81l-6.286 6.287a.253.253 0 0 0-.064.108l-.558 1.953 1.953-.558a.253.253 0 0 0 .108-.064Zm1.238-3.763a.25.25 0 0 0-.354 0L10.811 3.75l1.439 1.44 1.263-1.263a.25.25 0 0 0 0-.354Z"></path>
</svg>
</template>

        <div class="position-relative">
                <ul
                  role="listbox"
                  class="ActionListWrap QueryBuilder-ListWrap"
                  aria-label="Suggestions"
                  data-action="
                    combobox-commit:query-builder#comboboxCommit
                    mousedown:query-builder#resultsMousedown
                  "
                  data-target="query-builder.resultsList"
                  data-persist-list=false
                  id="query-builder-test-results"
                ></ul>
        </div>
    </div>
    <div data-target="query-builder.screenReaderFeedback" aria-live="polite" aria-atomic="true" class="sr-only"></div>
</query-builder></form>
          <div class="d-flex flex-row color-fg-muted px-3 text-small color-bg-default search-feedback-prompt">
            <a target="_blank" href="https://docs.github.com/en/search-github/github-code-search/understanding-github-code-search-syntax" data-view-component="true" class="color-fg-accent text-normal ml-2">
              Search syntax tips
</a>            <div class="d-flex flex-1"></div>
              <button data-action="click:qbsearch-input#showFeedbackDialog" type="button" data-view-component="true" class="Button--link Button--medium Button color-fg-accent text-normal ml-2">    <span class="Button-content">
      <span class="Button-label">Give feedback</span>
    </span>
</button>  
          </div>
        </div>
</div>

    </div>
</modal-dialog></div>
  </div>
  <div data-action="click:qbsearch-input#retract" class="dark-backdrop position-fixed width-full" hidden data-target="qbsearch-input.darkBackdrop"></div>
  <div class="color-fg-default">
    
<div class="Overlay--hidden Overlay-backdrop--center" data-modal-dialog-overlay>
  <modal-dialog data-target="qbsearch-input.feedbackDialog" data-action="close:qbsearch-input#handleDialogClose cancel:qbsearch-input#handleDialogClose" role="dialog" id="feedback-dialog" aria-modal="true" aria-disabled="true" aria-describedby="feedback-dialog-title feedback-dialog-description" data-view-component="true" class="Overlay Overlay-whenNarrow Overlay--size-medium Overlay--motion-scaleFade">
    <div data-view-component="true" class="Overlay-header">
  <div class="Overlay-headerContentWrap">
    <div class="Overlay-titleWrap">
      <h1 class="Overlay-title " id="feedback-dialog-title">
        Provide feedback
      </h1>
    </div>
    <div class="Overlay-actionWrap">
      <button data-close-dialog-id="feedback-dialog" aria-label="Close" type="button" data-view-component="true" class="close-button Overlay-closeButton"><svg aria-hidden="true" height="16" viewBox="0 0 16 16" version="1.1" width="16" data-view-component="true" class="octicon octicon-x">
    <path d="M3.72 3.72a.75.75 0 0 1 1.06 0L8 6.94l3.22-3.22a.749.749 0 0 1 1.275.326.749.749 0 0 1-.215.734L9.06 8l3.22 3.22a.749.749 0 0 1-.326 1.275.749.749 0 0 1-.734-.215L8 9.06l-3.22 3.22a.751.751 0 0 1-1.042-.018.751.751 0 0 1-.018-1.042L6.94 8 3.72 4.78a.75.75 0 0 1 0-1.06Z"></path>
</svg></button>
    </div>
  </div>
</div>
      <div data-view-component="true" class="Overlay-body">        <!-- '"` --><!-- </textarea></xmp> --></option></form><form id="code-search-feedback-form" data-turbo="false" action="/search/feedback" accept-charset="UTF-8" method="post"><input type="hidden" name="authenticity_token" value="ZXPIeIcuSfGueC4_KyWHTHH4t3zqeGPkSk00BhjKv8PQps2kUmTh3nFg3v4cDfqIxX6n6wRJO5-0ZeB1G1hK2w" />
          <p>We read every piece of feedback, and take your input very seriously.</p>
          <textarea name="feedback" class="form-control width-full mb-2" style="height: 120px" id="feedback"></textarea>
          <input name="include_email" id="include_email" aria-label="Include my email address so I can be contacted" class="form-control mr-2" type="checkbox">
          <label for="include_email" style="font-weight: normal">Include my email address so I can be contacted</label>
</form></div>
      <div data-view-component="true" class="Overlay-footer Overlay-footer--alignEnd">          <button data-close-dialog-id="feedback-dialog" type="button" data-view-component="true" class="btn">    Cancel
</button>
          <button form="code-search-feedback-form" data-action="click:qbsearch-input#submitFeedback" type="submit" data-view-component="true" class="btn-primary btn">    Submit feedback
</button>
</div>
</modal-dialog></div>

    <custom-scopes data-target="qbsearch-input.customScopesManager">
    
<div class="Overlay--hidden Overlay-backdrop--center" data-modal-dialog-overlay>
  <modal-dialog data-target="custom-scopes.customScopesModalDialog" data-action="close:qbsearch-input#handleDialogClose cancel:qbsearch-input#handleDialogClose" role="dialog" id="custom-scopes-dialog" aria-modal="true" aria-disabled="true" aria-describedby="custom-scopes-dialog-title custom-scopes-dialog-description" data-view-component="true" class="Overlay Overlay-whenNarrow Overlay--size-medium Overlay--motion-scaleFade">
    <div data-view-component="true" class="Overlay-header Overlay-header--divided">
  <div class="Overlay-headerContentWrap">
    <div class="Overlay-titleWrap">
      <h1 class="Overlay-title " id="custom-scopes-dialog-title">
        Saved searches
      </h1>
        <h2 id="custom-scopes-dialog-description" class="Overlay-description">Use saved searches to filter your results more quickly</h2>
    </div>
    <div class="Overlay-actionWrap">
      <button data-close-dialog-id="custom-scopes-dialog" aria-label="Close" type="button" data-view-component="true" class="close-button Overlay-closeButton"><svg aria-hidden="true" height="16" viewBox="0 0 16 16" version="1.1" width="16" data-view-component="true" class="octicon octicon-x">
    <path d="M3.72 3.72a.75.75 0 0 1 1.06 0L8 6.94l3.22-3.22a.749.749 0 0 1 1.275.326.749.749 0 0 1-.215.734L9.06 8l3.22 3.22a.749.749 0 0 1-.326 1.275.749.749 0 0 1-.734-.215L8 9.06l-3.22 3.22a.751.751 0 0 1-1.042-.018.751.751 0 0 1-.018-1.042L6.94 8 3.72 4.78a.75.75 0 0 1 0-1.06Z"></path>
</svg></button>
    </div>
  </div>
</div>
      <div data-view-component="true" class="Overlay-body">        <div data-target="custom-scopes.customScopesModalDialogFlash"></div>

        <div hidden class="create-custom-scope-form" data-target="custom-scopes.createCustomScopeForm">
        <!-- '"` --><!-- </textarea></xmp> --></option></form><form id="custom-scopes-dialog-form" data-turbo="false" action="/search/custom_scopes" accept-charset="UTF-8" method="post"><input type="hidden" name="authenticity_token" value="u42o9Cah7twZ5U1OsQrXd_-6XwrNHejaTVuvEl8BUcJPz9O8FXS-8txcmOmCLIbX7ldNHLbdguj2bKqR3CEFyA" />
          <div data-target="custom-scopes.customScopesModalDialogFlash"></div>

          <input type="hidden" id="custom_scope_id" name="custom_scope_id" data-target="custom-scopes.customScopesIdField">

          <div class="form-group">
            <label for="custom_scope_name">Name</label>
            <auto-check src="/search/custom_scopes/check_name" required>
              <input
                type="text"
                name="custom_scope_name"
                id="custom_scope_name"
                data-target="custom-scopes.customScopesNameField"
                class="form-control"
                autocomplete="off"
                placeholder="github-ruby"
                required
                maxlength="50">
              <input type="hidden" value="0mSd939ZuSGWxAmqhgEEVsUhXf4F_HnYKjsceMkNNbTLqpaZ8ENp47RyOgimDtvbL_AQ_JCbv0SiGBYu5sl6tw" data-csrf="true" />
            </auto-check>
          </div>

          <div class="form-group">
            <label for="custom_scope_query">Query</label>
            <input
              type="text"
              name="custom_scope_query"
              id="custom_scope_query"
              data-target="custom-scopes.customScopesQueryField"
              class="form-control"
              autocomplete="off"
              placeholder="(repo:mona/a OR repo:mona/b) AND lang:python"
              required
              maxlength="500">
          </div>

          <p class="text-small color-fg-muted">
            To see all available qualifiers, see our <a href="https://docs.github.com/en/search-github/github-code-search/understanding-github-code-search-syntax">documentation</a>.
          </p>
</form>        </div>

        <div data-target="custom-scopes.manageCustomScopesForm">
          <div data-target="custom-scopes.list"></div>
        </div>

</div>
      <div data-view-component="true" class="Overlay-footer Overlay-footer--alignEnd Overlay-footer--divided">          <button data-action="click:custom-scopes#customScopesCancel" type="button" data-view-component="true" class="btn">    Cancel
</button>
          <button form="custom-scopes-dialog-form" data-action="click:custom-scopes#customScopesSubmit" data-target="custom-scopes.customScopesSubmitButton" type="submit" data-view-component="true" class="btn-primary btn">    Create saved search
</button>
</div>
</modal-dialog></div>
    </custom-scopes>
  </div>
</qbsearch-input><input type="hidden" value="UnuEOkpty4zb9PS8PfYmQOErBuUSJm6e-oZPzw6i6pTHoIzk1VDsHlZSUInOKAlrdTKorD3WpiAP4Z-uMBDfpg" data-csrf="true" class="js-data-jump-to-suggestions-path-csrf" />

        <nav id="global-nav" class="d-flex flex-column flex-md-row flex-self-stretch flex-md-self-auto" aria-label="Global">
    <a class="Header-link py-md-3 d-block d-md-none py-2 border-top border-md-top-0 border-white-fade" data-ga-click="Header, click, Nav menu - item:dashboard:user" aria-label="Dashboard" data-turbo="false" href="/dashboard">Dashboard</a>

  <a class="js-selected-navigation-item Header-link mt-md-n3 mb-md-n3 py-2 py-md-3 mr-0 mr-md-3 border-top border-md-top-0 border-white-fade" data-hotkey="g p" data-ga-click="Header, click, Nav menu - item:pulls context:user" aria-label="Pull requests you created" data-turbo="false" data-selected-links="/pulls /pulls/assigned /pulls/mentioned /pulls" href="/pulls">
      Pull<span class="d-inline d-md-none d-lg-inline"> request</span>s
</a>
  <a class="js-selected-navigation-item Header-link mt-md-n3 mb-md-n3 py-2 py-md-3 mr-0 mr-md-3 border-top border-md-top-0 border-white-fade" data-hotkey="g i" data-ga-click="Header, click, Nav menu - item:issues context:user" aria-label="Issues you created" data-turbo="false" data-selected-links="/issues /issues/assigned /issues/mentioned /issues" href="/issues">Issues</a>

      <a class="js-selected-navigation-item Header-link mt-md-n3 mb-md-n3 py-2 py-md-3 mr-0 mr-md-3 border-top border-md-top-0 border-white-fade" data-ga-click="Header, click, Nav menu - item:workspaces context:user" data-turbo="false" data-selected-links="/codespaces /codespaces" href="/codespaces">Codespaces</a>

    <div class="d-flex position-relative">
      <a class="js-selected-navigation-item Header-link flex-auto mt-md-n3 mb-md-n3 py-2 py-md-3 mr-0 mr-md-3 border-top border-md-top-0 border-white-fade" data-ga-click="Header, click, Nav menu - item:marketplace context:user" data-octo-click="marketplace_click" data-octo-dimensions="location:nav_bar" data-turbo="false" data-selected-links=" /marketplace" href="/marketplace">Marketplace</a>
    </div>

  <a class="js-selected-navigation-item Header-link mt-md-n3 mb-md-n3 py-2 py-md-3 mr-0 mr-md-3 border-top border-md-top-0 border-white-fade" data-ga-click="Header, click, Nav menu - item:explore" data-turbo="false" data-selected-links="/explore /trending /trending/developers /integrations /integrations/feature/code /integrations/feature/collaborate /integrations/feature/ship showcases showcases_search showcases_landing /explore" href="/explore">Explore</a>

      <a class="js-selected-navigation-item Header-link d-block d-md-none py-2 py-md-3 border-top border-md-top-0 border-white-fade" data-ga-click="Header, click, Nav menu - item:Sponsors" data-hydro-click="{&quot;event_type&quot;:&quot;sponsors.button_click&quot;,&quot;payload&quot;:{&quot;button&quot;:&quot;HEADER_SPONSORS_DASHBOARD&quot;,&quot;sponsorable_login&quot;:&quot;vn322&quot;,&quot;originating_url&quot;:&quot;https://github.com/netology-ds-team/DLL/blob/main/DLL-materials/%D0%97%D0%B0%D0%BD%D1%8F%D1%82%D0%B8%D0%B5%201.2.%20%D0%90%D0%B2%D1%82%D0%BE%D0%B4%D0%B8%D1%84%D1%84%D0%B5%D1%80%D0%B5%D0%BD%D1%86%D0%B8%D1%80%D0%BE%D0%B2%D0%B0%D0%BD%D0%B8%D0%B5%20%D0%B8%20%D0%BB%D0%B8%D0%BD%D0%B5%D0%B9%D0%BD%D0%B0%D1%8F%20%D1%80%D0%B5%D0%B3%D1%80%D0%B5%D1%81%D1%81%D0%B8%D1%8F.ipynb&quot;,&quot;user_id&quot;:77914048}}" data-hydro-click-hmac="bece2b8783354ae567aea0f0e79c15952af03bfd31d55aa66f34c7dcac7e433e" data-turbo="false" data-selected-links=" /sponsors/accounts" href="/sponsors/accounts">Sponsors</a>

    <a class="Header-link d-block d-md-none mr-0 mr-md-3 py-2 py-md-3 border-top border-md-top-0 border-white-fade" data-turbo="false" href="/settings/profile">Settings</a>

    <a class="Header-link d-block d-md-none mr-0 mr-md-3 py-2 py-md-3 border-top border-md-top-0 border-white-fade" data-turbo="false" href="/vn322">
      <img class="avatar avatar-user" loading="lazy" decoding="async" src="https://avatars.githubusercontent.com/u/77914048?s=40&amp;v=4" width="20" height="20" alt="@vn322" />
      vn322
</a>
    <!-- '"` --><!-- </textarea></xmp> --></option></form><form data-turbo="false" action="/logout" accept-charset="UTF-8" method="post"><input type="hidden" name="authenticity_token" value="gvYGjNaWD1oChWqPl-ghVB-Uy1OHbwrSGb3BWZdIV5SRM0isE_xgw7NG52wxDdJzfHkg0rEMPldGMw6WhNcraw" />
      <button
        type="submit"
        class="Header-link mr-0 mr-md-3 py-2 py-md-3 border-top border-md-top-0 border-white-fade d-md-none btn-link d-block width-full text-left"
        style="padding-left: 2px;"
        data-analytics-event="{&quot;category&quot;:&quot;Header&quot;,&quot;action&quot;:&quot;sign out&quot;,&quot;label&quot;:&quot;icon:logout&quot;}"
      >
        <svg aria-hidden="true" height="16" viewBox="0 0 16 16" version="1.1" width="16" data-view-component="true" class="octicon octicon-sign-out v-align-middle">
    <path d="M2 2.75C2 1.784 2.784 1 3.75 1h2.5a.75.75 0 0 1 0 1.5h-2.5a.25.25 0 0 0-.25.25v10.5c0 .138.112.25.25.25h2.5a.75.75 0 0 1 0 1.5h-2.5A1.75 1.75 0 0 1 2 13.25Zm10.44 4.5-1.97-1.97a.749.749 0 0 1 .326-1.275.749.749 0 0 1 .734.215l3.25 3.25a.75.75 0 0 1 0 1.06l-3.25 3.25a.749.749 0 0 1-1.275-.326.749.749 0 0 1 .215-.734l1.97-1.97H6.75a.75.75 0 0 1 0-1.5Z"></path>
</svg>
        Sign out
      </button>
</form></nav>

    </div>

    <div class="Header-item Header-item--full flex-justify-center d-md-none position-relative">
        <a
  class="Header-link"
  href="https://github.com/"
  data-hotkey="g d"
  aria-label="Homepage "
  data-turbo="false"
  data-analytics-event="{&quot;category&quot;:&quot;Header&quot;,&quot;action&quot;:&quot;go to dashboard&quot;,&quot;label&quot;:&quot;icon:logo&quot;}"
>
  <svg height="32" aria-hidden="true" viewBox="0 0 16 16" version="1.1" width="32" data-view-component="true" class="octicon octicon-mark-github v-align-middle">
    <path d="M8 0c4.42 0 8 3.58 8 8a8.013 8.013 0 0 1-5.45 7.59c-.4.08-.55-.17-.55-.38 0-.27.01-1.13.01-2.2 0-.75-.25-1.23-.54-1.48 1.78-.2 3.65-.88 3.65-3.95 0-.88-.31-1.59-.82-2.15.08-.2.36-1.02-.08-2.12 0 0-.67-.22-2.2.82-.64-.18-1.32-.27-2-.27-.68 0-1.36.09-2 .27-1.53-1.03-2.2-.82-2.2-.82-.44 1.1-.16 1.92-.08 2.12-.51.56-.82 1.28-.82 2.15 0 3.06 1.86 3.75 3.64 3.95-.23.2-.44.55-.51 1.07-.46.21-1.61.55-2.33-.66-.15-.24-.6-.83-1.23-.82-.67.01-.27.38.01.53.34.19.73.9.82 1.13.16.45.68 1.31 2.69.94 0 .67.01 1.3.01 1.49 0 .21-.15.45-.55.38A7.995 7.995 0 0 1 0 8c0-4.42 3.58-8 8-8Z"></path>
</svg>
</a>

    </div>

    <div class="Header-item mr-0 mr-md-3 flex-order-1 flex-md-order-none">
        

<notification-indicator data-channel="eyJjIjoibm90aWZpY2F0aW9uLWNoYW5nZWQ6Nzc5MTQwNDgiLCJ0IjoxNjg2MDQyMDQ4fQ==--8c920d7975314348c8f50a14a11a286f65715e6598837a845004c467a242a243" data-indicator-mode="none" data-tooltip-global="You have unread notifications" data-tooltip-unavailable="Notifications are unavailable at the moment." data-tooltip-none="You have no unread notifications" data-fetch-indicator-src="/notifications/indicator" data-fetch-indicator-enabled="true" data-view-component="true" class="js-socket-channel">
  <a id="AppHeader-notifications-button" href="/notifications"
    class="Header-link notification-indicator position-relative tooltipped tooltipped-sw"

    

    data-hotkey="g n"
    data-target="notification-indicator.link"
    aria-label="Notifications"

      data-analytics-event="{&quot;category&quot;:&quot;Header&quot;,&quot;action&quot;:&quot;go to notifications&quot;,&quot;label&quot;:&quot;icon:read&quot;}"
  >

    <span
      data-target="notification-indicator.badge"
      class="mail-status unread" hidden>
    </span>

      <svg aria-hidden="true" height="16" viewBox="0 0 16 16" version="1.1" width="16" data-view-component="true" class="octicon octicon-bell">
    <path d="M8 16a2 2 0 0 0 1.985-1.75c.017-.137-.097-.25-.235-.25h-3.5c-.138 0-.252.113-.235.25A2 2 0 0 0 8 16ZM3 5a5 5 0 0 1 10 0v2.947c0 .05.015.098.042.139l1.703 2.555A1.519 1.519 0 0 1 13.482 13H2.518a1.516 1.516 0 0 1-1.263-2.36l1.703-2.554A.255.255 0 0 0 3 7.947Zm5-3.5A3.5 3.5 0 0 0 4.5 5v2.947c0 .346-.102.683-.294.97l-1.703 2.556a.017.017 0 0 0-.003.01l.001.006c0 .002.002.004.004.006l.006.004.007.001h10.964l.007-.001.006-.004.004-.006.001-.007a.017.017 0 0 0-.003-.01l-1.703-2.554a1.745 1.745 0 0 1-.294-.97V5A3.5 3.5 0 0 0 8 1.5Z"></path>
</svg>
  </a>

</notification-indicator>
    </div>


    <div class="Header-item position-relative d-none d-md-flex">
        <details class="details-overlay details-reset">
  <summary
    class="Header-link"
    aria-label="Create new…"
    data-analytics-event="{&quot;category&quot;:&quot;Header&quot;,&quot;action&quot;:&quot;create new&quot;,&quot;label&quot;:&quot;icon:add&quot;}"
  >
    <svg aria-hidden="true" height="16" viewBox="0 0 16 16" version="1.1" width="16" data-view-component="true" class="octicon octicon-plus">
    <path d="M7.75 2a.75.75 0 0 1 .75.75V7h4.25a.75.75 0 0 1 0 1.5H8.5v4.25a.75.75 0 0 1-1.5 0V8.5H2.75a.75.75 0 0 1 0-1.5H7V2.75A.75.75 0 0 1 7.75 2Z"></path>
</svg> <span class="dropdown-caret"></span>
  </summary>
  <details-menu class="dropdown-menu dropdown-menu-sw">
    
<a role="menuitem" class="dropdown-item" href="/new" data-ga-click="Header, create new repository">
  New repository
</a>

  <a role="menuitem" class="dropdown-item" href="/new/import" data-ga-click="Header, import a repository">
    Import repository
  </a>

  <a role="menuitem" class="dropdown-item" href="/codespaces/new">
    New codespace
  </a>

<a role="menuitem" class="dropdown-item" href="https://gist.github.com/" data-ga-click="Header, create new gist">
  New gist
</a>

  <a role="menuitem" class="dropdown-item" href="/organizations/new" data-ga-click="Header, create new organization">
    New organization
  </a>



  </details-menu>
</details>

    </div>

    <div class="Header-item position-relative mr-0 d-none d-md-flex">
        
  <details class="details-overlay details-reset js-feature-preview-indicator-container" data-feature-preview-indicator-src="/users/vn322/feature_preview/indicator_check">

  <summary
    class="Header-link"
    aria-label="View profile and more"
    data-analytics-event="{&quot;category&quot;:&quot;Header&quot;,&quot;action&quot;:&quot;show menu&quot;,&quot;label&quot;:&quot;icon:avatar&quot;}"
  >
    <img src="https://avatars.githubusercontent.com/u/77914048?s=40&amp;v=4" alt="@vn322" size="20" height="20" width="20" data-view-component="true" class="avatar avatar-small circle" />
      <span class="unread-indicator js-feature-preview-indicator" style="top: 1px;" hidden></span>
    <span class="dropdown-caret"></span>
  </summary>
  <details-menu
      class="dropdown-menu dropdown-menu-sw"
      style="width: 180px"
      
      preload>
      <include-fragment src="/users/77914048/menu" loading="lazy">
        <p class="text-center mt-3" data-hide-on-error>
          <svg style="box-sizing: content-box; color: var(--color-icon-primary);" width="32" height="32" viewBox="0 0 16 16" fill="none" data-view-component="true" class="anim-rotate">
  <circle cx="8" cy="8" r="7" stroke="currentColor" stroke-opacity="0.25" stroke-width="2" vector-effect="non-scaling-stroke" />
  <path d="M15 8a7.002 7.002 0 00-7-7" stroke="currentColor" stroke-width="2" stroke-linecap="round" vector-effect="non-scaling-stroke" />
</svg>
        </p>
        <p class="ml-1 mb-2 mt-2 color-fg-default" data-show-on-error>
          <svg aria-hidden="true" height="16" viewBox="0 0 16 16" version="1.1" width="16" data-view-component="true" class="octicon octicon-alert">
    <path d="M6.457 1.047c.659-1.234 2.427-1.234 3.086 0l6.082 11.378A1.75 1.75 0 0 1 14.082 15H1.918a1.75 1.75 0 0 1-1.543-2.575Zm1.763.707a.25.25 0 0 0-.44 0L1.698 13.132a.25.25 0 0 0 .22.368h12.164a.25.25 0 0 0 .22-.368Zm.53 3.996v2.5a.75.75 0 0 1-1.5 0v-2.5a.75.75 0 0 1 1.5 0ZM9 11a1 1 0 1 1-2 0 1 1 0 0 1 2 0Z"></path>
</svg>
          Sorry, something went wrong.
        </p>
      </include-fragment>
  </details-menu>
</details>

    </div>
</header>

          
    </div>

  <div id="start-of-content" class="show-on-focus"></div>








    <div id="js-flash-container" data-turbo-replace>





  <template class="js-flash-template">
    
<div class="flash flash-full   {{ className }}">
  <div class="px-2" >
    <button autofocus class="flash-close js-flash-close" type="button" aria-label="Dismiss this message">
      <svg aria-hidden="true" height="16" viewBox="0 0 16 16" version="1.1" width="16" data-view-component="true" class="octicon octicon-x">
    <path d="M3.72 3.72a.75.75 0 0 1 1.06 0L8 6.94l3.22-3.22a.749.749 0 0 1 1.275.326.749.749 0 0 1-.215.734L9.06 8l3.22 3.22a.749.749 0 0 1-.326 1.275.749.749 0 0 1-.734-.215L8 9.06l-3.22 3.22a.751.751 0 0 1-1.042-.018.751.751 0 0 1-.018-1.042L6.94 8 3.72 4.78a.75.75 0 0 1 0-1.06Z"></path>
</svg>
    </button>
    <div aria-atomic="true" role="alert" class="js-flash-alert">
      
      <div>{{ message }}</div>

    </div>
  </div>
</div>
  </template>
</div>


    
    <notification-shelf-watcher data-base-url="https://github.com/notifications/beta/shelf" data-channel="eyJjIjoibm90aWZpY2F0aW9uLWNoYW5nZWQ6Nzc5MTQwNDgiLCJ0IjoxNjg2MDQyMDQ4fQ==--8c920d7975314348c8f50a14a11a286f65715e6598837a845004c467a242a243" data-view-component="true" class="js-socket-channel"></notification-shelf-watcher>
  <div hidden data-initial data-target="notification-shelf-watcher.placeholder"></div>






      <details
  class="details-reset details-overlay details-overlay-dark js-command-palette-dialog"
  id="command-palette-pjax-container"
  data-turbo-replace
>
  <summary aria-label="command palette trigger" tabindex="-1"></summary>
  <details-dialog class="command-palette-details-dialog d-flex flex-column flex-justify-center height-fit" aria-label="command palette">
    <command-palette
      class="command-palette color-bg-default rounded-3 border color-shadow-small"
      return-to=/netology-ds-team/DLL/blob/main/DLL-materials/%D0%97%D0%B0%D0%BD%D1%8F%D1%82%D0%B8%D0%B5%201.2.%20%D0%90%D0%B2%D1%82%D0%BE%D0%B4%D0%B8%D1%84%D1%84%D0%B5%D1%80%D0%B5%D0%BD%D1%86%D0%B8%D1%80%D0%BE%D0%B2%D0%B0%D0%BD%D0%B8%D0%B5%20%D0%B8%20%D0%BB%D0%B8%D0%BD%D0%B5%D0%B9%D0%BD%D0%B0%D1%8F%20%D1%80%D0%B5%D0%B3%D1%80%D0%B5%D1%81%D1%81%D0%B8%D1%8F.ipynb
      user-id="77914048"
      activation-hotkey="Mod+k,Mod+Alt+k"
      command-mode-hotkey="Mod+Shift+k"
      data-action="
        command-palette-input-ready:command-palette#inputReady
        command-palette-page-stack-updated:command-palette#updateInputScope
        itemsUpdated:command-palette#itemsUpdated
        keydown:command-palette#onKeydown
        loadingStateChanged:command-palette#loadingStateChanged
        selectedItemChanged:command-palette#selectedItemChanged
        pageFetchError:command-palette#pageFetchError
      ">

        <command-palette-mode
          data-char="#"
            data-scope-types="[&quot;&quot;]"
            data-placeholder="Search issues and pull requests"
        ></command-palette-mode>
        <command-palette-mode
          data-char="#"
            data-scope-types="[&quot;owner&quot;,&quot;repository&quot;]"
            data-placeholder="Search issues, pull requests, discussions, and projects"
        ></command-palette-mode>
        <command-palette-mode
          data-char="!"
            data-scope-types="[&quot;owner&quot;,&quot;repository&quot;]"
            data-placeholder="Search projects"
        ></command-palette-mode>
        <command-palette-mode
          data-char="@"
            data-scope-types="[&quot;&quot;]"
            data-placeholder="Search or jump to a user, organization, or repository"
        ></command-palette-mode>
        <command-palette-mode
          data-char="@"
            data-scope-types="[&quot;owner&quot;]"
            data-placeholder="Search or jump to a repository"
        ></command-palette-mode>
        <command-palette-mode
          data-char="/"
            data-scope-types="[&quot;repository&quot;]"
            data-placeholder="Search files"
        ></command-palette-mode>
        <command-palette-mode
          data-char="?"
        ></command-palette-mode>
        <command-palette-mode
          data-char="&gt;"
            data-placeholder="Run a command"
        ></command-palette-mode>
        <command-palette-mode
          data-char=""
            data-scope-types="[&quot;&quot;]"
            data-placeholder="Search or jump to..."
        ></command-palette-mode>
        <command-palette-mode
          data-char=""
            data-scope-types="[&quot;owner&quot;]"
            data-placeholder="Search or jump to..."
        ></command-palette-mode>
      <command-palette-mode
        class="js-command-palette-default-mode"
        data-char=""
        data-placeholder="Search or jump to..."
      ></command-palette-mode>

      <command-palette-input placeholder="Search or jump to..."

        data-action="
          command-palette-input:command-palette#onInput
          command-palette-select:command-palette#onSelect
          command-palette-descope:command-palette#onDescope
          command-palette-cleared:command-palette#onInputClear
        "
      >
        <div class="js-search-icon d-flex flex-items-center mr-2" style="height: 26px">
          <svg aria-hidden="true" height="16" viewBox="0 0 16 16" version="1.1" width="16" data-view-component="true" class="octicon octicon-search color-fg-muted">
    <path d="M10.68 11.74a6 6 0 0 1-7.922-8.982 6 6 0 0 1 8.982 7.922l3.04 3.04a.749.749 0 0 1-.326 1.275.749.749 0 0 1-.734-.215ZM11.5 7a4.499 4.499 0 1 0-8.997 0A4.499 4.499 0 0 0 11.5 7Z"></path>
</svg>
        </div>
        <div class="js-spinner d-flex flex-items-center mr-2 color-fg-muted" hidden>
          <svg aria-label="Loading" class="anim-rotate" viewBox="0 0 16 16" fill="none" width="16" height="16">
            <circle
              cx="8"
              cy="8"
              r="7"
              stroke="currentColor"
              stroke-opacity="0.25"
              stroke-width="2"
              vector-effect="non-scaling-stroke"
            ></circle>
            <path
              d="M15 8a7.002 7.002 0 00-7-7"
              stroke="currentColor"
              stroke-width="2"
              stroke-linecap="round"
              vector-effect="non-scaling-stroke"
            ></path>
          </svg>
        </div>
        <command-palette-scope >
          <div data-target="command-palette-scope.placeholder" hidden class="color-fg-subtle">/&nbsp;&nbsp;<span class="text-semibold color-fg-default">...</span>&nbsp;&nbsp;/&nbsp;&nbsp;</div>
              <command-palette-token
                data-text="netology-ds-team"
                data-id="MDEyOk9yZ2FuaXphdGlvbjgzNzUzMzUz"
                data-type="owner"
                data-value="netology-ds-team"
                data-targets="command-palette-scope.tokens"
                class="color-fg-default text-semibold"
                style="white-space:nowrap;line-height:20px;"
                >netology-ds-team<span class="color-fg-subtle text-normal">&nbsp;&nbsp;/&nbsp;&nbsp;</span></command-palette-token>
              <command-palette-token
                data-text="DLL"
                data-id="R_kgDOI4EBZQ"
                data-type="repository"
                data-value="DLL"
                data-targets="command-palette-scope.tokens"
                class="color-fg-default text-semibold"
                style="white-space:nowrap;line-height:20px;"
                >DLL<span class="color-fg-subtle text-normal">&nbsp;&nbsp;/&nbsp;&nbsp;</span></command-palette-token>
        </command-palette-scope>
        <div class="command-palette-input-group flex-1 form-control border-0 box-shadow-none" style="z-index: 0">
          <div class="command-palette-typeahead position-absolute d-flex flex-items-center Truncate">
            <span class="typeahead-segment input-mirror" data-target="command-palette-input.mirror"></span>
            <span class="Truncate-text" data-target="command-palette-input.typeaheadText"></span>
            <span class="typeahead-segment" data-target="command-palette-input.typeaheadPlaceholder"></span>
          </div>
          <input
            class="js-overlay-input typeahead-input d-none"
            disabled
            tabindex="-1"
            aria-label="Hidden input for typeahead"
          >
          <input
            type="text"
            autocomplete="off"
            autocorrect="off"
            autocapitalize="off"
            spellcheck="false"
            class="js-input typeahead-input form-control border-0 box-shadow-none input-block width-full no-focus-indicator"
            aria-label="Command palette input"
            aria-haspopup="listbox"
            aria-expanded="false"
            aria-autocomplete="list"
            aria-controls="command-palette-page-stack"
            role="combobox"
            data-action="
              input:command-palette-input#onInput
              keydown:command-palette-input#onKeydown
            "
          >
        </div>
          <div data-view-component="true" class="position-relative d-inline-block">
    <button aria-keyshortcuts="Control+Backspace" data-action="click:command-palette-input#onClear keypress:command-palette-input#onClear" data-target="command-palette-input.clearButton" id="command-palette-clear-button" hidden="hidden" type="button" data-view-component="true" class="btn-octicon command-palette-input-clear-button">      <svg aria-hidden="true" height="16" viewBox="0 0 16 16" version="1.1" width="16" data-view-component="true" class="octicon octicon-x-circle-fill">
    <path d="M2.343 13.657A8 8 0 1 1 13.658 2.343 8 8 0 0 1 2.343 13.657ZM6.03 4.97a.751.751 0 0 0-1.042.018.751.751 0 0 0-.018 1.042L6.94 8 4.97 9.97a.749.749 0 0 0 .326 1.275.749.749 0 0 0 .734-.215L8 9.06l1.97 1.97a.749.749 0 0 0 1.275-.326.749.749 0 0 0-.215-.734L9.06 8l1.97-1.97a.749.749 0 0 0-.326-1.275.749.749 0 0 0-.734.215L8 6.94Z"></path>
</svg>
</button>    <tool-tip id="tooltip-b24139d6-1a63-4feb-96ab-569f0cfab679" for="command-palette-clear-button" data-direction="w" data-type="label" data-view-component="true" class="sr-only position-absolute">Clear Command Palette</tool-tip>
</div>
      </command-palette-input>

      <command-palette-page-stack
        data-default-scope-id="R_kgDOI4EBZQ"
        data-default-scope-type="Repository"
        data-action="command-palette-page-octicons-cached:command-palette-page-stack#cacheOcticons"
      >
          <command-palette-tip
            class="color-fg-muted f6 px-3 py-1 my-2"
              data-scope-types="[&quot;&quot;,&quot;owner&quot;,&quot;repository&quot;]"
            data-mode=""
            data-value="">
            <div class="d-flex flex-items-start flex-justify-between">
              <div>
                <span class="text-bold">Tip:</span>
                  Type <kbd class="hx_kbd">#</kbd> to search pull requests
              </div>
              <div class="ml-2 flex-shrink-0">
                Type <kbd class="hx_kbd">?</kbd> for help and tips
              </div>
            </div>
          </command-palette-tip>
          <command-palette-tip
            class="color-fg-muted f6 px-3 py-1 my-2"
              data-scope-types="[&quot;&quot;,&quot;owner&quot;,&quot;repository&quot;]"
            data-mode=""
            data-value="">
            <div class="d-flex flex-items-start flex-justify-between">
              <div>
                <span class="text-bold">Tip:</span>
                  Type <kbd class="hx_kbd">#</kbd> to search issues
              </div>
              <div class="ml-2 flex-shrink-0">
                Type <kbd class="hx_kbd">?</kbd> for help and tips
              </div>
            </div>
          </command-palette-tip>
          <command-palette-tip
            class="color-fg-muted f6 px-3 py-1 my-2"
              data-scope-types="[&quot;owner&quot;,&quot;repository&quot;]"
            data-mode=""
            data-value="">
            <div class="d-flex flex-items-start flex-justify-between">
              <div>
                <span class="text-bold">Tip:</span>
                  Type <kbd class="hx_kbd">#</kbd> to search discussions
              </div>
              <div class="ml-2 flex-shrink-0">
                Type <kbd class="hx_kbd">?</kbd> for help and tips
              </div>
            </div>
          </command-palette-tip>
          <command-palette-tip
            class="color-fg-muted f6 px-3 py-1 my-2"
              data-scope-types="[&quot;owner&quot;,&quot;repository&quot;]"
            data-mode=""
            data-value="">
            <div class="d-flex flex-items-start flex-justify-between">
              <div>
                <span class="text-bold">Tip:</span>
                  Type <kbd class="hx_kbd">!</kbd> to search projects
              </div>
              <div class="ml-2 flex-shrink-0">
                Type <kbd class="hx_kbd">?</kbd> for help and tips
              </div>
            </div>
          </command-palette-tip>
          <command-palette-tip
            class="color-fg-muted f6 px-3 py-1 my-2"
              data-scope-types="[&quot;owner&quot;]"
            data-mode=""
            data-value="">
            <div class="d-flex flex-items-start flex-justify-between">
              <div>
                <span class="text-bold">Tip:</span>
                  Type <kbd class="hx_kbd">@</kbd> to search teams
              </div>
              <div class="ml-2 flex-shrink-0">
                Type <kbd class="hx_kbd">?</kbd> for help and tips
              </div>
            </div>
          </command-palette-tip>
          <command-palette-tip
            class="color-fg-muted f6 px-3 py-1 my-2"
              data-scope-types="[&quot;&quot;]"
            data-mode=""
            data-value="">
            <div class="d-flex flex-items-start flex-justify-between">
              <div>
                <span class="text-bold">Tip:</span>
                  Type <kbd class="hx_kbd">@</kbd> to search people and organizations
              </div>
              <div class="ml-2 flex-shrink-0">
                Type <kbd class="hx_kbd">?</kbd> for help and tips
              </div>
            </div>
          </command-palette-tip>
          <command-palette-tip
            class="color-fg-muted f6 px-3 py-1 my-2"
              data-scope-types="[&quot;&quot;,&quot;owner&quot;,&quot;repository&quot;]"
            data-mode=""
            data-value="">
            <div class="d-flex flex-items-start flex-justify-between">
              <div>
                <span class="text-bold">Tip:</span>
                  Type <kbd class="hx_kbd">&gt;</kbd> to activate command mode
              </div>
              <div class="ml-2 flex-shrink-0">
                Type <kbd class="hx_kbd">?</kbd> for help and tips
              </div>
            </div>
          </command-palette-tip>
          <command-palette-tip
            class="color-fg-muted f6 px-3 py-1 my-2"
              data-scope-types="[&quot;&quot;,&quot;owner&quot;,&quot;repository&quot;]"
            data-mode=""
            data-value="">
            <div class="d-flex flex-items-start flex-justify-between">
              <div>
                <span class="text-bold">Tip:</span>
                  Go to your accessibility settings to change your keyboard shortcuts
              </div>
              <div class="ml-2 flex-shrink-0">
                Type <kbd class="hx_kbd">?</kbd> for help and tips
              </div>
            </div>
          </command-palette-tip>
          <command-palette-tip
            class="color-fg-muted f6 px-3 py-1 my-2"
              data-scope-types="[&quot;&quot;,&quot;owner&quot;,&quot;repository&quot;]"
            data-mode="#"
            data-value="">
            <div class="d-flex flex-items-start flex-justify-between">
              <div>
                <span class="text-bold">Tip:</span>
                  Type author:@me to search your content
              </div>
              <div class="ml-2 flex-shrink-0">
                Type <kbd class="hx_kbd">?</kbd> for help and tips
              </div>
            </div>
          </command-palette-tip>
          <command-palette-tip
            class="color-fg-muted f6 px-3 py-1 my-2"
              data-scope-types="[&quot;&quot;,&quot;owner&quot;,&quot;repository&quot;]"
            data-mode="#"
            data-value="">
            <div class="d-flex flex-items-start flex-justify-between">
              <div>
                <span class="text-bold">Tip:</span>
                  Type is:pr to filter to pull requests
              </div>
              <div class="ml-2 flex-shrink-0">
                Type <kbd class="hx_kbd">?</kbd> for help and tips
              </div>
            </div>
          </command-palette-tip>
          <command-palette-tip
            class="color-fg-muted f6 px-3 py-1 my-2"
              data-scope-types="[&quot;&quot;,&quot;owner&quot;,&quot;repository&quot;]"
            data-mode="#"
            data-value="">
            <div class="d-flex flex-items-start flex-justify-between">
              <div>
                <span class="text-bold">Tip:</span>
                  Type is:issue to filter to issues
              </div>
              <div class="ml-2 flex-shrink-0">
                Type <kbd class="hx_kbd">?</kbd> for help and tips
              </div>
            </div>
          </command-palette-tip>
          <command-palette-tip
            class="color-fg-muted f6 px-3 py-1 my-2"
              data-scope-types="[&quot;owner&quot;,&quot;repository&quot;]"
            data-mode="#"
            data-value="">
            <div class="d-flex flex-items-start flex-justify-between">
              <div>
                <span class="text-bold">Tip:</span>
                  Type is:project to filter to projects
              </div>
              <div class="ml-2 flex-shrink-0">
                Type <kbd class="hx_kbd">?</kbd> for help and tips
              </div>
            </div>
          </command-palette-tip>
          <command-palette-tip
            class="color-fg-muted f6 px-3 py-1 my-2"
              data-scope-types="[&quot;&quot;,&quot;owner&quot;,&quot;repository&quot;]"
            data-mode="#"
            data-value="">
            <div class="d-flex flex-items-start flex-justify-between">
              <div>
                <span class="text-bold">Tip:</span>
                  Type is:open to filter to open content
              </div>
              <div class="ml-2 flex-shrink-0">
                Type <kbd class="hx_kbd">?</kbd> for help and tips
              </div>
            </div>
          </command-palette-tip>
        <command-palette-tip class="mx-3 my-2 flash flash-error d-flex flex-items-center" data-scope-types="*" data-on-error>
          <div>
            <svg aria-hidden="true" height="16" viewBox="0 0 16 16" version="1.1" width="16" data-view-component="true" class="octicon octicon-alert">
    <path d="M6.457 1.047c.659-1.234 2.427-1.234 3.086 0l6.082 11.378A1.75 1.75 0 0 1 14.082 15H1.918a1.75 1.75 0 0 1-1.543-2.575Zm1.763.707a.25.25 0 0 0-.44 0L1.698 13.132a.25.25 0 0 0 .22.368h12.164a.25.25 0 0 0 .22-.368Zm.53 3.996v2.5a.75.75 0 0 1-1.5 0v-2.5a.75.75 0 0 1 1.5 0ZM9 11a1 1 0 1 1-2 0 1 1 0 0 1 2 0Z"></path>
</svg>
          </div>
          <div class="px-2">
            We’ve encountered an error and some results aren't available at this time. Type a new search or try again later.
          </div>
        </command-palette-tip>
        <command-palette-tip class="h4 color-fg-default pl-3 pb-2 pt-3" data-on-empty data-scope-types="*" data-match-mode="[^?]|^$">
          No results matched your search
        </command-palette-tip>

        <div hidden>

            <div data-targets="command-palette-page-stack.localOcticons" data-octicon-id="arrow-right-color-fg-muted">
              <svg height="16" class="octicon octicon-arrow-right color-fg-muted" viewBox="0 0 16 16" version="1.1" width="16" aria-hidden="true"><path d="M8.22 2.97a.75.75 0 0 1 1.06 0l4.25 4.25a.75.75 0 0 1 0 1.06l-4.25 4.25a.751.751 0 0 1-1.042-.018.751.751 0 0 1-.018-1.042l2.97-2.97H3.75a.75.75 0 0 1 0-1.5h7.44L8.22 4.03a.75.75 0 0 1 0-1.06Z"></path></svg>
            </div>
            <div data-targets="command-palette-page-stack.localOcticons" data-octicon-id="arrow-right-color-fg-default">
              <svg height="16" class="octicon octicon-arrow-right color-fg-default" viewBox="0 0 16 16" version="1.1" width="16" aria-hidden="true"><path d="M8.22 2.97a.75.75 0 0 1 1.06 0l4.25 4.25a.75.75 0 0 1 0 1.06l-4.25 4.25a.751.751 0 0 1-1.042-.018.751.751 0 0 1-.018-1.042l2.97-2.97H3.75a.75.75 0 0 1 0-1.5h7.44L8.22 4.03a.75.75 0 0 1 0-1.06Z"></path></svg>
            </div>
            <div data-targets="command-palette-page-stack.localOcticons" data-octicon-id="codespaces-color-fg-muted">
              <svg height="16" class="octicon octicon-codespaces color-fg-muted" viewBox="0 0 16 16" version="1.1" width="16" aria-hidden="true"><path d="M0 11.25c0-.966.784-1.75 1.75-1.75h12.5c.966 0 1.75.784 1.75 1.75v3A1.75 1.75 0 0 1 14.25 16H1.75A1.75 1.75 0 0 1 0 14.25Zm2-9.5C2 .784 2.784 0 3.75 0h8.5C13.216 0 14 .784 14 1.75v5a1.75 1.75 0 0 1-1.75 1.75h-8.5A1.75 1.75 0 0 1 2 6.75Zm1.75-.25a.25.25 0 0 0-.25.25v5c0 .138.112.25.25.25h8.5a.25.25 0 0 0 .25-.25v-5a.25.25 0 0 0-.25-.25Zm-2 9.5a.25.25 0 0 0-.25.25v3c0 .138.112.25.25.25h12.5a.25.25 0 0 0 .25-.25v-3a.25.25 0 0 0-.25-.25Z"></path><path d="M7 12.75a.75.75 0 0 1 .75-.75h4.5a.75.75 0 0 1 0 1.5h-4.5a.75.75 0 0 1-.75-.75Zm-4 0a.75.75 0 0 1 .75-.75h.5a.75.75 0 0 1 0 1.5h-.5a.75.75 0 0 1-.75-.75Z"></path></svg>
            </div>
            <div data-targets="command-palette-page-stack.localOcticons" data-octicon-id="copy-color-fg-muted">
              <svg height="16" class="octicon octicon-copy color-fg-muted" viewBox="0 0 16 16" version="1.1" width="16" aria-hidden="true"><path d="M0 6.75C0 5.784.784 5 1.75 5h1.5a.75.75 0 0 1 0 1.5h-1.5a.25.25 0 0 0-.25.25v7.5c0 .138.112.25.25.25h7.5a.25.25 0 0 0 .25-.25v-1.5a.75.75 0 0 1 1.5 0v1.5A1.75 1.75 0 0 1 9.25 16h-7.5A1.75 1.75 0 0 1 0 14.25Z"></path><path d="M5 1.75C5 .784 5.784 0 6.75 0h7.5C15.216 0 16 .784 16 1.75v7.5A1.75 1.75 0 0 1 14.25 11h-7.5A1.75 1.75 0 0 1 5 9.25Zm1.75-.25a.25.25 0 0 0-.25.25v7.5c0 .138.112.25.25.25h7.5a.25.25 0 0 0 .25-.25v-7.5a.25.25 0 0 0-.25-.25Z"></path></svg>
            </div>
            <div data-targets="command-palette-page-stack.localOcticons" data-octicon-id="dash-color-fg-muted">
              <svg height="16" class="octicon octicon-dash color-fg-muted" viewBox="0 0 16 16" version="1.1" width="16" aria-hidden="true"><path d="M2 7.75A.75.75 0 0 1 2.75 7h10a.75.75 0 0 1 0 1.5h-10A.75.75 0 0 1 2 7.75Z"></path></svg>
            </div>
            <div data-targets="command-palette-page-stack.localOcticons" data-octicon-id="file-color-fg-muted">
              <svg height="16" class="octicon octicon-file color-fg-muted" viewBox="0 0 16 16" version="1.1" width="16" aria-hidden="true"><path d="M2 1.75C2 .784 2.784 0 3.75 0h6.586c.464 0 .909.184 1.237.513l2.914 2.914c.329.328.513.773.513 1.237v9.586A1.75 1.75 0 0 1 13.25 16h-9.5A1.75 1.75 0 0 1 2 14.25Zm1.75-.25a.25.25 0 0 0-.25.25v12.5c0 .138.112.25.25.25h9.5a.25.25 0 0 0 .25-.25V6h-2.75A1.75 1.75 0 0 1 9 4.25V1.5Zm6.75.062V4.25c0 .138.112.25.25.25h2.688l-.011-.013-2.914-2.914-.013-.011Z"></path></svg>
            </div>
            <div data-targets="command-palette-page-stack.localOcticons" data-octicon-id="gear-color-fg-muted">
              <svg height="16" class="octicon octicon-gear color-fg-muted" viewBox="0 0 16 16" version="1.1" width="16" aria-hidden="true"><path d="M8 0a8.2 8.2 0 0 1 .701.031C9.444.095 9.99.645 10.16 1.29l.288 1.107c.018.066.079.158.212.224.231.114.454.243.668.386.123.082.233.09.299.071l1.103-.303c.644-.176 1.392.021 1.82.63.27.385.506.792.704 1.218.315.675.111 1.422-.364 1.891l-.814.806c-.049.048-.098.147-.088.294.016.257.016.515 0 .772-.01.147.038.246.088.294l.814.806c.475.469.679 1.216.364 1.891a7.977 7.977 0 0 1-.704 1.217c-.428.61-1.176.807-1.82.63l-1.102-.302c-.067-.019-.177-.011-.3.071a5.909 5.909 0 0 1-.668.386c-.133.066-.194.158-.211.224l-.29 1.106c-.168.646-.715 1.196-1.458 1.26a8.006 8.006 0 0 1-1.402 0c-.743-.064-1.289-.614-1.458-1.26l-.289-1.106c-.018-.066-.079-.158-.212-.224a5.738 5.738 0 0 1-.668-.386c-.123-.082-.233-.09-.299-.071l-1.103.303c-.644.176-1.392-.021-1.82-.63a8.12 8.12 0 0 1-.704-1.218c-.315-.675-.111-1.422.363-1.891l.815-.806c.05-.048.098-.147.088-.294a6.214 6.214 0 0 1 0-.772c.01-.147-.038-.246-.088-.294l-.815-.806C.635 6.045.431 5.298.746 4.623a7.92 7.92 0 0 1 .704-1.217c.428-.61 1.176-.807 1.82-.63l1.102.302c.067.019.177.011.3-.071.214-.143.437-.272.668-.386.133-.066.194-.158.211-.224l.29-1.106C6.009.645 6.556.095 7.299.03 7.53.01 7.764 0 8 0Zm-.571 1.525c-.036.003-.108.036-.137.146l-.289 1.105c-.147.561-.549.967-.998 1.189-.173.086-.34.183-.5.29-.417.278-.97.423-1.529.27l-1.103-.303c-.109-.03-.175.016-.195.045-.22.312-.412.644-.573.99-.014.031-.021.11.059.19l.815.806c.411.406.562.957.53 1.456a4.709 4.709 0 0 0 0 .582c.032.499-.119 1.05-.53 1.456l-.815.806c-.081.08-.073.159-.059.19.162.346.353.677.573.989.02.03.085.076.195.046l1.102-.303c.56-.153 1.113-.008 1.53.27.161.107.328.204.501.29.447.222.85.629.997 1.189l.289 1.105c.029.109.101.143.137.146a6.6 6.6 0 0 0 1.142 0c.036-.003.108-.036.137-.146l.289-1.105c.147-.561.549-.967.998-1.189.173-.086.34-.183.5-.29.417-.278.97-.423 1.529-.27l1.103.303c.109.029.175-.016.195-.045.22-.313.411-.644.573-.99.014-.031.021-.11-.059-.19l-.815-.806c-.411-.406-.562-.957-.53-1.456a4.709 4.709 0 0 0 0-.582c-.032-.499.119-1.05.53-1.456l.815-.806c.081-.08.073-.159.059-.19a6.464 6.464 0 0 0-.573-.989c-.02-.03-.085-.076-.195-.046l-1.102.303c-.56.153-1.113.008-1.53-.27a4.44 4.44 0 0 0-.501-.29c-.447-.222-.85-.629-.997-1.189l-.289-1.105c-.029-.11-.101-.143-.137-.146a6.6 6.6 0 0 0-1.142 0ZM11 8a3 3 0 1 1-6 0 3 3 0 0 1 6 0ZM9.5 8a1.5 1.5 0 1 0-3.001.001A1.5 1.5 0 0 0 9.5 8Z"></path></svg>
            </div>
            <div data-targets="command-palette-page-stack.localOcticons" data-octicon-id="lock-color-fg-muted">
              <svg height="16" class="octicon octicon-lock color-fg-muted" viewBox="0 0 16 16" version="1.1" width="16" aria-hidden="true"><path d="M4 4a4 4 0 0 1 8 0v2h.25c.966 0 1.75.784 1.75 1.75v5.5A1.75 1.75 0 0 1 12.25 15h-8.5A1.75 1.75 0 0 1 2 13.25v-5.5C2 6.784 2.784 6 3.75 6H4Zm8.25 3.5h-8.5a.25.25 0 0 0-.25.25v5.5c0 .138.112.25.25.25h8.5a.25.25 0 0 0 .25-.25v-5.5a.25.25 0 0 0-.25-.25ZM10.5 6V4a2.5 2.5 0 1 0-5 0v2Z"></path></svg>
            </div>
            <div data-targets="command-palette-page-stack.localOcticons" data-octicon-id="moon-color-fg-muted">
              <svg height="16" class="octicon octicon-moon color-fg-muted" viewBox="0 0 16 16" version="1.1" width="16" aria-hidden="true"><path d="M9.598 1.591a.749.749 0 0 1 .785-.175 7.001 7.001 0 1 1-8.967 8.967.75.75 0 0 1 .961-.96 5.5 5.5 0 0 0 7.046-7.046.75.75 0 0 1 .175-.786Zm1.616 1.945a7 7 0 0 1-7.678 7.678 5.499 5.499 0 1 0 7.678-7.678Z"></path></svg>
            </div>
            <div data-targets="command-palette-page-stack.localOcticons" data-octicon-id="person-color-fg-muted">
              <svg height="16" class="octicon octicon-person color-fg-muted" viewBox="0 0 16 16" version="1.1" width="16" aria-hidden="true"><path d="M10.561 8.073a6.005 6.005 0 0 1 3.432 5.142.75.75 0 1 1-1.498.07 4.5 4.5 0 0 0-8.99 0 .75.75 0 0 1-1.498-.07 6.004 6.004 0 0 1 3.431-5.142 3.999 3.999 0 1 1 5.123 0ZM10.5 5a2.5 2.5 0 1 0-5 0 2.5 2.5 0 0 0 5 0Z"></path></svg>
            </div>
            <div data-targets="command-palette-page-stack.localOcticons" data-octicon-id="pencil-color-fg-muted">
              <svg height="16" class="octicon octicon-pencil color-fg-muted" viewBox="0 0 16 16" version="1.1" width="16" aria-hidden="true"><path d="M11.013 1.427a1.75 1.75 0 0 1 2.474 0l1.086 1.086a1.75 1.75 0 0 1 0 2.474l-8.61 8.61c-.21.21-.47.364-.756.445l-3.251.93a.75.75 0 0 1-.927-.928l.929-3.25c.081-.286.235-.547.445-.758l8.61-8.61Zm.176 4.823L9.75 4.81l-6.286 6.287a.253.253 0 0 0-.064.108l-.558 1.953 1.953-.558a.253.253 0 0 0 .108-.064Zm1.238-3.763a.25.25 0 0 0-.354 0L10.811 3.75l1.439 1.44 1.263-1.263a.25.25 0 0 0 0-.354Z"></path></svg>
            </div>
            <div data-targets="command-palette-page-stack.localOcticons" data-octicon-id="issue-opened-open">
              <svg height="16" class="octicon octicon-issue-opened open" viewBox="0 0 16 16" version="1.1" width="16" aria-hidden="true"><path d="M8 9.5a1.5 1.5 0 1 0 0-3 1.5 1.5 0 0 0 0 3Z"></path><path d="M8 0a8 8 0 1 1 0 16A8 8 0 0 1 8 0ZM1.5 8a6.5 6.5 0 1 0 13 0 6.5 6.5 0 0 0-13 0Z"></path></svg>
            </div>
            <div data-targets="command-palette-page-stack.localOcticons" data-octicon-id="git-pull-request-draft-color-fg-muted">
              <svg height="16" class="octicon octicon-git-pull-request-draft color-fg-muted" viewBox="0 0 16 16" version="1.1" width="16" aria-hidden="true"><path d="M3.25 1A2.25 2.25 0 0 1 4 5.372v5.256a2.251 2.251 0 1 1-1.5 0V5.372A2.251 2.251 0 0 1 3.25 1Zm9.5 14a2.25 2.25 0 1 1 0-4.5 2.25 2.25 0 0 1 0 4.5ZM2.5 3.25a.75.75 0 1 0 1.5 0 .75.75 0 0 0-1.5 0ZM3.25 12a.75.75 0 1 0 0 1.5.75.75 0 0 0 0-1.5Zm9.5 0a.75.75 0 1 0 0 1.5.75.75 0 0 0 0-1.5ZM14 7.5a1.25 1.25 0 1 1-2.5 0 1.25 1.25 0 0 1 2.5 0Zm0-4.25a1.25 1.25 0 1 1-2.5 0 1.25 1.25 0 0 1 2.5 0Z"></path></svg>
            </div>
            <div data-targets="command-palette-page-stack.localOcticons" data-octicon-id="search-color-fg-muted">
              <svg height="16" class="octicon octicon-search color-fg-muted" viewBox="0 0 16 16" version="1.1" width="16" aria-hidden="true"><path d="M10.68 11.74a6 6 0 0 1-7.922-8.982 6 6 0 0 1 8.982 7.922l3.04 3.04a.749.749 0 0 1-.326 1.275.749.749 0 0 1-.734-.215ZM11.5 7a4.499 4.499 0 1 0-8.997 0A4.499 4.499 0 0 0 11.5 7Z"></path></svg>
            </div>
            <div data-targets="command-palette-page-stack.localOcticons" data-octicon-id="sun-color-fg-muted">
              <svg height="16" class="octicon octicon-sun color-fg-muted" viewBox="0 0 16 16" version="1.1" width="16" aria-hidden="true"><path d="M8 12a4 4 0 1 1 0-8 4 4 0 0 1 0 8Zm0-1.5a2.5 2.5 0 1 0 0-5 2.5 2.5 0 0 0 0 5Zm5.657-8.157a.75.75 0 0 1 0 1.061l-1.061 1.06a.749.749 0 0 1-1.275-.326.749.749 0 0 1 .215-.734l1.06-1.06a.75.75 0 0 1 1.06 0Zm-9.193 9.193a.75.75 0 0 1 0 1.06l-1.06 1.061a.75.75 0 1 1-1.061-1.06l1.06-1.061a.75.75 0 0 1 1.061 0ZM8 0a.75.75 0 0 1 .75.75v1.5a.75.75 0 0 1-1.5 0V.75A.75.75 0 0 1 8 0ZM3 8a.75.75 0 0 1-.75.75H.75a.75.75 0 0 1 0-1.5h1.5A.75.75 0 0 1 3 8Zm13 0a.75.75 0 0 1-.75.75h-1.5a.75.75 0 0 1 0-1.5h1.5A.75.75 0 0 1 16 8Zm-8 5a.75.75 0 0 1 .75.75v1.5a.75.75 0 0 1-1.5 0v-1.5A.75.75 0 0 1 8 13Zm3.536-1.464a.75.75 0 0 1 1.06 0l1.061 1.06a.75.75 0 0 1-1.06 1.061l-1.061-1.06a.75.75 0 0 1 0-1.061ZM2.343 2.343a.75.75 0 0 1 1.061 0l1.06 1.061a.751.751 0 0 1-.018 1.042.751.751 0 0 1-1.042.018l-1.06-1.06a.75.75 0 0 1 0-1.06Z"></path></svg>
            </div>
            <div data-targets="command-palette-page-stack.localOcticons" data-octicon-id="sync-color-fg-muted">
              <svg height="16" class="octicon octicon-sync color-fg-muted" viewBox="0 0 16 16" version="1.1" width="16" aria-hidden="true"><path d="M1.705 8.005a.75.75 0 0 1 .834.656 5.5 5.5 0 0 0 9.592 2.97l-1.204-1.204a.25.25 0 0 1 .177-.427h3.646a.25.25 0 0 1 .25.25v3.646a.25.25 0 0 1-.427.177l-1.38-1.38A7.002 7.002 0 0 1 1.05 8.84a.75.75 0 0 1 .656-.834ZM8 2.5a5.487 5.487 0 0 0-4.131 1.869l1.204 1.204A.25.25 0 0 1 4.896 6H1.25A.25.25 0 0 1 1 5.75V2.104a.25.25 0 0 1 .427-.177l1.38 1.38A7.002 7.002 0 0 1 14.95 7.16a.75.75 0 0 1-1.49.178A5.5 5.5 0 0 0 8 2.5Z"></path></svg>
            </div>
            <div data-targets="command-palette-page-stack.localOcticons" data-octicon-id="trash-color-fg-muted">
              <svg height="16" class="octicon octicon-trash color-fg-muted" viewBox="0 0 16 16" version="1.1" width="16" aria-hidden="true"><path d="M11 1.75V3h2.25a.75.75 0 0 1 0 1.5H2.75a.75.75 0 0 1 0-1.5H5V1.75C5 .784 5.784 0 6.75 0h2.5C10.216 0 11 .784 11 1.75ZM4.496 6.675l.66 6.6a.25.25 0 0 0 .249.225h5.19a.25.25 0 0 0 .249-.225l.66-6.6a.75.75 0 0 1 1.492.149l-.66 6.6A1.748 1.748 0 0 1 10.595 15h-5.19a1.75 1.75 0 0 1-1.741-1.575l-.66-6.6a.75.75 0 1 1 1.492-.15ZM6.5 1.75V3h3V1.75a.25.25 0 0 0-.25-.25h-2.5a.25.25 0 0 0-.25.25Z"></path></svg>
            </div>
            <div data-targets="command-palette-page-stack.localOcticons" data-octicon-id="key-color-fg-muted">
              <svg height="16" class="octicon octicon-key color-fg-muted" viewBox="0 0 16 16" version="1.1" width="16" aria-hidden="true"><path d="M10.5 0a5.499 5.499 0 1 1-1.288 10.848l-.932.932a.749.749 0 0 1-.53.22H7v.75a.749.749 0 0 1-.22.53l-.5.5a.749.749 0 0 1-.53.22H5v.75a.749.749 0 0 1-.22.53l-.5.5a.749.749 0 0 1-.53.22h-2A1.75 1.75 0 0 1 0 14.25v-2c0-.199.079-.389.22-.53l4.932-4.932A5.5 5.5 0 0 1 10.5 0Zm-4 5.5c-.001.431.069.86.205 1.269a.75.75 0 0 1-.181.768L1.5 12.56v1.69c0 .138.112.25.25.25h1.69l.06-.06v-1.19a.75.75 0 0 1 .75-.75h1.19l.06-.06v-1.19a.75.75 0 0 1 .75-.75h1.19l1.023-1.025a.75.75 0 0 1 .768-.18A4 4 0 1 0 6.5 5.5ZM11 6a1 1 0 1 1 0-2 1 1 0 0 1 0 2Z"></path></svg>
            </div>
            <div data-targets="command-palette-page-stack.localOcticons" data-octicon-id="comment-discussion-color-fg-muted">
              <svg height="16" class="octicon octicon-comment-discussion color-fg-muted" viewBox="0 0 16 16" version="1.1" width="16" aria-hidden="true"><path d="M1.75 1h8.5c.966 0 1.75.784 1.75 1.75v5.5A1.75 1.75 0 0 1 10.25 10H7.061l-2.574 2.573A1.458 1.458 0 0 1 2 11.543V10h-.25A1.75 1.75 0 0 1 0 8.25v-5.5C0 1.784.784 1 1.75 1ZM1.5 2.75v5.5c0 .138.112.25.25.25h1a.75.75 0 0 1 .75.75v2.19l2.72-2.72a.749.749 0 0 1 .53-.22h3.5a.25.25 0 0 0 .25-.25v-5.5a.25.25 0 0 0-.25-.25h-8.5a.25.25 0 0 0-.25.25Zm13 2a.25.25 0 0 0-.25-.25h-.5a.75.75 0 0 1 0-1.5h.5c.966 0 1.75.784 1.75 1.75v5.5A1.75 1.75 0 0 1 14.25 12H14v1.543a1.458 1.458 0 0 1-2.487 1.03L9.22 12.28a.749.749 0 0 1 .326-1.275.749.749 0 0 1 .734.215l2.22 2.22v-2.19a.75.75 0 0 1 .75-.75h1a.25.25 0 0 0 .25-.25Z"></path></svg>
            </div>
            <div data-targets="command-palette-page-stack.localOcticons" data-octicon-id="bell-color-fg-muted">
              <svg height="16" class="octicon octicon-bell color-fg-muted" viewBox="0 0 16 16" version="1.1" width="16" aria-hidden="true"><path d="M8 16a2 2 0 0 0 1.985-1.75c.017-.137-.097-.25-.235-.25h-3.5c-.138 0-.252.113-.235.25A2 2 0 0 0 8 16ZM3 5a5 5 0 0 1 10 0v2.947c0 .05.015.098.042.139l1.703 2.555A1.519 1.519 0 0 1 13.482 13H2.518a1.516 1.516 0 0 1-1.263-2.36l1.703-2.554A.255.255 0 0 0 3 7.947Zm5-3.5A3.5 3.5 0 0 0 4.5 5v2.947c0 .346-.102.683-.294.97l-1.703 2.556a.017.017 0 0 0-.003.01l.001.006c0 .002.002.004.004.006l.006.004.007.001h10.964l.007-.001.006-.004.004-.006.001-.007a.017.017 0 0 0-.003-.01l-1.703-2.554a1.745 1.745 0 0 1-.294-.97V5A3.5 3.5 0 0 0 8 1.5Z"></path></svg>
            </div>
            <div data-targets="command-palette-page-stack.localOcticons" data-octicon-id="bell-slash-color-fg-muted">
              <svg height="16" class="octicon octicon-bell-slash color-fg-muted" viewBox="0 0 16 16" version="1.1" width="16" aria-hidden="true"><path d="m4.182 4.31.016.011 10.104 7.316.013.01 1.375.996a.75.75 0 1 1-.88 1.214L13.626 13H2.518a1.516 1.516 0 0 1-1.263-2.36l1.703-2.554A.255.255 0 0 0 3 7.947V5.305L.31 3.357a.75.75 0 1 1 .88-1.214Zm7.373 7.19L4.5 6.391v1.556c0 .346-.102.683-.294.97l-1.703 2.556a.017.017 0 0 0-.003.01c0 .005.002.009.005.012l.006.004.007.001ZM8 1.5c-.997 0-1.895.416-2.534 1.086A.75.75 0 1 1 4.38 1.55 5 5 0 0 1 13 5v2.373a.75.75 0 0 1-1.5 0V5A3.5 3.5 0 0 0 8 1.5ZM8 16a2 2 0 0 1-1.985-1.75c-.017-.137.097-.25.235-.25h3.5c.138 0 .252.113.235.25A2 2 0 0 1 8 16Z"></path></svg>
            </div>
            <div data-targets="command-palette-page-stack.localOcticons" data-octicon-id="paintbrush-color-fg-muted">
              <svg height="16" class="octicon octicon-paintbrush color-fg-muted" viewBox="0 0 16 16" version="1.1" width="16" aria-hidden="true"><path d="M11.134 1.535c.7-.509 1.416-.942 2.076-1.155.649-.21 1.463-.267 2.069.34.603.601.568 1.411.368 2.07-.202.668-.624 1.39-1.125 2.096-1.011 1.424-2.496 2.987-3.775 4.249-1.098 1.084-2.132 1.839-3.04 2.3a3.744 3.744 0 0 1-1.055 3.217c-.431.431-1.065.691-1.657.861-.614.177-1.294.287-1.914.357A21.151 21.151 0 0 1 .797 16H.743l.007-.75H.749L.742 16a.75.75 0 0 1-.743-.742l.743-.008-.742.007v-.054a21.25 21.25 0 0 1 .13-2.284c.067-.647.187-1.287.358-1.914.17-.591.43-1.226.86-1.657a3.746 3.746 0 0 1 3.227-1.054c.466-.893 1.225-1.907 2.314-2.982 1.271-1.255 2.833-2.75 4.245-3.777ZM1.62 13.089c-.051.464-.086.929-.104 1.395.466-.018.932-.053 1.396-.104a10.511 10.511 0 0 0 1.668-.309c.526-.151.856-.325 1.011-.48a2.25 2.25 0 1 0-3.182-3.182c-.155.155-.329.485-.48 1.01a10.515 10.515 0 0 0-.309 1.67Zm10.396-10.34c-1.224.89-2.605 2.189-3.822 3.384l1.718 1.718c1.21-1.205 2.51-2.597 3.387-3.833.47-.662.78-1.227.912-1.662.134-.444.032-.551.009-.575h-.001V1.78c-.014-.014-.113-.113-.548.027-.432.14-.995.462-1.655.942Zm-4.832 7.266-.001.001a9.859 9.859 0 0 0 1.63-1.142L7.155 7.216a9.7 9.7 0 0 0-1.161 1.607c.482.302.889.71 1.19 1.192Z"></path></svg>
            </div>

            <command-palette-item-group
              data-group-id="top"
              data-group-title="Top result"
              data-group-hint=""
              data-group-limits="{}"
              data-default-priority="0"
            >
            </command-palette-item-group>
            <command-palette-item-group
              data-group-id="commands"
              data-group-title="Commands"
              data-group-hint="Type &gt; to filter"
              data-group-limits="{&quot;static_items_page&quot;:50,&quot;issue&quot;:50,&quot;pull_request&quot;:50,&quot;discussion&quot;:50}"
              data-default-priority="1"
            >
            </command-palette-item-group>
            <command-palette-item-group
              data-group-id="global_commands"
              data-group-title="Global Commands"
              data-group-hint="Type &gt; to filter"
              data-group-limits="{&quot;issue&quot;:0,&quot;pull_request&quot;:0,&quot;discussion&quot;:0}"
              data-default-priority="2"
            >
            </command-palette-item-group>
            <command-palette-item-group
              data-group-id="this_page"
              data-group-title="This Page"
              data-group-hint=""
              data-group-limits="{}"
              data-default-priority="3"
            >
            </command-palette-item-group>
            <command-palette-item-group
              data-group-id="files"
              data-group-title="Files"
              data-group-hint=""
              data-group-limits="{}"
              data-default-priority="4"
            >
            </command-palette-item-group>
            <command-palette-item-group
              data-group-id="default"
              data-group-title="Default"
              data-group-hint=""
              data-group-limits="{&quot;static_items_page&quot;:50}"
              data-default-priority="5"
            >
            </command-palette-item-group>
            <command-palette-item-group
              data-group-id="pages"
              data-group-title="Pages"
              data-group-hint=""
              data-group-limits="{&quot;repository&quot;:10}"
              data-default-priority="6"
            >
            </command-palette-item-group>
            <command-palette-item-group
              data-group-id="access_policies"
              data-group-title="Access Policies"
              data-group-hint=""
              data-group-limits="{}"
              data-default-priority="7"
            >
            </command-palette-item-group>
            <command-palette-item-group
              data-group-id="organizations"
              data-group-title="Organizations"
              data-group-hint=""
              data-group-limits="{}"
              data-default-priority="8"
            >
            </command-palette-item-group>
            <command-palette-item-group
              data-group-id="repositories"
              data-group-title="Repositories"
              data-group-hint=""
              data-group-limits="{}"
              data-default-priority="9"
            >
            </command-palette-item-group>
            <command-palette-item-group
              data-group-id="references"
              data-group-title="Issues, pull requests, and discussions"
              data-group-hint="Type # to filter"
              data-group-limits="{}"
              data-default-priority="10"
            >
            </command-palette-item-group>
            <command-palette-item-group
              data-group-id="teams"
              data-group-title="Teams"
              data-group-hint=""
              data-group-limits="{}"
              data-default-priority="11"
            >
            </command-palette-item-group>
            <command-palette-item-group
              data-group-id="users"
              data-group-title="Users"
              data-group-hint=""
              data-group-limits="{}"
              data-default-priority="12"
            >
            </command-palette-item-group>
            <command-palette-item-group
              data-group-id="memex_projects"
              data-group-title="Projects"
              data-group-hint=""
              data-group-limits="{}"
              data-default-priority="13"
            >
            </command-palette-item-group>
            <command-palette-item-group
              data-group-id="projects"
              data-group-title="Projects (classic)"
              data-group-hint=""
              data-group-limits="{}"
              data-default-priority="14"
            >
            </command-palette-item-group>
            <command-palette-item-group
              data-group-id="footer"
              data-group-title="Footer"
              data-group-hint=""
              data-group-limits="{}"
              data-default-priority="15"
            >
            </command-palette-item-group>
            <command-palette-item-group
              data-group-id="modes_help"
              data-group-title="Modes"
              data-group-hint=""
              data-group-limits="{}"
              data-default-priority="16"
            >
            </command-palette-item-group>
            <command-palette-item-group
              data-group-id="filters_help"
              data-group-title="Use filters in issues, pull requests, discussions, and projects"
              data-group-hint=""
              data-group-limits="{}"
              data-default-priority="17"
            >
            </command-palette-item-group>

            <command-palette-page
              data-page-title="netology-ds-team"
              data-scope-id="MDEyOk9yZ2FuaXphdGlvbjgzNzUzMzUz"
              data-scope-type="owner"
              data-targets="command-palette-page-stack.defaultPages"
              hidden
            >
            </command-palette-page>
            <command-palette-page
              data-page-title="DLL"
              data-scope-id="R_kgDOI4EBZQ"
              data-scope-type="repository"
              data-targets="command-palette-page-stack.defaultPages"
              hidden
            >
            </command-palette-page>
        </div>

        <command-palette-page data-is-root>
        </command-palette-page>
          <command-palette-page
            data-page-title="netology-ds-team"
            data-scope-id="MDEyOk9yZ2FuaXphdGlvbjgzNzUzMzUz"
            data-scope-type="owner"
          >
          </command-palette-page>
          <command-palette-page
            data-page-title="DLL"
            data-scope-id="R_kgDOI4EBZQ"
            data-scope-type="repository"
          >
          </command-palette-page>
      </command-palette-page-stack>

      <server-defined-provider data-type="search-links" data-targets="command-palette.serverDefinedProviderElements"></server-defined-provider>
      <server-defined-provider data-type="help" data-targets="command-palette.serverDefinedProviderElements">
          <command-palette-help
            data-group="modes_help"
              data-prefix="#"
              data-scope-types="[&quot;&quot;]"
          >
            <span data-target="command-palette-help.titleElement">Search for <strong>issues</strong> and <strong>pull requests</strong></span>
              <span data-target="command-palette-help.hintElement">
                <kbd class="hx_kbd">#</kbd>
              </span>
          </command-palette-help>
          <command-palette-help
            data-group="modes_help"
              data-prefix="#"
              data-scope-types="[&quot;owner&quot;,&quot;repository&quot;]"
          >
            <span data-target="command-palette-help.titleElement">Search for <strong>issues, pull requests, discussions,</strong> and <strong>projects</strong></span>
              <span data-target="command-palette-help.hintElement">
                <kbd class="hx_kbd">#</kbd>
              </span>
          </command-palette-help>
          <command-palette-help
            data-group="modes_help"
              data-prefix="@"
              data-scope-types="[&quot;&quot;]"
          >
            <span data-target="command-palette-help.titleElement">Search for <strong>organizations, repositories,</strong> and <strong>users</strong></span>
              <span data-target="command-palette-help.hintElement">
                <kbd class="hx_kbd">@</kbd>
              </span>
          </command-palette-help>
          <command-palette-help
            data-group="modes_help"
              data-prefix="!"
              data-scope-types="[&quot;owner&quot;,&quot;repository&quot;]"
          >
            <span data-target="command-palette-help.titleElement">Search for <strong>projects</strong></span>
              <span data-target="command-palette-help.hintElement">
                <kbd class="hx_kbd">!</kbd>
              </span>
          </command-palette-help>
          <command-palette-help
            data-group="modes_help"
              data-prefix="/"
              data-scope-types="[&quot;repository&quot;]"
          >
            <span data-target="command-palette-help.titleElement">Search for <strong>files</strong></span>
              <span data-target="command-palette-help.hintElement">
                <kbd class="hx_kbd">/</kbd>
              </span>
          </command-palette-help>
          <command-palette-help
            data-group="modes_help"
              data-prefix="&gt;"
          >
            <span data-target="command-palette-help.titleElement">Activate <strong>command mode</strong></span>
              <span data-target="command-palette-help.hintElement">
                <kbd class="hx_kbd">&gt;</kbd>
              </span>
          </command-palette-help>
          <command-palette-help
            data-group="filters_help"
              data-prefix="# author:@me"
          >
            <span data-target="command-palette-help.titleElement">Search your issues, pull requests, and discussions</span>
              <span data-target="command-palette-help.hintElement">
                <kbd class="hx_kbd"># author:@me</kbd>
              </span>
          </command-palette-help>
          <command-palette-help
            data-group="filters_help"
              data-prefix="# author:@me"
          >
            <span data-target="command-palette-help.titleElement">Search your issues, pull requests, and discussions</span>
              <span data-target="command-palette-help.hintElement">
                <kbd class="hx_kbd"># author:@me</kbd>
              </span>
          </command-palette-help>
          <command-palette-help
            data-group="filters_help"
              data-prefix="# is:pr"
          >
            <span data-target="command-palette-help.titleElement">Filter to pull requests</span>
              <span data-target="command-palette-help.hintElement">
                <kbd class="hx_kbd"># is:pr</kbd>
              </span>
          </command-palette-help>
          <command-palette-help
            data-group="filters_help"
              data-prefix="# is:issue"
          >
            <span data-target="command-palette-help.titleElement">Filter to issues</span>
              <span data-target="command-palette-help.hintElement">
                <kbd class="hx_kbd"># is:issue</kbd>
              </span>
          </command-palette-help>
          <command-palette-help
            data-group="filters_help"
              data-prefix="# is:discussion"
              data-scope-types="[&quot;owner&quot;,&quot;repository&quot;]"
          >
            <span data-target="command-palette-help.titleElement">Filter to discussions</span>
              <span data-target="command-palette-help.hintElement">
                <kbd class="hx_kbd"># is:discussion</kbd>
              </span>
          </command-palette-help>
          <command-palette-help
            data-group="filters_help"
              data-prefix="# is:project"
              data-scope-types="[&quot;owner&quot;,&quot;repository&quot;]"
          >
            <span data-target="command-palette-help.titleElement">Filter to projects</span>
              <span data-target="command-palette-help.hintElement">
                <kbd class="hx_kbd"># is:project</kbd>
              </span>
          </command-palette-help>
          <command-palette-help
            data-group="filters_help"
              data-prefix="# is:open"
          >
            <span data-target="command-palette-help.titleElement">Filter to open issues, pull requests, and discussions</span>
              <span data-target="command-palette-help.hintElement">
                <kbd class="hx_kbd"># is:open</kbd>
              </span>
          </command-palette-help>
      </server-defined-provider>

        <server-defined-provider
          data-type="commands"
          data-fetch-debounce="0"
            data-src="/command_palette/commands"
          data-supported-modes="[]"
            data-supports-commands
          
          data-targets="command-palette.serverDefinedProviderElements"
          ></server-defined-provider>
        <server-defined-provider
          data-type="prefetched"
          data-fetch-debounce="0"
            data-src="/command_palette/jump_to_page_navigation"
          data-supported-modes="[&quot;&quot;]"
            data-supported-scope-types="[&quot;&quot;,&quot;owner&quot;,&quot;repository&quot;]"
          
          data-targets="command-palette.serverDefinedProviderElements"
          ></server-defined-provider>
        <server-defined-provider
          data-type="remote"
          data-fetch-debounce="200"
            data-src="/command_palette/issues"
          data-supported-modes="[&quot;#&quot;,&quot;#&quot;]"
            data-supported-scope-types="[&quot;owner&quot;,&quot;repository&quot;,&quot;&quot;]"
          
          data-targets="command-palette.serverDefinedProviderElements"
          ></server-defined-provider>
        <server-defined-provider
          data-type="remote"
          data-fetch-debounce="200"
            data-src="/command_palette/jump_to"
          data-supported-modes="[&quot;@&quot;,&quot;@&quot;]"
            data-supported-scope-types="[&quot;&quot;,&quot;owner&quot;]"
          
          data-targets="command-palette.serverDefinedProviderElements"
          ></server-defined-provider>
        <server-defined-provider
          data-type="remote"
          data-fetch-debounce="200"
            data-src="/command_palette/jump_to_members_only"
          data-supported-modes="[&quot;@&quot;,&quot;@&quot;,&quot;&quot;,&quot;&quot;]"
            data-supported-scope-types="[&quot;&quot;,&quot;owner&quot;]"
          
          data-targets="command-palette.serverDefinedProviderElements"
          ></server-defined-provider>
        <server-defined-provider
          data-type="prefetched"
          data-fetch-debounce="0"
            data-src="/command_palette/jump_to_members_only_prefetched"
          data-supported-modes="[&quot;@&quot;,&quot;@&quot;,&quot;&quot;,&quot;&quot;]"
            data-supported-scope-types="[&quot;&quot;,&quot;owner&quot;]"
          
          data-targets="command-palette.serverDefinedProviderElements"
          ></server-defined-provider>
        <server-defined-provider
          data-type="files"
          data-fetch-debounce="0"
            data-src="/command_palette/files"
          data-supported-modes="[&quot;/&quot;]"
            data-supported-scope-types="[&quot;repository&quot;]"
          
          data-targets="command-palette.serverDefinedProviderElements"
          ></server-defined-provider>
        <server-defined-provider
          data-type="remote"
          data-fetch-debounce="200"
            data-src="/command_palette/discussions"
          data-supported-modes="[&quot;#&quot;]"
            data-supported-scope-types="[&quot;owner&quot;,&quot;repository&quot;]"
          
          data-targets="command-palette.serverDefinedProviderElements"
          ></server-defined-provider>
        <server-defined-provider
          data-type="remote"
          data-fetch-debounce="200"
            data-src="/command_palette/projects"
          data-supported-modes="[&quot;#&quot;,&quot;!&quot;]"
            data-supported-scope-types="[&quot;owner&quot;,&quot;repository&quot;]"
          
          data-targets="command-palette.serverDefinedProviderElements"
          ></server-defined-provider>
        <server-defined-provider
          data-type="prefetched"
          data-fetch-debounce="0"
            data-src="/command_palette/recent_issues"
          data-supported-modes="[&quot;#&quot;,&quot;#&quot;]"
            data-supported-scope-types="[&quot;owner&quot;,&quot;repository&quot;,&quot;&quot;]"
          
          data-targets="command-palette.serverDefinedProviderElements"
          ></server-defined-provider>
        <server-defined-provider
          data-type="remote"
          data-fetch-debounce="200"
            data-src="/command_palette/teams"
          data-supported-modes="[&quot;@&quot;,&quot;&quot;]"
            data-supported-scope-types="[&quot;owner&quot;]"
          
          data-targets="command-palette.serverDefinedProviderElements"
          ></server-defined-provider>
        <server-defined-provider
          data-type="remote"
          data-fetch-debounce="200"
            data-src="/command_palette/name_with_owner_repository"
          data-supported-modes="[&quot;@&quot;,&quot;@&quot;,&quot;&quot;,&quot;&quot;]"
            data-supported-scope-types="[&quot;&quot;,&quot;owner&quot;]"
          
          data-targets="command-palette.serverDefinedProviderElements"
          ></server-defined-provider>
    </command-palette>
  </details-dialog>
</details>

<div class="position-fixed bottom-0 left-0 ml-5 mb-5 js-command-palette-toasts" style="z-index: 1000">
  <div hidden class="Toast Toast--loading">
    <span class="Toast-icon">
      <svg class="Toast--spinner" viewBox="0 0 32 32" width="18" height="18" aria-hidden="true">
        <path
          fill="#959da5"
          d="M16 0 A16 16 0 0 0 16 32 A16 16 0 0 0 16 0 M16 4 A12 12 0 0 1 16 28 A12 12 0 0 1 16 4"
        />
        <path fill="#ffffff" d="M16 0 A16 16 0 0 1 32 16 L28 16 A12 12 0 0 0 16 4z"></path>
      </svg>
    </span>
    <span class="Toast-content"></span>
  </div>

  <div hidden class="anim-fade-in fast Toast Toast--error">
    <span class="Toast-icon">
      <svg aria-hidden="true" height="16" viewBox="0 0 16 16" version="1.1" width="16" data-view-component="true" class="octicon octicon-stop">
    <path d="M4.47.22A.749.749 0 0 1 5 0h6c.199 0 .389.079.53.22l4.25 4.25c.141.14.22.331.22.53v6a.749.749 0 0 1-.22.53l-4.25 4.25A.749.749 0 0 1 11 16H5a.749.749 0 0 1-.53-.22L.22 11.53A.749.749 0 0 1 0 11V5c0-.199.079-.389.22-.53Zm.84 1.28L1.5 5.31v5.38l3.81 3.81h5.38l3.81-3.81V5.31L10.69 1.5ZM8 4a.75.75 0 0 1 .75.75v3.5a.75.75 0 0 1-1.5 0v-3.5A.75.75 0 0 1 8 4Zm0 8a1 1 0 1 1 0-2 1 1 0 0 1 0 2Z"></path>
</svg>
    </span>
    <span class="Toast-content"></span>
  </div>

  <div hidden class="anim-fade-in fast Toast Toast--warning">
    <span class="Toast-icon">
      <svg aria-hidden="true" height="16" viewBox="0 0 16 16" version="1.1" width="16" data-view-component="true" class="octicon octicon-alert">
    <path d="M6.457 1.047c.659-1.234 2.427-1.234 3.086 0l6.082 11.378A1.75 1.75 0 0 1 14.082 15H1.918a1.75 1.75 0 0 1-1.543-2.575Zm1.763.707a.25.25 0 0 0-.44 0L1.698 13.132a.25.25 0 0 0 .22.368h12.164a.25.25 0 0 0 .22-.368Zm.53 3.996v2.5a.75.75 0 0 1-1.5 0v-2.5a.75.75 0 0 1 1.5 0ZM9 11a1 1 0 1 1-2 0 1 1 0 0 1 2 0Z"></path>
</svg>
    </span>
    <span class="Toast-content"></span>
  </div>


  <div hidden class="anim-fade-in fast Toast Toast--success">
    <span class="Toast-icon">
      <svg aria-hidden="true" height="16" viewBox="0 0 16 16" version="1.1" width="16" data-view-component="true" class="octicon octicon-check">
    <path d="M13.78 4.22a.75.75 0 0 1 0 1.06l-7.25 7.25a.75.75 0 0 1-1.06 0L2.22 9.28a.751.751 0 0 1 .018-1.042.751.751 0 0 1 1.042-.018L6 10.94l6.72-6.72a.75.75 0 0 1 1.06 0Z"></path>
</svg>
    </span>
    <span class="Toast-content"></span>
  </div>

  <div hidden class="anim-fade-in fast Toast">
    <span class="Toast-icon">
      <svg aria-hidden="true" height="16" viewBox="0 0 16 16" version="1.1" width="16" data-view-component="true" class="octicon octicon-info">
    <path d="M0 8a8 8 0 1 1 16 0A8 8 0 0 1 0 8Zm8-6.5a6.5 6.5 0 1 0 0 13 6.5 6.5 0 0 0 0-13ZM6.5 7.75A.75.75 0 0 1 7.25 7h1a.75.75 0 0 1 .75.75v2.75h.25a.75.75 0 0 1 0 1.5h-2a.75.75 0 0 1 0-1.5h.25v-2h-.25a.75.75 0 0 1-.75-.75ZM8 6a1 1 0 1 1 0-2 1 1 0 0 1 0 2Z"></path>
</svg>
    </span>
    <span class="Toast-content"></span>
  </div>
</div>


  <div
    class="application-main "
    data-commit-hovercards-enabled
    data-discussion-hovercards-enabled
    data-issue-and-pr-hovercards-enabled
  >
        <div itemscope itemtype="http://schema.org/SoftwareSourceCode" class="">
    <main id="js-repo-pjax-container" >
      
      
    

    






  
  <div id="repository-container-header"  class="pt-3 hide-full-screen" style="background-color: var(--color-page-header-bg);" data-turbo-replace>

      <div class="d-flex flex-wrap flex-justify-end mb-3  px-3 px-md-4 px-lg-5" style="gap: 1rem;">

        <div class="flex-auto min-width-0 width-fit mr-3">
            
  <div class=" d-flex flex-wrap flex-items-center wb-break-word f3 text-normal">
      <svg aria-hidden="true" height="16" viewBox="0 0 16 16" version="1.1" width="16" data-view-component="true" class="octicon octicon-repo color-fg-muted mr-2">
    <path d="M2 2.5A2.5 2.5 0 0 1 4.5 0h8.75a.75.75 0 0 1 .75.75v12.5a.75.75 0 0 1-.75.75h-2.5a.75.75 0 0 1 0-1.5h1.75v-2h-8a1 1 0 0 0-.714 1.7.75.75 0 1 1-1.072 1.05A2.495 2.495 0 0 1 2 11.5Zm10.5-1h-8a1 1 0 0 0-1 1v6.708A2.486 2.486 0 0 1 4.5 9h8ZM5 12.25a.25.25 0 0 1 .25-.25h3.5a.25.25 0 0 1 .25.25v3.25a.25.25 0 0 1-.4.2l-1.45-1.087a.249.249 0 0 0-.3 0L5.4 15.7a.25.25 0 0 1-.4-.2Z"></path>
</svg>
    
    <span class="author flex-self-stretch" itemprop="author">
      <a class="url fn" rel="author" data-hovercard-type="organization" data-hovercard-url="/orgs/netology-ds-team/hovercard" data-octo-click="hovercard-link-click" data-octo-dimensions="link_type:self" href="/netology-ds-team">
        netology-ds-team
</a>    </span>
    <span class="mx-1 flex-self-stretch color-fg-muted">/</span>
    <strong itemprop="name" class="mr-2 flex-self-stretch">
      <a data-pjax="#repo-content-pjax-container" data-turbo-frame="repo-content-turbo-frame" href="/netology-ds-team/DLL">DLL</a>
    </strong>

    <span></span><span class="Label Label--secondary v-align-middle mr-1">Public</span>
  </div>


        </div>

        <div id="repository-details-container" data-turbo-replace>
            <ul class="pagehead-actions flex-shrink-0 d-none d-md-inline" style="padding: 2px 0;">
    
      

  <li>
        <include-fragment loading="lazy" src="/notifications/595657061/watch_subscription?aria_id_prefix=repository-details&amp;button_block=false&amp;show_count=true">
    <div data-hide-on-error>
        
            <button disabled="disabled" aria-label="Watching a repository" type="button" data-view-component="true" class="tooltipped tooltipped-n Button--secondary Button--small Button">    <span class="Button-content">
        <span class="Button-visual Button-leadingVisual">
          <svg aria-hidden="true" height="16" viewBox="0 0 16 16" version="1.1" width="16" data-view-component="true" class="octicon octicon-eye">
    <path d="M8 2c1.981 0 3.671.992 4.933 2.078 1.27 1.091 2.187 2.345 2.637 3.023a1.62 1.62 0 0 1 0 1.798c-.45.678-1.367 1.932-2.637 3.023C11.67 13.008 9.981 14 8 14c-1.981 0-3.671-.992-4.933-2.078C1.797 10.83.88 9.576.43 8.898a1.62 1.62 0 0 1 0-1.798c.45-.677 1.367-1.931 2.637-3.022C4.33 2.992 6.019 2 8 2ZM1.679 7.932a.12.12 0 0 0 0 .136c.411.622 1.241 1.75 2.366 2.717C5.176 11.758 6.527 12.5 8 12.5c1.473 0 2.825-.742 3.955-1.715 1.124-.967 1.954-2.096 2.366-2.717a.12.12 0 0 0 0-.136c-.412-.621-1.242-1.75-2.366-2.717C10.824 4.242 9.473 3.5 8 3.5c-1.473 0-2.825.742-3.955 1.715-1.124.967-1.954 2.096-2.366 2.717ZM8 10a2 2 0 1 1-.001-3.999A2 2 0 0 1 8 10Z"></path>
</svg>
        </span>
      <span class="Button-label">Watch</span>
    </span>
</button>  

    </div>
    <p data-show-on-error hidden>
        
          <span class="d-flex pt-1">
            <svg aria-hidden="true" height="16" viewBox="0 0 16 16" version="1.1" width="16" data-view-component="true" class="octicon octicon-alert mr-1">
    <path d="M6.457 1.047c.659-1.234 2.427-1.234 3.086 0l6.082 11.378A1.75 1.75 0 0 1 14.082 15H1.918a1.75 1.75 0 0 1-1.543-2.575Zm1.763.707a.25.25 0 0 0-.44 0L1.698 13.132a.25.25 0 0 0 .22.368h12.164a.25.25 0 0 0 .22-.368Zm.53 3.996v2.5a.75.75 0 0 1-1.5 0v-2.5a.75.75 0 0 1 1.5 0ZM9 11a1 1 0 1 1-2 0 1 1 0 0 1 2 0Z"></path>
</svg>
            Couldn't load subscription status.&nbsp;
              <button data-retry-button="" type="button" data-view-component="true" class="Button--link Button--medium Button">    <span class="Button-content">
      <span class="Button-label">Retry</span>
    </span>
</button>  

          </span>

    </p>
  </include-fragment>
  </li>

  <li>
        <div data-view-component="true" class="d-flex">
        <div data-view-component="true" class="position-relative d-inline-block">
    <a icon="repo-forked" id="fork-button" href="/netology-ds-team/DLL/fork" data-hydro-click="{&quot;event_type&quot;:&quot;repository.click&quot;,&quot;payload&quot;:{&quot;target&quot;:&quot;FORK_BUTTON&quot;,&quot;repository_id&quot;:595657061,&quot;originating_url&quot;:&quot;https://github.com/netology-ds-team/DLL/blob/main/DLL-materials/%D0%97%D0%B0%D0%BD%D1%8F%D1%82%D0%B8%D0%B5%201.2.%20%D0%90%D0%B2%D1%82%D0%BE%D0%B4%D0%B8%D1%84%D1%84%D0%B5%D1%80%D0%B5%D0%BD%D1%86%D0%B8%D1%80%D0%BE%D0%B2%D0%B0%D0%BD%D0%B8%D0%B5%20%D0%B8%20%D0%BB%D0%B8%D0%BD%D0%B5%D0%B9%D0%BD%D0%B0%D1%8F%20%D1%80%D0%B5%D0%B3%D1%80%D0%B5%D1%81%D1%81%D0%B8%D1%8F.ipynb&quot;,&quot;user_id&quot;:77914048}}" data-hydro-click-hmac="2bccea17af272e255d04d798ebf3c41279fff192e70d3974f03d7c90f0dd74e3" data-ga-click="Repository, show fork modal, action:blob#show; text:Fork" data-view-component="true" class="btn-sm btn BtnGroup-item border-right-0">      <svg aria-hidden="true" height="16" viewBox="0 0 16 16" version="1.1" width="16" data-view-component="true" class="octicon octicon-repo-forked mr-2">
    <path d="M5 5.372v.878c0 .414.336.75.75.75h4.5a.75.75 0 0 0 .75-.75v-.878a2.25 2.25 0 1 1 1.5 0v.878a2.25 2.25 0 0 1-2.25 2.25h-1.5v2.128a2.251 2.251 0 1 1-1.5 0V8.5h-1.5A2.25 2.25 0 0 1 3.5 6.25v-.878a2.25 2.25 0 1 1 1.5 0ZM5 3.25a.75.75 0 1 0-1.5 0 .75.75 0 0 0 1.5 0Zm6.75.75a.75.75 0 1 0 0-1.5.75.75 0 0 0 0 1.5Zm-3 8.75a.75.75 0 1 0-1.5 0 .75.75 0 0 0 1.5 0Z"></path>
</svg>Fork
          <span id="repo-network-counter" data-pjax-replace="true" data-turbo-replace="true" title="3" data-view-component="true" class="Counter">3</span>
</a>    <tool-tip id="tooltip-d553dba6-9a5e-4c1d-bda9-4132999ccd11" for="fork-button" data-direction="s" data-type="description" data-view-component="true" class="sr-only position-absolute">Fork your own copy of netology-ds-team/DLL</tool-tip>
</div>
      <details group_item="true" id="my-forks-menu-595657061" data-view-component="true" class="details-reset details-overlay BtnGroup-parent d-inline-block position-relative">
              <summary aria-label="See your forks of this repository" data-view-component="true" class="btn-sm btn BtnGroup-item px-2 float-none">    <svg aria-hidden="true" height="16" viewBox="0 0 16 16" version="1.1" width="16" data-view-component="true" class="octicon octicon-triangle-down">
    <path d="m4.427 7.427 3.396 3.396a.25.25 0 0 0 .354 0l3.396-3.396A.25.25 0 0 0 11.396 7H4.604a.25.25 0 0 0-.177.427Z"></path>
</svg>
</summary>
  <details-menu
    class="SelectMenu right-0"
      src="/netology-ds-team/DLL/my_forks_menu_content?can_fork=true"
      
      role="menu"
      
>
    <div class="SelectMenu-modal">
        <button class="SelectMenu-closeButton position-absolute right-0 m-2" type="button" aria-label="Close menu" data-toggle-for="details-564d61">
          <svg aria-hidden="true" height="16" viewBox="0 0 16 16" version="1.1" width="16" data-view-component="true" class="octicon octicon-x">
    <path d="M3.72 3.72a.75.75 0 0 1 1.06 0L8 6.94l3.22-3.22a.749.749 0 0 1 1.275.326.749.749 0 0 1-.215.734L9.06 8l3.22 3.22a.749.749 0 0 1-.326 1.275.749.749 0 0 1-.734-.215L8 9.06l-3.22 3.22a.751.751 0 0 1-1.042-.018.751.751 0 0 1-.018-1.042L6.94 8 3.72 4.78a.75.75 0 0 1 0-1.06Z"></path>
</svg>
        </button>
      <div
        id="filter-menu-564d61"
        class="d-flex flex-column flex-1 overflow-hidden"
>
        <div
          class="SelectMenu-list"
          >

            <include-fragment class="SelectMenu-loading" aria-label="Loading">
              <svg role="menuitem" style="box-sizing: content-box; color: var(--color-icon-primary);" width="32" height="32" viewBox="0 0 16 16" fill="none" data-view-component="true" class="anim-rotate">
  <circle cx="8" cy="8" r="7" stroke="currentColor" stroke-opacity="0.25" stroke-width="2" vector-effect="non-scaling-stroke" />
  <path d="M15 8a7.002 7.002 0 00-7-7" stroke="currentColor" stroke-width="2" stroke-linecap="round" vector-effect="non-scaling-stroke" />
</svg>
            </include-fragment>
        </div>
        
      </div>
    </div>
  </details-menu>
</details></div>
  </li>

  <li>
        <template class="js-unstar-confirmation-dialog-template">
  <div class="Box-header">
    <h2 class="Box-title">Unstar this repository?</h2>
  </div>
  <div class="Box-body">
    <p class="mb-3">
      This will remove {{ repoNameWithOwner }} from the {{ listsWithCount }} that it's been added to.
    </p>
    <div class="form-actions">
      <!-- '"` --><!-- </textarea></xmp> --></option></form><form class="js-social-confirmation-form" data-turbo="false" action="{{ confirmUrl }}" accept-charset="UTF-8" method="post">
        <input type="hidden" name="authenticity_token" value="{{ confirmCsrfToken }}">
        <input type="hidden" name="confirm" value="true">
          <button data-close-dialog="true" type="submit" data-view-component="true" class="btn-danger btn width-full">    Unstar
</button>
</form>    </div>
  </div>
</template>

  <div data-view-component="true" class="js-toggler-container js-social-container starring-container d-flex">
    <div data-view-component="true" class="starred BtnGroup flex-1">
      <!-- '"` --><!-- </textarea></xmp> --></option></form><form class="js-social-form BtnGroup-parent flex-auto js-deferred-toggler-target" data-turbo="false" action="/netology-ds-team/DLL/unstar" accept-charset="UTF-8" method="post"><input type="hidden" name="authenticity_token" value="41LncNNulqNukCmydmL-cBobUQ283kHFodweQyGGGAFeBjvgeU1rUWGc7k8fIDOhWjtwVH5y3_8_cgEwVfnfpg" autocomplete="off" />
          <input type="hidden" value="OQCvG_m9m0F55D1nbhSSyz0ZokWpE-zYjre4zzKNlpyEVHOLU55ms3bo-poHVl8afTmDHGu_cuIQGae8RvJROw" data-csrf="true" class="js-confirm-csrf-token" />
        <input type="hidden" name="context" value="repository">
          <button data-hydro-click="{&quot;event_type&quot;:&quot;repository.click&quot;,&quot;payload&quot;:{&quot;target&quot;:&quot;UNSTAR_BUTTON&quot;,&quot;repository_id&quot;:595657061,&quot;originating_url&quot;:&quot;https://github.com/netology-ds-team/DLL/blob/main/DLL-materials/%D0%97%D0%B0%D0%BD%D1%8F%D1%82%D0%B8%D0%B5%201.2.%20%D0%90%D0%B2%D1%82%D0%BE%D0%B4%D0%B8%D1%84%D1%84%D0%B5%D1%80%D0%B5%D0%BD%D1%86%D0%B8%D1%80%D0%BE%D0%B2%D0%B0%D0%BD%D0%B8%D0%B5%20%D0%B8%20%D0%BB%D0%B8%D0%BD%D0%B5%D0%B9%D0%BD%D0%B0%D1%8F%20%D1%80%D0%B5%D0%B3%D1%80%D0%B5%D1%81%D1%81%D0%B8%D1%8F.ipynb&quot;,&quot;user_id&quot;:77914048}}" data-hydro-click-hmac="8447e0ed63035c71e5b5432a371d362d93aafc04d3b7cba87897d0d6945f6e89" data-ga-click="Repository, click unstar button, action:blob#show; text:Unstar" aria-label="Unstar this repository (0)" type="submit" data-view-component="true" class="rounded-left-2 btn-sm btn BtnGroup-item">    <svg aria-hidden="true" height="16" viewBox="0 0 16 16" version="1.1" width="16" data-view-component="true" class="octicon octicon-star-fill starred-button-icon d-inline-block mr-2">
    <path d="M8 .25a.75.75 0 0 1 .673.418l1.882 3.815 4.21.612a.75.75 0 0 1 .416 1.279l-3.046 2.97.719 4.192a.751.751 0 0 1-1.088.791L8 12.347l-3.766 1.98a.75.75 0 0 1-1.088-.79l.72-4.194L.818 6.374a.75.75 0 0 1 .416-1.28l4.21-.611L7.327.668A.75.75 0 0 1 8 .25Z"></path>
</svg><span data-view-component="true" class="d-inline">
              Starred
</span>              <span id="repo-stars-counter-unstar" aria-label="0 users starred this repository" data-singular-suffix="user starred this repository" data-plural-suffix="users starred this repository" data-turbo-replace="true" title="0" data-view-component="true" class="Counter js-social-count">0</span>
</button></form>        <details id="details-user-list-595657061-starred" data-view-component="true" class="details-reset details-overlay BtnGroup-parent js-user-list-menu d-inline-block position-relative">
        <summary aria-label="Add this repository to a list" data-view-component="true" class="btn-sm btn BtnGroup-item px-2 float-none">    <svg aria-hidden="true" height="16" viewBox="0 0 16 16" version="1.1" width="16" data-view-component="true" class="octicon octicon-triangle-down">
    <path d="m4.427 7.427 3.396 3.396a.25.25 0 0 0 .354 0l3.396-3.396A.25.25 0 0 0 11.396 7H4.604a.25.25 0 0 0-.177.427Z"></path>
</svg>
</summary>
  <details-menu
    class="SelectMenu right-0"
      src="/netology-ds-team/DLL/lists"
      
      role="menu"
      
>
    <div class="SelectMenu-modal">
        <button class="SelectMenu-closeButton position-absolute right-0 m-2" type="button" aria-label="Close menu" data-toggle-for="details-47df10">
          <svg aria-hidden="true" height="16" viewBox="0 0 16 16" version="1.1" width="16" data-view-component="true" class="octicon octicon-x">
    <path d="M3.72 3.72a.75.75 0 0 1 1.06 0L8 6.94l3.22-3.22a.749.749 0 0 1 1.275.326.749.749 0 0 1-.215.734L9.06 8l3.22 3.22a.749.749 0 0 1-.326 1.275.749.749 0 0 1-.734-.215L8 9.06l-3.22 3.22a.751.751 0 0 1-1.042-.018.751.751 0 0 1-.018-1.042L6.94 8 3.72 4.78a.75.75 0 0 1 0-1.06Z"></path>
</svg>
        </button>
      <div
        id="filter-menu-47df10"
        class="d-flex flex-column flex-1 overflow-hidden"
>
        <div
          class="SelectMenu-list"
          >

            <include-fragment class="SelectMenu-loading" aria-label="Loading">
              <svg role="menuitem" style="box-sizing: content-box; color: var(--color-icon-primary);" width="32" height="32" viewBox="0 0 16 16" fill="none" data-view-component="true" class="anim-rotate">
  <circle cx="8" cy="8" r="7" stroke="currentColor" stroke-opacity="0.25" stroke-width="2" vector-effect="non-scaling-stroke" />
  <path d="M15 8a7.002 7.002 0 00-7-7" stroke="currentColor" stroke-width="2" stroke-linecap="round" vector-effect="non-scaling-stroke" />
</svg>
            </include-fragment>
        </div>
        
      </div>
    </div>
  </details-menu>
</details>
</div>
    <div data-view-component="true" class="unstarred BtnGroup flex-1">
      <!-- '"` --><!-- </textarea></xmp> --></option></form><form class="js-social-form BtnGroup-parent flex-auto" data-turbo="false" action="/netology-ds-team/DLL/star" accept-charset="UTF-8" method="post"><input type="hidden" name="authenticity_token" value="dIpMKrCdd4nY-7VBXVP93D2JKinH-zGezf2_SWjc3zb0KV1KBvwwzY1vURJFpGzbYoV91wCLjPeh9b7tpsZnSw" autocomplete="off" />
        <input type="hidden" name="context" value="repository">
          <button data-hydro-click="{&quot;event_type&quot;:&quot;repository.click&quot;,&quot;payload&quot;:{&quot;target&quot;:&quot;STAR_BUTTON&quot;,&quot;repository_id&quot;:595657061,&quot;originating_url&quot;:&quot;https://github.com/netology-ds-team/DLL/blob/main/DLL-materials/%D0%97%D0%B0%D0%BD%D1%8F%D1%82%D0%B8%D0%B5%201.2.%20%D0%90%D0%B2%D1%82%D0%BE%D0%B4%D0%B8%D1%84%D1%84%D0%B5%D1%80%D0%B5%D0%BD%D1%86%D0%B8%D1%80%D0%BE%D0%B2%D0%B0%D0%BD%D0%B8%D0%B5%20%D0%B8%20%D0%BB%D0%B8%D0%BD%D0%B5%D0%B9%D0%BD%D0%B0%D1%8F%20%D1%80%D0%B5%D0%B3%D1%80%D0%B5%D1%81%D1%81%D0%B8%D1%8F.ipynb&quot;,&quot;user_id&quot;:77914048}}" data-hydro-click-hmac="f6a5c89de890a46d1195c184f3519c1d8320eb4396afc15a057e3b59fc908487" data-ga-click="Repository, click star button, action:blob#show; text:Star" aria-label="Star this repository (0)" type="submit" data-view-component="true" class="js-toggler-target rounded-left-2 btn-sm btn BtnGroup-item">    <svg aria-hidden="true" height="16" viewBox="0 0 16 16" version="1.1" width="16" data-view-component="true" class="octicon octicon-star d-inline-block mr-2">
    <path d="M8 .25a.75.75 0 0 1 .673.418l1.882 3.815 4.21.612a.75.75 0 0 1 .416 1.279l-3.046 2.97.719 4.192a.751.751 0 0 1-1.088.791L8 12.347l-3.766 1.98a.75.75 0 0 1-1.088-.79l.72-4.194L.818 6.374a.75.75 0 0 1 .416-1.28l4.21-.611L7.327.668A.75.75 0 0 1 8 .25Zm0 2.445L6.615 5.5a.75.75 0 0 1-.564.41l-3.097.45 2.24 2.184a.75.75 0 0 1 .216.664l-.528 3.084 2.769-1.456a.75.75 0 0 1 .698 0l2.77 1.456-.53-3.084a.75.75 0 0 1 .216-.664l2.24-2.183-3.096-.45a.75.75 0 0 1-.564-.41L8 2.694Z"></path>
</svg><span data-view-component="true" class="d-inline">
              Star
</span>              <span id="repo-stars-counter-star" aria-label="0 users starred this repository" data-singular-suffix="user starred this repository" data-plural-suffix="users starred this repository" data-turbo-replace="true" title="0" data-view-component="true" class="Counter js-social-count">0</span>
</button></form>        <details id="details-user-list-595657061-unstarred" data-view-component="true" class="details-reset details-overlay BtnGroup-parent js-user-list-menu d-inline-block position-relative">
        <summary aria-label="Add this repository to a list" data-view-component="true" class="btn-sm btn BtnGroup-item px-2 float-none">    <svg aria-hidden="true" height="16" viewBox="0 0 16 16" version="1.1" width="16" data-view-component="true" class="octicon octicon-triangle-down">
    <path d="m4.427 7.427 3.396 3.396a.25.25 0 0 0 .354 0l3.396-3.396A.25.25 0 0 0 11.396 7H4.604a.25.25 0 0 0-.177.427Z"></path>
</svg>
</summary>
  <details-menu
    class="SelectMenu right-0"
      src="/netology-ds-team/DLL/lists"
      
      role="menu"
      
>
    <div class="SelectMenu-modal">
        <button class="SelectMenu-closeButton position-absolute right-0 m-2" type="button" aria-label="Close menu" data-toggle-for="details-bbf6d7">
          <svg aria-hidden="true" height="16" viewBox="0 0 16 16" version="1.1" width="16" data-view-component="true" class="octicon octicon-x">
    <path d="M3.72 3.72a.75.75 0 0 1 1.06 0L8 6.94l3.22-3.22a.749.749 0 0 1 1.275.326.749.749 0 0 1-.215.734L9.06 8l3.22 3.22a.749.749 0 0 1-.326 1.275.749.749 0 0 1-.734-.215L8 9.06l-3.22 3.22a.751.751 0 0 1-1.042-.018.751.751 0 0 1-.018-1.042L6.94 8 3.72 4.78a.75.75 0 0 1 0-1.06Z"></path>
</svg>
        </button>
      <div
        id="filter-menu-bbf6d7"
        class="d-flex flex-column flex-1 overflow-hidden"
>
        <div
          class="SelectMenu-list"
          >

            <include-fragment class="SelectMenu-loading" aria-label="Loading">
              <svg role="menuitem" style="box-sizing: content-box; color: var(--color-icon-primary);" width="32" height="32" viewBox="0 0 16 16" fill="none" data-view-component="true" class="anim-rotate">
  <circle cx="8" cy="8" r="7" stroke="currentColor" stroke-opacity="0.25" stroke-width="2" vector-effect="non-scaling-stroke" />
  <path d="M15 8a7.002 7.002 0 00-7-7" stroke="currentColor" stroke-width="2" stroke-linecap="round" vector-effect="non-scaling-stroke" />
</svg>
            </include-fragment>
        </div>
        
      </div>
    </div>
  </details-menu>
</details>
</div></div>
  </li>


    

</ul>

        </div>
      </div>

        <div id="responsive-meta-container" data-turbo-replace>
</div>


          <nav data-pjax="#js-repo-pjax-container" aria-label="Repository" data-view-component="true" class="js-repo-nav js-sidenav-container-pjax js-responsive-underlinenav overflow-hidden UnderlineNav px-3 px-md-4 px-lg-5">

  <ul data-view-component="true" class="UnderlineNav-body list-style-none">
      <li data-view-component="true" class="d-inline-flex">
  <a id="code-tab" href="/netology-ds-team/DLL" data-tab-item="i0code-tab" data-selected-links="repo_source repo_downloads repo_commits repo_releases repo_tags repo_branches repo_packages repo_deployments /netology-ds-team/DLL" data-pjax="#repo-content-pjax-container" data-turbo-frame="repo-content-turbo-frame" data-hotkey="g c" data-analytics-event="{&quot;category&quot;:&quot;Underline navbar&quot;,&quot;action&quot;:&quot;Click tab&quot;,&quot;label&quot;:&quot;Code&quot;,&quot;target&quot;:&quot;UNDERLINE_NAV.TAB&quot;}" aria-current="page" data-view-component="true" class="UnderlineNav-item no-wrap js-responsive-underlinenav-item js-selected-navigation-item selected">
    
              <svg aria-hidden="true" height="16" viewBox="0 0 16 16" version="1.1" width="16" data-view-component="true" class="octicon octicon-code UnderlineNav-octicon d-none d-sm-inline">
    <path d="m11.28 3.22 4.25 4.25a.75.75 0 0 1 0 1.06l-4.25 4.25a.749.749 0 0 1-1.275-.326.749.749 0 0 1 .215-.734L13.94 8l-3.72-3.72a.749.749 0 0 1 .326-1.275.749.749 0 0 1 .734.215Zm-6.56 0a.751.751 0 0 1 1.042.018.751.751 0 0 1 .018 1.042L2.06 8l3.72 3.72a.749.749 0 0 1-.326 1.275.749.749 0 0 1-.734-.215L.47 8.53a.75.75 0 0 1 0-1.06Z"></path>
</svg>
        <span data-content="Code">Code</span>
          <span id="code-repo-tab-count" data-pjax-replace="" data-turbo-replace="" title="Not available" data-view-component="true" class="Counter"></span>


    
</a></li>
      <li data-view-component="true" class="d-inline-flex">
  <a id="issues-tab" href="/netology-ds-team/DLL/issues" data-tab-item="i1issues-tab" data-selected-links="repo_issues repo_labels repo_milestones /netology-ds-team/DLL/issues" data-pjax="#repo-content-pjax-container" data-turbo-frame="repo-content-turbo-frame" data-hotkey="g i" data-analytics-event="{&quot;category&quot;:&quot;Underline navbar&quot;,&quot;action&quot;:&quot;Click tab&quot;,&quot;label&quot;:&quot;Issues&quot;,&quot;target&quot;:&quot;UNDERLINE_NAV.TAB&quot;}" data-view-component="true" class="UnderlineNav-item no-wrap js-responsive-underlinenav-item js-selected-navigation-item">
    
              <svg aria-hidden="true" height="16" viewBox="0 0 16 16" version="1.1" width="16" data-view-component="true" class="octicon octicon-issue-opened UnderlineNav-octicon d-none d-sm-inline">
    <path d="M8 9.5a1.5 1.5 0 1 0 0-3 1.5 1.5 0 0 0 0 3Z"></path><path d="M8 0a8 8 0 1 1 0 16A8 8 0 0 1 8 0ZM1.5 8a6.5 6.5 0 1 0 13 0 6.5 6.5 0 0 0-13 0Z"></path>
</svg>
        <span data-content="Issues">Issues</span>
          <span id="issues-repo-tab-count" data-pjax-replace="" data-turbo-replace="" title="0" hidden="hidden" data-view-component="true" class="Counter">0</span>


    
</a></li>
      <li data-view-component="true" class="d-inline-flex">
  <a id="pull-requests-tab" href="/netology-ds-team/DLL/pulls" data-tab-item="i2pull-requests-tab" data-selected-links="repo_pulls checks /netology-ds-team/DLL/pulls" data-pjax="#repo-content-pjax-container" data-turbo-frame="repo-content-turbo-frame" data-hotkey="g p" data-analytics-event="{&quot;category&quot;:&quot;Underline navbar&quot;,&quot;action&quot;:&quot;Click tab&quot;,&quot;label&quot;:&quot;Pull requests&quot;,&quot;target&quot;:&quot;UNDERLINE_NAV.TAB&quot;}" data-view-component="true" class="UnderlineNav-item no-wrap js-responsive-underlinenav-item js-selected-navigation-item">
    
              <svg aria-hidden="true" height="16" viewBox="0 0 16 16" version="1.1" width="16" data-view-component="true" class="octicon octicon-git-pull-request UnderlineNav-octicon d-none d-sm-inline">
    <path d="M1.5 3.25a2.25 2.25 0 1 1 3 2.122v5.256a2.251 2.251 0 1 1-1.5 0V5.372A2.25 2.25 0 0 1 1.5 3.25Zm5.677-.177L9.573.677A.25.25 0 0 1 10 .854V2.5h1A2.5 2.5 0 0 1 13.5 5v5.628a2.251 2.251 0 1 1-1.5 0V5a1 1 0 0 0-1-1h-1v1.646a.25.25 0 0 1-.427.177L7.177 3.427a.25.25 0 0 1 0-.354ZM3.75 2.5a.75.75 0 1 0 0 1.5.75.75 0 0 0 0-1.5Zm0 9.5a.75.75 0 1 0 0 1.5.75.75 0 0 0 0-1.5Zm8.25.75a.75.75 0 1 0 1.5 0 .75.75 0 0 0-1.5 0Z"></path>
</svg>
        <span data-content="Pull requests">Pull requests</span>
          <span id="pull-requests-repo-tab-count" data-pjax-replace="" data-turbo-replace="" title="0" hidden="hidden" data-view-component="true" class="Counter">0</span>


    
</a></li>
      <li data-view-component="true" class="d-inline-flex">
  <a id="actions-tab" href="/netology-ds-team/DLL/actions" data-tab-item="i3actions-tab" data-selected-links="repo_actions /netology-ds-team/DLL/actions" data-pjax="#repo-content-pjax-container" data-turbo-frame="repo-content-turbo-frame" data-hotkey="g a" data-analytics-event="{&quot;category&quot;:&quot;Underline navbar&quot;,&quot;action&quot;:&quot;Click tab&quot;,&quot;label&quot;:&quot;Actions&quot;,&quot;target&quot;:&quot;UNDERLINE_NAV.TAB&quot;}" data-view-component="true" class="UnderlineNav-item no-wrap js-responsive-underlinenav-item js-selected-navigation-item">
    
              <svg aria-hidden="true" height="16" viewBox="0 0 16 16" version="1.1" width="16" data-view-component="true" class="octicon octicon-play UnderlineNav-octicon d-none d-sm-inline">
    <path d="M8 0a8 8 0 1 1 0 16A8 8 0 0 1 8 0ZM1.5 8a6.5 6.5 0 1 0 13 0 6.5 6.5 0 0 0-13 0Zm4.879-2.773 4.264 2.559a.25.25 0 0 1 0 .428l-4.264 2.559A.25.25 0 0 1 6 10.559V5.442a.25.25 0 0 1 .379-.215Z"></path>
</svg>
        <span data-content="Actions">Actions</span>
          <span id="actions-repo-tab-count" data-pjax-replace="" data-turbo-replace="" title="Not available" data-view-component="true" class="Counter"></span>


    
</a></li>
      <li data-view-component="true" class="d-inline-flex">
  <a id="projects-tab" href="/netology-ds-team/DLL/projects" data-tab-item="i4projects-tab" data-selected-links="repo_projects new_repo_project repo_project /netology-ds-team/DLL/projects" data-pjax="#repo-content-pjax-container" data-turbo-frame="repo-content-turbo-frame" data-hotkey="g b" data-analytics-event="{&quot;category&quot;:&quot;Underline navbar&quot;,&quot;action&quot;:&quot;Click tab&quot;,&quot;label&quot;:&quot;Projects&quot;,&quot;target&quot;:&quot;UNDERLINE_NAV.TAB&quot;}" data-view-component="true" class="UnderlineNav-item no-wrap js-responsive-underlinenav-item js-selected-navigation-item">
    
              <svg aria-hidden="true" height="16" viewBox="0 0 16 16" version="1.1" width="16" data-view-component="true" class="octicon octicon-table UnderlineNav-octicon d-none d-sm-inline">
    <path d="M0 1.75C0 .784.784 0 1.75 0h12.5C15.216 0 16 .784 16 1.75v12.5A1.75 1.75 0 0 1 14.25 16H1.75A1.75 1.75 0 0 1 0 14.25ZM6.5 6.5v8h7.75a.25.25 0 0 0 .25-.25V6.5Zm8-1.5V1.75a.25.25 0 0 0-.25-.25H6.5V5Zm-13 1.5v7.75c0 .138.112.25.25.25H5v-8ZM5 5V1.5H1.75a.25.25 0 0 0-.25.25V5Z"></path>
</svg>
        <span data-content="Projects">Projects</span>
          <span id="projects-repo-tab-count" data-pjax-replace="" data-turbo-replace="" title="0" hidden="hidden" data-view-component="true" class="Counter">0</span>


    
</a></li>
      <li data-view-component="true" class="d-inline-flex">
  <a id="security-tab" href="/netology-ds-team/DLL/security" data-tab-item="i5security-tab" data-selected-links="security overview alerts policy token_scanning code_scanning /netology-ds-team/DLL/security" data-pjax="#repo-content-pjax-container" data-turbo-frame="repo-content-turbo-frame" data-hotkey="g s" data-analytics-event="{&quot;category&quot;:&quot;Underline navbar&quot;,&quot;action&quot;:&quot;Click tab&quot;,&quot;label&quot;:&quot;Security&quot;,&quot;target&quot;:&quot;UNDERLINE_NAV.TAB&quot;}" data-view-component="true" class="UnderlineNav-item no-wrap js-responsive-underlinenav-item js-selected-navigation-item">
    
              <svg aria-hidden="true" height="16" viewBox="0 0 16 16" version="1.1" width="16" data-view-component="true" class="octicon octicon-shield UnderlineNav-octicon d-none d-sm-inline">
    <path d="M7.467.133a1.748 1.748 0 0 1 1.066 0l5.25 1.68A1.75 1.75 0 0 1 15 3.48V7c0 1.566-.32 3.182-1.303 4.682-.983 1.498-2.585 2.813-5.032 3.855a1.697 1.697 0 0 1-1.33 0c-2.447-1.042-4.049-2.357-5.032-3.855C1.32 10.182 1 8.566 1 7V3.48a1.75 1.75 0 0 1 1.217-1.667Zm.61 1.429a.25.25 0 0 0-.153 0l-5.25 1.68a.25.25 0 0 0-.174.238V7c0 1.358.275 2.666 1.057 3.86.784 1.194 2.121 2.34 4.366 3.297a.196.196 0 0 0 .154 0c2.245-.956 3.582-2.104 4.366-3.298C13.225 9.666 13.5 8.36 13.5 7V3.48a.251.251 0 0 0-.174-.237l-5.25-1.68ZM8.75 4.75v3a.75.75 0 0 1-1.5 0v-3a.75.75 0 0 1 1.5 0ZM9 10.5a1 1 0 1 1-2 0 1 1 0 0 1 2 0Z"></path>
</svg>
        <span data-content="Security">Security</span>
          <include-fragment src="/netology-ds-team/DLL/security/overall-count" accept="text/fragment+html"></include-fragment>

    
</a></li>
      <li data-view-component="true" class="d-inline-flex">
  <a id="insights-tab" href="/netology-ds-team/DLL/pulse" data-tab-item="i6insights-tab" data-selected-links="repo_graphs repo_contributors dependency_graph dependabot_updates pulse people community /netology-ds-team/DLL/pulse" data-pjax="#repo-content-pjax-container" data-turbo-frame="repo-content-turbo-frame" data-analytics-event="{&quot;category&quot;:&quot;Underline navbar&quot;,&quot;action&quot;:&quot;Click tab&quot;,&quot;label&quot;:&quot;Insights&quot;,&quot;target&quot;:&quot;UNDERLINE_NAV.TAB&quot;}" data-view-component="true" class="UnderlineNav-item no-wrap js-responsive-underlinenav-item js-selected-navigation-item">
    
              <svg aria-hidden="true" height="16" viewBox="0 0 16 16" version="1.1" width="16" data-view-component="true" class="octicon octicon-graph UnderlineNav-octicon d-none d-sm-inline">
    <path d="M1.5 1.75V13.5h13.75a.75.75 0 0 1 0 1.5H.75a.75.75 0 0 1-.75-.75V1.75a.75.75 0 0 1 1.5 0Zm14.28 2.53-5.25 5.25a.75.75 0 0 1-1.06 0L7 7.06 4.28 9.78a.751.751 0 0 1-1.042-.018.751.751 0 0 1-.018-1.042l3.25-3.25a.75.75 0 0 1 1.06 0L10 7.94l4.72-4.72a.751.751 0 0 1 1.042.018.751.751 0 0 1 .018 1.042Z"></path>
</svg>
        <span data-content="Insights">Insights</span>
          <span id="insights-repo-tab-count" data-pjax-replace="" data-turbo-replace="" title="Not available" data-view-component="true" class="Counter"></span>


    
</a></li>
</ul>
    <div style="visibility:hidden;" data-view-component="true" class="UnderlineNav-actions js-responsive-underlinenav-overflow position-absolute pr-3 pr-md-4 pr-lg-5 right-0">      <details data-view-component="true" class="details-overlay details-reset position-relative">
  <summary role="button" data-view-component="true">          <div class="UnderlineNav-item mr-0 border-0">
            <svg aria-hidden="true" height="16" viewBox="0 0 16 16" version="1.1" width="16" data-view-component="true" class="octicon octicon-kebab-horizontal">
    <path d="M8 9a1.5 1.5 0 1 0 0-3 1.5 1.5 0 0 0 0 3ZM1.5 9a1.5 1.5 0 1 0 0-3 1.5 1.5 0 0 0 0 3Zm13 0a1.5 1.5 0 1 0 0-3 1.5 1.5 0 0 0 0 3Z"></path>
</svg>
            <span class="sr-only">More</span>
          </div>
</summary>
  <details-menu role="menu" data-view-component="true" class="dropdown-menu dropdown-menu-sw">          <ul>
              <li data-menu-item="i0code-tab" hidden>
                <a role="menuitem" class="js-selected-navigation-item selected dropdown-item" aria-current="page" data-selected-links="repo_source repo_downloads repo_commits repo_releases repo_tags repo_branches repo_packages repo_deployments /netology-ds-team/DLL" href="/netology-ds-team/DLL">
                  Code
</a>              </li>
              <li data-menu-item="i1issues-tab" hidden>
                <a role="menuitem" class="js-selected-navigation-item dropdown-item" data-selected-links="repo_issues repo_labels repo_milestones /netology-ds-team/DLL/issues" href="/netology-ds-team/DLL/issues">
                  Issues
</a>              </li>
              <li data-menu-item="i2pull-requests-tab" hidden>
                <a role="menuitem" class="js-selected-navigation-item dropdown-item" data-selected-links="repo_pulls checks /netology-ds-team/DLL/pulls" href="/netology-ds-team/DLL/pulls">
                  Pull requests
</a>              </li>
              <li data-menu-item="i3actions-tab" hidden>
                <a role="menuitem" class="js-selected-navigation-item dropdown-item" data-selected-links="repo_actions /netology-ds-team/DLL/actions" href="/netology-ds-team/DLL/actions">
                  Actions
</a>              </li>
              <li data-menu-item="i4projects-tab" hidden>
                <a role="menuitem" class="js-selected-navigation-item dropdown-item" data-selected-links="repo_projects new_repo_project repo_project /netology-ds-team/DLL/projects" href="/netology-ds-team/DLL/projects">
                  Projects
</a>              </li>
              <li data-menu-item="i5security-tab" hidden>
                <a role="menuitem" class="js-selected-navigation-item dropdown-item" data-selected-links="security overview alerts policy token_scanning code_scanning /netology-ds-team/DLL/security" href="/netology-ds-team/DLL/security">
                  Security
</a>              </li>
              <li data-menu-item="i6insights-tab" hidden>
                <a role="menuitem" class="js-selected-navigation-item dropdown-item" data-selected-links="repo_graphs repo_contributors dependency_graph dependabot_updates pulse people community /netology-ds-team/DLL/pulse" href="/netology-ds-team/DLL/pulse">
                  Insights
</a>              </li>
          </ul>
</details-menu>
</details></div>
</nav>

  </div>

  



<turbo-frame id="repo-content-turbo-frame" target="_top" data-turbo-action="advance" class="">
    <div id="repo-content-pjax-container" class="repository-content " >
      <a href="https://github.dev/" class="d-none js-github-dev-shortcut" data-hotkey=".">Open in github.dev</a>
  <a href="https://github.dev/" class="d-none js-github-dev-new-tab-shortcut" data-hotkey="Shift+.,Shift+&gt;,&gt;" target="_blank">Open in a new github.dev tab</a>
    <a class="d-none" data-hotkey="," target="_blank" href="/codespaces/new/netology-ds-team/DLL/tree/main?resume=1">Open in codespace</a>



    
      
    





<react-app
  app-name="react-code-view"
  initial-path="/netology-ds-team/DLL/blob/main/DLL-materials/%D0%97%D0%B0%D0%BD%D1%8F%D1%82%D0%B8%D0%B5%201.2.%20%D0%90%D0%B2%D1%82%D0%BE%D0%B4%D0%B8%D1%84%D1%84%D0%B5%D1%80%D0%B5%D0%BD%D1%86%D0%B8%D1%80%D0%BE%D0%B2%D0%B0%D0%BD%D0%B8%D0%B5%20%D0%B8%20%D0%BB%D0%B8%D0%BD%D0%B5%D0%B9%D0%BD%D0%B0%D1%8F%20%D1%80%D0%B5%D0%B3%D1%80%D0%B5%D1%81%D1%81%D0%B8%D1%8F.ipynb"
  style="min-height: calc(100vh - 62px)"
  data-ssr="false"
  data-lazy="false"
  data-alternate="false"
>
  
  <script type="application/json" data-target="react-app.embeddedData">{"payload":{"allShortcutsEnabled":true,"fileTree":{"DLL-materials":{"items":[{"name":"Занятие 0. Пререквизиты.ipynb","path":"DLL-materials/Занятие 0. Пререквизиты.ipynb","contentType":"file"},{"name":"Занятие 1.1. Работа с тензорами.ipynb","path":"DLL-materials/Занятие 1.1. Работа с тензорами.ipynb","contentType":"file"},{"name":"Занятие 1.2. Автодифференцирование и линейная регрессия.ipynb","path":"DLL-materials/Занятие 1.2. Автодифференцирование и линейная регрессия.ipynb","contentType":"file"},{"name":"Занятие 2. Многослойная нейронная сеть.ipynb","path":"DLL-materials/Занятие 2. Многослойная нейронная сеть.ipynb","contentType":"file"},{"name":"Занятие 3. Сверточные сети.ipynb","path":"DLL-materials/Занятие 3. Сверточные сети.ipynb","contentType":"file"},{"name":"Занятие 4. Архитектуры сверточных сетей.ipynb","path":"DLL-materials/Занятие 4. Архитектуры сверточных сетей.ipynb","contentType":"file"},{"name":"Занятие 5. Улучшение качества обучения нейросетей.ipynb","path":"DLL-materials/Занятие 5. Улучшение качества обучения нейросетей.ipynb","contentType":"file"}],"totalCount":7},"":{"items":[{"name":"DLL-materials","path":"DLL-materials","contentType":"directory"}],"totalCount":1}},"fileTreeProcessingTime":7.240164,"foldersToFetch":[],"reducedMotionEnabled":"system","repo":{"id":595657061,"defaultBranch":"main","name":"DLL","ownerLogin":"netology-ds-team","currentUserCanPush":false,"isFork":false,"isEmpty":false,"createdAt":"2023-01-31T17:45:08.000+03:00","ownerAvatar":"https://avatars.githubusercontent.com/u/83753353?v=4","public":true,"private":false},"refInfo":{"name":"main","listCacheKey":"v0:1680264882.446662","canEdit":true,"refType":"branch","currentOid":"d5712a292bc5bec8d3d5354a1eb5d24b2e94f2f4"},"path":"DLL-materials/Занятие 1.2. Автодифференцирование и линейная регрессия.ipynb","currentUser":{"id":77914048,"login":"vn322","userEmail":"bigbr@mail.ru"},"blob":{"rawBlob":"{\n  \"cells\": [\n    {\n      \"cell_type\": \"markdown\",\n      \"metadata\": {\n        \"id\": \"2ZIiCcBm31Wv\"\n      },\n      \"source\": [\n        \"## Автоматическое дифференцирование\"\n      ]\n    },\n    {\n      \"cell_type\": \"code\",\n      \"execution_count\": null,\n      \"metadata\": {\n        \"id\": \"aYrk3oBX31Ww\"\n      },\n      \"outputs\": [],\n      \"source\": [\n        \"import torch\\n\",\n        \"from torch import autograd\"\n      ]\n    },\n    {\n      \"cell_type\": \"code\",\n      \"execution_count\": null,\n      \"metadata\": {\n        \"id\": \"nBnQNG7i31Ww\",\n        \"colab\": {\n          \"base_uri\": \"https://localhost:8080/\"\n        },\n        \"outputId\": \"0fe16c14-19f7-42a9-c7a2-70c022141e14\"\n      },\n      \"outputs\": [\n        {\n          \"output_type\": \"stream\",\n          \"name\": \"stdout\",\n          \"text\": [\n            \"tensor([0., 1., 2., 3.])\\n\"\n          ]\n        }\n      ],\n      \"source\": [\n        \"x = torch.arange(4).type(torch.float)\\n\",\n        \"print(x)\"\n      ]\n    },\n    {\n      \"cell_type\": \"markdown\",\n      \"metadata\": {\n        \"id\": \"9IURmWho31Ww\"\n      },\n      \"source\": [\n        \"## Присоединение градиента к `x`\\n\",\n        \"\\n\",\n        \"- Говорит системе, что мы хотим хранить градиент\"\n      ]\n    },\n    {\n      \"cell_type\": \"code\",\n      \"execution_count\": null,\n      \"metadata\": {\n        \"id\": \"9-8w-QC931Ww\",\n        \"colab\": {\n          \"base_uri\": \"https://localhost:8080/\"\n        },\n        \"outputId\": \"9eb7615a-8a02-431f-b3fe-1f62edcce11d\"\n      },\n      \"outputs\": [\n        {\n          \"output_type\": \"execute_result\",\n          \"data\": {\n            \"text/plain\": [\n              \"False\"\n            ]\n          },\n          \"metadata\": {},\n          \"execution_count\": 3\n        }\n      ],\n      \"source\": [\n        \"x.requires_grad\"\n      ]\n    },\n    {\n      \"cell_type\": \"code\",\n      \"execution_count\": null,\n      \"metadata\": {\n        \"id\": \"ilpGW8d031Ww\"\n      },\n      \"outputs\": [],\n      \"source\": [\n        \"x = x.requires_grad_()\"\n      ]\n    },\n    {\n      \"cell_type\": \"code\",\n      \"execution_count\": null,\n      \"metadata\": {\n        \"id\": \"7gr4GM2Z31Ww\",\n        \"colab\": {\n          \"base_uri\": \"https://localhost:8080/\"\n        },\n        \"outputId\": \"d7385d02-0b1d-4684-d692-60003de57468\"\n      },\n      \"outputs\": [\n        {\n          \"output_type\": \"execute_result\",\n          \"data\": {\n            \"text/plain\": [\n              \"True\"\n            ]\n          },\n          \"metadata\": {},\n          \"execution_count\": 5\n        }\n      ],\n      \"source\": [\n        \"x.requires_grad\"\n      ]\n    },\n    {\n      \"cell_type\": \"code\",\n      \"source\": [\n        \"x.detach().requires_grad\"\n      ],\n      \"metadata\": {\n        \"colab\": {\n          \"base_uri\": \"https://localhost:8080/\"\n        },\n        \"id\": \"vh4xya6qGZIe\",\n        \"outputId\": \"aafa7482-19cb-40cc-8b2a-4d97c8f3bd32\"\n      },\n      \"execution_count\": null,\n      \"outputs\": [\n        {\n          \"output_type\": \"execute_result\",\n          \"data\": {\n            \"text/plain\": [\n              \"False\"\n            ]\n          },\n          \"metadata\": {},\n          \"execution_count\": 8\n        }\n      ]\n    },\n    {\n      \"cell_type\": \"code\",\n      \"execution_count\": null,\n      \"metadata\": {\n        \"id\": \"DLrma54A31Ww\"\n      },\n      \"outputs\": [],\n      \"source\": [\n        \"x.grad\"\n      ]\n    },\n    {\n      \"cell_type\": \"markdown\",\n      \"metadata\": {\n        \"id\": \"qf8SjbES31Ww\"\n      },\n      \"source\": [\n        \"## Forward\\n\",\n        \"\\n\",\n        \"Вычислим \\n\",\n        \"\\n\",\n        \"$$y = 2\\\\mathbf{x}^{\\\\top}\\\\mathbf{x}$$\"\n      ]\n    },\n    {\n      \"cell_type\": \"code\",\n      \"execution_count\": null,\n      \"metadata\": {\n        \"id\": \"Rial63TM31Ww\",\n        \"colab\": {\n          \"base_uri\": \"https://localhost:8080/\"\n        },\n        \"outputId\": \"27a8d81f-1ead-4444-b4f3-f29ec2b1bde8\"\n      },\n      \"outputs\": [\n        {\n          \"output_type\": \"stream\",\n          \"name\": \"stderr\",\n          \"text\": [\n            \"/usr/local/lib/python3.7/dist-packages/ipykernel_launcher.py:1: UserWarning: The use of `x.T` on tensors of dimension other than 2 to reverse their shape is deprecated and it will throw an error in a future release. Consider `x.mT` to transpose batches of matricesor `x.permute(*torch.arange(x.ndim - 1, -1, -1))` to reverse the dimensions of a tensor. (Triggered internally at  ../aten/src/ATen/native/TensorShape.cpp:2981.)\\n\",\n            \"  \\\"\\\"\\\"Entry point for launching an IPython kernel.\\n\"\n          ]\n        }\n      ],\n      \"source\": [\n        \"y = 2 * x.dot(x.T)\\n\",\n        \"y2 = 2 * x.dot(x.T)\"\n      ]\n    },\n    {\n      \"cell_type\": \"code\",\n      \"execution_count\": null,\n      \"metadata\": {\n        \"id\": \"gJ6OPpMa31Ww\",\n        \"colab\": {\n          \"base_uri\": \"https://localhost:8080/\"\n        },\n        \"outputId\": \"1d46bd79-61b4-45b5-9285-3bde8e93bd2b\"\n      },\n      \"outputs\": [\n        {\n          \"output_type\": \"execute_result\",\n          \"data\": {\n            \"text/plain\": [\n              \"tensor(28., grad_fn=\u003cMulBackward0\u003e)\"\n            ]\n          },\n          \"metadata\": {},\n          \"execution_count\": 11\n        }\n      ],\n      \"source\": [\n        \"y\"\n      ]\n    },\n    {\n      \"cell_type\": \"markdown\",\n      \"metadata\": {\n        \"id\": \"ENNZlqQQ31Ww\"\n      },\n      \"source\": [\n        \"## Backward\"\n      ]\n    },\n    {\n      \"cell_type\": \"code\",\n      \"execution_count\": null,\n      \"metadata\": {\n        \"id\": \"hSPS6vkq31Ww\"\n      },\n      \"outputs\": [],\n      \"source\": [\n        \"y.backward()\\n\",\n        \"\\n\"\n      ]\n    },\n    {\n      \"cell_type\": \"markdown\",\n      \"metadata\": {\n        \"id\": \"gNGtphuz31Ww\"\n      },\n      \"source\": [\n        \"## Получение градиента\\n\",\n        \"\\n\",\n        \"$y = 2\\\\mathbf{x}^{\\\\top}\\\\mathbf{x}$, значит \\n\",\n        \"\\n\",\n        \"$$\\\\frac{\\\\partial y}{\\\\partial \\\\mathbf x} = 4\\\\mathbf{x}$$\\n\",\n        \"\\n\",\n        \"Проверим:\"\n      ]\n    },\n    {\n      \"cell_type\": \"code\",\n      \"execution_count\": null,\n      \"metadata\": {\n        \"id\": \"glDck1bX31Ww\",\n        \"colab\": {\n          \"base_uri\": \"https://localhost:8080/\"\n        },\n        \"outputId\": \"28526810-3788-4b12-9c61-b8f9ba067452\"\n      },\n      \"outputs\": [\n        {\n          \"output_type\": \"execute_result\",\n          \"data\": {\n            \"text/plain\": [\n              \"tensor([ 0.,  4.,  8., 12.])\"\n            ]\n          },\n          \"metadata\": {},\n          \"execution_count\": 10\n        }\n      ],\n      \"source\": [\n        \"x.grad\"\n      ]\n    },\n    {\n      \"cell_type\": \"code\",\n      \"execution_count\": null,\n      \"metadata\": {\n        \"id\": \"BuzBfu1A31Wx\",\n        \"colab\": {\n          \"base_uri\": \"https://localhost:8080/\"\n        },\n        \"outputId\": \"e8835106-22f4-4fd8-bb96-57badcf99fbf\"\n      },\n      \"outputs\": [\n        {\n          \"output_type\": \"execute_result\",\n          \"data\": {\n            \"text/plain\": [\n              \"tensor([True, True, True, True])\"\n            ]\n          },\n          \"metadata\": {},\n          \"execution_count\": 11\n        }\n      ],\n      \"source\": [\n        \"4 * x == x.grad\"\n      ]\n    },\n    {\n      \"cell_type\": \"markdown\",\n      \"metadata\": {\n        \"id\": \"O7s8xgfh31Wx\"\n      },\n      \"source\": [\n        \"## no_grad\\n\",\n        \"\\n\",\n        \"Функция no_grad позволяет отключить вычисление градиента для части кода\"\n      ]\n    },\n    {\n      \"cell_type\": \"code\",\n      \"execution_count\": null,\n      \"metadata\": {\n        \"id\": \"F5DExvLF31Wx\",\n        \"colab\": {\n          \"base_uri\": \"https://localhost:8080/\"\n        },\n        \"outputId\": \"da5a9139-451d-44d7-8889-8d5118cd6730\"\n      },\n      \"outputs\": [\n        {\n          \"output_type\": \"stream\",\n          \"name\": \"stdout\",\n          \"text\": [\n            \"\u003cMulBackward0 object at 0x7fcda27b8490\u003e\\n\",\n            \"None\\n\"\n          ]\n        }\n      ],\n      \"source\": [\n        \"y = 2 * x.dot(x)\\n\",\n        \"print(y.grad_fn)\\n\",\n        \"with torch.no_grad():\\n\",\n        \"    y = 2 * x.dot(x)\\n\",\n        \"    print(y.grad_fn)\"\n      ]\n    },\n    {\n      \"cell_type\": \"code\",\n      \"execution_count\": null,\n      \"metadata\": {\n        \"id\": \"5G8lgKfp0Kkc\",\n        \"colab\": {\n          \"base_uri\": \"https://localhost:8080/\"\n        },\n        \"outputId\": \"b5ebfceb-80e3-4eea-f9ff-4da49264def6\"\n      },\n      \"outputs\": [\n        {\n          \"output_type\": \"execute_result\",\n          \"data\": {\n            \"text/plain\": [\n              \"tensor([ 0.,  4.,  8., 12.])\"\n            ]\n          },\n          \"metadata\": {},\n          \"execution_count\": 13\n        }\n      ],\n      \"source\": [\n        \"x.grad\"\n      ]\n    },\n    {\n      \"cell_type\": \"code\",\n      \"execution_count\": null,\n      \"metadata\": {\n        \"id\": \"4GCZhuT231Wx\",\n        \"colab\": {\n          \"base_uri\": \"https://localhost:8080/\",\n          \"height\": 410\n        },\n        \"outputId\": \"d7acf93b-f35a-4d91-dcaf-bacdab4c12cd\"\n      },\n      \"outputs\": [\n        {\n          \"output_type\": \"stream\",\n          \"name\": \"stdout\",\n          \"text\": [\n            \"tensor([ 0.,  8., 16., 24.])\\n\"\n          ]\n        },\n        {\n          \"output_type\": \"error\",\n          \"ename\": \"RuntimeError\",\n          \"evalue\": \"ignored\",\n          \"traceback\": [\n            \"\\u001b[0;31m---------------------------------------------------------------------------\\u001b[0m\",\n            \"\\u001b[0;31mRuntimeError\\u001b[0m                              Traceback (most recent call last)\",\n            \"\\u001b[0;32m\u003cipython-input-14-e4856f420946\u003e\\u001b[0m in \\u001b[0;36m\u003cmodule\u003e\\u001b[0;34m()\\u001b[0m\\n\\u001b[1;32m      4\\u001b[0m \\u001b[0;32mwith\\u001b[0m \\u001b[0mtorch\\u001b[0m\\u001b[0;34m.\\u001b[0m\\u001b[0mno_grad\\u001b[0m\\u001b[0;34m(\\u001b[0m\\u001b[0;34m)\\u001b[0m\\u001b[0;34m:\\u001b[0m\\u001b[0;34m\\u001b[0m\\u001b[0;34m\\u001b[0m\\u001b[0m\\n\\u001b[1;32m      5\\u001b[0m   \\u001b[0my\\u001b[0m \\u001b[0;34m=\\u001b[0m \\u001b[0;36m2\\u001b[0m \\u001b[0;34m*\\u001b[0m \\u001b[0mx\\u001b[0m\\u001b[0;34m.\\u001b[0m\\u001b[0mdot\\u001b[0m\\u001b[0;34m(\\u001b[0m\\u001b[0mx\\u001b[0m\\u001b[0;34m)\\u001b[0m\\u001b[0;34m\\u001b[0m\\u001b[0;34m\\u001b[0m\\u001b[0m\\n\\u001b[0;32m----\u003e 6\\u001b[0;31m   \\u001b[0my\\u001b[0m\\u001b[0;34m.\\u001b[0m\\u001b[0mbackward\\u001b[0m\\u001b[0;34m(\\u001b[0m\\u001b[0;34m)\\u001b[0m\\u001b[0;34m\\u001b[0m\\u001b[0;34m\\u001b[0m\\u001b[0m\\n\\u001b[0m\\u001b[1;32m      7\\u001b[0m   \\u001b[0mprint\\u001b[0m\\u001b[0;34m(\\u001b[0m\\u001b[0mx\\u001b[0m\\u001b[0;34m.\\u001b[0m\\u001b[0mgrad\\u001b[0m\\u001b[0;34m)\\u001b[0m\\u001b[0;34m\\u001b[0m\\u001b[0;34m\\u001b[0m\\u001b[0m\\n\",\n            \"\\u001b[0;32m/usr/local/lib/python3.7/dist-packages/torch/_tensor.py\\u001b[0m in \\u001b[0;36mbackward\\u001b[0;34m(self, gradient, retain_graph, create_graph, inputs)\\u001b[0m\\n\\u001b[1;32m    361\\u001b[0m                 \\u001b[0mcreate_graph\\u001b[0m\\u001b[0;34m=\\u001b[0m\\u001b[0mcreate_graph\\u001b[0m\\u001b[0;34m,\\u001b[0m\\u001b[0;34m\\u001b[0m\\u001b[0;34m\\u001b[0m\\u001b[0m\\n\\u001b[1;32m    362\\u001b[0m                 inputs=inputs)\\n\\u001b[0;32m--\u003e 363\\u001b[0;31m         \\u001b[0mtorch\\u001b[0m\\u001b[0;34m.\\u001b[0m\\u001b[0mautograd\\u001b[0m\\u001b[0;34m.\\u001b[0m\\u001b[0mbackward\\u001b[0m\\u001b[0;34m(\\u001b[0m\\u001b[0mself\\u001b[0m\\u001b[0;34m,\\u001b[0m \\u001b[0mgradient\\u001b[0m\\u001b[0;34m,\\u001b[0m \\u001b[0mretain_graph\\u001b[0m\\u001b[0;34m,\\u001b[0m \\u001b[0mcreate_graph\\u001b[0m\\u001b[0;34m,\\u001b[0m \\u001b[0minputs\\u001b[0m\\u001b[0;34m=\\u001b[0m\\u001b[0minputs\\u001b[0m\\u001b[0;34m)\\u001b[0m\\u001b[0;34m\\u001b[0m\\u001b[0;34m\\u001b[0m\\u001b[0m\\n\\u001b[0m\\u001b[1;32m    364\\u001b[0m \\u001b[0;34m\\u001b[0m\\u001b[0m\\n\\u001b[1;32m    365\\u001b[0m     \\u001b[0;32mdef\\u001b[0m \\u001b[0mregister_hook\\u001b[0m\\u001b[0;34m(\\u001b[0m\\u001b[0mself\\u001b[0m\\u001b[0;34m,\\u001b[0m \\u001b[0mhook\\u001b[0m\\u001b[0;34m)\\u001b[0m\\u001b[0;34m:\\u001b[0m\\u001b[0;34m\\u001b[0m\\u001b[0;34m\\u001b[0m\\u001b[0m\\n\",\n            \"\\u001b[0;32m/usr/local/lib/python3.7/dist-packages/torch/autograd/__init__.py\\u001b[0m in \\u001b[0;36mbackward\\u001b[0;34m(tensors, grad_tensors, retain_graph, create_graph, grad_variables, inputs)\\u001b[0m\\n\\u001b[1;32m    173\\u001b[0m     Variable._execution_engine.run_backward(  # Calls into the C++ engine to run the backward pass\\n\\u001b[1;32m    174\\u001b[0m         \\u001b[0mtensors\\u001b[0m\\u001b[0;34m,\\u001b[0m \\u001b[0mgrad_tensors_\\u001b[0m\\u001b[0;34m,\\u001b[0m \\u001b[0mretain_graph\\u001b[0m\\u001b[0;34m,\\u001b[0m \\u001b[0mcreate_graph\\u001b[0m\\u001b[0;34m,\\u001b[0m \\u001b[0minputs\\u001b[0m\\u001b[0;34m,\\u001b[0m\\u001b[0;34m\\u001b[0m\\u001b[0;34m\\u001b[0m\\u001b[0m\\n\\u001b[0;32m--\u003e 175\\u001b[0;31m         allow_unreachable=True, accumulate_grad=True)  # Calls into the C++ engine to run the backward pass\\n\\u001b[0m\\u001b[1;32m    176\\u001b[0m \\u001b[0;34m\\u001b[0m\\u001b[0m\\n\\u001b[1;32m    177\\u001b[0m def grad(\\n\",\n            \"\\u001b[0;31mRuntimeError\\u001b[0m: element 0 of tensors does not require grad and does not have a grad_fn\"\n          ]\n        }\n      ],\n      \"source\": [\n        \"y = 2 * x.dot(x)\\n\",\n        \"y.backward()\\n\",\n        \"print(x.grad)\\n\",\n        \"with torch.no_grad():\\n\",\n        \"  y = 2 * x.dot(x)\\n\",\n        \"  y.backward()\\n\",\n        \"  print(x.grad)\"\n      ]\n    },\n    {\n      \"cell_type\": \"markdown\",\n      \"metadata\": {\n        \"id\": \"9oZBfVqd31Wx\"\n      },\n      \"source\": [\n        \"## Гибкий граф\"\n      ]\n    },\n    {\n      \"cell_type\": \"code\",\n      \"execution_count\": null,\n      \"metadata\": {\n        \"id\": \"5cMlgUBQ31Wx\"\n      },\n      \"outputs\": [],\n      \"source\": [\n        \"def f(a):\\n\",\n        \"    b = a * 2\\n\",\n        \"    while b.norm().item() \u003c 1000:\\n\",\n        \"        b = b * 2\\n\",\n        \"    if b.sum().item() \u003e 0:\\n\",\n        \"        c = b\\n\",\n        \"    else:\\n\",\n        \"        c = 100 * b\\n\",\n        \"    return c\"\n      ]\n    },\n    {\n      \"cell_type\": \"code\",\n      \"execution_count\": null,\n      \"metadata\": {\n        \"id\": \"kFUeW2Tj31Wx\"\n      },\n      \"outputs\": [],\n      \"source\": [\n        \"a = torch.randn(1).requires_grad_()\\n\",\n        \"d = f(a)\\n\",\n        \"d.backward()\"\n      ]\n    },\n    {\n      \"cell_type\": \"code\",\n      \"execution_count\": null,\n      \"metadata\": {\n        \"colab\": {\n          \"base_uri\": \"https://localhost:8080/\"\n        },\n        \"id\": \"5wYHp2_l31Wx\",\n        \"outputId\": \"02b96357-59dd-4c38-e39c-f836321083b3\"\n      },\n      \"outputs\": [\n        {\n          \"output_type\": \"execute_result\",\n          \"data\": {\n            \"text/plain\": [\n              \"tensor([-170053.6094], grad_fn=\u003cMulBackward0\u003e)\"\n            ]\n          },\n          \"metadata\": {},\n          \"execution_count\": 19\n        }\n      ],\n      \"source\": [\n        \"d\"\n      ]\n    },\n    {\n      \"cell_type\": \"code\",\n      \"execution_count\": null,\n      \"metadata\": {\n        \"colab\": {\n          \"base_uri\": \"https://localhost:8080/\"\n        },\n        \"id\": \"Lr-QZSZy31Wx\",\n        \"outputId\": \"2521f6af-b5aa-4c20-fdab-9aea31cbb86e\"\n      },\n      \"outputs\": [\n        {\n          \"output_type\": \"execute_result\",\n          \"data\": {\n            \"text/plain\": [\n              \"tensor([-0.8303], requires_grad=True)\"\n            ]\n          },\n          \"metadata\": {},\n          \"execution_count\": 20\n        }\n      ],\n      \"source\": [\n        \"a\"\n      ]\n    },\n    {\n      \"cell_type\": \"markdown\",\n      \"metadata\": {\n        \"id\": \"_hy7PFz031Wx\"\n      },\n      \"source\": [\n        \"## Практика\\n\",\n        \"\\n\",\n        \"1. Пусть $f(x) = \\\\sin(x) * x$. Постройте график $f(x)$ и $\\\\frac{df(x)}{dx}$ используя пакет autograd для расчёта производных (т.е. нельзя выводить производную явно)\"\n      ]\n    },\n    {\n      \"cell_type\": \"code\",\n      \"execution_count\": null,\n      \"metadata\": {\n        \"id\": \"PbBX0O9hGA4t\"\n      },\n      \"outputs\": [],\n      \"source\": [\n        \"from matplotlib import pyplot as plt\"\n      ]\n    },\n    {\n      \"cell_type\": \"code\",\n      \"execution_count\": null,\n      \"metadata\": {\n        \"id\": \"uWVqJpH5GBEP\"\n      },\n      \"outputs\": [],\n      \"source\": [\n        \"X = [w / 100.0 for w in range(-1000,1000,1)]\"\n      ]\n    },\n    {\n      \"cell_type\": \"code\",\n      \"execution_count\": null,\n      \"metadata\": {\n        \"id\": \"noTSdVaAGBSl\"\n      },\n      \"outputs\": [],\n      \"source\": [\n        \"Y = []\\n\",\n        \"Y_der = []\"\n      ]\n    },\n    {\n      \"cell_type\": \"code\",\n      \"execution_count\": null,\n      \"metadata\": {\n        \"id\": \"dp7_6sQSGYjX\"\n      },\n      \"outputs\": [],\n      \"source\": [\n        \"for x in X:\\n\",\n        \"  xt = torch.Tensor((x,))\\n\",\n        \"  xt.requires_grad_()\\n\",\n        \"  y = torch.sin(xt) * xt\\n\",\n        \"  y.backward()\\n\",\n        \"  Y.append(y.item())\\n\",\n        \"  Y_der.append(xt.grad.item())\"\n      ]\n    },\n    {\n      \"cell_type\": \"code\",\n      \"execution_count\": null,\n      \"metadata\": {\n        \"colab\": {\n          \"base_uri\": \"https://localhost:8080/\",\n          \"height\": 265\n        },\n        \"id\": \"8vwGb-ljIPKl\",\n        \"outputId\": \"f2438416-4568-4efa-d740-265fb195d1e5\"\n      },\n      \"outputs\": [\n        {\n          \"output_type\": \"display_data\",\n          \"data\": {\n            \"text/plain\": [\n              \"\u003cFigure size 432x288 with 1 Axes\u003e\"\n            ],\n            \"image/png\": \"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\\n\"\n          },\n          \"metadata\": {\n            \"needs_background\": \"light\"\n          }\n        }\n      ],\n      \"source\": [\n        \"plt.plot(X,Y)\\n\",\n        \"plt.plot(X,Y_der)\\n\",\n        \"plt.grid()\\n\",\n        \"plt.show()\"\n      ]\n    },\n    {\n      \"cell_type\": \"code\",\n      \"execution_count\": null,\n      \"metadata\": {\n        \"colab\": {\n          \"base_uri\": \"https://localhost:8080/\",\n          \"height\": 357\n        },\n        \"id\": \"bK-Tv1TyxbnG\",\n        \"outputId\": \"6bfd4968-fbc7-43c3-dd62-ec81ef72cbc2\"\n      },\n      \"outputs\": [\n        {\n          \"output_type\": \"stream\",\n          \"name\": \"stderr\",\n          \"text\": [\n            \"/usr/local/lib/python3.7/dist-packages/seaborn/_decorators.py:43: FutureWarning: Pass the following variables as keyword args: x, y. From version 0.12, the only valid positional argument will be `data`, and passing other arguments without an explicit keyword will result in an error or misinterpretation.\\n\",\n            \"  FutureWarning\\n\",\n            \"/usr/local/lib/python3.7/dist-packages/seaborn/_decorators.py:43: FutureWarning: Pass the following variables as keyword args: x, y. From version 0.12, the only valid positional argument will be `data`, and passing other arguments without an explicit keyword will result in an error or misinterpretation.\\n\",\n            \"  FutureWarning\\n\"\n          ]\n        },\n        {\n          \"output_type\": \"display_data\",\n          \"data\": {\n            \"text/plain\": [\n              \"\u003cFigure size 432x288 with 1 Axes\u003e\"\n            ],\n            \"image/png\": \"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\\n\"\n          },\n          \"metadata\": {\n            \"needs_background\": \"light\"\n          }\n        }\n      ],\n      \"source\": [\n        \"import seaborn as sns \\n\",\n        \"def f(x): \\n\",\n        \"  return torch.sin(x)*x \\n\",\n        \"  \\n\",\n        \"x = torch.linspace(-10,10,1000).requires_grad_() \\n\",\n        \"y = f(x) \\n\",\n        \"y.backward(torch.ones_like(y))\\n\",\n        \"dx = x.grad \\n\",\n        \"sns.lineplot(x.detach().numpy(), dx) \\n\",\n        \"sns.lineplot(x.detach().numpy(), y.detach().numpy())\\n\",\n        \"plt.grid()\"\n      ]\n    },\n    {\n      \"cell_type\": \"code\",\n      \"source\": [\n        \"import seaborn as sns \\n\",\n        \"def f(x): \\n\",\n        \"  return torch.sin(x)*x \\n\",\n        \"  \\n\",\n        \"x = torch.linspace(-10,10,1000).requires_grad_() \\n\",\n        \"y = f(x) \\n\",\n        \"y2 = y.sum()\\n\",\n        \"y2.backward()\\n\",\n        \"dx = x.grad \\n\",\n        \"sns.lineplot(x.detach().numpy(), dx) \\n\",\n        \"sns.lineplot(x.detach().numpy(), y.detach().numpy())\\n\",\n        \"plt.grid()\"\n      ],\n      \"metadata\": {\n        \"colab\": {\n          \"base_uri\": \"https://localhost:8080/\",\n          \"height\": 357\n        },\n        \"id\": \"9-1vTcjv1q4S\",\n        \"outputId\": \"6e37f483-f1d4-4687-dfaf-be69bcb897f7\"\n      },\n      \"execution_count\": null,\n      \"outputs\": [\n        {\n          \"output_type\": \"stream\",\n          \"name\": \"stderr\",\n          \"text\": [\n            \"/usr/local/lib/python3.7/dist-packages/seaborn/_decorators.py:43: FutureWarning: Pass the following variables as keyword args: x, y. From version 0.12, the only valid positional argument will be `data`, and passing other arguments without an explicit keyword will result in an error or misinterpretation.\\n\",\n            \"  FutureWarning\\n\",\n            \"/usr/local/lib/python3.7/dist-packages/seaborn/_decorators.py:43: FutureWarning: Pass the following variables as keyword args: x, y. From version 0.12, the only valid positional argument will be `data`, and passing other arguments without an explicit keyword will result in an error or misinterpretation.\\n\",\n            \"  FutureWarning\\n\"\n          ]\n        },\n        {\n          \"output_type\": \"display_data\",\n          \"data\": {\n            \"text/plain\": [\n              \"\u003cFigure size 432x288 with 1 Axes\u003e\"\n            ],\n            \"image/png\": \"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\\n\"\n          },\n          \"metadata\": {\n            \"needs_background\": \"light\"\n          }\n        }\n      ]\n    },\n    {\n      \"cell_type\": \"markdown\",\n      \"metadata\": {\n        \"id\": \"6xuVl2zm31Wx\"\n      },\n      \"source\": [\n        \"## Линейная регрессия с нуля\"\n      ]\n    },\n    {\n      \"cell_type\": \"code\",\n      \"execution_count\": null,\n      \"metadata\": {\n        \"id\": \"XSy6aQYV31Wx\"\n      },\n      \"outputs\": [],\n      \"source\": [\n        \"%matplotlib inline\\n\",\n        \"from IPython import display\\n\",\n        \"from matplotlib import pyplot as plt\\n\",\n        \"import torch\\n\",\n        \"import random\"\n      ]\n    },\n    {\n      \"cell_type\": \"markdown\",\n      \"metadata\": {\n        \"id\": \"LJmk4LYk31Wx\"\n      },\n      \"source\": [\n        \"## Генерируем данные\\n\",\n        \"\\n\",\n        \"- Случайно генерируем $\\\\mathbf{X}\\\\in \\\\mathbb{R}^{1000 \\\\times 2}$\\n\",\n        \"- Выбираем значения весов (истинные): $\\\\mathbf{w} = [2, -3.4]^\\\\top$ и свободного члена $b = 4.2$\\n\",\n        \"- Генерируем метки по формле $\\\\mathbf{y}= \\\\mathbf{X} \\\\mathbf{w} + b + \\\\mathbf\\\\epsilon$\\n\",\n        \"  с шумом $\\\\epsilon$ нормально распределённым с мат ожиданием 0 и дисперсией 1\"\n      ]\n    },\n    {\n      \"cell_type\": \"code\",\n      \"execution_count\": null,\n      \"metadata\": {\n        \"id\": \"S7jbn_AQ31Wx\"\n      },\n      \"outputs\": [],\n      \"source\": [\n        \"num_inputs = 2\\n\",\n        \"num_examples = 1000\\n\",\n        \"true_w = torch.tensor([2, -3.4])\\n\",\n        \"true_b = 4.2\\n\",\n        \"features = torch.randn((num_examples, num_inputs))\\n\",\n        \"labels = torch.mv(features, true_w) + true_b\\n\",\n        \"labels += torch.randn(labels.shape)\"\n      ]\n    },\n    {\n      \"cell_type\": \"markdown\",\n      \"metadata\": {\n        \"id\": \"p4PYLjPh31Wx\"\n      },\n      \"source\": [\n        \"## Визуализируем данные\"\n      ]\n    },\n    {\n      \"cell_type\": \"code\",\n      \"execution_count\": null,\n      \"metadata\": {\n        \"colab\": {\n          \"base_uri\": \"https://localhost:8080/\",\n          \"height\": 265\n        },\n        \"id\": \"airdzG6f31Wx\",\n        \"outputId\": \"07dbedfe-c24c-4222-877c-519f5b130d0f\"\n      },\n      \"outputs\": [\n        {\n          \"output_type\": \"display_data\",\n          \"data\": {\n            \"text/plain\": [\n              \"\u003cFigure size 864x288 with 3 Axes\u003e\"\n            ],\n            \"image/png\": \"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\\n\"\n          },\n          \"metadata\": {\n            \"needs_background\": \"light\"\n          }\n        }\n      ],\n      \"source\": [\n        \"plt.figure(figsize=(12, 4))\\n\",\n        \"plt.subplot(131)\\n\",\n        \"plt.scatter(features[:, 0], labels, 1)\\n\",\n        \"plt.subplot(132)\\n\",\n        \"plt.scatter(features[:, 1], labels, 1)\\n\",\n        \"plt.subplot(133)\\n\",\n        \"plt.scatter(features[:, 0], features[:, 1], 1)\\n\",\n        \"plt.show()\"\n      ]\n    },\n    {\n      \"cell_type\": \"markdown\",\n      \"metadata\": {\n        \"id\": \"qw2-hzy431Wx\"\n      },\n      \"source\": [\n        \"\\n\",\n        \"## Чтение данных\\n\",\n        \"\\n\",\n        \"Итерируемся по датасету и возвращаем случайные `batch_size` примеры.\"\n      ]\n    },\n    {\n      \"cell_type\": \"code\",\n      \"execution_count\": null,\n      \"metadata\": {\n        \"id\": \"kCLlQ5QA31Wx\"\n      },\n      \"outputs\": [],\n      \"source\": [\n        \"import random\\n\",\n        \"\\n\",\n        \"def data_iter(batch_size, features, labels):\\n\",\n        \"    num_examples = len(features)\\n\",\n        \"    indices = list(range(num_examples))\\n\",\n        \"    random.shuffle(indices)\\n\",\n        \"    for i in range(0, num_examples, batch_size):\\n\",\n        \"        j = indices[i: min(i + batch_size, num_examples)]\\n\",\n        \"        yield features[j, :], labels[j]\"\n      ]\n    },\n    {\n      \"cell_type\": \"markdown\",\n      \"metadata\": {\n        \"id\": \"1pZQgKwD31Wx\"\n      },\n      \"source\": [\n        \"## Выводим маленький батч\"\n      ]\n    },\n    {\n      \"cell_type\": \"code\",\n      \"execution_count\": null,\n      \"metadata\": {\n        \"colab\": {\n          \"base_uri\": \"https://localhost:8080/\"\n        },\n        \"id\": \"JK2ATkeT31Wx\",\n        \"outputId\": \"32fbd634-f197-4482-f2b0-2d5e95cee910\"\n      },\n      \"outputs\": [\n        {\n          \"output_type\": \"stream\",\n          \"name\": \"stdout\",\n          \"text\": [\n            \"tensor([[ 0.6414, -0.0140],\\n\",\n            \"        [-0.2455, -0.6213],\\n\",\n            \"        [-0.9405,  1.7354],\\n\",\n            \"        [ 0.1481,  0.0426],\\n\",\n            \"        [ 0.2203, -1.8093],\\n\",\n            \"        [-0.1473, -1.0808],\\n\",\n            \"        [-1.3825,  0.4214],\\n\",\n            \"        [ 0.4227, -0.8688],\\n\",\n            \"        [-1.1712, -0.9247],\\n\",\n            \"        [ 0.4759, -0.4197]]) \\n\",\n            \" tensor([ 4.7990,  7.8094, -4.0510,  2.3349, 11.1539,  6.8245,  0.0382,  8.4685,\\n\",\n            \"         3.7750,  6.4771])\\n\"\n          ]\n        }\n      ],\n      \"source\": [\n        \"batch_size = 10\\n\",\n        \"for X, y in data_iter(batch_size, features, labels):\\n\",\n        \"    print(X,'\\\\n', y)\\n\",\n        \"    break\"\n      ]\n    },\n    {\n      \"cell_type\": \"markdown\",\n      \"metadata\": {\n        \"id\": \"fsWOPNUj31Wx\"\n      },\n      \"source\": [\n        \"### Создаём модель для обучения\"\n      ]\n    },\n    {\n      \"cell_type\": \"code\",\n      \"execution_count\": null,\n      \"metadata\": {\n        \"id\": \"TBiKsI1_31Wx\"\n      },\n      \"outputs\": [],\n      \"source\": [\n        \"w = torch.randn((num_inputs))\\n\",\n        \"b = torch.zeros((1,))\"\n      ]\n    },\n    {\n      \"cell_type\": \"code\",\n      \"execution_count\": null,\n      \"metadata\": {\n        \"colab\": {\n          \"base_uri\": \"https://localhost:8080/\"\n        },\n        \"id\": \"Vt3MkAdz31Wx\",\n        \"outputId\": \"338a57df-2b1c-46e4-fd03-3d3a5e766a11\"\n      },\n      \"outputs\": [\n        {\n          \"output_type\": \"execute_result\",\n          \"data\": {\n            \"text/plain\": [\n              \"tensor([0.], requires_grad=True)\"\n            ]\n          },\n          \"metadata\": {},\n          \"execution_count\": 39\n        }\n      ],\n      \"source\": [\n        \"w.requires_grad_()\\n\",\n        \"b.requires_grad_()\"\n      ]\n    },\n    {\n      \"cell_type\": \"markdown\",\n      \"metadata\": {\n        \"id\": \"P5sg1Wp931Wx\"\n      },\n      \"source\": [\n        \"## Практика. Реализуйте функции:\\n\",\n        \"- linreg - применение модели линейной регресии\\n\",\n        \"- squared_loss - MSE функция потерь\\n\",\n        \"- sgd - стохастический шаг градиентного спуска по массиву параметров\\n\",\n        \"\\n\",\n        \"и допишите код обучения линейной регрессии\"\n      ]\n    },\n    {\n      \"cell_type\": \"code\",\n      \"execution_count\": null,\n      \"metadata\": {\n        \"id\": \"An9oVfEP31Wx\"\n      },\n      \"outputs\": [],\n      \"source\": [\n        \"def linreg(X, w, b):\\n\",\n        \"  return torch.mv(X,w)+b\"\n      ]\n    },\n    {\n      \"cell_type\": \"markdown\",\n      \"metadata\": {\n        \"id\": \"3cGXbylW31Wy\"\n      },\n      \"source\": [\n        \"### Обучение\"\n      ]\n    },\n    {\n      \"cell_type\": \"code\",\n      \"execution_count\": null,\n      \"metadata\": {\n        \"id\": \"PLn-r17u31Wy\"\n      },\n      \"outputs\": [],\n      \"source\": [\n        \"def squared_loss(y_hat, y):\\n\",\n        \"  return ((y_hat-y.reshape(y_hat.shape)) ** 2).mean()\"\n      ]\n    },\n    {\n      \"cell_type\": \"code\",\n      \"execution_count\": null,\n      \"metadata\": {\n        \"id\": \"ehI7xhJY31Wy\"\n      },\n      \"outputs\": [],\n      \"source\": [\n        \"def sgd(params, lr):\\n\",\n        \"  for param in params:\\n\",\n        \"    param.data[:] = param - lr*param.grad\\n\",\n        \"    \"\n      ]\n    },\n    {\n      \"cell_type\": \"code\",\n      \"execution_count\": null,\n      \"metadata\": {\n        \"colab\": {\n          \"base_uri\": \"https://localhost:8080/\"\n        },\n        \"id\": \"Vqht52qQ31Wy\",\n        \"outputId\": \"c1bb1539-0f50-4fa2-b131-d13c2bc617c3\"\n      },\n      \"outputs\": [\n        {\n          \"output_type\": \"stream\",\n          \"name\": \"stdout\",\n          \"text\": [\n            \"epoch 1, loss 1.462493\\n\",\n            \"epoch 2, loss 0.952648\\n\",\n            \"epoch 3, loss 0.932427\\n\",\n            \"epoch 4, loss 0.931975\\n\",\n            \"epoch 5, loss 0.932602\\n\",\n            \"epoch 6, loss 0.934194\\n\",\n            \"epoch 7, loss 0.932463\\n\",\n            \"epoch 8, loss 0.932906\\n\",\n            \"epoch 9, loss 0.931957\\n\",\n            \"epoch 10, loss 0.931823\\n\"\n          ]\n        }\n      ],\n      \"source\": [\n        \"lr = 0.01  \\n\",\n        \"num_epochs = 10\\n\",\n        \"\\n\",\n        \"for epoch in range(num_epochs):\\n\",\n        \"    for X, y in data_iter(batch_size, features, labels):   \\n\",\n        \"        w = w.detach()\\n\",\n        \"        b = b.detach()\\n\",\n        \"        w.requires_grad_()\\n\",\n        \"        b.requires_grad_()\\n\",\n        \"        \\n\",\n        \"        l = squared_loss(linreg(X,w,b), y)\\n\",\n        \"        l.backward()\\n\",\n        \"        sgd([w,b], lr)\\n\",\n        \"    train_l = squared_loss(linreg(features, w, b), labels)\\n\",\n        \"    print('epoch %d, loss %f' % (epoch + 1, train_l.mean().item()))\"\n      ]\n    },\n    {\n      \"cell_type\": \"code\",\n      \"source\": [],\n      \"metadata\": {\n        \"id\": \"f4-rB1Hk4HLj\"\n      },\n      \"execution_count\": null,\n      \"outputs\": []\n    },\n    {\n      \"cell_type\": \"markdown\",\n      \"metadata\": {\n        \"id\": \"wwMc2GNl31Wy\"\n      },\n      \"source\": [\n        \"## Оценка качества модели\"\n      ]\n    },\n    {\n      \"cell_type\": \"code\",\n      \"execution_count\": null,\n      \"metadata\": {\n        \"colab\": {\n          \"base_uri\": \"https://localhost:8080/\"\n        },\n        \"id\": \"LvbDr8SM31Wy\",\n        \"outputId\": \"ebf6a89e-85e6-4898-b8e0-288f9650a8fb\"\n      },\n      \"outputs\": [\n        {\n          \"output_type\": \"stream\",\n          \"name\": \"stdout\",\n          \"text\": [\n            \"Error in estimating w tensor([-0.0126, -0.0055], grad_fn=\u003cSubBackward0\u003e)\\n\",\n            \"Error in estimating b tensor([-0.0225], grad_fn=\u003cRsubBackward1\u003e)\\n\",\n            \"tensor([ 2.0126, -3.3945], requires_grad=True)\\n\",\n            \"tensor([4.2225], requires_grad=True)\\n\"\n          ]\n        }\n      ],\n      \"source\": [\n        \"print('Error in estimating w', true_w - w.reshape(true_w.shape))\\n\",\n        \"print('Error in estimating b', true_b - b)\\n\",\n        \"print(w)\\n\",\n        \"print(b)\"\n      ]\n    },\n    {\n      \"cell_type\": \"markdown\",\n      \"metadata\": {\n        \"id\": \"A3TcBghX31Wy\"\n      },\n      \"source\": [\n        \"## Линейная регрессия на torch\"\n      ]\n    },\n    {\n      \"cell_type\": \"code\",\n      \"execution_count\": null,\n      \"metadata\": {\n        \"id\": \"QM2XRHG631Wy\"\n      },\n      \"outputs\": [],\n      \"source\": [\n        \"from torch.utils.data import TensorDataset, DataLoader\"\n      ]\n    },\n    {\n      \"cell_type\": \"code\",\n      \"execution_count\": null,\n      \"metadata\": {\n        \"id\": \"GtlYcn3131Wy\"\n      },\n      \"outputs\": [],\n      \"source\": [\n        \"num_inputs = 2\\n\",\n        \"num_examples = 1000\\n\",\n        \"true_w = torch.tensor([2, -3.4])\\n\",\n        \"true_b = 4.2\\n\",\n        \"features = torch.randn((num_examples, num_inputs))\\n\",\n        \"labels = torch.mv(features, true_w) + true_b\\n\",\n        \"labels += torch.randn(labels.shape)\"\n      ]\n    },\n    {\n      \"cell_type\": \"code\",\n      \"execution_count\": null,\n      \"metadata\": {\n        \"colab\": {\n          \"base_uri\": \"https://localhost:8080/\"\n        },\n        \"id\": \"6KDcWMGd31Wy\",\n        \"outputId\": \"61b3f08d-10dd-4045-fc4b-a804ebed72e7\",\n        \"scrolled\": false\n      },\n      \"outputs\": [\n        {\n          \"output_type\": \"stream\",\n          \"name\": \"stdout\",\n          \"text\": [\n            \"tensor([[ 0.0345,  0.8763],\\n\",\n            \"        [-0.1276, -0.5479],\\n\",\n            \"        [-0.7614,  0.2112],\\n\",\n            \"        [ 0.2410,  0.0866],\\n\",\n            \"        [ 0.6860,  0.8563],\\n\",\n            \"        [ 1.0380,  1.1428],\\n\",\n            \"        [-0.9644, -1.7634],\\n\",\n            \"        [ 0.5707,  1.4203],\\n\",\n            \"        [-1.8953,  0.7940],\\n\",\n            \"        [-0.8702,  0.7706]]) tensor([ 1.4240,  5.4325,  1.8391,  6.3614,  4.5907,  0.9070,  8.5382,  2.3789,\\n\",\n            \"        -2.7428,  0.7567])\\n\"\n          ]\n        }\n      ],\n      \"source\": [\n        \"batch_size = 10\\n\",\n        \"dataset = TensorDataset(features, labels)\\n\",\n        \"# Randomly reading mini-batches\\n\",\n        \"data_iter = DataLoader(dataset, batch_size, shuffle=True)\\n\",\n        \"\\n\",\n        \"# Read a batch to see how it works\\n\",\n        \"for X, y in data_iter:\\n\",\n        \"    print(X, y)\\n\",\n        \"    break\"\n      ]\n    },\n    {\n      \"cell_type\": \"code\",\n      \"execution_count\": null,\n      \"metadata\": {\n        \"colab\": {\n          \"base_uri\": \"https://localhost:8080/\"\n        },\n        \"id\": \"6xK7H5LB3gf0\",\n        \"outputId\": \"4e9a49a0-273d-431f-aa53-4dadbd10e6d0\"\n      },\n      \"outputs\": [\n        {\n          \"output_type\": \"execute_result\",\n          \"data\": {\n            \"text/plain\": [\n              \"tensor([[ 4.2777,  1.1808],\\n\",\n              \"        [ 3.9514,  6.1010],\\n\",\n              \"        [ 2.6763,  3.4786],\\n\",\n              \"        [ 4.6930,  3.9092],\\n\",\n              \"        [ 5.5884,  1.2501],\\n\",\n              \"        [ 6.2965,  0.2601],\\n\",\n              \"        [ 2.2679, 10.3002],\\n\",\n              \"        [ 5.3564, -0.6985],\\n\",\n              \"        [ 0.3950,  1.4653],\\n\",\n              \"        [ 2.4574,  1.5459]], grad_fn=\u003cAddBackward0\u003e)\"\n            ]\n          },\n          \"metadata\": {},\n          \"execution_count\": 48\n        }\n      ],\n      \"source\": [\n        \"X * w + b \"\n      ]\n    },\n    {\n      \"cell_type\": \"code\",\n      \"execution_count\": null,\n      \"metadata\": {\n        \"id\": \"YsIkQx6731Wy\"\n      },\n      \"outputs\": [],\n      \"source\": [\n        \"model = torch.nn.Sequential(torch.nn.Linear(2, 1))\"\n      ]\n    },\n    {\n      \"cell_type\": \"code\",\n      \"execution_count\": null,\n      \"metadata\": {\n        \"id\": \"tUjU3mYr5hGj\",\n        \"colab\": {\n          \"base_uri\": \"https://localhost:8080/\"\n        },\n        \"outputId\": \"d3d84202-9625-41d0-d991-93ad8d0d5f54\"\n      },\n      \"outputs\": [\n        {\n          \"output_type\": \"execute_result\",\n          \"data\": {\n            \"text/plain\": [\n              \"Sequential(\\n\",\n              \"  (0): Linear(in_features=2, out_features=1, bias=True)\\n\",\n              \")\"\n            ]\n          },\n          \"metadata\": {},\n          \"execution_count\": 50\n        }\n      ],\n      \"source\": [\n        \"model\"\n      ]\n    },\n    {\n      \"cell_type\": \"code\",\n      \"execution_count\": null,\n      \"metadata\": {\n        \"id\": \"qSZXsijF31Wy\",\n        \"scrolled\": true\n      },\n      \"outputs\": [],\n      \"source\": [\n        \"model[0].weight.data = true_w.clone().detach().requires_grad_(True).reshape((1, 2))\\n\",\n        \"model[0].bias.data = torch.tensor([true_b], requires_grad = True)\"\n      ]\n    },\n    {\n      \"cell_type\": \"code\",\n      \"execution_count\": null,\n      \"metadata\": {\n        \"id\": \"FArQZx_a31Wy\"\n      },\n      \"outputs\": [],\n      \"source\": [\n        \"loss = torch.nn.MSELoss(reduction='mean')\"\n      ]\n    },\n    {\n      \"cell_type\": \"code\",\n      \"execution_count\": null,\n      \"metadata\": {\n        \"id\": \"0HZQmrKr8CCD\"\n      },\n      \"outputs\": [],\n      \"source\": []\n    },\n    {\n      \"cell_type\": \"code\",\n      \"execution_count\": null,\n      \"metadata\": {\n        \"id\": \"94jAjXQc31Wy\"\n      },\n      \"outputs\": [],\n      \"source\": [\n        \"trainer = torch.optim.SGD(model.parameters(), lr=0.001)\"\n      ]\n    },\n    {\n      \"cell_type\": \"code\",\n      \"execution_count\": null,\n      \"metadata\": {\n        \"id\": \"_DSVnaFk6eva\"\n      },\n      \"outputs\": [],\n      \"source\": [\n        \"zzz = torch.tensor([[1.,2.],[3.,4.],[5.,6.]])\"\n      ]\n    },\n    {\n      \"cell_type\": \"code\",\n      \"source\": [\n        \"labels.shape\"\n      ],\n      \"metadata\": {\n        \"colab\": {\n          \"base_uri\": \"https://localhost:8080/\"\n        },\n        \"id\": \"gjEwmuxv5wEx\",\n        \"outputId\": \"d83ce700-8ef6-4ff7-c817-d0b7bae5c477\"\n      },\n      \"execution_count\": null,\n      \"outputs\": [\n        {\n          \"output_type\": \"execute_result\",\n          \"data\": {\n            \"text/plain\": [\n              \"torch.Size([1000])\"\n            ]\n          },\n          \"metadata\": {},\n          \"execution_count\": 56\n        }\n      ]\n    },\n    {\n      \"cell_type\": \"code\",\n      \"execution_count\": null,\n      \"metadata\": {\n        \"colab\": {\n          \"base_uri\": \"https://localhost:8080/\"\n        },\n        \"id\": \"Fylj9yIE6o44\",\n        \"outputId\": \"7e75cd88-a033-419b-e62d-d47958d3d77a\"\n      },\n      \"outputs\": [\n        {\n          \"output_type\": \"execute_result\",\n          \"data\": {\n            \"text/plain\": [\n              \"torch.Size([3, 1])\"\n            ]\n          },\n          \"metadata\": {},\n          \"execution_count\": 57\n        }\n      ],\n      \"source\": [\n        \"model(zzz).shape\"\n      ]\n    },\n    {\n      \"cell_type\": \"code\",\n      \"execution_count\": null,\n      \"metadata\": {\n        \"colab\": {\n          \"base_uri\": \"https://localhost:8080/\"\n        },\n        \"id\": \"_40n7zag6llG\",\n        \"outputId\": \"7db5e1f2-4233-4dd4-c37a-7daf74bd051f\"\n      },\n      \"outputs\": [\n        {\n          \"output_type\": \"execute_result\",\n          \"data\": {\n            \"text/plain\": [\n              \"tensor([-1.5867, -3.9512, -6.3158], grad_fn=\u003cReshapeAliasBackward0\u003e)\"\n            ]\n          },\n          \"metadata\": {},\n          \"execution_count\": 58\n        }\n      ],\n      \"source\": [\n        \"model(zzz).reshape(-1)\"\n      ]\n    },\n    {\n      \"cell_type\": \"code\",\n      \"execution_count\": null,\n      \"metadata\": {\n        \"colab\": {\n          \"base_uri\": \"https://localhost:8080/\"\n        },\n        \"id\": \"soQ8kc6_31Wy\",\n        \"outputId\": \"6776f3b5-c9dd-4ce7-ef96-d30b67ecc58a\"\n      },\n      \"outputs\": [\n        {\n          \"output_type\": \"stream\",\n          \"name\": \"stdout\",\n          \"text\": [\n            \"epoch 5, loss: 4.882812 |\\tw tensor([[ 1.0015, -2.3883]]) |\\tb tensor([2.6789])\\n\",\n            \"epoch 10, loss: 1.545528 |\\tw tensor([[ 1.5716, -3.0123]]) |\\tb tensor([3.5937])\\n\",\n            \"epoch 15, loss: 1.066341 |\\tw tensor([[ 1.7897, -3.2420]]) |\\tb tensor([3.9433])\\n\",\n            \"epoch 20, loss: 0.997042 |\\tw tensor([[ 1.8731, -3.3264]]) |\\tb tensor([4.0789])\\n\",\n            \"epoch 25, loss: 0.987234 |\\tw tensor([[ 1.9050, -3.3572]]) |\\tb tensor([4.1300])\\n\",\n            \"epoch 30, loss: 0.985825 |\\tw tensor([[ 1.9170, -3.3684]]) |\\tb tensor([4.1499])\\n\",\n            \"epoch 35, loss: 0.985628 |\\tw tensor([[ 1.9215, -3.3718]]) |\\tb tensor([4.1578])\\n\",\n            \"epoch 40, loss: 0.985599 |\\tw tensor([[ 1.9245, -3.3745]]) |\\tb tensor([4.1598])\\n\",\n            \"epoch 45, loss: 0.985596 |\\tw tensor([[ 1.9252, -3.3749]]) |\\tb tensor([4.1614])\\n\",\n            \"epoch 50, loss: 0.985597 |\\tw tensor([[ 1.9255, -3.3751]]) |\\tb tensor([4.1619])\\n\",\n            \"epoch 55, loss: 0.985596 |\\tw tensor([[ 1.9254, -3.3746]]) |\\tb tensor([4.1612])\\n\",\n            \"epoch 60, loss: 0.985597 |\\tw tensor([[ 1.9254, -3.3745]]) |\\tb tensor([4.1609])\\n\",\n            \"epoch 65, loss: 0.985597 |\\tw tensor([[ 1.9251, -3.3748]]) |\\tb tensor([4.1620])\\n\",\n            \"epoch 70, loss: 0.985598 |\\tw tensor([[ 1.9262, -3.3751]]) |\\tb tensor([4.1622])\\n\",\n            \"epoch 75, loss: 0.985597 |\\tw tensor([[ 1.9258, -3.3753]]) |\\tb tensor([4.1618])\\n\",\n            \"epoch 80, loss: 0.985599 |\\tw tensor([[ 1.9258, -3.3754]]) |\\tb tensor([4.1629])\\n\",\n            \"epoch 85, loss: 0.985597 |\\tw tensor([[ 1.9256, -3.3748]]) |\\tb tensor([4.1619])\\n\",\n            \"epoch 90, loss: 0.985597 |\\tw tensor([[ 1.9259, -3.3753]]) |\\tb tensor([4.1614])\\n\",\n            \"epoch 95, loss: 0.985596 |\\tw tensor([[ 1.9252, -3.3749]]) |\\tb tensor([4.1617])\\n\",\n            \"epoch 100, loss: 0.985597 |\\tw tensor([[ 1.9251, -3.3753]]) |\\tb tensor([4.1615])\\n\"\n          ]\n        }\n      ],\n      \"source\": [\n        \"num_epochs = 100\\n\",\n        \"for epoch in range(1, num_epochs + 1):\\n\",\n        \"    for X, y in data_iter:\\n\",\n        \"        trainer.zero_grad()\\n\",\n        \"        l = loss(model(X).reshape(-1), y)\\n\",\n        \"        l.backward()\\n\",\n        \"        trainer.step()\\n\",\n        \"    l = loss(model(features).reshape(-1), labels)\\n\",\n        \"    if epoch % 5 == 0:\\n\",\n        \"        print('epoch %d, loss: %f' % (epoch, l.item()),'|\\\\tw', model[0].weight.data, '|\\\\tb', model[0].bias.data)\\n\",\n        \"    \"\n      ]\n    },\n    {\n      \"cell_type\": \"code\",\n      \"execution_count\": null,\n      \"metadata\": {\n        \"colab\": {\n          \"base_uri\": \"https://localhost:8080/\"\n        },\n        \"id\": \"k7aEenze31Wy\",\n        \"outputId\": \"0dd75d04-361d-4b74-9653-a582904bc5b0\"\n      },\n      \"outputs\": [\n        {\n          \"name\": \"stdout\",\n          \"output_type\": \"stream\",\n          \"text\": [\n            \"Error in estimating w tensor([[-0.0492,  0.0096]])\\n\",\n            \"Error in estimating b tensor([-0.0037])\\n\"\n          ]\n        }\n      ],\n      \"source\": [\n        \"w = model[0].weight.data\\n\",\n        \"print('Error in estimating w', true_w.reshape(w.shape) - w)\\n\",\n        \"b = model[0].bias.data\\n\",\n        \"print('Error in estimating b', true_b - b)\"\n      ]\n    },\n    {\n      \"cell_type\": \"code\",\n      \"execution_count\": null,\n      \"metadata\": {\n        \"colab\": {\n          \"base_uri\": \"https://localhost:8080/\"\n        },\n        \"id\": \"_aOQfbv931Wy\",\n        \"outputId\": \"06c57868-9699-49cb-b147-16c6d8721cc2\"\n      },\n      \"outputs\": [\n        {\n          \"data\": {\n            \"text/plain\": [\n              \"tensor([[ 2.0492, -3.4096]])\"\n            ]\n          },\n          \"execution_count\": 53,\n          \"metadata\": {\n            \"tags\": []\n          },\n          \"output_type\": \"execute_result\"\n        }\n      ],\n      \"source\": [\n        \"model[0].weight.data\"\n      ]\n    },\n    {\n      \"cell_type\": \"code\",\n      \"execution_count\": null,\n      \"metadata\": {\n        \"colab\": {\n          \"base_uri\": \"https://localhost:8080/\"\n        },\n        \"id\": \"NkpczGnS31Wy\",\n        \"outputId\": \"bc9e2074-c886-4c66-b25a-2d3f30803b6b\"\n      },\n      \"outputs\": [\n        {\n          \"data\": {\n            \"text/plain\": [\n              \"tensor([4.2037])\"\n            ]\n          },\n          \"execution_count\": 54,\n          \"metadata\": {\n            \"tags\": []\n          },\n          \"output_type\": \"execute_result\"\n        }\n      ],\n      \"source\": [\n        \"model[0].bias.data\"\n      ]\n    },\n    {\n      \"cell_type\": \"code\",\n      \"execution_count\": null,\n      \"metadata\": {\n        \"id\": \"hw9eJBJg31Wy\"\n      },\n      \"outputs\": [],\n      \"source\": []\n    },\n    {\n      \"cell_type\": \"code\",\n      \"execution_count\": null,\n      \"metadata\": {\n        \"id\": \"vUGDqjy_N6rb\"\n      },\n      \"outputs\": [],\n      \"source\": []\n    }\n  ],\n  \"metadata\": {\n    \"colab\": {\n      \"provenance\": []\n    },\n    \"kernelspec\": {\n      \"display_name\": \"Python 3\",\n      \"language\": \"python\",\n      \"name\": \"python3\"\n    },\n    \"language_info\": {\n      \"codemirror_mode\": {\n        \"name\": \"ipython\",\n        \"version\": 3\n      },\n      \"file_extension\": \".py\",\n      \"mimetype\": \"text/x-python\",\n      \"name\": \"python\",\n      \"nbconvert_exporter\": \"python\",\n      \"pygments_lexer\": \"ipython3\",\n      \"version\": \"3.7.1\"\n    }\n  },\n  \"nbformat\": 4,\n  \"nbformat_minor\": 0\n}","colorizedLines":null,"stylingDirectives":null,"csv":null,"csvError":null,"dependabotInfo":{"showConfigurationBanner":false,"configFilePath":null,"networkDependabotPath":"/netology-ds-team/DLL/network/updates","dismissConfigurationNoticePath":"/settings/dismiss-notice/dependabot_configuration_notice","configurationNoticeDismissed":false,"repoAlertsPath":"/netology-ds-team/DLL/security/dependabot","repoSecurityAndAnalysisPath":"/netology-ds-team/DLL/settings/security_analysis","repoOwnerIsOrg":true,"currentUserCanAdminRepo":false},"displayName":"Занятие 1.2. Автодифференцирование и линейная регрессия.ipynb","displayUrl":"https://notebooks.githubusercontent.com/view/ipynb?browser=chrome\u0026bypass_fastly=true\u0026color_mode=auto\u0026commit=d5712a292bc5bec8d3d5354a1eb5d24b2e94f2f4\u0026device=unknown_device\u0026docs_host=https%3A%2F%2Fdocs.github.com\u0026enc_url=68747470733a2f2f7261772e67697468756275736572636f6e74656e742e636f6d2f6e65746f6c6f67792d64732d7465616d2f444c4c2f643537313261323932626335626563386433643533353461316562356432346232653934663266342f444c4c2d6d6174657269616c732f254430253937254430254230254430254244254431253846254431253832254430254238254430254235253230312e322e2532302544302539302544302542322544312538322544302542452544302542342544302542382544312538342544312538342544302542352544312538302544302542352544302542442544312538362544302542382544312538302544302542452544302542322544302542302544302542442544302542382544302542352532302544302542382532302544302542422544302542382544302542442544302542352544302542392544302542442544302542302544312538462532302544312538302544302542352544302542332544312538302544302542352544312538312544312538312544302542382544312538462e6970796e62\u0026logged_in=true\u0026nwo=netology-ds-team%2FDLL\u0026path=DLL-materials%2F%D0%97%D0%B0%D0%BD%D1%8F%D1%82%D0%B8%D0%B5+1.2.+%D0%90%D0%B2%D1%82%D0%BE%D0%B4%D0%B8%D1%84%D1%84%D0%B5%D1%80%D0%B5%D0%BD%D1%86%D0%B8%D1%80%D0%BE%D0%B2%D0%B0%D0%BD%D0%B8%D0%B5+%D0%B8+%D0%BB%D0%B8%D0%BD%D0%B5%D0%B9%D0%BD%D0%B0%D1%8F+%D1%80%D0%B5%D0%B3%D1%80%D0%B5%D1%81%D1%81%D0%B8%D1%8F.ipynb\u0026platform=windows\u0026repository_id=595657061\u0026repository_type=Repository\u0026version=114","headerInfo":{"blobSize":"175 KB","deleteInfo":{"deletePath":"https://github.com/netology-ds-team/DLL/delete/main/DLL-materials/%D0%97%D0%B0%D0%BD%D1%8F%D1%82%D0%B8%D0%B5%201.2.%20%D0%90%D0%B2%D1%82%D0%BE%D0%B4%D0%B8%D1%84%D1%84%D0%B5%D1%80%D0%B5%D0%BD%D1%86%D0%B8%D1%80%D0%BE%D0%B2%D0%B0%D0%BD%D0%B8%D0%B5%20%D0%B8%20%D0%BB%D0%B8%D0%BD%D0%B5%D0%B9%D0%BD%D0%B0%D1%8F%20%D1%80%D0%B5%D0%B3%D1%80%D0%B5%D1%81%D1%81%D0%B8%D1%8F.ipynb","deleteTooltip":"Fork this repository and delete the file"},"editInfo":{"editTooltip":"Fork this repository and edit the file"},"ghDesktopPath":"x-github-client://openRepo/https://github.com/netology-ds-team/DLL?branch=main\u0026filepath=DLL-materials%2F%D0%97%D0%B0%D0%BD%D1%8F%D1%82%D0%B8%D0%B5%201.2.%20%D0%90%D0%B2%D1%82%D0%BE%D0%B4%D0%B8%D1%84%D1%84%D0%B5%D1%80%D0%B5%D0%BD%D1%86%D0%B8%D1%80%D0%BE%D0%B2%D0%B0%D0%BD%D0%B8%D0%B5%20%D0%B8%20%D0%BB%D0%B8%D0%BD%D0%B5%D0%B9%D0%BD%D0%B0%D1%8F%20%D1%80%D0%B5%D0%B3%D1%80%D0%B5%D1%81%D1%81%D0%B8%D1%8F.ipynb","gitLfsPath":null,"onBranch":true,"shortPath":"9425f0e","siteNavLoginPath":"/login?return_to=https%3A%2F%2Fgithub.com%2Fnetology-ds-team%2FDLL%2Fblob%2Fmain%2FDLL-materials%2F%25D0%2597%25D0%25B0%25D0%25BD%25D1%258F%25D1%2582%25D0%25B8%25D0%25B5%25201.2.%2520%25D0%2590%25D0%25B2%25D1%2582%25D0%25BE%25D0%25B4%25D0%25B8%25D1%2584%25D1%2584%25D0%25B5%25D1%2580%25D0%25B5%25D0%25BD%25D1%2586%25D0%25B8%25D1%2580%25D0%25BE%25D0%25B2%25D0%25B0%25D0%25BD%25D0%25B8%25D0%25B5%2520%25D0%25B8%2520%25D0%25BB%25D0%25B8%25D0%25BD%25D0%25B5%25D0%25B9%25D0%25BD%25D0%25B0%25D1%258F%2520%25D1%2580%25D0%25B5%25D0%25B3%25D1%2580%25D0%25B5%25D1%2581%25D1%2581%25D0%25B8%25D1%258F.ipynb","isCSV":false,"isRichtext":false,"toc":null,"lineInfo":{"truncatedLoc":"1548","truncatedSloc":"1548"},"mode":"file"},"image":false,"isCodeownersFile":null,"isValidLegacyIssueTemplate":false,"issueTemplateHelpUrl":"https://docs.github.com/articles/about-issue-and-pull-request-templates","issueTemplate":null,"discussionTemplate":null,"language":"Jupyter Notebook","large":false,"loggedIn":true,"newDiscussionPath":"/netology-ds-team/DLL/discussions/new","newIssuePath":"/netology-ds-team/DLL/issues/new","planSupportInfo":{"repoIsFork":null,"repoOwnedByCurrentUser":null,"requestFullPath":"/netology-ds-team/DLL/blob/main/DLL-materials/%D0%97%D0%B0%D0%BD%D1%8F%D1%82%D0%B8%D0%B5%201.2.%20%D0%90%D0%B2%D1%82%D0%BE%D0%B4%D0%B8%D1%84%D1%84%D0%B5%D1%80%D0%B5%D0%BD%D1%86%D0%B8%D1%80%D0%BE%D0%B2%D0%B0%D0%BD%D0%B8%D0%B5%20%D0%B8%20%D0%BB%D0%B8%D0%BD%D0%B5%D0%B9%D0%BD%D0%B0%D1%8F%20%D1%80%D0%B5%D0%B3%D1%80%D0%B5%D1%81%D1%81%D0%B8%D1%8F.ipynb","showFreeOrgGatedFeatureMessage":null,"showPlanSupportBanner":null,"upgradeDataAttributes":null,"upgradePath":null},"publishBannersInfo":{"dismissActionNoticePath":"/settings/dismiss-notice/publish_action_from_dockerfile","dismissStackNoticePath":"/settings/dismiss-notice/publish_stack_from_file","releasePath":"/netology-ds-team/DLL/releases/new?marketplace=true","showPublishActionBanner":false,"showPublishStackBanner":false},"renderImageOrRaw":false,"richText":null,"renderedFileInfo":{"identityUUID":"59c8ae4e-a89d-479e-b321-8ab5138b64b9","renderFileType":"ipynb","size":178715},"tabSize":8,"topBannersInfo":{"overridingGlobalFundingFile":false,"globalPreferredFundingPath":null,"repoOwner":"netology-ds-team","repoName":"DLL","showInvalidCitationWarning":false,"citationHelpUrl":"https://docs.github.com/en/github/creating-cloning-and-archiving-repositories/creating-a-repository-on-github/about-citation-files","showDependabotConfigurationBanner":false,"actionsOnboardingTip":null},"truncated":false,"viewable":true,"workflowRedirectUrl":null,"symbols":{"timedOut":false,"notAnalyzed":true,"symbols":[]}},"csrf_tokens":{"/netology-ds-team/DLL/branches":{"post":"BUph-1KFKX1PgYoinnbSE0cr2QIiquhW0PaF4Y48mDEUOobfsAUauJT7OLFZQTFOydgI0gIEyqPTBBIUi9rHlg"}}},"title":"DLL/Занятие 1.2. Автодифференцирование и линейная регрессия.ipynb at main · netology-ds-team/DLL","locale":"en","appPayload":{"helpUrl":"https://docs.github.com","findFileWorkerPath":"/assets-cdn/worker/find-file-worker-848bb9a5da17.js","findInFileWorkerPath":"/assets-cdn/worker/find-in-file-worker-8812f8040df6.js","githubDevUrl":"https://github.dev/","enabled_features":{"virtualize_file_tree":true,"react_repos_overview":false,"repos_new_shortcut_enabled":false,"blob_navigation_cursor":true,"code_nav_ui_events":false,"ref_selector_v2":false,"codeview_codemirror_next":false,"copilot_conversational_ux":false}}}</script>
  <div data-target="react-app.reactRoot"></div>
</react-app>
</turbo-frame>



  </div>

</turbo-frame>

    </main>
  </div>

  </div>

          <footer class="footer width-full container-xl p-responsive" role="contentinfo">
  <h2 class='sr-only'>Footer</h2>

  <div class="position-relative d-flex flex-items-center pb-2 f6 color-fg-muted border-top color-border-muted flex-column-reverse flex-lg-row flex-wrap flex-lg-nowrap mt-6 pt-6">
    <div class="list-style-none d-flex flex-wrap col-0 col-lg-2 flex-justify-start flex-lg-justify-between mb-2 mb-lg-0">
      <div class="mt-2 mt-lg-0 d-flex flex-items-center">
        <a aria-label="Homepage" title="GitHub" class="footer-octicon mr-2" href="https://github.com">
          <svg aria-hidden="true" height="24" viewBox="0 0 16 16" version="1.1" width="24" data-view-component="true" class="octicon octicon-mark-github">
    <path d="M8 0c4.42 0 8 3.58 8 8a8.013 8.013 0 0 1-5.45 7.59c-.4.08-.55-.17-.55-.38 0-.27.01-1.13.01-2.2 0-.75-.25-1.23-.54-1.48 1.78-.2 3.65-.88 3.65-3.95 0-.88-.31-1.59-.82-2.15.08-.2.36-1.02-.08-2.12 0 0-.67-.22-2.2.82-.64-.18-1.32-.27-2-.27-.68 0-1.36.09-2 .27-1.53-1.03-2.2-.82-2.2-.82-.44 1.1-.16 1.92-.08 2.12-.51.56-.82 1.28-.82 2.15 0 3.06 1.86 3.75 3.64 3.95-.23.2-.44.55-.51 1.07-.46.21-1.61.55-2.33-.66-.15-.24-.6-.83-1.23-.82-.67.01-.27.38.01.53.34.19.73.9.82 1.13.16.45.68 1.31 2.69.94 0 .67.01 1.3.01 1.49 0 .21-.15.45-.55.38A7.995 7.995 0 0 1 0 8c0-4.42 3.58-8 8-8Z"></path>
</svg>
</a>        <span>
        &copy; 2023 GitHub, Inc.
        </span>
      </div>
    </div>

    <nav aria-label='Footer' class="col-12 col-lg-8">
      <h3 class='sr-only' id='sr-footer-heading'>Footer navigation</h3>
      <ul class="list-style-none d-flex flex-wrap col-12 flex-justify-center flex-lg-justify-between mb-2 mb-lg-0" aria-labelledby='sr-footer-heading'>
          <li class="mr-3 mr-lg-0"><a href="https://docs.github.com/site-policy/github-terms/github-terms-of-service" data-analytics-event="{&quot;category&quot;:&quot;Footer&quot;,&quot;action&quot;:&quot;go to terms&quot;,&quot;label&quot;:&quot;text:terms&quot;}">Terms</a></li>
          <li class="mr-3 mr-lg-0"><a href="https://docs.github.com/site-policy/privacy-policies/github-privacy-statement" data-analytics-event="{&quot;category&quot;:&quot;Footer&quot;,&quot;action&quot;:&quot;go to privacy&quot;,&quot;label&quot;:&quot;text:privacy&quot;}">Privacy</a></li>
          <li class="mr-3 mr-lg-0"><a data-analytics-event="{&quot;category&quot;:&quot;Footer&quot;,&quot;action&quot;:&quot;go to security&quot;,&quot;label&quot;:&quot;text:security&quot;}" href="https://github.com/security">Security</a></li>
          <li class="mr-3 mr-lg-0"><a href="https://www.githubstatus.com/" data-analytics-event="{&quot;category&quot;:&quot;Footer&quot;,&quot;action&quot;:&quot;go to status&quot;,&quot;label&quot;:&quot;text:status&quot;}">Status</a></li>
          <li class="mr-3 mr-lg-0"><a data-ga-click="Footer, go to help, text:Docs" href="https://docs.github.com">Docs</a></li>
          <li class="mr-3 mr-lg-0"><a href="https://support.github.com?tags=dotcom-footer" data-analytics-event="{&quot;category&quot;:&quot;Footer&quot;,&quot;action&quot;:&quot;go to contact&quot;,&quot;label&quot;:&quot;text:contact&quot;}">Contact GitHub</a></li>
          <li class="mr-3 mr-lg-0"><a href="https://github.com/pricing" data-analytics-event="{&quot;category&quot;:&quot;Footer&quot;,&quot;action&quot;:&quot;go to Pricing&quot;,&quot;label&quot;:&quot;text:Pricing&quot;}">Pricing</a></li>
        <li class="mr-3 mr-lg-0"><a href="https://docs.github.com" data-analytics-event="{&quot;category&quot;:&quot;Footer&quot;,&quot;action&quot;:&quot;go to api&quot;,&quot;label&quot;:&quot;text:api&quot;}">API</a></li>
        <li class="mr-3 mr-lg-0"><a href="https://services.github.com" data-analytics-event="{&quot;category&quot;:&quot;Footer&quot;,&quot;action&quot;:&quot;go to training&quot;,&quot;label&quot;:&quot;text:training&quot;}">Training</a></li>
          <li class="mr-3 mr-lg-0"><a href="https://github.blog" data-analytics-event="{&quot;category&quot;:&quot;Footer&quot;,&quot;action&quot;:&quot;go to blog&quot;,&quot;label&quot;:&quot;text:blog&quot;}">Blog</a></li>
          <li><a data-ga-click="Footer, go to about, text:about" href="https://github.com/about">About</a></li>
      </ul>
    </nav>
  </div>

  <div class="d-flex flex-justify-center pb-6">
    <span class="f6 color-fg-muted"></span>
  </div>
</footer>




  <div id="ajax-error-message" class="ajax-error-message flash flash-error" hidden>
    <svg aria-hidden="true" height="16" viewBox="0 0 16 16" version="1.1" width="16" data-view-component="true" class="octicon octicon-alert">
    <path d="M6.457 1.047c.659-1.234 2.427-1.234 3.086 0l6.082 11.378A1.75 1.75 0 0 1 14.082 15H1.918a1.75 1.75 0 0 1-1.543-2.575Zm1.763.707a.25.25 0 0 0-.44 0L1.698 13.132a.25.25 0 0 0 .22.368h12.164a.25.25 0 0 0 .22-.368Zm.53 3.996v2.5a.75.75 0 0 1-1.5 0v-2.5a.75.75 0 0 1 1.5 0ZM9 11a1 1 0 1 1-2 0 1 1 0 0 1 2 0Z"></path>
</svg>
    <button type="button" class="flash-close js-ajax-error-dismiss" aria-label="Dismiss error">
      <svg aria-hidden="true" height="16" viewBox="0 0 16 16" version="1.1" width="16" data-view-component="true" class="octicon octicon-x">
    <path d="M3.72 3.72a.75.75 0 0 1 1.06 0L8 6.94l3.22-3.22a.749.749 0 0 1 1.275.326.749.749 0 0 1-.215.734L9.06 8l3.22 3.22a.749.749 0 0 1-.326 1.275.749.749 0 0 1-.734-.215L8 9.06l-3.22 3.22a.751.751 0 0 1-1.042-.018.751.751 0 0 1-.018-1.042L6.94 8 3.72 4.78a.75.75 0 0 1 0-1.06Z"></path>
</svg>
    </button>
    You can’t perform that action at this time.
  </div>

  <div class="js-stale-session-flash flash flash-warn flash-banner" hidden
    >
    <svg aria-hidden="true" height="16" viewBox="0 0 16 16" version="1.1" width="16" data-view-component="true" class="octicon octicon-alert">
    <path d="M6.457 1.047c.659-1.234 2.427-1.234 3.086 0l6.082 11.378A1.75 1.75 0 0 1 14.082 15H1.918a1.75 1.75 0 0 1-1.543-2.575Zm1.763.707a.25.25 0 0 0-.44 0L1.698 13.132a.25.25 0 0 0 .22.368h12.164a.25.25 0 0 0 .22-.368Zm.53 3.996v2.5a.75.75 0 0 1-1.5 0v-2.5a.75.75 0 0 1 1.5 0ZM9 11a1 1 0 1 1-2 0 1 1 0 0 1 2 0Z"></path>
</svg>
    <span class="js-stale-session-flash-signed-in" hidden>You signed in with another tab or window. <a href="">Reload</a> to refresh your session.</span>
    <span class="js-stale-session-flash-signed-out" hidden>You signed out in another tab or window. <a href="">Reload</a> to refresh your session.</span>
  </div>
    <template id="site-details-dialog">
  <details class="details-reset details-overlay details-overlay-dark lh-default color-fg-default hx_rsm" open>
    <summary role="button" aria-label="Close dialog"></summary>
    <details-dialog class="Box Box--overlay d-flex flex-column anim-fade-in fast hx_rsm-dialog hx_rsm-modal">
      <button class="Box-btn-octicon m-0 btn-octicon position-absolute right-0 top-0" type="button" aria-label="Close dialog" data-close-dialog>
        <svg aria-hidden="true" height="16" viewBox="0 0 16 16" version="1.1" width="16" data-view-component="true" class="octicon octicon-x">
    <path d="M3.72 3.72a.75.75 0 0 1 1.06 0L8 6.94l3.22-3.22a.749.749 0 0 1 1.275.326.749.749 0 0 1-.215.734L9.06 8l3.22 3.22a.749.749 0 0 1-.326 1.275.749.749 0 0 1-.734-.215L8 9.06l-3.22 3.22a.751.751 0 0 1-1.042-.018.751.751 0 0 1-.018-1.042L6.94 8 3.72 4.78a.75.75 0 0 1 0-1.06Z"></path>
</svg>
      </button>
      <div class="octocat-spinner my-6 js-details-dialog-spinner"></div>
    </details-dialog>
  </details>
</template>

    <div class="Popover js-hovercard-content position-absolute" style="display: none; outline: none;" tabindex="0">
  <div class="Popover-message Popover-message--bottom-left Popover-message--large Box color-shadow-large" style="width:360px;">
  </div>
</div>

    <template id="snippet-clipboard-copy-button">
  <div class="zeroclipboard-container position-absolute right-0 top-0">
    <clipboard-copy aria-label="Copy" class="ClipboardButton btn js-clipboard-copy m-2 p-0 tooltipped-no-delay" data-copy-feedback="Copied!" data-tooltip-direction="w">
      <svg aria-hidden="true" height="16" viewBox="0 0 16 16" version="1.1" width="16" data-view-component="true" class="octicon octicon-copy js-clipboard-copy-icon m-2">
    <path d="M0 6.75C0 5.784.784 5 1.75 5h1.5a.75.75 0 0 1 0 1.5h-1.5a.25.25 0 0 0-.25.25v7.5c0 .138.112.25.25.25h7.5a.25.25 0 0 0 .25-.25v-1.5a.75.75 0 0 1 1.5 0v1.5A1.75 1.75 0 0 1 9.25 16h-7.5A1.75 1.75 0 0 1 0 14.25Z"></path><path d="M5 1.75C5 .784 5.784 0 6.75 0h7.5C15.216 0 16 .784 16 1.75v7.5A1.75 1.75 0 0 1 14.25 11h-7.5A1.75 1.75 0 0 1 5 9.25Zm1.75-.25a.25.25 0 0 0-.25.25v7.5c0 .138.112.25.25.25h7.5a.25.25 0 0 0 .25-.25v-7.5a.25.25 0 0 0-.25-.25Z"></path>
</svg>
      <svg aria-hidden="true" height="16" viewBox="0 0 16 16" version="1.1" width="16" data-view-component="true" class="octicon octicon-check js-clipboard-check-icon color-fg-success d-none m-2">
    <path d="M13.78 4.22a.75.75 0 0 1 0 1.06l-7.25 7.25a.75.75 0 0 1-1.06 0L2.22 9.28a.751.751 0 0 1 .018-1.042.751.751 0 0 1 1.042-.018L6 10.94l6.72-6.72a.75.75 0 0 1 1.06 0Z"></path>
</svg>
    </clipboard-copy>
  </div>
</template>
<template id="snippet-clipboard-copy-button-unpositioned">
  <div class="zeroclipboard-container">
    <clipboard-copy aria-label="Copy" class="ClipboardButton btn btn-invisible js-clipboard-copy m-2 p-0 tooltipped-no-delay d-flex flex-justify-center flex-items-center" data-copy-feedback="Copied!" data-tooltip-direction="w">
      <svg aria-hidden="true" height="16" viewBox="0 0 16 16" version="1.1" width="16" data-view-component="true" class="octicon octicon-copy js-clipboard-copy-icon">
    <path d="M0 6.75C0 5.784.784 5 1.75 5h1.5a.75.75 0 0 1 0 1.5h-1.5a.25.25 0 0 0-.25.25v7.5c0 .138.112.25.25.25h7.5a.25.25 0 0 0 .25-.25v-1.5a.75.75 0 0 1 1.5 0v1.5A1.75 1.75 0 0 1 9.25 16h-7.5A1.75 1.75 0 0 1 0 14.25Z"></path><path d="M5 1.75C5 .784 5.784 0 6.75 0h7.5C15.216 0 16 .784 16 1.75v7.5A1.75 1.75 0 0 1 14.25 11h-7.5A1.75 1.75 0 0 1 5 9.25Zm1.75-.25a.25.25 0 0 0-.25.25v7.5c0 .138.112.25.25.25h7.5a.25.25 0 0 0 .25-.25v-7.5a.25.25 0 0 0-.25-.25Z"></path>
</svg>
      <svg aria-hidden="true" height="16" viewBox="0 0 16 16" version="1.1" width="16" data-view-component="true" class="octicon octicon-check js-clipboard-check-icon color-fg-success d-none">
    <path d="M13.78 4.22a.75.75 0 0 1 0 1.06l-7.25 7.25a.75.75 0 0 1-1.06 0L2.22 9.28a.751.751 0 0 1 .018-1.042.751.751 0 0 1 1.042-.018L6 10.94l6.72-6.72a.75.75 0 0 1 1.06 0Z"></path>
</svg>
    </clipboard-copy>
  </div>
</template>


    <style>
      .user-mention[href$="/vn322"] {
        color: var(--color-user-mention-fg);
        background-color: var(--color-user-mention-bg);
        border-radius: 2px;
        margin-left: -2px;
        margin-right: -2px;
        padding: 0 2px;
      }
    </style>


    </div>

    <div id="js-global-screen-reader-notice" class="sr-only" aria-live="polite" ></div>
  </body>
</html>

