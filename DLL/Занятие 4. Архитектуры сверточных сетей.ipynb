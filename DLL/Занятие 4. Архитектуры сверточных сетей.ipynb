{
  "cells": [
    {
      "cell_type": "markdown",
      "source": [
        "## Архитектуры свёрточных сетей"
      ],
      "metadata": {
        "id": "P7J2ylU2s8v5"
      }
    },
    {
      "cell_type": "code",
      "execution_count": null,
      "metadata": {
        "ExecuteTime": {
          "end_time": "2019-11-18T16:19:19.017474Z",
          "start_time": "2019-11-18T16:19:18.970512Z"
        },
        "id": "y0aUeYwa07Np"
      },
      "outputs": [],
      "source": [
        "import torch\n",
        "from torch import nn\n",
        "import torchvision as tv\n",
        "from torchsummary import summary\n",
        "import time"
      ]
    },
    {
      "cell_type": "code",
      "execution_count": null,
      "metadata": {
        "ExecuteTime": {
          "end_time": "2019-11-18T16:20:21.306023Z",
          "start_time": "2019-11-18T16:20:21.293827Z"
        },
        "id": "uwaCmLfh07Nx"
      },
      "outputs": [],
      "source": [
        "def evaluate_accuracy(data_iter, net):\n",
        "    acc_sum, n = 0, 0\n",
        "    net.eval()\n",
        "    for X, y in data_iter:\n",
        "        X, y = X.to(device), y.to(device)\n",
        "        acc_sum += (net(X).argmax(axis=1) == y).sum()\n",
        "        n += y.shape[0]\n",
        "    return acc_sum.item() / n"
      ]
    },
    {
      "cell_type": "code",
      "execution_count": null,
      "metadata": {
        "ExecuteTime": {
          "end_time": "2019-11-18T16:20:21.693926Z",
          "start_time": "2019-11-18T16:20:21.678441Z"
        },
        "id": "mHmVyS9O07Nz"
      },
      "outputs": [],
      "source": [
        "def train(net, train_iter, test_iter, trainer, num_epochs):\n",
        "    net.to(device)\n",
        "    loss = nn.CrossEntropyLoss(reduction='sum')\n",
        "    net.train()\n",
        "    for epoch in range(num_epochs):\n",
        "        train_l_sum, train_acc_sum, n, start = 0.0, 0.0, 0, time.time()\n",
        "        \n",
        "        for i, (X, y) in enumerate(train_iter):\n",
        "            X, y = X.to(device), y.to(device)\n",
        "            trainer.zero_grad()\n",
        "            y_hat = net(X)\n",
        "            l = loss(y_hat, y)\n",
        "            l.backward()\n",
        "            trainer.step()\n",
        "            train_l_sum += l.item()\n",
        "            train_acc_sum += (y_hat.argmax(axis=1) == y).sum().item()\n",
        "            n += y.shape[0]\n",
        "\n",
        "            if i % 10 == 0:\n",
        "              print(f\"Step {i}. time since epoch: {time.time() -  start:.3f}. \" \n",
        "                    f\"Train acc: {train_acc_sum / n:.3f}. Train Loss: {train_l_sum / n:.3f}\")\n",
        "        test_acc = evaluate_accuracy(test_iter, net.to(device))\n",
        "        print('-' * 20)\n",
        "        print(f'epoch {epoch + 1}, loss {train_l_sum / n:.4f}, train acc {train_acc_sum / n:.3f}'\n",
        "              f', test acc {test_acc:.3f}, time {time.time() - start:.1f} sec')"
      ]
    },
    {
      "cell_type": "code",
      "source": [
        "device = 'cuda' if torch.cuda.is_available() else 'cpu'\n",
        "device"
      ],
      "metadata": {
        "colab": {
          "base_uri": "https://localhost:8080/",
          "height": 36
        },
        "id": "xjRzZazUBBhE",
        "outputId": "94337aed-388f-49cd-cdcf-c491c89d31de"
      },
      "execution_count": null,
      "outputs": [
        {
          "output_type": "execute_result",
          "data": {
            "text/plain": [
              "'cuda'"
            ],
            "application/vnd.google.colaboratory.intrinsic+json": {
              "type": "string"
            }
          },
          "metadata": {},
          "execution_count": 4
        }
      ]
    },
    {
      "cell_type": "markdown",
      "metadata": {
        "id": "GaVsexlm07Ns"
      },
      "source": [
        "## DataSet"
      ]
    },
    {
      "cell_type": "code",
      "execution_count": null,
      "metadata": {
        "ExecuteTime": {
          "end_time": "2019-11-18T16:24:00.569981Z",
          "start_time": "2019-11-18T16:24:00.510393Z"
        },
        "id": "E0-WXQPV07N6"
      },
      "outputs": [],
      "source": [
        "BATCH_SIZE = 256\n",
        "transoforms = tv.transforms.Compose([\n",
        "    tv.transforms.Resize((224, 224)),\n",
        "    tv.transforms.ToTensor()\n",
        "])\n",
        "train_dataset = tv.datasets.MNIST('.', train=True, transform=transoforms, download=True)\n",
        "test_dataset = tv.datasets.MNIST('.', train=False, transform=transoforms, download=True)\n",
        "train_iter = torch.utils.data.DataLoader(train_dataset, batch_size=BATCH_SIZE)\n",
        "test_iter = torch.utils.data.DataLoader(test_dataset, batch_size=BATCH_SIZE)"
      ]
    },
    {
      "cell_type": "markdown",
      "metadata": {
        "id": "kEEyqXdS07N4"
      },
      "source": [
        "## AlexNet"
      ]
    },
    {
      "cell_type": "markdown",
      "source": [
        "<img src='https://drive.google.com/uc?id=1bZRmcjqn0BZVBRXCk_OiQRa991_3rPpw' width=300>"
      ],
      "metadata": {
        "id": "BkSvGwVN-6Pe"
      }
    },
    {
      "cell_type": "code",
      "execution_count": null,
      "metadata": {
        "ExecuteTime": {
          "end_time": "2019-11-18T16:24:01.253461Z",
          "start_time": "2019-11-18T16:24:01.005372Z"
        },
        "id": "0cbvSCg207N7"
      },
      "outputs": [],
      "source": [
        "net = nn.Sequential(\n",
        "    nn.Conv2d(1, 96, kernel_size=11, stride=4),\n",
        "    nn.ReLU(),\n",
        "    nn.MaxPool2d(3, stride=2),\n",
        "    nn.Conv2d(96, 256, kernel_size=5, padding=2),\n",
        "    nn.ReLU(),\n",
        "    nn.MaxPool2d(3, stride=2),\n",
        "    nn.Conv2d(256, 384, kernel_size=3, padding=1),\n",
        "    nn.ReLU(),\n",
        "    nn.Conv2d(384, 384, kernel_size=3, padding=1),\n",
        "    nn.ReLU(),\n",
        "    nn.Conv2d(384, 256, kernel_size=3, padding=1),\n",
        "    nn.ReLU(),\n",
        "    nn.MaxPool2d(3, stride=2),\n",
        "    nn.Flatten(),\n",
        "    nn.Linear(6400, 4096),\n",
        "    nn.ReLU(),\n",
        "    nn.Dropout(0.5),\n",
        "    nn.Linear(4096, 4096),\n",
        "    nn.ReLU(),\n",
        "    nn.Dropout(0.5),\n",
        "    nn.Linear(4096, 10)\n",
        ")"
      ]
    },
    {
      "cell_type": "code",
      "source": [
        "summary(net.to(device), input_size=(1, 224, 224))"
      ],
      "metadata": {
        "colab": {
          "base_uri": "https://localhost:8080/"
        },
        "id": "yqNUDn2R3QyI",
        "outputId": "6d79837c-bab7-4829-d525-55bdf259f4f0"
      },
      "execution_count": null,
      "outputs": [
        {
          "output_type": "stream",
          "name": "stdout",
          "text": [
            "----------------------------------------------------------------\n",
            "        Layer (type)               Output Shape         Param #\n",
            "================================================================\n",
            "            Conv2d-1           [-1, 96, 54, 54]          11,712\n",
            "              ReLU-2           [-1, 96, 54, 54]               0\n",
            "         MaxPool2d-3           [-1, 96, 26, 26]               0\n",
            "            Conv2d-4          [-1, 256, 26, 26]         614,656\n",
            "              ReLU-5          [-1, 256, 26, 26]               0\n",
            "         MaxPool2d-6          [-1, 256, 12, 12]               0\n",
            "            Conv2d-7          [-1, 384, 12, 12]         885,120\n",
            "              ReLU-8          [-1, 384, 12, 12]               0\n",
            "            Conv2d-9          [-1, 384, 12, 12]       1,327,488\n",
            "             ReLU-10          [-1, 384, 12, 12]               0\n",
            "           Conv2d-11          [-1, 256, 12, 12]         884,992\n",
            "             ReLU-12          [-1, 256, 12, 12]               0\n",
            "        MaxPool2d-13            [-1, 256, 5, 5]               0\n",
            "          Flatten-14                 [-1, 6400]               0\n",
            "           Linear-15                 [-1, 4096]      26,218,496\n",
            "             ReLU-16                 [-1, 4096]               0\n",
            "          Dropout-17                 [-1, 4096]               0\n",
            "           Linear-18                 [-1, 4096]      16,781,312\n",
            "             ReLU-19                 [-1, 4096]               0\n",
            "          Dropout-20                 [-1, 4096]               0\n",
            "           Linear-21                   [-1, 10]          40,970\n",
            "================================================================\n",
            "Total params: 46,764,746\n",
            "Trainable params: 46,764,746\n",
            "Non-trainable params: 0\n",
            "----------------------------------------------------------------\n",
            "Input size (MB): 0.19\n",
            "Forward/backward pass size (MB): 10.22\n",
            "Params size (MB): 178.39\n",
            "Estimated Total Size (MB): 188.81\n",
            "----------------------------------------------------------------\n"
          ]
        }
      ]
    },
    {
      "cell_type": "code",
      "execution_count": null,
      "metadata": {
        "ExecuteTime": {
          "end_time": "2019-11-18T16:24:45.386340Z",
          "start_time": "2019-11-18T16:24:01.447105Z"
        },
        "colab": {
          "base_uri": "https://localhost:8080/"
        },
        "id": "nEKDoDDr07N9",
        "outputId": "a3f12d13-5ee9-4052-f528-2687e8654f09"
      },
      "outputs": [
        {
          "output_type": "stream",
          "name": "stdout",
          "text": [
            "Step 0. time since epoch: 0.523. Train acc: 0.125. Train Loss: 2.303\n",
            "Step 10. time since epoch: 4.459. Train acc: 0.113. Train Loss: 2.340\n",
            "Step 20. time since epoch: 8.556. Train acc: 0.177. Train Loss: 2.259\n",
            "Step 30. time since epoch: 12.948. Train acc: 0.291. Train Loss: 1.979\n",
            "Step 40. time since epoch: 15.751. Train acc: 0.398. Train Loss: 1.706\n",
            "Step 50. time since epoch: 18.577. Train acc: 0.479. Train Loss: 1.484\n",
            "Step 60. time since epoch: 21.396. Train acc: 0.543. Train Loss: 1.310\n",
            "Step 70. time since epoch: 24.197. Train acc: 0.592. Train Loss: 1.170\n",
            "Step 80. time since epoch: 27.002. Train acc: 0.634. Train Loss: 1.052\n",
            "Step 90. time since epoch: 29.833. Train acc: 0.667. Train Loss: 0.960\n",
            "Step 100. time since epoch: 32.833. Train acc: 0.694. Train Loss: 0.884\n",
            "Step 110. time since epoch: 35.656. Train acc: 0.717. Train Loss: 0.820\n",
            "Step 120. time since epoch: 38.496. Train acc: 0.736. Train Loss: 0.765\n",
            "Step 130. time since epoch: 41.317. Train acc: 0.754. Train Loss: 0.716\n",
            "Step 140. time since epoch: 44.161. Train acc: 0.768. Train Loss: 0.674\n",
            "Step 150. time since epoch: 46.993. Train acc: 0.781. Train Loss: 0.638\n",
            "Step 160. time since epoch: 49.844. Train acc: 0.792. Train Loss: 0.606\n",
            "Step 170. time since epoch: 52.681. Train acc: 0.803. Train Loss: 0.577\n",
            "Step 180. time since epoch: 55.537. Train acc: 0.811. Train Loss: 0.552\n",
            "Step 190. time since epoch: 58.359. Train acc: 0.819. Train Loss: 0.529\n",
            "Step 200. time since epoch: 61.228. Train acc: 0.827. Train Loss: 0.507\n",
            "Step 210. time since epoch: 64.115. Train acc: 0.834. Train Loss: 0.488\n",
            "Step 220. time since epoch: 66.970. Train acc: 0.840. Train Loss: 0.469\n",
            "Step 230. time since epoch: 69.851. Train acc: 0.846. Train Loss: 0.451\n",
            "--------------------\n",
            "epoch 1, loss 0.4460, train acc 0.848, test acc 0.982, time 75.7 sec\n"
          ]
        }
      ],
      "source": [
        "lr, num_epochs  = 0.001, 1\n",
        "trainer = torch.optim.Adam(net.parameters(), lr=lr)\n",
        "train(net, train_iter, test_iter, trainer, num_epochs)"
      ]
    },
    {
      "cell_type": "markdown",
      "metadata": {
        "id": "W0gHio8607N9"
      },
      "source": [
        "## VGG"
      ]
    },
    {
      "cell_type": "markdown",
      "source": [
        "<img src='https://drive.google.com/uc?id=1xE_QWszsSEA6fOEcadBsrmHOMZOs7aDr' width=300>"
      ],
      "metadata": {
        "id": "-2tlzCvQ_DFv"
      }
    },
    {
      "cell_type": "code",
      "execution_count": null,
      "metadata": {
        "ExecuteTime": {
          "end_time": "2019-11-18T16:33:15.808035Z",
          "start_time": "2019-11-18T16:33:15.795879Z"
        },
        "id": "FYZX4-vq07N-"
      },
      "outputs": [],
      "source": [
        "def vgg_block(num_convs, input_channels, num_channels):\n",
        "    blk = nn.Sequential(nn.Conv2d(input_channels, num_channels, kernel_size=3, padding=1), nn.ReLU())\n",
        "    for i in range(num_convs - 1):\n",
        "        blk.add_module(\"conv{}\".format(i), nn.Conv2d(num_channels, num_channels, kernel_size=3, padding=1))\n",
        "        blk.add_module(\"relu{}\".format(i), nn.ReLU())\n",
        "    blk.add_module(\"pool\", nn.MaxPool2d(2, stride=2))\n",
        "    return blk"
      ]
    },
    {
      "cell_type": "code",
      "execution_count": null,
      "metadata": {
        "ExecuteTime": {
          "end_time": "2019-11-18T16:39:16.358809Z",
          "start_time": "2019-11-18T16:39:16.040029Z"
        },
        "id": "bLhm6skI07OA"
      },
      "outputs": [],
      "source": [
        "def vgg(conv_arch):\n",
        "    net = nn.Sequential()\n",
        "\n",
        "    for i, (num_convs, input_ch, num_channels) in enumerate(conv_arch):\n",
        "        net.add_module(\"block{}\".format(i), vgg_block(num_convs, input_ch, num_channels))\n",
        "\n",
        "    \n",
        "    classifier = nn.Sequential(\n",
        "        nn.Flatten(),\n",
        "        \n",
        "        # nn.Linear(25088, 4096), nn.ReLU(), nn.Dropout(0.5),\n",
        "        nn.Linear(6272, 4096), nn.ReLU(), nn.Dropout(0.5),\n",
        "\n",
        "        nn.Linear(4096, 4096), nn.ReLU(), nn.Dropout(0.5),\n",
        "        nn.Linear(4096, 10))\n",
        "\n",
        "    net.add_module('classifier', classifier)\n",
        "    return net"
      ]
    },
    {
      "cell_type": "code",
      "execution_count": null,
      "metadata": {
        "ExecuteTime": {
          "end_time": "2019-11-18T16:35:30.287348Z",
          "start_time": "2019-11-18T16:35:30.283452Z"
        },
        "id": "S87cemXX07N_"
      },
      "outputs": [],
      "source": [
        "conv_arch = ((1, 1, 64), (1, 64, 128), (2, 128, 256), (2, 256, 512), (2, 512, 512))"
      ]
    },
    {
      "cell_type": "code",
      "execution_count": null,
      "metadata": {
        "ExecuteTime": {
          "end_time": "2019-11-18T16:39:32.280283Z",
          "start_time": "2019-11-18T16:39:31.939284Z"
        },
        "id": "vbWtRX6J07OD"
      },
      "outputs": [],
      "source": [
        "ratio = 4\n",
        "small_conv_arch = [(v[0], max(v[1] // ratio, 1), v[2] // ratio) for v in conv_arch]\n",
        "net = vgg(small_conv_arch)"
      ]
    },
    {
      "cell_type": "code",
      "source": [
        "summary(net.to(device), input_size=(1, 224, 224))"
      ],
      "metadata": {
        "colab": {
          "base_uri": "https://localhost:8080/"
        },
        "id": "q6m3q_Tt3aFD",
        "outputId": "e57dff0b-efef-4ad8-fb57-2c59ecff0025"
      },
      "execution_count": null,
      "outputs": [
        {
          "output_type": "stream",
          "name": "stdout",
          "text": [
            "----------------------------------------------------------------\n",
            "        Layer (type)               Output Shape         Param #\n",
            "================================================================\n",
            "            Conv2d-1         [-1, 16, 224, 224]             160\n",
            "              ReLU-2         [-1, 16, 224, 224]               0\n",
            "         MaxPool2d-3         [-1, 16, 112, 112]               0\n",
            "            Conv2d-4         [-1, 32, 112, 112]           4,640\n",
            "              ReLU-5         [-1, 32, 112, 112]               0\n",
            "         MaxPool2d-6           [-1, 32, 56, 56]               0\n",
            "            Conv2d-7           [-1, 64, 56, 56]          18,496\n",
            "              ReLU-8           [-1, 64, 56, 56]               0\n",
            "            Conv2d-9           [-1, 64, 56, 56]          36,928\n",
            "             ReLU-10           [-1, 64, 56, 56]               0\n",
            "        MaxPool2d-11           [-1, 64, 28, 28]               0\n",
            "           Conv2d-12          [-1, 128, 28, 28]          73,856\n",
            "             ReLU-13          [-1, 128, 28, 28]               0\n",
            "           Conv2d-14          [-1, 128, 28, 28]         147,584\n",
            "             ReLU-15          [-1, 128, 28, 28]               0\n",
            "        MaxPool2d-16          [-1, 128, 14, 14]               0\n",
            "           Conv2d-17          [-1, 128, 14, 14]         147,584\n",
            "             ReLU-18          [-1, 128, 14, 14]               0\n",
            "           Conv2d-19          [-1, 128, 14, 14]         147,584\n",
            "             ReLU-20          [-1, 128, 14, 14]               0\n",
            "        MaxPool2d-21            [-1, 128, 7, 7]               0\n",
            "          Flatten-22                 [-1, 6272]               0\n",
            "           Linear-23                 [-1, 4096]      25,694,208\n",
            "             ReLU-24                 [-1, 4096]               0\n",
            "          Dropout-25                 [-1, 4096]               0\n",
            "           Linear-26                 [-1, 4096]      16,781,312\n",
            "             ReLU-27                 [-1, 4096]               0\n",
            "          Dropout-28                 [-1, 4096]               0\n",
            "           Linear-29                   [-1, 10]          40,970\n",
            "================================================================\n",
            "Total params: 43,093,322\n",
            "Trainable params: 43,093,322\n",
            "Non-trainable params: 0\n",
            "----------------------------------------------------------------\n",
            "Input size (MB): 0.19\n",
            "Forward/backward pass size (MB): 31.48\n",
            "Params size (MB): 164.39\n",
            "Estimated Total Size (MB): 196.06\n",
            "----------------------------------------------------------------\n"
          ]
        }
      ]
    },
    {
      "cell_type": "code",
      "execution_count": null,
      "metadata": {
        "ExecuteTime": {
          "end_time": "2019-11-18T16:41:08.457065Z",
          "start_time": "2019-11-18T16:40:17.572925Z"
        },
        "colab": {
          "base_uri": "https://localhost:8080/"
        },
        "id": "9ZpYFnUO07OF",
        "outputId": "76f648ce-f1e6-4e99-9828-855643576b5f"
      },
      "outputs": [
        {
          "output_type": "stream",
          "name": "stdout",
          "text": [
            "Step 0. time since epoch: 0.651. Train acc: 0.113. Train Loss: 2.303\n",
            "Step 10. time since epoch: 5.161. Train acc: 0.112. Train Loss: 2.303\n",
            "Step 20. time since epoch: 9.661. Train acc: 0.139. Train Loss: 2.283\n",
            "Step 30. time since epoch: 14.173. Train acc: 0.246. Train Loss: 2.064\n",
            "Step 40. time since epoch: 18.685. Train acc: 0.358. Train Loss: 1.765\n",
            "Step 50. time since epoch: 23.213. Train acc: 0.446. Train Loss: 1.530\n",
            "Step 60. time since epoch: 27.740. Train acc: 0.516. Train Loss: 1.346\n",
            "Step 70. time since epoch: 32.278. Train acc: 0.572. Train Loss: 1.194\n",
            "Step 80. time since epoch: 36.844. Train acc: 0.618. Train Loss: 1.070\n",
            "Step 90. time since epoch: 41.417. Train acc: 0.655. Train Loss: 0.970\n",
            "Step 100. time since epoch: 46.017. Train acc: 0.684. Train Loss: 0.889\n",
            "Step 110. time since epoch: 50.581. Train acc: 0.709. Train Loss: 0.823\n",
            "Step 120. time since epoch: 55.136. Train acc: 0.729. Train Loss: 0.766\n",
            "Step 130. time since epoch: 59.668. Train acc: 0.747. Train Loss: 0.718\n",
            "Step 140. time since epoch: 64.216. Train acc: 0.763. Train Loss: 0.674\n",
            "Step 150. time since epoch: 68.746. Train acc: 0.776. Train Loss: 0.635\n",
            "Step 160. time since epoch: 73.275. Train acc: 0.789. Train Loss: 0.601\n",
            "Step 170. time since epoch: 77.811. Train acc: 0.799. Train Loss: 0.572\n",
            "Step 180. time since epoch: 82.319. Train acc: 0.809. Train Loss: 0.546\n",
            "Step 190. time since epoch: 86.819. Train acc: 0.817. Train Loss: 0.522\n",
            "Step 200. time since epoch: 91.349. Train acc: 0.824. Train Loss: 0.501\n",
            "Step 210. time since epoch: 95.859. Train acc: 0.832. Train Loss: 0.482\n",
            "Step 220. time since epoch: 100.372. Train acc: 0.838. Train Loss: 0.464\n",
            "Step 230. time since epoch: 104.904. Train acc: 0.844. Train Loss: 0.445\n",
            "--------------------\n",
            "epoch 1, loss 0.4401, train acc 0.846, test acc 0.981, time 111.3 sec\n"
          ]
        }
      ],
      "source": [
        "lr, num_epochs = 0.001, 1\n",
        "trainer = torch.optim.Adam(net.parameters(), lr=lr)\n",
        "train(net, train_iter, test_iter, trainer, num_epochs)"
      ]
    },
    {
      "cell_type": "markdown",
      "metadata": {
        "id": "nUjy_gh407OG"
      },
      "source": [
        "## NiN"
      ]
    },
    {
      "cell_type": "markdown",
      "source": [
        "<img src='https://drive.google.com/uc?id=1V58tBxw-_dSyGGgdKhe-Um5yYWgrNYBX' width=400>"
      ],
      "metadata": {
        "id": "p8Hb0Cbq_POe"
      }
    },
    {
      "cell_type": "code",
      "execution_count": null,
      "metadata": {
        "ExecuteTime": {
          "end_time": "2019-11-18T16:55:01.945030Z",
          "start_time": "2019-11-18T16:55:01.937207Z"
        },
        "id": "UWGmw8Go07OG"
      },
      "outputs": [],
      "source": [
        "def nin_block(input_channels, num_channels, kernel_size, strides, padding):\n",
        "    blk = nn.Sequential(\n",
        "          nn.Conv2d(input_channels, num_channels, kernel_size, strides, padding),\n",
        "          nn.ReLU(),\n",
        "          nn.Conv2d(num_channels, num_channels, kernel_size=1),\n",
        "          nn.ReLU(),\n",
        "          nn.Conv2d(num_channels, num_channels, kernel_size=1),\n",
        "          nn.ReLU()\n",
        "    )\n",
        "    return blk"
      ]
    },
    {
      "cell_type": "code",
      "execution_count": null,
      "metadata": {
        "ExecuteTime": {
          "end_time": "2019-11-18T16:55:56.351798Z",
          "start_time": "2019-11-18T16:55:56.323655Z"
        },
        "id": "wBxUvpph07OG"
      },
      "outputs": [],
      "source": [
        "net = nn.Sequential(\n",
        "    nin_block(1, 96, kernel_size=11, strides=4, padding=0),\n",
        "    nn.MaxPool2d(3, stride=2),\n",
        "    nin_block(96, 256, kernel_size=5, strides=1, padding=2),\n",
        "    nn.MaxPool2d(3, stride=2),\n",
        "    nin_block(256, 384, kernel_size=3, strides=1, padding=1),\n",
        "    nn.MaxPool2d(3, stride=2),\n",
        "    nn.Dropout(0.5),\n",
        "    nin_block(384, 10, kernel_size=3, strides=1, padding=1),\n",
        "    nn.AvgPool2d(5),\n",
        "    nn.Flatten()\n",
        ")"
      ]
    },
    {
      "cell_type": "code",
      "source": [
        "summary(net.to(device), input_size=(1, 224, 224))"
      ],
      "metadata": {
        "colab": {
          "base_uri": "https://localhost:8080/"
        },
        "id": "FcKGvkEf4R_2",
        "outputId": "287b3d97-b425-4c44-98dc-a1be8ceb3db8"
      },
      "execution_count": null,
      "outputs": [
        {
          "output_type": "stream",
          "name": "stdout",
          "text": [
            "----------------------------------------------------------------\n",
            "        Layer (type)               Output Shape         Param #\n",
            "================================================================\n",
            "            Conv2d-1           [-1, 96, 54, 54]          11,712\n",
            "              ReLU-2           [-1, 96, 54, 54]               0\n",
            "            Conv2d-3           [-1, 96, 54, 54]           9,312\n",
            "              ReLU-4           [-1, 96, 54, 54]               0\n",
            "            Conv2d-5           [-1, 96, 54, 54]           9,312\n",
            "              ReLU-6           [-1, 96, 54, 54]               0\n",
            "         MaxPool2d-7           [-1, 96, 26, 26]               0\n",
            "            Conv2d-8          [-1, 256, 26, 26]         614,656\n",
            "              ReLU-9          [-1, 256, 26, 26]               0\n",
            "           Conv2d-10          [-1, 256, 26, 26]          65,792\n",
            "             ReLU-11          [-1, 256, 26, 26]               0\n",
            "           Conv2d-12          [-1, 256, 26, 26]          65,792\n",
            "             ReLU-13          [-1, 256, 26, 26]               0\n",
            "        MaxPool2d-14          [-1, 256, 12, 12]               0\n",
            "           Conv2d-15          [-1, 384, 12, 12]         885,120\n",
            "             ReLU-16          [-1, 384, 12, 12]               0\n",
            "           Conv2d-17          [-1, 384, 12, 12]         147,840\n",
            "             ReLU-18          [-1, 384, 12, 12]               0\n",
            "           Conv2d-19          [-1, 384, 12, 12]         147,840\n",
            "             ReLU-20          [-1, 384, 12, 12]               0\n",
            "        MaxPool2d-21            [-1, 384, 5, 5]               0\n",
            "          Dropout-22            [-1, 384, 5, 5]               0\n",
            "           Conv2d-23             [-1, 10, 5, 5]          34,570\n",
            "             ReLU-24             [-1, 10, 5, 5]               0\n",
            "           Conv2d-25             [-1, 10, 5, 5]             110\n",
            "             ReLU-26             [-1, 10, 5, 5]               0\n",
            "           Conv2d-27             [-1, 10, 5, 5]             110\n",
            "             ReLU-28             [-1, 10, 5, 5]               0\n",
            "        AvgPool2d-29             [-1, 10, 1, 1]               0\n",
            "          Flatten-30                   [-1, 10]               0\n",
            "================================================================\n",
            "Total params: 1,992,166\n",
            "Trainable params: 1,992,166\n",
            "Non-trainable params: 0\n",
            "----------------------------------------------------------------\n",
            "Input size (MB): 0.19\n",
            "Forward/backward pass size (MB): 24.20\n",
            "Params size (MB): 7.60\n",
            "Estimated Total Size (MB): 31.99\n",
            "----------------------------------------------------------------\n"
          ]
        }
      ]
    },
    {
      "cell_type": "code",
      "execution_count": null,
      "metadata": {
        "ExecuteTime": {
          "end_time": "2019-11-18T16:56:41.832949Z",
          "start_time": "2019-11-18T16:56:01.052982Z"
        },
        "colab": {
          "base_uri": "https://localhost:8080/"
        },
        "id": "YFiwKb1A07OH",
        "outputId": "47c5196f-85b8-4f8d-baf5-c10fdc2ec6c6"
      },
      "outputs": [
        {
          "output_type": "stream",
          "name": "stdout",
          "text": [
            "Step 0. time since epoch: 0.412. Train acc: 0.094. Train Loss: 2.314\n",
            "Step 10. time since epoch: 3.955. Train acc: 0.095. Train Loss: 2.307\n",
            "Step 20. time since epoch: 7.550. Train acc: 0.097. Train Loss: 2.306\n",
            "Step 30. time since epoch: 11.085. Train acc: 0.098. Train Loss: 2.306\n",
            "Step 40. time since epoch: 14.590. Train acc: 0.099. Train Loss: 2.305\n",
            "Step 50. time since epoch: 18.152. Train acc: 0.106. Train Loss: 2.303\n",
            "Step 60. time since epoch: 21.641. Train acc: 0.111. Train Loss: 2.302\n",
            "Step 70. time since epoch: 25.143. Train acc: 0.117. Train Loss: 2.296\n",
            "Step 80. time since epoch: 28.670. Train acc: 0.121. Train Loss: 2.280\n",
            "Step 90. time since epoch: 32.588. Train acc: 0.129. Train Loss: 2.263\n",
            "Step 100. time since epoch: 36.911. Train acc: 0.134. Train Loss: 2.250\n",
            "Step 110. time since epoch: 41.000. Train acc: 0.141. Train Loss: 2.231\n",
            "Step 120. time since epoch: 44.768. Train acc: 0.148. Train Loss: 2.210\n",
            "Step 130. time since epoch: 48.327. Train acc: 0.155. Train Loss: 2.191\n",
            "Step 140. time since epoch: 51.920. Train acc: 0.164. Train Loss: 2.166\n",
            "Step 150. time since epoch: 55.456. Train acc: 0.176. Train Loss: 2.140\n",
            "Step 160. time since epoch: 59.019. Train acc: 0.189. Train Loss: 2.115\n",
            "Step 170. time since epoch: 62.531. Train acc: 0.200. Train Loss: 2.092\n",
            "Step 180. time since epoch: 66.298. Train acc: 0.210. Train Loss: 2.070\n",
            "Step 190. time since epoch: 69.790. Train acc: 0.220. Train Loss: 2.048\n",
            "Step 200. time since epoch: 73.282. Train acc: 0.228. Train Loss: 2.033\n",
            "Step 210. time since epoch: 76.869. Train acc: 0.235. Train Loss: 2.016\n",
            "Step 220. time since epoch: 80.914. Train acc: 0.243. Train Loss: 1.999\n",
            "Step 230. time since epoch: 84.855. Train acc: 0.251. Train Loss: 1.982\n",
            "--------------------\n",
            "epoch 1, loss 1.9760, train acc 0.254, test acc 0.430, time 90.9 sec\n"
          ]
        }
      ],
      "source": [
        "lr, num_epochs = 0.001, 1\n",
        "trainer = torch.optim.Adam(net.parameters(), lr=lr)\n",
        "train(net, train_iter, test_iter, trainer, num_epochs)"
      ]
    },
    {
      "cell_type": "markdown",
      "metadata": {
        "id": "Ty7CzAxt07OI"
      },
      "source": [
        "## GoogleLeNet"
      ]
    },
    {
      "cell_type": "markdown",
      "source": [
        "<img src='https://drive.google.com/uc?id=1uus6Ytrlp-uhN_t5qQrzrG5y7R7BlnoE'>"
      ],
      "metadata": {
        "id": "T1bgkjmF87Qb"
      }
    },
    {
      "cell_type": "code",
      "execution_count": null,
      "metadata": {
        "ExecuteTime": {
          "end_time": "2019-11-18T17:08:12.092643Z",
          "start_time": "2019-11-18T17:08:12.087776Z"
        },
        "colab": {
          "base_uri": "https://localhost:8080/"
        },
        "id": "r36PoSxw07OI",
        "outputId": "2933f207-f8af-4d4e-c064-62b06b3bbe00"
      },
      "outputs": [
        {
          "output_type": "execute_result",
          "data": {
            "text/plain": [
              "torch.nn.modules.module.Module"
            ]
          },
          "metadata": {},
          "execution_count": 19
        }
      ],
      "source": [
        "nn.Module"
      ]
    },
    {
      "cell_type": "code",
      "execution_count": null,
      "metadata": {
        "ExecuteTime": {
          "end_time": "2019-11-17T13:29:01.329069Z",
          "start_time": "2019-11-17T13:29:01.317911Z"
        },
        "id": "TqfsNY3N07OI"
      },
      "outputs": [],
      "source": [
        "class Inception(nn.Module):\n",
        "    def __init__(self, ic, c1, c2, c3, c4, **kwargs):\n",
        "        super(Inception, self).__init__(**kwargs)\n",
        "        self.p1_1 = nn.Sequential(nn.Conv2d(ic, c1, kernel_size=1), nn.ReLU())\n",
        "        self.p2_1 = nn.Sequential(nn.Conv2d(ic, c2[0], kernel_size=1), nn.ReLU())\n",
        "        self.p2_2 = nn.Sequential(nn.Conv2d(c2[0], c2[1], kernel_size=3, padding=1), nn.ReLU())\n",
        "        self.p3_1 = nn.Sequential(nn.Conv2d(ic, c3[0], kernel_size=1), nn.ReLU())\n",
        "        self.p3_2 = nn.Sequential(nn.Conv2d(c3[0], c3[1], kernel_size=5, padding=2), nn.ReLU())\n",
        "        self.p4_1 = nn.Sequential(nn.MaxPool2d(3, stride=1, padding=1))\n",
        "        self.p4_2 = nn.Sequential(nn.Conv2d(ic, c4, kernel_size=1), nn.ReLU())\n",
        "\n",
        "    def forward(self, x):\n",
        "        p1 = self.p1_1(x)\n",
        "        p2 = self.p2_2(self.p2_1(x))\n",
        "        p3 = self.p3_2(self.p3_1(x))\n",
        "        p4 = self.p4_2(self.p4_1(x))\n",
        "        # Concatenate the outputs on the channel dimension.\n",
        "        return torch.cat((p1, p2, p3, p4), dim=1)"
      ]
    },
    {
      "cell_type": "markdown",
      "source": [
        "<img src='https://drive.google.com/uc?id=1d8Fza-TWg4zRGQVIruPtgxbyniAQTPqB' width=400>"
      ],
      "metadata": {
        "id": "8qzhb_og9nhO"
      }
    },
    {
      "cell_type": "code",
      "execution_count": null,
      "metadata": {
        "ExecuteTime": {
          "end_time": "2019-11-17T13:29:01.480962Z",
          "start_time": "2019-11-17T13:29:01.476713Z"
        },
        "id": "KSRXnR5I07OJ"
      },
      "outputs": [],
      "source": [
        "b1 = nn.Sequential(nn.Conv2d(1, 64, kernel_size=7, stride=2, padding=3), nn.ReLU(),\n",
        "       nn.MaxPool2d(3, stride=2, padding=1))"
      ]
    },
    {
      "cell_type": "code",
      "execution_count": null,
      "metadata": {
        "ExecuteTime": {
          "end_time": "2019-11-17T13:29:01.626101Z",
          "start_time": "2019-11-17T13:29:01.620836Z"
        },
        "id": "Ubx0qQKt07OJ"
      },
      "outputs": [],
      "source": [
        "b2 = nn.Sequential(\n",
        "       nn.Conv2d(64, 64, kernel_size=1),\n",
        "       nn.Conv2d(64, 192, kernel_size=3, padding=1),\n",
        "       nn.MaxPool2d(3, stride=2, padding=1))"
      ]
    },
    {
      "cell_type": "code",
      "execution_count": null,
      "metadata": {
        "ExecuteTime": {
          "end_time": "2019-11-17T13:30:56.752212Z",
          "start_time": "2019-11-17T13:30:56.741605Z"
        },
        "id": "T9rz2pzL07OK"
      },
      "outputs": [],
      "source": [
        "b3 = nn.Sequential(\n",
        "       Inception(192, 64, (96, 128), (16, 32), 32),\n",
        "       Inception(256, 128, (128, 192), (32, 96), 64),\n",
        "       nn.MaxPool2d(3, stride=2, padding=1))"
      ]
    },
    {
      "cell_type": "markdown",
      "source": [
        "<img src='https://drive.google.com/uc?id=1UALYarkmGMEqThI7E15J7II850OVUkT7' width=400>"
      ],
      "metadata": {
        "id": "4YFslpc7-HRF"
      }
    },
    {
      "cell_type": "code",
      "execution_count": null,
      "metadata": {
        "ExecuteTime": {
          "end_time": "2019-11-17T13:34:33.986895Z",
          "start_time": "2019-11-17T13:34:33.949995Z"
        },
        "id": "fEytqM0807OK"
      },
      "outputs": [],
      "source": [
        "b4 = nn.Sequential(\n",
        "       Inception(480, 192, (96, 208), (16, 48), 64),\n",
        "       Inception(512, 160, (112, 224), (24, 64), 64),\n",
        "       Inception(512, 128, (128, 256), (24, 64), 64),\n",
        "       Inception(512, 112, (144, 288), (32, 64), 64),\n",
        "       Inception(528, 256, (160, 320), (32, 128), 128),\n",
        "       nn.MaxPool2d(3, stride=2, padding=1))"
      ]
    },
    {
      "cell_type": "code",
      "execution_count": null,
      "metadata": {
        "ExecuteTime": {
          "end_time": "2019-11-17T13:34:49.151063Z",
          "start_time": "2019-11-17T13:34:49.120596Z"
        },
        "id": "M68UFgJe07OL"
      },
      "outputs": [],
      "source": [
        "b5 = nn.Sequential(\n",
        "       Inception(832, 256, (160, 320), (32, 128), 128),\n",
        "       Inception(832, 384, (192, 384), (48, 128), 128),\n",
        "       nn.AvgPool2d(7))"
      ]
    },
    {
      "cell_type": "code",
      "execution_count": null,
      "metadata": {
        "ExecuteTime": {
          "end_time": "2019-11-17T13:35:35.796920Z",
          "start_time": "2019-11-17T13:35:35.792707Z"
        },
        "id": "6zre75Zo07OM"
      },
      "outputs": [],
      "source": [
        "net = nn.Sequential(b1, b2, b3, b4, b5, nn.Flatten(), nn.Linear(1024, 10))"
      ]
    },
    {
      "cell_type": "code",
      "source": [
        "summary(net.to(device), input_size=(1, 224, 224))"
      ],
      "metadata": {
        "colab": {
          "base_uri": "https://localhost:8080/"
        },
        "id": "GkiIn1Md-M2w",
        "outputId": "b684c30d-c626-4010-a5bb-ea57cc701f5d"
      },
      "execution_count": null,
      "outputs": [
        {
          "output_type": "stream",
          "name": "stdout",
          "text": [
            "----------------------------------------------------------------\n",
            "        Layer (type)               Output Shape         Param #\n",
            "================================================================\n",
            "            Conv2d-1         [-1, 64, 112, 112]           3,200\n",
            "              ReLU-2         [-1, 64, 112, 112]               0\n",
            "         MaxPool2d-3           [-1, 64, 56, 56]               0\n",
            "            Conv2d-4           [-1, 64, 56, 56]           4,160\n",
            "            Conv2d-5          [-1, 192, 56, 56]         110,784\n",
            "         MaxPool2d-6          [-1, 192, 28, 28]               0\n",
            "            Conv2d-7           [-1, 64, 28, 28]          12,352\n",
            "              ReLU-8           [-1, 64, 28, 28]               0\n",
            "            Conv2d-9           [-1, 96, 28, 28]          18,528\n",
            "             ReLU-10           [-1, 96, 28, 28]               0\n",
            "           Conv2d-11          [-1, 128, 28, 28]         110,720\n",
            "             ReLU-12          [-1, 128, 28, 28]               0\n",
            "           Conv2d-13           [-1, 16, 28, 28]           3,088\n",
            "             ReLU-14           [-1, 16, 28, 28]               0\n",
            "           Conv2d-15           [-1, 32, 28, 28]          12,832\n",
            "             ReLU-16           [-1, 32, 28, 28]               0\n",
            "        MaxPool2d-17          [-1, 192, 28, 28]               0\n",
            "           Conv2d-18           [-1, 32, 28, 28]           6,176\n",
            "             ReLU-19           [-1, 32, 28, 28]               0\n",
            "        Inception-20          [-1, 256, 28, 28]               0\n",
            "           Conv2d-21          [-1, 128, 28, 28]          32,896\n",
            "             ReLU-22          [-1, 128, 28, 28]               0\n",
            "           Conv2d-23          [-1, 128, 28, 28]          32,896\n",
            "             ReLU-24          [-1, 128, 28, 28]               0\n",
            "           Conv2d-25          [-1, 192, 28, 28]         221,376\n",
            "             ReLU-26          [-1, 192, 28, 28]               0\n",
            "           Conv2d-27           [-1, 32, 28, 28]           8,224\n",
            "             ReLU-28           [-1, 32, 28, 28]               0\n",
            "           Conv2d-29           [-1, 96, 28, 28]          76,896\n",
            "             ReLU-30           [-1, 96, 28, 28]               0\n",
            "        MaxPool2d-31          [-1, 256, 28, 28]               0\n",
            "           Conv2d-32           [-1, 64, 28, 28]          16,448\n",
            "             ReLU-33           [-1, 64, 28, 28]               0\n",
            "        Inception-34          [-1, 480, 28, 28]               0\n",
            "        MaxPool2d-35          [-1, 480, 14, 14]               0\n",
            "           Conv2d-36          [-1, 192, 14, 14]          92,352\n",
            "             ReLU-37          [-1, 192, 14, 14]               0\n",
            "           Conv2d-38           [-1, 96, 14, 14]          46,176\n",
            "             ReLU-39           [-1, 96, 14, 14]               0\n",
            "           Conv2d-40          [-1, 208, 14, 14]         179,920\n",
            "             ReLU-41          [-1, 208, 14, 14]               0\n",
            "           Conv2d-42           [-1, 16, 14, 14]           7,696\n",
            "             ReLU-43           [-1, 16, 14, 14]               0\n",
            "           Conv2d-44           [-1, 48, 14, 14]          19,248\n",
            "             ReLU-45           [-1, 48, 14, 14]               0\n",
            "        MaxPool2d-46          [-1, 480, 14, 14]               0\n",
            "           Conv2d-47           [-1, 64, 14, 14]          30,784\n",
            "             ReLU-48           [-1, 64, 14, 14]               0\n",
            "        Inception-49          [-1, 512, 14, 14]               0\n",
            "           Conv2d-50          [-1, 160, 14, 14]          82,080\n",
            "             ReLU-51          [-1, 160, 14, 14]               0\n",
            "           Conv2d-52          [-1, 112, 14, 14]          57,456\n",
            "             ReLU-53          [-1, 112, 14, 14]               0\n",
            "           Conv2d-54          [-1, 224, 14, 14]         226,016\n",
            "             ReLU-55          [-1, 224, 14, 14]               0\n",
            "           Conv2d-56           [-1, 24, 14, 14]          12,312\n",
            "             ReLU-57           [-1, 24, 14, 14]               0\n",
            "           Conv2d-58           [-1, 64, 14, 14]          38,464\n",
            "             ReLU-59           [-1, 64, 14, 14]               0\n",
            "        MaxPool2d-60          [-1, 512, 14, 14]               0\n",
            "           Conv2d-61           [-1, 64, 14, 14]          32,832\n",
            "             ReLU-62           [-1, 64, 14, 14]               0\n",
            "        Inception-63          [-1, 512, 14, 14]               0\n",
            "           Conv2d-64          [-1, 128, 14, 14]          65,664\n",
            "             ReLU-65          [-1, 128, 14, 14]               0\n",
            "           Conv2d-66          [-1, 128, 14, 14]          65,664\n",
            "             ReLU-67          [-1, 128, 14, 14]               0\n",
            "           Conv2d-68          [-1, 256, 14, 14]         295,168\n",
            "             ReLU-69          [-1, 256, 14, 14]               0\n",
            "           Conv2d-70           [-1, 24, 14, 14]          12,312\n",
            "             ReLU-71           [-1, 24, 14, 14]               0\n",
            "           Conv2d-72           [-1, 64, 14, 14]          38,464\n",
            "             ReLU-73           [-1, 64, 14, 14]               0\n",
            "        MaxPool2d-74          [-1, 512, 14, 14]               0\n",
            "           Conv2d-75           [-1, 64, 14, 14]          32,832\n",
            "             ReLU-76           [-1, 64, 14, 14]               0\n",
            "        Inception-77          [-1, 512, 14, 14]               0\n",
            "           Conv2d-78          [-1, 112, 14, 14]          57,456\n",
            "             ReLU-79          [-1, 112, 14, 14]               0\n",
            "           Conv2d-80          [-1, 144, 14, 14]          73,872\n",
            "             ReLU-81          [-1, 144, 14, 14]               0\n",
            "           Conv2d-82          [-1, 288, 14, 14]         373,536\n",
            "             ReLU-83          [-1, 288, 14, 14]               0\n",
            "           Conv2d-84           [-1, 32, 14, 14]          16,416\n",
            "             ReLU-85           [-1, 32, 14, 14]               0\n",
            "           Conv2d-86           [-1, 64, 14, 14]          51,264\n",
            "             ReLU-87           [-1, 64, 14, 14]               0\n",
            "        MaxPool2d-88          [-1, 512, 14, 14]               0\n",
            "           Conv2d-89           [-1, 64, 14, 14]          32,832\n",
            "             ReLU-90           [-1, 64, 14, 14]               0\n",
            "        Inception-91          [-1, 528, 14, 14]               0\n",
            "           Conv2d-92          [-1, 256, 14, 14]         135,424\n",
            "             ReLU-93          [-1, 256, 14, 14]               0\n",
            "           Conv2d-94          [-1, 160, 14, 14]          84,640\n",
            "             ReLU-95          [-1, 160, 14, 14]               0\n",
            "           Conv2d-96          [-1, 320, 14, 14]         461,120\n",
            "             ReLU-97          [-1, 320, 14, 14]               0\n",
            "           Conv2d-98           [-1, 32, 14, 14]          16,928\n",
            "             ReLU-99           [-1, 32, 14, 14]               0\n",
            "          Conv2d-100          [-1, 128, 14, 14]         102,528\n",
            "            ReLU-101          [-1, 128, 14, 14]               0\n",
            "       MaxPool2d-102          [-1, 528, 14, 14]               0\n",
            "          Conv2d-103          [-1, 128, 14, 14]          67,712\n",
            "            ReLU-104          [-1, 128, 14, 14]               0\n",
            "       Inception-105          [-1, 832, 14, 14]               0\n",
            "       MaxPool2d-106            [-1, 832, 7, 7]               0\n",
            "          Conv2d-107            [-1, 256, 7, 7]         213,248\n",
            "            ReLU-108            [-1, 256, 7, 7]               0\n",
            "          Conv2d-109            [-1, 160, 7, 7]         133,280\n",
            "            ReLU-110            [-1, 160, 7, 7]               0\n",
            "          Conv2d-111            [-1, 320, 7, 7]         461,120\n",
            "            ReLU-112            [-1, 320, 7, 7]               0\n",
            "          Conv2d-113             [-1, 32, 7, 7]          26,656\n",
            "            ReLU-114             [-1, 32, 7, 7]               0\n",
            "          Conv2d-115            [-1, 128, 7, 7]         102,528\n",
            "            ReLU-116            [-1, 128, 7, 7]               0\n",
            "       MaxPool2d-117            [-1, 832, 7, 7]               0\n",
            "          Conv2d-118            [-1, 128, 7, 7]         106,624\n",
            "            ReLU-119            [-1, 128, 7, 7]               0\n",
            "       Inception-120            [-1, 832, 7, 7]               0\n",
            "          Conv2d-121            [-1, 384, 7, 7]         319,872\n",
            "            ReLU-122            [-1, 384, 7, 7]               0\n",
            "          Conv2d-123            [-1, 192, 7, 7]         159,936\n",
            "            ReLU-124            [-1, 192, 7, 7]               0\n",
            "          Conv2d-125            [-1, 384, 7, 7]         663,936\n",
            "            ReLU-126            [-1, 384, 7, 7]               0\n",
            "          Conv2d-127             [-1, 48, 7, 7]          39,984\n",
            "            ReLU-128             [-1, 48, 7, 7]               0\n",
            "          Conv2d-129            [-1, 128, 7, 7]         153,728\n",
            "            ReLU-130            [-1, 128, 7, 7]               0\n",
            "       MaxPool2d-131            [-1, 832, 7, 7]               0\n",
            "          Conv2d-132            [-1, 128, 7, 7]         106,624\n",
            "            ReLU-133            [-1, 128, 7, 7]               0\n",
            "       Inception-134           [-1, 1024, 7, 7]               0\n",
            "       AvgPool2d-135           [-1, 1024, 1, 1]               0\n",
            "         Flatten-136                 [-1, 1024]               0\n",
            "          Linear-137                   [-1, 10]          10,250\n",
            "================================================================\n",
            "Total params: 5,977,530\n",
            "Trainable params: 5,977,530\n",
            "Non-trainable params: 0\n",
            "----------------------------------------------------------------\n",
            "Input size (MB): 0.19\n",
            "Forward/backward pass size (MB): 63.36\n",
            "Params size (MB): 22.80\n",
            "Estimated Total Size (MB): 86.35\n",
            "----------------------------------------------------------------\n"
          ]
        }
      ]
    },
    {
      "cell_type": "code",
      "execution_count": null,
      "metadata": {
        "ExecuteTime": {
          "end_time": "2019-11-18T17:21:23.003367Z",
          "start_time": "2019-11-18T17:11:07.846611Z"
        },
        "colab": {
          "base_uri": "https://localhost:8080/"
        },
        "id": "4Rhghw8L07ON",
        "outputId": "a09d2a06-1ddc-4014-bf42-9ef7ea684964"
      },
      "outputs": [
        {
          "output_type": "stream",
          "name": "stdout",
          "text": [
            "Step 0. time since epoch: 0.946. Train acc: 0.094. Train Loss: 2.303\n",
            "Step 10. time since epoch: 9.877. Train acc: 0.104. Train Loss: 2.302\n",
            "Step 20. time since epoch: 18.779. Train acc: 0.103. Train Loss: 2.302\n",
            "Step 30. time since epoch: 27.714. Train acc: 0.107. Train Loss: 2.302\n",
            "Step 40. time since epoch: 36.668. Train acc: 0.118. Train Loss: 2.290\n",
            "Step 50. time since epoch: 45.608. Train acc: 0.140. Train Loss: 2.251\n",
            "Step 60. time since epoch: 54.543. Train acc: 0.160. Train Loss: 2.201\n",
            "Step 70. time since epoch: 63.448. Train acc: 0.177. Train Loss: 2.148\n",
            "Step 80. time since epoch: 72.326. Train acc: 0.192. Train Loss: 2.103\n",
            "Step 90. time since epoch: 81.220. Train acc: 0.210. Train Loss: 2.055\n",
            "Step 100. time since epoch: 90.101. Train acc: 0.228. Train Loss: 2.006\n",
            "Step 110. time since epoch: 99.008. Train acc: 0.248. Train Loss: 1.957\n",
            "Step 120. time since epoch: 107.900. Train acc: 0.265. Train Loss: 1.917\n",
            "Step 130. time since epoch: 116.814. Train acc: 0.279. Train Loss: 1.885\n",
            "Step 140. time since epoch: 125.724. Train acc: 0.298. Train Loss: 1.839\n",
            "Step 150. time since epoch: 134.657. Train acc: 0.316. Train Loss: 1.793\n",
            "Step 160. time since epoch: 143.600. Train acc: 0.336. Train Loss: 1.742\n",
            "Step 170. time since epoch: 152.500. Train acc: 0.353. Train Loss: 1.700\n",
            "Step 180. time since epoch: 161.404. Train acc: 0.369. Train Loss: 1.660\n",
            "Step 190. time since epoch: 170.315. Train acc: 0.388. Train Loss: 1.614\n",
            "Step 200. time since epoch: 179.221. Train acc: 0.408. Train Loss: 1.564\n",
            "Step 210. time since epoch: 188.109. Train acc: 0.427. Train Loss: 1.518\n",
            "Step 220. time since epoch: 197.016. Train acc: 0.446. Train Loss: 1.470\n",
            "Step 230. time since epoch: 205.898. Train acc: 0.465. Train Loss: 1.423\n",
            "--------------------\n",
            "epoch 1, loss 1.4078, train acc 0.471, test acc 0.870, time 219.0 sec\n"
          ]
        }
      ],
      "source": [
        "lr, num_epochs = 0.001, 1\n",
        "trainer = torch.optim.Adam(net.parameters(), lr=lr)\n",
        "train(net, train_iter, test_iter, trainer, num_epochs)"
      ]
    },
    {
      "cell_type": "markdown",
      "metadata": {
        "id": "g55sb1uP07ON"
      },
      "source": [
        "## Предобученные архитектуры"
      ]
    },
    {
      "cell_type": "code",
      "execution_count": null,
      "metadata": {
        "ExecuteTime": {
          "end_time": "2019-11-18T17:21:46.290923Z",
          "start_time": "2019-11-18T17:21:46.236514Z"
        },
        "id": "4l5GE7DA07OO"
      },
      "outputs": [],
      "source": [
        "transoforms = tv.transforms.Compose([\n",
        "    tv.transforms.Grayscale(3),\n",
        "    tv.transforms.Resize((224, 224)),\n",
        "    tv.transforms.ToTensor()\n",
        "])\n",
        "\n",
        "train_dataset = tv.datasets.MNIST('.', train=True, transform=transoforms, download=True)\n",
        "test_dataset = tv.datasets.MNIST('.', train=False, transform=transoforms, download=True)\n",
        "train_iter = torch.utils.data.DataLoader(train_dataset, batch_size=BATCH_SIZE)\n",
        "test_iter = torch.utils.data.DataLoader(test_dataset, batch_size=BATCH_SIZE)"
      ]
    },
    {
      "cell_type": "markdown",
      "source": [
        "#### ResNet"
      ],
      "metadata": {
        "id": "MENekEq_AHqo"
      }
    },
    {
      "cell_type": "code",
      "execution_count": null,
      "metadata": {
        "ExecuteTime": {
          "end_time": "2019-11-18T17:22:33.772924Z",
          "start_time": "2019-11-18T17:22:33.293818Z"
        },
        "id": "ju3bFRxI07OO"
      },
      "outputs": [],
      "source": [
        "model = tv.models.resnet18(pretrained=True)"
      ]
    },
    {
      "cell_type": "code",
      "source": [
        "model"
      ],
      "metadata": {
        "colab": {
          "base_uri": "https://localhost:8080/"
        },
        "id": "STGg9M4sDuff",
        "outputId": "08347b00-c844-4fa9-9e5c-9f63d23607c8"
      },
      "execution_count": null,
      "outputs": [
        {
          "output_type": "execute_result",
          "data": {
            "text/plain": [
              "ResNet(\n",
              "  (conv1): Conv2d(3, 64, kernel_size=(7, 7), stride=(2, 2), padding=(3, 3), bias=False)\n",
              "  (bn1): BatchNorm2d(64, eps=1e-05, momentum=0.1, affine=True, track_running_stats=True)\n",
              "  (relu): ReLU(inplace=True)\n",
              "  (maxpool): MaxPool2d(kernel_size=3, stride=2, padding=1, dilation=1, ceil_mode=False)\n",
              "  (layer1): Sequential(\n",
              "    (0): BasicBlock(\n",
              "      (conv1): Conv2d(64, 64, kernel_size=(3, 3), stride=(1, 1), padding=(1, 1), bias=False)\n",
              "      (bn1): BatchNorm2d(64, eps=1e-05, momentum=0.1, affine=True, track_running_stats=True)\n",
              "      (relu): ReLU(inplace=True)\n",
              "      (conv2): Conv2d(64, 64, kernel_size=(3, 3), stride=(1, 1), padding=(1, 1), bias=False)\n",
              "      (bn2): BatchNorm2d(64, eps=1e-05, momentum=0.1, affine=True, track_running_stats=True)\n",
              "    )\n",
              "    (1): BasicBlock(\n",
              "      (conv1): Conv2d(64, 64, kernel_size=(3, 3), stride=(1, 1), padding=(1, 1), bias=False)\n",
              "      (bn1): BatchNorm2d(64, eps=1e-05, momentum=0.1, affine=True, track_running_stats=True)\n",
              "      (relu): ReLU(inplace=True)\n",
              "      (conv2): Conv2d(64, 64, kernel_size=(3, 3), stride=(1, 1), padding=(1, 1), bias=False)\n",
              "      (bn2): BatchNorm2d(64, eps=1e-05, momentum=0.1, affine=True, track_running_stats=True)\n",
              "    )\n",
              "  )\n",
              "  (layer2): Sequential(\n",
              "    (0): BasicBlock(\n",
              "      (conv1): Conv2d(64, 128, kernel_size=(3, 3), stride=(2, 2), padding=(1, 1), bias=False)\n",
              "      (bn1): BatchNorm2d(128, eps=1e-05, momentum=0.1, affine=True, track_running_stats=True)\n",
              "      (relu): ReLU(inplace=True)\n",
              "      (conv2): Conv2d(128, 128, kernel_size=(3, 3), stride=(1, 1), padding=(1, 1), bias=False)\n",
              "      (bn2): BatchNorm2d(128, eps=1e-05, momentum=0.1, affine=True, track_running_stats=True)\n",
              "      (downsample): Sequential(\n",
              "        (0): Conv2d(64, 128, kernel_size=(1, 1), stride=(2, 2), bias=False)\n",
              "        (1): BatchNorm2d(128, eps=1e-05, momentum=0.1, affine=True, track_running_stats=True)\n",
              "      )\n",
              "    )\n",
              "    (1): BasicBlock(\n",
              "      (conv1): Conv2d(128, 128, kernel_size=(3, 3), stride=(1, 1), padding=(1, 1), bias=False)\n",
              "      (bn1): BatchNorm2d(128, eps=1e-05, momentum=0.1, affine=True, track_running_stats=True)\n",
              "      (relu): ReLU(inplace=True)\n",
              "      (conv2): Conv2d(128, 128, kernel_size=(3, 3), stride=(1, 1), padding=(1, 1), bias=False)\n",
              "      (bn2): BatchNorm2d(128, eps=1e-05, momentum=0.1, affine=True, track_running_stats=True)\n",
              "    )\n",
              "  )\n",
              "  (layer3): Sequential(\n",
              "    (0): BasicBlock(\n",
              "      (conv1): Conv2d(128, 256, kernel_size=(3, 3), stride=(2, 2), padding=(1, 1), bias=False)\n",
              "      (bn1): BatchNorm2d(256, eps=1e-05, momentum=0.1, affine=True, track_running_stats=True)\n",
              "      (relu): ReLU(inplace=True)\n",
              "      (conv2): Conv2d(256, 256, kernel_size=(3, 3), stride=(1, 1), padding=(1, 1), bias=False)\n",
              "      (bn2): BatchNorm2d(256, eps=1e-05, momentum=0.1, affine=True, track_running_stats=True)\n",
              "      (downsample): Sequential(\n",
              "        (0): Conv2d(128, 256, kernel_size=(1, 1), stride=(2, 2), bias=False)\n",
              "        (1): BatchNorm2d(256, eps=1e-05, momentum=0.1, affine=True, track_running_stats=True)\n",
              "      )\n",
              "    )\n",
              "    (1): BasicBlock(\n",
              "      (conv1): Conv2d(256, 256, kernel_size=(3, 3), stride=(1, 1), padding=(1, 1), bias=False)\n",
              "      (bn1): BatchNorm2d(256, eps=1e-05, momentum=0.1, affine=True, track_running_stats=True)\n",
              "      (relu): ReLU(inplace=True)\n",
              "      (conv2): Conv2d(256, 256, kernel_size=(3, 3), stride=(1, 1), padding=(1, 1), bias=False)\n",
              "      (bn2): BatchNorm2d(256, eps=1e-05, momentum=0.1, affine=True, track_running_stats=True)\n",
              "    )\n",
              "  )\n",
              "  (layer4): Sequential(\n",
              "    (0): BasicBlock(\n",
              "      (conv1): Conv2d(256, 512, kernel_size=(3, 3), stride=(2, 2), padding=(1, 1), bias=False)\n",
              "      (bn1): BatchNorm2d(512, eps=1e-05, momentum=0.1, affine=True, track_running_stats=True)\n",
              "      (relu): ReLU(inplace=True)\n",
              "      (conv2): Conv2d(512, 512, kernel_size=(3, 3), stride=(1, 1), padding=(1, 1), bias=False)\n",
              "      (bn2): BatchNorm2d(512, eps=1e-05, momentum=0.1, affine=True, track_running_stats=True)\n",
              "      (downsample): Sequential(\n",
              "        (0): Conv2d(256, 512, kernel_size=(1, 1), stride=(2, 2), bias=False)\n",
              "        (1): BatchNorm2d(512, eps=1e-05, momentum=0.1, affine=True, track_running_stats=True)\n",
              "      )\n",
              "    )\n",
              "    (1): BasicBlock(\n",
              "      (conv1): Conv2d(512, 512, kernel_size=(3, 3), stride=(1, 1), padding=(1, 1), bias=False)\n",
              "      (bn1): BatchNorm2d(512, eps=1e-05, momentum=0.1, affine=True, track_running_stats=True)\n",
              "      (relu): ReLU(inplace=True)\n",
              "      (conv2): Conv2d(512, 512, kernel_size=(3, 3), stride=(1, 1), padding=(1, 1), bias=False)\n",
              "      (bn2): BatchNorm2d(512, eps=1e-05, momentum=0.1, affine=True, track_running_stats=True)\n",
              "    )\n",
              "  )\n",
              "  (avgpool): AdaptiveAvgPool2d(output_size=(1, 1))\n",
              "  (fc): Linear(in_features=512, out_features=1000, bias=True)\n",
              ")"
            ]
          },
          "metadata": {},
          "execution_count": 62
        }
      ]
    },
    {
      "cell_type": "code",
      "source": [
        "summary(model.to(device), input_size=(3, 224, 224))"
      ],
      "metadata": {
        "colab": {
          "base_uri": "https://localhost:8080/"
        },
        "id": "ncajlZiCDwUt",
        "outputId": "896dcc46-ce0c-4739-bb4d-0c7bc4b78939"
      },
      "execution_count": null,
      "outputs": [
        {
          "output_type": "stream",
          "name": "stdout",
          "text": [
            "----------------------------------------------------------------\n",
            "        Layer (type)               Output Shape         Param #\n",
            "================================================================\n",
            "            Conv2d-1         [-1, 64, 112, 112]           9,408\n",
            "       BatchNorm2d-2         [-1, 64, 112, 112]             128\n",
            "              ReLU-3         [-1, 64, 112, 112]               0\n",
            "         MaxPool2d-4           [-1, 64, 56, 56]               0\n",
            "            Conv2d-5           [-1, 64, 56, 56]          36,864\n",
            "       BatchNorm2d-6           [-1, 64, 56, 56]             128\n",
            "              ReLU-7           [-1, 64, 56, 56]               0\n",
            "            Conv2d-8           [-1, 64, 56, 56]          36,864\n",
            "       BatchNorm2d-9           [-1, 64, 56, 56]             128\n",
            "             ReLU-10           [-1, 64, 56, 56]               0\n",
            "       BasicBlock-11           [-1, 64, 56, 56]               0\n",
            "           Conv2d-12           [-1, 64, 56, 56]          36,864\n",
            "      BatchNorm2d-13           [-1, 64, 56, 56]             128\n",
            "             ReLU-14           [-1, 64, 56, 56]               0\n",
            "           Conv2d-15           [-1, 64, 56, 56]          36,864\n",
            "      BatchNorm2d-16           [-1, 64, 56, 56]             128\n",
            "             ReLU-17           [-1, 64, 56, 56]               0\n",
            "       BasicBlock-18           [-1, 64, 56, 56]               0\n",
            "           Conv2d-19          [-1, 128, 28, 28]          73,728\n",
            "      BatchNorm2d-20          [-1, 128, 28, 28]             256\n",
            "             ReLU-21          [-1, 128, 28, 28]               0\n",
            "           Conv2d-22          [-1, 128, 28, 28]         147,456\n",
            "      BatchNorm2d-23          [-1, 128, 28, 28]             256\n",
            "           Conv2d-24          [-1, 128, 28, 28]           8,192\n",
            "      BatchNorm2d-25          [-1, 128, 28, 28]             256\n",
            "             ReLU-26          [-1, 128, 28, 28]               0\n",
            "       BasicBlock-27          [-1, 128, 28, 28]               0\n",
            "           Conv2d-28          [-1, 128, 28, 28]         147,456\n",
            "      BatchNorm2d-29          [-1, 128, 28, 28]             256\n",
            "             ReLU-30          [-1, 128, 28, 28]               0\n",
            "           Conv2d-31          [-1, 128, 28, 28]         147,456\n",
            "      BatchNorm2d-32          [-1, 128, 28, 28]             256\n",
            "             ReLU-33          [-1, 128, 28, 28]               0\n",
            "       BasicBlock-34          [-1, 128, 28, 28]               0\n",
            "           Conv2d-35          [-1, 256, 14, 14]         294,912\n",
            "      BatchNorm2d-36          [-1, 256, 14, 14]             512\n",
            "             ReLU-37          [-1, 256, 14, 14]               0\n",
            "           Conv2d-38          [-1, 256, 14, 14]         589,824\n",
            "      BatchNorm2d-39          [-1, 256, 14, 14]             512\n",
            "           Conv2d-40          [-1, 256, 14, 14]          32,768\n",
            "      BatchNorm2d-41          [-1, 256, 14, 14]             512\n",
            "             ReLU-42          [-1, 256, 14, 14]               0\n",
            "       BasicBlock-43          [-1, 256, 14, 14]               0\n",
            "           Conv2d-44          [-1, 256, 14, 14]         589,824\n",
            "      BatchNorm2d-45          [-1, 256, 14, 14]             512\n",
            "             ReLU-46          [-1, 256, 14, 14]               0\n",
            "           Conv2d-47          [-1, 256, 14, 14]         589,824\n",
            "      BatchNorm2d-48          [-1, 256, 14, 14]             512\n",
            "             ReLU-49          [-1, 256, 14, 14]               0\n",
            "       BasicBlock-50          [-1, 256, 14, 14]               0\n",
            "           Conv2d-51            [-1, 512, 7, 7]       1,179,648\n",
            "      BatchNorm2d-52            [-1, 512, 7, 7]           1,024\n",
            "             ReLU-53            [-1, 512, 7, 7]               0\n",
            "           Conv2d-54            [-1, 512, 7, 7]       2,359,296\n",
            "      BatchNorm2d-55            [-1, 512, 7, 7]           1,024\n",
            "           Conv2d-56            [-1, 512, 7, 7]         131,072\n",
            "      BatchNorm2d-57            [-1, 512, 7, 7]           1,024\n",
            "             ReLU-58            [-1, 512, 7, 7]               0\n",
            "       BasicBlock-59            [-1, 512, 7, 7]               0\n",
            "           Conv2d-60            [-1, 512, 7, 7]       2,359,296\n",
            "      BatchNorm2d-61            [-1, 512, 7, 7]           1,024\n",
            "             ReLU-62            [-1, 512, 7, 7]               0\n",
            "           Conv2d-63            [-1, 512, 7, 7]       2,359,296\n",
            "      BatchNorm2d-64            [-1, 512, 7, 7]           1,024\n",
            "             ReLU-65            [-1, 512, 7, 7]               0\n",
            "       BasicBlock-66            [-1, 512, 7, 7]               0\n",
            "AdaptiveAvgPool2d-67            [-1, 512, 1, 1]               0\n",
            "           Linear-68                 [-1, 1000]         513,000\n",
            "================================================================\n",
            "Total params: 11,689,512\n",
            "Trainable params: 11,689,512\n",
            "Non-trainable params: 0\n",
            "----------------------------------------------------------------\n",
            "Input size (MB): 0.57\n",
            "Forward/backward pass size (MB): 62.79\n",
            "Params size (MB): 44.59\n",
            "Estimated Total Size (MB): 107.96\n",
            "----------------------------------------------------------------\n"
          ]
        }
      ]
    },
    {
      "cell_type": "code",
      "execution_count": null,
      "metadata": {
        "ExecuteTime": {
          "end_time": "2019-11-18T17:23:47.319979Z",
          "start_time": "2019-11-18T17:23:47.316747Z"
        },
        "id": "QuYMuz8i07OO"
      },
      "outputs": [],
      "source": [
        "# Убираем требование градиента:\n",
        "for param in model.parameters():\n",
        "    param.requires_grad = False"
      ]
    },
    {
      "cell_type": "code",
      "execution_count": null,
      "metadata": {
        "ExecuteTime": {
          "end_time": "2019-11-18T17:24:04.770976Z",
          "start_time": "2019-11-18T17:24:04.766810Z"
        },
        "colab": {
          "base_uri": "https://localhost:8080/"
        },
        "id": "psXlmjnx07OO",
        "outputId": "eb0dbdcc-3845-405a-b906-526ee7e07a72"
      },
      "outputs": [
        {
          "output_type": "execute_result",
          "data": {
            "text/plain": [
              "Linear(in_features=512, out_features=1000, bias=True)"
            ]
          },
          "metadata": {},
          "execution_count": 65
        }
      ],
      "source": [
        "model.fc"
      ]
    },
    {
      "cell_type": "code",
      "execution_count": null,
      "metadata": {
        "ExecuteTime": {
          "end_time": "2019-11-18T17:24:12.305790Z",
          "start_time": "2019-11-18T17:24:12.302517Z"
        },
        "id": "n637z2fz07OO"
      },
      "outputs": [],
      "source": [
        "model.fc = nn.Linear(in_features=512, out_features=10)"
      ]
    },
    {
      "cell_type": "code",
      "execution_count": null,
      "metadata": {
        "ExecuteTime": {
          "end_time": "2019-11-18T17:24:42.228326Z",
          "start_time": "2019-11-18T17:24:42.222643Z"
        },
        "colab": {
          "base_uri": "https://localhost:8080/"
        },
        "id": "xzYUzBDH07OP",
        "outputId": "b0fa069a-d57a-420d-a264-8e4a092d50ac"
      },
      "outputs": [
        {
          "output_type": "stream",
          "name": "stdout",
          "text": [
            "Params to learn:\n",
            "\t fc.weight\n",
            "\t fc.bias\n"
          ]
        }
      ],
      "source": [
        "print(\"Params to learn:\")\n",
        "params_to_update = []\n",
        "for name, param in model.named_parameters():\n",
        "    if param.requires_grad == True:\n",
        "        params_to_update.append(param)\n",
        "        print(\"\\t\",name)"
      ]
    },
    {
      "cell_type": "code",
      "execution_count": null,
      "metadata": {
        "ExecuteTime": {
          "end_time": "2019-11-18T17:25:11.558131Z",
          "start_time": "2019-11-18T17:25:11.554358Z"
        },
        "id": "UEWnyfQD07OP"
      },
      "outputs": [],
      "source": [
        "trainer = torch.optim.Adam(params_to_update, lr=0.001)"
      ]
    },
    {
      "cell_type": "code",
      "execution_count": null,
      "metadata": {
        "ExecuteTime": {
          "end_time": "2019-11-18T17:26:20.718099Z",
          "start_time": "2019-11-18T17:25:20.979097Z"
        },
        "colab": {
          "base_uri": "https://localhost:8080/"
        },
        "id": "Bzy-TnEs07OP",
        "outputId": "48cc2374-cc2b-4233-8d06-f38b6772268b"
      },
      "outputs": [
        {
          "output_type": "stream",
          "name": "stdout",
          "text": [
            "Step 0. time since epoch: 1.024. Train acc: 0.148. Train Loss: 2.613\n",
            "Step 10. time since epoch: 10.758. Train acc: 0.857. Train Loss: 0.506\n",
            "Step 20. time since epoch: 20.596. Train acc: 0.916. Train Loss: 0.297\n",
            "Step 30. time since epoch: 30.360. Train acc: 0.937. Train Loss: 0.222\n",
            "Step 40. time since epoch: 40.174. Train acc: 0.949. Train Loss: 0.179\n",
            "Step 50. time since epoch: 50.154. Train acc: 0.957. Train Loss: 0.152\n",
            "Step 60. time since epoch: 59.808. Train acc: 0.962. Train Loss: 0.134\n",
            "Step 70. time since epoch: 69.448. Train acc: 0.965. Train Loss: 0.121\n",
            "Step 80. time since epoch: 79.040. Train acc: 0.968. Train Loss: 0.111\n",
            "Step 90. time since epoch: 88.748. Train acc: 0.970. Train Loss: 0.102\n",
            "Step 100. time since epoch: 98.313. Train acc: 0.973. Train Loss: 0.095\n",
            "Step 110. time since epoch: 107.973. Train acc: 0.974. Train Loss: 0.090\n",
            "Step 120. time since epoch: 117.594. Train acc: 0.975. Train Loss: 0.086\n",
            "Step 130. time since epoch: 127.215. Train acc: 0.976. Train Loss: 0.082\n",
            "Step 140. time since epoch: 136.989. Train acc: 0.977. Train Loss: 0.079\n",
            "Step 150. time since epoch: 146.661. Train acc: 0.978. Train Loss: 0.077\n",
            "Step 160. time since epoch: 156.333. Train acc: 0.978. Train Loss: 0.075\n",
            "Step 170. time since epoch: 165.967. Train acc: 0.979. Train Loss: 0.074\n",
            "Step 180. time since epoch: 175.751. Train acc: 0.979. Train Loss: 0.071\n",
            "Step 190. time since epoch: 185.495. Train acc: 0.980. Train Loss: 0.069\n",
            "Step 200. time since epoch: 195.145. Train acc: 0.981. Train Loss: 0.067\n",
            "Step 210. time since epoch: 204.841. Train acc: 0.981. Train Loss: 0.066\n",
            "Step 220. time since epoch: 214.505. Train acc: 0.981. Train Loss: 0.064\n",
            "Step 230. time since epoch: 224.139. Train acc: 0.982. Train Loss: 0.062\n",
            "--------------------\n",
            "epoch 1, loss 0.0617, train acc 0.982, test acc 0.981, time 239.6 sec\n"
          ]
        }
      ],
      "source": [
        "train(model, train_iter, test_iter, trainer, 1)"
      ]
    },
    {
      "cell_type": "markdown",
      "source": [
        "#### DenseNet"
      ],
      "metadata": {
        "id": "yz6qmsROAGcq"
      }
    },
    {
      "cell_type": "code",
      "execution_count": null,
      "metadata": {
        "ExecuteTime": {
          "end_time": "2019-11-18T17:22:33.772924Z",
          "start_time": "2019-11-18T17:22:33.293818Z"
        },
        "id": "wJLDvo7uAGmo"
      },
      "outputs": [],
      "source": [
        "model = tv.models.densenet161(pretrained=True)"
      ]
    },
    {
      "cell_type": "code",
      "source": [
        "model"
      ],
      "metadata": {
        "colab": {
          "base_uri": "https://localhost:8080/"
        },
        "outputId": "b849d21e-7ac0-4416-ee31-9c9fa3d8c752",
        "id": "6-Mfy6xdAGmq"
      },
      "execution_count": null,
      "outputs": [
        {
          "output_type": "execute_result",
          "data": {
            "text/plain": [
              "DenseNet(\n",
              "  (features): Sequential(\n",
              "    (conv0): Conv2d(3, 96, kernel_size=(7, 7), stride=(2, 2), padding=(3, 3), bias=False)\n",
              "    (norm0): BatchNorm2d(96, eps=1e-05, momentum=0.1, affine=True, track_running_stats=True)\n",
              "    (relu0): ReLU(inplace=True)\n",
              "    (pool0): MaxPool2d(kernel_size=3, stride=2, padding=1, dilation=1, ceil_mode=False)\n",
              "    (denseblock1): _DenseBlock(\n",
              "      (denselayer1): _DenseLayer(\n",
              "        (norm1): BatchNorm2d(96, eps=1e-05, momentum=0.1, affine=True, track_running_stats=True)\n",
              "        (relu1): ReLU(inplace=True)\n",
              "        (conv1): Conv2d(96, 192, kernel_size=(1, 1), stride=(1, 1), bias=False)\n",
              "        (norm2): BatchNorm2d(192, eps=1e-05, momentum=0.1, affine=True, track_running_stats=True)\n",
              "        (relu2): ReLU(inplace=True)\n",
              "        (conv2): Conv2d(192, 48, kernel_size=(3, 3), stride=(1, 1), padding=(1, 1), bias=False)\n",
              "      )\n",
              "      (denselayer2): _DenseLayer(\n",
              "        (norm1): BatchNorm2d(144, eps=1e-05, momentum=0.1, affine=True, track_running_stats=True)\n",
              "        (relu1): ReLU(inplace=True)\n",
              "        (conv1): Conv2d(144, 192, kernel_size=(1, 1), stride=(1, 1), bias=False)\n",
              "        (norm2): BatchNorm2d(192, eps=1e-05, momentum=0.1, affine=True, track_running_stats=True)\n",
              "        (relu2): ReLU(inplace=True)\n",
              "        (conv2): Conv2d(192, 48, kernel_size=(3, 3), stride=(1, 1), padding=(1, 1), bias=False)\n",
              "      )\n",
              "      (denselayer3): _DenseLayer(\n",
              "        (norm1): BatchNorm2d(192, eps=1e-05, momentum=0.1, affine=True, track_running_stats=True)\n",
              "        (relu1): ReLU(inplace=True)\n",
              "        (conv1): Conv2d(192, 192, kernel_size=(1, 1), stride=(1, 1), bias=False)\n",
              "        (norm2): BatchNorm2d(192, eps=1e-05, momentum=0.1, affine=True, track_running_stats=True)\n",
              "        (relu2): ReLU(inplace=True)\n",
              "        (conv2): Conv2d(192, 48, kernel_size=(3, 3), stride=(1, 1), padding=(1, 1), bias=False)\n",
              "      )\n",
              "      (denselayer4): _DenseLayer(\n",
              "        (norm1): BatchNorm2d(240, eps=1e-05, momentum=0.1, affine=True, track_running_stats=True)\n",
              "        (relu1): ReLU(inplace=True)\n",
              "        (conv1): Conv2d(240, 192, kernel_size=(1, 1), stride=(1, 1), bias=False)\n",
              "        (norm2): BatchNorm2d(192, eps=1e-05, momentum=0.1, affine=True, track_running_stats=True)\n",
              "        (relu2): ReLU(inplace=True)\n",
              "        (conv2): Conv2d(192, 48, kernel_size=(3, 3), stride=(1, 1), padding=(1, 1), bias=False)\n",
              "      )\n",
              "      (denselayer5): _DenseLayer(\n",
              "        (norm1): BatchNorm2d(288, eps=1e-05, momentum=0.1, affine=True, track_running_stats=True)\n",
              "        (relu1): ReLU(inplace=True)\n",
              "        (conv1): Conv2d(288, 192, kernel_size=(1, 1), stride=(1, 1), bias=False)\n",
              "        (norm2): BatchNorm2d(192, eps=1e-05, momentum=0.1, affine=True, track_running_stats=True)\n",
              "        (relu2): ReLU(inplace=True)\n",
              "        (conv2): Conv2d(192, 48, kernel_size=(3, 3), stride=(1, 1), padding=(1, 1), bias=False)\n",
              "      )\n",
              "      (denselayer6): _DenseLayer(\n",
              "        (norm1): BatchNorm2d(336, eps=1e-05, momentum=0.1, affine=True, track_running_stats=True)\n",
              "        (relu1): ReLU(inplace=True)\n",
              "        (conv1): Conv2d(336, 192, kernel_size=(1, 1), stride=(1, 1), bias=False)\n",
              "        (norm2): BatchNorm2d(192, eps=1e-05, momentum=0.1, affine=True, track_running_stats=True)\n",
              "        (relu2): ReLU(inplace=True)\n",
              "        (conv2): Conv2d(192, 48, kernel_size=(3, 3), stride=(1, 1), padding=(1, 1), bias=False)\n",
              "      )\n",
              "    )\n",
              "    (transition1): _Transition(\n",
              "      (norm): BatchNorm2d(384, eps=1e-05, momentum=0.1, affine=True, track_running_stats=True)\n",
              "      (relu): ReLU(inplace=True)\n",
              "      (conv): Conv2d(384, 192, kernel_size=(1, 1), stride=(1, 1), bias=False)\n",
              "      (pool): AvgPool2d(kernel_size=2, stride=2, padding=0)\n",
              "    )\n",
              "    (denseblock2): _DenseBlock(\n",
              "      (denselayer1): _DenseLayer(\n",
              "        (norm1): BatchNorm2d(192, eps=1e-05, momentum=0.1, affine=True, track_running_stats=True)\n",
              "        (relu1): ReLU(inplace=True)\n",
              "        (conv1): Conv2d(192, 192, kernel_size=(1, 1), stride=(1, 1), bias=False)\n",
              "        (norm2): BatchNorm2d(192, eps=1e-05, momentum=0.1, affine=True, track_running_stats=True)\n",
              "        (relu2): ReLU(inplace=True)\n",
              "        (conv2): Conv2d(192, 48, kernel_size=(3, 3), stride=(1, 1), padding=(1, 1), bias=False)\n",
              "      )\n",
              "      (denselayer2): _DenseLayer(\n",
              "        (norm1): BatchNorm2d(240, eps=1e-05, momentum=0.1, affine=True, track_running_stats=True)\n",
              "        (relu1): ReLU(inplace=True)\n",
              "        (conv1): Conv2d(240, 192, kernel_size=(1, 1), stride=(1, 1), bias=False)\n",
              "        (norm2): BatchNorm2d(192, eps=1e-05, momentum=0.1, affine=True, track_running_stats=True)\n",
              "        (relu2): ReLU(inplace=True)\n",
              "        (conv2): Conv2d(192, 48, kernel_size=(3, 3), stride=(1, 1), padding=(1, 1), bias=False)\n",
              "      )\n",
              "      (denselayer3): _DenseLayer(\n",
              "        (norm1): BatchNorm2d(288, eps=1e-05, momentum=0.1, affine=True, track_running_stats=True)\n",
              "        (relu1): ReLU(inplace=True)\n",
              "        (conv1): Conv2d(288, 192, kernel_size=(1, 1), stride=(1, 1), bias=False)\n",
              "        (norm2): BatchNorm2d(192, eps=1e-05, momentum=0.1, affine=True, track_running_stats=True)\n",
              "        (relu2): ReLU(inplace=True)\n",
              "        (conv2): Conv2d(192, 48, kernel_size=(3, 3), stride=(1, 1), padding=(1, 1), bias=False)\n",
              "      )\n",
              "      (denselayer4): _DenseLayer(\n",
              "        (norm1): BatchNorm2d(336, eps=1e-05, momentum=0.1, affine=True, track_running_stats=True)\n",
              "        (relu1): ReLU(inplace=True)\n",
              "        (conv1): Conv2d(336, 192, kernel_size=(1, 1), stride=(1, 1), bias=False)\n",
              "        (norm2): BatchNorm2d(192, eps=1e-05, momentum=0.1, affine=True, track_running_stats=True)\n",
              "        (relu2): ReLU(inplace=True)\n",
              "        (conv2): Conv2d(192, 48, kernel_size=(3, 3), stride=(1, 1), padding=(1, 1), bias=False)\n",
              "      )\n",
              "      (denselayer5): _DenseLayer(\n",
              "        (norm1): BatchNorm2d(384, eps=1e-05, momentum=0.1, affine=True, track_running_stats=True)\n",
              "        (relu1): ReLU(inplace=True)\n",
              "        (conv1): Conv2d(384, 192, kernel_size=(1, 1), stride=(1, 1), bias=False)\n",
              "        (norm2): BatchNorm2d(192, eps=1e-05, momentum=0.1, affine=True, track_running_stats=True)\n",
              "        (relu2): ReLU(inplace=True)\n",
              "        (conv2): Conv2d(192, 48, kernel_size=(3, 3), stride=(1, 1), padding=(1, 1), bias=False)\n",
              "      )\n",
              "      (denselayer6): _DenseLayer(\n",
              "        (norm1): BatchNorm2d(432, eps=1e-05, momentum=0.1, affine=True, track_running_stats=True)\n",
              "        (relu1): ReLU(inplace=True)\n",
              "        (conv1): Conv2d(432, 192, kernel_size=(1, 1), stride=(1, 1), bias=False)\n",
              "        (norm2): BatchNorm2d(192, eps=1e-05, momentum=0.1, affine=True, track_running_stats=True)\n",
              "        (relu2): ReLU(inplace=True)\n",
              "        (conv2): Conv2d(192, 48, kernel_size=(3, 3), stride=(1, 1), padding=(1, 1), bias=False)\n",
              "      )\n",
              "      (denselayer7): _DenseLayer(\n",
              "        (norm1): BatchNorm2d(480, eps=1e-05, momentum=0.1, affine=True, track_running_stats=True)\n",
              "        (relu1): ReLU(inplace=True)\n",
              "        (conv1): Conv2d(480, 192, kernel_size=(1, 1), stride=(1, 1), bias=False)\n",
              "        (norm2): BatchNorm2d(192, eps=1e-05, momentum=0.1, affine=True, track_running_stats=True)\n",
              "        (relu2): ReLU(inplace=True)\n",
              "        (conv2): Conv2d(192, 48, kernel_size=(3, 3), stride=(1, 1), padding=(1, 1), bias=False)\n",
              "      )\n",
              "      (denselayer8): _DenseLayer(\n",
              "        (norm1): BatchNorm2d(528, eps=1e-05, momentum=0.1, affine=True, track_running_stats=True)\n",
              "        (relu1): ReLU(inplace=True)\n",
              "        (conv1): Conv2d(528, 192, kernel_size=(1, 1), stride=(1, 1), bias=False)\n",
              "        (norm2): BatchNorm2d(192, eps=1e-05, momentum=0.1, affine=True, track_running_stats=True)\n",
              "        (relu2): ReLU(inplace=True)\n",
              "        (conv2): Conv2d(192, 48, kernel_size=(3, 3), stride=(1, 1), padding=(1, 1), bias=False)\n",
              "      )\n",
              "      (denselayer9): _DenseLayer(\n",
              "        (norm1): BatchNorm2d(576, eps=1e-05, momentum=0.1, affine=True, track_running_stats=True)\n",
              "        (relu1): ReLU(inplace=True)\n",
              "        (conv1): Conv2d(576, 192, kernel_size=(1, 1), stride=(1, 1), bias=False)\n",
              "        (norm2): BatchNorm2d(192, eps=1e-05, momentum=0.1, affine=True, track_running_stats=True)\n",
              "        (relu2): ReLU(inplace=True)\n",
              "        (conv2): Conv2d(192, 48, kernel_size=(3, 3), stride=(1, 1), padding=(1, 1), bias=False)\n",
              "      )\n",
              "      (denselayer10): _DenseLayer(\n",
              "        (norm1): BatchNorm2d(624, eps=1e-05, momentum=0.1, affine=True, track_running_stats=True)\n",
              "        (relu1): ReLU(inplace=True)\n",
              "        (conv1): Conv2d(624, 192, kernel_size=(1, 1), stride=(1, 1), bias=False)\n",
              "        (norm2): BatchNorm2d(192, eps=1e-05, momentum=0.1, affine=True, track_running_stats=True)\n",
              "        (relu2): ReLU(inplace=True)\n",
              "        (conv2): Conv2d(192, 48, kernel_size=(3, 3), stride=(1, 1), padding=(1, 1), bias=False)\n",
              "      )\n",
              "      (denselayer11): _DenseLayer(\n",
              "        (norm1): BatchNorm2d(672, eps=1e-05, momentum=0.1, affine=True, track_running_stats=True)\n",
              "        (relu1): ReLU(inplace=True)\n",
              "        (conv1): Conv2d(672, 192, kernel_size=(1, 1), stride=(1, 1), bias=False)\n",
              "        (norm2): BatchNorm2d(192, eps=1e-05, momentum=0.1, affine=True, track_running_stats=True)\n",
              "        (relu2): ReLU(inplace=True)\n",
              "        (conv2): Conv2d(192, 48, kernel_size=(3, 3), stride=(1, 1), padding=(1, 1), bias=False)\n",
              "      )\n",
              "      (denselayer12): _DenseLayer(\n",
              "        (norm1): BatchNorm2d(720, eps=1e-05, momentum=0.1, affine=True, track_running_stats=True)\n",
              "        (relu1): ReLU(inplace=True)\n",
              "        (conv1): Conv2d(720, 192, kernel_size=(1, 1), stride=(1, 1), bias=False)\n",
              "        (norm2): BatchNorm2d(192, eps=1e-05, momentum=0.1, affine=True, track_running_stats=True)\n",
              "        (relu2): ReLU(inplace=True)\n",
              "        (conv2): Conv2d(192, 48, kernel_size=(3, 3), stride=(1, 1), padding=(1, 1), bias=False)\n",
              "      )\n",
              "    )\n",
              "    (transition2): _Transition(\n",
              "      (norm): BatchNorm2d(768, eps=1e-05, momentum=0.1, affine=True, track_running_stats=True)\n",
              "      (relu): ReLU(inplace=True)\n",
              "      (conv): Conv2d(768, 384, kernel_size=(1, 1), stride=(1, 1), bias=False)\n",
              "      (pool): AvgPool2d(kernel_size=2, stride=2, padding=0)\n",
              "    )\n",
              "    (denseblock3): _DenseBlock(\n",
              "      (denselayer1): _DenseLayer(\n",
              "        (norm1): BatchNorm2d(384, eps=1e-05, momentum=0.1, affine=True, track_running_stats=True)\n",
              "        (relu1): ReLU(inplace=True)\n",
              "        (conv1): Conv2d(384, 192, kernel_size=(1, 1), stride=(1, 1), bias=False)\n",
              "        (norm2): BatchNorm2d(192, eps=1e-05, momentum=0.1, affine=True, track_running_stats=True)\n",
              "        (relu2): ReLU(inplace=True)\n",
              "        (conv2): Conv2d(192, 48, kernel_size=(3, 3), stride=(1, 1), padding=(1, 1), bias=False)\n",
              "      )\n",
              "      (denselayer2): _DenseLayer(\n",
              "        (norm1): BatchNorm2d(432, eps=1e-05, momentum=0.1, affine=True, track_running_stats=True)\n",
              "        (relu1): ReLU(inplace=True)\n",
              "        (conv1): Conv2d(432, 192, kernel_size=(1, 1), stride=(1, 1), bias=False)\n",
              "        (norm2): BatchNorm2d(192, eps=1e-05, momentum=0.1, affine=True, track_running_stats=True)\n",
              "        (relu2): ReLU(inplace=True)\n",
              "        (conv2): Conv2d(192, 48, kernel_size=(3, 3), stride=(1, 1), padding=(1, 1), bias=False)\n",
              "      )\n",
              "      (denselayer3): _DenseLayer(\n",
              "        (norm1): BatchNorm2d(480, eps=1e-05, momentum=0.1, affine=True, track_running_stats=True)\n",
              "        (relu1): ReLU(inplace=True)\n",
              "        (conv1): Conv2d(480, 192, kernel_size=(1, 1), stride=(1, 1), bias=False)\n",
              "        (norm2): BatchNorm2d(192, eps=1e-05, momentum=0.1, affine=True, track_running_stats=True)\n",
              "        (relu2): ReLU(inplace=True)\n",
              "        (conv2): Conv2d(192, 48, kernel_size=(3, 3), stride=(1, 1), padding=(1, 1), bias=False)\n",
              "      )\n",
              "      (denselayer4): _DenseLayer(\n",
              "        (norm1): BatchNorm2d(528, eps=1e-05, momentum=0.1, affine=True, track_running_stats=True)\n",
              "        (relu1): ReLU(inplace=True)\n",
              "        (conv1): Conv2d(528, 192, kernel_size=(1, 1), stride=(1, 1), bias=False)\n",
              "        (norm2): BatchNorm2d(192, eps=1e-05, momentum=0.1, affine=True, track_running_stats=True)\n",
              "        (relu2): ReLU(inplace=True)\n",
              "        (conv2): Conv2d(192, 48, kernel_size=(3, 3), stride=(1, 1), padding=(1, 1), bias=False)\n",
              "      )\n",
              "      (denselayer5): _DenseLayer(\n",
              "        (norm1): BatchNorm2d(576, eps=1e-05, momentum=0.1, affine=True, track_running_stats=True)\n",
              "        (relu1): ReLU(inplace=True)\n",
              "        (conv1): Conv2d(576, 192, kernel_size=(1, 1), stride=(1, 1), bias=False)\n",
              "        (norm2): BatchNorm2d(192, eps=1e-05, momentum=0.1, affine=True, track_running_stats=True)\n",
              "        (relu2): ReLU(inplace=True)\n",
              "        (conv2): Conv2d(192, 48, kernel_size=(3, 3), stride=(1, 1), padding=(1, 1), bias=False)\n",
              "      )\n",
              "      (denselayer6): _DenseLayer(\n",
              "        (norm1): BatchNorm2d(624, eps=1e-05, momentum=0.1, affine=True, track_running_stats=True)\n",
              "        (relu1): ReLU(inplace=True)\n",
              "        (conv1): Conv2d(624, 192, kernel_size=(1, 1), stride=(1, 1), bias=False)\n",
              "        (norm2): BatchNorm2d(192, eps=1e-05, momentum=0.1, affine=True, track_running_stats=True)\n",
              "        (relu2): ReLU(inplace=True)\n",
              "        (conv2): Conv2d(192, 48, kernel_size=(3, 3), stride=(1, 1), padding=(1, 1), bias=False)\n",
              "      )\n",
              "      (denselayer7): _DenseLayer(\n",
              "        (norm1): BatchNorm2d(672, eps=1e-05, momentum=0.1, affine=True, track_running_stats=True)\n",
              "        (relu1): ReLU(inplace=True)\n",
              "        (conv1): Conv2d(672, 192, kernel_size=(1, 1), stride=(1, 1), bias=False)\n",
              "        (norm2): BatchNorm2d(192, eps=1e-05, momentum=0.1, affine=True, track_running_stats=True)\n",
              "        (relu2): ReLU(inplace=True)\n",
              "        (conv2): Conv2d(192, 48, kernel_size=(3, 3), stride=(1, 1), padding=(1, 1), bias=False)\n",
              "      )\n",
              "      (denselayer8): _DenseLayer(\n",
              "        (norm1): BatchNorm2d(720, eps=1e-05, momentum=0.1, affine=True, track_running_stats=True)\n",
              "        (relu1): ReLU(inplace=True)\n",
              "        (conv1): Conv2d(720, 192, kernel_size=(1, 1), stride=(1, 1), bias=False)\n",
              "        (norm2): BatchNorm2d(192, eps=1e-05, momentum=0.1, affine=True, track_running_stats=True)\n",
              "        (relu2): ReLU(inplace=True)\n",
              "        (conv2): Conv2d(192, 48, kernel_size=(3, 3), stride=(1, 1), padding=(1, 1), bias=False)\n",
              "      )\n",
              "      (denselayer9): _DenseLayer(\n",
              "        (norm1): BatchNorm2d(768, eps=1e-05, momentum=0.1, affine=True, track_running_stats=True)\n",
              "        (relu1): ReLU(inplace=True)\n",
              "        (conv1): Conv2d(768, 192, kernel_size=(1, 1), stride=(1, 1), bias=False)\n",
              "        (norm2): BatchNorm2d(192, eps=1e-05, momentum=0.1, affine=True, track_running_stats=True)\n",
              "        (relu2): ReLU(inplace=True)\n",
              "        (conv2): Conv2d(192, 48, kernel_size=(3, 3), stride=(1, 1), padding=(1, 1), bias=False)\n",
              "      )\n",
              "      (denselayer10): _DenseLayer(\n",
              "        (norm1): BatchNorm2d(816, eps=1e-05, momentum=0.1, affine=True, track_running_stats=True)\n",
              "        (relu1): ReLU(inplace=True)\n",
              "        (conv1): Conv2d(816, 192, kernel_size=(1, 1), stride=(1, 1), bias=False)\n",
              "        (norm2): BatchNorm2d(192, eps=1e-05, momentum=0.1, affine=True, track_running_stats=True)\n",
              "        (relu2): ReLU(inplace=True)\n",
              "        (conv2): Conv2d(192, 48, kernel_size=(3, 3), stride=(1, 1), padding=(1, 1), bias=False)\n",
              "      )\n",
              "      (denselayer11): _DenseLayer(\n",
              "        (norm1): BatchNorm2d(864, eps=1e-05, momentum=0.1, affine=True, track_running_stats=True)\n",
              "        (relu1): ReLU(inplace=True)\n",
              "        (conv1): Conv2d(864, 192, kernel_size=(1, 1), stride=(1, 1), bias=False)\n",
              "        (norm2): BatchNorm2d(192, eps=1e-05, momentum=0.1, affine=True, track_running_stats=True)\n",
              "        (relu2): ReLU(inplace=True)\n",
              "        (conv2): Conv2d(192, 48, kernel_size=(3, 3), stride=(1, 1), padding=(1, 1), bias=False)\n",
              "      )\n",
              "      (denselayer12): _DenseLayer(\n",
              "        (norm1): BatchNorm2d(912, eps=1e-05, momentum=0.1, affine=True, track_running_stats=True)\n",
              "        (relu1): ReLU(inplace=True)\n",
              "        (conv1): Conv2d(912, 192, kernel_size=(1, 1), stride=(1, 1), bias=False)\n",
              "        (norm2): BatchNorm2d(192, eps=1e-05, momentum=0.1, affine=True, track_running_stats=True)\n",
              "        (relu2): ReLU(inplace=True)\n",
              "        (conv2): Conv2d(192, 48, kernel_size=(3, 3), stride=(1, 1), padding=(1, 1), bias=False)\n",
              "      )\n",
              "      (denselayer13): _DenseLayer(\n",
              "        (norm1): BatchNorm2d(960, eps=1e-05, momentum=0.1, affine=True, track_running_stats=True)\n",
              "        (relu1): ReLU(inplace=True)\n",
              "        (conv1): Conv2d(960, 192, kernel_size=(1, 1), stride=(1, 1), bias=False)\n",
              "        (norm2): BatchNorm2d(192, eps=1e-05, momentum=0.1, affine=True, track_running_stats=True)\n",
              "        (relu2): ReLU(inplace=True)\n",
              "        (conv2): Conv2d(192, 48, kernel_size=(3, 3), stride=(1, 1), padding=(1, 1), bias=False)\n",
              "      )\n",
              "      (denselayer14): _DenseLayer(\n",
              "        (norm1): BatchNorm2d(1008, eps=1e-05, momentum=0.1, affine=True, track_running_stats=True)\n",
              "        (relu1): ReLU(inplace=True)\n",
              "        (conv1): Conv2d(1008, 192, kernel_size=(1, 1), stride=(1, 1), bias=False)\n",
              "        (norm2): BatchNorm2d(192, eps=1e-05, momentum=0.1, affine=True, track_running_stats=True)\n",
              "        (relu2): ReLU(inplace=True)\n",
              "        (conv2): Conv2d(192, 48, kernel_size=(3, 3), stride=(1, 1), padding=(1, 1), bias=False)\n",
              "      )\n",
              "      (denselayer15): _DenseLayer(\n",
              "        (norm1): BatchNorm2d(1056, eps=1e-05, momentum=0.1, affine=True, track_running_stats=True)\n",
              "        (relu1): ReLU(inplace=True)\n",
              "        (conv1): Conv2d(1056, 192, kernel_size=(1, 1), stride=(1, 1), bias=False)\n",
              "        (norm2): BatchNorm2d(192, eps=1e-05, momentum=0.1, affine=True, track_running_stats=True)\n",
              "        (relu2): ReLU(inplace=True)\n",
              "        (conv2): Conv2d(192, 48, kernel_size=(3, 3), stride=(1, 1), padding=(1, 1), bias=False)\n",
              "      )\n",
              "      (denselayer16): _DenseLayer(\n",
              "        (norm1): BatchNorm2d(1104, eps=1e-05, momentum=0.1, affine=True, track_running_stats=True)\n",
              "        (relu1): ReLU(inplace=True)\n",
              "        (conv1): Conv2d(1104, 192, kernel_size=(1, 1), stride=(1, 1), bias=False)\n",
              "        (norm2): BatchNorm2d(192, eps=1e-05, momentum=0.1, affine=True, track_running_stats=True)\n",
              "        (relu2): ReLU(inplace=True)\n",
              "        (conv2): Conv2d(192, 48, kernel_size=(3, 3), stride=(1, 1), padding=(1, 1), bias=False)\n",
              "      )\n",
              "      (denselayer17): _DenseLayer(\n",
              "        (norm1): BatchNorm2d(1152, eps=1e-05, momentum=0.1, affine=True, track_running_stats=True)\n",
              "        (relu1): ReLU(inplace=True)\n",
              "        (conv1): Conv2d(1152, 192, kernel_size=(1, 1), stride=(1, 1), bias=False)\n",
              "        (norm2): BatchNorm2d(192, eps=1e-05, momentum=0.1, affine=True, track_running_stats=True)\n",
              "        (relu2): ReLU(inplace=True)\n",
              "        (conv2): Conv2d(192, 48, kernel_size=(3, 3), stride=(1, 1), padding=(1, 1), bias=False)\n",
              "      )\n",
              "      (denselayer18): _DenseLayer(\n",
              "        (norm1): BatchNorm2d(1200, eps=1e-05, momentum=0.1, affine=True, track_running_stats=True)\n",
              "        (relu1): ReLU(inplace=True)\n",
              "        (conv1): Conv2d(1200, 192, kernel_size=(1, 1), stride=(1, 1), bias=False)\n",
              "        (norm2): BatchNorm2d(192, eps=1e-05, momentum=0.1, affine=True, track_running_stats=True)\n",
              "        (relu2): ReLU(inplace=True)\n",
              "        (conv2): Conv2d(192, 48, kernel_size=(3, 3), stride=(1, 1), padding=(1, 1), bias=False)\n",
              "      )\n",
              "      (denselayer19): _DenseLayer(\n",
              "        (norm1): BatchNorm2d(1248, eps=1e-05, momentum=0.1, affine=True, track_running_stats=True)\n",
              "        (relu1): ReLU(inplace=True)\n",
              "        (conv1): Conv2d(1248, 192, kernel_size=(1, 1), stride=(1, 1), bias=False)\n",
              "        (norm2): BatchNorm2d(192, eps=1e-05, momentum=0.1, affine=True, track_running_stats=True)\n",
              "        (relu2): ReLU(inplace=True)\n",
              "        (conv2): Conv2d(192, 48, kernel_size=(3, 3), stride=(1, 1), padding=(1, 1), bias=False)\n",
              "      )\n",
              "      (denselayer20): _DenseLayer(\n",
              "        (norm1): BatchNorm2d(1296, eps=1e-05, momentum=0.1, affine=True, track_running_stats=True)\n",
              "        (relu1): ReLU(inplace=True)\n",
              "        (conv1): Conv2d(1296, 192, kernel_size=(1, 1), stride=(1, 1), bias=False)\n",
              "        (norm2): BatchNorm2d(192, eps=1e-05, momentum=0.1, affine=True, track_running_stats=True)\n",
              "        (relu2): ReLU(inplace=True)\n",
              "        (conv2): Conv2d(192, 48, kernel_size=(3, 3), stride=(1, 1), padding=(1, 1), bias=False)\n",
              "      )\n",
              "      (denselayer21): _DenseLayer(\n",
              "        (norm1): BatchNorm2d(1344, eps=1e-05, momentum=0.1, affine=True, track_running_stats=True)\n",
              "        (relu1): ReLU(inplace=True)\n",
              "        (conv1): Conv2d(1344, 192, kernel_size=(1, 1), stride=(1, 1), bias=False)\n",
              "        (norm2): BatchNorm2d(192, eps=1e-05, momentum=0.1, affine=True, track_running_stats=True)\n",
              "        (relu2): ReLU(inplace=True)\n",
              "        (conv2): Conv2d(192, 48, kernel_size=(3, 3), stride=(1, 1), padding=(1, 1), bias=False)\n",
              "      )\n",
              "      (denselayer22): _DenseLayer(\n",
              "        (norm1): BatchNorm2d(1392, eps=1e-05, momentum=0.1, affine=True, track_running_stats=True)\n",
              "        (relu1): ReLU(inplace=True)\n",
              "        (conv1): Conv2d(1392, 192, kernel_size=(1, 1), stride=(1, 1), bias=False)\n",
              "        (norm2): BatchNorm2d(192, eps=1e-05, momentum=0.1, affine=True, track_running_stats=True)\n",
              "        (relu2): ReLU(inplace=True)\n",
              "        (conv2): Conv2d(192, 48, kernel_size=(3, 3), stride=(1, 1), padding=(1, 1), bias=False)\n",
              "      )\n",
              "      (denselayer23): _DenseLayer(\n",
              "        (norm1): BatchNorm2d(1440, eps=1e-05, momentum=0.1, affine=True, track_running_stats=True)\n",
              "        (relu1): ReLU(inplace=True)\n",
              "        (conv1): Conv2d(1440, 192, kernel_size=(1, 1), stride=(1, 1), bias=False)\n",
              "        (norm2): BatchNorm2d(192, eps=1e-05, momentum=0.1, affine=True, track_running_stats=True)\n",
              "        (relu2): ReLU(inplace=True)\n",
              "        (conv2): Conv2d(192, 48, kernel_size=(3, 3), stride=(1, 1), padding=(1, 1), bias=False)\n",
              "      )\n",
              "      (denselayer24): _DenseLayer(\n",
              "        (norm1): BatchNorm2d(1488, eps=1e-05, momentum=0.1, affine=True, track_running_stats=True)\n",
              "        (relu1): ReLU(inplace=True)\n",
              "        (conv1): Conv2d(1488, 192, kernel_size=(1, 1), stride=(1, 1), bias=False)\n",
              "        (norm2): BatchNorm2d(192, eps=1e-05, momentum=0.1, affine=True, track_running_stats=True)\n",
              "        (relu2): ReLU(inplace=True)\n",
              "        (conv2): Conv2d(192, 48, kernel_size=(3, 3), stride=(1, 1), padding=(1, 1), bias=False)\n",
              "      )\n",
              "      (denselayer25): _DenseLayer(\n",
              "        (norm1): BatchNorm2d(1536, eps=1e-05, momentum=0.1, affine=True, track_running_stats=True)\n",
              "        (relu1): ReLU(inplace=True)\n",
              "        (conv1): Conv2d(1536, 192, kernel_size=(1, 1), stride=(1, 1), bias=False)\n",
              "        (norm2): BatchNorm2d(192, eps=1e-05, momentum=0.1, affine=True, track_running_stats=True)\n",
              "        (relu2): ReLU(inplace=True)\n",
              "        (conv2): Conv2d(192, 48, kernel_size=(3, 3), stride=(1, 1), padding=(1, 1), bias=False)\n",
              "      )\n",
              "      (denselayer26): _DenseLayer(\n",
              "        (norm1): BatchNorm2d(1584, eps=1e-05, momentum=0.1, affine=True, track_running_stats=True)\n",
              "        (relu1): ReLU(inplace=True)\n",
              "        (conv1): Conv2d(1584, 192, kernel_size=(1, 1), stride=(1, 1), bias=False)\n",
              "        (norm2): BatchNorm2d(192, eps=1e-05, momentum=0.1, affine=True, track_running_stats=True)\n",
              "        (relu2): ReLU(inplace=True)\n",
              "        (conv2): Conv2d(192, 48, kernel_size=(3, 3), stride=(1, 1), padding=(1, 1), bias=False)\n",
              "      )\n",
              "      (denselayer27): _DenseLayer(\n",
              "        (norm1): BatchNorm2d(1632, eps=1e-05, momentum=0.1, affine=True, track_running_stats=True)\n",
              "        (relu1): ReLU(inplace=True)\n",
              "        (conv1): Conv2d(1632, 192, kernel_size=(1, 1), stride=(1, 1), bias=False)\n",
              "        (norm2): BatchNorm2d(192, eps=1e-05, momentum=0.1, affine=True, track_running_stats=True)\n",
              "        (relu2): ReLU(inplace=True)\n",
              "        (conv2): Conv2d(192, 48, kernel_size=(3, 3), stride=(1, 1), padding=(1, 1), bias=False)\n",
              "      )\n",
              "      (denselayer28): _DenseLayer(\n",
              "        (norm1): BatchNorm2d(1680, eps=1e-05, momentum=0.1, affine=True, track_running_stats=True)\n",
              "        (relu1): ReLU(inplace=True)\n",
              "        (conv1): Conv2d(1680, 192, kernel_size=(1, 1), stride=(1, 1), bias=False)\n",
              "        (norm2): BatchNorm2d(192, eps=1e-05, momentum=0.1, affine=True, track_running_stats=True)\n",
              "        (relu2): ReLU(inplace=True)\n",
              "        (conv2): Conv2d(192, 48, kernel_size=(3, 3), stride=(1, 1), padding=(1, 1), bias=False)\n",
              "      )\n",
              "      (denselayer29): _DenseLayer(\n",
              "        (norm1): BatchNorm2d(1728, eps=1e-05, momentum=0.1, affine=True, track_running_stats=True)\n",
              "        (relu1): ReLU(inplace=True)\n",
              "        (conv1): Conv2d(1728, 192, kernel_size=(1, 1), stride=(1, 1), bias=False)\n",
              "        (norm2): BatchNorm2d(192, eps=1e-05, momentum=0.1, affine=True, track_running_stats=True)\n",
              "        (relu2): ReLU(inplace=True)\n",
              "        (conv2): Conv2d(192, 48, kernel_size=(3, 3), stride=(1, 1), padding=(1, 1), bias=False)\n",
              "      )\n",
              "      (denselayer30): _DenseLayer(\n",
              "        (norm1): BatchNorm2d(1776, eps=1e-05, momentum=0.1, affine=True, track_running_stats=True)\n",
              "        (relu1): ReLU(inplace=True)\n",
              "        (conv1): Conv2d(1776, 192, kernel_size=(1, 1), stride=(1, 1), bias=False)\n",
              "        (norm2): BatchNorm2d(192, eps=1e-05, momentum=0.1, affine=True, track_running_stats=True)\n",
              "        (relu2): ReLU(inplace=True)\n",
              "        (conv2): Conv2d(192, 48, kernel_size=(3, 3), stride=(1, 1), padding=(1, 1), bias=False)\n",
              "      )\n",
              "      (denselayer31): _DenseLayer(\n",
              "        (norm1): BatchNorm2d(1824, eps=1e-05, momentum=0.1, affine=True, track_running_stats=True)\n",
              "        (relu1): ReLU(inplace=True)\n",
              "        (conv1): Conv2d(1824, 192, kernel_size=(1, 1), stride=(1, 1), bias=False)\n",
              "        (norm2): BatchNorm2d(192, eps=1e-05, momentum=0.1, affine=True, track_running_stats=True)\n",
              "        (relu2): ReLU(inplace=True)\n",
              "        (conv2): Conv2d(192, 48, kernel_size=(3, 3), stride=(1, 1), padding=(1, 1), bias=False)\n",
              "      )\n",
              "      (denselayer32): _DenseLayer(\n",
              "        (norm1): BatchNorm2d(1872, eps=1e-05, momentum=0.1, affine=True, track_running_stats=True)\n",
              "        (relu1): ReLU(inplace=True)\n",
              "        (conv1): Conv2d(1872, 192, kernel_size=(1, 1), stride=(1, 1), bias=False)\n",
              "        (norm2): BatchNorm2d(192, eps=1e-05, momentum=0.1, affine=True, track_running_stats=True)\n",
              "        (relu2): ReLU(inplace=True)\n",
              "        (conv2): Conv2d(192, 48, kernel_size=(3, 3), stride=(1, 1), padding=(1, 1), bias=False)\n",
              "      )\n",
              "      (denselayer33): _DenseLayer(\n",
              "        (norm1): BatchNorm2d(1920, eps=1e-05, momentum=0.1, affine=True, track_running_stats=True)\n",
              "        (relu1): ReLU(inplace=True)\n",
              "        (conv1): Conv2d(1920, 192, kernel_size=(1, 1), stride=(1, 1), bias=False)\n",
              "        (norm2): BatchNorm2d(192, eps=1e-05, momentum=0.1, affine=True, track_running_stats=True)\n",
              "        (relu2): ReLU(inplace=True)\n",
              "        (conv2): Conv2d(192, 48, kernel_size=(3, 3), stride=(1, 1), padding=(1, 1), bias=False)\n",
              "      )\n",
              "      (denselayer34): _DenseLayer(\n",
              "        (norm1): BatchNorm2d(1968, eps=1e-05, momentum=0.1, affine=True, track_running_stats=True)\n",
              "        (relu1): ReLU(inplace=True)\n",
              "        (conv1): Conv2d(1968, 192, kernel_size=(1, 1), stride=(1, 1), bias=False)\n",
              "        (norm2): BatchNorm2d(192, eps=1e-05, momentum=0.1, affine=True, track_running_stats=True)\n",
              "        (relu2): ReLU(inplace=True)\n",
              "        (conv2): Conv2d(192, 48, kernel_size=(3, 3), stride=(1, 1), padding=(1, 1), bias=False)\n",
              "      )\n",
              "      (denselayer35): _DenseLayer(\n",
              "        (norm1): BatchNorm2d(2016, eps=1e-05, momentum=0.1, affine=True, track_running_stats=True)\n",
              "        (relu1): ReLU(inplace=True)\n",
              "        (conv1): Conv2d(2016, 192, kernel_size=(1, 1), stride=(1, 1), bias=False)\n",
              "        (norm2): BatchNorm2d(192, eps=1e-05, momentum=0.1, affine=True, track_running_stats=True)\n",
              "        (relu2): ReLU(inplace=True)\n",
              "        (conv2): Conv2d(192, 48, kernel_size=(3, 3), stride=(1, 1), padding=(1, 1), bias=False)\n",
              "      )\n",
              "      (denselayer36): _DenseLayer(\n",
              "        (norm1): BatchNorm2d(2064, eps=1e-05, momentum=0.1, affine=True, track_running_stats=True)\n",
              "        (relu1): ReLU(inplace=True)\n",
              "        (conv1): Conv2d(2064, 192, kernel_size=(1, 1), stride=(1, 1), bias=False)\n",
              "        (norm2): BatchNorm2d(192, eps=1e-05, momentum=0.1, affine=True, track_running_stats=True)\n",
              "        (relu2): ReLU(inplace=True)\n",
              "        (conv2): Conv2d(192, 48, kernel_size=(3, 3), stride=(1, 1), padding=(1, 1), bias=False)\n",
              "      )\n",
              "    )\n",
              "    (transition3): _Transition(\n",
              "      (norm): BatchNorm2d(2112, eps=1e-05, momentum=0.1, affine=True, track_running_stats=True)\n",
              "      (relu): ReLU(inplace=True)\n",
              "      (conv): Conv2d(2112, 1056, kernel_size=(1, 1), stride=(1, 1), bias=False)\n",
              "      (pool): AvgPool2d(kernel_size=2, stride=2, padding=0)\n",
              "    )\n",
              "    (denseblock4): _DenseBlock(\n",
              "      (denselayer1): _DenseLayer(\n",
              "        (norm1): BatchNorm2d(1056, eps=1e-05, momentum=0.1, affine=True, track_running_stats=True)\n",
              "        (relu1): ReLU(inplace=True)\n",
              "        (conv1): Conv2d(1056, 192, kernel_size=(1, 1), stride=(1, 1), bias=False)\n",
              "        (norm2): BatchNorm2d(192, eps=1e-05, momentum=0.1, affine=True, track_running_stats=True)\n",
              "        (relu2): ReLU(inplace=True)\n",
              "        (conv2): Conv2d(192, 48, kernel_size=(3, 3), stride=(1, 1), padding=(1, 1), bias=False)\n",
              "      )\n",
              "      (denselayer2): _DenseLayer(\n",
              "        (norm1): BatchNorm2d(1104, eps=1e-05, momentum=0.1, affine=True, track_running_stats=True)\n",
              "        (relu1): ReLU(inplace=True)\n",
              "        (conv1): Conv2d(1104, 192, kernel_size=(1, 1), stride=(1, 1), bias=False)\n",
              "        (norm2): BatchNorm2d(192, eps=1e-05, momentum=0.1, affine=True, track_running_stats=True)\n",
              "        (relu2): ReLU(inplace=True)\n",
              "        (conv2): Conv2d(192, 48, kernel_size=(3, 3), stride=(1, 1), padding=(1, 1), bias=False)\n",
              "      )\n",
              "      (denselayer3): _DenseLayer(\n",
              "        (norm1): BatchNorm2d(1152, eps=1e-05, momentum=0.1, affine=True, track_running_stats=True)\n",
              "        (relu1): ReLU(inplace=True)\n",
              "        (conv1): Conv2d(1152, 192, kernel_size=(1, 1), stride=(1, 1), bias=False)\n",
              "        (norm2): BatchNorm2d(192, eps=1e-05, momentum=0.1, affine=True, track_running_stats=True)\n",
              "        (relu2): ReLU(inplace=True)\n",
              "        (conv2): Conv2d(192, 48, kernel_size=(3, 3), stride=(1, 1), padding=(1, 1), bias=False)\n",
              "      )\n",
              "      (denselayer4): _DenseLayer(\n",
              "        (norm1): BatchNorm2d(1200, eps=1e-05, momentum=0.1, affine=True, track_running_stats=True)\n",
              "        (relu1): ReLU(inplace=True)\n",
              "        (conv1): Conv2d(1200, 192, kernel_size=(1, 1), stride=(1, 1), bias=False)\n",
              "        (norm2): BatchNorm2d(192, eps=1e-05, momentum=0.1, affine=True, track_running_stats=True)\n",
              "        (relu2): ReLU(inplace=True)\n",
              "        (conv2): Conv2d(192, 48, kernel_size=(3, 3), stride=(1, 1), padding=(1, 1), bias=False)\n",
              "      )\n",
              "      (denselayer5): _DenseLayer(\n",
              "        (norm1): BatchNorm2d(1248, eps=1e-05, momentum=0.1, affine=True, track_running_stats=True)\n",
              "        (relu1): ReLU(inplace=True)\n",
              "        (conv1): Conv2d(1248, 192, kernel_size=(1, 1), stride=(1, 1), bias=False)\n",
              "        (norm2): BatchNorm2d(192, eps=1e-05, momentum=0.1, affine=True, track_running_stats=True)\n",
              "        (relu2): ReLU(inplace=True)\n",
              "        (conv2): Conv2d(192, 48, kernel_size=(3, 3), stride=(1, 1), padding=(1, 1), bias=False)\n",
              "      )\n",
              "      (denselayer6): _DenseLayer(\n",
              "        (norm1): BatchNorm2d(1296, eps=1e-05, momentum=0.1, affine=True, track_running_stats=True)\n",
              "        (relu1): ReLU(inplace=True)\n",
              "        (conv1): Conv2d(1296, 192, kernel_size=(1, 1), stride=(1, 1), bias=False)\n",
              "        (norm2): BatchNorm2d(192, eps=1e-05, momentum=0.1, affine=True, track_running_stats=True)\n",
              "        (relu2): ReLU(inplace=True)\n",
              "        (conv2): Conv2d(192, 48, kernel_size=(3, 3), stride=(1, 1), padding=(1, 1), bias=False)\n",
              "      )\n",
              "      (denselayer7): _DenseLayer(\n",
              "        (norm1): BatchNorm2d(1344, eps=1e-05, momentum=0.1, affine=True, track_running_stats=True)\n",
              "        (relu1): ReLU(inplace=True)\n",
              "        (conv1): Conv2d(1344, 192, kernel_size=(1, 1), stride=(1, 1), bias=False)\n",
              "        (norm2): BatchNorm2d(192, eps=1e-05, momentum=0.1, affine=True, track_running_stats=True)\n",
              "        (relu2): ReLU(inplace=True)\n",
              "        (conv2): Conv2d(192, 48, kernel_size=(3, 3), stride=(1, 1), padding=(1, 1), bias=False)\n",
              "      )\n",
              "      (denselayer8): _DenseLayer(\n",
              "        (norm1): BatchNorm2d(1392, eps=1e-05, momentum=0.1, affine=True, track_running_stats=True)\n",
              "        (relu1): ReLU(inplace=True)\n",
              "        (conv1): Conv2d(1392, 192, kernel_size=(1, 1), stride=(1, 1), bias=False)\n",
              "        (norm2): BatchNorm2d(192, eps=1e-05, momentum=0.1, affine=True, track_running_stats=True)\n",
              "        (relu2): ReLU(inplace=True)\n",
              "        (conv2): Conv2d(192, 48, kernel_size=(3, 3), stride=(1, 1), padding=(1, 1), bias=False)\n",
              "      )\n",
              "      (denselayer9): _DenseLayer(\n",
              "        (norm1): BatchNorm2d(1440, eps=1e-05, momentum=0.1, affine=True, track_running_stats=True)\n",
              "        (relu1): ReLU(inplace=True)\n",
              "        (conv1): Conv2d(1440, 192, kernel_size=(1, 1), stride=(1, 1), bias=False)\n",
              "        (norm2): BatchNorm2d(192, eps=1e-05, momentum=0.1, affine=True, track_running_stats=True)\n",
              "        (relu2): ReLU(inplace=True)\n",
              "        (conv2): Conv2d(192, 48, kernel_size=(3, 3), stride=(1, 1), padding=(1, 1), bias=False)\n",
              "      )\n",
              "      (denselayer10): _DenseLayer(\n",
              "        (norm1): BatchNorm2d(1488, eps=1e-05, momentum=0.1, affine=True, track_running_stats=True)\n",
              "        (relu1): ReLU(inplace=True)\n",
              "        (conv1): Conv2d(1488, 192, kernel_size=(1, 1), stride=(1, 1), bias=False)\n",
              "        (norm2): BatchNorm2d(192, eps=1e-05, momentum=0.1, affine=True, track_running_stats=True)\n",
              "        (relu2): ReLU(inplace=True)\n",
              "        (conv2): Conv2d(192, 48, kernel_size=(3, 3), stride=(1, 1), padding=(1, 1), bias=False)\n",
              "      )\n",
              "      (denselayer11): _DenseLayer(\n",
              "        (norm1): BatchNorm2d(1536, eps=1e-05, momentum=0.1, affine=True, track_running_stats=True)\n",
              "        (relu1): ReLU(inplace=True)\n",
              "        (conv1): Conv2d(1536, 192, kernel_size=(1, 1), stride=(1, 1), bias=False)\n",
              "        (norm2): BatchNorm2d(192, eps=1e-05, momentum=0.1, affine=True, track_running_stats=True)\n",
              "        (relu2): ReLU(inplace=True)\n",
              "        (conv2): Conv2d(192, 48, kernel_size=(3, 3), stride=(1, 1), padding=(1, 1), bias=False)\n",
              "      )\n",
              "      (denselayer12): _DenseLayer(\n",
              "        (norm1): BatchNorm2d(1584, eps=1e-05, momentum=0.1, affine=True, track_running_stats=True)\n",
              "        (relu1): ReLU(inplace=True)\n",
              "        (conv1): Conv2d(1584, 192, kernel_size=(1, 1), stride=(1, 1), bias=False)\n",
              "        (norm2): BatchNorm2d(192, eps=1e-05, momentum=0.1, affine=True, track_running_stats=True)\n",
              "        (relu2): ReLU(inplace=True)\n",
              "        (conv2): Conv2d(192, 48, kernel_size=(3, 3), stride=(1, 1), padding=(1, 1), bias=False)\n",
              "      )\n",
              "      (denselayer13): _DenseLayer(\n",
              "        (norm1): BatchNorm2d(1632, eps=1e-05, momentum=0.1, affine=True, track_running_stats=True)\n",
              "        (relu1): ReLU(inplace=True)\n",
              "        (conv1): Conv2d(1632, 192, kernel_size=(1, 1), stride=(1, 1), bias=False)\n",
              "        (norm2): BatchNorm2d(192, eps=1e-05, momentum=0.1, affine=True, track_running_stats=True)\n",
              "        (relu2): ReLU(inplace=True)\n",
              "        (conv2): Conv2d(192, 48, kernel_size=(3, 3), stride=(1, 1), padding=(1, 1), bias=False)\n",
              "      )\n",
              "      (denselayer14): _DenseLayer(\n",
              "        (norm1): BatchNorm2d(1680, eps=1e-05, momentum=0.1, affine=True, track_running_stats=True)\n",
              "        (relu1): ReLU(inplace=True)\n",
              "        (conv1): Conv2d(1680, 192, kernel_size=(1, 1), stride=(1, 1), bias=False)\n",
              "        (norm2): BatchNorm2d(192, eps=1e-05, momentum=0.1, affine=True, track_running_stats=True)\n",
              "        (relu2): ReLU(inplace=True)\n",
              "        (conv2): Conv2d(192, 48, kernel_size=(3, 3), stride=(1, 1), padding=(1, 1), bias=False)\n",
              "      )\n",
              "      (denselayer15): _DenseLayer(\n",
              "        (norm1): BatchNorm2d(1728, eps=1e-05, momentum=0.1, affine=True, track_running_stats=True)\n",
              "        (relu1): ReLU(inplace=True)\n",
              "        (conv1): Conv2d(1728, 192, kernel_size=(1, 1), stride=(1, 1), bias=False)\n",
              "        (norm2): BatchNorm2d(192, eps=1e-05, momentum=0.1, affine=True, track_running_stats=True)\n",
              "        (relu2): ReLU(inplace=True)\n",
              "        (conv2): Conv2d(192, 48, kernel_size=(3, 3), stride=(1, 1), padding=(1, 1), bias=False)\n",
              "      )\n",
              "      (denselayer16): _DenseLayer(\n",
              "        (norm1): BatchNorm2d(1776, eps=1e-05, momentum=0.1, affine=True, track_running_stats=True)\n",
              "        (relu1): ReLU(inplace=True)\n",
              "        (conv1): Conv2d(1776, 192, kernel_size=(1, 1), stride=(1, 1), bias=False)\n",
              "        (norm2): BatchNorm2d(192, eps=1e-05, momentum=0.1, affine=True, track_running_stats=True)\n",
              "        (relu2): ReLU(inplace=True)\n",
              "        (conv2): Conv2d(192, 48, kernel_size=(3, 3), stride=(1, 1), padding=(1, 1), bias=False)\n",
              "      )\n",
              "      (denselayer17): _DenseLayer(\n",
              "        (norm1): BatchNorm2d(1824, eps=1e-05, momentum=0.1, affine=True, track_running_stats=True)\n",
              "        (relu1): ReLU(inplace=True)\n",
              "        (conv1): Conv2d(1824, 192, kernel_size=(1, 1), stride=(1, 1), bias=False)\n",
              "        (norm2): BatchNorm2d(192, eps=1e-05, momentum=0.1, affine=True, track_running_stats=True)\n",
              "        (relu2): ReLU(inplace=True)\n",
              "        (conv2): Conv2d(192, 48, kernel_size=(3, 3), stride=(1, 1), padding=(1, 1), bias=False)\n",
              "      )\n",
              "      (denselayer18): _DenseLayer(\n",
              "        (norm1): BatchNorm2d(1872, eps=1e-05, momentum=0.1, affine=True, track_running_stats=True)\n",
              "        (relu1): ReLU(inplace=True)\n",
              "        (conv1): Conv2d(1872, 192, kernel_size=(1, 1), stride=(1, 1), bias=False)\n",
              "        (norm2): BatchNorm2d(192, eps=1e-05, momentum=0.1, affine=True, track_running_stats=True)\n",
              "        (relu2): ReLU(inplace=True)\n",
              "        (conv2): Conv2d(192, 48, kernel_size=(3, 3), stride=(1, 1), padding=(1, 1), bias=False)\n",
              "      )\n",
              "      (denselayer19): _DenseLayer(\n",
              "        (norm1): BatchNorm2d(1920, eps=1e-05, momentum=0.1, affine=True, track_running_stats=True)\n",
              "        (relu1): ReLU(inplace=True)\n",
              "        (conv1): Conv2d(1920, 192, kernel_size=(1, 1), stride=(1, 1), bias=False)\n",
              "        (norm2): BatchNorm2d(192, eps=1e-05, momentum=0.1, affine=True, track_running_stats=True)\n",
              "        (relu2): ReLU(inplace=True)\n",
              "        (conv2): Conv2d(192, 48, kernel_size=(3, 3), stride=(1, 1), padding=(1, 1), bias=False)\n",
              "      )\n",
              "      (denselayer20): _DenseLayer(\n",
              "        (norm1): BatchNorm2d(1968, eps=1e-05, momentum=0.1, affine=True, track_running_stats=True)\n",
              "        (relu1): ReLU(inplace=True)\n",
              "        (conv1): Conv2d(1968, 192, kernel_size=(1, 1), stride=(1, 1), bias=False)\n",
              "        (norm2): BatchNorm2d(192, eps=1e-05, momentum=0.1, affine=True, track_running_stats=True)\n",
              "        (relu2): ReLU(inplace=True)\n",
              "        (conv2): Conv2d(192, 48, kernel_size=(3, 3), stride=(1, 1), padding=(1, 1), bias=False)\n",
              "      )\n",
              "      (denselayer21): _DenseLayer(\n",
              "        (norm1): BatchNorm2d(2016, eps=1e-05, momentum=0.1, affine=True, track_running_stats=True)\n",
              "        (relu1): ReLU(inplace=True)\n",
              "        (conv1): Conv2d(2016, 192, kernel_size=(1, 1), stride=(1, 1), bias=False)\n",
              "        (norm2): BatchNorm2d(192, eps=1e-05, momentum=0.1, affine=True, track_running_stats=True)\n",
              "        (relu2): ReLU(inplace=True)\n",
              "        (conv2): Conv2d(192, 48, kernel_size=(3, 3), stride=(1, 1), padding=(1, 1), bias=False)\n",
              "      )\n",
              "      (denselayer22): _DenseLayer(\n",
              "        (norm1): BatchNorm2d(2064, eps=1e-05, momentum=0.1, affine=True, track_running_stats=True)\n",
              "        (relu1): ReLU(inplace=True)\n",
              "        (conv1): Conv2d(2064, 192, kernel_size=(1, 1), stride=(1, 1), bias=False)\n",
              "        (norm2): BatchNorm2d(192, eps=1e-05, momentum=0.1, affine=True, track_running_stats=True)\n",
              "        (relu2): ReLU(inplace=True)\n",
              "        (conv2): Conv2d(192, 48, kernel_size=(3, 3), stride=(1, 1), padding=(1, 1), bias=False)\n",
              "      )\n",
              "      (denselayer23): _DenseLayer(\n",
              "        (norm1): BatchNorm2d(2112, eps=1e-05, momentum=0.1, affine=True, track_running_stats=True)\n",
              "        (relu1): ReLU(inplace=True)\n",
              "        (conv1): Conv2d(2112, 192, kernel_size=(1, 1), stride=(1, 1), bias=False)\n",
              "        (norm2): BatchNorm2d(192, eps=1e-05, momentum=0.1, affine=True, track_running_stats=True)\n",
              "        (relu2): ReLU(inplace=True)\n",
              "        (conv2): Conv2d(192, 48, kernel_size=(3, 3), stride=(1, 1), padding=(1, 1), bias=False)\n",
              "      )\n",
              "      (denselayer24): _DenseLayer(\n",
              "        (norm1): BatchNorm2d(2160, eps=1e-05, momentum=0.1, affine=True, track_running_stats=True)\n",
              "        (relu1): ReLU(inplace=True)\n",
              "        (conv1): Conv2d(2160, 192, kernel_size=(1, 1), stride=(1, 1), bias=False)\n",
              "        (norm2): BatchNorm2d(192, eps=1e-05, momentum=0.1, affine=True, track_running_stats=True)\n",
              "        (relu2): ReLU(inplace=True)\n",
              "        (conv2): Conv2d(192, 48, kernel_size=(3, 3), stride=(1, 1), padding=(1, 1), bias=False)\n",
              "      )\n",
              "    )\n",
              "    (norm5): BatchNorm2d(2208, eps=1e-05, momentum=0.1, affine=True, track_running_stats=True)\n",
              "  )\n",
              "  (classifier): Linear(in_features=2208, out_features=1000, bias=True)\n",
              ")"
            ]
          },
          "metadata": {},
          "execution_count": 71
        }
      ]
    },
    {
      "cell_type": "code",
      "execution_count": null,
      "metadata": {
        "ExecuteTime": {
          "end_time": "2019-11-18T17:23:47.319979Z",
          "start_time": "2019-11-18T17:23:47.316747Z"
        },
        "id": "g7d8QjgYAZ_g"
      },
      "outputs": [],
      "source": [
        "# Убираем требование градиента:\n",
        "for param in model.parameters():\n",
        "    param.requires_grad = False"
      ]
    },
    {
      "cell_type": "code",
      "execution_count": null,
      "metadata": {
        "ExecuteTime": {
          "end_time": "2019-11-18T17:24:04.770976Z",
          "start_time": "2019-11-18T17:24:04.766810Z"
        },
        "colab": {
          "base_uri": "https://localhost:8080/"
        },
        "outputId": "3e9aab48-7962-4898-a5bc-853a990d9391",
        "id": "Lgexjk8JAZ_j"
      },
      "outputs": [
        {
          "output_type": "execute_result",
          "data": {
            "text/plain": [
              "Linear(in_features=2208, out_features=1000, bias=True)"
            ]
          },
          "metadata": {},
          "execution_count": 73
        }
      ],
      "source": [
        "model.classifier"
      ]
    },
    {
      "cell_type": "code",
      "execution_count": null,
      "metadata": {
        "ExecuteTime": {
          "end_time": "2019-11-18T17:24:12.305790Z",
          "start_time": "2019-11-18T17:24:12.302517Z"
        },
        "id": "uSzRrmxVAZ_l"
      },
      "outputs": [],
      "source": [
        "model.classifier = nn.Linear(in_features=2208, out_features=10)"
      ]
    },
    {
      "cell_type": "code",
      "execution_count": null,
      "metadata": {
        "ExecuteTime": {
          "end_time": "2019-11-18T17:24:42.228326Z",
          "start_time": "2019-11-18T17:24:42.222643Z"
        },
        "colab": {
          "base_uri": "https://localhost:8080/"
        },
        "outputId": "0207a878-ebc2-4a93-d353-867da3d22537",
        "id": "RdlNjvJZAZ_n"
      },
      "outputs": [
        {
          "output_type": "stream",
          "name": "stdout",
          "text": [
            "Params to learn:\n",
            "\t classifier.weight\n",
            "\t classifier.bias\n"
          ]
        }
      ],
      "source": [
        "print(\"Params to learn:\")\n",
        "params_to_update = []\n",
        "for name, param in model.named_parameters():\n",
        "    if param.requires_grad == True:\n",
        "        params_to_update.append(param)\n",
        "        print(\"\\t\",name)"
      ]
    },
    {
      "cell_type": "code",
      "execution_count": null,
      "metadata": {
        "ExecuteTime": {
          "end_time": "2019-11-18T17:25:11.558131Z",
          "start_time": "2019-11-18T17:25:11.554358Z"
        },
        "id": "wJqgDnKIAZ_o"
      },
      "outputs": [],
      "source": [
        "trainer = torch.optim.Adam(params_to_update, lr=0.001)"
      ]
    },
    {
      "cell_type": "code",
      "execution_count": null,
      "metadata": {
        "ExecuteTime": {
          "end_time": "2019-11-18T17:26:20.718099Z",
          "start_time": "2019-11-18T17:25:20.979097Z"
        },
        "colab": {
          "base_uri": "https://localhost:8080/"
        },
        "outputId": "a0788b73-0de1-4542-fd69-c577a3d1c30b",
        "id": "EqUMukocAZ_o"
      },
      "outputs": [
        {
          "output_type": "stream",
          "name": "stdout",
          "text": [
            "Step 0. time since epoch: 2.244. Train acc: 0.086. Train Loss: 2.339\n",
            "Step 10. time since epoch: 24.914. Train acc: 0.429. Train Loss: 1.986\n",
            "Step 20. time since epoch: 47.535. Train acc: 0.586. Train Loss: 1.694\n",
            "Step 30. time since epoch: 69.426. Train acc: 0.656. Train Loss: 1.490\n",
            "Step 40. time since epoch: 91.260. Train acc: 0.696. Train Loss: 1.342\n",
            "Step 50. time since epoch: 113.317. Train acc: 0.729. Train Loss: 1.221\n",
            "Step 60. time since epoch: 135.461. Train acc: 0.751. Train Loss: 1.129\n",
            "Step 70. time since epoch: 157.398. Train acc: 0.769. Train Loss: 1.054\n",
            "Step 80. time since epoch: 179.258. Train acc: 0.785. Train Loss: 0.988\n",
            "Step 90. time since epoch: 201.216. Train acc: 0.797. Train Loss: 0.933\n",
            "Step 100. time since epoch: 223.297. Train acc: 0.808. Train Loss: 0.885\n",
            "Step 110. time since epoch: 245.309. Train acc: 0.816. Train Loss: 0.846\n",
            "Step 120. time since epoch: 267.280. Train acc: 0.823. Train Loss: 0.812\n",
            "Step 130. time since epoch: 289.308. Train acc: 0.829. Train Loss: 0.782\n",
            "Step 140. time since epoch: 311.312. Train acc: 0.836. Train Loss: 0.753\n",
            "Step 150. time since epoch: 333.347. Train acc: 0.841. Train Loss: 0.728\n",
            "Step 160. time since epoch: 355.412. Train acc: 0.846. Train Loss: 0.704\n",
            "Step 170. time since epoch: 377.504. Train acc: 0.850. Train Loss: 0.684\n",
            "Step 180. time since epoch: 399.516. Train acc: 0.854. Train Loss: 0.665\n",
            "Step 190. time since epoch: 421.542. Train acc: 0.857. Train Loss: 0.648\n",
            "Step 200. time since epoch: 443.604. Train acc: 0.860. Train Loss: 0.633\n",
            "Step 210. time since epoch: 465.628. Train acc: 0.864. Train Loss: 0.617\n",
            "Step 220. time since epoch: 487.720. Train acc: 0.867. Train Loss: 0.602\n",
            "Step 230. time since epoch: 509.771. Train acc: 0.870. Train Loss: 0.586\n",
            "--------------------\n",
            "epoch 1, loss 0.5819, train acc 0.871, test acc 0.930, time 585.2 sec\n"
          ]
        }
      ],
      "source": [
        "train(model, train_iter, test_iter, trainer, 1)"
      ]
    }
  ],
  "metadata": {
    "kernelspec": {
      "display_name": "Python 3",
      "language": "python",
      "name": "python3"
    },
    "language_info": {
      "codemirror_mode": {
        "name": "ipython",
        "version": 3
      },
      "file_extension": ".py",
      "mimetype": "text/x-python",
      "name": "python",
      "nbconvert_exporter": "python",
      "pygments_lexer": "ipython3",
      "version": "3.7.1"
    },
    "colab": {
      "provenance": [],
      "toc_visible": true
    },
    "accelerator": "GPU",
    "gpuClass": "standard"
  },
  "nbformat": 4,
  "nbformat_minor": 0
}