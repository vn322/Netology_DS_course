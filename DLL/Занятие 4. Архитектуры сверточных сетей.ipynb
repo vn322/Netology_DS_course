





<!DOCTYPE html>
<html lang="en" data-color-mode="auto" data-light-theme="light" data-dark-theme="dark" data-a11y-animated-images="system">
  <head>
    <meta charset="utf-8">
  <link rel="dns-prefetch" href="https://github.githubassets.com">
  <link rel="dns-prefetch" href="https://avatars.githubusercontent.com">
  <link rel="dns-prefetch" href="https://github-cloud.s3.amazonaws.com">
  <link rel="dns-prefetch" href="https://user-images.githubusercontent.com/">
  <link rel="preconnect" href="https://github.githubassets.com" crossorigin>
  <link rel="preconnect" href="https://avatars.githubusercontent.com">

  


  <link crossorigin="anonymous" media="all" rel="stylesheet" href="https://github.githubassets.com/assets/light-0946cdc16f15.css" /><link crossorigin="anonymous" media="all" rel="stylesheet" href="https://github.githubassets.com/assets/dark-3946c959759a.css" /><link data-color-theme="dark_dimmed" crossorigin="anonymous" media="all" rel="stylesheet" data-href="https://github.githubassets.com/assets/dark_dimmed-9b9a8c91acc5.css" /><link data-color-theme="dark_high_contrast" crossorigin="anonymous" media="all" rel="stylesheet" data-href="https://github.githubassets.com/assets/dark_high_contrast-11302a585e33.css" /><link data-color-theme="dark_colorblind" crossorigin="anonymous" media="all" rel="stylesheet" data-href="https://github.githubassets.com/assets/dark_colorblind-1a4564ab0fbf.css" /><link data-color-theme="light_colorblind" crossorigin="anonymous" media="all" rel="stylesheet" data-href="https://github.githubassets.com/assets/light_colorblind-12a8b2aa9101.css" /><link data-color-theme="light_high_contrast" crossorigin="anonymous" media="all" rel="stylesheet" data-href="https://github.githubassets.com/assets/light_high_contrast-5924a648f3e7.css" /><link data-color-theme="light_tritanopia" crossorigin="anonymous" media="all" rel="stylesheet" data-href="https://github.githubassets.com/assets/light_tritanopia-05358496cb79.css" /><link data-color-theme="dark_tritanopia" crossorigin="anonymous" media="all" rel="stylesheet" data-href="https://github.githubassets.com/assets/dark_tritanopia-aad6b801a158.css" />
    <link crossorigin="anonymous" media="all" rel="stylesheet" href="https://github.githubassets.com/assets/primer-primitives-fb1d51d1ef66.css" />
    <link crossorigin="anonymous" media="all" rel="stylesheet" href="https://github.githubassets.com/assets/primer-0e3420bbec16.css" />
    <link crossorigin="anonymous" media="all" rel="stylesheet" href="https://github.githubassets.com/assets/global-0d04dfcdc794.css" />
    <link crossorigin="anonymous" media="all" rel="stylesheet" href="https://github.githubassets.com/assets/github-c7a3a0ac71d4.css" />
  <link crossorigin="anonymous" media="all" rel="stylesheet" href="https://github.githubassets.com/assets/code-9271f811184f.css" />



  <script crossorigin="anonymous" defer="defer" type="application/javascript" src="https://github.githubassets.com/assets/wp-runtime-e731ddccc74f.js"></script>
<script crossorigin="anonymous" defer="defer" type="application/javascript" src="https://github.githubassets.com/assets/vendors-node_modules_stacktrace-parser_dist_stack-trace-parser_esm_js-node_modules_github_bro-a4c183-ae93d3fba59c.js"></script>
<script crossorigin="anonymous" defer="defer" type="application/javascript" src="https://github.githubassets.com/assets/ui_packages_failbot_failbot_ts-b1f8e13beba5.js"></script>
<script crossorigin="anonymous" defer="defer" type="application/javascript" src="https://github.githubassets.com/assets/environment-de3997b81651.js"></script>
<script crossorigin="anonymous" defer="defer" type="application/javascript" src="https://github.githubassets.com/assets/vendors-node_modules_github_selector-observer_dist_index_esm_js-2646a2c533e3.js"></script>
<script crossorigin="anonymous" defer="defer" type="application/javascript" src="https://github.githubassets.com/assets/vendors-node_modules_github_relative-time-element_dist_index_js-99e288659d4f.js"></script>
<script crossorigin="anonymous" defer="defer" type="application/javascript" src="https://github.githubassets.com/assets/vendors-node_modules_fzy_js_index_js-node_modules_github_markdown-toolbar-element_dist_index_js-e3de700a4c9d.js"></script>
<script crossorigin="anonymous" defer="defer" type="application/javascript" src="https://github.githubassets.com/assets/vendors-node_modules_delegated-events_dist_index_js-node_modules_github_auto-complete-element-5b3870-ff38694180c6.js"></script>
<script crossorigin="anonymous" defer="defer" type="application/javascript" src="https://github.githubassets.com/assets/vendors-node_modules_github_file-attachment-element_dist_index_js-node_modules_github_text-ex-3415a8-7ecc10fb88d0.js"></script>
<script crossorigin="anonymous" defer="defer" type="application/javascript" src="https://github.githubassets.com/assets/vendors-node_modules_github_filter-input-element_dist_index_js-node_modules_github_remote-inp-8873b7-5771678648e0.js"></script>
<script crossorigin="anonymous" defer="defer" type="application/javascript" src="https://github.githubassets.com/assets/vendors-node_modules_primer_view-components_app_components_primer_primer_js-node_modules_gith-3af896-d8cf3e5f5813.js"></script>
<script crossorigin="anonymous" defer="defer" type="application/javascript" src="https://github.githubassets.com/assets/github-elements-6f05fe60d18a.js"></script>
<script crossorigin="anonymous" defer="defer" type="application/javascript" src="https://github.githubassets.com/assets/element-registry-84be4ef284ec.js"></script>
<script crossorigin="anonymous" defer="defer" type="application/javascript" src="https://github.githubassets.com/assets/vendors-node_modules_lit-html_lit-html_js-9d9fe1859ce5.js"></script>
<script crossorigin="anonymous" defer="defer" type="application/javascript" src="https://github.githubassets.com/assets/vendors-node_modules_github_mini-throttle_dist_index_js-node_modules_github_alive-client_dist-bf5aa2-424aa982deef.js"></script>
<script crossorigin="anonymous" defer="defer" type="application/javascript" src="https://github.githubassets.com/assets/vendors-node_modules_github_turbo_dist_turbo_es2017-esm_js-ba0e4d5b3207.js"></script>
<script crossorigin="anonymous" defer="defer" type="application/javascript" src="https://github.githubassets.com/assets/vendors-node_modules_color-convert_index_js-node_modules_github_jtml_lib_index_js-40bf234a19dc.js"></script>
<script crossorigin="anonymous" defer="defer" type="application/javascript" src="https://github.githubassets.com/assets/vendors-node_modules_github_remote-form_dist_index_js-node_modules_scroll-anchoring_dist_scro-52dc4b-e1e33bfc0b7e.js"></script>
<script crossorigin="anonymous" defer="defer" type="application/javascript" src="https://github.githubassets.com/assets/vendors-node_modules_github_paste-markdown_dist_index_esm_js-node_modules_github_quote-select-743f1d-1b20d530fbf0.js"></script>
<script crossorigin="anonymous" defer="defer" type="application/javascript" src="https://github.githubassets.com/assets/app_assets_modules_github_updatable-content_ts-dadb69f79923.js"></script>
<script crossorigin="anonymous" defer="defer" type="application/javascript" src="https://github.githubassets.com/assets/app_assets_modules_github_behaviors_keyboard-shortcuts-helper_ts-app_assets_modules_github_be-f5afdb-3f05df4c282b.js"></script>
<script crossorigin="anonymous" defer="defer" type="application/javascript" src="https://github.githubassets.com/assets/app_assets_modules_github_sticky-scroll-into-view_ts-050ad6637d58.js"></script>
<script crossorigin="anonymous" defer="defer" type="application/javascript" src="https://github.githubassets.com/assets/app_assets_modules_github_behaviors_ajax-error_ts-app_assets_modules_github_behaviors_include-2e2258-7effad8d88d4.js"></script>
<script crossorigin="anonymous" defer="defer" type="application/javascript" src="https://github.githubassets.com/assets/app_assets_modules_github_behaviors_commenting_edit_ts-app_assets_modules_github_behaviors_ht-83c235-c97eacdef68a.js"></script>
<script crossorigin="anonymous" defer="defer" type="application/javascript" src="https://github.githubassets.com/assets/app_assets_modules_github_blob-anchor_ts-app_assets_modules_github_filter-sort_ts-app_assets_-e5f169-c54621d9e188.js"></script>
<script crossorigin="anonymous" defer="defer" type="application/javascript" src="https://github.githubassets.com/assets/behaviors-06a1697465d3.js"></script>
<script crossorigin="anonymous" defer="defer" type="application/javascript" src="https://github.githubassets.com/assets/vendors-node_modules_delegated-events_dist_index_js-node_modules_github_catalyst_lib_index_js-623425af41e1.js"></script>
<script crossorigin="anonymous" defer="defer" type="application/javascript" src="https://github.githubassets.com/assets/notifications-global-4dc6f295cc92.js"></script>
<script crossorigin="anonymous" defer="defer" type="application/javascript" src="https://github.githubassets.com/assets/code-menu-da1cefc25b0a.js"></script>
  
  <script crossorigin="anonymous" defer="defer" type="application/javascript" src="https://github.githubassets.com/assets/react-lib-210c4b5934c3.js"></script>
<script crossorigin="anonymous" defer="defer" type="application/javascript" src="https://github.githubassets.com/assets/vendors-node_modules_primer_octicons-react_dist_index_esm_js-node_modules_primer_react_lib-es-ca6dae-5cb928c5681d.js"></script>
<script crossorigin="anonymous" defer="defer" type="application/javascript" src="https://github.githubassets.com/assets/vendors-node_modules_primer_react_lib-esm_Button_index_js-node_modules_primer_react_lib-esm_T-c6e74c-0275da95e0ca.js"></script>
<script crossorigin="anonymous" defer="defer" type="application/javascript" src="https://github.githubassets.com/assets/vendors-node_modules_primer_react_lib-esm_TextInput_TextInput_js-78eadeb91f74.js"></script>
<script crossorigin="anonymous" defer="defer" type="application/javascript" src="https://github.githubassets.com/assets/vendors-node_modules_primer_react_lib-esm_ActionList_index_js-node_modules_primer_react_lib-e-6c83fc-209125ca37d7.js"></script>
<script crossorigin="anonymous" defer="defer" type="application/javascript" src="https://github.githubassets.com/assets/vendors-node_modules_dompurify_dist_purify_js-64d590970fa6.js"></script>
<script crossorigin="anonymous" defer="defer" type="application/javascript" src="https://github.githubassets.com/assets/vendors-node_modules_primer_react_lib-esm_ActionMenu_js-6f5478fce534.js"></script>
<script crossorigin="anonymous" defer="defer" type="application/javascript" src="https://github.githubassets.com/assets/vendors-node_modules_primer_react_lib-esm_deprecated_ActionList_index_js-node_modules_primer_-fed12b-aab66293925c.js"></script>
<script crossorigin="anonymous" defer="defer" type="application/javascript" src="https://github.githubassets.com/assets/vendors-node_modules_primer_react_lib-esm_FormControl_FormControl_js-785e3d3ff3f3.js"></script>
<script crossorigin="anonymous" defer="defer" type="application/javascript" src="https://github.githubassets.com/assets/vendors-node_modules_primer_react_lib-esm_Heading_Heading_js-node_modules_primer_react_lib-es-20c766-2f73d206e824.js"></script>
<script crossorigin="anonymous" defer="defer" type="application/javascript" src="https://github.githubassets.com/assets/vendors-node_modules_primer_react_lib-esm_Dialog_ConfirmationDialog_js-5c0818339f06.js"></script>
<script crossorigin="anonymous" defer="defer" type="application/javascript" src="https://github.githubassets.com/assets/vendors-node_modules_primer_behaviors_dist_esm_focus-zone_js-e11d55a242ff.js"></script>
<script crossorigin="anonymous" defer="defer" type="application/javascript" src="https://github.githubassets.com/assets/vendors-node_modules_primer_react_lib-esm_TreeView_TreeView_js-7165830dc4a6.js"></script>
<script crossorigin="anonymous" defer="defer" type="application/javascript" src="https://github.githubassets.com/assets/vendors-node_modules_primer_react_lib-esm_Avatar_Avatar_js-node_modules_primer_react_lib-esm_-ad6b17-ee5dd79d6342.js"></script>
<script crossorigin="anonymous" defer="defer" type="application/javascript" src="https://github.githubassets.com/assets/vendors-node_modules_github_blackbird-parser_dist_blackbird_js-fcd9d30e9b7e.js"></script>
<script crossorigin="anonymous" defer="defer" type="application/javascript" src="https://github.githubassets.com/assets/vendors-node_modules_primer_react_lib-esm_Button_LinkButton_js-node_modules_primer_react_lib--92b054-f72812849ac0.js"></script>
<script crossorigin="anonymous" defer="defer" type="application/javascript" src="https://github.githubassets.com/assets/vendors-node_modules_primer_behaviors_dist_esm_anchored-position_js-node_modules_primer_react-62957b-61ce148ff6c8.js"></script>
<script crossorigin="anonymous" defer="defer" type="application/javascript" src="https://github.githubassets.com/assets/vendors-node_modules_primer_react_lib-esm_UnderlineNav2_index_js-0f3ba9d900a1.js"></script>
<script crossorigin="anonymous" defer="defer" type="application/javascript" src="https://github.githubassets.com/assets/vendors-node_modules_primer_behaviors_dist_esm_scroll-into-view_js-node_modules_primer_react_-67ba45-ebe1dea0d6b7.js"></script>
<script crossorigin="anonymous" defer="defer" type="application/javascript" src="https://github.githubassets.com/assets/ui_packages_react-core_deferred-registry_ts-ui_packages_react-core_AppContextProvider_tsx-ui_-ffd985-0c6c86cde0a6.js"></script>
<script crossorigin="anonymous" defer="defer" type="application/javascript" src="https://github.githubassets.com/assets/ui_packages_react-core_Entry_tsx-f122dd87b4f0.js"></script>
<script crossorigin="anonymous" defer="defer" type="application/javascript" src="https://github.githubassets.com/assets/ui_packages_paths_path_ts-ui_packages_verified-fetch_verified-fetch_ts-ui_packages_safe-html_-d7e3f1-8681e57cea17.js"></script>
<script crossorigin="anonymous" defer="defer" type="application/javascript" src="https://github.githubassets.com/assets/ui_packages_use-navigate_use-navigate_ts-app_assets_modules_react-shared_RefSelector_RefSelec-9ae7f6-6e66464ac264.js"></script>
<script crossorigin="anonymous" defer="defer" type="application/javascript" src="https://github.githubassets.com/assets/app_assets_modules_blackbird-monolith_hooks_use-navigate-to-query_ts-app_assets_modules_black-049373-f07bf83a5bba.js"></script>
<script crossorigin="anonymous" defer="defer" type="application/javascript" src="https://github.githubassets.com/assets/app_assets_modules_react-code-view_pages_CodeView_tsx-889801abe8f1.js"></script>
<script crossorigin="anonymous" defer="defer" type="application/javascript" src="https://github.githubassets.com/assets/react-code-view-beb248654072.js"></script>


  <title>DLL/Занятие 4. Архитектуры сверточных сетей.ipynb at main · netology-ds-team/DLL</title>



  <meta name="route-pattern" content="/:user_id/:repository/blob/*name(/*path)">

    
  <meta name="current-catalog-service-hash" content="581425c0eaaa5e5e53c5b736f58a14dbe5d38b0be425901738ad0670bd1d5a33">


  <meta name="request-id" content="A1E5:2513:215D3EA:21EEE72:647EF5D0" data-turbo-transient="true" /><meta name="html-safe-nonce" content="f282e301664128d17cfb2b9db0cd2fcded6924eb54552edd5fdcbff1f3eae064" data-turbo-transient="true" /><meta name="visitor-payload" content="eyJyZWZlcnJlciI6Imh0dHBzOi8vZ2l0aHViLmNvbS9uZXRvbG9neS1kcy10ZWFtL0RMTC90cmVlL21haW4vRExMLW1hdGVyaWFscyIsInJlcXVlc3RfaWQiOiJBMUU1OjI1MTM6MjE1RDNFQToyMUVFRTcyOjY0N0VGNUQwIiwidmlzaXRvcl9pZCI6IjEyOTU5MTUxMTA5MDI3MzIwMDIiLCJyZWdpb25fZWRnZSI6ImZyYSIsInJlZ2lvbl9yZW5kZXIiOiJpYWQifQ==" data-turbo-transient="true" /><meta name="visitor-hmac" content="8fb0bff72ca7bf08a20c7ff43ef7477ff39bae3551489ce3ee8c01af8ae3c17d" data-turbo-transient="true" />


    <meta name="hovercard-subject-tag" content="repository:595657061" data-turbo-transient>


  <meta name="github-keyboard-shortcuts" content="repository,source-code,file-tree" data-turbo-transient="true" />
  

  <meta name="selected-link" value="repo_source" data-turbo-transient>
  <link rel="assets" href="https://github.githubassets.com/">

    <meta name="google-site-verification" content="c1kuD-K2HIVF635lypcsWPoD4kilo5-jA_wBFyT4uMY">
  <meta name="google-site-verification" content="KT5gs8h0wvaagLKAVWq8bbeNwnZZK1r1XQysX3xurLU">
  <meta name="google-site-verification" content="ZzhVyEFwb7w3e0-uOTltm8Jsck2F5StVihD0exw2fsA">
  <meta name="google-site-verification" content="GXs5KoUUkNCoaAZn7wPN-t01Pywp9M3sEjnt_3_ZWPc">
  <meta name="google-site-verification" content="Apib7-x98H0j5cPqHWwSMm6dNU4GmODRoqxLiDzdx9I">

<meta name="octolytics-url" content="https://collector.github.com/github/collect" /><meta name="octolytics-actor-id" content="77914048" /><meta name="octolytics-actor-login" content="vn322" /><meta name="octolytics-actor-hash" content="e59785a2f597d3b2bce156191b9ffa192b3c69ddf3a07aaf57bafbf0ea4feaa9" />

  <meta name="analytics-location" content="/&lt;user-name&gt;/&lt;repo-name&gt;/blob/show" data-turbo-transient="true" />

  




  

    <meta name="user-login" content="vn322">

  <link rel="sudo-modal" href="/sessions/sudo_modal">

    <meta name="viewport" content="width=device-width">
    
      <meta name="description" content="Материалы для практики по курсу &quot;Deep Learning&quot;. Contribute to netology-ds-team/DLL development by creating an account on GitHub.">
      <link rel="search" type="application/opensearchdescription+xml" href="/opensearch.xml" title="GitHub">
    <link rel="fluid-icon" href="https://github.com/fluidicon.png" title="GitHub">
    <meta property="fb:app_id" content="1401488693436528">
    <meta name="apple-itunes-app" content="app-id=1477376905" />
      <meta name="twitter:image:src" content="https://opengraph.githubassets.com/358e482daeb8809a7fa02ed063c26fa283a37c6b8a2715fcac6366488fd7b6c2/netology-ds-team/DLL" /><meta name="twitter:site" content="@github" /><meta name="twitter:card" content="summary_large_image" /><meta name="twitter:title" content="DLL/Занятие 4. Архитектуры сверточных сетей.ipynb at main · netology-ds-team/DLL" /><meta name="twitter:description" content="Материалы для практики по курсу &quot;Deep Learning&quot;. Contribute to netology-ds-team/DLL development by creating an account on GitHub." />
      <meta property="og:image" content="https://opengraph.githubassets.com/358e482daeb8809a7fa02ed063c26fa283a37c6b8a2715fcac6366488fd7b6c2/netology-ds-team/DLL" /><meta property="og:image:alt" content="Материалы для практики по курсу &quot;Deep Learning&quot;. Contribute to netology-ds-team/DLL development by creating an account on GitHub." /><meta property="og:image:width" content="1200" /><meta property="og:image:height" content="600" /><meta property="og:site_name" content="GitHub" /><meta property="og:type" content="object" /><meta property="og:title" content="DLL/Занятие 4. Архитектуры сверточных сетей.ipynb at main · netology-ds-team/DLL" /><meta property="og:url" content="https://github.com/netology-ds-team/DLL" /><meta property="og:description" content="Материалы для практики по курсу &quot;Deep Learning&quot;. Contribute to netology-ds-team/DLL development by creating an account on GitHub." />
      

      <link rel="shared-web-socket" href="wss://alive.github.com/_sockets/u/77914048/ws?session=eyJ2IjoiVjMiLCJ1Ijo3NzkxNDA0OCwicyI6MTEwNTM2MDQ0MCwiYyI6ODIwMTQ5MzI4LCJ0IjoxNjg2MDQyMDY1fQ==--736b2cf2f3c2e7340333558aeb3a4c0cb9bfd3084a69d9f2c1e4cbb72daaa756" data-refresh-url="/_alive" data-session-id="91bef5b8638fd2f08109bca83e371ad726eab2305375913c044653fb34ab1be2">
      <link rel="shared-web-socket-src" href="/assets-cdn/worker/socket-worker-71e98f781d79.js">


        <meta name="hostname" content="github.com">


      <meta name="keyboard-shortcuts-preference" content="all">

        <meta name="expected-hostname" content="github.com">

    <meta name="enabled-features" content="TURBO_EXPERIMENT_RISKY,IMAGE_METRIC_TRACKING,GEOJSON_AZURE_MAPS,SUDO_MODAL_FOCUS">


  <meta http-equiv="x-pjax-version" content="c26838f134c466a5369daf9ee3dea34455db04160e2d09902ac0d2e797adad4d" data-turbo-track="reload">
  <meta http-equiv="x-pjax-csp-version" content="0db263f9a873141d8256f783c35f244c06d490aacc3b680f99794dd8fd59fb59" data-turbo-track="reload">
  <meta http-equiv="x-pjax-css-version" content="3a5ebe862e241f673b94226e4d40972fd95ee6fdb7d57b8b44f2b2fa29ce05f7" data-turbo-track="reload">
  <meta http-equiv="x-pjax-js-version" content="6cc4c11a08fa9620dcdb6a8c6e55aca83a874799b24a89d6cdf8983e1520d3c0" data-turbo-track="reload">

  <meta name="turbo-cache-control" content="no-preview" data-turbo-transient="">

      <meta name="turbo-cache-control" content="no-cache" data-turbo-transient>
    <meta data-hydrostats="publish">

  <meta name="go-import" content="github.com/netology-ds-team/DLL git https://github.com/netology-ds-team/DLL.git">

  <meta name="octolytics-dimension-user_id" content="83753353" /><meta name="octolytics-dimension-user_login" content="netology-ds-team" /><meta name="octolytics-dimension-repository_id" content="595657061" /><meta name="octolytics-dimension-repository_nwo" content="netology-ds-team/DLL" /><meta name="octolytics-dimension-repository_public" content="true" /><meta name="octolytics-dimension-repository_is_fork" content="false" /><meta name="octolytics-dimension-repository_network_root_id" content="595657061" /><meta name="octolytics-dimension-repository_network_root_nwo" content="netology-ds-team/DLL" />



  <meta name="turbo-body-classes" content="logged-in env-production page-responsive">


  <meta name="browser-stats-url" content="https://api.github.com/_private/browser/stats">

  <meta name="browser-errors-url" content="https://api.github.com/_private/browser/errors">

  <meta name="browser-optimizely-client-errors-url" content="https://api.github.com/_private/browser/optimizely_client/errors">

  <link rel="mask-icon" href="https://github.githubassets.com/pinned-octocat.svg" color="#000000">
  <link rel="alternate icon" class="js-site-favicon" type="image/png" href="https://github.githubassets.com/favicons/favicon.png">
  <link rel="icon" class="js-site-favicon" type="image/svg+xml" href="https://github.githubassets.com/favicons/favicon.svg">

<meta name="theme-color" content="#1e2327">
<meta name="color-scheme" content="light dark" />


  <link rel="manifest" href="/manifest.json" crossOrigin="use-credentials">

  </head>

  <body class="logged-in env-production page-responsive" style="word-wrap: break-word;">
    <div data-turbo-body class="logged-in env-production page-responsive" style="word-wrap: break-word;">
      


    <div class="position-relative js-header-wrapper ">
      <a href="#start-of-content" class="p-3 color-bg-accent-emphasis color-fg-on-emphasis show-on-focus js-skip-to-content">Skip to content</a>
      <span data-view-component="true" class="progress-pjax-loader Progress position-fixed width-full">
    <span style="width: 0%;" data-view-component="true" class="Progress-item progress-pjax-loader-bar left-0 top-0 color-bg-accent-emphasis"></span>
</span>      
      


        <script crossorigin="anonymous" defer="defer" type="application/javascript" src="https://github.githubassets.com/assets/vendors-node_modules_allex_crc32_lib_crc32_esm_js-node_modules_github_mini-throttle_dist_deco-26fa0f-02e7ed68dae1.js"></script>
<script crossorigin="anonymous" defer="defer" type="application/javascript" src="https://github.githubassets.com/assets/vendors-node_modules_github_clipboard-copy-element_dist_index_esm_js-node_modules_delegated-e-b37f7d-a9177ba414f2.js"></script>
<script crossorigin="anonymous" defer="defer" type="application/javascript" src="https://github.githubassets.com/assets/app_assets_modules_github_command-palette_items_help-item_ts-app_assets_modules_github_comman-48ad9d-beffe41c24a7.js"></script>
<script crossorigin="anonymous" defer="defer" type="application/javascript" src="https://github.githubassets.com/assets/command-palette-c2a5f7e7eb12.js"></script>

            <header class="Header js-details-container Details px-3 px-md-4 px-lg-5 flex-wrap flex-md-nowrap" role="banner">

    <div class="Header-item mt-n1 mb-n1  d-none d-md-flex">
      <a
  class="Header-link"
  href="https://github.com/"
  data-hotkey="g d"
  aria-label="Homepage "
  data-turbo="false"
  data-analytics-event="{&quot;category&quot;:&quot;Header&quot;,&quot;action&quot;:&quot;go to dashboard&quot;,&quot;label&quot;:&quot;icon:logo&quot;}"
>
  <svg height="32" aria-hidden="true" viewBox="0 0 16 16" version="1.1" width="32" data-view-component="true" class="octicon octicon-mark-github v-align-middle">
    <path d="M8 0c4.42 0 8 3.58 8 8a8.013 8.013 0 0 1-5.45 7.59c-.4.08-.55-.17-.55-.38 0-.27.01-1.13.01-2.2 0-.75-.25-1.23-.54-1.48 1.78-.2 3.65-.88 3.65-3.95 0-.88-.31-1.59-.82-2.15.08-.2.36-1.02-.08-2.12 0 0-.67-.22-2.2.82-.64-.18-1.32-.27-2-.27-.68 0-1.36.09-2 .27-1.53-1.03-2.2-.82-2.2-.82-.44 1.1-.16 1.92-.08 2.12-.51.56-.82 1.28-.82 2.15 0 3.06 1.86 3.75 3.64 3.95-.23.2-.44.55-.51 1.07-.46.21-1.61.55-2.33-.66-.15-.24-.6-.83-1.23-.82-.67.01-.27.38.01.53.34.19.73.9.82 1.13.16.45.68 1.31 2.69.94 0 .67.01 1.3.01 1.49 0 .21-.15.45-.55.38A7.995 7.995 0 0 1 0 8c0-4.42 3.58-8 8-8Z"></path>
</svg>
</a>

    </div>

    <div class="Header-item d-md-none">
        <button aria-label="Toggle navigation" aria-expanded="false" type="button" data-view-component="true" class="Header-link js-details-target btn-link">    <svg aria-hidden="true" height="24" viewBox="0 0 16 16" version="1.1" width="24" data-view-component="true" class="octicon octicon-three-bars">
    <path d="M1 2.75A.75.75 0 0 1 1.75 2h12.5a.75.75 0 0 1 0 1.5H1.75A.75.75 0 0 1 1 2.75Zm0 5A.75.75 0 0 1 1.75 7h12.5a.75.75 0 0 1 0 1.5H1.75A.75.75 0 0 1 1 7.75ZM1.75 12h12.5a.75.75 0 0 1 0 1.5H1.75a.75.75 0 0 1 0-1.5Z"></path>
</svg>
</button>    </div>

    <div class="Header-item Header-item--full flex-column flex-md-row width-full flex-order-2 flex-md-order-none mr-0 mt-3 mt-md-0 Details-content--hidden-not-important d-md-flex">
              


<template id="search-icon">
  <svg aria-hidden="true" height="16" viewBox="0 0 16 16" version="1.1" width="16" data-view-component="true" class="octicon octicon-search">
    <path d="M10.68 11.74a6 6 0 0 1-7.922-8.982 6 6 0 0 1 8.982 7.922l3.04 3.04a.749.749 0 0 1-.326 1.275.749.749 0 0 1-.734-.215ZM11.5 7a4.499 4.499 0 1 0-8.997 0A4.499 4.499 0 0 0 11.5 7Z"></path>
</svg>
</template>

<template id="code-icon">
  <svg aria-hidden="true" height="16" viewBox="0 0 16 16" version="1.1" width="16" data-view-component="true" class="octicon octicon-code">
    <path d="m11.28 3.22 4.25 4.25a.75.75 0 0 1 0 1.06l-4.25 4.25a.749.749 0 0 1-1.275-.326.749.749 0 0 1 .215-.734L13.94 8l-3.72-3.72a.749.749 0 0 1 .326-1.275.749.749 0 0 1 .734.215Zm-6.56 0a.751.751 0 0 1 1.042.018.751.751 0 0 1 .018 1.042L2.06 8l3.72 3.72a.749.749 0 0 1-.326 1.275.749.749 0 0 1-.734-.215L.47 8.53a.75.75 0 0 1 0-1.06Z"></path>
</svg>
</template>

<template id="file-code-icon">
  <svg aria-hidden="true" height="16" viewBox="0 0 16 16" version="1.1" width="16" data-view-component="true" class="octicon octicon-file-code">
    <path d="M4 1.75C4 .784 4.784 0 5.75 0h5.586c.464 0 .909.184 1.237.513l2.914 2.914c.329.328.513.773.513 1.237v8.586A1.75 1.75 0 0 1 14.25 15h-9a.75.75 0 0 1 0-1.5h9a.25.25 0 0 0 .25-.25V6h-2.75A1.75 1.75 0 0 1 10 4.25V1.5H5.75a.25.25 0 0 0-.25.25v2.5a.75.75 0 0 1-1.5 0Zm1.72 4.97a.75.75 0 0 1 1.06 0l2 2a.75.75 0 0 1 0 1.06l-2 2a.749.749 0 0 1-1.275-.326.749.749 0 0 1 .215-.734l1.47-1.47-1.47-1.47a.75.75 0 0 1 0-1.06ZM3.28 7.78 1.81 9.25l1.47 1.47a.751.751 0 0 1-.018 1.042.751.751 0 0 1-1.042.018l-2-2a.75.75 0 0 1 0-1.06l2-2a.751.751 0 0 1 1.042.018.751.751 0 0 1 .018 1.042Zm8.22-6.218V4.25c0 .138.112.25.25.25h2.688l-.011-.013-2.914-2.914-.013-.011Z"></path>
</svg>
</template>

<template id="history-icon">
  <svg aria-hidden="true" height="16" viewBox="0 0 16 16" version="1.1" width="16" data-view-component="true" class="octicon octicon-history">
    <path d="m.427 1.927 1.215 1.215a8.002 8.002 0 1 1-1.6 5.685.75.75 0 1 1 1.493-.154 6.5 6.5 0 1 0 1.18-4.458l1.358 1.358A.25.25 0 0 1 3.896 6H.25A.25.25 0 0 1 0 5.75V2.104a.25.25 0 0 1 .427-.177ZM7.75 4a.75.75 0 0 1 .75.75v2.992l2.028.812a.75.75 0 0 1-.557 1.392l-2.5-1A.751.751 0 0 1 7 8.25v-3.5A.75.75 0 0 1 7.75 4Z"></path>
</svg>
</template>

<template id="repo-icon">
  <svg aria-hidden="true" height="16" viewBox="0 0 16 16" version="1.1" width="16" data-view-component="true" class="octicon octicon-repo">
    <path d="M2 2.5A2.5 2.5 0 0 1 4.5 0h8.75a.75.75 0 0 1 .75.75v12.5a.75.75 0 0 1-.75.75h-2.5a.75.75 0 0 1 0-1.5h1.75v-2h-8a1 1 0 0 0-.714 1.7.75.75 0 1 1-1.072 1.05A2.495 2.495 0 0 1 2 11.5Zm10.5-1h-8a1 1 0 0 0-1 1v6.708A2.486 2.486 0 0 1 4.5 9h8ZM5 12.25a.25.25 0 0 1 .25-.25h3.5a.25.25 0 0 1 .25.25v3.25a.25.25 0 0 1-.4.2l-1.45-1.087a.249.249 0 0 0-.3 0L5.4 15.7a.25.25 0 0 1-.4-.2Z"></path>
</svg>
</template>

<template id="bookmark-icon">
  <svg aria-hidden="true" height="16" viewBox="0 0 16 16" version="1.1" width="16" data-view-component="true" class="octicon octicon-bookmark">
    <path d="M3 2.75C3 1.784 3.784 1 4.75 1h6.5c.966 0 1.75.784 1.75 1.75v11.5a.75.75 0 0 1-1.227.579L8 11.722l-3.773 3.107A.751.751 0 0 1 3 14.25Zm1.75-.25a.25.25 0 0 0-.25.25v9.91l3.023-2.489a.75.75 0 0 1 .954 0l3.023 2.49V2.75a.25.25 0 0 0-.25-.25Z"></path>
</svg>
</template>

<template id="plus-circle-icon">
  <svg aria-hidden="true" height="16" viewBox="0 0 16 16" version="1.1" width="16" data-view-component="true" class="octicon octicon-plus-circle">
    <path d="M8 0a8 8 0 1 1 0 16A8 8 0 0 1 8 0ZM1.5 8a6.5 6.5 0 1 0 13 0 6.5 6.5 0 0 0-13 0Zm7.25-3.25v2.5h2.5a.75.75 0 0 1 0 1.5h-2.5v2.5a.75.75 0 0 1-1.5 0v-2.5h-2.5a.75.75 0 0 1 0-1.5h2.5v-2.5a.75.75 0 0 1 1.5 0Z"></path>
</svg>
</template>

<template id="circle-icon">
  <svg aria-hidden="true" height="16" viewBox="0 0 16 16" version="1.1" width="16" data-view-component="true" class="octicon octicon-dot-fill">
    <path d="M8 4a4 4 0 1 1 0 8 4 4 0 0 1 0-8Z"></path>
</svg>
</template>

<template id="trash-icon">
  <svg aria-hidden="true" height="16" viewBox="0 0 16 16" version="1.1" width="16" data-view-component="true" class="octicon octicon-trash">
    <path d="M11 1.75V3h2.25a.75.75 0 0 1 0 1.5H2.75a.75.75 0 0 1 0-1.5H5V1.75C5 .784 5.784 0 6.75 0h2.5C10.216 0 11 .784 11 1.75ZM4.496 6.675l.66 6.6a.25.25 0 0 0 .249.225h5.19a.25.25 0 0 0 .249-.225l.66-6.6a.75.75 0 0 1 1.492.149l-.66 6.6A1.748 1.748 0 0 1 10.595 15h-5.19a1.75 1.75 0 0 1-1.741-1.575l-.66-6.6a.75.75 0 1 1 1.492-.15ZM6.5 1.75V3h3V1.75a.25.25 0 0 0-.25-.25h-2.5a.25.25 0 0 0-.25.25Z"></path>
</svg>
</template>

<template id="team-icon">
  <svg aria-hidden="true" height="16" viewBox="0 0 16 16" version="1.1" width="16" data-view-component="true" class="octicon octicon-people">
    <path d="M2 5.5a3.5 3.5 0 1 1 5.898 2.549 5.508 5.508 0 0 1 3.034 4.084.75.75 0 1 1-1.482.235 4 4 0 0 0-7.9 0 .75.75 0 0 1-1.482-.236A5.507 5.507 0 0 1 3.102 8.05 3.493 3.493 0 0 1 2 5.5ZM11 4a3.001 3.001 0 0 1 2.22 5.018 5.01 5.01 0 0 1 2.56 3.012.749.749 0 0 1-.885.954.752.752 0 0 1-.549-.514 3.507 3.507 0 0 0-2.522-2.372.75.75 0 0 1-.574-.73v-.352a.75.75 0 0 1 .416-.672A1.5 1.5 0 0 0 11 5.5.75.75 0 0 1 11 4Zm-5.5-.5a2 2 0 1 0-.001 3.999A2 2 0 0 0 5.5 3.5Z"></path>
</svg>
</template>

<template id="project-icon">
  <svg aria-hidden="true" height="16" viewBox="0 0 16 16" version="1.1" width="16" data-view-component="true" class="octicon octicon-project">
    <path d="M1.75 0h12.5C15.216 0 16 .784 16 1.75v12.5A1.75 1.75 0 0 1 14.25 16H1.75A1.75 1.75 0 0 1 0 14.25V1.75C0 .784.784 0 1.75 0ZM1.5 1.75v12.5c0 .138.112.25.25.25h12.5a.25.25 0 0 0 .25-.25V1.75a.25.25 0 0 0-.25-.25H1.75a.25.25 0 0 0-.25.25ZM11.75 3a.75.75 0 0 1 .75.75v7.5a.75.75 0 0 1-1.5 0v-7.5a.75.75 0 0 1 .75-.75Zm-8.25.75a.75.75 0 0 1 1.5 0v5.5a.75.75 0 0 1-1.5 0ZM8 3a.75.75 0 0 1 .75.75v3.5a.75.75 0 0 1-1.5 0v-3.5A.75.75 0 0 1 8 3Z"></path>
</svg>
</template>

<template id="pencil-icon">
  <svg aria-hidden="true" height="16" viewBox="0 0 16 16" version="1.1" width="16" data-view-component="true" class="octicon octicon-pencil">
    <path d="M11.013 1.427a1.75 1.75 0 0 1 2.474 0l1.086 1.086a1.75 1.75 0 0 1 0 2.474l-8.61 8.61c-.21.21-.47.364-.756.445l-3.251.93a.75.75 0 0 1-.927-.928l.929-3.25c.081-.286.235-.547.445-.758l8.61-8.61Zm.176 4.823L9.75 4.81l-6.286 6.287a.253.253 0 0 0-.064.108l-.558 1.953 1.953-.558a.253.253 0 0 0 .108-.064Zm1.238-3.763a.25.25 0 0 0-.354 0L10.811 3.75l1.439 1.44 1.263-1.263a.25.25 0 0 0 0-.354Z"></path>
</svg>
</template>

<qbsearch-input class="search-input" data-scope="repo:netology-ds-team/DLL" data-custom-scopes-path="/search/custom_scopes" data-delete-custom-scopes-csrf="yVWKaNzlCtWpzi2aGyTHNneS9owF0pSLK0lPVvhjNLR3bE7kJlwfXsYKJjP-9Nf20WTe2ZNaSJy4-KfyLhk73w" data-max-custom-scopes="10" data-header-redesign-enabled="false" data-initial-value="" data-blackbird-suggestions-path="/search/suggestions" data-jump-to-suggestions-path="/_graphql/GetSuggestedNavigationDestinations" data-current-repository="netology-ds-team/DLL" data-current-org="netology-ds-team" data-current-owner="">
  <div
    class="search-input-container search-with-dialog position-relative d-flex flex-row flex-items-center mr-4 rounded"
    data-action="click:qbsearch-input#searchInputContainerClicked"
  >
      <button
        type="button"
        class="header-search-button placeholder  input-button form-control d-flex flex-1 flex-self-stretch flex-items-center no-wrap width-full py-0 pl-2 pr-0 text-left border-0 box-shadow-none"
        data-target="qbsearch-input.inputButton"
        placeholder="Search or jump to..."
        data-hotkey=s,/
        autocapitalize="off"
        data-action="click:qbsearch-input#handleExpand"
      >
        <div class="mr-2 color-fg-muted">
          <svg aria-hidden="true" height="16" viewBox="0 0 16 16" version="1.1" width="16" data-view-component="true" class="octicon octicon-search">
    <path d="M10.68 11.74a6 6 0 0 1-7.922-8.982 6 6 0 0 1 8.982 7.922l3.04 3.04a.749.749 0 0 1-.326 1.275.749.749 0 0 1-.734-.215ZM11.5 7a4.499 4.499 0 1 0-8.997 0A4.499 4.499 0 0 0 11.5 7Z"></path>
</svg>
        </div>
        <span class="flex-1" data-target="qbsearch-input.inputButtonText">Search or jump to...</span>
          <div class="d-flex" data-target="qbsearch-input.hotkeyIndicator">
            <svg xmlns="http://www.w3.org/2000/svg" width="22" height="20" aria-hidden="true" class="mr-1"><path fill="none" stroke="#979A9C" opacity=".4" d="M3.5.5h12c1.7 0 3 1.3 3 3v13c0 1.7-1.3 3-3 3h-12c-1.7 0-3-1.3-3-3v-13c0-1.7 1.3-3 3-3z"></path><path fill="#979A9C" d="M11.8 6L8 15.1h-.9L10.8 6h1z"></path></svg>

          </div>
      </button>

    <input type="hidden" name="type" class="js-site-search-type-field">

    
<div class="Overlay--hidden " data-modal-dialog-overlay>
  <modal-dialog data-action="close:qbsearch-input#handleClose cancel:qbsearch-input#handleClose" data-target="qbsearch-input.searchSuggestionsDialog" role="dialog" id="search-suggestions-dialog" aria-modal="true" aria-labelledby="search-suggestions-dialog-header" data-view-component="true" class="Overlay Overlay--width-large Overlay--height-auto">
      <h1 id="search-suggestions-dialog-header" class="sr-only">Search code, repositories, users, issues, pull requests...</h1>
    <div class="Overlay-body Overlay-body--paddingNone">
      
          <div data-view-component="true">        <div class="search-suggestions position-absolute width-full color-shadow-large border color-fg-default color-bg-default overflow-hidden d-flex flex-column query-builder-container"
          style="border-radius: 12px;"
          data-target="qbsearch-input.queryBuilderContainer"
          hidden
        >
          <!-- '"` --><!-- </textarea></xmp> --></option></form><form id="query-builder-test-form" action="" accept-charset="UTF-8" method="get">
  <query-builder data-target="qbsearch-input.queryBuilder" id="query-builder-query-builder-test" data-filter-key=":" data-view-component="true" class="QueryBuilder search-query-builder">
    <div class="FormControl FormControl--fullWidth">
      <label id="query-builder-test-label" for="query-builder-test" class="FormControl-label sr-only">
        Search
      </label>
      <div class="QueryBuilder-StyledInput width-fit" data-target="query-builder.styledInput">
          <span id="query-builder-test-leadingvisual-wrap" class="FormControl-input-leadingVisualWrap QueryBuilder-leadingVisualWrap">
            <svg aria-hidden="true" height="16" viewBox="0 0 16 16" version="1.1" width="16" data-view-component="true" class="octicon octicon-search FormControl-input-leadingVisual">
    <path d="M10.68 11.74a6 6 0 0 1-7.922-8.982 6 6 0 0 1 8.982 7.922l3.04 3.04a.749.749 0 0 1-.326 1.275.749.749 0 0 1-.734-.215ZM11.5 7a4.499 4.499 0 1 0-8.997 0A4.499 4.499 0 0 0 11.5 7Z"></path>
</svg>
          </span>
        <div data-target="query-builder.styledInputContainer" class="QueryBuilder-StyledInputContainer">
          <div
            aria-hidden="true"
            class="QueryBuilder-StyledInputContent"
            data-target="query-builder.styledInputContent"
          ></div>
          <div class="QueryBuilder-InputWrapper">
            <div aria-hidden="true" class="QueryBuilder-Sizer" data-target="query-builder.sizer"></div>
            <input id="query-builder-test" name="query-builder-test" value="" autocomplete="off" type="text" role="combobox" spellcheck="false" aria-expanded="false" data-target="query-builder.input" data-action="
          input:query-builder#inputChange
          blur:query-builder#inputBlur
          keydown:query-builder#inputKeydown
          focus:query-builder#inputFocus
        " data-view-component="true" class="FormControl-input QueryBuilder-Input FormControl-medium" />
          </div>
        </div>
          <span class="sr-only" id="query-builder-test-clear">Clear</span>
          
  <button role="button" id="query-builder-test-clear-button" aria-labelledby="query-builder-test-clear query-builder-test-label" data-target="query-builder.clearButton" data-action="
                click:query-builder#clear
                focus:query-builder#clearButtonFocus
                blur:query-builder#clearButtonBlur
              " variant="small" hidden="hidden" type="button" data-view-component="true" class="Button Button--iconOnly Button--invisible Button--medium mr-1 px-2 py-0 d-flex flex-items-center rounded-1 color-fg-muted">    <svg aria-hidden="true" height="16" viewBox="0 0 16 16" version="1.1" width="16" data-view-component="true" class="octicon octicon-x-circle-fill Button-visual">
    <path d="M2.343 13.657A8 8 0 1 1 13.658 2.343 8 8 0 0 1 2.343 13.657ZM6.03 4.97a.751.751 0 0 0-1.042.018.751.751 0 0 0-.018 1.042L6.94 8 4.97 9.97a.749.749 0 0 0 .326 1.275.749.749 0 0 0 .734-.215L8 9.06l1.97 1.97a.749.749 0 0 0 1.275-.326.749.749 0 0 0-.215-.734L9.06 8l1.97-1.97a.749.749 0 0 0-.326-1.275.749.749 0 0 0-.734.215L8 6.94Z"></path>
</svg>
</button>  

      </div>
      <template id="search-icon">
  <svg aria-hidden="true" height="16" viewBox="0 0 16 16" version="1.1" width="16" data-view-component="true" class="octicon octicon-search">
    <path d="M10.68 11.74a6 6 0 0 1-7.922-8.982 6 6 0 0 1 8.982 7.922l3.04 3.04a.749.749 0 0 1-.326 1.275.749.749 0 0 1-.734-.215ZM11.5 7a4.499 4.499 0 1 0-8.997 0A4.499 4.499 0 0 0 11.5 7Z"></path>
</svg>
</template>

<template id="code-icon">
  <svg aria-hidden="true" height="16" viewBox="0 0 16 16" version="1.1" width="16" data-view-component="true" class="octicon octicon-code">
    <path d="m11.28 3.22 4.25 4.25a.75.75 0 0 1 0 1.06l-4.25 4.25a.749.749 0 0 1-1.275-.326.749.749 0 0 1 .215-.734L13.94 8l-3.72-3.72a.749.749 0 0 1 .326-1.275.749.749 0 0 1 .734.215Zm-6.56 0a.751.751 0 0 1 1.042.018.751.751 0 0 1 .018 1.042L2.06 8l3.72 3.72a.749.749 0 0 1-.326 1.275.749.749 0 0 1-.734-.215L.47 8.53a.75.75 0 0 1 0-1.06Z"></path>
</svg>
</template>

<template id="file-code-icon">
  <svg aria-hidden="true" height="16" viewBox="0 0 16 16" version="1.1" width="16" data-view-component="true" class="octicon octicon-file-code">
    <path d="M4 1.75C4 .784 4.784 0 5.75 0h5.586c.464 0 .909.184 1.237.513l2.914 2.914c.329.328.513.773.513 1.237v8.586A1.75 1.75 0 0 1 14.25 15h-9a.75.75 0 0 1 0-1.5h9a.25.25 0 0 0 .25-.25V6h-2.75A1.75 1.75 0 0 1 10 4.25V1.5H5.75a.25.25 0 0 0-.25.25v2.5a.75.75 0 0 1-1.5 0Zm1.72 4.97a.75.75 0 0 1 1.06 0l2 2a.75.75 0 0 1 0 1.06l-2 2a.749.749 0 0 1-1.275-.326.749.749 0 0 1 .215-.734l1.47-1.47-1.47-1.47a.75.75 0 0 1 0-1.06ZM3.28 7.78 1.81 9.25l1.47 1.47a.751.751 0 0 1-.018 1.042.751.751 0 0 1-1.042.018l-2-2a.75.75 0 0 1 0-1.06l2-2a.751.751 0 0 1 1.042.018.751.751 0 0 1 .018 1.042Zm8.22-6.218V4.25c0 .138.112.25.25.25h2.688l-.011-.013-2.914-2.914-.013-.011Z"></path>
</svg>
</template>

<template id="history-icon">
  <svg aria-hidden="true" height="16" viewBox="0 0 16 16" version="1.1" width="16" data-view-component="true" class="octicon octicon-history">
    <path d="m.427 1.927 1.215 1.215a8.002 8.002 0 1 1-1.6 5.685.75.75 0 1 1 1.493-.154 6.5 6.5 0 1 0 1.18-4.458l1.358 1.358A.25.25 0 0 1 3.896 6H.25A.25.25 0 0 1 0 5.75V2.104a.25.25 0 0 1 .427-.177ZM7.75 4a.75.75 0 0 1 .75.75v2.992l2.028.812a.75.75 0 0 1-.557 1.392l-2.5-1A.751.751 0 0 1 7 8.25v-3.5A.75.75 0 0 1 7.75 4Z"></path>
</svg>
</template>

<template id="repo-icon">
  <svg aria-hidden="true" height="16" viewBox="0 0 16 16" version="1.1" width="16" data-view-component="true" class="octicon octicon-repo">
    <path d="M2 2.5A2.5 2.5 0 0 1 4.5 0h8.75a.75.75 0 0 1 .75.75v12.5a.75.75 0 0 1-.75.75h-2.5a.75.75 0 0 1 0-1.5h1.75v-2h-8a1 1 0 0 0-.714 1.7.75.75 0 1 1-1.072 1.05A2.495 2.495 0 0 1 2 11.5Zm10.5-1h-8a1 1 0 0 0-1 1v6.708A2.486 2.486 0 0 1 4.5 9h8ZM5 12.25a.25.25 0 0 1 .25-.25h3.5a.25.25 0 0 1 .25.25v3.25a.25.25 0 0 1-.4.2l-1.45-1.087a.249.249 0 0 0-.3 0L5.4 15.7a.25.25 0 0 1-.4-.2Z"></path>
</svg>
</template>

<template id="bookmark-icon">
  <svg aria-hidden="true" height="16" viewBox="0 0 16 16" version="1.1" width="16" data-view-component="true" class="octicon octicon-bookmark">
    <path d="M3 2.75C3 1.784 3.784 1 4.75 1h6.5c.966 0 1.75.784 1.75 1.75v11.5a.75.75 0 0 1-1.227.579L8 11.722l-3.773 3.107A.751.751 0 0 1 3 14.25Zm1.75-.25a.25.25 0 0 0-.25.25v9.91l3.023-2.489a.75.75 0 0 1 .954 0l3.023 2.49V2.75a.25.25 0 0 0-.25-.25Z"></path>
</svg>
</template>

<template id="plus-circle-icon">
  <svg aria-hidden="true" height="16" viewBox="0 0 16 16" version="1.1" width="16" data-view-component="true" class="octicon octicon-plus-circle">
    <path d="M8 0a8 8 0 1 1 0 16A8 8 0 0 1 8 0ZM1.5 8a6.5 6.5 0 1 0 13 0 6.5 6.5 0 0 0-13 0Zm7.25-3.25v2.5h2.5a.75.75 0 0 1 0 1.5h-2.5v2.5a.75.75 0 0 1-1.5 0v-2.5h-2.5a.75.75 0 0 1 0-1.5h2.5v-2.5a.75.75 0 0 1 1.5 0Z"></path>
</svg>
</template>

<template id="circle-icon">
  <svg aria-hidden="true" height="16" viewBox="0 0 16 16" version="1.1" width="16" data-view-component="true" class="octicon octicon-dot-fill">
    <path d="M8 4a4 4 0 1 1 0 8 4 4 0 0 1 0-8Z"></path>
</svg>
</template>

<template id="trash-icon">
  <svg aria-hidden="true" height="16" viewBox="0 0 16 16" version="1.1" width="16" data-view-component="true" class="octicon octicon-trash">
    <path d="M11 1.75V3h2.25a.75.75 0 0 1 0 1.5H2.75a.75.75 0 0 1 0-1.5H5V1.75C5 .784 5.784 0 6.75 0h2.5C10.216 0 11 .784 11 1.75ZM4.496 6.675l.66 6.6a.25.25 0 0 0 .249.225h5.19a.25.25 0 0 0 .249-.225l.66-6.6a.75.75 0 0 1 1.492.149l-.66 6.6A1.748 1.748 0 0 1 10.595 15h-5.19a1.75 1.75 0 0 1-1.741-1.575l-.66-6.6a.75.75 0 1 1 1.492-.15ZM6.5 1.75V3h3V1.75a.25.25 0 0 0-.25-.25h-2.5a.25.25 0 0 0-.25.25Z"></path>
</svg>
</template>

<template id="team-icon">
  <svg aria-hidden="true" height="16" viewBox="0 0 16 16" version="1.1" width="16" data-view-component="true" class="octicon octicon-people">
    <path d="M2 5.5a3.5 3.5 0 1 1 5.898 2.549 5.508 5.508 0 0 1 3.034 4.084.75.75 0 1 1-1.482.235 4 4 0 0 0-7.9 0 .75.75 0 0 1-1.482-.236A5.507 5.507 0 0 1 3.102 8.05 3.493 3.493 0 0 1 2 5.5ZM11 4a3.001 3.001 0 0 1 2.22 5.018 5.01 5.01 0 0 1 2.56 3.012.749.749 0 0 1-.885.954.752.752 0 0 1-.549-.514 3.507 3.507 0 0 0-2.522-2.372.75.75 0 0 1-.574-.73v-.352a.75.75 0 0 1 .416-.672A1.5 1.5 0 0 0 11 5.5.75.75 0 0 1 11 4Zm-5.5-.5a2 2 0 1 0-.001 3.999A2 2 0 0 0 5.5 3.5Z"></path>
</svg>
</template>

<template id="project-icon">
  <svg aria-hidden="true" height="16" viewBox="0 0 16 16" version="1.1" width="16" data-view-component="true" class="octicon octicon-project">
    <path d="M1.75 0h12.5C15.216 0 16 .784 16 1.75v12.5A1.75 1.75 0 0 1 14.25 16H1.75A1.75 1.75 0 0 1 0 14.25V1.75C0 .784.784 0 1.75 0ZM1.5 1.75v12.5c0 .138.112.25.25.25h12.5a.25.25 0 0 0 .25-.25V1.75a.25.25 0 0 0-.25-.25H1.75a.25.25 0 0 0-.25.25ZM11.75 3a.75.75 0 0 1 .75.75v7.5a.75.75 0 0 1-1.5 0v-7.5a.75.75 0 0 1 .75-.75Zm-8.25.75a.75.75 0 0 1 1.5 0v5.5a.75.75 0 0 1-1.5 0ZM8 3a.75.75 0 0 1 .75.75v3.5a.75.75 0 0 1-1.5 0v-3.5A.75.75 0 0 1 8 3Z"></path>
</svg>
</template>

<template id="pencil-icon">
  <svg aria-hidden="true" height="16" viewBox="0 0 16 16" version="1.1" width="16" data-view-component="true" class="octicon octicon-pencil">
    <path d="M11.013 1.427a1.75 1.75 0 0 1 2.474 0l1.086 1.086a1.75 1.75 0 0 1 0 2.474l-8.61 8.61c-.21.21-.47.364-.756.445l-3.251.93a.75.75 0 0 1-.927-.928l.929-3.25c.081-.286.235-.547.445-.758l8.61-8.61Zm.176 4.823L9.75 4.81l-6.286 6.287a.253.253 0 0 0-.064.108l-.558 1.953 1.953-.558a.253.253 0 0 0 .108-.064Zm1.238-3.763a.25.25 0 0 0-.354 0L10.811 3.75l1.439 1.44 1.263-1.263a.25.25 0 0 0 0-.354Z"></path>
</svg>
</template>

        <div class="position-relative">
                <ul
                  role="listbox"
                  class="ActionListWrap QueryBuilder-ListWrap"
                  aria-label="Suggestions"
                  data-action="
                    combobox-commit:query-builder#comboboxCommit
                    mousedown:query-builder#resultsMousedown
                  "
                  data-target="query-builder.resultsList"
                  data-persist-list=false
                  id="query-builder-test-results"
                ></ul>
        </div>
    </div>
    <div data-target="query-builder.screenReaderFeedback" aria-live="polite" aria-atomic="true" class="sr-only"></div>
</query-builder></form>
          <div class="d-flex flex-row color-fg-muted px-3 text-small color-bg-default search-feedback-prompt">
            <a target="_blank" href="https://docs.github.com/en/search-github/github-code-search/understanding-github-code-search-syntax" data-view-component="true" class="color-fg-accent text-normal ml-2">
              Search syntax tips
</a>            <div class="d-flex flex-1"></div>
              <button data-action="click:qbsearch-input#showFeedbackDialog" type="button" data-view-component="true" class="Button--link Button--medium Button color-fg-accent text-normal ml-2">    <span class="Button-content">
      <span class="Button-label">Give feedback</span>
    </span>
</button>  
          </div>
        </div>
</div>

    </div>
</modal-dialog></div>
  </div>
  <div data-action="click:qbsearch-input#retract" class="dark-backdrop position-fixed width-full" hidden data-target="qbsearch-input.darkBackdrop"></div>
  <div class="color-fg-default">
    
<div class="Overlay--hidden Overlay-backdrop--center" data-modal-dialog-overlay>
  <modal-dialog data-target="qbsearch-input.feedbackDialog" data-action="close:qbsearch-input#handleDialogClose cancel:qbsearch-input#handleDialogClose" role="dialog" id="feedback-dialog" aria-modal="true" aria-disabled="true" aria-describedby="feedback-dialog-title feedback-dialog-description" data-view-component="true" class="Overlay Overlay-whenNarrow Overlay--size-medium Overlay--motion-scaleFade">
    <div data-view-component="true" class="Overlay-header">
  <div class="Overlay-headerContentWrap">
    <div class="Overlay-titleWrap">
      <h1 class="Overlay-title " id="feedback-dialog-title">
        Provide feedback
      </h1>
    </div>
    <div class="Overlay-actionWrap">
      <button data-close-dialog-id="feedback-dialog" aria-label="Close" type="button" data-view-component="true" class="close-button Overlay-closeButton"><svg aria-hidden="true" height="16" viewBox="0 0 16 16" version="1.1" width="16" data-view-component="true" class="octicon octicon-x">
    <path d="M3.72 3.72a.75.75 0 0 1 1.06 0L8 6.94l3.22-3.22a.749.749 0 0 1 1.275.326.749.749 0 0 1-.215.734L9.06 8l3.22 3.22a.749.749 0 0 1-.326 1.275.749.749 0 0 1-.734-.215L8 9.06l-3.22 3.22a.751.751 0 0 1-1.042-.018.751.751 0 0 1-.018-1.042L6.94 8 3.72 4.78a.75.75 0 0 1 0-1.06Z"></path>
</svg></button>
    </div>
  </div>
</div>
      <div data-view-component="true" class="Overlay-body">        <!-- '"` --><!-- </textarea></xmp> --></option></form><form id="code-search-feedback-form" data-turbo="false" action="/search/feedback" accept-charset="UTF-8" method="post"><input type="hidden" name="authenticity_token" value="mzeyJXyqd0aVNhgmS-mwzxM2alxZmRMwqDufR-samm0u4rf5qeDfaUou6Od8wc0Lp7B6y7eoS0tWE0s06IhvdQ" />
          <p>We read every piece of feedback, and take your input very seriously.</p>
          <textarea name="feedback" class="form-control width-full mb-2" style="height: 120px" id="feedback"></textarea>
          <input name="include_email" id="include_email" aria-label="Include my email address so I can be contacted" class="form-control mr-2" type="checkbox">
          <label for="include_email" style="font-weight: normal">Include my email address so I can be contacted</label>
</form></div>
      <div data-view-component="true" class="Overlay-footer Overlay-footer--alignEnd">          <button data-close-dialog-id="feedback-dialog" type="button" data-view-component="true" class="btn">    Cancel
</button>
          <button form="code-search-feedback-form" data-action="click:qbsearch-input#submitFeedback" type="submit" data-view-component="true" class="btn-primary btn">    Submit feedback
</button>
</div>
</modal-dialog></div>

    <custom-scopes data-target="qbsearch-input.customScopesManager">
    
<div class="Overlay--hidden Overlay-backdrop--center" data-modal-dialog-overlay>
  <modal-dialog data-target="custom-scopes.customScopesModalDialog" data-action="close:qbsearch-input#handleDialogClose cancel:qbsearch-input#handleDialogClose" role="dialog" id="custom-scopes-dialog" aria-modal="true" aria-disabled="true" aria-describedby="custom-scopes-dialog-title custom-scopes-dialog-description" data-view-component="true" class="Overlay Overlay-whenNarrow Overlay--size-medium Overlay--motion-scaleFade">
    <div data-view-component="true" class="Overlay-header Overlay-header--divided">
  <div class="Overlay-headerContentWrap">
    <div class="Overlay-titleWrap">
      <h1 class="Overlay-title " id="custom-scopes-dialog-title">
        Saved searches
      </h1>
        <h2 id="custom-scopes-dialog-description" class="Overlay-description">Use saved searches to filter your results more quickly</h2>
    </div>
    <div class="Overlay-actionWrap">
      <button data-close-dialog-id="custom-scopes-dialog" aria-label="Close" type="button" data-view-component="true" class="close-button Overlay-closeButton"><svg aria-hidden="true" height="16" viewBox="0 0 16 16" version="1.1" width="16" data-view-component="true" class="octicon octicon-x">
    <path d="M3.72 3.72a.75.75 0 0 1 1.06 0L8 6.94l3.22-3.22a.749.749 0 0 1 1.275.326.749.749 0 0 1-.215.734L9.06 8l3.22 3.22a.749.749 0 0 1-.326 1.275.749.749 0 0 1-.734-.215L8 9.06l-3.22 3.22a.751.751 0 0 1-1.042-.018.751.751 0 0 1-.018-1.042L6.94 8 3.72 4.78a.75.75 0 0 1 0-1.06Z"></path>
</svg></button>
    </div>
  </div>
</div>
      <div data-view-component="true" class="Overlay-body">        <div data-target="custom-scopes.customScopesModalDialogFlash"></div>

        <div hidden class="create-custom-scope-form" data-target="custom-scopes.createCustomScopeForm">
        <!-- '"` --><!-- </textarea></xmp> --></option></form><form id="custom-scopes-dialog-form" data-turbo="false" action="/search/custom_scopes" accept-charset="UTF-8" method="post"><input type="hidden" name="authenticity_token" value="4LCsZXi87fbsfhivFvDvgOwaeO0vMD3_1vOZDwihFkwU8tctS2m92CnHzQgl1r4g_fdq-1TwV81txJyMi4FCRg" />
          <div data-target="custom-scopes.customScopesModalDialogFlash"></div>

          <input type="hidden" id="custom_scope_id" name="custom_scope_id" data-target="custom-scopes.customScopesIdField">

          <div class="form-group">
            <label for="custom_scope_name">Name</label>
            <auto-check src="/search/custom_scopes/check_name" required>
              <input
                type="text"
                name="custom_scope_name"
                id="custom_scope_name"
                data-target="custom-scopes.customScopesNameField"
                class="form-control"
                autocomplete="off"
                placeholder="github-ruby"
                required
                maxlength="50">
              <input type="hidden" value="rAFMQ166Gk-ajJkyfyf4h3pKPRH68Bs6yyfEE3kdVsi1z0ct0aDKjbg6qpBfKCcKkJtwE2-X3aZDBM5FVtkZyw" data-csrf="true" />
            </auto-check>
          </div>

          <div class="form-group">
            <label for="custom_scope_query">Query</label>
            <input
              type="text"
              name="custom_scope_query"
              id="custom_scope_query"
              data-target="custom-scopes.customScopesQueryField"
              class="form-control"
              autocomplete="off"
              placeholder="(repo:mona/a OR repo:mona/b) AND lang:python"
              required
              maxlength="500">
          </div>

          <p class="text-small color-fg-muted">
            To see all available qualifiers, see our <a href="https://docs.github.com/en/search-github/github-code-search/understanding-github-code-search-syntax">documentation</a>.
          </p>
</form>        </div>

        <div data-target="custom-scopes.manageCustomScopesForm">
          <div data-target="custom-scopes.list"></div>
        </div>

</div>
      <div data-view-component="true" class="Overlay-footer Overlay-footer--alignEnd Overlay-footer--divided">          <button data-action="click:custom-scopes#customScopesCancel" type="button" data-view-component="true" class="btn">    Cancel
</button>
          <button form="custom-scopes-dialog-form" data-action="click:custom-scopes#customScopesSubmit" data-target="custom-scopes.customScopesSubmitButton" type="submit" data-view-component="true" class="btn-primary btn">    Create saved search
</button>
</div>
</modal-dialog></div>
    </custom-scopes>
  </div>
</qbsearch-input><input type="hidden" value="URxQ6HEBXZYm48koQmJ6INCKoRof10IXBYlwiCpixgTEx1g27jx6BKtFbR2xvFULRJMPUzAniqnw7qDpFNDzNg" data-csrf="true" class="js-data-jump-to-suggestions-path-csrf" />

        <nav id="global-nav" class="d-flex flex-column flex-md-row flex-self-stretch flex-md-self-auto" aria-label="Global">
    <a class="Header-link py-md-3 d-block d-md-none py-2 border-top border-md-top-0 border-white-fade" data-ga-click="Header, click, Nav menu - item:dashboard:user" aria-label="Dashboard" data-turbo="false" href="/dashboard">Dashboard</a>

  <a class="js-selected-navigation-item Header-link mt-md-n3 mb-md-n3 py-2 py-md-3 mr-0 mr-md-3 border-top border-md-top-0 border-white-fade" data-hotkey="g p" data-ga-click="Header, click, Nav menu - item:pulls context:user" aria-label="Pull requests you created" data-turbo="false" data-selected-links="/pulls /pulls/assigned /pulls/mentioned /pulls" href="/pulls">
      Pull<span class="d-inline d-md-none d-lg-inline"> request</span>s
</a>
  <a class="js-selected-navigation-item Header-link mt-md-n3 mb-md-n3 py-2 py-md-3 mr-0 mr-md-3 border-top border-md-top-0 border-white-fade" data-hotkey="g i" data-ga-click="Header, click, Nav menu - item:issues context:user" aria-label="Issues you created" data-turbo="false" data-selected-links="/issues /issues/assigned /issues/mentioned /issues" href="/issues">Issues</a>

      <a class="js-selected-navigation-item Header-link mt-md-n3 mb-md-n3 py-2 py-md-3 mr-0 mr-md-3 border-top border-md-top-0 border-white-fade" data-ga-click="Header, click, Nav menu - item:workspaces context:user" data-turbo="false" data-selected-links="/codespaces /codespaces" href="/codespaces">Codespaces</a>

    <div class="d-flex position-relative">
      <a class="js-selected-navigation-item Header-link flex-auto mt-md-n3 mb-md-n3 py-2 py-md-3 mr-0 mr-md-3 border-top border-md-top-0 border-white-fade" data-ga-click="Header, click, Nav menu - item:marketplace context:user" data-octo-click="marketplace_click" data-octo-dimensions="location:nav_bar" data-turbo="false" data-selected-links=" /marketplace" href="/marketplace">Marketplace</a>
    </div>

  <a class="js-selected-navigation-item Header-link mt-md-n3 mb-md-n3 py-2 py-md-3 mr-0 mr-md-3 border-top border-md-top-0 border-white-fade" data-ga-click="Header, click, Nav menu - item:explore" data-turbo="false" data-selected-links="/explore /trending /trending/developers /integrations /integrations/feature/code /integrations/feature/collaborate /integrations/feature/ship showcases showcases_search showcases_landing /explore" href="/explore">Explore</a>

      <a class="js-selected-navigation-item Header-link d-block d-md-none py-2 py-md-3 border-top border-md-top-0 border-white-fade" data-ga-click="Header, click, Nav menu - item:Sponsors" data-hydro-click="{&quot;event_type&quot;:&quot;sponsors.button_click&quot;,&quot;payload&quot;:{&quot;button&quot;:&quot;HEADER_SPONSORS_DASHBOARD&quot;,&quot;sponsorable_login&quot;:&quot;vn322&quot;,&quot;originating_url&quot;:&quot;https://github.com/netology-ds-team/DLL/blob/main/DLL-materials/%D0%97%D0%B0%D0%BD%D1%8F%D1%82%D0%B8%D0%B5%204.%20%D0%90%D1%80%D1%85%D0%B8%D1%82%D0%B5%D0%BA%D1%82%D1%83%D1%80%D1%8B%20%D1%81%D0%B2%D0%B5%D1%80%D1%82%D0%BE%D1%87%D0%BD%D1%8B%D1%85%20%D1%81%D0%B5%D1%82%D0%B5%D0%B9.ipynb&quot;,&quot;user_id&quot;:77914048}}" data-hydro-click-hmac="0a172968af7243f0f63b6a538434a83b0daae5c32ac60b26b113a6da582239ab" data-turbo="false" data-selected-links=" /sponsors/accounts" href="/sponsors/accounts">Sponsors</a>

    <a class="Header-link d-block d-md-none mr-0 mr-md-3 py-2 py-md-3 border-top border-md-top-0 border-white-fade" data-turbo="false" href="/settings/profile">Settings</a>

    <a class="Header-link d-block d-md-none mr-0 mr-md-3 py-2 py-md-3 border-top border-md-top-0 border-white-fade" data-turbo="false" href="/vn322">
      <img class="avatar avatar-user" loading="lazy" decoding="async" src="https://avatars.githubusercontent.com/u/77914048?s=40&amp;v=4" width="20" height="20" alt="@vn322" />
      vn322
</a>
    <!-- '"` --><!-- </textarea></xmp> --></option></form><form data-turbo="false" action="/logout" accept-charset="UTF-8" method="post"><input type="hidden" name="authenticity_token" value="azi4DN5-RlqfbOTaMkQ0hz0YfmJ4GMKHhCe5QLFSIMN4_fYsGxQpwy6vaTmUocegXvWV40579gLbqXaPos1cPA" />
      <button
        type="submit"
        class="Header-link mr-0 mr-md-3 py-2 py-md-3 border-top border-md-top-0 border-white-fade d-md-none btn-link d-block width-full text-left"
        style="padding-left: 2px;"
        data-analytics-event="{&quot;category&quot;:&quot;Header&quot;,&quot;action&quot;:&quot;sign out&quot;,&quot;label&quot;:&quot;icon:logout&quot;}"
      >
        <svg aria-hidden="true" height="16" viewBox="0 0 16 16" version="1.1" width="16" data-view-component="true" class="octicon octicon-sign-out v-align-middle">
    <path d="M2 2.75C2 1.784 2.784 1 3.75 1h2.5a.75.75 0 0 1 0 1.5h-2.5a.25.25 0 0 0-.25.25v10.5c0 .138.112.25.25.25h2.5a.75.75 0 0 1 0 1.5h-2.5A1.75 1.75 0 0 1 2 13.25Zm10.44 4.5-1.97-1.97a.749.749 0 0 1 .326-1.275.749.749 0 0 1 .734.215l3.25 3.25a.75.75 0 0 1 0 1.06l-3.25 3.25a.749.749 0 0 1-1.275-.326.749.749 0 0 1 .215-.734l1.97-1.97H6.75a.75.75 0 0 1 0-1.5Z"></path>
</svg>
        Sign out
      </button>
</form></nav>

    </div>

    <div class="Header-item Header-item--full flex-justify-center d-md-none position-relative">
        <a
  class="Header-link"
  href="https://github.com/"
  data-hotkey="g d"
  aria-label="Homepage "
  data-turbo="false"
  data-analytics-event="{&quot;category&quot;:&quot;Header&quot;,&quot;action&quot;:&quot;go to dashboard&quot;,&quot;label&quot;:&quot;icon:logo&quot;}"
>
  <svg height="32" aria-hidden="true" viewBox="0 0 16 16" version="1.1" width="32" data-view-component="true" class="octicon octicon-mark-github v-align-middle">
    <path d="M8 0c4.42 0 8 3.58 8 8a8.013 8.013 0 0 1-5.45 7.59c-.4.08-.55-.17-.55-.38 0-.27.01-1.13.01-2.2 0-.75-.25-1.23-.54-1.48 1.78-.2 3.65-.88 3.65-3.95 0-.88-.31-1.59-.82-2.15.08-.2.36-1.02-.08-2.12 0 0-.67-.22-2.2.82-.64-.18-1.32-.27-2-.27-.68 0-1.36.09-2 .27-1.53-1.03-2.2-.82-2.2-.82-.44 1.1-.16 1.92-.08 2.12-.51.56-.82 1.28-.82 2.15 0 3.06 1.86 3.75 3.64 3.95-.23.2-.44.55-.51 1.07-.46.21-1.61.55-2.33-.66-.15-.24-.6-.83-1.23-.82-.67.01-.27.38.01.53.34.19.73.9.82 1.13.16.45.68 1.31 2.69.94 0 .67.01 1.3.01 1.49 0 .21-.15.45-.55.38A7.995 7.995 0 0 1 0 8c0-4.42 3.58-8 8-8Z"></path>
</svg>
</a>

    </div>

    <div class="Header-item mr-0 mr-md-3 flex-order-1 flex-md-order-none">
        

<notification-indicator data-channel="eyJjIjoibm90aWZpY2F0aW9uLWNoYW5nZWQ6Nzc5MTQwNDgiLCJ0IjoxNjg2MDQyMDY1fQ==--ec646fb4374e5d32209267fa5c376a316eda8de905bbb871afc885e9aedf26d5" data-indicator-mode="none" data-tooltip-global="You have unread notifications" data-tooltip-unavailable="Notifications are unavailable at the moment." data-tooltip-none="You have no unread notifications" data-fetch-indicator-src="/notifications/indicator" data-fetch-indicator-enabled="true" data-view-component="true" class="js-socket-channel">
  <a id="AppHeader-notifications-button" href="/notifications"
    class="Header-link notification-indicator position-relative tooltipped tooltipped-sw"

    

    data-hotkey="g n"
    data-target="notification-indicator.link"
    aria-label="Notifications"

      data-analytics-event="{&quot;category&quot;:&quot;Header&quot;,&quot;action&quot;:&quot;go to notifications&quot;,&quot;label&quot;:&quot;icon:read&quot;}"
  >

    <span
      data-target="notification-indicator.badge"
      class="mail-status unread" hidden>
    </span>

      <svg aria-hidden="true" height="16" viewBox="0 0 16 16" version="1.1" width="16" data-view-component="true" class="octicon octicon-bell">
    <path d="M8 16a2 2 0 0 0 1.985-1.75c.017-.137-.097-.25-.235-.25h-3.5c-.138 0-.252.113-.235.25A2 2 0 0 0 8 16ZM3 5a5 5 0 0 1 10 0v2.947c0 .05.015.098.042.139l1.703 2.555A1.519 1.519 0 0 1 13.482 13H2.518a1.516 1.516 0 0 1-1.263-2.36l1.703-2.554A.255.255 0 0 0 3 7.947Zm5-3.5A3.5 3.5 0 0 0 4.5 5v2.947c0 .346-.102.683-.294.97l-1.703 2.556a.017.017 0 0 0-.003.01l.001.006c0 .002.002.004.004.006l.006.004.007.001h10.964l.007-.001.006-.004.004-.006.001-.007a.017.017 0 0 0-.003-.01l-1.703-2.554a1.745 1.745 0 0 1-.294-.97V5A3.5 3.5 0 0 0 8 1.5Z"></path>
</svg>
  </a>

</notification-indicator>
    </div>


    <div class="Header-item position-relative d-none d-md-flex">
        <details class="details-overlay details-reset">
  <summary
    class="Header-link"
    aria-label="Create new…"
    data-analytics-event="{&quot;category&quot;:&quot;Header&quot;,&quot;action&quot;:&quot;create new&quot;,&quot;label&quot;:&quot;icon:add&quot;}"
  >
    <svg aria-hidden="true" height="16" viewBox="0 0 16 16" version="1.1" width="16" data-view-component="true" class="octicon octicon-plus">
    <path d="M7.75 2a.75.75 0 0 1 .75.75V7h4.25a.75.75 0 0 1 0 1.5H8.5v4.25a.75.75 0 0 1-1.5 0V8.5H2.75a.75.75 0 0 1 0-1.5H7V2.75A.75.75 0 0 1 7.75 2Z"></path>
</svg> <span class="dropdown-caret"></span>
  </summary>
  <details-menu class="dropdown-menu dropdown-menu-sw">
    
<a role="menuitem" class="dropdown-item" href="/new" data-ga-click="Header, create new repository">
  New repository
</a>

  <a role="menuitem" class="dropdown-item" href="/new/import" data-ga-click="Header, import a repository">
    Import repository
  </a>

  <a role="menuitem" class="dropdown-item" href="/codespaces/new">
    New codespace
  </a>

<a role="menuitem" class="dropdown-item" href="https://gist.github.com/" data-ga-click="Header, create new gist">
  New gist
</a>

  <a role="menuitem" class="dropdown-item" href="/organizations/new" data-ga-click="Header, create new organization">
    New organization
  </a>



  </details-menu>
</details>

    </div>

    <div class="Header-item position-relative mr-0 d-none d-md-flex">
        
  <details class="details-overlay details-reset js-feature-preview-indicator-container" data-feature-preview-indicator-src="/users/vn322/feature_preview/indicator_check">

  <summary
    class="Header-link"
    aria-label="View profile and more"
    data-analytics-event="{&quot;category&quot;:&quot;Header&quot;,&quot;action&quot;:&quot;show menu&quot;,&quot;label&quot;:&quot;icon:avatar&quot;}"
  >
    <img src="https://avatars.githubusercontent.com/u/77914048?s=40&amp;v=4" alt="@vn322" size="20" height="20" width="20" data-view-component="true" class="avatar avatar-small circle" />
      <span class="unread-indicator js-feature-preview-indicator" style="top: 1px;" hidden></span>
    <span class="dropdown-caret"></span>
  </summary>
  <details-menu
      class="dropdown-menu dropdown-menu-sw"
      style="width: 180px"
      
      preload>
      <include-fragment src="/users/77914048/menu" loading="lazy">
        <p class="text-center mt-3" data-hide-on-error>
          <svg style="box-sizing: content-box; color: var(--color-icon-primary);" width="32" height="32" viewBox="0 0 16 16" fill="none" data-view-component="true" class="anim-rotate">
  <circle cx="8" cy="8" r="7" stroke="currentColor" stroke-opacity="0.25" stroke-width="2" vector-effect="non-scaling-stroke" />
  <path d="M15 8a7.002 7.002 0 00-7-7" stroke="currentColor" stroke-width="2" stroke-linecap="round" vector-effect="non-scaling-stroke" />
</svg>
        </p>
        <p class="ml-1 mb-2 mt-2 color-fg-default" data-show-on-error>
          <svg aria-hidden="true" height="16" viewBox="0 0 16 16" version="1.1" width="16" data-view-component="true" class="octicon octicon-alert">
    <path d="M6.457 1.047c.659-1.234 2.427-1.234 3.086 0l6.082 11.378A1.75 1.75 0 0 1 14.082 15H1.918a1.75 1.75 0 0 1-1.543-2.575Zm1.763.707a.25.25 0 0 0-.44 0L1.698 13.132a.25.25 0 0 0 .22.368h12.164a.25.25 0 0 0 .22-.368Zm.53 3.996v2.5a.75.75 0 0 1-1.5 0v-2.5a.75.75 0 0 1 1.5 0ZM9 11a1 1 0 1 1-2 0 1 1 0 0 1 2 0Z"></path>
</svg>
          Sorry, something went wrong.
        </p>
      </include-fragment>
  </details-menu>
</details>

    </div>
</header>

          
    </div>

  <div id="start-of-content" class="show-on-focus"></div>








    <div id="js-flash-container" data-turbo-replace>





  <template class="js-flash-template">
    
<div class="flash flash-full   {{ className }}">
  <div class="px-2" >
    <button autofocus class="flash-close js-flash-close" type="button" aria-label="Dismiss this message">
      <svg aria-hidden="true" height="16" viewBox="0 0 16 16" version="1.1" width="16" data-view-component="true" class="octicon octicon-x">
    <path d="M3.72 3.72a.75.75 0 0 1 1.06 0L8 6.94l3.22-3.22a.749.749 0 0 1 1.275.326.749.749 0 0 1-.215.734L9.06 8l3.22 3.22a.749.749 0 0 1-.326 1.275.749.749 0 0 1-.734-.215L8 9.06l-3.22 3.22a.751.751 0 0 1-1.042-.018.751.751 0 0 1-.018-1.042L6.94 8 3.72 4.78a.75.75 0 0 1 0-1.06Z"></path>
</svg>
    </button>
    <div aria-atomic="true" role="alert" class="js-flash-alert">
      
      <div>{{ message }}</div>

    </div>
  </div>
</div>
  </template>
</div>


    
    <notification-shelf-watcher data-base-url="https://github.com/notifications/beta/shelf" data-channel="eyJjIjoibm90aWZpY2F0aW9uLWNoYW5nZWQ6Nzc5MTQwNDgiLCJ0IjoxNjg2MDQyMDY1fQ==--ec646fb4374e5d32209267fa5c376a316eda8de905bbb871afc885e9aedf26d5" data-view-component="true" class="js-socket-channel"></notification-shelf-watcher>
  <div hidden data-initial data-target="notification-shelf-watcher.placeholder"></div>






      <details
  class="details-reset details-overlay details-overlay-dark js-command-palette-dialog"
  id="command-palette-pjax-container"
  data-turbo-replace
>
  <summary aria-label="command palette trigger" tabindex="-1"></summary>
  <details-dialog class="command-palette-details-dialog d-flex flex-column flex-justify-center height-fit" aria-label="command palette">
    <command-palette
      class="command-palette color-bg-default rounded-3 border color-shadow-small"
      return-to=/netology-ds-team/DLL/blob/main/DLL-materials/%D0%97%D0%B0%D0%BD%D1%8F%D1%82%D0%B8%D0%B5%204.%20%D0%90%D1%80%D1%85%D0%B8%D1%82%D0%B5%D0%BA%D1%82%D1%83%D1%80%D1%8B%20%D1%81%D0%B2%D0%B5%D1%80%D1%82%D0%BE%D1%87%D0%BD%D1%8B%D1%85%20%D1%81%D0%B5%D1%82%D0%B5%D0%B9.ipynb
      user-id="77914048"
      activation-hotkey="Mod+k,Mod+Alt+k"
      command-mode-hotkey="Mod+Shift+k"
      data-action="
        command-palette-input-ready:command-palette#inputReady
        command-palette-page-stack-updated:command-palette#updateInputScope
        itemsUpdated:command-palette#itemsUpdated
        keydown:command-palette#onKeydown
        loadingStateChanged:command-palette#loadingStateChanged
        selectedItemChanged:command-palette#selectedItemChanged
        pageFetchError:command-palette#pageFetchError
      ">

        <command-palette-mode
          data-char="#"
            data-scope-types="[&quot;&quot;]"
            data-placeholder="Search issues and pull requests"
        ></command-palette-mode>
        <command-palette-mode
          data-char="#"
            data-scope-types="[&quot;owner&quot;,&quot;repository&quot;]"
            data-placeholder="Search issues, pull requests, discussions, and projects"
        ></command-palette-mode>
        <command-palette-mode
          data-char="!"
            data-scope-types="[&quot;owner&quot;,&quot;repository&quot;]"
            data-placeholder="Search projects"
        ></command-palette-mode>
        <command-palette-mode
          data-char="@"
            data-scope-types="[&quot;&quot;]"
            data-placeholder="Search or jump to a user, organization, or repository"
        ></command-palette-mode>
        <command-palette-mode
          data-char="@"
            data-scope-types="[&quot;owner&quot;]"
            data-placeholder="Search or jump to a repository"
        ></command-palette-mode>
        <command-palette-mode
          data-char="/"
            data-scope-types="[&quot;repository&quot;]"
            data-placeholder="Search files"
        ></command-palette-mode>
        <command-palette-mode
          data-char="?"
        ></command-palette-mode>
        <command-palette-mode
          data-char="&gt;"
            data-placeholder="Run a command"
        ></command-palette-mode>
        <command-palette-mode
          data-char=""
            data-scope-types="[&quot;&quot;]"
            data-placeholder="Search or jump to..."
        ></command-palette-mode>
        <command-palette-mode
          data-char=""
            data-scope-types="[&quot;owner&quot;]"
            data-placeholder="Search or jump to..."
        ></command-palette-mode>
      <command-palette-mode
        class="js-command-palette-default-mode"
        data-char=""
        data-placeholder="Search or jump to..."
      ></command-palette-mode>

      <command-palette-input placeholder="Search or jump to..."

        data-action="
          command-palette-input:command-palette#onInput
          command-palette-select:command-palette#onSelect
          command-palette-descope:command-palette#onDescope
          command-palette-cleared:command-palette#onInputClear
        "
      >
        <div class="js-search-icon d-flex flex-items-center mr-2" style="height: 26px">
          <svg aria-hidden="true" height="16" viewBox="0 0 16 16" version="1.1" width="16" data-view-component="true" class="octicon octicon-search color-fg-muted">
    <path d="M10.68 11.74a6 6 0 0 1-7.922-8.982 6 6 0 0 1 8.982 7.922l3.04 3.04a.749.749 0 0 1-.326 1.275.749.749 0 0 1-.734-.215ZM11.5 7a4.499 4.499 0 1 0-8.997 0A4.499 4.499 0 0 0 11.5 7Z"></path>
</svg>
        </div>
        <div class="js-spinner d-flex flex-items-center mr-2 color-fg-muted" hidden>
          <svg aria-label="Loading" class="anim-rotate" viewBox="0 0 16 16" fill="none" width="16" height="16">
            <circle
              cx="8"
              cy="8"
              r="7"
              stroke="currentColor"
              stroke-opacity="0.25"
              stroke-width="2"
              vector-effect="non-scaling-stroke"
            ></circle>
            <path
              d="M15 8a7.002 7.002 0 00-7-7"
              stroke="currentColor"
              stroke-width="2"
              stroke-linecap="round"
              vector-effect="non-scaling-stroke"
            ></path>
          </svg>
        </div>
        <command-palette-scope >
          <div data-target="command-palette-scope.placeholder" hidden class="color-fg-subtle">/&nbsp;&nbsp;<span class="text-semibold color-fg-default">...</span>&nbsp;&nbsp;/&nbsp;&nbsp;</div>
              <command-palette-token
                data-text="netology-ds-team"
                data-id="MDEyOk9yZ2FuaXphdGlvbjgzNzUzMzUz"
                data-type="owner"
                data-value="netology-ds-team"
                data-targets="command-palette-scope.tokens"
                class="color-fg-default text-semibold"
                style="white-space:nowrap;line-height:20px;"
                >netology-ds-team<span class="color-fg-subtle text-normal">&nbsp;&nbsp;/&nbsp;&nbsp;</span></command-palette-token>
              <command-palette-token
                data-text="DLL"
                data-id="R_kgDOI4EBZQ"
                data-type="repository"
                data-value="DLL"
                data-targets="command-palette-scope.tokens"
                class="color-fg-default text-semibold"
                style="white-space:nowrap;line-height:20px;"
                >DLL<span class="color-fg-subtle text-normal">&nbsp;&nbsp;/&nbsp;&nbsp;</span></command-palette-token>
        </command-palette-scope>
        <div class="command-palette-input-group flex-1 form-control border-0 box-shadow-none" style="z-index: 0">
          <div class="command-palette-typeahead position-absolute d-flex flex-items-center Truncate">
            <span class="typeahead-segment input-mirror" data-target="command-palette-input.mirror"></span>
            <span class="Truncate-text" data-target="command-palette-input.typeaheadText"></span>
            <span class="typeahead-segment" data-target="command-palette-input.typeaheadPlaceholder"></span>
          </div>
          <input
            class="js-overlay-input typeahead-input d-none"
            disabled
            tabindex="-1"
            aria-label="Hidden input for typeahead"
          >
          <input
            type="text"
            autocomplete="off"
            autocorrect="off"
            autocapitalize="off"
            spellcheck="false"
            class="js-input typeahead-input form-control border-0 box-shadow-none input-block width-full no-focus-indicator"
            aria-label="Command palette input"
            aria-haspopup="listbox"
            aria-expanded="false"
            aria-autocomplete="list"
            aria-controls="command-palette-page-stack"
            role="combobox"
            data-action="
              input:command-palette-input#onInput
              keydown:command-palette-input#onKeydown
            "
          >
        </div>
          <div data-view-component="true" class="position-relative d-inline-block">
    <button aria-keyshortcuts="Control+Backspace" data-action="click:command-palette-input#onClear keypress:command-palette-input#onClear" data-target="command-palette-input.clearButton" id="command-palette-clear-button" hidden="hidden" type="button" data-view-component="true" class="btn-octicon command-palette-input-clear-button">      <svg aria-hidden="true" height="16" viewBox="0 0 16 16" version="1.1" width="16" data-view-component="true" class="octicon octicon-x-circle-fill">
    <path d="M2.343 13.657A8 8 0 1 1 13.658 2.343 8 8 0 0 1 2.343 13.657ZM6.03 4.97a.751.751 0 0 0-1.042.018.751.751 0 0 0-.018 1.042L6.94 8 4.97 9.97a.749.749 0 0 0 .326 1.275.749.749 0 0 0 .734-.215L8 9.06l1.97 1.97a.749.749 0 0 0 1.275-.326.749.749 0 0 0-.215-.734L9.06 8l1.97-1.97a.749.749 0 0 0-.326-1.275.749.749 0 0 0-.734.215L8 6.94Z"></path>
</svg>
</button>    <tool-tip id="tooltip-8ec50faf-98b3-4787-9a10-51893ea36c1d" for="command-palette-clear-button" data-direction="w" data-type="label" data-view-component="true" class="sr-only position-absolute">Clear Command Palette</tool-tip>
</div>
      </command-palette-input>

      <command-palette-page-stack
        data-default-scope-id="R_kgDOI4EBZQ"
        data-default-scope-type="Repository"
        data-action="command-palette-page-octicons-cached:command-palette-page-stack#cacheOcticons"
      >
          <command-palette-tip
            class="color-fg-muted f6 px-3 py-1 my-2"
              data-scope-types="[&quot;&quot;,&quot;owner&quot;,&quot;repository&quot;]"
            data-mode=""
            data-value="">
            <div class="d-flex flex-items-start flex-justify-between">
              <div>
                <span class="text-bold">Tip:</span>
                  Type <kbd class="hx_kbd">#</kbd> to search pull requests
              </div>
              <div class="ml-2 flex-shrink-0">
                Type <kbd class="hx_kbd">?</kbd> for help and tips
              </div>
            </div>
          </command-palette-tip>
          <command-palette-tip
            class="color-fg-muted f6 px-3 py-1 my-2"
              data-scope-types="[&quot;&quot;,&quot;owner&quot;,&quot;repository&quot;]"
            data-mode=""
            data-value="">
            <div class="d-flex flex-items-start flex-justify-between">
              <div>
                <span class="text-bold">Tip:</span>
                  Type <kbd class="hx_kbd">#</kbd> to search issues
              </div>
              <div class="ml-2 flex-shrink-0">
                Type <kbd class="hx_kbd">?</kbd> for help and tips
              </div>
            </div>
          </command-palette-tip>
          <command-palette-tip
            class="color-fg-muted f6 px-3 py-1 my-2"
              data-scope-types="[&quot;owner&quot;,&quot;repository&quot;]"
            data-mode=""
            data-value="">
            <div class="d-flex flex-items-start flex-justify-between">
              <div>
                <span class="text-bold">Tip:</span>
                  Type <kbd class="hx_kbd">#</kbd> to search discussions
              </div>
              <div class="ml-2 flex-shrink-0">
                Type <kbd class="hx_kbd">?</kbd> for help and tips
              </div>
            </div>
          </command-palette-tip>
          <command-palette-tip
            class="color-fg-muted f6 px-3 py-1 my-2"
              data-scope-types="[&quot;owner&quot;,&quot;repository&quot;]"
            data-mode=""
            data-value="">
            <div class="d-flex flex-items-start flex-justify-between">
              <div>
                <span class="text-bold">Tip:</span>
                  Type <kbd class="hx_kbd">!</kbd> to search projects
              </div>
              <div class="ml-2 flex-shrink-0">
                Type <kbd class="hx_kbd">?</kbd> for help and tips
              </div>
            </div>
          </command-palette-tip>
          <command-palette-tip
            class="color-fg-muted f6 px-3 py-1 my-2"
              data-scope-types="[&quot;owner&quot;]"
            data-mode=""
            data-value="">
            <div class="d-flex flex-items-start flex-justify-between">
              <div>
                <span class="text-bold">Tip:</span>
                  Type <kbd class="hx_kbd">@</kbd> to search teams
              </div>
              <div class="ml-2 flex-shrink-0">
                Type <kbd class="hx_kbd">?</kbd> for help and tips
              </div>
            </div>
          </command-palette-tip>
          <command-palette-tip
            class="color-fg-muted f6 px-3 py-1 my-2"
              data-scope-types="[&quot;&quot;]"
            data-mode=""
            data-value="">
            <div class="d-flex flex-items-start flex-justify-between">
              <div>
                <span class="text-bold">Tip:</span>
                  Type <kbd class="hx_kbd">@</kbd> to search people and organizations
              </div>
              <div class="ml-2 flex-shrink-0">
                Type <kbd class="hx_kbd">?</kbd> for help and tips
              </div>
            </div>
          </command-palette-tip>
          <command-palette-tip
            class="color-fg-muted f6 px-3 py-1 my-2"
              data-scope-types="[&quot;&quot;,&quot;owner&quot;,&quot;repository&quot;]"
            data-mode=""
            data-value="">
            <div class="d-flex flex-items-start flex-justify-between">
              <div>
                <span class="text-bold">Tip:</span>
                  Type <kbd class="hx_kbd">&gt;</kbd> to activate command mode
              </div>
              <div class="ml-2 flex-shrink-0">
                Type <kbd class="hx_kbd">?</kbd> for help and tips
              </div>
            </div>
          </command-palette-tip>
          <command-palette-tip
            class="color-fg-muted f6 px-3 py-1 my-2"
              data-scope-types="[&quot;&quot;,&quot;owner&quot;,&quot;repository&quot;]"
            data-mode=""
            data-value="">
            <div class="d-flex flex-items-start flex-justify-between">
              <div>
                <span class="text-bold">Tip:</span>
                  Go to your accessibility settings to change your keyboard shortcuts
              </div>
              <div class="ml-2 flex-shrink-0">
                Type <kbd class="hx_kbd">?</kbd> for help and tips
              </div>
            </div>
          </command-palette-tip>
          <command-palette-tip
            class="color-fg-muted f6 px-3 py-1 my-2"
              data-scope-types="[&quot;&quot;,&quot;owner&quot;,&quot;repository&quot;]"
            data-mode="#"
            data-value="">
            <div class="d-flex flex-items-start flex-justify-between">
              <div>
                <span class="text-bold">Tip:</span>
                  Type author:@me to search your content
              </div>
              <div class="ml-2 flex-shrink-0">
                Type <kbd class="hx_kbd">?</kbd> for help and tips
              </div>
            </div>
          </command-palette-tip>
          <command-palette-tip
            class="color-fg-muted f6 px-3 py-1 my-2"
              data-scope-types="[&quot;&quot;,&quot;owner&quot;,&quot;repository&quot;]"
            data-mode="#"
            data-value="">
            <div class="d-flex flex-items-start flex-justify-between">
              <div>
                <span class="text-bold">Tip:</span>
                  Type is:pr to filter to pull requests
              </div>
              <div class="ml-2 flex-shrink-0">
                Type <kbd class="hx_kbd">?</kbd> for help and tips
              </div>
            </div>
          </command-palette-tip>
          <command-palette-tip
            class="color-fg-muted f6 px-3 py-1 my-2"
              data-scope-types="[&quot;&quot;,&quot;owner&quot;,&quot;repository&quot;]"
            data-mode="#"
            data-value="">
            <div class="d-flex flex-items-start flex-justify-between">
              <div>
                <span class="text-bold">Tip:</span>
                  Type is:issue to filter to issues
              </div>
              <div class="ml-2 flex-shrink-0">
                Type <kbd class="hx_kbd">?</kbd> for help and tips
              </div>
            </div>
          </command-palette-tip>
          <command-palette-tip
            class="color-fg-muted f6 px-3 py-1 my-2"
              data-scope-types="[&quot;owner&quot;,&quot;repository&quot;]"
            data-mode="#"
            data-value="">
            <div class="d-flex flex-items-start flex-justify-between">
              <div>
                <span class="text-bold">Tip:</span>
                  Type is:project to filter to projects
              </div>
              <div class="ml-2 flex-shrink-0">
                Type <kbd class="hx_kbd">?</kbd> for help and tips
              </div>
            </div>
          </command-palette-tip>
          <command-palette-tip
            class="color-fg-muted f6 px-3 py-1 my-2"
              data-scope-types="[&quot;&quot;,&quot;owner&quot;,&quot;repository&quot;]"
            data-mode="#"
            data-value="">
            <div class="d-flex flex-items-start flex-justify-between">
              <div>
                <span class="text-bold">Tip:</span>
                  Type is:open to filter to open content
              </div>
              <div class="ml-2 flex-shrink-0">
                Type <kbd class="hx_kbd">?</kbd> for help and tips
              </div>
            </div>
          </command-palette-tip>
        <command-palette-tip class="mx-3 my-2 flash flash-error d-flex flex-items-center" data-scope-types="*" data-on-error>
          <div>
            <svg aria-hidden="true" height="16" viewBox="0 0 16 16" version="1.1" width="16" data-view-component="true" class="octicon octicon-alert">
    <path d="M6.457 1.047c.659-1.234 2.427-1.234 3.086 0l6.082 11.378A1.75 1.75 0 0 1 14.082 15H1.918a1.75 1.75 0 0 1-1.543-2.575Zm1.763.707a.25.25 0 0 0-.44 0L1.698 13.132a.25.25 0 0 0 .22.368h12.164a.25.25 0 0 0 .22-.368Zm.53 3.996v2.5a.75.75 0 0 1-1.5 0v-2.5a.75.75 0 0 1 1.5 0ZM9 11a1 1 0 1 1-2 0 1 1 0 0 1 2 0Z"></path>
</svg>
          </div>
          <div class="px-2">
            We’ve encountered an error and some results aren't available at this time. Type a new search or try again later.
          </div>
        </command-palette-tip>
        <command-palette-tip class="h4 color-fg-default pl-3 pb-2 pt-3" data-on-empty data-scope-types="*" data-match-mode="[^?]|^$">
          No results matched your search
        </command-palette-tip>

        <div hidden>

            <div data-targets="command-palette-page-stack.localOcticons" data-octicon-id="arrow-right-color-fg-muted">
              <svg height="16" class="octicon octicon-arrow-right color-fg-muted" viewBox="0 0 16 16" version="1.1" width="16" aria-hidden="true"><path d="M8.22 2.97a.75.75 0 0 1 1.06 0l4.25 4.25a.75.75 0 0 1 0 1.06l-4.25 4.25a.751.751 0 0 1-1.042-.018.751.751 0 0 1-.018-1.042l2.97-2.97H3.75a.75.75 0 0 1 0-1.5h7.44L8.22 4.03a.75.75 0 0 1 0-1.06Z"></path></svg>
            </div>
            <div data-targets="command-palette-page-stack.localOcticons" data-octicon-id="arrow-right-color-fg-default">
              <svg height="16" class="octicon octicon-arrow-right color-fg-default" viewBox="0 0 16 16" version="1.1" width="16" aria-hidden="true"><path d="M8.22 2.97a.75.75 0 0 1 1.06 0l4.25 4.25a.75.75 0 0 1 0 1.06l-4.25 4.25a.751.751 0 0 1-1.042-.018.751.751 0 0 1-.018-1.042l2.97-2.97H3.75a.75.75 0 0 1 0-1.5h7.44L8.22 4.03a.75.75 0 0 1 0-1.06Z"></path></svg>
            </div>
            <div data-targets="command-palette-page-stack.localOcticons" data-octicon-id="codespaces-color-fg-muted">
              <svg height="16" class="octicon octicon-codespaces color-fg-muted" viewBox="0 0 16 16" version="1.1" width="16" aria-hidden="true"><path d="M0 11.25c0-.966.784-1.75 1.75-1.75h12.5c.966 0 1.75.784 1.75 1.75v3A1.75 1.75 0 0 1 14.25 16H1.75A1.75 1.75 0 0 1 0 14.25Zm2-9.5C2 .784 2.784 0 3.75 0h8.5C13.216 0 14 .784 14 1.75v5a1.75 1.75 0 0 1-1.75 1.75h-8.5A1.75 1.75 0 0 1 2 6.75Zm1.75-.25a.25.25 0 0 0-.25.25v5c0 .138.112.25.25.25h8.5a.25.25 0 0 0 .25-.25v-5a.25.25 0 0 0-.25-.25Zm-2 9.5a.25.25 0 0 0-.25.25v3c0 .138.112.25.25.25h12.5a.25.25 0 0 0 .25-.25v-3a.25.25 0 0 0-.25-.25Z"></path><path d="M7 12.75a.75.75 0 0 1 .75-.75h4.5a.75.75 0 0 1 0 1.5h-4.5a.75.75 0 0 1-.75-.75Zm-4 0a.75.75 0 0 1 .75-.75h.5a.75.75 0 0 1 0 1.5h-.5a.75.75 0 0 1-.75-.75Z"></path></svg>
            </div>
            <div data-targets="command-palette-page-stack.localOcticons" data-octicon-id="copy-color-fg-muted">
              <svg height="16" class="octicon octicon-copy color-fg-muted" viewBox="0 0 16 16" version="1.1" width="16" aria-hidden="true"><path d="M0 6.75C0 5.784.784 5 1.75 5h1.5a.75.75 0 0 1 0 1.5h-1.5a.25.25 0 0 0-.25.25v7.5c0 .138.112.25.25.25h7.5a.25.25 0 0 0 .25-.25v-1.5a.75.75 0 0 1 1.5 0v1.5A1.75 1.75 0 0 1 9.25 16h-7.5A1.75 1.75 0 0 1 0 14.25Z"></path><path d="M5 1.75C5 .784 5.784 0 6.75 0h7.5C15.216 0 16 .784 16 1.75v7.5A1.75 1.75 0 0 1 14.25 11h-7.5A1.75 1.75 0 0 1 5 9.25Zm1.75-.25a.25.25 0 0 0-.25.25v7.5c0 .138.112.25.25.25h7.5a.25.25 0 0 0 .25-.25v-7.5a.25.25 0 0 0-.25-.25Z"></path></svg>
            </div>
            <div data-targets="command-palette-page-stack.localOcticons" data-octicon-id="dash-color-fg-muted">
              <svg height="16" class="octicon octicon-dash color-fg-muted" viewBox="0 0 16 16" version="1.1" width="16" aria-hidden="true"><path d="M2 7.75A.75.75 0 0 1 2.75 7h10a.75.75 0 0 1 0 1.5h-10A.75.75 0 0 1 2 7.75Z"></path></svg>
            </div>
            <div data-targets="command-palette-page-stack.localOcticons" data-octicon-id="file-color-fg-muted">
              <svg height="16" class="octicon octicon-file color-fg-muted" viewBox="0 0 16 16" version="1.1" width="16" aria-hidden="true"><path d="M2 1.75C2 .784 2.784 0 3.75 0h6.586c.464 0 .909.184 1.237.513l2.914 2.914c.329.328.513.773.513 1.237v9.586A1.75 1.75 0 0 1 13.25 16h-9.5A1.75 1.75 0 0 1 2 14.25Zm1.75-.25a.25.25 0 0 0-.25.25v12.5c0 .138.112.25.25.25h9.5a.25.25 0 0 0 .25-.25V6h-2.75A1.75 1.75 0 0 1 9 4.25V1.5Zm6.75.062V4.25c0 .138.112.25.25.25h2.688l-.011-.013-2.914-2.914-.013-.011Z"></path></svg>
            </div>
            <div data-targets="command-palette-page-stack.localOcticons" data-octicon-id="gear-color-fg-muted">
              <svg height="16" class="octicon octicon-gear color-fg-muted" viewBox="0 0 16 16" version="1.1" width="16" aria-hidden="true"><path d="M8 0a8.2 8.2 0 0 1 .701.031C9.444.095 9.99.645 10.16 1.29l.288 1.107c.018.066.079.158.212.224.231.114.454.243.668.386.123.082.233.09.299.071l1.103-.303c.644-.176 1.392.021 1.82.63.27.385.506.792.704 1.218.315.675.111 1.422-.364 1.891l-.814.806c-.049.048-.098.147-.088.294.016.257.016.515 0 .772-.01.147.038.246.088.294l.814.806c.475.469.679 1.216.364 1.891a7.977 7.977 0 0 1-.704 1.217c-.428.61-1.176.807-1.82.63l-1.102-.302c-.067-.019-.177-.011-.3.071a5.909 5.909 0 0 1-.668.386c-.133.066-.194.158-.211.224l-.29 1.106c-.168.646-.715 1.196-1.458 1.26a8.006 8.006 0 0 1-1.402 0c-.743-.064-1.289-.614-1.458-1.26l-.289-1.106c-.018-.066-.079-.158-.212-.224a5.738 5.738 0 0 1-.668-.386c-.123-.082-.233-.09-.299-.071l-1.103.303c-.644.176-1.392-.021-1.82-.63a8.12 8.12 0 0 1-.704-1.218c-.315-.675-.111-1.422.363-1.891l.815-.806c.05-.048.098-.147.088-.294a6.214 6.214 0 0 1 0-.772c.01-.147-.038-.246-.088-.294l-.815-.806C.635 6.045.431 5.298.746 4.623a7.92 7.92 0 0 1 .704-1.217c.428-.61 1.176-.807 1.82-.63l1.102.302c.067.019.177.011.3-.071.214-.143.437-.272.668-.386.133-.066.194-.158.211-.224l.29-1.106C6.009.645 6.556.095 7.299.03 7.53.01 7.764 0 8 0Zm-.571 1.525c-.036.003-.108.036-.137.146l-.289 1.105c-.147.561-.549.967-.998 1.189-.173.086-.34.183-.5.29-.417.278-.97.423-1.529.27l-1.103-.303c-.109-.03-.175.016-.195.045-.22.312-.412.644-.573.99-.014.031-.021.11.059.19l.815.806c.411.406.562.957.53 1.456a4.709 4.709 0 0 0 0 .582c.032.499-.119 1.05-.53 1.456l-.815.806c-.081.08-.073.159-.059.19.162.346.353.677.573.989.02.03.085.076.195.046l1.102-.303c.56-.153 1.113-.008 1.53.27.161.107.328.204.501.29.447.222.85.629.997 1.189l.289 1.105c.029.109.101.143.137.146a6.6 6.6 0 0 0 1.142 0c.036-.003.108-.036.137-.146l.289-1.105c.147-.561.549-.967.998-1.189.173-.086.34-.183.5-.29.417-.278.97-.423 1.529-.27l1.103.303c.109.029.175-.016.195-.045.22-.313.411-.644.573-.99.014-.031.021-.11-.059-.19l-.815-.806c-.411-.406-.562-.957-.53-1.456a4.709 4.709 0 0 0 0-.582c-.032-.499.119-1.05.53-1.456l.815-.806c.081-.08.073-.159.059-.19a6.464 6.464 0 0 0-.573-.989c-.02-.03-.085-.076-.195-.046l-1.102.303c-.56.153-1.113.008-1.53-.27a4.44 4.44 0 0 0-.501-.29c-.447-.222-.85-.629-.997-1.189l-.289-1.105c-.029-.11-.101-.143-.137-.146a6.6 6.6 0 0 0-1.142 0ZM11 8a3 3 0 1 1-6 0 3 3 0 0 1 6 0ZM9.5 8a1.5 1.5 0 1 0-3.001.001A1.5 1.5 0 0 0 9.5 8Z"></path></svg>
            </div>
            <div data-targets="command-palette-page-stack.localOcticons" data-octicon-id="lock-color-fg-muted">
              <svg height="16" class="octicon octicon-lock color-fg-muted" viewBox="0 0 16 16" version="1.1" width="16" aria-hidden="true"><path d="M4 4a4 4 0 0 1 8 0v2h.25c.966 0 1.75.784 1.75 1.75v5.5A1.75 1.75 0 0 1 12.25 15h-8.5A1.75 1.75 0 0 1 2 13.25v-5.5C2 6.784 2.784 6 3.75 6H4Zm8.25 3.5h-8.5a.25.25 0 0 0-.25.25v5.5c0 .138.112.25.25.25h8.5a.25.25 0 0 0 .25-.25v-5.5a.25.25 0 0 0-.25-.25ZM10.5 6V4a2.5 2.5 0 1 0-5 0v2Z"></path></svg>
            </div>
            <div data-targets="command-palette-page-stack.localOcticons" data-octicon-id="moon-color-fg-muted">
              <svg height="16" class="octicon octicon-moon color-fg-muted" viewBox="0 0 16 16" version="1.1" width="16" aria-hidden="true"><path d="M9.598 1.591a.749.749 0 0 1 .785-.175 7.001 7.001 0 1 1-8.967 8.967.75.75 0 0 1 .961-.96 5.5 5.5 0 0 0 7.046-7.046.75.75 0 0 1 .175-.786Zm1.616 1.945a7 7 0 0 1-7.678 7.678 5.499 5.499 0 1 0 7.678-7.678Z"></path></svg>
            </div>
            <div data-targets="command-palette-page-stack.localOcticons" data-octicon-id="person-color-fg-muted">
              <svg height="16" class="octicon octicon-person color-fg-muted" viewBox="0 0 16 16" version="1.1" width="16" aria-hidden="true"><path d="M10.561 8.073a6.005 6.005 0 0 1 3.432 5.142.75.75 0 1 1-1.498.07 4.5 4.5 0 0 0-8.99 0 .75.75 0 0 1-1.498-.07 6.004 6.004 0 0 1 3.431-5.142 3.999 3.999 0 1 1 5.123 0ZM10.5 5a2.5 2.5 0 1 0-5 0 2.5 2.5 0 0 0 5 0Z"></path></svg>
            </div>
            <div data-targets="command-palette-page-stack.localOcticons" data-octicon-id="pencil-color-fg-muted">
              <svg height="16" class="octicon octicon-pencil color-fg-muted" viewBox="0 0 16 16" version="1.1" width="16" aria-hidden="true"><path d="M11.013 1.427a1.75 1.75 0 0 1 2.474 0l1.086 1.086a1.75 1.75 0 0 1 0 2.474l-8.61 8.61c-.21.21-.47.364-.756.445l-3.251.93a.75.75 0 0 1-.927-.928l.929-3.25c.081-.286.235-.547.445-.758l8.61-8.61Zm.176 4.823L9.75 4.81l-6.286 6.287a.253.253 0 0 0-.064.108l-.558 1.953 1.953-.558a.253.253 0 0 0 .108-.064Zm1.238-3.763a.25.25 0 0 0-.354 0L10.811 3.75l1.439 1.44 1.263-1.263a.25.25 0 0 0 0-.354Z"></path></svg>
            </div>
            <div data-targets="command-palette-page-stack.localOcticons" data-octicon-id="issue-opened-open">
              <svg height="16" class="octicon octicon-issue-opened open" viewBox="0 0 16 16" version="1.1" width="16" aria-hidden="true"><path d="M8 9.5a1.5 1.5 0 1 0 0-3 1.5 1.5 0 0 0 0 3Z"></path><path d="M8 0a8 8 0 1 1 0 16A8 8 0 0 1 8 0ZM1.5 8a6.5 6.5 0 1 0 13 0 6.5 6.5 0 0 0-13 0Z"></path></svg>
            </div>
            <div data-targets="command-palette-page-stack.localOcticons" data-octicon-id="git-pull-request-draft-color-fg-muted">
              <svg height="16" class="octicon octicon-git-pull-request-draft color-fg-muted" viewBox="0 0 16 16" version="1.1" width="16" aria-hidden="true"><path d="M3.25 1A2.25 2.25 0 0 1 4 5.372v5.256a2.251 2.251 0 1 1-1.5 0V5.372A2.251 2.251 0 0 1 3.25 1Zm9.5 14a2.25 2.25 0 1 1 0-4.5 2.25 2.25 0 0 1 0 4.5ZM2.5 3.25a.75.75 0 1 0 1.5 0 .75.75 0 0 0-1.5 0ZM3.25 12a.75.75 0 1 0 0 1.5.75.75 0 0 0 0-1.5Zm9.5 0a.75.75 0 1 0 0 1.5.75.75 0 0 0 0-1.5ZM14 7.5a1.25 1.25 0 1 1-2.5 0 1.25 1.25 0 0 1 2.5 0Zm0-4.25a1.25 1.25 0 1 1-2.5 0 1.25 1.25 0 0 1 2.5 0Z"></path></svg>
            </div>
            <div data-targets="command-palette-page-stack.localOcticons" data-octicon-id="search-color-fg-muted">
              <svg height="16" class="octicon octicon-search color-fg-muted" viewBox="0 0 16 16" version="1.1" width="16" aria-hidden="true"><path d="M10.68 11.74a6 6 0 0 1-7.922-8.982 6 6 0 0 1 8.982 7.922l3.04 3.04a.749.749 0 0 1-.326 1.275.749.749 0 0 1-.734-.215ZM11.5 7a4.499 4.499 0 1 0-8.997 0A4.499 4.499 0 0 0 11.5 7Z"></path></svg>
            </div>
            <div data-targets="command-palette-page-stack.localOcticons" data-octicon-id="sun-color-fg-muted">
              <svg height="16" class="octicon octicon-sun color-fg-muted" viewBox="0 0 16 16" version="1.1" width="16" aria-hidden="true"><path d="M8 12a4 4 0 1 1 0-8 4 4 0 0 1 0 8Zm0-1.5a2.5 2.5 0 1 0 0-5 2.5 2.5 0 0 0 0 5Zm5.657-8.157a.75.75 0 0 1 0 1.061l-1.061 1.06a.749.749 0 0 1-1.275-.326.749.749 0 0 1 .215-.734l1.06-1.06a.75.75 0 0 1 1.06 0Zm-9.193 9.193a.75.75 0 0 1 0 1.06l-1.06 1.061a.75.75 0 1 1-1.061-1.06l1.06-1.061a.75.75 0 0 1 1.061 0ZM8 0a.75.75 0 0 1 .75.75v1.5a.75.75 0 0 1-1.5 0V.75A.75.75 0 0 1 8 0ZM3 8a.75.75 0 0 1-.75.75H.75a.75.75 0 0 1 0-1.5h1.5A.75.75 0 0 1 3 8Zm13 0a.75.75 0 0 1-.75.75h-1.5a.75.75 0 0 1 0-1.5h1.5A.75.75 0 0 1 16 8Zm-8 5a.75.75 0 0 1 .75.75v1.5a.75.75 0 0 1-1.5 0v-1.5A.75.75 0 0 1 8 13Zm3.536-1.464a.75.75 0 0 1 1.06 0l1.061 1.06a.75.75 0 0 1-1.06 1.061l-1.061-1.06a.75.75 0 0 1 0-1.061ZM2.343 2.343a.75.75 0 0 1 1.061 0l1.06 1.061a.751.751 0 0 1-.018 1.042.751.751 0 0 1-1.042.018l-1.06-1.06a.75.75 0 0 1 0-1.06Z"></path></svg>
            </div>
            <div data-targets="command-palette-page-stack.localOcticons" data-octicon-id="sync-color-fg-muted">
              <svg height="16" class="octicon octicon-sync color-fg-muted" viewBox="0 0 16 16" version="1.1" width="16" aria-hidden="true"><path d="M1.705 8.005a.75.75 0 0 1 .834.656 5.5 5.5 0 0 0 9.592 2.97l-1.204-1.204a.25.25 0 0 1 .177-.427h3.646a.25.25 0 0 1 .25.25v3.646a.25.25 0 0 1-.427.177l-1.38-1.38A7.002 7.002 0 0 1 1.05 8.84a.75.75 0 0 1 .656-.834ZM8 2.5a5.487 5.487 0 0 0-4.131 1.869l1.204 1.204A.25.25 0 0 1 4.896 6H1.25A.25.25 0 0 1 1 5.75V2.104a.25.25 0 0 1 .427-.177l1.38 1.38A7.002 7.002 0 0 1 14.95 7.16a.75.75 0 0 1-1.49.178A5.5 5.5 0 0 0 8 2.5Z"></path></svg>
            </div>
            <div data-targets="command-palette-page-stack.localOcticons" data-octicon-id="trash-color-fg-muted">
              <svg height="16" class="octicon octicon-trash color-fg-muted" viewBox="0 0 16 16" version="1.1" width="16" aria-hidden="true"><path d="M11 1.75V3h2.25a.75.75 0 0 1 0 1.5H2.75a.75.75 0 0 1 0-1.5H5V1.75C5 .784 5.784 0 6.75 0h2.5C10.216 0 11 .784 11 1.75ZM4.496 6.675l.66 6.6a.25.25 0 0 0 .249.225h5.19a.25.25 0 0 0 .249-.225l.66-6.6a.75.75 0 0 1 1.492.149l-.66 6.6A1.748 1.748 0 0 1 10.595 15h-5.19a1.75 1.75 0 0 1-1.741-1.575l-.66-6.6a.75.75 0 1 1 1.492-.15ZM6.5 1.75V3h3V1.75a.25.25 0 0 0-.25-.25h-2.5a.25.25 0 0 0-.25.25Z"></path></svg>
            </div>
            <div data-targets="command-palette-page-stack.localOcticons" data-octicon-id="key-color-fg-muted">
              <svg height="16" class="octicon octicon-key color-fg-muted" viewBox="0 0 16 16" version="1.1" width="16" aria-hidden="true"><path d="M10.5 0a5.499 5.499 0 1 1-1.288 10.848l-.932.932a.749.749 0 0 1-.53.22H7v.75a.749.749 0 0 1-.22.53l-.5.5a.749.749 0 0 1-.53.22H5v.75a.749.749 0 0 1-.22.53l-.5.5a.749.749 0 0 1-.53.22h-2A1.75 1.75 0 0 1 0 14.25v-2c0-.199.079-.389.22-.53l4.932-4.932A5.5 5.5 0 0 1 10.5 0Zm-4 5.5c-.001.431.069.86.205 1.269a.75.75 0 0 1-.181.768L1.5 12.56v1.69c0 .138.112.25.25.25h1.69l.06-.06v-1.19a.75.75 0 0 1 .75-.75h1.19l.06-.06v-1.19a.75.75 0 0 1 .75-.75h1.19l1.023-1.025a.75.75 0 0 1 .768-.18A4 4 0 1 0 6.5 5.5ZM11 6a1 1 0 1 1 0-2 1 1 0 0 1 0 2Z"></path></svg>
            </div>
            <div data-targets="command-palette-page-stack.localOcticons" data-octicon-id="comment-discussion-color-fg-muted">
              <svg height="16" class="octicon octicon-comment-discussion color-fg-muted" viewBox="0 0 16 16" version="1.1" width="16" aria-hidden="true"><path d="M1.75 1h8.5c.966 0 1.75.784 1.75 1.75v5.5A1.75 1.75 0 0 1 10.25 10H7.061l-2.574 2.573A1.458 1.458 0 0 1 2 11.543V10h-.25A1.75 1.75 0 0 1 0 8.25v-5.5C0 1.784.784 1 1.75 1ZM1.5 2.75v5.5c0 .138.112.25.25.25h1a.75.75 0 0 1 .75.75v2.19l2.72-2.72a.749.749 0 0 1 .53-.22h3.5a.25.25 0 0 0 .25-.25v-5.5a.25.25 0 0 0-.25-.25h-8.5a.25.25 0 0 0-.25.25Zm13 2a.25.25 0 0 0-.25-.25h-.5a.75.75 0 0 1 0-1.5h.5c.966 0 1.75.784 1.75 1.75v5.5A1.75 1.75 0 0 1 14.25 12H14v1.543a1.458 1.458 0 0 1-2.487 1.03L9.22 12.28a.749.749 0 0 1 .326-1.275.749.749 0 0 1 .734.215l2.22 2.22v-2.19a.75.75 0 0 1 .75-.75h1a.25.25 0 0 0 .25-.25Z"></path></svg>
            </div>
            <div data-targets="command-palette-page-stack.localOcticons" data-octicon-id="bell-color-fg-muted">
              <svg height="16" class="octicon octicon-bell color-fg-muted" viewBox="0 0 16 16" version="1.1" width="16" aria-hidden="true"><path d="M8 16a2 2 0 0 0 1.985-1.75c.017-.137-.097-.25-.235-.25h-3.5c-.138 0-.252.113-.235.25A2 2 0 0 0 8 16ZM3 5a5 5 0 0 1 10 0v2.947c0 .05.015.098.042.139l1.703 2.555A1.519 1.519 0 0 1 13.482 13H2.518a1.516 1.516 0 0 1-1.263-2.36l1.703-2.554A.255.255 0 0 0 3 7.947Zm5-3.5A3.5 3.5 0 0 0 4.5 5v2.947c0 .346-.102.683-.294.97l-1.703 2.556a.017.017 0 0 0-.003.01l.001.006c0 .002.002.004.004.006l.006.004.007.001h10.964l.007-.001.006-.004.004-.006.001-.007a.017.017 0 0 0-.003-.01l-1.703-2.554a1.745 1.745 0 0 1-.294-.97V5A3.5 3.5 0 0 0 8 1.5Z"></path></svg>
            </div>
            <div data-targets="command-palette-page-stack.localOcticons" data-octicon-id="bell-slash-color-fg-muted">
              <svg height="16" class="octicon octicon-bell-slash color-fg-muted" viewBox="0 0 16 16" version="1.1" width="16" aria-hidden="true"><path d="m4.182 4.31.016.011 10.104 7.316.013.01 1.375.996a.75.75 0 1 1-.88 1.214L13.626 13H2.518a1.516 1.516 0 0 1-1.263-2.36l1.703-2.554A.255.255 0 0 0 3 7.947V5.305L.31 3.357a.75.75 0 1 1 .88-1.214Zm7.373 7.19L4.5 6.391v1.556c0 .346-.102.683-.294.97l-1.703 2.556a.017.017 0 0 0-.003.01c0 .005.002.009.005.012l.006.004.007.001ZM8 1.5c-.997 0-1.895.416-2.534 1.086A.75.75 0 1 1 4.38 1.55 5 5 0 0 1 13 5v2.373a.75.75 0 0 1-1.5 0V5A3.5 3.5 0 0 0 8 1.5ZM8 16a2 2 0 0 1-1.985-1.75c-.017-.137.097-.25.235-.25h3.5c.138 0 .252.113.235.25A2 2 0 0 1 8 16Z"></path></svg>
            </div>
            <div data-targets="command-palette-page-stack.localOcticons" data-octicon-id="paintbrush-color-fg-muted">
              <svg height="16" class="octicon octicon-paintbrush color-fg-muted" viewBox="0 0 16 16" version="1.1" width="16" aria-hidden="true"><path d="M11.134 1.535c.7-.509 1.416-.942 2.076-1.155.649-.21 1.463-.267 2.069.34.603.601.568 1.411.368 2.07-.202.668-.624 1.39-1.125 2.096-1.011 1.424-2.496 2.987-3.775 4.249-1.098 1.084-2.132 1.839-3.04 2.3a3.744 3.744 0 0 1-1.055 3.217c-.431.431-1.065.691-1.657.861-.614.177-1.294.287-1.914.357A21.151 21.151 0 0 1 .797 16H.743l.007-.75H.749L.742 16a.75.75 0 0 1-.743-.742l.743-.008-.742.007v-.054a21.25 21.25 0 0 1 .13-2.284c.067-.647.187-1.287.358-1.914.17-.591.43-1.226.86-1.657a3.746 3.746 0 0 1 3.227-1.054c.466-.893 1.225-1.907 2.314-2.982 1.271-1.255 2.833-2.75 4.245-3.777ZM1.62 13.089c-.051.464-.086.929-.104 1.395.466-.018.932-.053 1.396-.104a10.511 10.511 0 0 0 1.668-.309c.526-.151.856-.325 1.011-.48a2.25 2.25 0 1 0-3.182-3.182c-.155.155-.329.485-.48 1.01a10.515 10.515 0 0 0-.309 1.67Zm10.396-10.34c-1.224.89-2.605 2.189-3.822 3.384l1.718 1.718c1.21-1.205 2.51-2.597 3.387-3.833.47-.662.78-1.227.912-1.662.134-.444.032-.551.009-.575h-.001V1.78c-.014-.014-.113-.113-.548.027-.432.14-.995.462-1.655.942Zm-4.832 7.266-.001.001a9.859 9.859 0 0 0 1.63-1.142L7.155 7.216a9.7 9.7 0 0 0-1.161 1.607c.482.302.889.71 1.19 1.192Z"></path></svg>
            </div>

            <command-palette-item-group
              data-group-id="top"
              data-group-title="Top result"
              data-group-hint=""
              data-group-limits="{}"
              data-default-priority="0"
            >
            </command-palette-item-group>
            <command-palette-item-group
              data-group-id="commands"
              data-group-title="Commands"
              data-group-hint="Type &gt; to filter"
              data-group-limits="{&quot;static_items_page&quot;:50,&quot;issue&quot;:50,&quot;pull_request&quot;:50,&quot;discussion&quot;:50}"
              data-default-priority="1"
            >
            </command-palette-item-group>
            <command-palette-item-group
              data-group-id="global_commands"
              data-group-title="Global Commands"
              data-group-hint="Type &gt; to filter"
              data-group-limits="{&quot;issue&quot;:0,&quot;pull_request&quot;:0,&quot;discussion&quot;:0}"
              data-default-priority="2"
            >
            </command-palette-item-group>
            <command-palette-item-group
              data-group-id="this_page"
              data-group-title="This Page"
              data-group-hint=""
              data-group-limits="{}"
              data-default-priority="3"
            >
            </command-palette-item-group>
            <command-palette-item-group
              data-group-id="files"
              data-group-title="Files"
              data-group-hint=""
              data-group-limits="{}"
              data-default-priority="4"
            >
            </command-palette-item-group>
            <command-palette-item-group
              data-group-id="default"
              data-group-title="Default"
              data-group-hint=""
              data-group-limits="{&quot;static_items_page&quot;:50}"
              data-default-priority="5"
            >
            </command-palette-item-group>
            <command-palette-item-group
              data-group-id="pages"
              data-group-title="Pages"
              data-group-hint=""
              data-group-limits="{&quot;repository&quot;:10}"
              data-default-priority="6"
            >
            </command-palette-item-group>
            <command-palette-item-group
              data-group-id="access_policies"
              data-group-title="Access Policies"
              data-group-hint=""
              data-group-limits="{}"
              data-default-priority="7"
            >
            </command-palette-item-group>
            <command-palette-item-group
              data-group-id="organizations"
              data-group-title="Organizations"
              data-group-hint=""
              data-group-limits="{}"
              data-default-priority="8"
            >
            </command-palette-item-group>
            <command-palette-item-group
              data-group-id="repositories"
              data-group-title="Repositories"
              data-group-hint=""
              data-group-limits="{}"
              data-default-priority="9"
            >
            </command-palette-item-group>
            <command-palette-item-group
              data-group-id="references"
              data-group-title="Issues, pull requests, and discussions"
              data-group-hint="Type # to filter"
              data-group-limits="{}"
              data-default-priority="10"
            >
            </command-palette-item-group>
            <command-palette-item-group
              data-group-id="teams"
              data-group-title="Teams"
              data-group-hint=""
              data-group-limits="{}"
              data-default-priority="11"
            >
            </command-palette-item-group>
            <command-palette-item-group
              data-group-id="users"
              data-group-title="Users"
              data-group-hint=""
              data-group-limits="{}"
              data-default-priority="12"
            >
            </command-palette-item-group>
            <command-palette-item-group
              data-group-id="memex_projects"
              data-group-title="Projects"
              data-group-hint=""
              data-group-limits="{}"
              data-default-priority="13"
            >
            </command-palette-item-group>
            <command-palette-item-group
              data-group-id="projects"
              data-group-title="Projects (classic)"
              data-group-hint=""
              data-group-limits="{}"
              data-default-priority="14"
            >
            </command-palette-item-group>
            <command-palette-item-group
              data-group-id="footer"
              data-group-title="Footer"
              data-group-hint=""
              data-group-limits="{}"
              data-default-priority="15"
            >
            </command-palette-item-group>
            <command-palette-item-group
              data-group-id="modes_help"
              data-group-title="Modes"
              data-group-hint=""
              data-group-limits="{}"
              data-default-priority="16"
            >
            </command-palette-item-group>
            <command-palette-item-group
              data-group-id="filters_help"
              data-group-title="Use filters in issues, pull requests, discussions, and projects"
              data-group-hint=""
              data-group-limits="{}"
              data-default-priority="17"
            >
            </command-palette-item-group>

            <command-palette-page
              data-page-title="netology-ds-team"
              data-scope-id="MDEyOk9yZ2FuaXphdGlvbjgzNzUzMzUz"
              data-scope-type="owner"
              data-targets="command-palette-page-stack.defaultPages"
              hidden
            >
            </command-palette-page>
            <command-palette-page
              data-page-title="DLL"
              data-scope-id="R_kgDOI4EBZQ"
              data-scope-type="repository"
              data-targets="command-palette-page-stack.defaultPages"
              hidden
            >
            </command-palette-page>
        </div>

        <command-palette-page data-is-root>
        </command-palette-page>
          <command-palette-page
            data-page-title="netology-ds-team"
            data-scope-id="MDEyOk9yZ2FuaXphdGlvbjgzNzUzMzUz"
            data-scope-type="owner"
          >
          </command-palette-page>
          <command-palette-page
            data-page-title="DLL"
            data-scope-id="R_kgDOI4EBZQ"
            data-scope-type="repository"
          >
          </command-palette-page>
      </command-palette-page-stack>

      <server-defined-provider data-type="search-links" data-targets="command-palette.serverDefinedProviderElements"></server-defined-provider>
      <server-defined-provider data-type="help" data-targets="command-palette.serverDefinedProviderElements">
          <command-palette-help
            data-group="modes_help"
              data-prefix="#"
              data-scope-types="[&quot;&quot;]"
          >
            <span data-target="command-palette-help.titleElement">Search for <strong>issues</strong> and <strong>pull requests</strong></span>
              <span data-target="command-palette-help.hintElement">
                <kbd class="hx_kbd">#</kbd>
              </span>
          </command-palette-help>
          <command-palette-help
            data-group="modes_help"
              data-prefix="#"
              data-scope-types="[&quot;owner&quot;,&quot;repository&quot;]"
          >
            <span data-target="command-palette-help.titleElement">Search for <strong>issues, pull requests, discussions,</strong> and <strong>projects</strong></span>
              <span data-target="command-palette-help.hintElement">
                <kbd class="hx_kbd">#</kbd>
              </span>
          </command-palette-help>
          <command-palette-help
            data-group="modes_help"
              data-prefix="@"
              data-scope-types="[&quot;&quot;]"
          >
            <span data-target="command-palette-help.titleElement">Search for <strong>organizations, repositories,</strong> and <strong>users</strong></span>
              <span data-target="command-palette-help.hintElement">
                <kbd class="hx_kbd">@</kbd>
              </span>
          </command-palette-help>
          <command-palette-help
            data-group="modes_help"
              data-prefix="!"
              data-scope-types="[&quot;owner&quot;,&quot;repository&quot;]"
          >
            <span data-target="command-palette-help.titleElement">Search for <strong>projects</strong></span>
              <span data-target="command-palette-help.hintElement">
                <kbd class="hx_kbd">!</kbd>
              </span>
          </command-palette-help>
          <command-palette-help
            data-group="modes_help"
              data-prefix="/"
              data-scope-types="[&quot;repository&quot;]"
          >
            <span data-target="command-palette-help.titleElement">Search for <strong>files</strong></span>
              <span data-target="command-palette-help.hintElement">
                <kbd class="hx_kbd">/</kbd>
              </span>
          </command-palette-help>
          <command-palette-help
            data-group="modes_help"
              data-prefix="&gt;"
          >
            <span data-target="command-palette-help.titleElement">Activate <strong>command mode</strong></span>
              <span data-target="command-palette-help.hintElement">
                <kbd class="hx_kbd">&gt;</kbd>
              </span>
          </command-palette-help>
          <command-palette-help
            data-group="filters_help"
              data-prefix="# author:@me"
          >
            <span data-target="command-palette-help.titleElement">Search your issues, pull requests, and discussions</span>
              <span data-target="command-palette-help.hintElement">
                <kbd class="hx_kbd"># author:@me</kbd>
              </span>
          </command-palette-help>
          <command-palette-help
            data-group="filters_help"
              data-prefix="# author:@me"
          >
            <span data-target="command-palette-help.titleElement">Search your issues, pull requests, and discussions</span>
              <span data-target="command-palette-help.hintElement">
                <kbd class="hx_kbd"># author:@me</kbd>
              </span>
          </command-palette-help>
          <command-palette-help
            data-group="filters_help"
              data-prefix="# is:pr"
          >
            <span data-target="command-palette-help.titleElement">Filter to pull requests</span>
              <span data-target="command-palette-help.hintElement">
                <kbd class="hx_kbd"># is:pr</kbd>
              </span>
          </command-palette-help>
          <command-palette-help
            data-group="filters_help"
              data-prefix="# is:issue"
          >
            <span data-target="command-palette-help.titleElement">Filter to issues</span>
              <span data-target="command-palette-help.hintElement">
                <kbd class="hx_kbd"># is:issue</kbd>
              </span>
          </command-palette-help>
          <command-palette-help
            data-group="filters_help"
              data-prefix="# is:discussion"
              data-scope-types="[&quot;owner&quot;,&quot;repository&quot;]"
          >
            <span data-target="command-palette-help.titleElement">Filter to discussions</span>
              <span data-target="command-palette-help.hintElement">
                <kbd class="hx_kbd"># is:discussion</kbd>
              </span>
          </command-palette-help>
          <command-palette-help
            data-group="filters_help"
              data-prefix="# is:project"
              data-scope-types="[&quot;owner&quot;,&quot;repository&quot;]"
          >
            <span data-target="command-palette-help.titleElement">Filter to projects</span>
              <span data-target="command-palette-help.hintElement">
                <kbd class="hx_kbd"># is:project</kbd>
              </span>
          </command-palette-help>
          <command-palette-help
            data-group="filters_help"
              data-prefix="# is:open"
          >
            <span data-target="command-palette-help.titleElement">Filter to open issues, pull requests, and discussions</span>
              <span data-target="command-palette-help.hintElement">
                <kbd class="hx_kbd"># is:open</kbd>
              </span>
          </command-palette-help>
      </server-defined-provider>

        <server-defined-provider
          data-type="commands"
          data-fetch-debounce="0"
            data-src="/command_palette/commands"
          data-supported-modes="[]"
            data-supports-commands
          
          data-targets="command-palette.serverDefinedProviderElements"
          ></server-defined-provider>
        <server-defined-provider
          data-type="prefetched"
          data-fetch-debounce="0"
            data-src="/command_palette/jump_to_page_navigation"
          data-supported-modes="[&quot;&quot;]"
            data-supported-scope-types="[&quot;&quot;,&quot;owner&quot;,&quot;repository&quot;]"
          
          data-targets="command-palette.serverDefinedProviderElements"
          ></server-defined-provider>
        <server-defined-provider
          data-type="remote"
          data-fetch-debounce="200"
            data-src="/command_palette/issues"
          data-supported-modes="[&quot;#&quot;,&quot;#&quot;]"
            data-supported-scope-types="[&quot;owner&quot;,&quot;repository&quot;,&quot;&quot;]"
          
          data-targets="command-palette.serverDefinedProviderElements"
          ></server-defined-provider>
        <server-defined-provider
          data-type="remote"
          data-fetch-debounce="200"
            data-src="/command_palette/jump_to"
          data-supported-modes="[&quot;@&quot;,&quot;@&quot;]"
            data-supported-scope-types="[&quot;&quot;,&quot;owner&quot;]"
          
          data-targets="command-palette.serverDefinedProviderElements"
          ></server-defined-provider>
        <server-defined-provider
          data-type="remote"
          data-fetch-debounce="200"
            data-src="/command_palette/jump_to_members_only"
          data-supported-modes="[&quot;@&quot;,&quot;@&quot;,&quot;&quot;,&quot;&quot;]"
            data-supported-scope-types="[&quot;&quot;,&quot;owner&quot;]"
          
          data-targets="command-palette.serverDefinedProviderElements"
          ></server-defined-provider>
        <server-defined-provider
          data-type="prefetched"
          data-fetch-debounce="0"
            data-src="/command_palette/jump_to_members_only_prefetched"
          data-supported-modes="[&quot;@&quot;,&quot;@&quot;,&quot;&quot;,&quot;&quot;]"
            data-supported-scope-types="[&quot;&quot;,&quot;owner&quot;]"
          
          data-targets="command-palette.serverDefinedProviderElements"
          ></server-defined-provider>
        <server-defined-provider
          data-type="files"
          data-fetch-debounce="0"
            data-src="/command_palette/files"
          data-supported-modes="[&quot;/&quot;]"
            data-supported-scope-types="[&quot;repository&quot;]"
          
          data-targets="command-palette.serverDefinedProviderElements"
          ></server-defined-provider>
        <server-defined-provider
          data-type="remote"
          data-fetch-debounce="200"
            data-src="/command_palette/discussions"
          data-supported-modes="[&quot;#&quot;]"
            data-supported-scope-types="[&quot;owner&quot;,&quot;repository&quot;]"
          
          data-targets="command-palette.serverDefinedProviderElements"
          ></server-defined-provider>
        <server-defined-provider
          data-type="remote"
          data-fetch-debounce="200"
            data-src="/command_palette/projects"
          data-supported-modes="[&quot;#&quot;,&quot;!&quot;]"
            data-supported-scope-types="[&quot;owner&quot;,&quot;repository&quot;]"
          
          data-targets="command-palette.serverDefinedProviderElements"
          ></server-defined-provider>
        <server-defined-provider
          data-type="prefetched"
          data-fetch-debounce="0"
            data-src="/command_palette/recent_issues"
          data-supported-modes="[&quot;#&quot;,&quot;#&quot;]"
            data-supported-scope-types="[&quot;owner&quot;,&quot;repository&quot;,&quot;&quot;]"
          
          data-targets="command-palette.serverDefinedProviderElements"
          ></server-defined-provider>
        <server-defined-provider
          data-type="remote"
          data-fetch-debounce="200"
            data-src="/command_palette/teams"
          data-supported-modes="[&quot;@&quot;,&quot;&quot;]"
            data-supported-scope-types="[&quot;owner&quot;]"
          
          data-targets="command-palette.serverDefinedProviderElements"
          ></server-defined-provider>
        <server-defined-provider
          data-type="remote"
          data-fetch-debounce="200"
            data-src="/command_palette/name_with_owner_repository"
          data-supported-modes="[&quot;@&quot;,&quot;@&quot;,&quot;&quot;,&quot;&quot;]"
            data-supported-scope-types="[&quot;&quot;,&quot;owner&quot;]"
          
          data-targets="command-palette.serverDefinedProviderElements"
          ></server-defined-provider>
    </command-palette>
  </details-dialog>
</details>

<div class="position-fixed bottom-0 left-0 ml-5 mb-5 js-command-palette-toasts" style="z-index: 1000">
  <div hidden class="Toast Toast--loading">
    <span class="Toast-icon">
      <svg class="Toast--spinner" viewBox="0 0 32 32" width="18" height="18" aria-hidden="true">
        <path
          fill="#959da5"
          d="M16 0 A16 16 0 0 0 16 32 A16 16 0 0 0 16 0 M16 4 A12 12 0 0 1 16 28 A12 12 0 0 1 16 4"
        />
        <path fill="#ffffff" d="M16 0 A16 16 0 0 1 32 16 L28 16 A12 12 0 0 0 16 4z"></path>
      </svg>
    </span>
    <span class="Toast-content"></span>
  </div>

  <div hidden class="anim-fade-in fast Toast Toast--error">
    <span class="Toast-icon">
      <svg aria-hidden="true" height="16" viewBox="0 0 16 16" version="1.1" width="16" data-view-component="true" class="octicon octicon-stop">
    <path d="M4.47.22A.749.749 0 0 1 5 0h6c.199 0 .389.079.53.22l4.25 4.25c.141.14.22.331.22.53v6a.749.749 0 0 1-.22.53l-4.25 4.25A.749.749 0 0 1 11 16H5a.749.749 0 0 1-.53-.22L.22 11.53A.749.749 0 0 1 0 11V5c0-.199.079-.389.22-.53Zm.84 1.28L1.5 5.31v5.38l3.81 3.81h5.38l3.81-3.81V5.31L10.69 1.5ZM8 4a.75.75 0 0 1 .75.75v3.5a.75.75 0 0 1-1.5 0v-3.5A.75.75 0 0 1 8 4Zm0 8a1 1 0 1 1 0-2 1 1 0 0 1 0 2Z"></path>
</svg>
    </span>
    <span class="Toast-content"></span>
  </div>

  <div hidden class="anim-fade-in fast Toast Toast--warning">
    <span class="Toast-icon">
      <svg aria-hidden="true" height="16" viewBox="0 0 16 16" version="1.1" width="16" data-view-component="true" class="octicon octicon-alert">
    <path d="M6.457 1.047c.659-1.234 2.427-1.234 3.086 0l6.082 11.378A1.75 1.75 0 0 1 14.082 15H1.918a1.75 1.75 0 0 1-1.543-2.575Zm1.763.707a.25.25 0 0 0-.44 0L1.698 13.132a.25.25 0 0 0 .22.368h12.164a.25.25 0 0 0 .22-.368Zm.53 3.996v2.5a.75.75 0 0 1-1.5 0v-2.5a.75.75 0 0 1 1.5 0ZM9 11a1 1 0 1 1-2 0 1 1 0 0 1 2 0Z"></path>
</svg>
    </span>
    <span class="Toast-content"></span>
  </div>


  <div hidden class="anim-fade-in fast Toast Toast--success">
    <span class="Toast-icon">
      <svg aria-hidden="true" height="16" viewBox="0 0 16 16" version="1.1" width="16" data-view-component="true" class="octicon octicon-check">
    <path d="M13.78 4.22a.75.75 0 0 1 0 1.06l-7.25 7.25a.75.75 0 0 1-1.06 0L2.22 9.28a.751.751 0 0 1 .018-1.042.751.751 0 0 1 1.042-.018L6 10.94l6.72-6.72a.75.75 0 0 1 1.06 0Z"></path>
</svg>
    </span>
    <span class="Toast-content"></span>
  </div>

  <div hidden class="anim-fade-in fast Toast">
    <span class="Toast-icon">
      <svg aria-hidden="true" height="16" viewBox="0 0 16 16" version="1.1" width="16" data-view-component="true" class="octicon octicon-info">
    <path d="M0 8a8 8 0 1 1 16 0A8 8 0 0 1 0 8Zm8-6.5a6.5 6.5 0 1 0 0 13 6.5 6.5 0 0 0 0-13ZM6.5 7.75A.75.75 0 0 1 7.25 7h1a.75.75 0 0 1 .75.75v2.75h.25a.75.75 0 0 1 0 1.5h-2a.75.75 0 0 1 0-1.5h.25v-2h-.25a.75.75 0 0 1-.75-.75ZM8 6a1 1 0 1 1 0-2 1 1 0 0 1 0 2Z"></path>
</svg>
    </span>
    <span class="Toast-content"></span>
  </div>
</div>


  <div
    class="application-main "
    data-commit-hovercards-enabled
    data-discussion-hovercards-enabled
    data-issue-and-pr-hovercards-enabled
  >
        <div itemscope itemtype="http://schema.org/SoftwareSourceCode" class="">
    <main id="js-repo-pjax-container" >
      
      
    

    






  
  <div id="repository-container-header"  class="pt-3 hide-full-screen" style="background-color: var(--color-page-header-bg);" data-turbo-replace>

      <div class="d-flex flex-wrap flex-justify-end mb-3  px-3 px-md-4 px-lg-5" style="gap: 1rem;">

        <div class="flex-auto min-width-0 width-fit mr-3">
            
  <div class=" d-flex flex-wrap flex-items-center wb-break-word f3 text-normal">
      <svg aria-hidden="true" height="16" viewBox="0 0 16 16" version="1.1" width="16" data-view-component="true" class="octicon octicon-repo color-fg-muted mr-2">
    <path d="M2 2.5A2.5 2.5 0 0 1 4.5 0h8.75a.75.75 0 0 1 .75.75v12.5a.75.75 0 0 1-.75.75h-2.5a.75.75 0 0 1 0-1.5h1.75v-2h-8a1 1 0 0 0-.714 1.7.75.75 0 1 1-1.072 1.05A2.495 2.495 0 0 1 2 11.5Zm10.5-1h-8a1 1 0 0 0-1 1v6.708A2.486 2.486 0 0 1 4.5 9h8ZM5 12.25a.25.25 0 0 1 .25-.25h3.5a.25.25 0 0 1 .25.25v3.25a.25.25 0 0 1-.4.2l-1.45-1.087a.249.249 0 0 0-.3 0L5.4 15.7a.25.25 0 0 1-.4-.2Z"></path>
</svg>
    
    <span class="author flex-self-stretch" itemprop="author">
      <a class="url fn" rel="author" data-hovercard-type="organization" data-hovercard-url="/orgs/netology-ds-team/hovercard" data-octo-click="hovercard-link-click" data-octo-dimensions="link_type:self" href="/netology-ds-team">
        netology-ds-team
</a>    </span>
    <span class="mx-1 flex-self-stretch color-fg-muted">/</span>
    <strong itemprop="name" class="mr-2 flex-self-stretch">
      <a data-pjax="#repo-content-pjax-container" data-turbo-frame="repo-content-turbo-frame" href="/netology-ds-team/DLL">DLL</a>
    </strong>

    <span></span><span class="Label Label--secondary v-align-middle mr-1">Public</span>
  </div>


        </div>

        <div id="repository-details-container" data-turbo-replace>
            <ul class="pagehead-actions flex-shrink-0 d-none d-md-inline" style="padding: 2px 0;">
    
      

  <li>
        <include-fragment loading="lazy" src="/notifications/595657061/watch_subscription?aria_id_prefix=repository-details&amp;button_block=false&amp;show_count=true">
    <div data-hide-on-error>
        
            <button disabled="disabled" aria-label="Watching a repository" type="button" data-view-component="true" class="tooltipped tooltipped-n Button--secondary Button--small Button">    <span class="Button-content">
        <span class="Button-visual Button-leadingVisual">
          <svg aria-hidden="true" height="16" viewBox="0 0 16 16" version="1.1" width="16" data-view-component="true" class="octicon octicon-eye">
    <path d="M8 2c1.981 0 3.671.992 4.933 2.078 1.27 1.091 2.187 2.345 2.637 3.023a1.62 1.62 0 0 1 0 1.798c-.45.678-1.367 1.932-2.637 3.023C11.67 13.008 9.981 14 8 14c-1.981 0-3.671-.992-4.933-2.078C1.797 10.83.88 9.576.43 8.898a1.62 1.62 0 0 1 0-1.798c.45-.677 1.367-1.931 2.637-3.022C4.33 2.992 6.019 2 8 2ZM1.679 7.932a.12.12 0 0 0 0 .136c.411.622 1.241 1.75 2.366 2.717C5.176 11.758 6.527 12.5 8 12.5c1.473 0 2.825-.742 3.955-1.715 1.124-.967 1.954-2.096 2.366-2.717a.12.12 0 0 0 0-.136c-.412-.621-1.242-1.75-2.366-2.717C10.824 4.242 9.473 3.5 8 3.5c-1.473 0-2.825.742-3.955 1.715-1.124.967-1.954 2.096-2.366 2.717ZM8 10a2 2 0 1 1-.001-3.999A2 2 0 0 1 8 10Z"></path>
</svg>
        </span>
      <span class="Button-label">Watch</span>
    </span>
</button>  

    </div>
    <p data-show-on-error hidden>
        
          <span class="d-flex pt-1">
            <svg aria-hidden="true" height="16" viewBox="0 0 16 16" version="1.1" width="16" data-view-component="true" class="octicon octicon-alert mr-1">
    <path d="M6.457 1.047c.659-1.234 2.427-1.234 3.086 0l6.082 11.378A1.75 1.75 0 0 1 14.082 15H1.918a1.75 1.75 0 0 1-1.543-2.575Zm1.763.707a.25.25 0 0 0-.44 0L1.698 13.132a.25.25 0 0 0 .22.368h12.164a.25.25 0 0 0 .22-.368Zm.53 3.996v2.5a.75.75 0 0 1-1.5 0v-2.5a.75.75 0 0 1 1.5 0ZM9 11a1 1 0 1 1-2 0 1 1 0 0 1 2 0Z"></path>
</svg>
            Couldn't load subscription status.&nbsp;
              <button data-retry-button="" type="button" data-view-component="true" class="Button--link Button--medium Button">    <span class="Button-content">
      <span class="Button-label">Retry</span>
    </span>
</button>  

          </span>

    </p>
  </include-fragment>
  </li>

  <li>
        <div data-view-component="true" class="d-flex">
        <div data-view-component="true" class="position-relative d-inline-block">
    <a icon="repo-forked" id="fork-button" href="/netology-ds-team/DLL/fork" data-hydro-click="{&quot;event_type&quot;:&quot;repository.click&quot;,&quot;payload&quot;:{&quot;target&quot;:&quot;FORK_BUTTON&quot;,&quot;repository_id&quot;:595657061,&quot;originating_url&quot;:&quot;https://github.com/netology-ds-team/DLL/blob/main/DLL-materials/%D0%97%D0%B0%D0%BD%D1%8F%D1%82%D0%B8%D0%B5%204.%20%D0%90%D1%80%D1%85%D0%B8%D1%82%D0%B5%D0%BA%D1%82%D1%83%D1%80%D1%8B%20%D1%81%D0%B2%D0%B5%D1%80%D1%82%D0%BE%D1%87%D0%BD%D1%8B%D1%85%20%D1%81%D0%B5%D1%82%D0%B5%D0%B9.ipynb&quot;,&quot;user_id&quot;:77914048}}" data-hydro-click-hmac="21ed63923b4a25c90d25291bb8139fa61986069bd78133c0f228fefcc04794f3" data-ga-click="Repository, show fork modal, action:blob#show; text:Fork" data-view-component="true" class="btn-sm btn BtnGroup-item border-right-0">      <svg aria-hidden="true" height="16" viewBox="0 0 16 16" version="1.1" width="16" data-view-component="true" class="octicon octicon-repo-forked mr-2">
    <path d="M5 5.372v.878c0 .414.336.75.75.75h4.5a.75.75 0 0 0 .75-.75v-.878a2.25 2.25 0 1 1 1.5 0v.878a2.25 2.25 0 0 1-2.25 2.25h-1.5v2.128a2.251 2.251 0 1 1-1.5 0V8.5h-1.5A2.25 2.25 0 0 1 3.5 6.25v-.878a2.25 2.25 0 1 1 1.5 0ZM5 3.25a.75.75 0 1 0-1.5 0 .75.75 0 0 0 1.5 0Zm6.75.75a.75.75 0 1 0 0-1.5.75.75 0 0 0 0 1.5Zm-3 8.75a.75.75 0 1 0-1.5 0 .75.75 0 0 0 1.5 0Z"></path>
</svg>Fork
          <span id="repo-network-counter" data-pjax-replace="true" data-turbo-replace="true" title="3" data-view-component="true" class="Counter">3</span>
</a>    <tool-tip id="tooltip-c37c49db-8ef1-4ed3-aa5a-5699a8b000bb" for="fork-button" data-direction="s" data-type="description" data-view-component="true" class="sr-only position-absolute">Fork your own copy of netology-ds-team/DLL</tool-tip>
</div>
      <details group_item="true" id="my-forks-menu-595657061" data-view-component="true" class="details-reset details-overlay BtnGroup-parent d-inline-block position-relative">
              <summary aria-label="See your forks of this repository" data-view-component="true" class="btn-sm btn BtnGroup-item px-2 float-none">    <svg aria-hidden="true" height="16" viewBox="0 0 16 16" version="1.1" width="16" data-view-component="true" class="octicon octicon-triangle-down">
    <path d="m4.427 7.427 3.396 3.396a.25.25 0 0 0 .354 0l3.396-3.396A.25.25 0 0 0 11.396 7H4.604a.25.25 0 0 0-.177.427Z"></path>
</svg>
</summary>
  <details-menu
    class="SelectMenu right-0"
      src="/netology-ds-team/DLL/my_forks_menu_content?can_fork=true"
      
      role="menu"
      
>
    <div class="SelectMenu-modal">
        <button class="SelectMenu-closeButton position-absolute right-0 m-2" type="button" aria-label="Close menu" data-toggle-for="details-e0c2d3">
          <svg aria-hidden="true" height="16" viewBox="0 0 16 16" version="1.1" width="16" data-view-component="true" class="octicon octicon-x">
    <path d="M3.72 3.72a.75.75 0 0 1 1.06 0L8 6.94l3.22-3.22a.749.749 0 0 1 1.275.326.749.749 0 0 1-.215.734L9.06 8l3.22 3.22a.749.749 0 0 1-.326 1.275.749.749 0 0 1-.734-.215L8 9.06l-3.22 3.22a.751.751 0 0 1-1.042-.018.751.751 0 0 1-.018-1.042L6.94 8 3.72 4.78a.75.75 0 0 1 0-1.06Z"></path>
</svg>
        </button>
      <div
        id="filter-menu-e0c2d3"
        class="d-flex flex-column flex-1 overflow-hidden"
>
        <div
          class="SelectMenu-list"
          >

            <include-fragment class="SelectMenu-loading" aria-label="Loading">
              <svg role="menuitem" style="box-sizing: content-box; color: var(--color-icon-primary);" width="32" height="32" viewBox="0 0 16 16" fill="none" data-view-component="true" class="anim-rotate">
  <circle cx="8" cy="8" r="7" stroke="currentColor" stroke-opacity="0.25" stroke-width="2" vector-effect="non-scaling-stroke" />
  <path d="M15 8a7.002 7.002 0 00-7-7" stroke="currentColor" stroke-width="2" stroke-linecap="round" vector-effect="non-scaling-stroke" />
</svg>
            </include-fragment>
        </div>
        
      </div>
    </div>
  </details-menu>
</details></div>
  </li>

  <li>
        <template class="js-unstar-confirmation-dialog-template">
  <div class="Box-header">
    <h2 class="Box-title">Unstar this repository?</h2>
  </div>
  <div class="Box-body">
    <p class="mb-3">
      This will remove {{ repoNameWithOwner }} from the {{ listsWithCount }} that it's been added to.
    </p>
    <div class="form-actions">
      <!-- '"` --><!-- </textarea></xmp> --></option></form><form class="js-social-confirmation-form" data-turbo="false" action="{{ confirmUrl }}" accept-charset="UTF-8" method="post">
        <input type="hidden" name="authenticity_token" value="{{ confirmCsrfToken }}">
        <input type="hidden" name="confirm" value="true">
          <button data-close-dialog="true" type="submit" data-view-component="true" class="btn-danger btn width-full">    Unstar
</button>
</form>    </div>
  </div>
</template>

  <div data-view-component="true" class="js-toggler-container js-social-container starring-container d-flex">
    <div data-view-component="true" class="starred BtnGroup flex-1">
      <!-- '"` --><!-- </textarea></xmp> --></option></form><form class="js-social-form BtnGroup-parent flex-auto js-deferred-toggler-target" data-turbo="false" action="/netology-ds-team/DLL/unstar" accept-charset="UTF-8" method="post"><input type="hidden" name="authenticity_token" value="3um0DnKMgJj8SkSAwgdTaBQHr435Gc18Sqt7KqiXDn9jvWie2K99avNGg32rRZ65VCeO1Du1U0bUBWRZ3OjJ2A" autocomplete="off" />
          <input type="hidden" value="v2POjXKUapHQiAbv7ylyCR_oa-8j6fC0DhmYGQmIKVkCNxId2LeXY9-EwRKGa7_YX8hKtuFFbo6Qt4dqfffu_g" data-csrf="true" class="js-confirm-csrf-token" />
        <input type="hidden" name="context" value="repository">
          <button data-hydro-click="{&quot;event_type&quot;:&quot;repository.click&quot;,&quot;payload&quot;:{&quot;target&quot;:&quot;UNSTAR_BUTTON&quot;,&quot;repository_id&quot;:595657061,&quot;originating_url&quot;:&quot;https://github.com/netology-ds-team/DLL/blob/main/DLL-materials/%D0%97%D0%B0%D0%BD%D1%8F%D1%82%D0%B8%D0%B5%204.%20%D0%90%D1%80%D1%85%D0%B8%D1%82%D0%B5%D0%BA%D1%82%D1%83%D1%80%D1%8B%20%D1%81%D0%B2%D0%B5%D1%80%D1%82%D0%BE%D1%87%D0%BD%D1%8B%D1%85%20%D1%81%D0%B5%D1%82%D0%B5%D0%B9.ipynb&quot;,&quot;user_id&quot;:77914048}}" data-hydro-click-hmac="4d83f61e729ea386a5e4c1ea05d0cd89e5ddb65771a4a933262d4ca0969f9e36" data-ga-click="Repository, click unstar button, action:blob#show; text:Unstar" aria-label="Unstar this repository (0)" type="submit" data-view-component="true" class="rounded-left-2 btn-sm btn BtnGroup-item">    <svg aria-hidden="true" height="16" viewBox="0 0 16 16" version="1.1" width="16" data-view-component="true" class="octicon octicon-star-fill starred-button-icon d-inline-block mr-2">
    <path d="M8 .25a.75.75 0 0 1 .673.418l1.882 3.815 4.21.612a.75.75 0 0 1 .416 1.279l-3.046 2.97.719 4.192a.751.751 0 0 1-1.088.791L8 12.347l-3.766 1.98a.75.75 0 0 1-1.088-.79l.72-4.194L.818 6.374a.75.75 0 0 1 .416-1.28l4.21-.611L7.327.668A.75.75 0 0 1 8 .25Z"></path>
</svg><span data-view-component="true" class="d-inline">
              Starred
</span>              <span id="repo-stars-counter-unstar" aria-label="0 users starred this repository" data-singular-suffix="user starred this repository" data-plural-suffix="users starred this repository" data-turbo-replace="true" title="0" data-view-component="true" class="Counter js-social-count">0</span>
</button></form>        <details id="details-user-list-595657061-starred" data-view-component="true" class="details-reset details-overlay BtnGroup-parent js-user-list-menu d-inline-block position-relative">
        <summary aria-label="Add this repository to a list" data-view-component="true" class="btn-sm btn BtnGroup-item px-2 float-none">    <svg aria-hidden="true" height="16" viewBox="0 0 16 16" version="1.1" width="16" data-view-component="true" class="octicon octicon-triangle-down">
    <path d="m4.427 7.427 3.396 3.396a.25.25 0 0 0 .354 0l3.396-3.396A.25.25 0 0 0 11.396 7H4.604a.25.25 0 0 0-.177.427Z"></path>
</svg>
</summary>
  <details-menu
    class="SelectMenu right-0"
      src="/netology-ds-team/DLL/lists"
      
      role="menu"
      
>
    <div class="SelectMenu-modal">
        <button class="SelectMenu-closeButton position-absolute right-0 m-2" type="button" aria-label="Close menu" data-toggle-for="details-6082dd">
          <svg aria-hidden="true" height="16" viewBox="0 0 16 16" version="1.1" width="16" data-view-component="true" class="octicon octicon-x">
    <path d="M3.72 3.72a.75.75 0 0 1 1.06 0L8 6.94l3.22-3.22a.749.749 0 0 1 1.275.326.749.749 0 0 1-.215.734L9.06 8l3.22 3.22a.749.749 0 0 1-.326 1.275.749.749 0 0 1-.734-.215L8 9.06l-3.22 3.22a.751.751 0 0 1-1.042-.018.751.751 0 0 1-.018-1.042L6.94 8 3.72 4.78a.75.75 0 0 1 0-1.06Z"></path>
</svg>
        </button>
      <div
        id="filter-menu-6082dd"
        class="d-flex flex-column flex-1 overflow-hidden"
>
        <div
          class="SelectMenu-list"
          >

            <include-fragment class="SelectMenu-loading" aria-label="Loading">
              <svg role="menuitem" style="box-sizing: content-box; color: var(--color-icon-primary);" width="32" height="32" viewBox="0 0 16 16" fill="none" data-view-component="true" class="anim-rotate">
  <circle cx="8" cy="8" r="7" stroke="currentColor" stroke-opacity="0.25" stroke-width="2" vector-effect="non-scaling-stroke" />
  <path d="M15 8a7.002 7.002 0 00-7-7" stroke="currentColor" stroke-width="2" stroke-linecap="round" vector-effect="non-scaling-stroke" />
</svg>
            </include-fragment>
        </div>
        
      </div>
    </div>
  </details-menu>
</details>
</div>
    <div data-view-component="true" class="unstarred BtnGroup flex-1">
      <!-- '"` --><!-- </textarea></xmp> --></option></form><form class="js-social-form BtnGroup-parent flex-auto" data-turbo="false" action="/netology-ds-team/DLL/star" accept-charset="UTF-8" method="post"><input type="hidden" name="authenticity_token" value="5k5iAUGxNl985a-GE5w8_vavXgwI8l1g3KCKFn02nHJm7XNh99BxGylxS9ULa635qaMJ8s-C4AmwqIuysywkDw" autocomplete="off" />
        <input type="hidden" name="context" value="repository">
          <button data-hydro-click="{&quot;event_type&quot;:&quot;repository.click&quot;,&quot;payload&quot;:{&quot;target&quot;:&quot;STAR_BUTTON&quot;,&quot;repository_id&quot;:595657061,&quot;originating_url&quot;:&quot;https://github.com/netology-ds-team/DLL/blob/main/DLL-materials/%D0%97%D0%B0%D0%BD%D1%8F%D1%82%D0%B8%D0%B5%204.%20%D0%90%D1%80%D1%85%D0%B8%D1%82%D0%B5%D0%BA%D1%82%D1%83%D1%80%D1%8B%20%D1%81%D0%B2%D0%B5%D1%80%D1%82%D0%BE%D1%87%D0%BD%D1%8B%D1%85%20%D1%81%D0%B5%D1%82%D0%B5%D0%B9.ipynb&quot;,&quot;user_id&quot;:77914048}}" data-hydro-click-hmac="b22179c021167690e3b038dd81830b8a698fbcd2bb5b3cf7d50874af0171fe29" data-ga-click="Repository, click star button, action:blob#show; text:Star" aria-label="Star this repository (0)" type="submit" data-view-component="true" class="js-toggler-target rounded-left-2 btn-sm btn BtnGroup-item">    <svg aria-hidden="true" height="16" viewBox="0 0 16 16" version="1.1" width="16" data-view-component="true" class="octicon octicon-star d-inline-block mr-2">
    <path d="M8 .25a.75.75 0 0 1 .673.418l1.882 3.815 4.21.612a.75.75 0 0 1 .416 1.279l-3.046 2.97.719 4.192a.751.751 0 0 1-1.088.791L8 12.347l-3.766 1.98a.75.75 0 0 1-1.088-.79l.72-4.194L.818 6.374a.75.75 0 0 1 .416-1.28l4.21-.611L7.327.668A.75.75 0 0 1 8 .25Zm0 2.445L6.615 5.5a.75.75 0 0 1-.564.41l-3.097.45 2.24 2.184a.75.75 0 0 1 .216.664l-.528 3.084 2.769-1.456a.75.75 0 0 1 .698 0l2.77 1.456-.53-3.084a.75.75 0 0 1 .216-.664l2.24-2.183-3.096-.45a.75.75 0 0 1-.564-.41L8 2.694Z"></path>
</svg><span data-view-component="true" class="d-inline">
              Star
</span>              <span id="repo-stars-counter-star" aria-label="0 users starred this repository" data-singular-suffix="user starred this repository" data-plural-suffix="users starred this repository" data-turbo-replace="true" title="0" data-view-component="true" class="Counter js-social-count">0</span>
</button></form>        <details id="details-user-list-595657061-unstarred" data-view-component="true" class="details-reset details-overlay BtnGroup-parent js-user-list-menu d-inline-block position-relative">
        <summary aria-label="Add this repository to a list" data-view-component="true" class="btn-sm btn BtnGroup-item px-2 float-none">    <svg aria-hidden="true" height="16" viewBox="0 0 16 16" version="1.1" width="16" data-view-component="true" class="octicon octicon-triangle-down">
    <path d="m4.427 7.427 3.396 3.396a.25.25 0 0 0 .354 0l3.396-3.396A.25.25 0 0 0 11.396 7H4.604a.25.25 0 0 0-.177.427Z"></path>
</svg>
</summary>
  <details-menu
    class="SelectMenu right-0"
      src="/netology-ds-team/DLL/lists"
      
      role="menu"
      
>
    <div class="SelectMenu-modal">
        <button class="SelectMenu-closeButton position-absolute right-0 m-2" type="button" aria-label="Close menu" data-toggle-for="details-fb7a15">
          <svg aria-hidden="true" height="16" viewBox="0 0 16 16" version="1.1" width="16" data-view-component="true" class="octicon octicon-x">
    <path d="M3.72 3.72a.75.75 0 0 1 1.06 0L8 6.94l3.22-3.22a.749.749 0 0 1 1.275.326.749.749 0 0 1-.215.734L9.06 8l3.22 3.22a.749.749 0 0 1-.326 1.275.749.749 0 0 1-.734-.215L8 9.06l-3.22 3.22a.751.751 0 0 1-1.042-.018.751.751 0 0 1-.018-1.042L6.94 8 3.72 4.78a.75.75 0 0 1 0-1.06Z"></path>
</svg>
        </button>
      <div
        id="filter-menu-fb7a15"
        class="d-flex flex-column flex-1 overflow-hidden"
>
        <div
          class="SelectMenu-list"
          >

            <include-fragment class="SelectMenu-loading" aria-label="Loading">
              <svg role="menuitem" style="box-sizing: content-box; color: var(--color-icon-primary);" width="32" height="32" viewBox="0 0 16 16" fill="none" data-view-component="true" class="anim-rotate">
  <circle cx="8" cy="8" r="7" stroke="currentColor" stroke-opacity="0.25" stroke-width="2" vector-effect="non-scaling-stroke" />
  <path d="M15 8a7.002 7.002 0 00-7-7" stroke="currentColor" stroke-width="2" stroke-linecap="round" vector-effect="non-scaling-stroke" />
</svg>
            </include-fragment>
        </div>
        
      </div>
    </div>
  </details-menu>
</details>
</div></div>
  </li>


    

</ul>

        </div>
      </div>

        <div id="responsive-meta-container" data-turbo-replace>
</div>


          <nav data-pjax="#js-repo-pjax-container" aria-label="Repository" data-view-component="true" class="js-repo-nav js-sidenav-container-pjax js-responsive-underlinenav overflow-hidden UnderlineNav px-3 px-md-4 px-lg-5">

  <ul data-view-component="true" class="UnderlineNav-body list-style-none">
      <li data-view-component="true" class="d-inline-flex">
  <a id="code-tab" href="/netology-ds-team/DLL" data-tab-item="i0code-tab" data-selected-links="repo_source repo_downloads repo_commits repo_releases repo_tags repo_branches repo_packages repo_deployments /netology-ds-team/DLL" data-pjax="#repo-content-pjax-container" data-turbo-frame="repo-content-turbo-frame" data-hotkey="g c" data-analytics-event="{&quot;category&quot;:&quot;Underline navbar&quot;,&quot;action&quot;:&quot;Click tab&quot;,&quot;label&quot;:&quot;Code&quot;,&quot;target&quot;:&quot;UNDERLINE_NAV.TAB&quot;}" aria-current="page" data-view-component="true" class="UnderlineNav-item no-wrap js-responsive-underlinenav-item js-selected-navigation-item selected">
    
              <svg aria-hidden="true" height="16" viewBox="0 0 16 16" version="1.1" width="16" data-view-component="true" class="octicon octicon-code UnderlineNav-octicon d-none d-sm-inline">
    <path d="m11.28 3.22 4.25 4.25a.75.75 0 0 1 0 1.06l-4.25 4.25a.749.749 0 0 1-1.275-.326.749.749 0 0 1 .215-.734L13.94 8l-3.72-3.72a.749.749 0 0 1 .326-1.275.749.749 0 0 1 .734.215Zm-6.56 0a.751.751 0 0 1 1.042.018.751.751 0 0 1 .018 1.042L2.06 8l3.72 3.72a.749.749 0 0 1-.326 1.275.749.749 0 0 1-.734-.215L.47 8.53a.75.75 0 0 1 0-1.06Z"></path>
</svg>
        <span data-content="Code">Code</span>
          <span id="code-repo-tab-count" data-pjax-replace="" data-turbo-replace="" title="Not available" data-view-component="true" class="Counter"></span>


    
</a></li>
      <li data-view-component="true" class="d-inline-flex">
  <a id="issues-tab" href="/netology-ds-team/DLL/issues" data-tab-item="i1issues-tab" data-selected-links="repo_issues repo_labels repo_milestones /netology-ds-team/DLL/issues" data-pjax="#repo-content-pjax-container" data-turbo-frame="repo-content-turbo-frame" data-hotkey="g i" data-analytics-event="{&quot;category&quot;:&quot;Underline navbar&quot;,&quot;action&quot;:&quot;Click tab&quot;,&quot;label&quot;:&quot;Issues&quot;,&quot;target&quot;:&quot;UNDERLINE_NAV.TAB&quot;}" data-view-component="true" class="UnderlineNav-item no-wrap js-responsive-underlinenav-item js-selected-navigation-item">
    
              <svg aria-hidden="true" height="16" viewBox="0 0 16 16" version="1.1" width="16" data-view-component="true" class="octicon octicon-issue-opened UnderlineNav-octicon d-none d-sm-inline">
    <path d="M8 9.5a1.5 1.5 0 1 0 0-3 1.5 1.5 0 0 0 0 3Z"></path><path d="M8 0a8 8 0 1 1 0 16A8 8 0 0 1 8 0ZM1.5 8a6.5 6.5 0 1 0 13 0 6.5 6.5 0 0 0-13 0Z"></path>
</svg>
        <span data-content="Issues">Issues</span>
          <span id="issues-repo-tab-count" data-pjax-replace="" data-turbo-replace="" title="0" hidden="hidden" data-view-component="true" class="Counter">0</span>


    
</a></li>
      <li data-view-component="true" class="d-inline-flex">
  <a id="pull-requests-tab" href="/netology-ds-team/DLL/pulls" data-tab-item="i2pull-requests-tab" data-selected-links="repo_pulls checks /netology-ds-team/DLL/pulls" data-pjax="#repo-content-pjax-container" data-turbo-frame="repo-content-turbo-frame" data-hotkey="g p" data-analytics-event="{&quot;category&quot;:&quot;Underline navbar&quot;,&quot;action&quot;:&quot;Click tab&quot;,&quot;label&quot;:&quot;Pull requests&quot;,&quot;target&quot;:&quot;UNDERLINE_NAV.TAB&quot;}" data-view-component="true" class="UnderlineNav-item no-wrap js-responsive-underlinenav-item js-selected-navigation-item">
    
              <svg aria-hidden="true" height="16" viewBox="0 0 16 16" version="1.1" width="16" data-view-component="true" class="octicon octicon-git-pull-request UnderlineNav-octicon d-none d-sm-inline">
    <path d="M1.5 3.25a2.25 2.25 0 1 1 3 2.122v5.256a2.251 2.251 0 1 1-1.5 0V5.372A2.25 2.25 0 0 1 1.5 3.25Zm5.677-.177L9.573.677A.25.25 0 0 1 10 .854V2.5h1A2.5 2.5 0 0 1 13.5 5v5.628a2.251 2.251 0 1 1-1.5 0V5a1 1 0 0 0-1-1h-1v1.646a.25.25 0 0 1-.427.177L7.177 3.427a.25.25 0 0 1 0-.354ZM3.75 2.5a.75.75 0 1 0 0 1.5.75.75 0 0 0 0-1.5Zm0 9.5a.75.75 0 1 0 0 1.5.75.75 0 0 0 0-1.5Zm8.25.75a.75.75 0 1 0 1.5 0 .75.75 0 0 0-1.5 0Z"></path>
</svg>
        <span data-content="Pull requests">Pull requests</span>
          <span id="pull-requests-repo-tab-count" data-pjax-replace="" data-turbo-replace="" title="0" hidden="hidden" data-view-component="true" class="Counter">0</span>


    
</a></li>
      <li data-view-component="true" class="d-inline-flex">
  <a id="actions-tab" href="/netology-ds-team/DLL/actions" data-tab-item="i3actions-tab" data-selected-links="repo_actions /netology-ds-team/DLL/actions" data-pjax="#repo-content-pjax-container" data-turbo-frame="repo-content-turbo-frame" data-hotkey="g a" data-analytics-event="{&quot;category&quot;:&quot;Underline navbar&quot;,&quot;action&quot;:&quot;Click tab&quot;,&quot;label&quot;:&quot;Actions&quot;,&quot;target&quot;:&quot;UNDERLINE_NAV.TAB&quot;}" data-view-component="true" class="UnderlineNav-item no-wrap js-responsive-underlinenav-item js-selected-navigation-item">
    
              <svg aria-hidden="true" height="16" viewBox="0 0 16 16" version="1.1" width="16" data-view-component="true" class="octicon octicon-play UnderlineNav-octicon d-none d-sm-inline">
    <path d="M8 0a8 8 0 1 1 0 16A8 8 0 0 1 8 0ZM1.5 8a6.5 6.5 0 1 0 13 0 6.5 6.5 0 0 0-13 0Zm4.879-2.773 4.264 2.559a.25.25 0 0 1 0 .428l-4.264 2.559A.25.25 0 0 1 6 10.559V5.442a.25.25 0 0 1 .379-.215Z"></path>
</svg>
        <span data-content="Actions">Actions</span>
          <span id="actions-repo-tab-count" data-pjax-replace="" data-turbo-replace="" title="Not available" data-view-component="true" class="Counter"></span>


    
</a></li>
      <li data-view-component="true" class="d-inline-flex">
  <a id="projects-tab" href="/netology-ds-team/DLL/projects" data-tab-item="i4projects-tab" data-selected-links="repo_projects new_repo_project repo_project /netology-ds-team/DLL/projects" data-pjax="#repo-content-pjax-container" data-turbo-frame="repo-content-turbo-frame" data-hotkey="g b" data-analytics-event="{&quot;category&quot;:&quot;Underline navbar&quot;,&quot;action&quot;:&quot;Click tab&quot;,&quot;label&quot;:&quot;Projects&quot;,&quot;target&quot;:&quot;UNDERLINE_NAV.TAB&quot;}" data-view-component="true" class="UnderlineNav-item no-wrap js-responsive-underlinenav-item js-selected-navigation-item">
    
              <svg aria-hidden="true" height="16" viewBox="0 0 16 16" version="1.1" width="16" data-view-component="true" class="octicon octicon-table UnderlineNav-octicon d-none d-sm-inline">
    <path d="M0 1.75C0 .784.784 0 1.75 0h12.5C15.216 0 16 .784 16 1.75v12.5A1.75 1.75 0 0 1 14.25 16H1.75A1.75 1.75 0 0 1 0 14.25ZM6.5 6.5v8h7.75a.25.25 0 0 0 .25-.25V6.5Zm8-1.5V1.75a.25.25 0 0 0-.25-.25H6.5V5Zm-13 1.5v7.75c0 .138.112.25.25.25H5v-8ZM5 5V1.5H1.75a.25.25 0 0 0-.25.25V5Z"></path>
</svg>
        <span data-content="Projects">Projects</span>
          <span id="projects-repo-tab-count" data-pjax-replace="" data-turbo-replace="" title="0" hidden="hidden" data-view-component="true" class="Counter">0</span>


    
</a></li>
      <li data-view-component="true" class="d-inline-flex">
  <a id="security-tab" href="/netology-ds-team/DLL/security" data-tab-item="i5security-tab" data-selected-links="security overview alerts policy token_scanning code_scanning /netology-ds-team/DLL/security" data-pjax="#repo-content-pjax-container" data-turbo-frame="repo-content-turbo-frame" data-hotkey="g s" data-analytics-event="{&quot;category&quot;:&quot;Underline navbar&quot;,&quot;action&quot;:&quot;Click tab&quot;,&quot;label&quot;:&quot;Security&quot;,&quot;target&quot;:&quot;UNDERLINE_NAV.TAB&quot;}" data-view-component="true" class="UnderlineNav-item no-wrap js-responsive-underlinenav-item js-selected-navigation-item">
    
              <svg aria-hidden="true" height="16" viewBox="0 0 16 16" version="1.1" width="16" data-view-component="true" class="octicon octicon-shield UnderlineNav-octicon d-none d-sm-inline">
    <path d="M7.467.133a1.748 1.748 0 0 1 1.066 0l5.25 1.68A1.75 1.75 0 0 1 15 3.48V7c0 1.566-.32 3.182-1.303 4.682-.983 1.498-2.585 2.813-5.032 3.855a1.697 1.697 0 0 1-1.33 0c-2.447-1.042-4.049-2.357-5.032-3.855C1.32 10.182 1 8.566 1 7V3.48a1.75 1.75 0 0 1 1.217-1.667Zm.61 1.429a.25.25 0 0 0-.153 0l-5.25 1.68a.25.25 0 0 0-.174.238V7c0 1.358.275 2.666 1.057 3.86.784 1.194 2.121 2.34 4.366 3.297a.196.196 0 0 0 .154 0c2.245-.956 3.582-2.104 4.366-3.298C13.225 9.666 13.5 8.36 13.5 7V3.48a.251.251 0 0 0-.174-.237l-5.25-1.68ZM8.75 4.75v3a.75.75 0 0 1-1.5 0v-3a.75.75 0 0 1 1.5 0ZM9 10.5a1 1 0 1 1-2 0 1 1 0 0 1 2 0Z"></path>
</svg>
        <span data-content="Security">Security</span>
          <include-fragment src="/netology-ds-team/DLL/security/overall-count" accept="text/fragment+html"></include-fragment>

    
</a></li>
      <li data-view-component="true" class="d-inline-flex">
  <a id="insights-tab" href="/netology-ds-team/DLL/pulse" data-tab-item="i6insights-tab" data-selected-links="repo_graphs repo_contributors dependency_graph dependabot_updates pulse people community /netology-ds-team/DLL/pulse" data-pjax="#repo-content-pjax-container" data-turbo-frame="repo-content-turbo-frame" data-analytics-event="{&quot;category&quot;:&quot;Underline navbar&quot;,&quot;action&quot;:&quot;Click tab&quot;,&quot;label&quot;:&quot;Insights&quot;,&quot;target&quot;:&quot;UNDERLINE_NAV.TAB&quot;}" data-view-component="true" class="UnderlineNav-item no-wrap js-responsive-underlinenav-item js-selected-navigation-item">
    
              <svg aria-hidden="true" height="16" viewBox="0 0 16 16" version="1.1" width="16" data-view-component="true" class="octicon octicon-graph UnderlineNav-octicon d-none d-sm-inline">
    <path d="M1.5 1.75V13.5h13.75a.75.75 0 0 1 0 1.5H.75a.75.75 0 0 1-.75-.75V1.75a.75.75 0 0 1 1.5 0Zm14.28 2.53-5.25 5.25a.75.75 0 0 1-1.06 0L7 7.06 4.28 9.78a.751.751 0 0 1-1.042-.018.751.751 0 0 1-.018-1.042l3.25-3.25a.75.75 0 0 1 1.06 0L10 7.94l4.72-4.72a.751.751 0 0 1 1.042.018.751.751 0 0 1 .018 1.042Z"></path>
</svg>
        <span data-content="Insights">Insights</span>
          <span id="insights-repo-tab-count" data-pjax-replace="" data-turbo-replace="" title="Not available" data-view-component="true" class="Counter"></span>


    
</a></li>
</ul>
    <div style="visibility:hidden;" data-view-component="true" class="UnderlineNav-actions js-responsive-underlinenav-overflow position-absolute pr-3 pr-md-4 pr-lg-5 right-0">      <details data-view-component="true" class="details-overlay details-reset position-relative">
  <summary role="button" data-view-component="true">          <div class="UnderlineNav-item mr-0 border-0">
            <svg aria-hidden="true" height="16" viewBox="0 0 16 16" version="1.1" width="16" data-view-component="true" class="octicon octicon-kebab-horizontal">
    <path d="M8 9a1.5 1.5 0 1 0 0-3 1.5 1.5 0 0 0 0 3ZM1.5 9a1.5 1.5 0 1 0 0-3 1.5 1.5 0 0 0 0 3Zm13 0a1.5 1.5 0 1 0 0-3 1.5 1.5 0 0 0 0 3Z"></path>
</svg>
            <span class="sr-only">More</span>
          </div>
</summary>
  <details-menu role="menu" data-view-component="true" class="dropdown-menu dropdown-menu-sw">          <ul>
              <li data-menu-item="i0code-tab" hidden>
                <a role="menuitem" class="js-selected-navigation-item selected dropdown-item" aria-current="page" data-selected-links="repo_source repo_downloads repo_commits repo_releases repo_tags repo_branches repo_packages repo_deployments /netology-ds-team/DLL" href="/netology-ds-team/DLL">
                  Code
</a>              </li>
              <li data-menu-item="i1issues-tab" hidden>
                <a role="menuitem" class="js-selected-navigation-item dropdown-item" data-selected-links="repo_issues repo_labels repo_milestones /netology-ds-team/DLL/issues" href="/netology-ds-team/DLL/issues">
                  Issues
</a>              </li>
              <li data-menu-item="i2pull-requests-tab" hidden>
                <a role="menuitem" class="js-selected-navigation-item dropdown-item" data-selected-links="repo_pulls checks /netology-ds-team/DLL/pulls" href="/netology-ds-team/DLL/pulls">
                  Pull requests
</a>              </li>
              <li data-menu-item="i3actions-tab" hidden>
                <a role="menuitem" class="js-selected-navigation-item dropdown-item" data-selected-links="repo_actions /netology-ds-team/DLL/actions" href="/netology-ds-team/DLL/actions">
                  Actions
</a>              </li>
              <li data-menu-item="i4projects-tab" hidden>
                <a role="menuitem" class="js-selected-navigation-item dropdown-item" data-selected-links="repo_projects new_repo_project repo_project /netology-ds-team/DLL/projects" href="/netology-ds-team/DLL/projects">
                  Projects
</a>              </li>
              <li data-menu-item="i5security-tab" hidden>
                <a role="menuitem" class="js-selected-navigation-item dropdown-item" data-selected-links="security overview alerts policy token_scanning code_scanning /netology-ds-team/DLL/security" href="/netology-ds-team/DLL/security">
                  Security
</a>              </li>
              <li data-menu-item="i6insights-tab" hidden>
                <a role="menuitem" class="js-selected-navigation-item dropdown-item" data-selected-links="repo_graphs repo_contributors dependency_graph dependabot_updates pulse people community /netology-ds-team/DLL/pulse" href="/netology-ds-team/DLL/pulse">
                  Insights
</a>              </li>
          </ul>
</details-menu>
</details></div>
</nav>

  </div>

  



<turbo-frame id="repo-content-turbo-frame" target="_top" data-turbo-action="advance" class="">
    <div id="repo-content-pjax-container" class="repository-content " >
      <a href="https://github.dev/" class="d-none js-github-dev-shortcut" data-hotkey=".">Open in github.dev</a>
  <a href="https://github.dev/" class="d-none js-github-dev-new-tab-shortcut" data-hotkey="Shift+.,Shift+&gt;,&gt;" target="_blank">Open in a new github.dev tab</a>
    <a class="d-none" data-hotkey="," target="_blank" href="/codespaces/new/netology-ds-team/DLL/tree/main?resume=1">Open in codespace</a>



    
      
    





<react-app
  app-name="react-code-view"
  initial-path="/netology-ds-team/DLL/blob/main/DLL-materials/%D0%97%D0%B0%D0%BD%D1%8F%D1%82%D0%B8%D0%B5%204.%20%D0%90%D1%80%D1%85%D0%B8%D1%82%D0%B5%D0%BA%D1%82%D1%83%D1%80%D1%8B%20%D1%81%D0%B2%D0%B5%D1%80%D1%82%D0%BE%D1%87%D0%BD%D1%8B%D1%85%20%D1%81%D0%B5%D1%82%D0%B5%D0%B9.ipynb"
  style="min-height: calc(100vh - 62px)"
  data-ssr="false"
  data-lazy="false"
  data-alternate="false"
>
  
  <script type="application/json" data-target="react-app.embeddedData">{"payload":{"allShortcutsEnabled":true,"fileTree":{"DLL-materials":{"items":[{"name":"Занятие 0. Пререквизиты.ipynb","path":"DLL-materials/Занятие 0. Пререквизиты.ipynb","contentType":"file"},{"name":"Занятие 1.1. Работа с тензорами.ipynb","path":"DLL-materials/Занятие 1.1. Работа с тензорами.ipynb","contentType":"file"},{"name":"Занятие 1.2. Автодифференцирование и линейная регрессия.ipynb","path":"DLL-materials/Занятие 1.2. Автодифференцирование и линейная регрессия.ipynb","contentType":"file"},{"name":"Занятие 2. Многослойная нейронная сеть.ipynb","path":"DLL-materials/Занятие 2. Многослойная нейронная сеть.ipynb","contentType":"file"},{"name":"Занятие 3. Сверточные сети.ipynb","path":"DLL-materials/Занятие 3. Сверточные сети.ipynb","contentType":"file"},{"name":"Занятие 4. Архитектуры сверточных сетей.ipynb","path":"DLL-materials/Занятие 4. Архитектуры сверточных сетей.ipynb","contentType":"file"},{"name":"Занятие 5. Улучшение качества обучения нейросетей.ipynb","path":"DLL-materials/Занятие 5. Улучшение качества обучения нейросетей.ipynb","contentType":"file"}],"totalCount":7},"":{"items":[{"name":"DLL-materials","path":"DLL-materials","contentType":"directory"}],"totalCount":1}},"fileTreeProcessingTime":3.993012,"foldersToFetch":[],"reducedMotionEnabled":"system","repo":{"id":595657061,"defaultBranch":"main","name":"DLL","ownerLogin":"netology-ds-team","currentUserCanPush":false,"isFork":false,"isEmpty":false,"createdAt":"2023-01-31T17:45:08.000+03:00","ownerAvatar":"https://avatars.githubusercontent.com/u/83753353?v=4","public":true,"private":false},"refInfo":{"name":"main","listCacheKey":"v0:1680264882.446662","canEdit":true,"refType":"branch","currentOid":"d5712a292bc5bec8d3d5354a1eb5d24b2e94f2f4"},"path":"DLL-materials/Занятие 4. Архитектуры сверточных сетей.ipynb","currentUser":{"id":77914048,"login":"vn322","userEmail":"bigbr@mail.ru"},"blob":{"rawBlob":"{\n  \"cells\": [\n    {\n      \"cell_type\": \"markdown\",\n      \"source\": [\n        \"## Архитектуры свёрточных сетей\"\n      ],\n      \"metadata\": {\n        \"id\": \"P7J2ylU2s8v5\"\n      }\n    },\n    {\n      \"cell_type\": \"code\",\n      \"execution_count\": null,\n      \"metadata\": {\n        \"ExecuteTime\": {\n          \"end_time\": \"2019-11-18T16:19:19.017474Z\",\n          \"start_time\": \"2019-11-18T16:19:18.970512Z\"\n        },\n        \"id\": \"y0aUeYwa07Np\"\n      },\n      \"outputs\": [],\n      \"source\": [\n        \"import torch\\n\",\n        \"from torch import nn\\n\",\n        \"import torchvision as tv\\n\",\n        \"from torchsummary import summary\\n\",\n        \"import time\"\n      ]\n    },\n    {\n      \"cell_type\": \"code\",\n      \"execution_count\": null,\n      \"metadata\": {\n        \"ExecuteTime\": {\n          \"end_time\": \"2019-11-18T16:20:21.306023Z\",\n          \"start_time\": \"2019-11-18T16:20:21.293827Z\"\n        },\n        \"id\": \"uwaCmLfh07Nx\"\n      },\n      \"outputs\": [],\n      \"source\": [\n        \"def evaluate_accuracy(data_iter, net):\\n\",\n        \"    acc_sum, n = 0, 0\\n\",\n        \"    net.eval()\\n\",\n        \"    for X, y in data_iter:\\n\",\n        \"        X, y = X.to(device), y.to(device)\\n\",\n        \"        acc_sum += (net(X).argmax(axis=1) == y).sum()\\n\",\n        \"        n += y.shape[0]\\n\",\n        \"    return acc_sum.item() / n\"\n      ]\n    },\n    {\n      \"cell_type\": \"code\",\n      \"execution_count\": null,\n      \"metadata\": {\n        \"ExecuteTime\": {\n          \"end_time\": \"2019-11-18T16:20:21.693926Z\",\n          \"start_time\": \"2019-11-18T16:20:21.678441Z\"\n        },\n        \"id\": \"mHmVyS9O07Nz\"\n      },\n      \"outputs\": [],\n      \"source\": [\n        \"def train(net, train_iter, test_iter, trainer, num_epochs):\\n\",\n        \"    net.to(device)\\n\",\n        \"    loss = nn.CrossEntropyLoss(reduction='sum')\\n\",\n        \"    net.train()\\n\",\n        \"    for epoch in range(num_epochs):\\n\",\n        \"        train_l_sum, train_acc_sum, n, start = 0.0, 0.0, 0, time.time()\\n\",\n        \"        \\n\",\n        \"        for i, (X, y) in enumerate(train_iter):\\n\",\n        \"            X, y = X.to(device), y.to(device)\\n\",\n        \"            trainer.zero_grad()\\n\",\n        \"            y_hat = net(X)\\n\",\n        \"            l = loss(y_hat, y)\\n\",\n        \"            l.backward()\\n\",\n        \"            trainer.step()\\n\",\n        \"            train_l_sum += l.item()\\n\",\n        \"            train_acc_sum += (y_hat.argmax(axis=1) == y).sum().item()\\n\",\n        \"            n += y.shape[0]\\n\",\n        \"\\n\",\n        \"            if i % 10 == 0:\\n\",\n        \"              print(f\\\"Step {i}. time since epoch: {time.time() -  start:.3f}. \\\" \\n\",\n        \"                    f\\\"Train acc: {train_acc_sum / n:.3f}. Train Loss: {train_l_sum / n:.3f}\\\")\\n\",\n        \"        test_acc = evaluate_accuracy(test_iter, net.to(device))\\n\",\n        \"        print('-' * 20)\\n\",\n        \"        print(f'epoch {epoch + 1}, loss {train_l_sum / n:.4f}, train acc {train_acc_sum / n:.3f}'\\n\",\n        \"              f', test acc {test_acc:.3f}, time {time.time() - start:.1f} sec')\"\n      ]\n    },\n    {\n      \"cell_type\": \"code\",\n      \"source\": [\n        \"device = 'cuda' if torch.cuda.is_available() else 'cpu'\\n\",\n        \"device\"\n      ],\n      \"metadata\": {\n        \"colab\": {\n          \"base_uri\": \"https://localhost:8080/\",\n          \"height\": 36\n        },\n        \"id\": \"xjRzZazUBBhE\",\n        \"outputId\": \"94337aed-388f-49cd-cdcf-c491c89d31de\"\n      },\n      \"execution_count\": null,\n      \"outputs\": [\n        {\n          \"output_type\": \"execute_result\",\n          \"data\": {\n            \"text/plain\": [\n              \"'cuda'\"\n            ],\n            \"application/vnd.google.colaboratory.intrinsic+json\": {\n              \"type\": \"string\"\n            }\n          },\n          \"metadata\": {},\n          \"execution_count\": 4\n        }\n      ]\n    },\n    {\n      \"cell_type\": \"markdown\",\n      \"metadata\": {\n        \"id\": \"GaVsexlm07Ns\"\n      },\n      \"source\": [\n        \"## DataSet\"\n      ]\n    },\n    {\n      \"cell_type\": \"code\",\n      \"execution_count\": null,\n      \"metadata\": {\n        \"ExecuteTime\": {\n          \"end_time\": \"2019-11-18T16:24:00.569981Z\",\n          \"start_time\": \"2019-11-18T16:24:00.510393Z\"\n        },\n        \"id\": \"E0-WXQPV07N6\"\n      },\n      \"outputs\": [],\n      \"source\": [\n        \"BATCH_SIZE = 256\\n\",\n        \"transoforms = tv.transforms.Compose([\\n\",\n        \"    tv.transforms.Resize((224, 224)),\\n\",\n        \"    tv.transforms.ToTensor()\\n\",\n        \"])\\n\",\n        \"train_dataset = tv.datasets.MNIST('.', train=True, transform=transoforms, download=True)\\n\",\n        \"test_dataset = tv.datasets.MNIST('.', train=False, transform=transoforms, download=True)\\n\",\n        \"train_iter = torch.utils.data.DataLoader(train_dataset, batch_size=BATCH_SIZE)\\n\",\n        \"test_iter = torch.utils.data.DataLoader(test_dataset, batch_size=BATCH_SIZE)\"\n      ]\n    },\n    {\n      \"cell_type\": \"markdown\",\n      \"metadata\": {\n        \"id\": \"kEEyqXdS07N4\"\n      },\n      \"source\": [\n        \"## AlexNet\"\n      ]\n    },\n    {\n      \"cell_type\": \"markdown\",\n      \"source\": [\n        \"\u003cimg src='https://drive.google.com/uc?id=1bZRmcjqn0BZVBRXCk_OiQRa991_3rPpw' width=300\u003e\"\n      ],\n      \"metadata\": {\n        \"id\": \"BkSvGwVN-6Pe\"\n      }\n    },\n    {\n      \"cell_type\": \"code\",\n      \"execution_count\": null,\n      \"metadata\": {\n        \"ExecuteTime\": {\n          \"end_time\": \"2019-11-18T16:24:01.253461Z\",\n          \"start_time\": \"2019-11-18T16:24:01.005372Z\"\n        },\n        \"id\": \"0cbvSCg207N7\"\n      },\n      \"outputs\": [],\n      \"source\": [\n        \"net = nn.Sequential(\\n\",\n        \"    nn.Conv2d(1, 96, kernel_size=11, stride=4),\\n\",\n        \"    nn.ReLU(),\\n\",\n        \"    nn.MaxPool2d(3, stride=2),\\n\",\n        \"    nn.Conv2d(96, 256, kernel_size=5, padding=2),\\n\",\n        \"    nn.ReLU(),\\n\",\n        \"    nn.MaxPool2d(3, stride=2),\\n\",\n        \"    nn.Conv2d(256, 384, kernel_size=3, padding=1),\\n\",\n        \"    nn.ReLU(),\\n\",\n        \"    nn.Conv2d(384, 384, kernel_size=3, padding=1),\\n\",\n        \"    nn.ReLU(),\\n\",\n        \"    nn.Conv2d(384, 256, kernel_size=3, padding=1),\\n\",\n        \"    nn.ReLU(),\\n\",\n        \"    nn.MaxPool2d(3, stride=2),\\n\",\n        \"    nn.Flatten(),\\n\",\n        \"    nn.Linear(6400, 4096),\\n\",\n        \"    nn.ReLU(),\\n\",\n        \"    nn.Dropout(0.5),\\n\",\n        \"    nn.Linear(4096, 4096),\\n\",\n        \"    nn.ReLU(),\\n\",\n        \"    nn.Dropout(0.5),\\n\",\n        \"    nn.Linear(4096, 10)\\n\",\n        \")\"\n      ]\n    },\n    {\n      \"cell_type\": \"code\",\n      \"source\": [\n        \"summary(net.to(device), input_size=(1, 224, 224))\"\n      ],\n      \"metadata\": {\n        \"colab\": {\n          \"base_uri\": \"https://localhost:8080/\"\n        },\n        \"id\": \"yqNUDn2R3QyI\",\n        \"outputId\": \"6d79837c-bab7-4829-d525-55bdf259f4f0\"\n      },\n      \"execution_count\": null,\n      \"outputs\": [\n        {\n          \"output_type\": \"stream\",\n          \"name\": \"stdout\",\n          \"text\": [\n            \"----------------------------------------------------------------\\n\",\n            \"        Layer (type)               Output Shape         Param #\\n\",\n            \"================================================================\\n\",\n            \"            Conv2d-1           [-1, 96, 54, 54]          11,712\\n\",\n            \"              ReLU-2           [-1, 96, 54, 54]               0\\n\",\n            \"         MaxPool2d-3           [-1, 96, 26, 26]               0\\n\",\n            \"            Conv2d-4          [-1, 256, 26, 26]         614,656\\n\",\n            \"              ReLU-5          [-1, 256, 26, 26]               0\\n\",\n            \"         MaxPool2d-6          [-1, 256, 12, 12]               0\\n\",\n            \"            Conv2d-7          [-1, 384, 12, 12]         885,120\\n\",\n            \"              ReLU-8          [-1, 384, 12, 12]               0\\n\",\n            \"            Conv2d-9          [-1, 384, 12, 12]       1,327,488\\n\",\n            \"             ReLU-10          [-1, 384, 12, 12]               0\\n\",\n            \"           Conv2d-11          [-1, 256, 12, 12]         884,992\\n\",\n            \"             ReLU-12          [-1, 256, 12, 12]               0\\n\",\n            \"        MaxPool2d-13            [-1, 256, 5, 5]               0\\n\",\n            \"          Flatten-14                 [-1, 6400]               0\\n\",\n            \"           Linear-15                 [-1, 4096]      26,218,496\\n\",\n            \"             ReLU-16                 [-1, 4096]               0\\n\",\n            \"          Dropout-17                 [-1, 4096]               0\\n\",\n            \"           Linear-18                 [-1, 4096]      16,781,312\\n\",\n            \"             ReLU-19                 [-1, 4096]               0\\n\",\n            \"          Dropout-20                 [-1, 4096]               0\\n\",\n            \"           Linear-21                   [-1, 10]          40,970\\n\",\n            \"================================================================\\n\",\n            \"Total params: 46,764,746\\n\",\n            \"Trainable params: 46,764,746\\n\",\n            \"Non-trainable params: 0\\n\",\n            \"----------------------------------------------------------------\\n\",\n            \"Input size (MB): 0.19\\n\",\n            \"Forward/backward pass size (MB): 10.22\\n\",\n            \"Params size (MB): 178.39\\n\",\n            \"Estimated Total Size (MB): 188.81\\n\",\n            \"----------------------------------------------------------------\\n\"\n          ]\n        }\n      ]\n    },\n    {\n      \"cell_type\": \"code\",\n      \"execution_count\": null,\n      \"metadata\": {\n        \"ExecuteTime\": {\n          \"end_time\": \"2019-11-18T16:24:45.386340Z\",\n          \"start_time\": \"2019-11-18T16:24:01.447105Z\"\n        },\n        \"colab\": {\n          \"base_uri\": \"https://localhost:8080/\"\n        },\n        \"id\": \"nEKDoDDr07N9\",\n        \"outputId\": \"a3f12d13-5ee9-4052-f528-2687e8654f09\"\n      },\n      \"outputs\": [\n        {\n          \"output_type\": \"stream\",\n          \"name\": \"stdout\",\n          \"text\": [\n            \"Step 0. time since epoch: 0.523. Train acc: 0.125. Train Loss: 2.303\\n\",\n            \"Step 10. time since epoch: 4.459. Train acc: 0.113. Train Loss: 2.340\\n\",\n            \"Step 20. time since epoch: 8.556. Train acc: 0.177. Train Loss: 2.259\\n\",\n            \"Step 30. time since epoch: 12.948. Train acc: 0.291. Train Loss: 1.979\\n\",\n            \"Step 40. time since epoch: 15.751. Train acc: 0.398. Train Loss: 1.706\\n\",\n            \"Step 50. time since epoch: 18.577. Train acc: 0.479. Train Loss: 1.484\\n\",\n            \"Step 60. time since epoch: 21.396. Train acc: 0.543. Train Loss: 1.310\\n\",\n            \"Step 70. time since epoch: 24.197. Train acc: 0.592. Train Loss: 1.170\\n\",\n            \"Step 80. time since epoch: 27.002. Train acc: 0.634. Train Loss: 1.052\\n\",\n            \"Step 90. time since epoch: 29.833. Train acc: 0.667. Train Loss: 0.960\\n\",\n            \"Step 100. time since epoch: 32.833. Train acc: 0.694. Train Loss: 0.884\\n\",\n            \"Step 110. time since epoch: 35.656. Train acc: 0.717. Train Loss: 0.820\\n\",\n            \"Step 120. time since epoch: 38.496. Train acc: 0.736. Train Loss: 0.765\\n\",\n            \"Step 130. time since epoch: 41.317. Train acc: 0.754. Train Loss: 0.716\\n\",\n            \"Step 140. time since epoch: 44.161. Train acc: 0.768. Train Loss: 0.674\\n\",\n            \"Step 150. time since epoch: 46.993. Train acc: 0.781. Train Loss: 0.638\\n\",\n            \"Step 160. time since epoch: 49.844. Train acc: 0.792. Train Loss: 0.606\\n\",\n            \"Step 170. time since epoch: 52.681. Train acc: 0.803. Train Loss: 0.577\\n\",\n            \"Step 180. time since epoch: 55.537. Train acc: 0.811. Train Loss: 0.552\\n\",\n            \"Step 190. time since epoch: 58.359. Train acc: 0.819. Train Loss: 0.529\\n\",\n            \"Step 200. time since epoch: 61.228. Train acc: 0.827. Train Loss: 0.507\\n\",\n            \"Step 210. time since epoch: 64.115. Train acc: 0.834. Train Loss: 0.488\\n\",\n            \"Step 220. time since epoch: 66.970. Train acc: 0.840. Train Loss: 0.469\\n\",\n            \"Step 230. time since epoch: 69.851. Train acc: 0.846. Train Loss: 0.451\\n\",\n            \"--------------------\\n\",\n            \"epoch 1, loss 0.4460, train acc 0.848, test acc 0.982, time 75.7 sec\\n\"\n          ]\n        }\n      ],\n      \"source\": [\n        \"lr, num_epochs  = 0.001, 1\\n\",\n        \"trainer = torch.optim.Adam(net.parameters(), lr=lr)\\n\",\n        \"train(net, train_iter, test_iter, trainer, num_epochs)\"\n      ]\n    },\n    {\n      \"cell_type\": \"markdown\",\n      \"metadata\": {\n        \"id\": \"W0gHio8607N9\"\n      },\n      \"source\": [\n        \"## VGG\"\n      ]\n    },\n    {\n      \"cell_type\": \"markdown\",\n      \"source\": [\n        \"\u003cimg src='https://drive.google.com/uc?id=1xE_QWszsSEA6fOEcadBsrmHOMZOs7aDr' width=300\u003e\"\n      ],\n      \"metadata\": {\n        \"id\": \"-2tlzCvQ_DFv\"\n      }\n    },\n    {\n      \"cell_type\": \"code\",\n      \"execution_count\": null,\n      \"metadata\": {\n        \"ExecuteTime\": {\n          \"end_time\": \"2019-11-18T16:33:15.808035Z\",\n          \"start_time\": \"2019-11-18T16:33:15.795879Z\"\n        },\n        \"id\": \"FYZX4-vq07N-\"\n      },\n      \"outputs\": [],\n      \"source\": [\n        \"def vgg_block(num_convs, input_channels, num_channels):\\n\",\n        \"    blk = nn.Sequential(nn.Conv2d(input_channels, num_channels, kernel_size=3, padding=1), nn.ReLU())\\n\",\n        \"    for i in range(num_convs - 1):\\n\",\n        \"        blk.add_module(\\\"conv{}\\\".format(i), nn.Conv2d(num_channels, num_channels, kernel_size=3, padding=1))\\n\",\n        \"        blk.add_module(\\\"relu{}\\\".format(i), nn.ReLU())\\n\",\n        \"    blk.add_module(\\\"pool\\\", nn.MaxPool2d(2, stride=2))\\n\",\n        \"    return blk\"\n      ]\n    },\n    {\n      \"cell_type\": \"code\",\n      \"execution_count\": null,\n      \"metadata\": {\n        \"ExecuteTime\": {\n          \"end_time\": \"2019-11-18T16:39:16.358809Z\",\n          \"start_time\": \"2019-11-18T16:39:16.040029Z\"\n        },\n        \"id\": \"bLhm6skI07OA\"\n      },\n      \"outputs\": [],\n      \"source\": [\n        \"def vgg(conv_arch):\\n\",\n        \"    net = nn.Sequential()\\n\",\n        \"\\n\",\n        \"    for i, (num_convs, input_ch, num_channels) in enumerate(conv_arch):\\n\",\n        \"        net.add_module(\\\"block{}\\\".format(i), vgg_block(num_convs, input_ch, num_channels))\\n\",\n        \"\\n\",\n        \"    \\n\",\n        \"    classifier = nn.Sequential(\\n\",\n        \"        nn.Flatten(),\\n\",\n        \"        \\n\",\n        \"        # nn.Linear(25088, 4096), nn.ReLU(), nn.Dropout(0.5),\\n\",\n        \"        nn.Linear(6272, 4096), nn.ReLU(), nn.Dropout(0.5),\\n\",\n        \"\\n\",\n        \"        nn.Linear(4096, 4096), nn.ReLU(), nn.Dropout(0.5),\\n\",\n        \"        nn.Linear(4096, 10))\\n\",\n        \"\\n\",\n        \"    net.add_module('classifier', classifier)\\n\",\n        \"    return net\"\n      ]\n    },\n    {\n      \"cell_type\": \"code\",\n      \"execution_count\": null,\n      \"metadata\": {\n        \"ExecuteTime\": {\n          \"end_time\": \"2019-11-18T16:35:30.287348Z\",\n          \"start_time\": \"2019-11-18T16:35:30.283452Z\"\n        },\n        \"id\": \"S87cemXX07N_\"\n      },\n      \"outputs\": [],\n      \"source\": [\n        \"conv_arch = ((1, 1, 64), (1, 64, 128), (2, 128, 256), (2, 256, 512), (2, 512, 512))\"\n      ]\n    },\n    {\n      \"cell_type\": \"code\",\n      \"execution_count\": null,\n      \"metadata\": {\n        \"ExecuteTime\": {\n          \"end_time\": \"2019-11-18T16:39:32.280283Z\",\n          \"start_time\": \"2019-11-18T16:39:31.939284Z\"\n        },\n        \"id\": \"vbWtRX6J07OD\"\n      },\n      \"outputs\": [],\n      \"source\": [\n        \"ratio = 4\\n\",\n        \"small_conv_arch = [(v[0], max(v[1] // ratio, 1), v[2] // ratio) for v in conv_arch]\\n\",\n        \"net = vgg(small_conv_arch)\"\n      ]\n    },\n    {\n      \"cell_type\": \"code\",\n      \"source\": [\n        \"summary(net.to(device), input_size=(1, 224, 224))\"\n      ],\n      \"metadata\": {\n        \"colab\": {\n          \"base_uri\": \"https://localhost:8080/\"\n        },\n        \"id\": \"q6m3q_Tt3aFD\",\n        \"outputId\": \"e57dff0b-efef-4ad8-fb57-2c59ecff0025\"\n      },\n      \"execution_count\": null,\n      \"outputs\": [\n        {\n          \"output_type\": \"stream\",\n          \"name\": \"stdout\",\n          \"text\": [\n            \"----------------------------------------------------------------\\n\",\n            \"        Layer (type)               Output Shape         Param #\\n\",\n            \"================================================================\\n\",\n            \"            Conv2d-1         [-1, 16, 224, 224]             160\\n\",\n            \"              ReLU-2         [-1, 16, 224, 224]               0\\n\",\n            \"         MaxPool2d-3         [-1, 16, 112, 112]               0\\n\",\n            \"            Conv2d-4         [-1, 32, 112, 112]           4,640\\n\",\n            \"              ReLU-5         [-1, 32, 112, 112]               0\\n\",\n            \"         MaxPool2d-6           [-1, 32, 56, 56]               0\\n\",\n            \"            Conv2d-7           [-1, 64, 56, 56]          18,496\\n\",\n            \"              ReLU-8           [-1, 64, 56, 56]               0\\n\",\n            \"            Conv2d-9           [-1, 64, 56, 56]          36,928\\n\",\n            \"             ReLU-10           [-1, 64, 56, 56]               0\\n\",\n            \"        MaxPool2d-11           [-1, 64, 28, 28]               0\\n\",\n            \"           Conv2d-12          [-1, 128, 28, 28]          73,856\\n\",\n            \"             ReLU-13          [-1, 128, 28, 28]               0\\n\",\n            \"           Conv2d-14          [-1, 128, 28, 28]         147,584\\n\",\n            \"             ReLU-15          [-1, 128, 28, 28]               0\\n\",\n            \"        MaxPool2d-16          [-1, 128, 14, 14]               0\\n\",\n            \"           Conv2d-17          [-1, 128, 14, 14]         147,584\\n\",\n            \"             ReLU-18          [-1, 128, 14, 14]               0\\n\",\n            \"           Conv2d-19          [-1, 128, 14, 14]         147,584\\n\",\n            \"             ReLU-20          [-1, 128, 14, 14]               0\\n\",\n            \"        MaxPool2d-21            [-1, 128, 7, 7]               0\\n\",\n            \"          Flatten-22                 [-1, 6272]               0\\n\",\n            \"           Linear-23                 [-1, 4096]      25,694,208\\n\",\n            \"             ReLU-24                 [-1, 4096]               0\\n\",\n            \"          Dropout-25                 [-1, 4096]               0\\n\",\n            \"           Linear-26                 [-1, 4096]      16,781,312\\n\",\n            \"             ReLU-27                 [-1, 4096]               0\\n\",\n            \"          Dropout-28                 [-1, 4096]               0\\n\",\n            \"           Linear-29                   [-1, 10]          40,970\\n\",\n            \"================================================================\\n\",\n            \"Total params: 43,093,322\\n\",\n            \"Trainable params: 43,093,322\\n\",\n            \"Non-trainable params: 0\\n\",\n            \"----------------------------------------------------------------\\n\",\n            \"Input size (MB): 0.19\\n\",\n            \"Forward/backward pass size (MB): 31.48\\n\",\n            \"Params size (MB): 164.39\\n\",\n            \"Estimated Total Size (MB): 196.06\\n\",\n            \"----------------------------------------------------------------\\n\"\n          ]\n        }\n      ]\n    },\n    {\n      \"cell_type\": \"code\",\n      \"execution_count\": null,\n      \"metadata\": {\n        \"ExecuteTime\": {\n          \"end_time\": \"2019-11-18T16:41:08.457065Z\",\n          \"start_time\": \"2019-11-18T16:40:17.572925Z\"\n        },\n        \"colab\": {\n          \"base_uri\": \"https://localhost:8080/\"\n        },\n        \"id\": \"9ZpYFnUO07OF\",\n        \"outputId\": \"76f648ce-f1e6-4e99-9828-855643576b5f\"\n      },\n      \"outputs\": [\n        {\n          \"output_type\": \"stream\",\n          \"name\": \"stdout\",\n          \"text\": [\n            \"Step 0. time since epoch: 0.651. Train acc: 0.113. Train Loss: 2.303\\n\",\n            \"Step 10. time since epoch: 5.161. Train acc: 0.112. Train Loss: 2.303\\n\",\n            \"Step 20. time since epoch: 9.661. Train acc: 0.139. Train Loss: 2.283\\n\",\n            \"Step 30. time since epoch: 14.173. Train acc: 0.246. Train Loss: 2.064\\n\",\n            \"Step 40. time since epoch: 18.685. Train acc: 0.358. Train Loss: 1.765\\n\",\n            \"Step 50. time since epoch: 23.213. Train acc: 0.446. Train Loss: 1.530\\n\",\n            \"Step 60. time since epoch: 27.740. Train acc: 0.516. Train Loss: 1.346\\n\",\n            \"Step 70. time since epoch: 32.278. Train acc: 0.572. Train Loss: 1.194\\n\",\n            \"Step 80. time since epoch: 36.844. Train acc: 0.618. Train Loss: 1.070\\n\",\n            \"Step 90. time since epoch: 41.417. Train acc: 0.655. Train Loss: 0.970\\n\",\n            \"Step 100. time since epoch: 46.017. Train acc: 0.684. Train Loss: 0.889\\n\",\n            \"Step 110. time since epoch: 50.581. Train acc: 0.709. Train Loss: 0.823\\n\",\n            \"Step 120. time since epoch: 55.136. Train acc: 0.729. Train Loss: 0.766\\n\",\n            \"Step 130. time since epoch: 59.668. Train acc: 0.747. Train Loss: 0.718\\n\",\n            \"Step 140. time since epoch: 64.216. Train acc: 0.763. Train Loss: 0.674\\n\",\n            \"Step 150. time since epoch: 68.746. Train acc: 0.776. Train Loss: 0.635\\n\",\n            \"Step 160. time since epoch: 73.275. Train acc: 0.789. Train Loss: 0.601\\n\",\n            \"Step 170. time since epoch: 77.811. Train acc: 0.799. Train Loss: 0.572\\n\",\n            \"Step 180. time since epoch: 82.319. Train acc: 0.809. Train Loss: 0.546\\n\",\n            \"Step 190. time since epoch: 86.819. Train acc: 0.817. Train Loss: 0.522\\n\",\n            \"Step 200. time since epoch: 91.349. Train acc: 0.824. Train Loss: 0.501\\n\",\n            \"Step 210. time since epoch: 95.859. Train acc: 0.832. Train Loss: 0.482\\n\",\n            \"Step 220. time since epoch: 100.372. Train acc: 0.838. Train Loss: 0.464\\n\",\n            \"Step 230. time since epoch: 104.904. Train acc: 0.844. Train Loss: 0.445\\n\",\n            \"--------------------\\n\",\n            \"epoch 1, loss 0.4401, train acc 0.846, test acc 0.981, time 111.3 sec\\n\"\n          ]\n        }\n      ],\n      \"source\": [\n        \"lr, num_epochs = 0.001, 1\\n\",\n        \"trainer = torch.optim.Adam(net.parameters(), lr=lr)\\n\",\n        \"train(net, train_iter, test_iter, trainer, num_epochs)\"\n      ]\n    },\n    {\n      \"cell_type\": \"markdown\",\n      \"metadata\": {\n        \"id\": \"nUjy_gh407OG\"\n      },\n      \"source\": [\n        \"## NiN\"\n      ]\n    },\n    {\n      \"cell_type\": \"markdown\",\n      \"source\": [\n        \"\u003cimg src='https://drive.google.com/uc?id=1V58tBxw-_dSyGGgdKhe-Um5yYWgrNYBX' width=400\u003e\"\n      ],\n      \"metadata\": {\n        \"id\": \"p8Hb0Cbq_POe\"\n      }\n    },\n    {\n      \"cell_type\": \"code\",\n      \"execution_count\": null,\n      \"metadata\": {\n        \"ExecuteTime\": {\n          \"end_time\": \"2019-11-18T16:55:01.945030Z\",\n          \"start_time\": \"2019-11-18T16:55:01.937207Z\"\n        },\n        \"id\": \"UWGmw8Go07OG\"\n      },\n      \"outputs\": [],\n      \"source\": [\n        \"def nin_block(input_channels, num_channels, kernel_size, strides, padding):\\n\",\n        \"    blk = nn.Sequential(\\n\",\n        \"          nn.Conv2d(input_channels, num_channels, kernel_size, strides, padding),\\n\",\n        \"          nn.ReLU(),\\n\",\n        \"          nn.Conv2d(num_channels, num_channels, kernel_size=1),\\n\",\n        \"          nn.ReLU(),\\n\",\n        \"          nn.Conv2d(num_channels, num_channels, kernel_size=1),\\n\",\n        \"          nn.ReLU()\\n\",\n        \"    )\\n\",\n        \"    return blk\"\n      ]\n    },\n    {\n      \"cell_type\": \"code\",\n      \"execution_count\": null,\n      \"metadata\": {\n        \"ExecuteTime\": {\n          \"end_time\": \"2019-11-18T16:55:56.351798Z\",\n          \"start_time\": \"2019-11-18T16:55:56.323655Z\"\n        },\n        \"id\": \"wBxUvpph07OG\"\n      },\n      \"outputs\": [],\n      \"source\": [\n        \"net = nn.Sequential(\\n\",\n        \"    nin_block(1, 96, kernel_size=11, strides=4, padding=0),\\n\",\n        \"    nn.MaxPool2d(3, stride=2),\\n\",\n        \"    nin_block(96, 256, kernel_size=5, strides=1, padding=2),\\n\",\n        \"    nn.MaxPool2d(3, stride=2),\\n\",\n        \"    nin_block(256, 384, kernel_size=3, strides=1, padding=1),\\n\",\n        \"    nn.MaxPool2d(3, stride=2),\\n\",\n        \"    nn.Dropout(0.5),\\n\",\n        \"    nin_block(384, 10, kernel_size=3, strides=1, padding=1),\\n\",\n        \"    nn.AvgPool2d(5),\\n\",\n        \"    nn.Flatten()\\n\",\n        \")\"\n      ]\n    },\n    {\n      \"cell_type\": \"code\",\n      \"source\": [\n        \"summary(net.to(device), input_size=(1, 224, 224))\"\n      ],\n      \"metadata\": {\n        \"colab\": {\n          \"base_uri\": \"https://localhost:8080/\"\n        },\n        \"id\": \"FcKGvkEf4R_2\",\n        \"outputId\": \"287b3d97-b425-4c44-98dc-a1be8ceb3db8\"\n      },\n      \"execution_count\": null,\n      \"outputs\": [\n        {\n          \"output_type\": \"stream\",\n          \"name\": \"stdout\",\n          \"text\": [\n            \"----------------------------------------------------------------\\n\",\n            \"        Layer (type)               Output Shape         Param #\\n\",\n            \"================================================================\\n\",\n            \"            Conv2d-1           [-1, 96, 54, 54]          11,712\\n\",\n            \"              ReLU-2           [-1, 96, 54, 54]               0\\n\",\n            \"            Conv2d-3           [-1, 96, 54, 54]           9,312\\n\",\n            \"              ReLU-4           [-1, 96, 54, 54]               0\\n\",\n            \"            Conv2d-5           [-1, 96, 54, 54]           9,312\\n\",\n            \"              ReLU-6           [-1, 96, 54, 54]               0\\n\",\n            \"         MaxPool2d-7           [-1, 96, 26, 26]               0\\n\",\n            \"            Conv2d-8          [-1, 256, 26, 26]         614,656\\n\",\n            \"              ReLU-9          [-1, 256, 26, 26]               0\\n\",\n            \"           Conv2d-10          [-1, 256, 26, 26]          65,792\\n\",\n            \"             ReLU-11          [-1, 256, 26, 26]               0\\n\",\n            \"           Conv2d-12          [-1, 256, 26, 26]          65,792\\n\",\n            \"             ReLU-13          [-1, 256, 26, 26]               0\\n\",\n            \"        MaxPool2d-14          [-1, 256, 12, 12]               0\\n\",\n            \"           Conv2d-15          [-1, 384, 12, 12]         885,120\\n\",\n            \"             ReLU-16          [-1, 384, 12, 12]               0\\n\",\n            \"           Conv2d-17          [-1, 384, 12, 12]         147,840\\n\",\n            \"             ReLU-18          [-1, 384, 12, 12]               0\\n\",\n            \"           Conv2d-19          [-1, 384, 12, 12]         147,840\\n\",\n            \"             ReLU-20          [-1, 384, 12, 12]               0\\n\",\n            \"        MaxPool2d-21            [-1, 384, 5, 5]               0\\n\",\n            \"          Dropout-22            [-1, 384, 5, 5]               0\\n\",\n            \"           Conv2d-23             [-1, 10, 5, 5]          34,570\\n\",\n            \"             ReLU-24             [-1, 10, 5, 5]               0\\n\",\n            \"           Conv2d-25             [-1, 10, 5, 5]             110\\n\",\n            \"             ReLU-26             [-1, 10, 5, 5]               0\\n\",\n            \"           Conv2d-27             [-1, 10, 5, 5]             110\\n\",\n            \"             ReLU-28             [-1, 10, 5, 5]               0\\n\",\n            \"        AvgPool2d-29             [-1, 10, 1, 1]               0\\n\",\n            \"          Flatten-30                   [-1, 10]               0\\n\",\n            \"================================================================\\n\",\n            \"Total params: 1,992,166\\n\",\n            \"Trainable params: 1,992,166\\n\",\n            \"Non-trainable params: 0\\n\",\n            \"----------------------------------------------------------------\\n\",\n            \"Input size (MB): 0.19\\n\",\n            \"Forward/backward pass size (MB): 24.20\\n\",\n            \"Params size (MB): 7.60\\n\",\n            \"Estimated Total Size (MB): 31.99\\n\",\n            \"----------------------------------------------------------------\\n\"\n          ]\n        }\n      ]\n    },\n    {\n      \"cell_type\": \"code\",\n      \"execution_count\": null,\n      \"metadata\": {\n        \"ExecuteTime\": {\n          \"end_time\": \"2019-11-18T16:56:41.832949Z\",\n          \"start_time\": \"2019-11-18T16:56:01.052982Z\"\n        },\n        \"colab\": {\n          \"base_uri\": \"https://localhost:8080/\"\n        },\n        \"id\": \"YFiwKb1A07OH\",\n        \"outputId\": \"47c5196f-85b8-4f8d-baf5-c10fdc2ec6c6\"\n      },\n      \"outputs\": [\n        {\n          \"output_type\": \"stream\",\n          \"name\": \"stdout\",\n          \"text\": [\n            \"Step 0. time since epoch: 0.412. Train acc: 0.094. Train Loss: 2.314\\n\",\n            \"Step 10. time since epoch: 3.955. Train acc: 0.095. Train Loss: 2.307\\n\",\n            \"Step 20. time since epoch: 7.550. Train acc: 0.097. Train Loss: 2.306\\n\",\n            \"Step 30. time since epoch: 11.085. Train acc: 0.098. Train Loss: 2.306\\n\",\n            \"Step 40. time since epoch: 14.590. Train acc: 0.099. Train Loss: 2.305\\n\",\n            \"Step 50. time since epoch: 18.152. Train acc: 0.106. Train Loss: 2.303\\n\",\n            \"Step 60. time since epoch: 21.641. Train acc: 0.111. Train Loss: 2.302\\n\",\n            \"Step 70. time since epoch: 25.143. Train acc: 0.117. Train Loss: 2.296\\n\",\n            \"Step 80. time since epoch: 28.670. Train acc: 0.121. Train Loss: 2.280\\n\",\n            \"Step 90. time since epoch: 32.588. Train acc: 0.129. Train Loss: 2.263\\n\",\n            \"Step 100. time since epoch: 36.911. Train acc: 0.134. Train Loss: 2.250\\n\",\n            \"Step 110. time since epoch: 41.000. Train acc: 0.141. Train Loss: 2.231\\n\",\n            \"Step 120. time since epoch: 44.768. Train acc: 0.148. Train Loss: 2.210\\n\",\n            \"Step 130. time since epoch: 48.327. Train acc: 0.155. Train Loss: 2.191\\n\",\n            \"Step 140. time since epoch: 51.920. Train acc: 0.164. Train Loss: 2.166\\n\",\n            \"Step 150. time since epoch: 55.456. Train acc: 0.176. Train Loss: 2.140\\n\",\n            \"Step 160. time since epoch: 59.019. Train acc: 0.189. Train Loss: 2.115\\n\",\n            \"Step 170. time since epoch: 62.531. Train acc: 0.200. Train Loss: 2.092\\n\",\n            \"Step 180. time since epoch: 66.298. Train acc: 0.210. Train Loss: 2.070\\n\",\n            \"Step 190. time since epoch: 69.790. Train acc: 0.220. Train Loss: 2.048\\n\",\n            \"Step 200. time since epoch: 73.282. Train acc: 0.228. Train Loss: 2.033\\n\",\n            \"Step 210. time since epoch: 76.869. Train acc: 0.235. Train Loss: 2.016\\n\",\n            \"Step 220. time since epoch: 80.914. Train acc: 0.243. Train Loss: 1.999\\n\",\n            \"Step 230. time since epoch: 84.855. Train acc: 0.251. Train Loss: 1.982\\n\",\n            \"--------------------\\n\",\n            \"epoch 1, loss 1.9760, train acc 0.254, test acc 0.430, time 90.9 sec\\n\"\n          ]\n        }\n      ],\n      \"source\": [\n        \"lr, num_epochs = 0.001, 1\\n\",\n        \"trainer = torch.optim.Adam(net.parameters(), lr=lr)\\n\",\n        \"train(net, train_iter, test_iter, trainer, num_epochs)\"\n      ]\n    },\n    {\n      \"cell_type\": \"markdown\",\n      \"metadata\": {\n        \"id\": \"Ty7CzAxt07OI\"\n      },\n      \"source\": [\n        \"## GoogleLeNet\"\n      ]\n    },\n    {\n      \"cell_type\": \"markdown\",\n      \"source\": [\n        \"\u003cimg src='https://drive.google.com/uc?id=1uus6Ytrlp-uhN_t5qQrzrG5y7R7BlnoE'\u003e\"\n      ],\n      \"metadata\": {\n        \"id\": \"T1bgkjmF87Qb\"\n      }\n    },\n    {\n      \"cell_type\": \"code\",\n      \"execution_count\": null,\n      \"metadata\": {\n        \"ExecuteTime\": {\n          \"end_time\": \"2019-11-18T17:08:12.092643Z\",\n          \"start_time\": \"2019-11-18T17:08:12.087776Z\"\n        },\n        \"colab\": {\n          \"base_uri\": \"https://localhost:8080/\"\n        },\n        \"id\": \"r36PoSxw07OI\",\n        \"outputId\": \"2933f207-f8af-4d4e-c064-62b06b3bbe00\"\n      },\n      \"outputs\": [\n        {\n          \"output_type\": \"execute_result\",\n          \"data\": {\n            \"text/plain\": [\n              \"torch.nn.modules.module.Module\"\n            ]\n          },\n          \"metadata\": {},\n          \"execution_count\": 19\n        }\n      ],\n      \"source\": [\n        \"nn.Module\"\n      ]\n    },\n    {\n      \"cell_type\": \"code\",\n      \"execution_count\": null,\n      \"metadata\": {\n        \"ExecuteTime\": {\n          \"end_time\": \"2019-11-17T13:29:01.329069Z\",\n          \"start_time\": \"2019-11-17T13:29:01.317911Z\"\n        },\n        \"id\": \"TqfsNY3N07OI\"\n      },\n      \"outputs\": [],\n      \"source\": [\n        \"class Inception(nn.Module):\\n\",\n        \"    def __init__(self, ic, c1, c2, c3, c4, **kwargs):\\n\",\n        \"        super(Inception, self).__init__(**kwargs)\\n\",\n        \"        self.p1_1 = nn.Sequential(nn.Conv2d(ic, c1, kernel_size=1), nn.ReLU())\\n\",\n        \"        self.p2_1 = nn.Sequential(nn.Conv2d(ic, c2[0], kernel_size=1), nn.ReLU())\\n\",\n        \"        self.p2_2 = nn.Sequential(nn.Conv2d(c2[0], c2[1], kernel_size=3, padding=1), nn.ReLU())\\n\",\n        \"        self.p3_1 = nn.Sequential(nn.Conv2d(ic, c3[0], kernel_size=1), nn.ReLU())\\n\",\n        \"        self.p3_2 = nn.Sequential(nn.Conv2d(c3[0], c3[1], kernel_size=5, padding=2), nn.ReLU())\\n\",\n        \"        self.p4_1 = nn.Sequential(nn.MaxPool2d(3, stride=1, padding=1))\\n\",\n        \"        self.p4_2 = nn.Sequential(nn.Conv2d(ic, c4, kernel_size=1), nn.ReLU())\\n\",\n        \"\\n\",\n        \"    def forward(self, x):\\n\",\n        \"        p1 = self.p1_1(x)\\n\",\n        \"        p2 = self.p2_2(self.p2_1(x))\\n\",\n        \"        p3 = self.p3_2(self.p3_1(x))\\n\",\n        \"        p4 = self.p4_2(self.p4_1(x))\\n\",\n        \"        # Concatenate the outputs on the channel dimension.\\n\",\n        \"        return torch.cat((p1, p2, p3, p4), dim=1)\"\n      ]\n    },\n    {\n      \"cell_type\": \"markdown\",\n      \"source\": [\n        \"\u003cimg src='https://drive.google.com/uc?id=1d8Fza-TWg4zRGQVIruPtgxbyniAQTPqB' width=400\u003e\"\n      ],\n      \"metadata\": {\n        \"id\": \"8qzhb_og9nhO\"\n      }\n    },\n    {\n      \"cell_type\": \"code\",\n      \"execution_count\": null,\n      \"metadata\": {\n        \"ExecuteTime\": {\n          \"end_time\": \"2019-11-17T13:29:01.480962Z\",\n          \"start_time\": \"2019-11-17T13:29:01.476713Z\"\n        },\n        \"id\": \"KSRXnR5I07OJ\"\n      },\n      \"outputs\": [],\n      \"source\": [\n        \"b1 = nn.Sequential(nn.Conv2d(1, 64, kernel_size=7, stride=2, padding=3), nn.ReLU(),\\n\",\n        \"       nn.MaxPool2d(3, stride=2, padding=1))\"\n      ]\n    },\n    {\n      \"cell_type\": \"code\",\n      \"execution_count\": null,\n      \"metadata\": {\n        \"ExecuteTime\": {\n          \"end_time\": \"2019-11-17T13:29:01.626101Z\",\n          \"start_time\": \"2019-11-17T13:29:01.620836Z\"\n        },\n        \"id\": \"Ubx0qQKt07OJ\"\n      },\n      \"outputs\": [],\n      \"source\": [\n        \"b2 = nn.Sequential(\\n\",\n        \"       nn.Conv2d(64, 64, kernel_size=1),\\n\",\n        \"       nn.Conv2d(64, 192, kernel_size=3, padding=1),\\n\",\n        \"       nn.MaxPool2d(3, stride=2, padding=1))\"\n      ]\n    },\n    {\n      \"cell_type\": \"code\",\n      \"execution_count\": null,\n      \"metadata\": {\n        \"ExecuteTime\": {\n          \"end_time\": \"2019-11-17T13:30:56.752212Z\",\n          \"start_time\": \"2019-11-17T13:30:56.741605Z\"\n        },\n        \"id\": \"T9rz2pzL07OK\"\n      },\n      \"outputs\": [],\n      \"source\": [\n        \"b3 = nn.Sequential(\\n\",\n        \"       Inception(192, 64, (96, 128), (16, 32), 32),\\n\",\n        \"       Inception(256, 128, (128, 192), (32, 96), 64),\\n\",\n        \"       nn.MaxPool2d(3, stride=2, padding=1))\"\n      ]\n    },\n    {\n      \"cell_type\": \"markdown\",\n      \"source\": [\n        \"\u003cimg src='https://drive.google.com/uc?id=1UALYarkmGMEqThI7E15J7II850OVUkT7' width=400\u003e\"\n      ],\n      \"metadata\": {\n        \"id\": \"4YFslpc7-HRF\"\n      }\n    },\n    {\n      \"cell_type\": \"code\",\n      \"execution_count\": null,\n      \"metadata\": {\n        \"ExecuteTime\": {\n          \"end_time\": \"2019-11-17T13:34:33.986895Z\",\n          \"start_time\": \"2019-11-17T13:34:33.949995Z\"\n        },\n        \"id\": \"fEytqM0807OK\"\n      },\n      \"outputs\": [],\n      \"source\": [\n        \"b4 = nn.Sequential(\\n\",\n        \"       Inception(480, 192, (96, 208), (16, 48), 64),\\n\",\n        \"       Inception(512, 160, (112, 224), (24, 64), 64),\\n\",\n        \"       Inception(512, 128, (128, 256), (24, 64), 64),\\n\",\n        \"       Inception(512, 112, (144, 288), (32, 64), 64),\\n\",\n        \"       Inception(528, 256, (160, 320), (32, 128), 128),\\n\",\n        \"       nn.MaxPool2d(3, stride=2, padding=1))\"\n      ]\n    },\n    {\n      \"cell_type\": \"code\",\n      \"execution_count\": null,\n      \"metadata\": {\n        \"ExecuteTime\": {\n          \"end_time\": \"2019-11-17T13:34:49.151063Z\",\n          \"start_time\": \"2019-11-17T13:34:49.120596Z\"\n        },\n        \"id\": \"M68UFgJe07OL\"\n      },\n      \"outputs\": [],\n      \"source\": [\n        \"b5 = nn.Sequential(\\n\",\n        \"       Inception(832, 256, (160, 320), (32, 128), 128),\\n\",\n        \"       Inception(832, 384, (192, 384), (48, 128), 128),\\n\",\n        \"       nn.AvgPool2d(7))\"\n      ]\n    },\n    {\n      \"cell_type\": \"code\",\n      \"execution_count\": null,\n      \"metadata\": {\n        \"ExecuteTime\": {\n          \"end_time\": \"2019-11-17T13:35:35.796920Z\",\n          \"start_time\": \"2019-11-17T13:35:35.792707Z\"\n        },\n        \"id\": \"6zre75Zo07OM\"\n      },\n      \"outputs\": [],\n      \"source\": [\n        \"net = nn.Sequential(b1, b2, b3, b4, b5, nn.Flatten(), nn.Linear(1024, 10))\"\n      ]\n    },\n    {\n      \"cell_type\": \"code\",\n      \"source\": [\n        \"summary(net.to(device), input_size=(1, 224, 224))\"\n      ],\n      \"metadata\": {\n        \"colab\": {\n          \"base_uri\": \"https://localhost:8080/\"\n        },\n        \"id\": \"GkiIn1Md-M2w\",\n        \"outputId\": \"b684c30d-c626-4010-a5bb-ea57cc701f5d\"\n      },\n      \"execution_count\": null,\n      \"outputs\": [\n        {\n          \"output_type\": \"stream\",\n          \"name\": \"stdout\",\n          \"text\": [\n            \"----------------------------------------------------------------\\n\",\n            \"        Layer (type)               Output Shape         Param #\\n\",\n            \"================================================================\\n\",\n            \"            Conv2d-1         [-1, 64, 112, 112]           3,200\\n\",\n            \"              ReLU-2         [-1, 64, 112, 112]               0\\n\",\n            \"         MaxPool2d-3           [-1, 64, 56, 56]               0\\n\",\n            \"            Conv2d-4           [-1, 64, 56, 56]           4,160\\n\",\n            \"            Conv2d-5          [-1, 192, 56, 56]         110,784\\n\",\n            \"         MaxPool2d-6          [-1, 192, 28, 28]               0\\n\",\n            \"            Conv2d-7           [-1, 64, 28, 28]          12,352\\n\",\n            \"              ReLU-8           [-1, 64, 28, 28]               0\\n\",\n            \"            Conv2d-9           [-1, 96, 28, 28]          18,528\\n\",\n            \"             ReLU-10           [-1, 96, 28, 28]               0\\n\",\n            \"           Conv2d-11          [-1, 128, 28, 28]         110,720\\n\",\n            \"             ReLU-12          [-1, 128, 28, 28]               0\\n\",\n            \"           Conv2d-13           [-1, 16, 28, 28]           3,088\\n\",\n            \"             ReLU-14           [-1, 16, 28, 28]               0\\n\",\n            \"           Conv2d-15           [-1, 32, 28, 28]          12,832\\n\",\n            \"             ReLU-16           [-1, 32, 28, 28]               0\\n\",\n            \"        MaxPool2d-17          [-1, 192, 28, 28]               0\\n\",\n            \"           Conv2d-18           [-1, 32, 28, 28]           6,176\\n\",\n            \"             ReLU-19           [-1, 32, 28, 28]               0\\n\",\n            \"        Inception-20          [-1, 256, 28, 28]               0\\n\",\n            \"           Conv2d-21          [-1, 128, 28, 28]          32,896\\n\",\n            \"             ReLU-22          [-1, 128, 28, 28]               0\\n\",\n            \"           Conv2d-23          [-1, 128, 28, 28]          32,896\\n\",\n            \"             ReLU-24          [-1, 128, 28, 28]               0\\n\",\n            \"           Conv2d-25          [-1, 192, 28, 28]         221,376\\n\",\n            \"             ReLU-26          [-1, 192, 28, 28]               0\\n\",\n            \"           Conv2d-27           [-1, 32, 28, 28]           8,224\\n\",\n            \"             ReLU-28           [-1, 32, 28, 28]               0\\n\",\n            \"           Conv2d-29           [-1, 96, 28, 28]          76,896\\n\",\n            \"             ReLU-30           [-1, 96, 28, 28]               0\\n\",\n            \"        MaxPool2d-31          [-1, 256, 28, 28]               0\\n\",\n            \"           Conv2d-32           [-1, 64, 28, 28]          16,448\\n\",\n            \"             ReLU-33           [-1, 64, 28, 28]               0\\n\",\n            \"        Inception-34          [-1, 480, 28, 28]               0\\n\",\n            \"        MaxPool2d-35          [-1, 480, 14, 14]               0\\n\",\n            \"           Conv2d-36          [-1, 192, 14, 14]          92,352\\n\",\n            \"             ReLU-37          [-1, 192, 14, 14]               0\\n\",\n            \"           Conv2d-38           [-1, 96, 14, 14]          46,176\\n\",\n            \"             ReLU-39           [-1, 96, 14, 14]               0\\n\",\n            \"           Conv2d-40          [-1, 208, 14, 14]         179,920\\n\",\n            \"             ReLU-41          [-1, 208, 14, 14]               0\\n\",\n            \"           Conv2d-42           [-1, 16, 14, 14]           7,696\\n\",\n            \"             ReLU-43           [-1, 16, 14, 14]               0\\n\",\n            \"           Conv2d-44           [-1, 48, 14, 14]          19,248\\n\",\n            \"             ReLU-45           [-1, 48, 14, 14]               0\\n\",\n            \"        MaxPool2d-46          [-1, 480, 14, 14]               0\\n\",\n            \"           Conv2d-47           [-1, 64, 14, 14]          30,784\\n\",\n            \"             ReLU-48           [-1, 64, 14, 14]               0\\n\",\n            \"        Inception-49          [-1, 512, 14, 14]               0\\n\",\n            \"           Conv2d-50          [-1, 160, 14, 14]          82,080\\n\",\n            \"             ReLU-51          [-1, 160, 14, 14]               0\\n\",\n            \"           Conv2d-52          [-1, 112, 14, 14]          57,456\\n\",\n            \"             ReLU-53          [-1, 112, 14, 14]               0\\n\",\n            \"           Conv2d-54          [-1, 224, 14, 14]         226,016\\n\",\n            \"             ReLU-55          [-1, 224, 14, 14]               0\\n\",\n            \"           Conv2d-56           [-1, 24, 14, 14]          12,312\\n\",\n            \"             ReLU-57           [-1, 24, 14, 14]               0\\n\",\n            \"           Conv2d-58           [-1, 64, 14, 14]          38,464\\n\",\n            \"             ReLU-59           [-1, 64, 14, 14]               0\\n\",\n            \"        MaxPool2d-60          [-1, 512, 14, 14]               0\\n\",\n            \"           Conv2d-61           [-1, 64, 14, 14]          32,832\\n\",\n            \"             ReLU-62           [-1, 64, 14, 14]               0\\n\",\n            \"        Inception-63          [-1, 512, 14, 14]               0\\n\",\n            \"           Conv2d-64          [-1, 128, 14, 14]          65,664\\n\",\n            \"             ReLU-65          [-1, 128, 14, 14]               0\\n\",\n            \"           Conv2d-66          [-1, 128, 14, 14]          65,664\\n\",\n            \"             ReLU-67          [-1, 128, 14, 14]               0\\n\",\n            \"           Conv2d-68          [-1, 256, 14, 14]         295,168\\n\",\n            \"             ReLU-69          [-1, 256, 14, 14]               0\\n\",\n            \"           Conv2d-70           [-1, 24, 14, 14]          12,312\\n\",\n            \"             ReLU-71           [-1, 24, 14, 14]               0\\n\",\n            \"           Conv2d-72           [-1, 64, 14, 14]          38,464\\n\",\n            \"             ReLU-73           [-1, 64, 14, 14]               0\\n\",\n            \"        MaxPool2d-74          [-1, 512, 14, 14]               0\\n\",\n            \"           Conv2d-75           [-1, 64, 14, 14]          32,832\\n\",\n            \"             ReLU-76           [-1, 64, 14, 14]               0\\n\",\n            \"        Inception-77          [-1, 512, 14, 14]               0\\n\",\n            \"           Conv2d-78          [-1, 112, 14, 14]          57,456\\n\",\n            \"             ReLU-79          [-1, 112, 14, 14]               0\\n\",\n            \"           Conv2d-80          [-1, 144, 14, 14]          73,872\\n\",\n            \"             ReLU-81          [-1, 144, 14, 14]               0\\n\",\n            \"           Conv2d-82          [-1, 288, 14, 14]         373,536\\n\",\n            \"             ReLU-83          [-1, 288, 14, 14]               0\\n\",\n            \"           Conv2d-84           [-1, 32, 14, 14]          16,416\\n\",\n            \"             ReLU-85           [-1, 32, 14, 14]               0\\n\",\n            \"           Conv2d-86           [-1, 64, 14, 14]          51,264\\n\",\n            \"             ReLU-87           [-1, 64, 14, 14]               0\\n\",\n            \"        MaxPool2d-88          [-1, 512, 14, 14]               0\\n\",\n            \"           Conv2d-89           [-1, 64, 14, 14]          32,832\\n\",\n            \"             ReLU-90           [-1, 64, 14, 14]               0\\n\",\n            \"        Inception-91          [-1, 528, 14, 14]               0\\n\",\n            \"           Conv2d-92          [-1, 256, 14, 14]         135,424\\n\",\n            \"             ReLU-93          [-1, 256, 14, 14]               0\\n\",\n            \"           Conv2d-94          [-1, 160, 14, 14]          84,640\\n\",\n            \"             ReLU-95          [-1, 160, 14, 14]               0\\n\",\n            \"           Conv2d-96          [-1, 320, 14, 14]         461,120\\n\",\n            \"             ReLU-97          [-1, 320, 14, 14]               0\\n\",\n            \"           Conv2d-98           [-1, 32, 14, 14]          16,928\\n\",\n            \"             ReLU-99           [-1, 32, 14, 14]               0\\n\",\n            \"          Conv2d-100          [-1, 128, 14, 14]         102,528\\n\",\n            \"            ReLU-101          [-1, 128, 14, 14]               0\\n\",\n            \"       MaxPool2d-102          [-1, 528, 14, 14]               0\\n\",\n            \"          Conv2d-103          [-1, 128, 14, 14]          67,712\\n\",\n            \"            ReLU-104          [-1, 128, 14, 14]               0\\n\",\n            \"       Inception-105          [-1, 832, 14, 14]               0\\n\",\n            \"       MaxPool2d-106            [-1, 832, 7, 7]               0\\n\",\n            \"          Conv2d-107            [-1, 256, 7, 7]         213,248\\n\",\n            \"            ReLU-108            [-1, 256, 7, 7]               0\\n\",\n            \"          Conv2d-109            [-1, 160, 7, 7]         133,280\\n\",\n            \"            ReLU-110            [-1, 160, 7, 7]               0\\n\",\n            \"          Conv2d-111            [-1, 320, 7, 7]         461,120\\n\",\n            \"            ReLU-112            [-1, 320, 7, 7]               0\\n\",\n            \"          Conv2d-113             [-1, 32, 7, 7]          26,656\\n\",\n            \"            ReLU-114             [-1, 32, 7, 7]               0\\n\",\n            \"          Conv2d-115            [-1, 128, 7, 7]         102,528\\n\",\n            \"            ReLU-116            [-1, 128, 7, 7]               0\\n\",\n            \"       MaxPool2d-117            [-1, 832, 7, 7]               0\\n\",\n            \"          Conv2d-118            [-1, 128, 7, 7]         106,624\\n\",\n            \"            ReLU-119            [-1, 128, 7, 7]               0\\n\",\n            \"       Inception-120            [-1, 832, 7, 7]               0\\n\",\n            \"          Conv2d-121            [-1, 384, 7, 7]         319,872\\n\",\n            \"            ReLU-122            [-1, 384, 7, 7]               0\\n\",\n            \"          Conv2d-123            [-1, 192, 7, 7]         159,936\\n\",\n            \"            ReLU-124            [-1, 192, 7, 7]               0\\n\",\n            \"          Conv2d-125            [-1, 384, 7, 7]         663,936\\n\",\n            \"            ReLU-126            [-1, 384, 7, 7]               0\\n\",\n            \"          Conv2d-127             [-1, 48, 7, 7]          39,984\\n\",\n            \"            ReLU-128             [-1, 48, 7, 7]               0\\n\",\n            \"          Conv2d-129            [-1, 128, 7, 7]         153,728\\n\",\n            \"            ReLU-130            [-1, 128, 7, 7]               0\\n\",\n            \"       MaxPool2d-131            [-1, 832, 7, 7]               0\\n\",\n            \"          Conv2d-132            [-1, 128, 7, 7]         106,624\\n\",\n            \"            ReLU-133            [-1, 128, 7, 7]               0\\n\",\n            \"       Inception-134           [-1, 1024, 7, 7]               0\\n\",\n            \"       AvgPool2d-135           [-1, 1024, 1, 1]               0\\n\",\n            \"         Flatten-136                 [-1, 1024]               0\\n\",\n            \"          Linear-137                   [-1, 10]          10,250\\n\",\n            \"================================================================\\n\",\n            \"Total params: 5,977,530\\n\",\n            \"Trainable params: 5,977,530\\n\",\n            \"Non-trainable params: 0\\n\",\n            \"----------------------------------------------------------------\\n\",\n            \"Input size (MB): 0.19\\n\",\n            \"Forward/backward pass size (MB): 63.36\\n\",\n            \"Params size (MB): 22.80\\n\",\n            \"Estimated Total Size (MB): 86.35\\n\",\n            \"----------------------------------------------------------------\\n\"\n          ]\n        }\n      ]\n    },\n    {\n      \"cell_type\": \"code\",\n      \"execution_count\": null,\n      \"metadata\": {\n        \"ExecuteTime\": {\n          \"end_time\": \"2019-11-18T17:21:23.003367Z\",\n          \"start_time\": \"2019-11-18T17:11:07.846611Z\"\n        },\n        \"colab\": {\n          \"base_uri\": \"https://localhost:8080/\"\n        },\n        \"id\": \"4Rhghw8L07ON\",\n        \"outputId\": \"a09d2a06-1ddc-4014-bf42-9ef7ea684964\"\n      },\n      \"outputs\": [\n        {\n          \"output_type\": \"stream\",\n          \"name\": \"stdout\",\n          \"text\": [\n            \"Step 0. time since epoch: 0.946. Train acc: 0.094. Train Loss: 2.303\\n\",\n            \"Step 10. time since epoch: 9.877. Train acc: 0.104. Train Loss: 2.302\\n\",\n            \"Step 20. time since epoch: 18.779. Train acc: 0.103. Train Loss: 2.302\\n\",\n            \"Step 30. time since epoch: 27.714. Train acc: 0.107. Train Loss: 2.302\\n\",\n            \"Step 40. time since epoch: 36.668. Train acc: 0.118. Train Loss: 2.290\\n\",\n            \"Step 50. time since epoch: 45.608. Train acc: 0.140. Train Loss: 2.251\\n\",\n            \"Step 60. time since epoch: 54.543. Train acc: 0.160. Train Loss: 2.201\\n\",\n            \"Step 70. time since epoch: 63.448. Train acc: 0.177. Train Loss: 2.148\\n\",\n            \"Step 80. time since epoch: 72.326. Train acc: 0.192. Train Loss: 2.103\\n\",\n            \"Step 90. time since epoch: 81.220. Train acc: 0.210. Train Loss: 2.055\\n\",\n            \"Step 100. time since epoch: 90.101. Train acc: 0.228. Train Loss: 2.006\\n\",\n            \"Step 110. time since epoch: 99.008. Train acc: 0.248. Train Loss: 1.957\\n\",\n            \"Step 120. time since epoch: 107.900. Train acc: 0.265. Train Loss: 1.917\\n\",\n            \"Step 130. time since epoch: 116.814. Train acc: 0.279. Train Loss: 1.885\\n\",\n            \"Step 140. time since epoch: 125.724. Train acc: 0.298. Train Loss: 1.839\\n\",\n            \"Step 150. time since epoch: 134.657. Train acc: 0.316. Train Loss: 1.793\\n\",\n            \"Step 160. time since epoch: 143.600. Train acc: 0.336. Train Loss: 1.742\\n\",\n            \"Step 170. time since epoch: 152.500. Train acc: 0.353. Train Loss: 1.700\\n\",\n            \"Step 180. time since epoch: 161.404. Train acc: 0.369. Train Loss: 1.660\\n\",\n            \"Step 190. time since epoch: 170.315. Train acc: 0.388. Train Loss: 1.614\\n\",\n            \"Step 200. time since epoch: 179.221. Train acc: 0.408. Train Loss: 1.564\\n\",\n            \"Step 210. time since epoch: 188.109. Train acc: 0.427. Train Loss: 1.518\\n\",\n            \"Step 220. time since epoch: 197.016. Train acc: 0.446. Train Loss: 1.470\\n\",\n            \"Step 230. time since epoch: 205.898. Train acc: 0.465. Train Loss: 1.423\\n\",\n            \"--------------------\\n\",\n            \"epoch 1, loss 1.4078, train acc 0.471, test acc 0.870, time 219.0 sec\\n\"\n          ]\n        }\n      ],\n      \"source\": [\n        \"lr, num_epochs = 0.001, 1\\n\",\n        \"trainer = torch.optim.Adam(net.parameters(), lr=lr)\\n\",\n        \"train(net, train_iter, test_iter, trainer, num_epochs)\"\n      ]\n    },\n    {\n      \"cell_type\": \"markdown\",\n      \"metadata\": {\n        \"id\": \"g55sb1uP07ON\"\n      },\n      \"source\": [\n        \"## Предобученные архитектуры\"\n      ]\n    },\n    {\n      \"cell_type\": \"code\",\n      \"execution_count\": null,\n      \"metadata\": {\n        \"ExecuteTime\": {\n          \"end_time\": \"2019-11-18T17:21:46.290923Z\",\n          \"start_time\": \"2019-11-18T17:21:46.236514Z\"\n        },\n        \"id\": \"4l5GE7DA07OO\"\n      },\n      \"outputs\": [],\n      \"source\": [\n        \"transoforms = tv.transforms.Compose([\\n\",\n        \"    tv.transforms.Grayscale(3),\\n\",\n        \"    tv.transforms.Resize((224, 224)),\\n\",\n        \"    tv.transforms.ToTensor()\\n\",\n        \"])\\n\",\n        \"\\n\",\n        \"train_dataset = tv.datasets.MNIST('.', train=True, transform=transoforms, download=True)\\n\",\n        \"test_dataset = tv.datasets.MNIST('.', train=False, transform=transoforms, download=True)\\n\",\n        \"train_iter = torch.utils.data.DataLoader(train_dataset, batch_size=BATCH_SIZE)\\n\",\n        \"test_iter = torch.utils.data.DataLoader(test_dataset, batch_size=BATCH_SIZE)\"\n      ]\n    },\n    {\n      \"cell_type\": \"markdown\",\n      \"source\": [\n        \"#### ResNet\"\n      ],\n      \"metadata\": {\n        \"id\": \"MENekEq_AHqo\"\n      }\n    },\n    {\n      \"cell_type\": \"code\",\n      \"execution_count\": null,\n      \"metadata\": {\n        \"ExecuteTime\": {\n          \"end_time\": \"2019-11-18T17:22:33.772924Z\",\n          \"start_time\": \"2019-11-18T17:22:33.293818Z\"\n        },\n        \"id\": \"ju3bFRxI07OO\"\n      },\n      \"outputs\": [],\n      \"source\": [\n        \"model = tv.models.resnet18(pretrained=True)\"\n      ]\n    },\n    {\n      \"cell_type\": \"code\",\n      \"source\": [\n        \"model\"\n      ],\n      \"metadata\": {\n        \"colab\": {\n          \"base_uri\": \"https://localhost:8080/\"\n        },\n        \"id\": \"STGg9M4sDuff\",\n        \"outputId\": \"08347b00-c844-4fa9-9e5c-9f63d23607c8\"\n      },\n      \"execution_count\": null,\n      \"outputs\": [\n        {\n          \"output_type\": \"execute_result\",\n          \"data\": {\n            \"text/plain\": [\n              \"ResNet(\\n\",\n              \"  (conv1): Conv2d(3, 64, kernel_size=(7, 7), stride=(2, 2), padding=(3, 3), bias=False)\\n\",\n              \"  (bn1): BatchNorm2d(64, eps=1e-05, momentum=0.1, affine=True, track_running_stats=True)\\n\",\n              \"  (relu): ReLU(inplace=True)\\n\",\n              \"  (maxpool): MaxPool2d(kernel_size=3, stride=2, padding=1, dilation=1, ceil_mode=False)\\n\",\n              \"  (layer1): Sequential(\\n\",\n              \"    (0): BasicBlock(\\n\",\n              \"      (conv1): Conv2d(64, 64, kernel_size=(3, 3), stride=(1, 1), padding=(1, 1), bias=False)\\n\",\n              \"      (bn1): BatchNorm2d(64, eps=1e-05, momentum=0.1, affine=True, track_running_stats=True)\\n\",\n              \"      (relu): ReLU(inplace=True)\\n\",\n              \"      (conv2): Conv2d(64, 64, kernel_size=(3, 3), stride=(1, 1), padding=(1, 1), bias=False)\\n\",\n              \"      (bn2): BatchNorm2d(64, eps=1e-05, momentum=0.1, affine=True, track_running_stats=True)\\n\",\n              \"    )\\n\",\n              \"    (1): BasicBlock(\\n\",\n              \"      (conv1): Conv2d(64, 64, kernel_size=(3, 3), stride=(1, 1), padding=(1, 1), bias=False)\\n\",\n              \"      (bn1): BatchNorm2d(64, eps=1e-05, momentum=0.1, affine=True, track_running_stats=True)\\n\",\n              \"      (relu): ReLU(inplace=True)\\n\",\n              \"      (conv2): Conv2d(64, 64, kernel_size=(3, 3), stride=(1, 1), padding=(1, 1), bias=False)\\n\",\n              \"      (bn2): BatchNorm2d(64, eps=1e-05, momentum=0.1, affine=True, track_running_stats=True)\\n\",\n              \"    )\\n\",\n              \"  )\\n\",\n              \"  (layer2): Sequential(\\n\",\n              \"    (0): BasicBlock(\\n\",\n              \"      (conv1): Conv2d(64, 128, kernel_size=(3, 3), stride=(2, 2), padding=(1, 1), bias=False)\\n\",\n              \"      (bn1): BatchNorm2d(128, eps=1e-05, momentum=0.1, affine=True, track_running_stats=True)\\n\",\n              \"      (relu): ReLU(inplace=True)\\n\",\n              \"      (conv2): Conv2d(128, 128, kernel_size=(3, 3), stride=(1, 1), padding=(1, 1), bias=False)\\n\",\n              \"      (bn2): BatchNorm2d(128, eps=1e-05, momentum=0.1, affine=True, track_running_stats=True)\\n\",\n              \"      (downsample): Sequential(\\n\",\n              \"        (0): Conv2d(64, 128, kernel_size=(1, 1), stride=(2, 2), bias=False)\\n\",\n              \"        (1): BatchNorm2d(128, eps=1e-05, momentum=0.1, affine=True, track_running_stats=True)\\n\",\n              \"      )\\n\",\n              \"    )\\n\",\n              \"    (1): BasicBlock(\\n\",\n              \"      (conv1): Conv2d(128, 128, kernel_size=(3, 3), stride=(1, 1), padding=(1, 1), bias=False)\\n\",\n              \"      (bn1): BatchNorm2d(128, eps=1e-05, momentum=0.1, affine=True, track_running_stats=True)\\n\",\n              \"      (relu): ReLU(inplace=True)\\n\",\n              \"      (conv2): Conv2d(128, 128, kernel_size=(3, 3), stride=(1, 1), padding=(1, 1), bias=False)\\n\",\n              \"      (bn2): BatchNorm2d(128, eps=1e-05, momentum=0.1, affine=True, track_running_stats=True)\\n\",\n              \"    )\\n\",\n              \"  )\\n\",\n              \"  (layer3): Sequential(\\n\",\n              \"    (0): BasicBlock(\\n\",\n              \"      (conv1): Conv2d(128, 256, kernel_size=(3, 3), stride=(2, 2), padding=(1, 1), bias=False)\\n\",\n              \"      (bn1): BatchNorm2d(256, eps=1e-05, momentum=0.1, affine=True, track_running_stats=True)\\n\",\n              \"      (relu): ReLU(inplace=True)\\n\",\n              \"      (conv2): Conv2d(256, 256, kernel_size=(3, 3), stride=(1, 1), padding=(1, 1), bias=False)\\n\",\n              \"      (bn2): BatchNorm2d(256, eps=1e-05, momentum=0.1, affine=True, track_running_stats=True)\\n\",\n              \"      (downsample): Sequential(\\n\",\n              \"        (0): Conv2d(128, 256, kernel_size=(1, 1), stride=(2, 2), bias=False)\\n\",\n              \"        (1): BatchNorm2d(256, eps=1e-05, momentum=0.1, affine=True, track_running_stats=True)\\n\",\n              \"      )\\n\",\n              \"    )\\n\",\n              \"    (1): BasicBlock(\\n\",\n              \"      (conv1): Conv2d(256, 256, kernel_size=(3, 3), stride=(1, 1), padding=(1, 1), bias=False)\\n\",\n              \"      (bn1): BatchNorm2d(256, eps=1e-05, momentum=0.1, affine=True, track_running_stats=True)\\n\",\n              \"      (relu): ReLU(inplace=True)\\n\",\n              \"      (conv2): Conv2d(256, 256, kernel_size=(3, 3), stride=(1, 1), padding=(1, 1), bias=False)\\n\",\n              \"      (bn2): BatchNorm2d(256, eps=1e-05, momentum=0.1, affine=True, track_running_stats=True)\\n\",\n              \"    )\\n\",\n              \"  )\\n\",\n              \"  (layer4): Sequential(\\n\",\n              \"    (0): BasicBlock(\\n\",\n              \"      (conv1): Conv2d(256, 512, kernel_size=(3, 3), stride=(2, 2), padding=(1, 1), bias=False)\\n\",\n              \"      (bn1): BatchNorm2d(512, eps=1e-05, momentum=0.1, affine=True, track_running_stats=True)\\n\",\n              \"      (relu): ReLU(inplace=True)\\n\",\n              \"      (conv2): Conv2d(512, 512, kernel_size=(3, 3), stride=(1, 1), padding=(1, 1), bias=False)\\n\",\n              \"      (bn2): BatchNorm2d(512, eps=1e-05, momentum=0.1, affine=True, track_running_stats=True)\\n\",\n              \"      (downsample): Sequential(\\n\",\n              \"        (0): Conv2d(256, 512, kernel_size=(1, 1), stride=(2, 2), bias=False)\\n\",\n              \"        (1): BatchNorm2d(512, eps=1e-05, momentum=0.1, affine=True, track_running_stats=True)\\n\",\n              \"      )\\n\",\n              \"    )\\n\",\n              \"    (1): BasicBlock(\\n\",\n              \"      (conv1): Conv2d(512, 512, kernel_size=(3, 3), stride=(1, 1), padding=(1, 1), bias=False)\\n\",\n              \"      (bn1): BatchNorm2d(512, eps=1e-05, momentum=0.1, affine=True, track_running_stats=True)\\n\",\n              \"      (relu): ReLU(inplace=True)\\n\",\n              \"      (conv2): Conv2d(512, 512, kernel_size=(3, 3), stride=(1, 1), padding=(1, 1), bias=False)\\n\",\n              \"      (bn2): BatchNorm2d(512, eps=1e-05, momentum=0.1, affine=True, track_running_stats=True)\\n\",\n              \"    )\\n\",\n              \"  )\\n\",\n              \"  (avgpool): AdaptiveAvgPool2d(output_size=(1, 1))\\n\",\n              \"  (fc): Linear(in_features=512, out_features=1000, bias=True)\\n\",\n              \")\"\n            ]\n          },\n          \"metadata\": {},\n          \"execution_count\": 62\n        }\n      ]\n    },\n    {\n      \"cell_type\": \"code\",\n      \"source\": [\n        \"summary(model.to(device), input_size=(3, 224, 224))\"\n      ],\n      \"metadata\": {\n        \"colab\": {\n          \"base_uri\": \"https://localhost:8080/\"\n        },\n        \"id\": \"ncajlZiCDwUt\",\n        \"outputId\": \"896dcc46-ce0c-4739-bb4d-0c7bc4b78939\"\n      },\n      \"execution_count\": null,\n      \"outputs\": [\n        {\n          \"output_type\": \"stream\",\n          \"name\": \"stdout\",\n          \"text\": [\n            \"----------------------------------------------------------------\\n\",\n            \"        Layer (type)               Output Shape         Param #\\n\",\n            \"================================================================\\n\",\n            \"            Conv2d-1         [-1, 64, 112, 112]           9,408\\n\",\n            \"       BatchNorm2d-2         [-1, 64, 112, 112]             128\\n\",\n            \"              ReLU-3         [-1, 64, 112, 112]               0\\n\",\n            \"         MaxPool2d-4           [-1, 64, 56, 56]               0\\n\",\n            \"            Conv2d-5           [-1, 64, 56, 56]          36,864\\n\",\n            \"       BatchNorm2d-6           [-1, 64, 56, 56]             128\\n\",\n            \"              ReLU-7           [-1, 64, 56, 56]               0\\n\",\n            \"            Conv2d-8           [-1, 64, 56, 56]          36,864\\n\",\n            \"       BatchNorm2d-9           [-1, 64, 56, 56]             128\\n\",\n            \"             ReLU-10           [-1, 64, 56, 56]               0\\n\",\n            \"       BasicBlock-11           [-1, 64, 56, 56]               0\\n\",\n            \"           Conv2d-12           [-1, 64, 56, 56]          36,864\\n\",\n            \"      BatchNorm2d-13           [-1, 64, 56, 56]             128\\n\",\n            \"             ReLU-14           [-1, 64, 56, 56]               0\\n\",\n            \"           Conv2d-15           [-1, 64, 56, 56]          36,864\\n\",\n            \"      BatchNorm2d-16           [-1, 64, 56, 56]             128\\n\",\n            \"             ReLU-17           [-1, 64, 56, 56]               0\\n\",\n            \"       BasicBlock-18           [-1, 64, 56, 56]               0\\n\",\n            \"           Conv2d-19          [-1, 128, 28, 28]          73,728\\n\",\n            \"      BatchNorm2d-20          [-1, 128, 28, 28]             256\\n\",\n            \"             ReLU-21          [-1, 128, 28, 28]               0\\n\",\n            \"           Conv2d-22          [-1, 128, 28, 28]         147,456\\n\",\n            \"      BatchNorm2d-23          [-1, 128, 28, 28]             256\\n\",\n            \"           Conv2d-24          [-1, 128, 28, 28]           8,192\\n\",\n            \"      BatchNorm2d-25          [-1, 128, 28, 28]             256\\n\",\n            \"             ReLU-26          [-1, 128, 28, 28]               0\\n\",\n            \"       BasicBlock-27          [-1, 128, 28, 28]               0\\n\",\n            \"           Conv2d-28          [-1, 128, 28, 28]         147,456\\n\",\n            \"      BatchNorm2d-29          [-1, 128, 28, 28]             256\\n\",\n            \"             ReLU-30          [-1, 128, 28, 28]               0\\n\",\n            \"           Conv2d-31          [-1, 128, 28, 28]         147,456\\n\",\n            \"      BatchNorm2d-32          [-1, 128, 28, 28]             256\\n\",\n            \"             ReLU-33          [-1, 128, 28, 28]               0\\n\",\n            \"       BasicBlock-34          [-1, 128, 28, 28]               0\\n\",\n            \"           Conv2d-35          [-1, 256, 14, 14]         294,912\\n\",\n            \"      BatchNorm2d-36          [-1, 256, 14, 14]             512\\n\",\n            \"             ReLU-37          [-1, 256, 14, 14]               0\\n\",\n            \"           Conv2d-38          [-1, 256, 14, 14]         589,824\\n\",\n            \"      BatchNorm2d-39          [-1, 256, 14, 14]             512\\n\",\n            \"           Conv2d-40          [-1, 256, 14, 14]          32,768\\n\",\n            \"      BatchNorm2d-41          [-1, 256, 14, 14]             512\\n\",\n            \"             ReLU-42          [-1, 256, 14, 14]               0\\n\",\n            \"       BasicBlock-43          [-1, 256, 14, 14]               0\\n\",\n            \"           Conv2d-44          [-1, 256, 14, 14]         589,824\\n\",\n            \"      BatchNorm2d-45          [-1, 256, 14, 14]             512\\n\",\n            \"             ReLU-46          [-1, 256, 14, 14]               0\\n\",\n            \"           Conv2d-47          [-1, 256, 14, 14]         589,824\\n\",\n            \"      BatchNorm2d-48          [-1, 256, 14, 14]             512\\n\",\n            \"             ReLU-49          [-1, 256, 14, 14]               0\\n\",\n            \"       BasicBlock-50          [-1, 256, 14, 14]               0\\n\",\n            \"           Conv2d-51            [-1, 512, 7, 7]       1,179,648\\n\",\n            \"      BatchNorm2d-52            [-1, 512, 7, 7]           1,024\\n\",\n            \"             ReLU-53            [-1, 512, 7, 7]               0\\n\",\n            \"           Conv2d-54            [-1, 512, 7, 7]       2,359,296\\n\",\n            \"      BatchNorm2d-55            [-1, 512, 7, 7]           1,024\\n\",\n            \"           Conv2d-56            [-1, 512, 7, 7]         131,072\\n\",\n            \"      BatchNorm2d-57            [-1, 512, 7, 7]           1,024\\n\",\n            \"             ReLU-58            [-1, 512, 7, 7]               0\\n\",\n            \"       BasicBlock-59            [-1, 512, 7, 7]               0\\n\",\n            \"           Conv2d-60            [-1, 512, 7, 7]       2,359,296\\n\",\n            \"      BatchNorm2d-61            [-1, 512, 7, 7]           1,024\\n\",\n            \"             ReLU-62            [-1, 512, 7, 7]               0\\n\",\n            \"           Conv2d-63            [-1, 512, 7, 7]       2,359,296\\n\",\n            \"      BatchNorm2d-64            [-1, 512, 7, 7]           1,024\\n\",\n            \"             ReLU-65            [-1, 512, 7, 7]               0\\n\",\n            \"       BasicBlock-66            [-1, 512, 7, 7]               0\\n\",\n            \"AdaptiveAvgPool2d-67            [-1, 512, 1, 1]               0\\n\",\n            \"           Linear-68                 [-1, 1000]         513,000\\n\",\n            \"================================================================\\n\",\n            \"Total params: 11,689,512\\n\",\n            \"Trainable params: 11,689,512\\n\",\n            \"Non-trainable params: 0\\n\",\n            \"----------------------------------------------------------------\\n\",\n            \"Input size (MB): 0.57\\n\",\n            \"Forward/backward pass size (MB): 62.79\\n\",\n            \"Params size (MB): 44.59\\n\",\n            \"Estimated Total Size (MB): 107.96\\n\",\n            \"----------------------------------------------------------------\\n\"\n          ]\n        }\n      ]\n    },\n    {\n      \"cell_type\": \"code\",\n      \"execution_count\": null,\n      \"metadata\": {\n        \"ExecuteTime\": {\n          \"end_time\": \"2019-11-18T17:23:47.319979Z\",\n          \"start_time\": \"2019-11-18T17:23:47.316747Z\"\n        },\n        \"id\": \"QuYMuz8i07OO\"\n      },\n      \"outputs\": [],\n      \"source\": [\n        \"# Убираем требование градиента:\\n\",\n        \"for param in model.parameters():\\n\",\n        \"    param.requires_grad = False\"\n      ]\n    },\n    {\n      \"cell_type\": \"code\",\n      \"execution_count\": null,\n      \"metadata\": {\n        \"ExecuteTime\": {\n          \"end_time\": \"2019-11-18T17:24:04.770976Z\",\n          \"start_time\": \"2019-11-18T17:24:04.766810Z\"\n        },\n        \"colab\": {\n          \"base_uri\": \"https://localhost:8080/\"\n        },\n        \"id\": \"psXlmjnx07OO\",\n        \"outputId\": \"eb0dbdcc-3845-405a-b906-526ee7e07a72\"\n      },\n      \"outputs\": [\n        {\n          \"output_type\": \"execute_result\",\n          \"data\": {\n            \"text/plain\": [\n              \"Linear(in_features=512, out_features=1000, bias=True)\"\n            ]\n          },\n          \"metadata\": {},\n          \"execution_count\": 65\n        }\n      ],\n      \"source\": [\n        \"model.fc\"\n      ]\n    },\n    {\n      \"cell_type\": \"code\",\n      \"execution_count\": null,\n      \"metadata\": {\n        \"ExecuteTime\": {\n          \"end_time\": \"2019-11-18T17:24:12.305790Z\",\n          \"start_time\": \"2019-11-18T17:24:12.302517Z\"\n        },\n        \"id\": \"n637z2fz07OO\"\n      },\n      \"outputs\": [],\n      \"source\": [\n        \"model.fc = nn.Linear(in_features=512, out_features=10)\"\n      ]\n    },\n    {\n      \"cell_type\": \"code\",\n      \"execution_count\": null,\n      \"metadata\": {\n        \"ExecuteTime\": {\n          \"end_time\": \"2019-11-18T17:24:42.228326Z\",\n          \"start_time\": \"2019-11-18T17:24:42.222643Z\"\n        },\n        \"colab\": {\n          \"base_uri\": \"https://localhost:8080/\"\n        },\n        \"id\": \"xzYUzBDH07OP\",\n        \"outputId\": \"b0fa069a-d57a-420d-a264-8e4a092d50ac\"\n      },\n      \"outputs\": [\n        {\n          \"output_type\": \"stream\",\n          \"name\": \"stdout\",\n          \"text\": [\n            \"Params to learn:\\n\",\n            \"\\t fc.weight\\n\",\n            \"\\t fc.bias\\n\"\n          ]\n        }\n      ],\n      \"source\": [\n        \"print(\\\"Params to learn:\\\")\\n\",\n        \"params_to_update = []\\n\",\n        \"for name, param in model.named_parameters():\\n\",\n        \"    if param.requires_grad == True:\\n\",\n        \"        params_to_update.append(param)\\n\",\n        \"        print(\\\"\\\\t\\\",name)\"\n      ]\n    },\n    {\n      \"cell_type\": \"code\",\n      \"execution_count\": null,\n      \"metadata\": {\n        \"ExecuteTime\": {\n          \"end_time\": \"2019-11-18T17:25:11.558131Z\",\n          \"start_time\": \"2019-11-18T17:25:11.554358Z\"\n        },\n        \"id\": \"UEWnyfQD07OP\"\n      },\n      \"outputs\": [],\n      \"source\": [\n        \"trainer = torch.optim.Adam(params_to_update, lr=0.001)\"\n      ]\n    },\n    {\n      \"cell_type\": \"code\",\n      \"execution_count\": null,\n      \"metadata\": {\n        \"ExecuteTime\": {\n          \"end_time\": \"2019-11-18T17:26:20.718099Z\",\n          \"start_time\": \"2019-11-18T17:25:20.979097Z\"\n        },\n        \"colab\": {\n          \"base_uri\": \"https://localhost:8080/\"\n        },\n        \"id\": \"Bzy-TnEs07OP\",\n        \"outputId\": \"48cc2374-cc2b-4233-8d06-f38b6772268b\"\n      },\n      \"outputs\": [\n        {\n          \"output_type\": \"stream\",\n          \"name\": \"stdout\",\n          \"text\": [\n            \"Step 0. time since epoch: 1.024. Train acc: 0.148. Train Loss: 2.613\\n\",\n            \"Step 10. time since epoch: 10.758. Train acc: 0.857. Train Loss: 0.506\\n\",\n            \"Step 20. time since epoch: 20.596. Train acc: 0.916. Train Loss: 0.297\\n\",\n            \"Step 30. time since epoch: 30.360. Train acc: 0.937. Train Loss: 0.222\\n\",\n            \"Step 40. time since epoch: 40.174. Train acc: 0.949. Train Loss: 0.179\\n\",\n            \"Step 50. time since epoch: 50.154. Train acc: 0.957. Train Loss: 0.152\\n\",\n            \"Step 60. time since epoch: 59.808. Train acc: 0.962. Train Loss: 0.134\\n\",\n            \"Step 70. time since epoch: 69.448. Train acc: 0.965. Train Loss: 0.121\\n\",\n            \"Step 80. time since epoch: 79.040. Train acc: 0.968. Train Loss: 0.111\\n\",\n            \"Step 90. time since epoch: 88.748. Train acc: 0.970. Train Loss: 0.102\\n\",\n            \"Step 100. time since epoch: 98.313. Train acc: 0.973. Train Loss: 0.095\\n\",\n            \"Step 110. time since epoch: 107.973. Train acc: 0.974. Train Loss: 0.090\\n\",\n            \"Step 120. time since epoch: 117.594. Train acc: 0.975. Train Loss: 0.086\\n\",\n            \"Step 130. time since epoch: 127.215. Train acc: 0.976. Train Loss: 0.082\\n\",\n            \"Step 140. time since epoch: 136.989. Train acc: 0.977. Train Loss: 0.079\\n\",\n            \"Step 150. time since epoch: 146.661. Train acc: 0.978. Train Loss: 0.077\\n\",\n            \"Step 160. time since epoch: 156.333. Train acc: 0.978. Train Loss: 0.075\\n\",\n            \"Step 170. time since epoch: 165.967. Train acc: 0.979. Train Loss: 0.074\\n\",\n            \"Step 180. time since epoch: 175.751. Train acc: 0.979. Train Loss: 0.071\\n\",\n            \"Step 190. time since epoch: 185.495. Train acc: 0.980. Train Loss: 0.069\\n\",\n            \"Step 200. time since epoch: 195.145. Train acc: 0.981. Train Loss: 0.067\\n\",\n            \"Step 210. time since epoch: 204.841. Train acc: 0.981. Train Loss: 0.066\\n\",\n            \"Step 220. time since epoch: 214.505. Train acc: 0.981. Train Loss: 0.064\\n\",\n            \"Step 230. time since epoch: 224.139. Train acc: 0.982. Train Loss: 0.062\\n\",\n            \"--------------------\\n\",\n            \"epoch 1, loss 0.0617, train acc 0.982, test acc 0.981, time 239.6 sec\\n\"\n          ]\n        }\n      ],\n      \"source\": [\n        \"train(model, train_iter, test_iter, trainer, 1)\"\n      ]\n    },\n    {\n      \"cell_type\": \"markdown\",\n      \"source\": [\n        \"#### DenseNet\"\n      ],\n      \"metadata\": {\n        \"id\": \"yz6qmsROAGcq\"\n      }\n    },\n    {\n      \"cell_type\": \"code\",\n      \"execution_count\": null,\n      \"metadata\": {\n        \"ExecuteTime\": {\n          \"end_time\": \"2019-11-18T17:22:33.772924Z\",\n          \"start_time\": \"2019-11-18T17:22:33.293818Z\"\n        },\n        \"id\": \"wJLDvo7uAGmo\"\n      },\n      \"outputs\": [],\n      \"source\": [\n        \"model = tv.models.densenet161(pretrained=True)\"\n      ]\n    },\n    {\n      \"cell_type\": \"code\",\n      \"source\": [\n        \"model\"\n      ],\n      \"metadata\": {\n        \"colab\": {\n          \"base_uri\": \"https://localhost:8080/\"\n        },\n        \"outputId\": \"b849d21e-7ac0-4416-ee31-9c9fa3d8c752\",\n        \"id\": \"6-Mfy6xdAGmq\"\n      },\n      \"execution_count\": null,\n      \"outputs\": [\n        {\n          \"output_type\": \"execute_result\",\n          \"data\": {\n            \"text/plain\": [\n              \"DenseNet(\\n\",\n              \"  (features): Sequential(\\n\",\n              \"    (conv0): Conv2d(3, 96, kernel_size=(7, 7), stride=(2, 2), padding=(3, 3), bias=False)\\n\",\n              \"    (norm0): BatchNorm2d(96, eps=1e-05, momentum=0.1, affine=True, track_running_stats=True)\\n\",\n              \"    (relu0): ReLU(inplace=True)\\n\",\n              \"    (pool0): MaxPool2d(kernel_size=3, stride=2, padding=1, dilation=1, ceil_mode=False)\\n\",\n              \"    (denseblock1): _DenseBlock(\\n\",\n              \"      (denselayer1): _DenseLayer(\\n\",\n              \"        (norm1): BatchNorm2d(96, eps=1e-05, momentum=0.1, affine=True, track_running_stats=True)\\n\",\n              \"        (relu1): ReLU(inplace=True)\\n\",\n              \"        (conv1): Conv2d(96, 192, kernel_size=(1, 1), stride=(1, 1), bias=False)\\n\",\n              \"        (norm2): BatchNorm2d(192, eps=1e-05, momentum=0.1, affine=True, track_running_stats=True)\\n\",\n              \"        (relu2): ReLU(inplace=True)\\n\",\n              \"        (conv2): Conv2d(192, 48, kernel_size=(3, 3), stride=(1, 1), padding=(1, 1), bias=False)\\n\",\n              \"      )\\n\",\n              \"      (denselayer2): _DenseLayer(\\n\",\n              \"        (norm1): BatchNorm2d(144, eps=1e-05, momentum=0.1, affine=True, track_running_stats=True)\\n\",\n              \"        (relu1): ReLU(inplace=True)\\n\",\n              \"        (conv1): Conv2d(144, 192, kernel_size=(1, 1), stride=(1, 1), bias=False)\\n\",\n              \"        (norm2): BatchNorm2d(192, eps=1e-05, momentum=0.1, affine=True, track_running_stats=True)\\n\",\n              \"        (relu2): ReLU(inplace=True)\\n\",\n              \"        (conv2): Conv2d(192, 48, kernel_size=(3, 3), stride=(1, 1), padding=(1, 1), bias=False)\\n\",\n              \"      )\\n\",\n              \"      (denselayer3): _DenseLayer(\\n\",\n              \"        (norm1): BatchNorm2d(192, eps=1e-05, momentum=0.1, affine=True, track_running_stats=True)\\n\",\n              \"        (relu1): ReLU(inplace=True)\\n\",\n              \"        (conv1): Conv2d(192, 192, kernel_size=(1, 1), stride=(1, 1), bias=False)\\n\",\n              \"        (norm2): BatchNorm2d(192, eps=1e-05, momentum=0.1, affine=True, track_running_stats=True)\\n\",\n              \"        (relu2): ReLU(inplace=True)\\n\",\n              \"        (conv2): Conv2d(192, 48, kernel_size=(3, 3), stride=(1, 1), padding=(1, 1), bias=False)\\n\",\n              \"      )\\n\",\n              \"      (denselayer4): _DenseLayer(\\n\",\n              \"        (norm1): BatchNorm2d(240, eps=1e-05, momentum=0.1, affine=True, track_running_stats=True)\\n\",\n              \"        (relu1): ReLU(inplace=True)\\n\",\n              \"        (conv1): Conv2d(240, 192, kernel_size=(1, 1), stride=(1, 1), bias=False)\\n\",\n              \"        (norm2): BatchNorm2d(192, eps=1e-05, momentum=0.1, affine=True, track_running_stats=True)\\n\",\n              \"        (relu2): ReLU(inplace=True)\\n\",\n              \"        (conv2): Conv2d(192, 48, kernel_size=(3, 3), stride=(1, 1), padding=(1, 1), bias=False)\\n\",\n              \"      )\\n\",\n              \"      (denselayer5): _DenseLayer(\\n\",\n              \"        (norm1): BatchNorm2d(288, eps=1e-05, momentum=0.1, affine=True, track_running_stats=True)\\n\",\n              \"        (relu1): ReLU(inplace=True)\\n\",\n              \"        (conv1): Conv2d(288, 192, kernel_size=(1, 1), stride=(1, 1), bias=False)\\n\",\n              \"        (norm2): BatchNorm2d(192, eps=1e-05, momentum=0.1, affine=True, track_running_stats=True)\\n\",\n              \"        (relu2): ReLU(inplace=True)\\n\",\n              \"        (conv2): Conv2d(192, 48, kernel_size=(3, 3), stride=(1, 1), padding=(1, 1), bias=False)\\n\",\n              \"      )\\n\",\n              \"      (denselayer6): _DenseLayer(\\n\",\n              \"        (norm1): BatchNorm2d(336, eps=1e-05, momentum=0.1, affine=True, track_running_stats=True)\\n\",\n              \"        (relu1): ReLU(inplace=True)\\n\",\n              \"        (conv1): Conv2d(336, 192, kernel_size=(1, 1), stride=(1, 1), bias=False)\\n\",\n              \"        (norm2): BatchNorm2d(192, eps=1e-05, momentum=0.1, affine=True, track_running_stats=True)\\n\",\n              \"        (relu2): ReLU(inplace=True)\\n\",\n              \"        (conv2): Conv2d(192, 48, kernel_size=(3, 3), stride=(1, 1), padding=(1, 1), bias=False)\\n\",\n              \"      )\\n\",\n              \"    )\\n\",\n              \"    (transition1): _Transition(\\n\",\n              \"      (norm): BatchNorm2d(384, eps=1e-05, momentum=0.1, affine=True, track_running_stats=True)\\n\",\n              \"      (relu): ReLU(inplace=True)\\n\",\n              \"      (conv): Conv2d(384, 192, kernel_size=(1, 1), stride=(1, 1), bias=False)\\n\",\n              \"      (pool): AvgPool2d(kernel_size=2, stride=2, padding=0)\\n\",\n              \"    )\\n\",\n              \"    (denseblock2): _DenseBlock(\\n\",\n              \"      (denselayer1): _DenseLayer(\\n\",\n              \"        (norm1): BatchNorm2d(192, eps=1e-05, momentum=0.1, affine=True, track_running_stats=True)\\n\",\n              \"        (relu1): ReLU(inplace=True)\\n\",\n              \"        (conv1): Conv2d(192, 192, kernel_size=(1, 1), stride=(1, 1), bias=False)\\n\",\n              \"        (norm2): BatchNorm2d(192, eps=1e-05, momentum=0.1, affine=True, track_running_stats=True)\\n\",\n              \"        (relu2): ReLU(inplace=True)\\n\",\n              \"        (conv2): Conv2d(192, 48, kernel_size=(3, 3), stride=(1, 1), padding=(1, 1), bias=False)\\n\",\n              \"      )\\n\",\n              \"      (denselayer2): _DenseLayer(\\n\",\n              \"        (norm1): BatchNorm2d(240, eps=1e-05, momentum=0.1, affine=True, track_running_stats=True)\\n\",\n              \"        (relu1): ReLU(inplace=True)\\n\",\n              \"        (conv1): Conv2d(240, 192, kernel_size=(1, 1), stride=(1, 1), bias=False)\\n\",\n              \"        (norm2): BatchNorm2d(192, eps=1e-05, momentum=0.1, affine=True, track_running_stats=True)\\n\",\n              \"        (relu2): ReLU(inplace=True)\\n\",\n              \"        (conv2): Conv2d(192, 48, kernel_size=(3, 3), stride=(1, 1), padding=(1, 1), bias=False)\\n\",\n              \"      )\\n\",\n              \"      (denselayer3): _DenseLayer(\\n\",\n              \"        (norm1): BatchNorm2d(288, eps=1e-05, momentum=0.1, affine=True, track_running_stats=True)\\n\",\n              \"        (relu1): ReLU(inplace=True)\\n\",\n              \"        (conv1): Conv2d(288, 192, kernel_size=(1, 1), stride=(1, 1), bias=False)\\n\",\n              \"        (norm2): BatchNorm2d(192, eps=1e-05, momentum=0.1, affine=True, track_running_stats=True)\\n\",\n              \"        (relu2): ReLU(inplace=True)\\n\",\n              \"        (conv2): Conv2d(192, 48, kernel_size=(3, 3), stride=(1, 1), padding=(1, 1), bias=False)\\n\",\n              \"      )\\n\",\n              \"      (denselayer4): _DenseLayer(\\n\",\n              \"        (norm1): BatchNorm2d(336, eps=1e-05, momentum=0.1, affine=True, track_running_stats=True)\\n\",\n              \"        (relu1): ReLU(inplace=True)\\n\",\n              \"        (conv1): Conv2d(336, 192, kernel_size=(1, 1), stride=(1, 1), bias=False)\\n\",\n              \"        (norm2): BatchNorm2d(192, eps=1e-05, momentum=0.1, affine=True, track_running_stats=True)\\n\",\n              \"        (relu2): ReLU(inplace=True)\\n\",\n              \"        (conv2): Conv2d(192, 48, kernel_size=(3, 3), stride=(1, 1), padding=(1, 1), bias=False)\\n\",\n              \"      )\\n\",\n              \"      (denselayer5): _DenseLayer(\\n\",\n              \"        (norm1): BatchNorm2d(384, eps=1e-05, momentum=0.1, affine=True, track_running_stats=True)\\n\",\n              \"        (relu1): ReLU(inplace=True)\\n\",\n              \"        (conv1): Conv2d(384, 192, kernel_size=(1, 1), stride=(1, 1), bias=False)\\n\",\n              \"        (norm2): BatchNorm2d(192, eps=1e-05, momentum=0.1, affine=True, track_running_stats=True)\\n\",\n              \"        (relu2): ReLU(inplace=True)\\n\",\n              \"        (conv2): Conv2d(192, 48, kernel_size=(3, 3), stride=(1, 1), padding=(1, 1), bias=False)\\n\",\n              \"      )\\n\",\n              \"      (denselayer6): _DenseLayer(\\n\",\n              \"        (norm1): BatchNorm2d(432, eps=1e-05, momentum=0.1, affine=True, track_running_stats=True)\\n\",\n              \"        (relu1): ReLU(inplace=True)\\n\",\n              \"        (conv1): Conv2d(432, 192, kernel_size=(1, 1), stride=(1, 1), bias=False)\\n\",\n              \"        (norm2): BatchNorm2d(192, eps=1e-05, momentum=0.1, affine=True, track_running_stats=True)\\n\",\n              \"        (relu2): ReLU(inplace=True)\\n\",\n              \"        (conv2): Conv2d(192, 48, kernel_size=(3, 3), stride=(1, 1), padding=(1, 1), bias=False)\\n\",\n              \"      )\\n\",\n              \"      (denselayer7): _DenseLayer(\\n\",\n              \"        (norm1): BatchNorm2d(480, eps=1e-05, momentum=0.1, affine=True, track_running_stats=True)\\n\",\n              \"        (relu1): ReLU(inplace=True)\\n\",\n              \"        (conv1): Conv2d(480, 192, kernel_size=(1, 1), stride=(1, 1), bias=False)\\n\",\n              \"        (norm2): BatchNorm2d(192, eps=1e-05, momentum=0.1, affine=True, track_running_stats=True)\\n\",\n              \"        (relu2): ReLU(inplace=True)\\n\",\n              \"        (conv2): Conv2d(192, 48, kernel_size=(3, 3), stride=(1, 1), padding=(1, 1), bias=False)\\n\",\n              \"      )\\n\",\n              \"      (denselayer8): _DenseLayer(\\n\",\n              \"        (norm1): BatchNorm2d(528, eps=1e-05, momentum=0.1, affine=True, track_running_stats=True)\\n\",\n              \"        (relu1): ReLU(inplace=True)\\n\",\n              \"        (conv1): Conv2d(528, 192, kernel_size=(1, 1), stride=(1, 1), bias=False)\\n\",\n              \"        (norm2): BatchNorm2d(192, eps=1e-05, momentum=0.1, affine=True, track_running_stats=True)\\n\",\n              \"        (relu2): ReLU(inplace=True)\\n\",\n              \"        (conv2): Conv2d(192, 48, kernel_size=(3, 3), stride=(1, 1), padding=(1, 1), bias=False)\\n\",\n              \"      )\\n\",\n              \"      (denselayer9): _DenseLayer(\\n\",\n              \"        (norm1): BatchNorm2d(576, eps=1e-05, momentum=0.1, affine=True, track_running_stats=True)\\n\",\n              \"        (relu1): ReLU(inplace=True)\\n\",\n              \"        (conv1): Conv2d(576, 192, kernel_size=(1, 1), stride=(1, 1), bias=False)\\n\",\n              \"        (norm2): BatchNorm2d(192, eps=1e-05, momentum=0.1, affine=True, track_running_stats=True)\\n\",\n              \"        (relu2): ReLU(inplace=True)\\n\",\n              \"        (conv2): Conv2d(192, 48, kernel_size=(3, 3), stride=(1, 1), padding=(1, 1), bias=False)\\n\",\n              \"      )\\n\",\n              \"      (denselayer10): _DenseLayer(\\n\",\n              \"        (norm1): BatchNorm2d(624, eps=1e-05, momentum=0.1, affine=True, track_running_stats=True)\\n\",\n              \"        (relu1): ReLU(inplace=True)\\n\",\n              \"        (conv1): Conv2d(624, 192, kernel_size=(1, 1), stride=(1, 1), bias=False)\\n\",\n              \"        (norm2): BatchNorm2d(192, eps=1e-05, momentum=0.1, affine=True, track_running_stats=True)\\n\",\n              \"        (relu2): ReLU(inplace=True)\\n\",\n              \"        (conv2): Conv2d(192, 48, kernel_size=(3, 3), stride=(1, 1), padding=(1, 1), bias=False)\\n\",\n              \"      )\\n\",\n              \"      (denselayer11): _DenseLayer(\\n\",\n              \"        (norm1): BatchNorm2d(672, eps=1e-05, momentum=0.1, affine=True, track_running_stats=True)\\n\",\n              \"        (relu1): ReLU(inplace=True)\\n\",\n              \"        (conv1): Conv2d(672, 192, kernel_size=(1, 1), stride=(1, 1), bias=False)\\n\",\n              \"        (norm2): BatchNorm2d(192, eps=1e-05, momentum=0.1, affine=True, track_running_stats=True)\\n\",\n              \"        (relu2): ReLU(inplace=True)\\n\",\n              \"        (conv2): Conv2d(192, 48, kernel_size=(3, 3), stride=(1, 1), padding=(1, 1), bias=False)\\n\",\n              \"      )\\n\",\n              \"      (denselayer12): _DenseLayer(\\n\",\n              \"        (norm1): BatchNorm2d(720, eps=1e-05, momentum=0.1, affine=True, track_running_stats=True)\\n\",\n              \"        (relu1): ReLU(inplace=True)\\n\",\n              \"        (conv1): Conv2d(720, 192, kernel_size=(1, 1), stride=(1, 1), bias=False)\\n\",\n              \"        (norm2): BatchNorm2d(192, eps=1e-05, momentum=0.1, affine=True, track_running_stats=True)\\n\",\n              \"        (relu2): ReLU(inplace=True)\\n\",\n              \"        (conv2): Conv2d(192, 48, kernel_size=(3, 3), stride=(1, 1), padding=(1, 1), bias=False)\\n\",\n              \"      )\\n\",\n              \"    )\\n\",\n              \"    (transition2): _Transition(\\n\",\n              \"      (norm): BatchNorm2d(768, eps=1e-05, momentum=0.1, affine=True, track_running_stats=True)\\n\",\n              \"      (relu): ReLU(inplace=True)\\n\",\n              \"      (conv): Conv2d(768, 384, kernel_size=(1, 1), stride=(1, 1), bias=False)\\n\",\n              \"      (pool): AvgPool2d(kernel_size=2, stride=2, padding=0)\\n\",\n              \"    )\\n\",\n              \"    (denseblock3): _DenseBlock(\\n\",\n              \"      (denselayer1): _DenseLayer(\\n\",\n              \"        (norm1): BatchNorm2d(384, eps=1e-05, momentum=0.1, affine=True, track_running_stats=True)\\n\",\n              \"        (relu1): ReLU(inplace=True)\\n\",\n              \"        (conv1): Conv2d(384, 192, kernel_size=(1, 1), stride=(1, 1), bias=False)\\n\",\n              \"        (norm2): BatchNorm2d(192, eps=1e-05, momentum=0.1, affine=True, track_running_stats=True)\\n\",\n              \"        (relu2): ReLU(inplace=True)\\n\",\n              \"        (conv2): Conv2d(192, 48, kernel_size=(3, 3), stride=(1, 1), padding=(1, 1), bias=False)\\n\",\n              \"      )\\n\",\n              \"      (denselayer2): _DenseLayer(\\n\",\n              \"        (norm1): BatchNorm2d(432, eps=1e-05, momentum=0.1, affine=True, track_running_stats=True)\\n\",\n              \"        (relu1): ReLU(inplace=True)\\n\",\n              \"        (conv1): Conv2d(432, 192, kernel_size=(1, 1), stride=(1, 1), bias=False)\\n\",\n              \"        (norm2): BatchNorm2d(192, eps=1e-05, momentum=0.1, affine=True, track_running_stats=True)\\n\",\n              \"        (relu2): ReLU(inplace=True)\\n\",\n              \"        (conv2): Conv2d(192, 48, kernel_size=(3, 3), stride=(1, 1), padding=(1, 1), bias=False)\\n\",\n              \"      )\\n\",\n              \"      (denselayer3): _DenseLayer(\\n\",\n              \"        (norm1): BatchNorm2d(480, eps=1e-05, momentum=0.1, affine=True, track_running_stats=True)\\n\",\n              \"        (relu1): ReLU(inplace=True)\\n\",\n              \"        (conv1): Conv2d(480, 192, kernel_size=(1, 1), stride=(1, 1), bias=False)\\n\",\n              \"        (norm2): BatchNorm2d(192, eps=1e-05, momentum=0.1, affine=True, track_running_stats=True)\\n\",\n              \"        (relu2): ReLU(inplace=True)\\n\",\n              \"        (conv2): Conv2d(192, 48, kernel_size=(3, 3), stride=(1, 1), padding=(1, 1), bias=False)\\n\",\n              \"      )\\n\",\n              \"      (denselayer4): _DenseLayer(\\n\",\n              \"        (norm1): BatchNorm2d(528, eps=1e-05, momentum=0.1, affine=True, track_running_stats=True)\\n\",\n              \"        (relu1): ReLU(inplace=True)\\n\",\n              \"        (conv1): Conv2d(528, 192, kernel_size=(1, 1), stride=(1, 1), bias=False)\\n\",\n              \"        (norm2): BatchNorm2d(192, eps=1e-05, momentum=0.1, affine=True, track_running_stats=True)\\n\",\n              \"        (relu2): ReLU(inplace=True)\\n\",\n              \"        (conv2): Conv2d(192, 48, kernel_size=(3, 3), stride=(1, 1), padding=(1, 1), bias=False)\\n\",\n              \"      )\\n\",\n              \"      (denselayer5): _DenseLayer(\\n\",\n              \"        (norm1): BatchNorm2d(576, eps=1e-05, momentum=0.1, affine=True, track_running_stats=True)\\n\",\n              \"        (relu1): ReLU(inplace=True)\\n\",\n              \"        (conv1): Conv2d(576, 192, kernel_size=(1, 1), stride=(1, 1), bias=False)\\n\",\n              \"        (norm2): BatchNorm2d(192, eps=1e-05, momentum=0.1, affine=True, track_running_stats=True)\\n\",\n              \"        (relu2): ReLU(inplace=True)\\n\",\n              \"        (conv2): Conv2d(192, 48, kernel_size=(3, 3), stride=(1, 1), padding=(1, 1), bias=False)\\n\",\n              \"      )\\n\",\n              \"      (denselayer6): _DenseLayer(\\n\",\n              \"        (norm1): BatchNorm2d(624, eps=1e-05, momentum=0.1, affine=True, track_running_stats=True)\\n\",\n              \"        (relu1): ReLU(inplace=True)\\n\",\n              \"        (conv1): Conv2d(624, 192, kernel_size=(1, 1), stride=(1, 1), bias=False)\\n\",\n              \"        (norm2): BatchNorm2d(192, eps=1e-05, momentum=0.1, affine=True, track_running_stats=True)\\n\",\n              \"        (relu2): ReLU(inplace=True)\\n\",\n              \"        (conv2): Conv2d(192, 48, kernel_size=(3, 3), stride=(1, 1), padding=(1, 1), bias=False)\\n\",\n              \"      )\\n\",\n              \"      (denselayer7): _DenseLayer(\\n\",\n              \"        (norm1): BatchNorm2d(672, eps=1e-05, momentum=0.1, affine=True, track_running_stats=True)\\n\",\n              \"        (relu1): ReLU(inplace=True)\\n\",\n              \"        (conv1): Conv2d(672, 192, kernel_size=(1, 1), stride=(1, 1), bias=False)\\n\",\n              \"        (norm2): BatchNorm2d(192, eps=1e-05, momentum=0.1, affine=True, track_running_stats=True)\\n\",\n              \"        (relu2): ReLU(inplace=True)\\n\",\n              \"        (conv2): Conv2d(192, 48, kernel_size=(3, 3), stride=(1, 1), padding=(1, 1), bias=False)\\n\",\n              \"      )\\n\",\n              \"      (denselayer8): _DenseLayer(\\n\",\n              \"        (norm1): BatchNorm2d(720, eps=1e-05, momentum=0.1, affine=True, track_running_stats=True)\\n\",\n              \"        (relu1): ReLU(inplace=True)\\n\",\n              \"        (conv1): Conv2d(720, 192, kernel_size=(1, 1), stride=(1, 1), bias=False)\\n\",\n              \"        (norm2): BatchNorm2d(192, eps=1e-05, momentum=0.1, affine=True, track_running_stats=True)\\n\",\n              \"        (relu2): ReLU(inplace=True)\\n\",\n              \"        (conv2): Conv2d(192, 48, kernel_size=(3, 3), stride=(1, 1), padding=(1, 1), bias=False)\\n\",\n              \"      )\\n\",\n              \"      (denselayer9): _DenseLayer(\\n\",\n              \"        (norm1): BatchNorm2d(768, eps=1e-05, momentum=0.1, affine=True, track_running_stats=True)\\n\",\n              \"        (relu1): ReLU(inplace=True)\\n\",\n              \"        (conv1): Conv2d(768, 192, kernel_size=(1, 1), stride=(1, 1), bias=False)\\n\",\n              \"        (norm2): BatchNorm2d(192, eps=1e-05, momentum=0.1, affine=True, track_running_stats=True)\\n\",\n              \"        (relu2): ReLU(inplace=True)\\n\",\n              \"        (conv2): Conv2d(192, 48, kernel_size=(3, 3), stride=(1, 1), padding=(1, 1), bias=False)\\n\",\n              \"      )\\n\",\n              \"      (denselayer10): _DenseLayer(\\n\",\n              \"        (norm1): BatchNorm2d(816, eps=1e-05, momentum=0.1, affine=True, track_running_stats=True)\\n\",\n              \"        (relu1): ReLU(inplace=True)\\n\",\n              \"        (conv1): Conv2d(816, 192, kernel_size=(1, 1), stride=(1, 1), bias=False)\\n\",\n              \"        (norm2): BatchNorm2d(192, eps=1e-05, momentum=0.1, affine=True, track_running_stats=True)\\n\",\n              \"        (relu2): ReLU(inplace=True)\\n\",\n              \"        (conv2): Conv2d(192, 48, kernel_size=(3, 3), stride=(1, 1), padding=(1, 1), bias=False)\\n\",\n              \"      )\\n\",\n              \"      (denselayer11): _DenseLayer(\\n\",\n              \"        (norm1): BatchNorm2d(864, eps=1e-05, momentum=0.1, affine=True, track_running_stats=True)\\n\",\n              \"        (relu1): ReLU(inplace=True)\\n\",\n              \"        (conv1): Conv2d(864, 192, kernel_size=(1, 1), stride=(1, 1), bias=False)\\n\",\n              \"        (norm2): BatchNorm2d(192, eps=1e-05, momentum=0.1, affine=True, track_running_stats=True)\\n\",\n              \"        (relu2): ReLU(inplace=True)\\n\",\n              \"        (conv2): Conv2d(192, 48, kernel_size=(3, 3), stride=(1, 1), padding=(1, 1), bias=False)\\n\",\n              \"      )\\n\",\n              \"      (denselayer12): _DenseLayer(\\n\",\n              \"        (norm1): BatchNorm2d(912, eps=1e-05, momentum=0.1, affine=True, track_running_stats=True)\\n\",\n              \"        (relu1): ReLU(inplace=True)\\n\",\n              \"        (conv1): Conv2d(912, 192, kernel_size=(1, 1), stride=(1, 1), bias=False)\\n\",\n              \"        (norm2): BatchNorm2d(192, eps=1e-05, momentum=0.1, affine=True, track_running_stats=True)\\n\",\n              \"        (relu2): ReLU(inplace=True)\\n\",\n              \"        (conv2): Conv2d(192, 48, kernel_size=(3, 3), stride=(1, 1), padding=(1, 1), bias=False)\\n\",\n              \"      )\\n\",\n              \"      (denselayer13): _DenseLayer(\\n\",\n              \"        (norm1): BatchNorm2d(960, eps=1e-05, momentum=0.1, affine=True, track_running_stats=True)\\n\",\n              \"        (relu1): ReLU(inplace=True)\\n\",\n              \"        (conv1): Conv2d(960, 192, kernel_size=(1, 1), stride=(1, 1), bias=False)\\n\",\n              \"        (norm2): BatchNorm2d(192, eps=1e-05, momentum=0.1, affine=True, track_running_stats=True)\\n\",\n              \"        (relu2): ReLU(inplace=True)\\n\",\n              \"        (conv2): Conv2d(192, 48, kernel_size=(3, 3), stride=(1, 1), padding=(1, 1), bias=False)\\n\",\n              \"      )\\n\",\n              \"      (denselayer14): _DenseLayer(\\n\",\n              \"        (norm1): BatchNorm2d(1008, eps=1e-05, momentum=0.1, affine=True, track_running_stats=True)\\n\",\n              \"        (relu1): ReLU(inplace=True)\\n\",\n              \"        (conv1): Conv2d(1008, 192, kernel_size=(1, 1), stride=(1, 1), bias=False)\\n\",\n              \"        (norm2): BatchNorm2d(192, eps=1e-05, momentum=0.1, affine=True, track_running_stats=True)\\n\",\n              \"        (relu2): ReLU(inplace=True)\\n\",\n              \"        (conv2): Conv2d(192, 48, kernel_size=(3, 3), stride=(1, 1), padding=(1, 1), bias=False)\\n\",\n              \"      )\\n\",\n              \"      (denselayer15): _DenseLayer(\\n\",\n              \"        (norm1): BatchNorm2d(1056, eps=1e-05, momentum=0.1, affine=True, track_running_stats=True)\\n\",\n              \"        (relu1): ReLU(inplace=True)\\n\",\n              \"        (conv1): Conv2d(1056, 192, kernel_size=(1, 1), stride=(1, 1), bias=False)\\n\",\n              \"        (norm2): BatchNorm2d(192, eps=1e-05, momentum=0.1, affine=True, track_running_stats=True)\\n\",\n              \"        (relu2): ReLU(inplace=True)\\n\",\n              \"        (conv2): Conv2d(192, 48, kernel_size=(3, 3), stride=(1, 1), padding=(1, 1), bias=False)\\n\",\n              \"      )\\n\",\n              \"      (denselayer16): _DenseLayer(\\n\",\n              \"        (norm1): BatchNorm2d(1104, eps=1e-05, momentum=0.1, affine=True, track_running_stats=True)\\n\",\n              \"        (relu1): ReLU(inplace=True)\\n\",\n              \"        (conv1): Conv2d(1104, 192, kernel_size=(1, 1), stride=(1, 1), bias=False)\\n\",\n              \"        (norm2): BatchNorm2d(192, eps=1e-05, momentum=0.1, affine=True, track_running_stats=True)\\n\",\n              \"        (relu2): ReLU(inplace=True)\\n\",\n              \"        (conv2): Conv2d(192, 48, kernel_size=(3, 3), stride=(1, 1), padding=(1, 1), bias=False)\\n\",\n              \"      )\\n\",\n              \"      (denselayer17): _DenseLayer(\\n\",\n              \"        (norm1): BatchNorm2d(1152, eps=1e-05, momentum=0.1, affine=True, track_running_stats=True)\\n\",\n              \"        (relu1): ReLU(inplace=True)\\n\",\n              \"        (conv1): Conv2d(1152, 192, kernel_size=(1, 1), stride=(1, 1), bias=False)\\n\",\n              \"        (norm2): BatchNorm2d(192, eps=1e-05, momentum=0.1, affine=True, track_running_stats=True)\\n\",\n              \"        (relu2): ReLU(inplace=True)\\n\",\n              \"        (conv2): Conv2d(192, 48, kernel_size=(3, 3), stride=(1, 1), padding=(1, 1), bias=False)\\n\",\n              \"      )\\n\",\n              \"      (denselayer18): _DenseLayer(\\n\",\n              \"        (norm1): BatchNorm2d(1200, eps=1e-05, momentum=0.1, affine=True, track_running_stats=True)\\n\",\n              \"        (relu1): ReLU(inplace=True)\\n\",\n              \"        (conv1): Conv2d(1200, 192, kernel_size=(1, 1), stride=(1, 1), bias=False)\\n\",\n              \"        (norm2): BatchNorm2d(192, eps=1e-05, momentum=0.1, affine=True, track_running_stats=True)\\n\",\n              \"        (relu2): ReLU(inplace=True)\\n\",\n              \"        (conv2): Conv2d(192, 48, kernel_size=(3, 3), stride=(1, 1), padding=(1, 1), bias=False)\\n\",\n              \"      )\\n\",\n              \"      (denselayer19): _DenseLayer(\\n\",\n              \"        (norm1): BatchNorm2d(1248, eps=1e-05, momentum=0.1, affine=True, track_running_stats=True)\\n\",\n              \"        (relu1): ReLU(inplace=True)\\n\",\n              \"        (conv1): Conv2d(1248, 192, kernel_size=(1, 1), stride=(1, 1), bias=False)\\n\",\n              \"        (norm2): BatchNorm2d(192, eps=1e-05, momentum=0.1, affine=True, track_running_stats=True)\\n\",\n              \"        (relu2): ReLU(inplace=True)\\n\",\n              \"        (conv2): Conv2d(192, 48, kernel_size=(3, 3), stride=(1, 1), padding=(1, 1), bias=False)\\n\",\n              \"      )\\n\",\n              \"      (denselayer20): _DenseLayer(\\n\",\n              \"        (norm1): BatchNorm2d(1296, eps=1e-05, momentum=0.1, affine=True, track_running_stats=True)\\n\",\n              \"        (relu1): ReLU(inplace=True)\\n\",\n              \"        (conv1): Conv2d(1296, 192, kernel_size=(1, 1), stride=(1, 1), bias=False)\\n\",\n              \"        (norm2): BatchNorm2d(192, eps=1e-05, momentum=0.1, affine=True, track_running_stats=True)\\n\",\n              \"        (relu2): ReLU(inplace=True)\\n\",\n              \"        (conv2): Conv2d(192, 48, kernel_size=(3, 3), stride=(1, 1), padding=(1, 1), bias=False)\\n\",\n              \"      )\\n\",\n              \"      (denselayer21): _DenseLayer(\\n\",\n              \"        (norm1): BatchNorm2d(1344, eps=1e-05, momentum=0.1, affine=True, track_running_stats=True)\\n\",\n              \"        (relu1): ReLU(inplace=True)\\n\",\n              \"        (conv1): Conv2d(1344, 192, kernel_size=(1, 1), stride=(1, 1), bias=False)\\n\",\n              \"        (norm2): BatchNorm2d(192, eps=1e-05, momentum=0.1, affine=True, track_running_stats=True)\\n\",\n              \"        (relu2): ReLU(inplace=True)\\n\",\n              \"        (conv2): Conv2d(192, 48, kernel_size=(3, 3), stride=(1, 1), padding=(1, 1), bias=False)\\n\",\n              \"      )\\n\",\n              \"      (denselayer22): _DenseLayer(\\n\",\n              \"        (norm1): BatchNorm2d(1392, eps=1e-05, momentum=0.1, affine=True, track_running_stats=True)\\n\",\n              \"        (relu1): ReLU(inplace=True)\\n\",\n              \"        (conv1): Conv2d(1392, 192, kernel_size=(1, 1), stride=(1, 1), bias=False)\\n\",\n              \"        (norm2): BatchNorm2d(192, eps=1e-05, momentum=0.1, affine=True, track_running_stats=True)\\n\",\n              \"        (relu2): ReLU(inplace=True)\\n\",\n              \"        (conv2): Conv2d(192, 48, kernel_size=(3, 3), stride=(1, 1), padding=(1, 1), bias=False)\\n\",\n              \"      )\\n\",\n              \"      (denselayer23): _DenseLayer(\\n\",\n              \"        (norm1): BatchNorm2d(1440, eps=1e-05, momentum=0.1, affine=True, track_running_stats=True)\\n\",\n              \"        (relu1): ReLU(inplace=True)\\n\",\n              \"        (conv1): Conv2d(1440, 192, kernel_size=(1, 1), stride=(1, 1), bias=False)\\n\",\n              \"        (norm2): BatchNorm2d(192, eps=1e-05, momentum=0.1, affine=True, track_running_stats=True)\\n\",\n              \"        (relu2): ReLU(inplace=True)\\n\",\n              \"        (conv2): Conv2d(192, 48, kernel_size=(3, 3), stride=(1, 1), padding=(1, 1), bias=False)\\n\",\n              \"      )\\n\",\n              \"      (denselayer24): _DenseLayer(\\n\",\n              \"        (norm1): BatchNorm2d(1488, eps=1e-05, momentum=0.1, affine=True, track_running_stats=True)\\n\",\n              \"        (relu1): ReLU(inplace=True)\\n\",\n              \"        (conv1): Conv2d(1488, 192, kernel_size=(1, 1), stride=(1, 1), bias=False)\\n\",\n              \"        (norm2): BatchNorm2d(192, eps=1e-05, momentum=0.1, affine=True, track_running_stats=True)\\n\",\n              \"        (relu2): ReLU(inplace=True)\\n\",\n              \"        (conv2): Conv2d(192, 48, kernel_size=(3, 3), stride=(1, 1), padding=(1, 1), bias=False)\\n\",\n              \"      )\\n\",\n              \"      (denselayer25): _DenseLayer(\\n\",\n              \"        (norm1): BatchNorm2d(1536, eps=1e-05, momentum=0.1, affine=True, track_running_stats=True)\\n\",\n              \"        (relu1): ReLU(inplace=True)\\n\",\n              \"        (conv1): Conv2d(1536, 192, kernel_size=(1, 1), stride=(1, 1), bias=False)\\n\",\n              \"        (norm2): BatchNorm2d(192, eps=1e-05, momentum=0.1, affine=True, track_running_stats=True)\\n\",\n              \"        (relu2): ReLU(inplace=True)\\n\",\n              \"        (conv2): Conv2d(192, 48, kernel_size=(3, 3), stride=(1, 1), padding=(1, 1), bias=False)\\n\",\n              \"      )\\n\",\n              \"      (denselayer26): _DenseLayer(\\n\",\n              \"        (norm1): BatchNorm2d(1584, eps=1e-05, momentum=0.1, affine=True, track_running_stats=True)\\n\",\n              \"        (relu1): ReLU(inplace=True)\\n\",\n              \"        (conv1): Conv2d(1584, 192, kernel_size=(1, 1), stride=(1, 1), bias=False)\\n\",\n              \"        (norm2): BatchNorm2d(192, eps=1e-05, momentum=0.1, affine=True, track_running_stats=True)\\n\",\n              \"        (relu2): ReLU(inplace=True)\\n\",\n              \"        (conv2): Conv2d(192, 48, kernel_size=(3, 3), stride=(1, 1), padding=(1, 1), bias=False)\\n\",\n              \"      )\\n\",\n              \"      (denselayer27): _DenseLayer(\\n\",\n              \"        (norm1): BatchNorm2d(1632, eps=1e-05, momentum=0.1, affine=True, track_running_stats=True)\\n\",\n              \"        (relu1): ReLU(inplace=True)\\n\",\n              \"        (conv1): Conv2d(1632, 192, kernel_size=(1, 1), stride=(1, 1), bias=False)\\n\",\n              \"        (norm2): BatchNorm2d(192, eps=1e-05, momentum=0.1, affine=True, track_running_stats=True)\\n\",\n              \"        (relu2): ReLU(inplace=True)\\n\",\n              \"        (conv2): Conv2d(192, 48, kernel_size=(3, 3), stride=(1, 1), padding=(1, 1), bias=False)\\n\",\n              \"      )\\n\",\n              \"      (denselayer28): _DenseLayer(\\n\",\n              \"        (norm1): BatchNorm2d(1680, eps=1e-05, momentum=0.1, affine=True, track_running_stats=True)\\n\",\n              \"        (relu1): ReLU(inplace=True)\\n\",\n              \"        (conv1): Conv2d(1680, 192, kernel_size=(1, 1), stride=(1, 1), bias=False)\\n\",\n              \"        (norm2): BatchNorm2d(192, eps=1e-05, momentum=0.1, affine=True, track_running_stats=True)\\n\",\n              \"        (relu2): ReLU(inplace=True)\\n\",\n              \"        (conv2): Conv2d(192, 48, kernel_size=(3, 3), stride=(1, 1), padding=(1, 1), bias=False)\\n\",\n              \"      )\\n\",\n              \"      (denselayer29): _DenseLayer(\\n\",\n              \"        (norm1): BatchNorm2d(1728, eps=1e-05, momentum=0.1, affine=True, track_running_stats=True)\\n\",\n              \"        (relu1): ReLU(inplace=True)\\n\",\n              \"        (conv1): Conv2d(1728, 192, kernel_size=(1, 1), stride=(1, 1), bias=False)\\n\",\n              \"        (norm2): BatchNorm2d(192, eps=1e-05, momentum=0.1, affine=True, track_running_stats=True)\\n\",\n              \"        (relu2): ReLU(inplace=True)\\n\",\n              \"        (conv2): Conv2d(192, 48, kernel_size=(3, 3), stride=(1, 1), padding=(1, 1), bias=False)\\n\",\n              \"      )\\n\",\n              \"      (denselayer30): _DenseLayer(\\n\",\n              \"        (norm1): BatchNorm2d(1776, eps=1e-05, momentum=0.1, affine=True, track_running_stats=True)\\n\",\n              \"        (relu1): ReLU(inplace=True)\\n\",\n              \"        (conv1): Conv2d(1776, 192, kernel_size=(1, 1), stride=(1, 1), bias=False)\\n\",\n              \"        (norm2): BatchNorm2d(192, eps=1e-05, momentum=0.1, affine=True, track_running_stats=True)\\n\",\n              \"        (relu2): ReLU(inplace=True)\\n\",\n              \"        (conv2): Conv2d(192, 48, kernel_size=(3, 3), stride=(1, 1), padding=(1, 1), bias=False)\\n\",\n              \"      )\\n\",\n              \"      (denselayer31): _DenseLayer(\\n\",\n              \"        (norm1): BatchNorm2d(1824, eps=1e-05, momentum=0.1, affine=True, track_running_stats=True)\\n\",\n              \"        (relu1): ReLU(inplace=True)\\n\",\n              \"        (conv1): Conv2d(1824, 192, kernel_size=(1, 1), stride=(1, 1), bias=False)\\n\",\n              \"        (norm2): BatchNorm2d(192, eps=1e-05, momentum=0.1, affine=True, track_running_stats=True)\\n\",\n              \"        (relu2): ReLU(inplace=True)\\n\",\n              \"        (conv2): Conv2d(192, 48, kernel_size=(3, 3), stride=(1, 1), padding=(1, 1), bias=False)\\n\",\n              \"      )\\n\",\n              \"      (denselayer32): _DenseLayer(\\n\",\n              \"        (norm1): BatchNorm2d(1872, eps=1e-05, momentum=0.1, affine=True, track_running_stats=True)\\n\",\n              \"        (relu1): ReLU(inplace=True)\\n\",\n              \"        (conv1): Conv2d(1872, 192, kernel_size=(1, 1), stride=(1, 1), bias=False)\\n\",\n              \"        (norm2): BatchNorm2d(192, eps=1e-05, momentum=0.1, affine=True, track_running_stats=True)\\n\",\n              \"        (relu2): ReLU(inplace=True)\\n\",\n              \"        (conv2): Conv2d(192, 48, kernel_size=(3, 3), stride=(1, 1), padding=(1, 1), bias=False)\\n\",\n              \"      )\\n\",\n              \"      (denselayer33): _DenseLayer(\\n\",\n              \"        (norm1): BatchNorm2d(1920, eps=1e-05, momentum=0.1, affine=True, track_running_stats=True)\\n\",\n              \"        (relu1): ReLU(inplace=True)\\n\",\n              \"        (conv1): Conv2d(1920, 192, kernel_size=(1, 1), stride=(1, 1), bias=False)\\n\",\n              \"        (norm2): BatchNorm2d(192, eps=1e-05, momentum=0.1, affine=True, track_running_stats=True)\\n\",\n              \"        (relu2): ReLU(inplace=True)\\n\",\n              \"        (conv2): Conv2d(192, 48, kernel_size=(3, 3), stride=(1, 1), padding=(1, 1), bias=False)\\n\",\n              \"      )\\n\",\n              \"      (denselayer34): _DenseLayer(\\n\",\n              \"        (norm1): BatchNorm2d(1968, eps=1e-05, momentum=0.1, affine=True, track_running_stats=True)\\n\",\n              \"        (relu1): ReLU(inplace=True)\\n\",\n              \"        (conv1): Conv2d(1968, 192, kernel_size=(1, 1), stride=(1, 1), bias=False)\\n\",\n              \"        (norm2): BatchNorm2d(192, eps=1e-05, momentum=0.1, affine=True, track_running_stats=True)\\n\",\n              \"        (relu2): ReLU(inplace=True)\\n\",\n              \"        (conv2): Conv2d(192, 48, kernel_size=(3, 3), stride=(1, 1), padding=(1, 1), bias=False)\\n\",\n              \"      )\\n\",\n              \"      (denselayer35): _DenseLayer(\\n\",\n              \"        (norm1): BatchNorm2d(2016, eps=1e-05, momentum=0.1, affine=True, track_running_stats=True)\\n\",\n              \"        (relu1): ReLU(inplace=True)\\n\",\n              \"        (conv1): Conv2d(2016, 192, kernel_size=(1, 1), stride=(1, 1), bias=False)\\n\",\n              \"        (norm2): BatchNorm2d(192, eps=1e-05, momentum=0.1, affine=True, track_running_stats=True)\\n\",\n              \"        (relu2): ReLU(inplace=True)\\n\",\n              \"        (conv2): Conv2d(192, 48, kernel_size=(3, 3), stride=(1, 1), padding=(1, 1), bias=False)\\n\",\n              \"      )\\n\",\n              \"      (denselayer36): _DenseLayer(\\n\",\n              \"        (norm1): BatchNorm2d(2064, eps=1e-05, momentum=0.1, affine=True, track_running_stats=True)\\n\",\n              \"        (relu1): ReLU(inplace=True)\\n\",\n              \"        (conv1): Conv2d(2064, 192, kernel_size=(1, 1), stride=(1, 1), bias=False)\\n\",\n              \"        (norm2): BatchNorm2d(192, eps=1e-05, momentum=0.1, affine=True, track_running_stats=True)\\n\",\n              \"        (relu2): ReLU(inplace=True)\\n\",\n              \"        (conv2): Conv2d(192, 48, kernel_size=(3, 3), stride=(1, 1), padding=(1, 1), bias=False)\\n\",\n              \"      )\\n\",\n              \"    )\\n\",\n              \"    (transition3): _Transition(\\n\",\n              \"      (norm): BatchNorm2d(2112, eps=1e-05, momentum=0.1, affine=True, track_running_stats=True)\\n\",\n              \"      (relu): ReLU(inplace=True)\\n\",\n              \"      (conv): Conv2d(2112, 1056, kernel_size=(1, 1), stride=(1, 1), bias=False)\\n\",\n              \"      (pool): AvgPool2d(kernel_size=2, stride=2, padding=0)\\n\",\n              \"    )\\n\",\n              \"    (denseblock4): _DenseBlock(\\n\",\n              \"      (denselayer1): _DenseLayer(\\n\",\n              \"        (norm1): BatchNorm2d(1056, eps=1e-05, momentum=0.1, affine=True, track_running_stats=True)\\n\",\n              \"        (relu1): ReLU(inplace=True)\\n\",\n              \"        (conv1): Conv2d(1056, 192, kernel_size=(1, 1), stride=(1, 1), bias=False)\\n\",\n              \"        (norm2): BatchNorm2d(192, eps=1e-05, momentum=0.1, affine=True, track_running_stats=True)\\n\",\n              \"        (relu2): ReLU(inplace=True)\\n\",\n              \"        (conv2): Conv2d(192, 48, kernel_size=(3, 3), stride=(1, 1), padding=(1, 1), bias=False)\\n\",\n              \"      )\\n\",\n              \"      (denselayer2): _DenseLayer(\\n\",\n              \"        (norm1): BatchNorm2d(1104, eps=1e-05, momentum=0.1, affine=True, track_running_stats=True)\\n\",\n              \"        (relu1): ReLU(inplace=True)\\n\",\n              \"        (conv1): Conv2d(1104, 192, kernel_size=(1, 1), stride=(1, 1), bias=False)\\n\",\n              \"        (norm2): BatchNorm2d(192, eps=1e-05, momentum=0.1, affine=True, track_running_stats=True)\\n\",\n              \"        (relu2): ReLU(inplace=True)\\n\",\n              \"        (conv2): Conv2d(192, 48, kernel_size=(3, 3), stride=(1, 1), padding=(1, 1), bias=False)\\n\",\n              \"      )\\n\",\n              \"      (denselayer3): _DenseLayer(\\n\",\n              \"        (norm1): BatchNorm2d(1152, eps=1e-05, momentum=0.1, affine=True, track_running_stats=True)\\n\",\n              \"        (relu1): ReLU(inplace=True)\\n\",\n              \"        (conv1): Conv2d(1152, 192, kernel_size=(1, 1), stride=(1, 1), bias=False)\\n\",\n              \"        (norm2): BatchNorm2d(192, eps=1e-05, momentum=0.1, affine=True, track_running_stats=True)\\n\",\n              \"        (relu2): ReLU(inplace=True)\\n\",\n              \"        (conv2): Conv2d(192, 48, kernel_size=(3, 3), stride=(1, 1), padding=(1, 1), bias=False)\\n\",\n              \"      )\\n\",\n              \"      (denselayer4): _DenseLayer(\\n\",\n              \"        (norm1): BatchNorm2d(1200, eps=1e-05, momentum=0.1, affine=True, track_running_stats=True)\\n\",\n              \"        (relu1): ReLU(inplace=True)\\n\",\n              \"        (conv1): Conv2d(1200, 192, kernel_size=(1, 1), stride=(1, 1), bias=False)\\n\",\n              \"        (norm2): BatchNorm2d(192, eps=1e-05, momentum=0.1, affine=True, track_running_stats=True)\\n\",\n              \"        (relu2): ReLU(inplace=True)\\n\",\n              \"        (conv2): Conv2d(192, 48, kernel_size=(3, 3), stride=(1, 1), padding=(1, 1), bias=False)\\n\",\n              \"      )\\n\",\n              \"      (denselayer5): _DenseLayer(\\n\",\n              \"        (norm1): BatchNorm2d(1248, eps=1e-05, momentum=0.1, affine=True, track_running_stats=True)\\n\",\n              \"        (relu1): ReLU(inplace=True)\\n\",\n              \"        (conv1): Conv2d(1248, 192, kernel_size=(1, 1), stride=(1, 1), bias=False)\\n\",\n              \"        (norm2): BatchNorm2d(192, eps=1e-05, momentum=0.1, affine=True, track_running_stats=True)\\n\",\n              \"        (relu2): ReLU(inplace=True)\\n\",\n              \"        (conv2): Conv2d(192, 48, kernel_size=(3, 3), stride=(1, 1), padding=(1, 1), bias=False)\\n\",\n              \"      )\\n\",\n              \"      (denselayer6): _DenseLayer(\\n\",\n              \"        (norm1): BatchNorm2d(1296, eps=1e-05, momentum=0.1, affine=True, track_running_stats=True)\\n\",\n              \"        (relu1): ReLU(inplace=True)\\n\",\n              \"        (conv1): Conv2d(1296, 192, kernel_size=(1, 1), stride=(1, 1), bias=False)\\n\",\n              \"        (norm2): BatchNorm2d(192, eps=1e-05, momentum=0.1, affine=True, track_running_stats=True)\\n\",\n              \"        (relu2): ReLU(inplace=True)\\n\",\n              \"        (conv2): Conv2d(192, 48, kernel_size=(3, 3), stride=(1, 1), padding=(1, 1), bias=False)\\n\",\n              \"      )\\n\",\n              \"      (denselayer7): _DenseLayer(\\n\",\n              \"        (norm1): BatchNorm2d(1344, eps=1e-05, momentum=0.1, affine=True, track_running_stats=True)\\n\",\n              \"        (relu1): ReLU(inplace=True)\\n\",\n              \"        (conv1): Conv2d(1344, 192, kernel_size=(1, 1), stride=(1, 1), bias=False)\\n\",\n              \"        (norm2): BatchNorm2d(192, eps=1e-05, momentum=0.1, affine=True, track_running_stats=True)\\n\",\n              \"        (relu2): ReLU(inplace=True)\\n\",\n              \"        (conv2): Conv2d(192, 48, kernel_size=(3, 3), stride=(1, 1), padding=(1, 1), bias=False)\\n\",\n              \"      )\\n\",\n              \"      (denselayer8): _DenseLayer(\\n\",\n              \"        (norm1): BatchNorm2d(1392, eps=1e-05, momentum=0.1, affine=True, track_running_stats=True)\\n\",\n              \"        (relu1): ReLU(inplace=True)\\n\",\n              \"        (conv1): Conv2d(1392, 192, kernel_size=(1, 1), stride=(1, 1), bias=False)\\n\",\n              \"        (norm2): BatchNorm2d(192, eps=1e-05, momentum=0.1, affine=True, track_running_stats=True)\\n\",\n              \"        (relu2): ReLU(inplace=True)\\n\",\n              \"        (conv2): Conv2d(192, 48, kernel_size=(3, 3), stride=(1, 1), padding=(1, 1), bias=False)\\n\",\n              \"      )\\n\",\n              \"      (denselayer9): _DenseLayer(\\n\",\n              \"        (norm1): BatchNorm2d(1440, eps=1e-05, momentum=0.1, affine=True, track_running_stats=True)\\n\",\n              \"        (relu1): ReLU(inplace=True)\\n\",\n              \"        (conv1): Conv2d(1440, 192, kernel_size=(1, 1), stride=(1, 1), bias=False)\\n\",\n              \"        (norm2): BatchNorm2d(192, eps=1e-05, momentum=0.1, affine=True, track_running_stats=True)\\n\",\n              \"        (relu2): ReLU(inplace=True)\\n\",\n              \"        (conv2): Conv2d(192, 48, kernel_size=(3, 3), stride=(1, 1), padding=(1, 1), bias=False)\\n\",\n              \"      )\\n\",\n              \"      (denselayer10): _DenseLayer(\\n\",\n              \"        (norm1): BatchNorm2d(1488, eps=1e-05, momentum=0.1, affine=True, track_running_stats=True)\\n\",\n              \"        (relu1): ReLU(inplace=True)\\n\",\n              \"        (conv1): Conv2d(1488, 192, kernel_size=(1, 1), stride=(1, 1), bias=False)\\n\",\n              \"        (norm2): BatchNorm2d(192, eps=1e-05, momentum=0.1, affine=True, track_running_stats=True)\\n\",\n              \"        (relu2): ReLU(inplace=True)\\n\",\n              \"        (conv2): Conv2d(192, 48, kernel_size=(3, 3), stride=(1, 1), padding=(1, 1), bias=False)\\n\",\n              \"      )\\n\",\n              \"      (denselayer11): _DenseLayer(\\n\",\n              \"        (norm1): BatchNorm2d(1536, eps=1e-05, momentum=0.1, affine=True, track_running_stats=True)\\n\",\n              \"        (relu1): ReLU(inplace=True)\\n\",\n              \"        (conv1): Conv2d(1536, 192, kernel_size=(1, 1), stride=(1, 1), bias=False)\\n\",\n              \"        (norm2): BatchNorm2d(192, eps=1e-05, momentum=0.1, affine=True, track_running_stats=True)\\n\",\n              \"        (relu2): ReLU(inplace=True)\\n\",\n              \"        (conv2): Conv2d(192, 48, kernel_size=(3, 3), stride=(1, 1), padding=(1, 1), bias=False)\\n\",\n              \"      )\\n\",\n              \"      (denselayer12): _DenseLayer(\\n\",\n              \"        (norm1): BatchNorm2d(1584, eps=1e-05, momentum=0.1, affine=True, track_running_stats=True)\\n\",\n              \"        (relu1): ReLU(inplace=True)\\n\",\n              \"        (conv1): Conv2d(1584, 192, kernel_size=(1, 1), stride=(1, 1), bias=False)\\n\",\n              \"        (norm2): BatchNorm2d(192, eps=1e-05, momentum=0.1, affine=True, track_running_stats=True)\\n\",\n              \"        (relu2): ReLU(inplace=True)\\n\",\n              \"        (conv2): Conv2d(192, 48, kernel_size=(3, 3), stride=(1, 1), padding=(1, 1), bias=False)\\n\",\n              \"      )\\n\",\n              \"      (denselayer13): _DenseLayer(\\n\",\n              \"        (norm1): BatchNorm2d(1632, eps=1e-05, momentum=0.1, affine=True, track_running_stats=True)\\n\",\n              \"        (relu1): ReLU(inplace=True)\\n\",\n              \"        (conv1): Conv2d(1632, 192, kernel_size=(1, 1), stride=(1, 1), bias=False)\\n\",\n              \"        (norm2): BatchNorm2d(192, eps=1e-05, momentum=0.1, affine=True, track_running_stats=True)\\n\",\n              \"        (relu2): ReLU(inplace=True)\\n\",\n              \"        (conv2): Conv2d(192, 48, kernel_size=(3, 3), stride=(1, 1), padding=(1, 1), bias=False)\\n\",\n              \"      )\\n\",\n              \"      (denselayer14): _DenseLayer(\\n\",\n              \"        (norm1): BatchNorm2d(1680, eps=1e-05, momentum=0.1, affine=True, track_running_stats=True)\\n\",\n              \"        (relu1): ReLU(inplace=True)\\n\",\n              \"        (conv1): Conv2d(1680, 192, kernel_size=(1, 1), stride=(1, 1), bias=False)\\n\",\n              \"        (norm2): BatchNorm2d(192, eps=1e-05, momentum=0.1, affine=True, track_running_stats=True)\\n\",\n              \"        (relu2): ReLU(inplace=True)\\n\",\n              \"        (conv2): Conv2d(192, 48, kernel_size=(3, 3), stride=(1, 1), padding=(1, 1), bias=False)\\n\",\n              \"      )\\n\",\n              \"      (denselayer15): _DenseLayer(\\n\",\n              \"        (norm1): BatchNorm2d(1728, eps=1e-05, momentum=0.1, affine=True, track_running_stats=True)\\n\",\n              \"        (relu1): ReLU(inplace=True)\\n\",\n              \"        (conv1): Conv2d(1728, 192, kernel_size=(1, 1), stride=(1, 1), bias=False)\\n\",\n              \"        (norm2): BatchNorm2d(192, eps=1e-05, momentum=0.1, affine=True, track_running_stats=True)\\n\",\n              \"        (relu2): ReLU(inplace=True)\\n\",\n              \"        (conv2): Conv2d(192, 48, kernel_size=(3, 3), stride=(1, 1), padding=(1, 1), bias=False)\\n\",\n              \"      )\\n\",\n              \"      (denselayer16): _DenseLayer(\\n\",\n              \"        (norm1): BatchNorm2d(1776, eps=1e-05, momentum=0.1, affine=True, track_running_stats=True)\\n\",\n              \"        (relu1): ReLU(inplace=True)\\n\",\n              \"        (conv1): Conv2d(1776, 192, kernel_size=(1, 1), stride=(1, 1), bias=False)\\n\",\n              \"        (norm2): BatchNorm2d(192, eps=1e-05, momentum=0.1, affine=True, track_running_stats=True)\\n\",\n              \"        (relu2): ReLU(inplace=True)\\n\",\n              \"        (conv2): Conv2d(192, 48, kernel_size=(3, 3), stride=(1, 1), padding=(1, 1), bias=False)\\n\",\n              \"      )\\n\",\n              \"      (denselayer17): _DenseLayer(\\n\",\n              \"        (norm1): BatchNorm2d(1824, eps=1e-05, momentum=0.1, affine=True, track_running_stats=True)\\n\",\n              \"        (relu1): ReLU(inplace=True)\\n\",\n              \"        (conv1): Conv2d(1824, 192, kernel_size=(1, 1), stride=(1, 1), bias=False)\\n\",\n              \"        (norm2): BatchNorm2d(192, eps=1e-05, momentum=0.1, affine=True, track_running_stats=True)\\n\",\n              \"        (relu2): ReLU(inplace=True)\\n\",\n              \"        (conv2): Conv2d(192, 48, kernel_size=(3, 3), stride=(1, 1), padding=(1, 1), bias=False)\\n\",\n              \"      )\\n\",\n              \"      (denselayer18): _DenseLayer(\\n\",\n              \"        (norm1): BatchNorm2d(1872, eps=1e-05, momentum=0.1, affine=True, track_running_stats=True)\\n\",\n              \"        (relu1): ReLU(inplace=True)\\n\",\n              \"        (conv1): Conv2d(1872, 192, kernel_size=(1, 1), stride=(1, 1), bias=False)\\n\",\n              \"        (norm2): BatchNorm2d(192, eps=1e-05, momentum=0.1, affine=True, track_running_stats=True)\\n\",\n              \"        (relu2): ReLU(inplace=True)\\n\",\n              \"        (conv2): Conv2d(192, 48, kernel_size=(3, 3), stride=(1, 1), padding=(1, 1), bias=False)\\n\",\n              \"      )\\n\",\n              \"      (denselayer19): _DenseLayer(\\n\",\n              \"        (norm1): BatchNorm2d(1920, eps=1e-05, momentum=0.1, affine=True, track_running_stats=True)\\n\",\n              \"        (relu1): ReLU(inplace=True)\\n\",\n              \"        (conv1): Conv2d(1920, 192, kernel_size=(1, 1), stride=(1, 1), bias=False)\\n\",\n              \"        (norm2): BatchNorm2d(192, eps=1e-05, momentum=0.1, affine=True, track_running_stats=True)\\n\",\n              \"        (relu2): ReLU(inplace=True)\\n\",\n              \"        (conv2): Conv2d(192, 48, kernel_size=(3, 3), stride=(1, 1), padding=(1, 1), bias=False)\\n\",\n              \"      )\\n\",\n              \"      (denselayer20): _DenseLayer(\\n\",\n              \"        (norm1): BatchNorm2d(1968, eps=1e-05, momentum=0.1, affine=True, track_running_stats=True)\\n\",\n              \"        (relu1): ReLU(inplace=True)\\n\",\n              \"        (conv1): Conv2d(1968, 192, kernel_size=(1, 1), stride=(1, 1), bias=False)\\n\",\n              \"        (norm2): BatchNorm2d(192, eps=1e-05, momentum=0.1, affine=True, track_running_stats=True)\\n\",\n              \"        (relu2): ReLU(inplace=True)\\n\",\n              \"        (conv2): Conv2d(192, 48, kernel_size=(3, 3), stride=(1, 1), padding=(1, 1), bias=False)\\n\",\n              \"      )\\n\",\n              \"      (denselayer21): _DenseLayer(\\n\",\n              \"        (norm1): BatchNorm2d(2016, eps=1e-05, momentum=0.1, affine=True, track_running_stats=True)\\n\",\n              \"        (relu1): ReLU(inplace=True)\\n\",\n              \"        (conv1): Conv2d(2016, 192, kernel_size=(1, 1), stride=(1, 1), bias=False)\\n\",\n              \"        (norm2): BatchNorm2d(192, eps=1e-05, momentum=0.1, affine=True, track_running_stats=True)\\n\",\n              \"        (relu2): ReLU(inplace=True)\\n\",\n              \"        (conv2): Conv2d(192, 48, kernel_size=(3, 3), stride=(1, 1), padding=(1, 1), bias=False)\\n\",\n              \"      )\\n\",\n              \"      (denselayer22): _DenseLayer(\\n\",\n              \"        (norm1): BatchNorm2d(2064, eps=1e-05, momentum=0.1, affine=True, track_running_stats=True)\\n\",\n              \"        (relu1): ReLU(inplace=True)\\n\",\n              \"        (conv1): Conv2d(2064, 192, kernel_size=(1, 1), stride=(1, 1), bias=False)\\n\",\n              \"        (norm2): BatchNorm2d(192, eps=1e-05, momentum=0.1, affine=True, track_running_stats=True)\\n\",\n              \"        (relu2): ReLU(inplace=True)\\n\",\n              \"        (conv2): Conv2d(192, 48, kernel_size=(3, 3), stride=(1, 1), padding=(1, 1), bias=False)\\n\",\n              \"      )\\n\",\n              \"      (denselayer23): _DenseLayer(\\n\",\n              \"        (norm1): BatchNorm2d(2112, eps=1e-05, momentum=0.1, affine=True, track_running_stats=True)\\n\",\n              \"        (relu1): ReLU(inplace=True)\\n\",\n              \"        (conv1): Conv2d(2112, 192, kernel_size=(1, 1), stride=(1, 1), bias=False)\\n\",\n              \"        (norm2): BatchNorm2d(192, eps=1e-05, momentum=0.1, affine=True, track_running_stats=True)\\n\",\n              \"        (relu2): ReLU(inplace=True)\\n\",\n              \"        (conv2): Conv2d(192, 48, kernel_size=(3, 3), stride=(1, 1), padding=(1, 1), bias=False)\\n\",\n              \"      )\\n\",\n              \"      (denselayer24): _DenseLayer(\\n\",\n              \"        (norm1): BatchNorm2d(2160, eps=1e-05, momentum=0.1, affine=True, track_running_stats=True)\\n\",\n              \"        (relu1): ReLU(inplace=True)\\n\",\n              \"        (conv1): Conv2d(2160, 192, kernel_size=(1, 1), stride=(1, 1), bias=False)\\n\",\n              \"        (norm2): BatchNorm2d(192, eps=1e-05, momentum=0.1, affine=True, track_running_stats=True)\\n\",\n              \"        (relu2): ReLU(inplace=True)\\n\",\n              \"        (conv2): Conv2d(192, 48, kernel_size=(3, 3), stride=(1, 1), padding=(1, 1), bias=False)\\n\",\n              \"      )\\n\",\n              \"    )\\n\",\n              \"    (norm5): BatchNorm2d(2208, eps=1e-05, momentum=0.1, affine=True, track_running_stats=True)\\n\",\n              \"  )\\n\",\n              \"  (classifier): Linear(in_features=2208, out_features=1000, bias=True)\\n\",\n              \")\"\n            ]\n          },\n          \"metadata\": {},\n          \"execution_count\": 71\n        }\n      ]\n    },\n    {\n      \"cell_type\": \"code\",\n      \"execution_count\": null,\n      \"metadata\": {\n        \"ExecuteTime\": {\n          \"end_time\": \"2019-11-18T17:23:47.319979Z\",\n          \"start_time\": \"2019-11-18T17:23:47.316747Z\"\n        },\n        \"id\": \"g7d8QjgYAZ_g\"\n      },\n      \"outputs\": [],\n      \"source\": [\n        \"# Убираем требование градиента:\\n\",\n        \"for param in model.parameters():\\n\",\n        \"    param.requires_grad = False\"\n      ]\n    },\n    {\n      \"cell_type\": \"code\",\n      \"execution_count\": null,\n      \"metadata\": {\n        \"ExecuteTime\": {\n          \"end_time\": \"2019-11-18T17:24:04.770976Z\",\n          \"start_time\": \"2019-11-18T17:24:04.766810Z\"\n        },\n        \"colab\": {\n          \"base_uri\": \"https://localhost:8080/\"\n        },\n        \"outputId\": \"3e9aab48-7962-4898-a5bc-853a990d9391\",\n        \"id\": \"Lgexjk8JAZ_j\"\n      },\n      \"outputs\": [\n        {\n          \"output_type\": \"execute_result\",\n          \"data\": {\n            \"text/plain\": [\n              \"Linear(in_features=2208, out_features=1000, bias=True)\"\n            ]\n          },\n          \"metadata\": {},\n          \"execution_count\": 73\n        }\n      ],\n      \"source\": [\n        \"model.classifier\"\n      ]\n    },\n    {\n      \"cell_type\": \"code\",\n      \"execution_count\": null,\n      \"metadata\": {\n        \"ExecuteTime\": {\n          \"end_time\": \"2019-11-18T17:24:12.305790Z\",\n          \"start_time\": \"2019-11-18T17:24:12.302517Z\"\n        },\n        \"id\": \"uSzRrmxVAZ_l\"\n      },\n      \"outputs\": [],\n      \"source\": [\n        \"model.classifier = nn.Linear(in_features=2208, out_features=10)\"\n      ]\n    },\n    {\n      \"cell_type\": \"code\",\n      \"execution_count\": null,\n      \"metadata\": {\n        \"ExecuteTime\": {\n          \"end_time\": \"2019-11-18T17:24:42.228326Z\",\n          \"start_time\": \"2019-11-18T17:24:42.222643Z\"\n        },\n        \"colab\": {\n          \"base_uri\": \"https://localhost:8080/\"\n        },\n        \"outputId\": \"0207a878-ebc2-4a93-d353-867da3d22537\",\n        \"id\": \"RdlNjvJZAZ_n\"\n      },\n      \"outputs\": [\n        {\n          \"output_type\": \"stream\",\n          \"name\": \"stdout\",\n          \"text\": [\n            \"Params to learn:\\n\",\n            \"\\t classifier.weight\\n\",\n            \"\\t classifier.bias\\n\"\n          ]\n        }\n      ],\n      \"source\": [\n        \"print(\\\"Params to learn:\\\")\\n\",\n        \"params_to_update = []\\n\",\n        \"for name, param in model.named_parameters():\\n\",\n        \"    if param.requires_grad == True:\\n\",\n        \"        params_to_update.append(param)\\n\",\n        \"        print(\\\"\\\\t\\\",name)\"\n      ]\n    },\n    {\n      \"cell_type\": \"code\",\n      \"execution_count\": null,\n      \"metadata\": {\n        \"ExecuteTime\": {\n          \"end_time\": \"2019-11-18T17:25:11.558131Z\",\n          \"start_time\": \"2019-11-18T17:25:11.554358Z\"\n        },\n        \"id\": \"wJqgDnKIAZ_o\"\n      },\n      \"outputs\": [],\n      \"source\": [\n        \"trainer = torch.optim.Adam(params_to_update, lr=0.001)\"\n      ]\n    },\n    {\n      \"cell_type\": \"code\",\n      \"execution_count\": null,\n      \"metadata\": {\n        \"ExecuteTime\": {\n          \"end_time\": \"2019-11-18T17:26:20.718099Z\",\n          \"start_time\": \"2019-11-18T17:25:20.979097Z\"\n        },\n        \"colab\": {\n          \"base_uri\": \"https://localhost:8080/\"\n        },\n        \"outputId\": \"a0788b73-0de1-4542-fd69-c577a3d1c30b\",\n        \"id\": \"EqUMukocAZ_o\"\n      },\n      \"outputs\": [\n        {\n          \"output_type\": \"stream\",\n          \"name\": \"stdout\",\n          \"text\": [\n            \"Step 0. time since epoch: 2.244. Train acc: 0.086. Train Loss: 2.339\\n\",\n            \"Step 10. time since epoch: 24.914. Train acc: 0.429. Train Loss: 1.986\\n\",\n            \"Step 20. time since epoch: 47.535. Train acc: 0.586. Train Loss: 1.694\\n\",\n            \"Step 30. time since epoch: 69.426. Train acc: 0.656. Train Loss: 1.490\\n\",\n            \"Step 40. time since epoch: 91.260. Train acc: 0.696. Train Loss: 1.342\\n\",\n            \"Step 50. time since epoch: 113.317. Train acc: 0.729. Train Loss: 1.221\\n\",\n            \"Step 60. time since epoch: 135.461. Train acc: 0.751. Train Loss: 1.129\\n\",\n            \"Step 70. time since epoch: 157.398. Train acc: 0.769. Train Loss: 1.054\\n\",\n            \"Step 80. time since epoch: 179.258. Train acc: 0.785. Train Loss: 0.988\\n\",\n            \"Step 90. time since epoch: 201.216. Train acc: 0.797. Train Loss: 0.933\\n\",\n            \"Step 100. time since epoch: 223.297. Train acc: 0.808. Train Loss: 0.885\\n\",\n            \"Step 110. time since epoch: 245.309. Train acc: 0.816. Train Loss: 0.846\\n\",\n            \"Step 120. time since epoch: 267.280. Train acc: 0.823. Train Loss: 0.812\\n\",\n            \"Step 130. time since epoch: 289.308. Train acc: 0.829. Train Loss: 0.782\\n\",\n            \"Step 140. time since epoch: 311.312. Train acc: 0.836. Train Loss: 0.753\\n\",\n            \"Step 150. time since epoch: 333.347. Train acc: 0.841. Train Loss: 0.728\\n\",\n            \"Step 160. time since epoch: 355.412. Train acc: 0.846. Train Loss: 0.704\\n\",\n            \"Step 170. time since epoch: 377.504. Train acc: 0.850. Train Loss: 0.684\\n\",\n            \"Step 180. time since epoch: 399.516. Train acc: 0.854. Train Loss: 0.665\\n\",\n            \"Step 190. time since epoch: 421.542. Train acc: 0.857. Train Loss: 0.648\\n\",\n            \"Step 200. time since epoch: 443.604. Train acc: 0.860. Train Loss: 0.633\\n\",\n            \"Step 210. time since epoch: 465.628. Train acc: 0.864. Train Loss: 0.617\\n\",\n            \"Step 220. time since epoch: 487.720. Train acc: 0.867. Train Loss: 0.602\\n\",\n            \"Step 230. time since epoch: 509.771. Train acc: 0.870. Train Loss: 0.586\\n\",\n            \"--------------------\\n\",\n            \"epoch 1, loss 0.5819, train acc 0.871, test acc 0.930, time 585.2 sec\\n\"\n          ]\n        }\n      ],\n      \"source\": [\n        \"train(model, train_iter, test_iter, trainer, 1)\"\n      ]\n    }\n  ],\n  \"metadata\": {\n    \"kernelspec\": {\n      \"display_name\": \"Python 3\",\n      \"language\": \"python\",\n      \"name\": \"python3\"\n    },\n    \"language_info\": {\n      \"codemirror_mode\": {\n        \"name\": \"ipython\",\n        \"version\": 3\n      },\n      \"file_extension\": \".py\",\n      \"mimetype\": \"text/x-python\",\n      \"name\": \"python\",\n      \"nbconvert_exporter\": \"python\",\n      \"pygments_lexer\": \"ipython3\",\n      \"version\": \"3.7.1\"\n    },\n    \"colab\": {\n      \"provenance\": [],\n      \"toc_visible\": true\n    },\n    \"accelerator\": \"GPU\",\n    \"gpuClass\": \"standard\"\n  },\n  \"nbformat\": 4,\n  \"nbformat_minor\": 0\n}","colorizedLines":null,"stylingDirectives":null,"csv":null,"csvError":null,"dependabotInfo":{"showConfigurationBanner":false,"configFilePath":null,"networkDependabotPath":"/netology-ds-team/DLL/network/updates","dismissConfigurationNoticePath":"/settings/dismiss-notice/dependabot_configuration_notice","configurationNoticeDismissed":false,"repoAlertsPath":"/netology-ds-team/DLL/security/dependabot","repoSecurityAndAnalysisPath":"/netology-ds-team/DLL/settings/security_analysis","repoOwnerIsOrg":true,"currentUserCanAdminRepo":false},"displayName":"Занятие 4. Архитектуры сверточных сетей.ipynb","displayUrl":"https://notebooks.githubusercontent.com/view/ipynb?browser=chrome\u0026bypass_fastly=true\u0026color_mode=auto\u0026commit=d5712a292bc5bec8d3d5354a1eb5d24b2e94f2f4\u0026device=unknown_device\u0026docs_host=https%3A%2F%2Fdocs.github.com\u0026enc_url=68747470733a2f2f7261772e67697468756275736572636f6e74656e742e636f6d2f6e65746f6c6f67792d64732d7465616d2f444c4c2f643537313261323932626335626563386433643533353461316562356432346232653934663266342f444c4c2d6d6174657269616c732f254430253937254430254230254430254244254431253846254431253832254430254238254430254235253230342e2532302544302539302544312538302544312538352544302542382544312538322544302542352544302542412544312538322544312538332544312538302544312538422532302544312538312544302542322544302542352544312538302544312538322544302542452544312538372544302542442544312538422544312538352532302544312538312544302542352544312538322544302542352544302542392e6970796e62\u0026logged_in=true\u0026nwo=netology-ds-team%2FDLL\u0026path=DLL-materials%2F%D0%97%D0%B0%D0%BD%D1%8F%D1%82%D0%B8%D0%B5+4.+%D0%90%D1%80%D1%85%D0%B8%D1%82%D0%B5%D0%BA%D1%82%D1%83%D1%80%D1%8B+%D1%81%D0%B2%D0%B5%D1%80%D1%82%D0%BE%D1%87%D0%BD%D1%8B%D1%85+%D1%81%D0%B5%D1%82%D0%B5%D0%B9.ipynb\u0026platform=windows\u0026repository_id=595657061\u0026repository_type=Repository\u0026version=114","headerInfo":{"blobSize":"131 KB","deleteInfo":{"deletePath":"https://github.com/netology-ds-team/DLL/delete/main/DLL-materials/%D0%97%D0%B0%D0%BD%D1%8F%D1%82%D0%B8%D0%B5%204.%20%D0%90%D1%80%D1%85%D0%B8%D1%82%D0%B5%D0%BA%D1%82%D1%83%D1%80%D1%8B%20%D1%81%D0%B2%D0%B5%D1%80%D1%82%D0%BE%D1%87%D0%BD%D1%8B%D1%85%20%D1%81%D0%B5%D1%82%D0%B5%D0%B9.ipynb","deleteTooltip":"Fork this repository and delete the file"},"editInfo":{"editTooltip":"Fork this repository and edit the file"},"ghDesktopPath":"x-github-client://openRepo/https://github.com/netology-ds-team/DLL?branch=main\u0026filepath=DLL-materials%2F%D0%97%D0%B0%D0%BD%D1%8F%D1%82%D0%B8%D0%B5%204.%20%D0%90%D1%80%D1%85%D0%B8%D1%82%D0%B5%D0%BA%D1%82%D1%83%D1%80%D1%8B%20%D1%81%D0%B2%D0%B5%D1%80%D1%82%D0%BE%D1%87%D0%BD%D1%8B%D1%85%20%D1%81%D0%B5%D1%82%D0%B5%D0%B9.ipynb","gitLfsPath":null,"onBranch":true,"shortPath":"de1b8f3","siteNavLoginPath":"/login?return_to=https%3A%2F%2Fgithub.com%2Fnetology-ds-team%2FDLL%2Fblob%2Fmain%2FDLL-materials%2F%25D0%2597%25D0%25B0%25D0%25BD%25D1%258F%25D1%2582%25D0%25B8%25D0%25B5%25204.%2520%25D0%2590%25D1%2580%25D1%2585%25D0%25B8%25D1%2582%25D0%25B5%25D0%25BA%25D1%2582%25D1%2583%25D1%2580%25D1%258B%2520%25D1%2581%25D0%25B2%25D0%25B5%25D1%2580%25D1%2582%25D0%25BE%25D1%2587%25D0%25BD%25D1%258B%25D1%2585%2520%25D1%2581%25D0%25B5%25D1%2582%25D0%25B5%25D0%25B9.ipynb","isCSV":false,"isRichtext":false,"toc":null,"lineInfo":{"truncatedLoc":"2490","truncatedSloc":"2490"},"mode":"file"},"image":false,"isCodeownersFile":null,"isValidLegacyIssueTemplate":false,"issueTemplateHelpUrl":"https://docs.github.com/articles/about-issue-and-pull-request-templates","issueTemplate":null,"discussionTemplate":null,"language":"Jupyter Notebook","large":false,"loggedIn":true,"newDiscussionPath":"/netology-ds-team/DLL/discussions/new","newIssuePath":"/netology-ds-team/DLL/issues/new","planSupportInfo":{"repoIsFork":null,"repoOwnedByCurrentUser":null,"requestFullPath":"/netology-ds-team/DLL/blob/main/DLL-materials/%D0%97%D0%B0%D0%BD%D1%8F%D1%82%D0%B8%D0%B5%204.%20%D0%90%D1%80%D1%85%D0%B8%D1%82%D0%B5%D0%BA%D1%82%D1%83%D1%80%D1%8B%20%D1%81%D0%B2%D0%B5%D1%80%D1%82%D0%BE%D1%87%D0%BD%D1%8B%D1%85%20%D1%81%D0%B5%D1%82%D0%B5%D0%B9.ipynb","showFreeOrgGatedFeatureMessage":null,"showPlanSupportBanner":null,"upgradeDataAttributes":null,"upgradePath":null},"publishBannersInfo":{"dismissActionNoticePath":"/settings/dismiss-notice/publish_action_from_dockerfile","dismissStackNoticePath":"/settings/dismiss-notice/publish_stack_from_file","releasePath":"/netology-ds-team/DLL/releases/new?marketplace=true","showPublishActionBanner":false,"showPublishStackBanner":false},"renderImageOrRaw":false,"richText":null,"renderedFileInfo":{"identityUUID":"f68dde7c-d136-479e-9c2a-6197bf403441","renderFileType":"ipynb","size":133722},"tabSize":8,"topBannersInfo":{"overridingGlobalFundingFile":false,"globalPreferredFundingPath":null,"repoOwner":"netology-ds-team","repoName":"DLL","showInvalidCitationWarning":false,"citationHelpUrl":"https://docs.github.com/en/github/creating-cloning-and-archiving-repositories/creating-a-repository-on-github/about-citation-files","showDependabotConfigurationBanner":false,"actionsOnboardingTip":null},"truncated":false,"viewable":true,"workflowRedirectUrl":null,"symbols":{"timedOut":false,"notAnalyzed":true,"symbols":[]}},"csrf_tokens":{"/netology-ds-team/DLL/branches":{"post":"pJZXnPl2g_CCzhYzUYIDpzgS-FIii5bxDbQaOHB4-Dy15rC4G_awNVm0pKCWteD6tuEpggIltAQORo3NdZ6nmw"}}},"title":"DLL/Занятие 4. Архитектуры сверточных сетей.ipynb at main · netology-ds-team/DLL","locale":"en","appPayload":{"helpUrl":"https://docs.github.com","findFileWorkerPath":"/assets-cdn/worker/find-file-worker-848bb9a5da17.js","findInFileWorkerPath":"/assets-cdn/worker/find-in-file-worker-8812f8040df6.js","githubDevUrl":"https://github.dev/","enabled_features":{"virtualize_file_tree":true,"react_repos_overview":false,"repos_new_shortcut_enabled":false,"blob_navigation_cursor":true,"code_nav_ui_events":false,"ref_selector_v2":false,"codeview_codemirror_next":false,"copilot_conversational_ux":false}}}</script>
  <div data-target="react-app.reactRoot"></div>
</react-app>
</turbo-frame>



  </div>

</turbo-frame>

    </main>
  </div>

  </div>

          <footer class="footer width-full container-xl p-responsive" role="contentinfo">
  <h2 class='sr-only'>Footer</h2>

  <div class="position-relative d-flex flex-items-center pb-2 f6 color-fg-muted border-top color-border-muted flex-column-reverse flex-lg-row flex-wrap flex-lg-nowrap mt-6 pt-6">
    <div class="list-style-none d-flex flex-wrap col-0 col-lg-2 flex-justify-start flex-lg-justify-between mb-2 mb-lg-0">
      <div class="mt-2 mt-lg-0 d-flex flex-items-center">
        <a aria-label="Homepage" title="GitHub" class="footer-octicon mr-2" href="https://github.com">
          <svg aria-hidden="true" height="24" viewBox="0 0 16 16" version="1.1" width="24" data-view-component="true" class="octicon octicon-mark-github">
    <path d="M8 0c4.42 0 8 3.58 8 8a8.013 8.013 0 0 1-5.45 7.59c-.4.08-.55-.17-.55-.38 0-.27.01-1.13.01-2.2 0-.75-.25-1.23-.54-1.48 1.78-.2 3.65-.88 3.65-3.95 0-.88-.31-1.59-.82-2.15.08-.2.36-1.02-.08-2.12 0 0-.67-.22-2.2.82-.64-.18-1.32-.27-2-.27-.68 0-1.36.09-2 .27-1.53-1.03-2.2-.82-2.2-.82-.44 1.1-.16 1.92-.08 2.12-.51.56-.82 1.28-.82 2.15 0 3.06 1.86 3.75 3.64 3.95-.23.2-.44.55-.51 1.07-.46.21-1.61.55-2.33-.66-.15-.24-.6-.83-1.23-.82-.67.01-.27.38.01.53.34.19.73.9.82 1.13.16.45.68 1.31 2.69.94 0 .67.01 1.3.01 1.49 0 .21-.15.45-.55.38A7.995 7.995 0 0 1 0 8c0-4.42 3.58-8 8-8Z"></path>
</svg>
</a>        <span>
        &copy; 2023 GitHub, Inc.
        </span>
      </div>
    </div>

    <nav aria-label='Footer' class="col-12 col-lg-8">
      <h3 class='sr-only' id='sr-footer-heading'>Footer navigation</h3>
      <ul class="list-style-none d-flex flex-wrap col-12 flex-justify-center flex-lg-justify-between mb-2 mb-lg-0" aria-labelledby='sr-footer-heading'>
          <li class="mr-3 mr-lg-0"><a href="https://docs.github.com/site-policy/github-terms/github-terms-of-service" data-analytics-event="{&quot;category&quot;:&quot;Footer&quot;,&quot;action&quot;:&quot;go to terms&quot;,&quot;label&quot;:&quot;text:terms&quot;}">Terms</a></li>
          <li class="mr-3 mr-lg-0"><a href="https://docs.github.com/site-policy/privacy-policies/github-privacy-statement" data-analytics-event="{&quot;category&quot;:&quot;Footer&quot;,&quot;action&quot;:&quot;go to privacy&quot;,&quot;label&quot;:&quot;text:privacy&quot;}">Privacy</a></li>
          <li class="mr-3 mr-lg-0"><a data-analytics-event="{&quot;category&quot;:&quot;Footer&quot;,&quot;action&quot;:&quot;go to security&quot;,&quot;label&quot;:&quot;text:security&quot;}" href="https://github.com/security">Security</a></li>
          <li class="mr-3 mr-lg-0"><a href="https://www.githubstatus.com/" data-analytics-event="{&quot;category&quot;:&quot;Footer&quot;,&quot;action&quot;:&quot;go to status&quot;,&quot;label&quot;:&quot;text:status&quot;}">Status</a></li>
          <li class="mr-3 mr-lg-0"><a data-ga-click="Footer, go to help, text:Docs" href="https://docs.github.com">Docs</a></li>
          <li class="mr-3 mr-lg-0"><a href="https://support.github.com?tags=dotcom-footer" data-analytics-event="{&quot;category&quot;:&quot;Footer&quot;,&quot;action&quot;:&quot;go to contact&quot;,&quot;label&quot;:&quot;text:contact&quot;}">Contact GitHub</a></li>
          <li class="mr-3 mr-lg-0"><a href="https://github.com/pricing" data-analytics-event="{&quot;category&quot;:&quot;Footer&quot;,&quot;action&quot;:&quot;go to Pricing&quot;,&quot;label&quot;:&quot;text:Pricing&quot;}">Pricing</a></li>
        <li class="mr-3 mr-lg-0"><a href="https://docs.github.com" data-analytics-event="{&quot;category&quot;:&quot;Footer&quot;,&quot;action&quot;:&quot;go to api&quot;,&quot;label&quot;:&quot;text:api&quot;}">API</a></li>
        <li class="mr-3 mr-lg-0"><a href="https://services.github.com" data-analytics-event="{&quot;category&quot;:&quot;Footer&quot;,&quot;action&quot;:&quot;go to training&quot;,&quot;label&quot;:&quot;text:training&quot;}">Training</a></li>
          <li class="mr-3 mr-lg-0"><a href="https://github.blog" data-analytics-event="{&quot;category&quot;:&quot;Footer&quot;,&quot;action&quot;:&quot;go to blog&quot;,&quot;label&quot;:&quot;text:blog&quot;}">Blog</a></li>
          <li><a data-ga-click="Footer, go to about, text:about" href="https://github.com/about">About</a></li>
      </ul>
    </nav>
  </div>

  <div class="d-flex flex-justify-center pb-6">
    <span class="f6 color-fg-muted"></span>
  </div>
</footer>




  <div id="ajax-error-message" class="ajax-error-message flash flash-error" hidden>
    <svg aria-hidden="true" height="16" viewBox="0 0 16 16" version="1.1" width="16" data-view-component="true" class="octicon octicon-alert">
    <path d="M6.457 1.047c.659-1.234 2.427-1.234 3.086 0l6.082 11.378A1.75 1.75 0 0 1 14.082 15H1.918a1.75 1.75 0 0 1-1.543-2.575Zm1.763.707a.25.25 0 0 0-.44 0L1.698 13.132a.25.25 0 0 0 .22.368h12.164a.25.25 0 0 0 .22-.368Zm.53 3.996v2.5a.75.75 0 0 1-1.5 0v-2.5a.75.75 0 0 1 1.5 0ZM9 11a1 1 0 1 1-2 0 1 1 0 0 1 2 0Z"></path>
</svg>
    <button type="button" class="flash-close js-ajax-error-dismiss" aria-label="Dismiss error">
      <svg aria-hidden="true" height="16" viewBox="0 0 16 16" version="1.1" width="16" data-view-component="true" class="octicon octicon-x">
    <path d="M3.72 3.72a.75.75 0 0 1 1.06 0L8 6.94l3.22-3.22a.749.749 0 0 1 1.275.326.749.749 0 0 1-.215.734L9.06 8l3.22 3.22a.749.749 0 0 1-.326 1.275.749.749 0 0 1-.734-.215L8 9.06l-3.22 3.22a.751.751 0 0 1-1.042-.018.751.751 0 0 1-.018-1.042L6.94 8 3.72 4.78a.75.75 0 0 1 0-1.06Z"></path>
</svg>
    </button>
    You can’t perform that action at this time.
  </div>

  <div class="js-stale-session-flash flash flash-warn flash-banner" hidden
    >
    <svg aria-hidden="true" height="16" viewBox="0 0 16 16" version="1.1" width="16" data-view-component="true" class="octicon octicon-alert">
    <path d="M6.457 1.047c.659-1.234 2.427-1.234 3.086 0l6.082 11.378A1.75 1.75 0 0 1 14.082 15H1.918a1.75 1.75 0 0 1-1.543-2.575Zm1.763.707a.25.25 0 0 0-.44 0L1.698 13.132a.25.25 0 0 0 .22.368h12.164a.25.25 0 0 0 .22-.368Zm.53 3.996v2.5a.75.75 0 0 1-1.5 0v-2.5a.75.75 0 0 1 1.5 0ZM9 11a1 1 0 1 1-2 0 1 1 0 0 1 2 0Z"></path>
</svg>
    <span class="js-stale-session-flash-signed-in" hidden>You signed in with another tab or window. <a href="">Reload</a> to refresh your session.</span>
    <span class="js-stale-session-flash-signed-out" hidden>You signed out in another tab or window. <a href="">Reload</a> to refresh your session.</span>
  </div>
    <template id="site-details-dialog">
  <details class="details-reset details-overlay details-overlay-dark lh-default color-fg-default hx_rsm" open>
    <summary role="button" aria-label="Close dialog"></summary>
    <details-dialog class="Box Box--overlay d-flex flex-column anim-fade-in fast hx_rsm-dialog hx_rsm-modal">
      <button class="Box-btn-octicon m-0 btn-octicon position-absolute right-0 top-0" type="button" aria-label="Close dialog" data-close-dialog>
        <svg aria-hidden="true" height="16" viewBox="0 0 16 16" version="1.1" width="16" data-view-component="true" class="octicon octicon-x">
    <path d="M3.72 3.72a.75.75 0 0 1 1.06 0L8 6.94l3.22-3.22a.749.749 0 0 1 1.275.326.749.749 0 0 1-.215.734L9.06 8l3.22 3.22a.749.749 0 0 1-.326 1.275.749.749 0 0 1-.734-.215L8 9.06l-3.22 3.22a.751.751 0 0 1-1.042-.018.751.751 0 0 1-.018-1.042L6.94 8 3.72 4.78a.75.75 0 0 1 0-1.06Z"></path>
</svg>
      </button>
      <div class="octocat-spinner my-6 js-details-dialog-spinner"></div>
    </details-dialog>
  </details>
</template>

    <div class="Popover js-hovercard-content position-absolute" style="display: none; outline: none;" tabindex="0">
  <div class="Popover-message Popover-message--bottom-left Popover-message--large Box color-shadow-large" style="width:360px;">
  </div>
</div>

    <template id="snippet-clipboard-copy-button">
  <div class="zeroclipboard-container position-absolute right-0 top-0">
    <clipboard-copy aria-label="Copy" class="ClipboardButton btn js-clipboard-copy m-2 p-0 tooltipped-no-delay" data-copy-feedback="Copied!" data-tooltip-direction="w">
      <svg aria-hidden="true" height="16" viewBox="0 0 16 16" version="1.1" width="16" data-view-component="true" class="octicon octicon-copy js-clipboard-copy-icon m-2">
    <path d="M0 6.75C0 5.784.784 5 1.75 5h1.5a.75.75 0 0 1 0 1.5h-1.5a.25.25 0 0 0-.25.25v7.5c0 .138.112.25.25.25h7.5a.25.25 0 0 0 .25-.25v-1.5a.75.75 0 0 1 1.5 0v1.5A1.75 1.75 0 0 1 9.25 16h-7.5A1.75 1.75 0 0 1 0 14.25Z"></path><path d="M5 1.75C5 .784 5.784 0 6.75 0h7.5C15.216 0 16 .784 16 1.75v7.5A1.75 1.75 0 0 1 14.25 11h-7.5A1.75 1.75 0 0 1 5 9.25Zm1.75-.25a.25.25 0 0 0-.25.25v7.5c0 .138.112.25.25.25h7.5a.25.25 0 0 0 .25-.25v-7.5a.25.25 0 0 0-.25-.25Z"></path>
</svg>
      <svg aria-hidden="true" height="16" viewBox="0 0 16 16" version="1.1" width="16" data-view-component="true" class="octicon octicon-check js-clipboard-check-icon color-fg-success d-none m-2">
    <path d="M13.78 4.22a.75.75 0 0 1 0 1.06l-7.25 7.25a.75.75 0 0 1-1.06 0L2.22 9.28a.751.751 0 0 1 .018-1.042.751.751 0 0 1 1.042-.018L6 10.94l6.72-6.72a.75.75 0 0 1 1.06 0Z"></path>
</svg>
    </clipboard-copy>
  </div>
</template>
<template id="snippet-clipboard-copy-button-unpositioned">
  <div class="zeroclipboard-container">
    <clipboard-copy aria-label="Copy" class="ClipboardButton btn btn-invisible js-clipboard-copy m-2 p-0 tooltipped-no-delay d-flex flex-justify-center flex-items-center" data-copy-feedback="Copied!" data-tooltip-direction="w">
      <svg aria-hidden="true" height="16" viewBox="0 0 16 16" version="1.1" width="16" data-view-component="true" class="octicon octicon-copy js-clipboard-copy-icon">
    <path d="M0 6.75C0 5.784.784 5 1.75 5h1.5a.75.75 0 0 1 0 1.5h-1.5a.25.25 0 0 0-.25.25v7.5c0 .138.112.25.25.25h7.5a.25.25 0 0 0 .25-.25v-1.5a.75.75 0 0 1 1.5 0v1.5A1.75 1.75 0 0 1 9.25 16h-7.5A1.75 1.75 0 0 1 0 14.25Z"></path><path d="M5 1.75C5 .784 5.784 0 6.75 0h7.5C15.216 0 16 .784 16 1.75v7.5A1.75 1.75 0 0 1 14.25 11h-7.5A1.75 1.75 0 0 1 5 9.25Zm1.75-.25a.25.25 0 0 0-.25.25v7.5c0 .138.112.25.25.25h7.5a.25.25 0 0 0 .25-.25v-7.5a.25.25 0 0 0-.25-.25Z"></path>
</svg>
      <svg aria-hidden="true" height="16" viewBox="0 0 16 16" version="1.1" width="16" data-view-component="true" class="octicon octicon-check js-clipboard-check-icon color-fg-success d-none">
    <path d="M13.78 4.22a.75.75 0 0 1 0 1.06l-7.25 7.25a.75.75 0 0 1-1.06 0L2.22 9.28a.751.751 0 0 1 .018-1.042.751.751 0 0 1 1.042-.018L6 10.94l6.72-6.72a.75.75 0 0 1 1.06 0Z"></path>
</svg>
    </clipboard-copy>
  </div>
</template>


    <style>
      .user-mention[href$="/vn322"] {
        color: var(--color-user-mention-fg);
        background-color: var(--color-user-mention-bg);
        border-radius: 2px;
        margin-left: -2px;
        margin-right: -2px;
        padding: 0 2px;
      }
    </style>


    </div>

    <div id="js-global-screen-reader-notice" class="sr-only" aria-live="polite" ></div>
  </body>
</html>

