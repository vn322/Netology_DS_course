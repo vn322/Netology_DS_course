{
  "nbformat": 4,
  "nbformat_minor": 0,
  "metadata": {
    "colab": {
      "provenance": []
    },
    "kernelspec": {
      "display_name": "Python 3",
      "language": "python",
      "name": "python3"
    },
    "language_info": {
      "codemirror_mode": {
        "name": "ipython",
        "version": 3
      },
      "file_extension": ".py",
      "mimetype": "text/x-python",
      "name": "python",
      "nbconvert_exporter": "python",
      "pygments_lexer": "ipython3",
      "version": "3.7.1"
    }
  },
  "cells": [
    {
      "cell_type": "code",
      "metadata": {
        "id": "WGoorsK6mPZP"
      },
      "source": [
        "import matplotlib.pyplot as plt\n",
        "%matplotlib inline"
      ],
      "execution_count": null,
      "outputs": []
    },
    {
      "cell_type": "code",
      "metadata": {
        "id": "WIcNCt4ZmPZZ"
      },
      "source": [
        "import torch"
      ],
      "execution_count": null,
      "outputs": []
    },
    {
      "cell_type": "code",
      "metadata": {
        "id": "yiHPlx2wmPZe"
      },
      "source": [
        "import numpy as np"
      ],
      "execution_count": null,
      "outputs": []
    },
    {
      "cell_type": "markdown",
      "metadata": {
        "id": "uTrwDt0OmPZj"
      },
      "source": [
        "## MLP"
      ]
    },
    {
      "cell_type": "markdown",
      "metadata": {
        "id": "BQEb43_PmPZk"
      },
      "source": [
        "## Данные"
      ]
    },
    {
      "cell_type": "code",
      "metadata": {
        "id": "RAge7EI-mPZl"
      },
      "source": [
        "import torchvision as tv"
      ],
      "execution_count": null,
      "outputs": []
    },
    {
      "cell_type": "code",
      "source": [
        "import pandas as pd\n",
        "import numpy as np"
      ],
      "metadata": {
        "id": "-UsgWaRFczpO"
      },
      "execution_count": null,
      "outputs": []
    },
    {
      "cell_type": "code",
      "metadata": {
        "id": "Nd6TznshmPZp"
      },
      "source": [
        "import time"
      ],
      "execution_count": null,
      "outputs": []
    },
    {
      "cell_type": "code",
      "metadata": {
        "id": "qb_NW7cVmPZs"
      },
      "source": [
        "BATCH_SIZE=256"
      ],
      "execution_count": null,
      "outputs": []
    },
    {
      "cell_type": "code",
      "metadata": {
        "colab": {
          "base_uri": "https://localhost:8080/"
        },
        "id": "Kw5Kv2i6mPZu",
        "outputId": "abec58e9-6ac4-4622-af32-8d4ddc849f3d"
      },
      "source": [
        "train_dataset = tv.datasets.MNIST('.', train=True, transform=tv.transforms.ToTensor(), download=True)\n",
        "test_dataset = tv.datasets.MNIST('.', train=False, transform=tv.transforms.ToTensor(), download=True)\n",
        "train = torch.utils.data.DataLoader(train_dataset, batch_size=BATCH_SIZE)\n",
        "test = torch.utils.data.DataLoader(test_dataset, batch_size=BATCH_SIZE)"
      ],
      "execution_count": null,
      "outputs": [
        {
          "name": "stderr",
          "output_type": "stream",
          "text": [
            "/usr/local/lib/python3.7/dist-packages/torchvision/datasets/mnist.py:498: UserWarning: The given NumPy array is not writeable, and PyTorch does not support non-writeable tensors. This means you can write to the underlying (supposedly non-writeable) NumPy array using the tensor. You may want to copy the array to protect its data or make it writeable before converting it to a tensor. This type of warning will be suppressed for the rest of this program. (Triggered internally at  /pytorch/torch/csrc/utils/tensor_numpy.cpp:180.)\n",
            "  return torch.from_numpy(parsed.astype(m[2], copy=False)).view(*s)\n"
          ]
        }
      ]
    },
    {
      "cell_type": "code",
      "metadata": {
        "colab": {
          "base_uri": "https://localhost:8080/"
        },
        "id": "SKhbDXt_mPZ0",
        "outputId": "66b128e2-7689-4369-8002-030222b445f1"
      },
      "source": [
        "train_dataset[0][0].shape"
      ],
      "execution_count": null,
      "outputs": [
        {
          "data": {
            "text/plain": [
              "torch.Size([1, 28, 28])"
            ]
          },
          "execution_count": 12,
          "metadata": {},
          "output_type": "execute_result"
        }
      ]
    },
    {
      "cell_type": "markdown",
      "metadata": {
        "id": "-LcgNXwOmPZ5"
      },
      "source": [
        "## Модель"
      ]
    },
    {
      "cell_type": "code",
      "metadata": {
        "id": "V7qWC2EbmPZ5"
      },
      "source": [
        "model = torch.nn.Sequential(\n",
        "    torch.nn.Flatten(),\n",
        "    torch.nn.Linear(784, 256),\n",
        "    torch.nn.ReLU(),\n",
        "    torch.nn.Linear(256, 10)\n",
        ")"
      ],
      "execution_count": null,
      "outputs": []
    },
    {
      "cell_type": "code",
      "metadata": {
        "colab": {
          "base_uri": "https://localhost:8080/"
        },
        "id": "p36P60xZALtj",
        "outputId": "280aa8a3-b94b-4a13-9e27-56e01c1acb94"
      },
      "source": [
        "model"
      ],
      "execution_count": null,
      "outputs": [
        {
          "data": {
            "text/plain": [
              "Sequential(\n",
              "  (0): Flatten(start_dim=1, end_dim=-1)\n",
              "  (1): Linear(in_features=784, out_features=256, bias=True)\n",
              "  (2): ReLU()\n",
              "  (3): Linear(in_features=256, out_features=10, bias=True)\n",
              ")"
            ]
          },
          "execution_count": 15,
          "metadata": {},
          "output_type": "execute_result"
        }
      ]
    },
    {
      "cell_type": "code",
      "metadata": {
        "id": "fDqkL214mPZ7"
      },
      "source": [
        "loss = torch.nn.CrossEntropyLoss()\n",
        "trainer = torch.optim.SGD(model.parameters(), lr=.01)\n",
        "num_epochs = 10"
      ],
      "execution_count": null,
      "outputs": []
    },
    {
      "cell_type": "code",
      "metadata": {
        "id": "5ZF9RBZomPZ-"
      },
      "source": [
        "import time"
      ],
      "execution_count": null,
      "outputs": []
    },
    {
      "cell_type": "code",
      "metadata": {
        "id": "vVqz1hvTmPaA"
      },
      "source": [
        "def train_model():\n",
        "    for ep in range(num_epochs):\n",
        "        train_iters, train_passed  = 0, 0\n",
        "        train_loss, train_acc = 0., 0.\n",
        "        start=time.time()\n",
        "        \n",
        "        model.train()\n",
        "        for X, y in train:\n",
        "            trainer.zero_grad()\n",
        "            y_pred = model(X)\n",
        "            l = loss(y_pred, y)\n",
        "            l.backward()\n",
        "            trainer.step()\n",
        "            train_loss += l.item()\n",
        "            train_acc += (y_pred.argmax(dim=1) == y).sum().item()\n",
        "            train_iters += 1\n",
        "            train_passed += len(X)\n",
        "        \n",
        "        test_iters, test_passed  = 0, 0\n",
        "        test_loss, test_acc = 0., 0.\n",
        "        model.eval()\n",
        "        for X, y in test:\n",
        "            y_pred = model(X)\n",
        "            l = loss(y_pred, y)\n",
        "            test_loss += l.item()\n",
        "            test_acc += (y_pred.argmax(dim=1) == y).sum().item()\n",
        "            test_iters += 1\n",
        "            test_passed += len(X)\n",
        "            \n",
        "        print(\"ep: {}, taked: {:.3f}, train_loss: {}, train_acc: {}, test_loss: {}, test_acc: {}\".format(\n",
        "            ep, time.time() - start, train_loss / train_iters, train_acc / train_passed,\n",
        "            test_loss / test_iters, test_acc / test_passed)\n",
        "        )"
      ],
      "execution_count": null,
      "outputs": []
    },
    {
      "cell_type": "code",
      "metadata": {
        "colab": {
          "base_uri": "https://localhost:8080/"
        },
        "id": "XbXgnTAKPyi2",
        "outputId": "e02473fd-8513-4314-b588-63d866acc887"
      },
      "source": [
        "train_model()"
      ],
      "execution_count": null,
      "outputs": [
        {
          "name": "stdout",
          "output_type": "stream",
          "text": [
            "ep: 0, taked: 7.068, train_loss: 2.020053201026105, train_acc: 0.5820166666666666, test_loss: 1.6473675429821015, test_acc: 0.7414\n",
            "ep: 1, taked: 6.694, train_loss: 1.3023800175240698, train_acc: 0.7720666666666667, test_loss: 0.9819321855902672, test_acc: 0.8196\n",
            "ep: 2, taked: 6.676, train_loss: 0.8469797077331137, train_acc: 0.8291666666666667, test_loss: 0.6995438672602177, test_acc: 0.8535\n",
            "ep: 3, taked: 6.698, train_loss: 0.6542772668473265, train_acc: 0.8531833333333333, test_loss: 0.5707736492156983, test_acc: 0.8686\n",
            "ep: 4, taked: 6.825, train_loss: 0.5571311113048107, train_acc: 0.8667, test_loss: 0.4986593034118414, test_acc: 0.878\n",
            "ep: 5, taked: 6.783, train_loss: 0.4990738299932886, train_acc: 0.8750833333333333, test_loss: 0.45283722393214704, test_acc: 0.8846\n",
            "ep: 6, taked: 6.707, train_loss: 0.46052717870854315, train_acc: 0.8814, test_loss: 0.42128506675362587, test_acc: 0.8904\n",
            "ep: 7, taked: 6.742, train_loss: 0.4330458090026328, train_acc: 0.8859166666666667, test_loss: 0.398262444883585, test_acc: 0.8941\n",
            "ep: 8, taked: 6.817, train_loss: 0.41238227638792485, train_acc: 0.8893166666666666, test_loss: 0.3806898118928075, test_acc: 0.8971\n",
            "ep: 9, taked: 6.788, train_loss: 0.3961839048152274, train_acc: 0.8921666666666667, test_loss: 0.3667790563777089, test_acc: 0.8997\n"
          ]
        }
      ]
    },
    {
      "cell_type": "markdown",
      "metadata": {
        "id": "q6BCfLUEmPaD"
      },
      "source": [
        "## Практика. Попробуйте заменить SGD на Adam и RMSProp. Увеличится ли скорость сходимости?"
      ]
    },
    {
      "cell_type": "code",
      "metadata": {
        "id": "OYSzzVD2Q6m4"
      },
      "source": [
        "model = torch.nn.Sequential(\n",
        "    torch.nn.Flatten(),\n",
        "    torch.nn.Linear(784, 256),\n",
        "    torch.nn.ReLU(),\n",
        "    torch.nn.Linear(256, 10)\n",
        ")"
      ],
      "execution_count": null,
      "outputs": []
    },
    {
      "cell_type": "code",
      "metadata": {
        "colab": {
          "base_uri": "https://localhost:8080/"
        },
        "id": "MMX0U9rNmPaD",
        "outputId": "5c9e5ada-173b-45d4-80c7-975c05326df8"
      },
      "source": [
        "trainer = torch.optim.Adam(model.parameters(), lr=.01)\n",
        "train_model()"
      ],
      "execution_count": null,
      "outputs": [
        {
          "name": "stdout",
          "output_type": "stream",
          "text": [
            "ep: 0, taked: 7.219, train_loss: 0.24709628041278808, train_acc: 0.9263166666666667, test_loss: 0.1371499367058277, test_acc: 0.9548\n",
            "ep: 1, taked: 7.045, train_loss: 0.10362096698756548, train_acc: 0.9677666666666667, test_loss: 0.11510053719393909, test_acc: 0.9658\n",
            "ep: 2, taked: 7.228, train_loss: 0.07169577525631386, train_acc: 0.9770666666666666, test_loss: 0.111561009419529, test_acc: 0.9665\n",
            "ep: 3, taked: 7.324, train_loss: 0.05658266712574566, train_acc: 0.9817333333333333, test_loss: 0.10354597286514036, test_acc: 0.9698\n",
            "ep: 4, taked: 7.255, train_loss: 0.05047573269830343, train_acc: 0.98355, test_loss: 0.11069315065615229, test_acc: 0.9719\n",
            "ep: 5, taked: 7.323, train_loss: 0.0456083775369173, train_acc: 0.9849833333333333, test_loss: 0.1098160429908603, test_acc: 0.9738\n",
            "ep: 6, taked: 7.354, train_loss: 0.03914221519272418, train_acc: 0.9872666666666666, test_loss: 0.12488620042404364, test_acc: 0.9717\n",
            "ep: 7, taked: 7.341, train_loss: 0.042194163756682834, train_acc: 0.9869166666666667, test_loss: 0.11137541553054006, test_acc: 0.9758\n",
            "ep: 8, taked: 7.417, train_loss: 0.041734040692012676, train_acc: 0.9870666666666666, test_loss: 0.12245362697867676, test_acc: 0.9759\n",
            "ep: 9, taked: 7.366, train_loss: 0.038178848334110685, train_acc: 0.9886, test_loss: 0.12692973918346978, test_acc: 0.9764\n"
          ]
        }
      ]
    },
    {
      "cell_type": "markdown",
      "metadata": {
        "id": "urhJrVvSmPaF"
      },
      "source": [
        "## Практика. Попробуйте сделать больше слоёв в сети. Увеличится ли качество?"
      ]
    },
    {
      "cell_type": "code",
      "metadata": {
        "id": "lqYmS2z6mPaG"
      },
      "source": [
        "model = torch.nn.Sequential(\n",
        "    torch.nn.Flatten(),\n",
        "    torch.nn.Linear(784, 512),\n",
        "    torch.nn.ReLU(),\n",
        "    torch.nn.Linear(512, 256),\n",
        "    torch.nn.ReLU(),\n",
        "    torch.nn.Linear(256, 128),\n",
        "    torch.nn.ReLU(),\n",
        "    torch.nn.Linear(128, 10)\n",
        ")"
      ],
      "execution_count": null,
      "outputs": []
    },
    {
      "cell_type": "code",
      "metadata": {
        "colab": {
          "base_uri": "https://localhost:8080/"
        },
        "id": "jwaEKd9FRU8e",
        "outputId": "d1a68dfd-8bb9-4ad6-c816-8d0c995b9286"
      },
      "source": [
        "trainer = torch.optim.Adam(model.parameters(), lr=.01)\n",
        "train_model()"
      ],
      "execution_count": null,
      "outputs": [
        {
          "name": "stdout",
          "output_type": "stream",
          "text": [
            "ep: 0, taked: 7.461, train_loss: 0.04376125618198669, train_acc: 0.9879666666666667, test_loss: 0.1599838494264901, test_acc: 0.9729\n",
            "ep: 1, taked: 7.394, train_loss: 0.03590941548470081, train_acc: 0.9900666666666667, test_loss: 0.16275566024678484, test_acc: 0.9726\n",
            "ep: 2, taked: 7.585, train_loss: 0.03553517715280326, train_acc: 0.9903166666666666, test_loss: 0.17904865724643743, test_acc: 0.9709\n",
            "ep: 3, taked: 7.517, train_loss: 0.031214266666149265, train_acc: 0.9916666666666667, test_loss: 0.16911721118957032, test_acc: 0.9753\n",
            "ep: 4, taked: 7.682, train_loss: 0.03720791000275767, train_acc: 0.9905833333333334, test_loss: 0.20400440313065643, test_acc: 0.9724\n",
            "ep: 5, taked: 7.680, train_loss: 0.03446419149581646, train_acc: 0.99125, test_loss: 0.22346817124347354, test_acc: 0.9725\n",
            "ep: 6, taked: 7.714, train_loss: 0.028764355026245577, train_acc: 0.9929166666666667, test_loss: 0.22686442259145564, test_acc: 0.9735\n",
            "ep: 7, taked: 7.781, train_loss: 0.027302060048139617, train_acc: 0.9931833333333333, test_loss: 0.24357726607703825, test_acc: 0.97\n",
            "ep: 8, taked: 7.798, train_loss: 0.03076485387873037, train_acc: 0.9927333333333334, test_loss: 0.26808009231463076, test_acc: 0.9653\n",
            "ep: 9, taked: 7.835, train_loss: 0.02043022901245659, train_acc: 0.995, test_loss: 0.215070668574026, test_acc: 0.9778\n"
          ]
        }
      ]
    },
    {
      "cell_type": "markdown",
      "metadata": {
        "id": "MMELAZ3dmPaI"
      },
      "source": [
        "## Практика. Попробуйте добавить регуляризацию, dropout и/или batchnorm-слои. Увеличится ли качество?"
      ]
    },
    {
      "cell_type": "code",
      "metadata": {
        "id": "bW8thRZnmPaI"
      },
      "source": [
        "model = torch.nn.Sequential(\n",
        "    torch.nn.Flatten(),\n",
        "    torch.nn.Linear(784, 512),\n",
        "    torch.nn.ReLU(),\n",
        "    torch.nn.BatchNorm1d(512),\n",
        "    torch.nn.Linear(512, 256),\n",
        "    torch.nn.ReLU(),\n",
        "    torch.nn.BatchNorm1d(256),\n",
        "    torch.nn.Linear(256, 128),\n",
        "    torch.nn.ReLU(),\n",
        "    torch.nn.BatchNorm1d(128),\n",
        "    torch.nn.Linear(128, 10)\n",
        ")"
      ],
      "execution_count": null,
      "outputs": []
    },
    {
      "cell_type": "code",
      "metadata": {
        "colab": {
          "base_uri": "https://localhost:8080/"
        },
        "id": "w6a0Y0WqVxt0",
        "outputId": "ce634a18-7047-4f01-8b20-d5c7875086cc"
      },
      "source": [
        "trainer = torch.optim.Adam(model.parameters(), lr=.01)\n",
        "train_model()"
      ],
      "execution_count": null,
      "outputs": [
        {
          "name": "stdout",
          "output_type": "stream",
          "text": [
            "ep: 0, taked: 11.957, train_loss: 0.20260652626289966, train_acc: 0.93765, test_loss: 0.15710220492910593, test_acc: 0.9516\n",
            "ep: 1, taked: 11.874, train_loss: 0.10051892982756204, train_acc: 0.9693333333333334, test_loss: 0.12266387307317927, test_acc: 0.9612\n",
            "ep: 2, taked: 11.981, train_loss: 0.07185488236235811, train_acc: 0.9773666666666667, test_loss: 0.12736137983738444, test_acc: 0.9616\n",
            "ep: 3, taked: 12.161, train_loss: 0.056222253887260216, train_acc: 0.9816833333333334, test_loss: 0.11604902950348332, test_acc: 0.9659\n",
            "ep: 4, taked: 12.161, train_loss: 0.04525599805935425, train_acc: 0.9849333333333333, test_loss: 0.12565981304942397, test_acc: 0.965\n",
            "ep: 5, taked: 12.148, train_loss: 0.03820155818124322, train_acc: 0.9872, test_loss: 0.10424003858206561, test_acc: 0.9723\n",
            "ep: 6, taked: 12.434, train_loss: 0.029347484052537922, train_acc: 0.9901333333333333, test_loss: 0.08478590507584158, test_acc: 0.976\n",
            "ep: 7, taked: 12.188, train_loss: 0.022963367206381355, train_acc: 0.9923333333333333, test_loss: 0.10643359178548054, test_acc: 0.9755\n",
            "ep: 8, taked: 12.292, train_loss: 0.027561313323329818, train_acc: 0.9910166666666667, test_loss: 0.1059645717166859, test_acc: 0.9737\n",
            "ep: 9, taked: 12.261, train_loss: 0.02081159641396532, train_acc: 0.9931833333333333, test_loss: 0.09318557604892704, test_acc: 0.9768\n"
          ]
        }
      ]
    },
    {
      "cell_type": "code",
      "metadata": {
        "id": "wGQ2LsSmmPZ3"
      },
      "source": [
        "model = torch.nn.Sequential(\n",
        "    torch.nn.Flatten(),\n",
        "    torch.nn.Linear(784, 2560),\n",
        "    torch.nn.ReLU(),\n",
        "    torch.nn.Dropout(0.5),\n",
        "    torch.nn.Linear(2560, 1280),\n",
        "    torch.nn.ReLU(),\n",
        "    torch.nn.Dropout(0.5),\n",
        "    torch.nn.Linear(1280, 640),\n",
        "    torch.nn.ReLU(),\n",
        "    torch.nn.Dropout(0.5),\n",
        "    torch.nn.Linear(640, 10)\n",
        ")"
      ],
      "execution_count": null,
      "outputs": []
    },
    {
      "cell_type": "code",
      "metadata": {
        "colab": {
          "background_save": true,
          "base_uri": "https://localhost:8080/"
        },
        "id": "am_lO7jSV0Fl",
        "outputId": "94b6ae91-2beb-41fc-a12f-bde7b9288333"
      },
      "source": [
        "trainer = torch.optim.Adam(model.parameters(), lr=.01)\n",
        "train_model()"
      ],
      "execution_count": null,
      "outputs": [
        {
          "name": "stdout",
          "output_type": "stream",
          "text": [
            "ep: 0, taked: 53.651, train_loss: 0.9062292760991035, train_acc: 0.745, test_loss: 0.5461626082658768, test_acc: 0.8892\n",
            "ep: 1, taked: 53.853, train_loss: 0.690170981782548, train_acc: 0.81215, test_loss: 0.3796499317511916, test_acc: 0.9073\n",
            "ep: 2, taked: 58.531, train_loss: 0.708586008117554, train_acc: 0.8084, test_loss: 0.3357968518510461, test_acc: 0.9188\n",
            "ep: 3, taked: 81.395, train_loss: 0.7057550713102868, train_acc: 0.8098666666666666, test_loss: 0.3372530031017959, test_acc: 0.9165\n",
            "ep: 4, taked: 74.981, train_loss: 0.7496358336286342, train_acc: 0.7984, test_loss: 0.3336694069206715, test_acc: 0.9192\n",
            "ep: 5, taked: 75.582, train_loss: 0.7321985492046843, train_acc: 0.8017, test_loss: 0.326321928948164, test_acc: 0.9173\n",
            "ep: 6, taked: 75.639, train_loss: 0.7420422671957219, train_acc: 0.7959, test_loss: 0.3461838087067008, test_acc: 0.921\n",
            "ep: 7, taked: 76.033, train_loss: 0.7599228668720164, train_acc: 0.7928166666666666, test_loss: 0.3387015956453979, test_acc: 0.9167\n",
            "ep: 8, taked: 76.326, train_loss: 0.7574384217566632, train_acc: 0.79565, test_loss: 0.416818989161402, test_acc: 0.9141\n",
            "ep: 9, taked: 75.999, train_loss: 0.7556057205859651, train_acc: 0.7917166666666666, test_loss: 0.36499187592417004, test_acc: 0.9067\n"
          ]
        }
      ]
    },
    {
      "cell_type": "code",
      "metadata": {
        "id": "q7brMkd1aIVN"
      },
      "source": [],
      "execution_count": null,
      "outputs": []
    }
  ]
}