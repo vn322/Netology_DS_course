{
  "nbformat": 4,
  "nbformat_minor": 0,
  "metadata": {
    "colab": {
      "provenance": []
    },
    "kernelspec": {
      "name": "python3",
      "display_name": "Python 3"
    },
    "language_info": {
      "name": "python"
    }
  },
  "cells": [
    {
      "cell_type": "markdown",
      "source": [
        "**Цель задания**: научиться базово подбирать архитектуру, строить и обучать свёрточные нейронные сети для решения задачи классификации.\n",
        "\n",
        "**Контекст**\n",
        "Это домашнее задание по сути является продолжением предыдущего. В нём вы меняете архитектуру сети с полносвязной на свёрточную.\n",
        "\n",
        "**Задание**\n",
        "Постройте модель, используя архитектуру со свёрточными слоями, для классификации Fashion MNIST. Итоговое качество (accuracy) должно быть не ниже 89,5.\n",
        "\n",
        "**Инструкция к выполнению задания**\n",
        "\n",
        "Скачайте тренировочную и тестовою часть датасета Fashion MNIST\n",
        "Постройте архитектуру модели, используя свёрточные слои, слои регуляризации и один финальный полносвязный слой\n",
        "Обучите модель до необходимого качества. Если сеть не обучается до необходимого качества, попробуйте поменять архитектуру сети, варьируя параметры свёрток, количество каналов, количество свёрточных слоёв, слои регуляризации, тип оптимайзера и т. д."
      ],
      "metadata": {
        "id": "0MhRXAPRaeKz"
      }
    },
    {
      "cell_type": "code",
      "execution_count": null,
      "metadata": {
        "id": "1t8Ma_Abbbgp"
      },
      "outputs": [],
      "source": [
        "import torchvision as tv\n",
        "import torch\n",
        "import time\n",
        "import matplotlib.pyplot as plt\n",
        "%matplotlib inline"
      ]
    },
    {
      "cell_type": "code",
      "source": [
        "f_mnist_train = tv.datasets.FashionMNIST('.', train=True, transform=tv.transforms.ToTensor(), download=True)\n",
        "f_mnist_test  = tv.datasets.FashionMNIST('.', train=False, transform=tv.transforms.ToTensor(), download=True)"
      ],
      "metadata": {
        "id": "NXzx3gGkbpjx",
        "colab": {
          "base_uri": "https://localhost:8080/"
        },
        "outputId": "6ddafca0-0fe2-4a35-8d61-3d1576ba8945"
      },
      "execution_count": null,
      "outputs": [
        {
          "output_type": "stream",
          "name": "stdout",
          "text": [
            "Downloading http://fashion-mnist.s3-website.eu-central-1.amazonaws.com/train-images-idx3-ubyte.gz\n",
            "Downloading http://fashion-mnist.s3-website.eu-central-1.amazonaws.com/train-images-idx3-ubyte.gz to ./FashionMNIST/raw/train-images-idx3-ubyte.gz\n"
          ]
        },
        {
          "output_type": "stream",
          "name": "stderr",
          "text": [
            "100%|██████████| 26421880/26421880 [00:01<00:00, 16038341.74it/s]\n"
          ]
        },
        {
          "output_type": "stream",
          "name": "stdout",
          "text": [
            "Extracting ./FashionMNIST/raw/train-images-idx3-ubyte.gz to ./FashionMNIST/raw\n",
            "\n",
            "Downloading http://fashion-mnist.s3-website.eu-central-1.amazonaws.com/train-labels-idx1-ubyte.gz\n",
            "Downloading http://fashion-mnist.s3-website.eu-central-1.amazonaws.com/train-labels-idx1-ubyte.gz to ./FashionMNIST/raw/train-labels-idx1-ubyte.gz\n"
          ]
        },
        {
          "output_type": "stream",
          "name": "stderr",
          "text": [
            "100%|██████████| 29515/29515 [00:00<00:00, 279120.31it/s]\n"
          ]
        },
        {
          "output_type": "stream",
          "name": "stdout",
          "text": [
            "Extracting ./FashionMNIST/raw/train-labels-idx1-ubyte.gz to ./FashionMNIST/raw\n",
            "\n",
            "Downloading http://fashion-mnist.s3-website.eu-central-1.amazonaws.com/t10k-images-idx3-ubyte.gz\n",
            "Downloading http://fashion-mnist.s3-website.eu-central-1.amazonaws.com/t10k-images-idx3-ubyte.gz to ./FashionMNIST/raw/t10k-images-idx3-ubyte.gz\n"
          ]
        },
        {
          "output_type": "stream",
          "name": "stderr",
          "text": [
            "100%|██████████| 4422102/4422102 [00:00<00:00, 4965706.86it/s]\n"
          ]
        },
        {
          "output_type": "stream",
          "name": "stdout",
          "text": [
            "Extracting ./FashionMNIST/raw/t10k-images-idx3-ubyte.gz to ./FashionMNIST/raw\n",
            "\n",
            "Downloading http://fashion-mnist.s3-website.eu-central-1.amazonaws.com/t10k-labels-idx1-ubyte.gz\n",
            "Downloading http://fashion-mnist.s3-website.eu-central-1.amazonaws.com/t10k-labels-idx1-ubyte.gz to ./FashionMNIST/raw/t10k-labels-idx1-ubyte.gz\n"
          ]
        },
        {
          "output_type": "stream",
          "name": "stderr",
          "text": [
            "100%|██████████| 5148/5148 [00:00<00:00, 16583930.10it/s]"
          ]
        },
        {
          "output_type": "stream",
          "name": "stdout",
          "text": [
            "Extracting ./FashionMNIST/raw/t10k-labels-idx1-ubyte.gz to ./FashionMNIST/raw\n",
            "\n"
          ]
        },
        {
          "output_type": "stream",
          "name": "stderr",
          "text": [
            "\n"
          ]
        }
      ]
    },
    {
      "cell_type": "code",
      "source": [
        "BATCH_SIZE=256\n",
        "train, test = torch.utils.data.DataLoader(f_mnist_train, shuffle=True, batch_size=BATCH_SIZE), torch.utils.data.DataLoader(f_mnist_test, shuffle=True, batch_size=BATCH_SIZE)"
      ],
      "metadata": {
        "id": "CcTzaSvNb8l6"
      },
      "execution_count": null,
      "outputs": []
    },
    {
      "cell_type": "code",
      "source": [
        "plt.imshow(f_mnist_train[0][0].numpy().reshape(28,28), cmap='gray')"
      ],
      "metadata": {
        "colab": {
          "base_uri": "https://localhost:8080/",
          "height": 448
        },
        "id": "3CCAKoi8QghD",
        "outputId": "9f657ce3-d98c-4f73-f3e0-6d0b961905fb"
      },
      "execution_count": null,
      "outputs": [
        {
          "output_type": "execute_result",
          "data": {
            "text/plain": [
              "<matplotlib.image.AxesImage at 0x7f1cef07c130>"
            ]
          },
          "metadata": {},
          "execution_count": 4
        },
        {
          "output_type": "display_data",
          "data": {
            "text/plain": [
              "<Figure size 640x480 with 1 Axes>"
            ],
            "image/png": "[encoded data removed]"
          },
          "metadata": {}
        }
      ]
    },
    {
      "cell_type": "code",
      "source": [
        "for X, y in train:\n",
        "    print(X.shape, y.shape)\n",
        "    break\n",
        "\n",
        "for X, y in test:\n",
        "    print(X.shape, y.shape)\n",
        "    break"
      ],
      "metadata": {
        "colab": {
          "base_uri": "https://localhost:8080/"
        },
        "id": "nbkWTf8ucCqR",
        "outputId": "b563f128-9727-4f3b-889e-03e3126cb00a"
      },
      "execution_count": null,
      "outputs": [
        {
          "output_type": "stream",
          "name": "stdout",
          "text": [
            "torch.Size([256, 1, 28, 28]) torch.Size([256])\n",
            "torch.Size([256, 1, 28, 28]) torch.Size([256])\n"
          ]
        }
      ]
    },
    {
      "cell_type": "code",
      "source": [
        "LR = 0.01\n",
        "\n",
        "model = torch.nn.Sequential(\n",
        "    torch.nn.Conv2d(1, 12, kernel_size=4, padding=1),\n",
        "    torch.nn.BatchNorm2d(12),\n",
        "    torch.nn.ReLU(),\n",
        "    #torch.nn.MaxPool2d(2, stride=2),\n",
        "    torch.nn.Conv2d(12, 24, kernel_size=4),\n",
        "    torch.nn.BatchNorm2d(24),\n",
        "    torch.nn.ReLU(),\n",
        "    #torch.nn.MaxPool2d(2, stride=2),\n",
        "    #torch.nn.Dropout(0.25),\n",
        "    torch.nn.Conv2d(24, 6, kernel_size=2),\n",
        "    torch.nn.BatchNorm2d(6),\n",
        "    torch.nn.ReLU(),\n",
        "    torch.nn.MaxPool2d(2, stride=2),\n",
        "    torch.nn.Flatten(),\n",
        "    torch.nn.Linear(726, 300),\n",
        "    torch.nn.ReLU(),\n",
        "    torch.nn.Linear(300, 150),\n",
        "    torch.nn.ReLU(),\n",
        "    torch.nn.Linear(150, 50),\n",
        "    torch.nn.ReLU(),\n",
        "    torch.nn.Linear(50, 10)\n",
        ")\n",
        "\n",
        "\n",
        "loss = torch.nn.CrossEntropyLoss(reduction='sum')\n",
        "trainer = torch.optim.Adam(model.parameters(), LR)"
      ],
      "metadata": {
        "id": "ygcWbAaR4FPZ"
      },
      "execution_count": null,
      "outputs": []
    },
    {
      "cell_type": "code",
      "source": [
        "X = f_mnist_train[0][0]\n",
        "X = X.reshape(1, 1, 28, 28)\n",
        "print(X.shape)\n",
        "for l in model:\n",
        "    X = l(X)\n",
        "    print(\"Layer {}. X shape: {}\".format(l, X.shape))"
      ],
      "metadata": {
        "colab": {
          "base_uri": "https://localhost:8080/"
        },
        "id": "whDXhzd_OBwD",
        "outputId": "12d12ee2-c274-4550-f35f-b0a4d393a627"
      },
      "execution_count": null,
      "outputs": [
        {
          "output_type": "stream",
          "name": "stdout",
          "text": [
            "torch.Size([1, 1, 28, 28])\n",
            "Layer Conv2d(1, 12, kernel_size=(4, 4), stride=(1, 1), padding=(1, 1)). X shape: torch.Size([1, 12, 27, 27])\n",
            "Layer BatchNorm2d(12, eps=1e-05, momentum=0.1, affine=True, track_running_stats=True). X shape: torch.Size([1, 12, 27, 27])\n",
            "Layer ReLU(). X shape: torch.Size([1, 12, 27, 27])\n",
            "Layer Conv2d(12, 24, kernel_size=(4, 4), stride=(1, 1)). X shape: torch.Size([1, 24, 24, 24])\n",
            "Layer BatchNorm2d(24, eps=1e-05, momentum=0.1, affine=True, track_running_stats=True). X shape: torch.Size([1, 24, 24, 24])\n",
            "Layer ReLU(). X shape: torch.Size([1, 24, 24, 24])\n",
            "Layer Conv2d(24, 6, kernel_size=(2, 2), stride=(1, 1)). X shape: torch.Size([1, 6, 23, 23])\n",
            "Layer BatchNorm2d(6, eps=1e-05, momentum=0.1, affine=True, track_running_stats=True). X shape: torch.Size([1, 6, 23, 23])\n",
            "Layer ReLU(). X shape: torch.Size([1, 6, 23, 23])\n",
            "Layer MaxPool2d(kernel_size=2, stride=2, padding=0, dilation=1, ceil_mode=False). X shape: torch.Size([1, 6, 11, 11])\n",
            "Layer Flatten(start_dim=1, end_dim=-1). X shape: torch.Size([1, 726])\n",
            "Layer Linear(in_features=726, out_features=300, bias=True). X shape: torch.Size([1, 300])\n",
            "Layer ReLU(). X shape: torch.Size([1, 300])\n",
            "Layer Linear(in_features=300, out_features=150, bias=True). X shape: torch.Size([1, 150])\n",
            "Layer ReLU(). X shape: torch.Size([1, 150])\n",
            "Layer Linear(in_features=150, out_features=50, bias=True). X shape: torch.Size([1, 50])\n",
            "Layer ReLU(). X shape: torch.Size([1, 50])\n",
            "Layer Linear(in_features=50, out_features=10, bias=True). X shape: torch.Size([1, 10])\n"
          ]
        }
      ]
    },
    {
      "cell_type": "code",
      "source": [
        "NUM_EPOCHS = 10\n",
        "\n",
        "for epoch in range(1, NUM_EPOCHS+1):\n",
        "\n",
        "    start=time.time()\n",
        "    train_loss, train_acc, train_n = 0., 0., 0\n",
        "    test_loss, test_acc, test_n = 0., 0., 0\n",
        "    \n",
        "\n",
        "    model.train()\n",
        "    for X, y in train:\n",
        "        trainer.zero_grad()\n",
        "        y_pred = model(X)\n",
        "        l = loss(y_pred, y)\n",
        "        l.backward()\n",
        "        trainer.step()\n",
        "        train_loss += l.item()\n",
        "        train_acc += (y_pred.argmax(dim=1) == y).sum().item()\n",
        "        train_n += len(X)\n",
        "    \n",
        "    model.eval()\n",
        "    for X, y in test:\n",
        "        y_pred = model(X)\n",
        "        l = loss(y_pred, y)\n",
        "        test_loss += l.item()\n",
        "        test_acc += (y_pred.argmax(dim=1) == y).sum().item()\n",
        "        test_n += len(X)\n",
        "        \n",
        "    print(\"\\nepoch: {}, taked: {:.2f}, train_loss: {:.3f}, train_acc: {:.2f}%, test_loss: {:.3f}, test_acc: {:.2f}%\".format(\n",
        "        epoch, time.time() - start, train_loss / train_n, train_acc / train_n *100 , test_loss / test_n, test_acc / test_n *100))"
      ],
      "metadata": {
        "colab": {
          "base_uri": "https://localhost:8080/"
        },
        "id": "pje3w8m9cIN7",
        "outputId": "0cdfc34f-d21f-47b4-cb2a-35f3295d5294"
      },
      "execution_count": null,
      "outputs": [
        {
          "output_type": "stream",
          "name": "stdout",
          "text": [
            "\n",
            "epoch: 1, taked: 81.45, train_loss: 0.569, train_acc: 78.23%, test_loss: 0.396, test_acc: 85.61%\n",
            "\n",
            "epoch: 2, taked: 70.37, train_loss: 0.320, train_acc: 88.35%, test_loss: 0.351, test_acc: 87.10%\n",
            "\n",
            "epoch: 3, taked: 70.98, train_loss: 0.272, train_acc: 90.00%, test_loss: 0.296, test_acc: 89.56%\n",
            "\n",
            "epoch: 4, taked: 72.21, train_loss: 0.243, train_acc: 91.00%, test_loss: 0.283, test_acc: 90.02%\n",
            "\n",
            "epoch: 5, taked: 70.92, train_loss: 0.224, train_acc: 91.68%, test_loss: 0.276, test_acc: 90.06%\n",
            "\n",
            "epoch: 6, taked: 72.02, train_loss: 0.211, train_acc: 92.32%, test_loss: 0.272, test_acc: 90.71%\n",
            "\n",
            "epoch: 7, taked: 72.33, train_loss: 0.193, train_acc: 92.92%, test_loss: 0.288, test_acc: 89.74%\n",
            "\n",
            "epoch: 8, taked: 71.66, train_loss: 0.186, train_acc: 93.19%, test_loss: 0.290, test_acc: 89.96%\n",
            "\n",
            "epoch: 9, taked: 70.95, train_loss: 0.170, train_acc: 93.74%, test_loss: 0.278, test_acc: 90.97%\n",
            "\n",
            "epoch: 10, taked: 71.64, train_loss: 0.165, train_acc: 93.91%, test_loss: 0.279, test_acc: 90.71%\n"
          ]
        }
      ]
    }
  ]
}