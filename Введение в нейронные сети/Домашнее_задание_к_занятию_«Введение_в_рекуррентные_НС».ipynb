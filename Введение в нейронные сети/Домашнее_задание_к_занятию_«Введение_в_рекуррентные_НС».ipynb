{
  "nbformat": 4,
  "nbformat_minor": 0,
  "metadata": {
    "kernelspec": {
      "display_name": "Python 3",
      "language": "python",
      "name": "python3"
    },
    "language_info": {
      "codemirror_mode": {
        "name": "ipython",
        "version": 3
      },
      "file_extension": ".py",
      "mimetype": "text/x-python",
      "name": "python",
      "nbconvert_exporter": "python",
      "pygments_lexer": "ipython3",
      "version": "3.6.4"
    },
    "colab": {
      "provenance": []
    },
    "accelerator": "GPU"
  },
  "cells": [
    {
      "cell_type": "markdown",
      "metadata": {
        "collapsed": true,
        "id": "l4VAzKlG8aHj"
      },
      "source": [
        "## Neural Part Of Speech Tagging\n",
        "\n",
        "We're now going to solve the same problem of POS tagging with neural networks.\n",
        "<img src=https://i.stack.imgur.com/6pdIT.png width=320>\n",
        "\n",
        "From deep learning perspective, this is a task of predicting a sequence of outputs aligned to a sequence of inputs. There are several problems that match this formulation:\n",
        "* Part Of Speech Tagging -  an auxuliary task for many NLP problems\n",
        "* Named Entity Recognition - for chat bots and web crawlers\n",
        "* Protein structure prediction - for bioinformatics"
      ]
    },
    {
      "cell_type": "code",
      "metadata": {
        "id": "wnu9D3YZoH2e"
      },
      "source": [
        "%tensorflow_version 1.x"
      ],
      "execution_count": null,
      "outputs": []
    },
    {
      "cell_type": "code",
      "metadata": {
        "scrolled": true,
        "id": "yxFUBtb88aHq",
        "colab": {
          "base_uri": "https://localhost:8080/"
        },
        "outputId": "44ccf6fd-e82f-48f3-b12a-984f90377368"
      },
      "source": [
        "import nltk\n",
        "import sys\n",
        "import numpy as np\n",
        "\n",
        "nltk.download('brown')\n",
        "nltk.download('universal_tagset')\n",
        "data = nltk.corpus.brown.tagged_sents(tagset='universal')\n",
        "all_tags = ['#EOS#','#UNK#','ADV', 'NOUN', 'ADP', 'PRON', 'DET', '.', 'PRT', 'VERB', 'X', 'NUM', 'CONJ', 'ADJ']\n",
        "\n",
        "data = np.array([ [(word.lower(),tag) for word,tag in sentence] for sentence in data ])"
      ],
      "execution_count": null,
      "outputs": [
        {
          "output_type": "stream",
          "name": "stderr",
          "text": [
            "[nltk_data] Downloading package brown to /root/nltk_data...\n",
            "[nltk_data]   Unzipping corpora/brown.zip.\n",
            "[nltk_data] Downloading package universal_tagset to /root/nltk_data...\n",
            "[nltk_data]   Unzipping taggers/universal_tagset.zip.\n",
            "/usr/local/lib/python3.7/dist-packages/ipykernel_launcher.py:10: VisibleDeprecationWarning: Creating an ndarray from ragged nested sequences (which is a list-or-tuple of lists-or-tuples-or ndarrays with different lengths or shapes) is deprecated. If you meant to do this, you must specify 'dtype=object' when creating the ndarray.\n",
            "  # Remove the CWD from sys.path while we load stuff.\n"
          ]
        }
      ]
    },
    {
      "cell_type": "code",
      "metadata": {
        "id": "Bq_OXuD38aHs"
      },
      "source": [
        "from sklearn.model_selection import train_test_split\n",
        "train_data, test_data = train_test_split(data,test_size=0.25,random_state=42)"
      ],
      "execution_count": null,
      "outputs": []
    },
    {
      "cell_type": "code",
      "metadata": {
        "id": "sAlXrDmU8aHs",
        "colab": {
          "base_uri": "https://localhost:8080/",
          "height": 146
        },
        "outputId": "a0e138e6-fc0a-4fef-a2ac-28bf3a304903"
      },
      "source": [
        "from IPython.display import HTML, display\n",
        "def draw(sentence):\n",
        "    words,tags = zip(*sentence)\n",
        "    display(HTML('<table><tr>{tags}</tr>{words}<tr></table>'.format(\n",
        "                words = '<td>{}</td>'.format('</td><td>'.join(words)),\n",
        "                tags = '<td>{}</td>'.format('</td><td>'.join(tags)))))\n",
        "    \n",
        "    \n",
        "draw(data[11])\n",
        "draw(data[10])\n",
        "draw(data[7])"
      ],
      "execution_count": null,
      "outputs": [
        {
          "output_type": "display_data",
          "data": {
            "text/plain": [
              "<IPython.core.display.HTML object>"
            ],
            "text/html": [
              "<table><tr><td>NOUN</td><td>ADP</td><td>NOUN</td><td>NOUN</td><td>NOUN</td><td>NOUN</td><td>VERB</td><td>ADV</td><td>VERB</td><td>ADP</td><td>DET</td><td>ADJ</td><td>NOUN</td><td>.</td></tr><td>implementation</td><td>of</td><td>georgia's</td><td>automobile</td><td>title</td><td>law</td><td>was</td><td>also</td><td>recommended</td><td>by</td><td>the</td><td>outgoing</td><td>jury</td><td>.</td><tr></table>"
            ]
          },
          "metadata": {}
        },
        {
          "output_type": "display_data",
          "data": {
            "text/plain": [
              "<IPython.core.display.HTML object>"
            ],
            "text/html": [
              "<table><tr><td>PRON</td><td>VERB</td><td>ADP</td><td>DET</td><td>NOUN</td><td>.</td><td>VERB</td><td>NOUN</td><td>PRT</td><td>VERB</td><td>.</td><td>DET</td><td>NOUN</td><td>.</td></tr><td>it</td><td>urged</td><td>that</td><td>the</td><td>city</td><td>``</td><td>take</td><td>steps</td><td>to</td><td>remedy</td><td>''</td><td>this</td><td>problem</td><td>.</td><tr></table>"
            ]
          },
          "metadata": {}
        },
        {
          "output_type": "display_data",
          "data": {
            "text/plain": [
              "<IPython.core.display.HTML object>"
            ],
            "text/html": [
              "<table><tr><td>NOUN</td><td>VERB</td></tr><td>merger</td><td>proposed</td><tr></table>"
            ]
          },
          "metadata": {}
        }
      ]
    },
    {
      "cell_type": "markdown",
      "metadata": {
        "id": "LAViiL2C8aHt"
      },
      "source": [
        "### Building vocabularies\n",
        "\n",
        "Just like before, we have to build a mapping from tokens to integer ids. This time around, our model operates on a word level, processing one word per RNN step. This means we'll have to deal with far larger vocabulary.\n",
        "\n",
        "Luckily for us, we only receive those words as input i.e. we don't have to predict them. This means we can have a large vocabulary for free by using word embeddings."
      ]
    },
    {
      "cell_type": "code",
      "metadata": {
        "collapsed": true,
        "id": "ZXK_k-mo8aHt",
        "colab": {
          "base_uri": "https://localhost:8080/"
        },
        "outputId": "6c4c9c96-eee8-45fa-a61b-e6b6ce7a061c"
      },
      "source": [
        "from collections import Counter\n",
        "word_counts = Counter()\n",
        "for sentence in data:\n",
        "    words,tags = zip(*sentence)\n",
        "    word_counts.update(words)\n",
        "\n",
        "all_words = ['#EOS#','#UNK#'] + list(list(zip(*word_counts.most_common(10000)))[0])\n",
        "\n",
        "#let's measure what fraction of data words are in the dictionary\n",
        "print(\"Coverage = %.5f\" % (float(sum(word_counts[w] for w in all_words)) / sum(word_counts.values())))"
      ],
      "execution_count": null,
      "outputs": [
        {
          "output_type": "stream",
          "name": "stdout",
          "text": [
            "Coverage = 0.92876\n"
          ]
        }
      ]
    },
    {
      "cell_type": "code",
      "metadata": {
        "collapsed": true,
        "id": "T0hee8L88aHt"
      },
      "source": [
        "from collections import defaultdict\n",
        "word_to_id = defaultdict(lambda:1, { word: i for i, word in enumerate(all_words) })\n",
        "tag_to_id = { tag: i for i, tag in enumerate(all_tags)}"
      ],
      "execution_count": null,
      "outputs": []
    },
    {
      "cell_type": "markdown",
      "metadata": {
        "id": "RCmGbwpP8aHu"
      },
      "source": [
        "convert words and tags into fixed-size matrix"
      ]
    },
    {
      "cell_type": "code",
      "metadata": {
        "collapsed": true,
        "id": "X7kx6jWn8aHu"
      },
      "source": [
        "def to_matrix(lines, token_to_id, max_len=None, pad=0, dtype='int32', time_major=False):\n",
        "    \"\"\"Converts a list of names into rnn-digestable matrix with paddings added after the end\"\"\"\n",
        "    \n",
        "    max_len = max_len or max(map(len,lines))\n",
        "    matrix = np.empty([len(lines), max_len],dtype)\n",
        "    matrix.fill(pad)\n",
        "\n",
        "    for i in range(len(lines)):\n",
        "        line_ix = list(map(token_to_id.__getitem__,lines[i]))[:max_len]\n",
        "        matrix[i,:len(line_ix)] = line_ix\n",
        "\n",
        "    return matrix.T if time_major else matrix\n",
        "\n"
      ],
      "execution_count": null,
      "outputs": []
    },
    {
      "cell_type": "code",
      "metadata": {
        "collapsed": true,
        "id": "BCaE-i5u8aHu",
        "colab": {
          "base_uri": "https://localhost:8080/"
        },
        "outputId": "48b390f4-e568-4809-fd5f-7294b7452e39"
      },
      "source": [
        "batch_words, batch_tags = zip(*[zip(*sentence) for sentence in data[-3:]])\n",
        "\n",
        "print(\"Word ids:\")\n",
        "print(to_matrix(batch_words, word_to_id))\n",
        "print(\"Tag ids:\")\n",
        "print(to_matrix(batch_tags, tag_to_id))"
      ],
      "execution_count": null,
      "outputs": [
        {
          "output_type": "stream",
          "name": "stdout",
          "text": [
            "Word ids:\n",
            "[[   2 3057    5    2 2238 1334 4238 2454    3    6   19   26 1070   69\n",
            "     8 2088    6    3    1    3  266   65  342    2    1    3    2  315\n",
            "     1    9   87  216 3322   69 1558    4    0    0    0    0    0    0\n",
            "     0    0    0    0    0    0    0    0    0    0    0]\n",
            " [  45   12    8  511 8419    6   60 3246   39    2    1    1    3    2\n",
            "   845    1    3    1    3   10 9910    2    1 3470    9   43    1    1\n",
            "     3    6    2 1046  385   73 4562    3    9    2    1    1 3250    3\n",
            "    12   10    2  861 5240   12    8 8936  121    1    4]\n",
            " [  33   64   26   12  445    7 7346    9    8 3337    3    1 2811    3\n",
            "     2  463  572    2    1    1 1649   12    1    4    0    0    0    0\n",
            "     0    0    0    0    0    0    0    0    0    0    0    0    0    0\n",
            "     0    0    0    0    0    0    0    0    0    0    0]]\n",
            "Tag ids:\n",
            "[[ 6  3  4  6  3  3  9  9  7 12  4  5  9  4  6  3 12  7  9  7  9  8  4  6\n",
            "   3  7  6 13  3  4  6  3  9  4  3  7  0  0  0  0  0  0  0  0  0  0  0  0\n",
            "   0  0  0  0  0]\n",
            " [ 5  9  6  9  3 12  6  3  7  6 13  3  7  6 13  3  7 13  7  5  9  6  3  3\n",
            "   4  6 13  3  7 12  6  3  6 13  3  7  4  6  3  9  3  7  9  4  6 13  3  9\n",
            "   6  3  2 13  7]\n",
            " [ 4  6  5  9 13  4  3  4  6 13  7 13  3  7  6  3  4  6 13  3  3  9  9  7\n",
            "   0  0  0  0  0  0  0  0  0  0  0  0  0  0  0  0  0  0  0  0  0  0  0  0\n",
            "   0  0  0  0  0]]\n"
          ]
        }
      ]
    },
    {
      "cell_type": "markdown",
      "metadata": {
        "collapsed": true,
        "id": "_oK_i5Xa8aHv"
      },
      "source": [
        "### Build model\n",
        "\n",
        "Unlike our previous lab, this time we'll focus on a high-level keras interface to recurrent neural networks. It is as simple as you can get with RNN, allbeit somewhat constraining for complex tasks like seq2seq.\n",
        "\n",
        "By default, all keras RNNs apply to a whole sequence of inputs and produce a sequence of hidden states `(return_sequences=True` or just the last hidden state `(return_sequences=False)`. All the recurrence is happening under the hood.\n",
        "\n",
        "At the top of our model we need to apply a Dense layer to each time-step independently. As of now, by default keras.layers.Dense would apply once to all time-steps concatenated. We use __keras.layers.TimeDistributed__ to modify Dense layer so that it would apply across both batch and time axes."
      ]
    },
    {
      "cell_type": "code",
      "metadata": {
        "id": "OQeb8d5j8aHv"
      },
      "source": [
        "import keras\n",
        "import keras.layers as L\n",
        "\n",
        "model = keras.models.Sequential()\n",
        "model.add(L.InputLayer([None],dtype='int32'))\n",
        "model.add(L.Embedding(len(all_words),50))\n",
        "model.add(L.SimpleRNN(64,return_sequences=True))\n",
        "\n",
        "#add top layer that predicts tag probabilities\n",
        "stepwise_dense = L.Dense(len(all_tags),activation='softmax')\n",
        "stepwise_dense = L.TimeDistributed(stepwise_dense)\n",
        "model.add(stepwise_dense)"
      ],
      "execution_count": null,
      "outputs": []
    },
    {
      "cell_type": "markdown",
      "metadata": {
        "id": "lQbJqM2n8aHv"
      },
      "source": [
        "__Training:__ in this case we don't want to prepare the whole training dataset in advance. The main cause is that the length of every batch depends on the maximum sentence length within the batch. This leaves us two options: use custom training code as in previous seminar or use generators.\n",
        "\n",
        "Keras models have a __`model.fit_generator`__ method that accepts a python generator yielding one batch at a time. But first we need to implement such generator:"
      ]
    },
    {
      "cell_type": "code",
      "metadata": {
        "collapsed": true,
        "id": "kpeMsDi18aHw"
      },
      "source": [
        "from keras.utils.np_utils import to_categorical\n",
        "BATCH_SIZE=32\n",
        "def generate_batches(sentences,batch_size=BATCH_SIZE,max_len=None,pad=0):\n",
        "    assert isinstance(sentences,np.ndarray),\"Make sure sentences is q numpy array\"\n",
        "    \n",
        "    while True:\n",
        "        indices = np.random.permutation(np.arange(len(sentences)))\n",
        "        for start in range(0,len(indices)-1,batch_size):\n",
        "            batch_indices = indices[start:start+batch_size]\n",
        "            batch_words,batch_tags = [],[]\n",
        "            for sent in sentences[batch_indices]:\n",
        "                words,tags = zip(*sent)\n",
        "                batch_words.append(words)\n",
        "                batch_tags.append(tags)\n",
        "\n",
        "            batch_words = to_matrix(batch_words,word_to_id,max_len,pad)\n",
        "            batch_tags = to_matrix(batch_tags,tag_to_id,max_len,pad)\n",
        "\n",
        "            batch_tags_1hot = to_categorical(batch_tags,len(all_tags)).reshape(batch_tags.shape+(-1,))\n",
        "            yield batch_words,batch_tags_1hot\n",
        "        "
      ],
      "execution_count": null,
      "outputs": []
    },
    {
      "cell_type": "markdown",
      "metadata": {
        "id": "zYoR9vgn8aHw"
      },
      "source": [
        "__Callbacks:__ Another thing we need is to measure model performance. The tricky part is not to count accuracy after sentence ends (on padding) and making sure we count all the validation data exactly once.\n",
        "\n",
        "While it isn't impossible to persuade Keras to do all of that, we may as well write our own callback that does that.\n",
        "Keras callbacks allow you to write a custom code to be ran once every epoch or every minibatch. We'll define one via LambdaCallback"
      ]
    },
    {
      "cell_type": "code",
      "metadata": {
        "collapsed": true,
        "id": "CC8woNtV8aHx"
      },
      "source": [
        "def compute_test_accuracy(model):\n",
        "    test_words,test_tags = zip(*[zip(*sentence) for sentence in test_data])\n",
        "    test_words,test_tags = to_matrix(test_words,word_to_id),to_matrix(test_tags,tag_to_id)\n",
        "\n",
        "    #predict tag probabilities of shape [batch,time,n_tags]\n",
        "    predicted_tag_probabilities = model.predict(test_words,verbose=1)\n",
        "    predicted_tags = predicted_tag_probabilities.argmax(axis=-1)\n",
        "\n",
        "    #compute accurary excluding padding\n",
        "    numerator = np.sum(np.logical_and((predicted_tags == test_tags),(test_words != 0)))\n",
        "    denominator = np.sum(test_words != 0)\n",
        "    return float(numerator)/denominator\n",
        "\n",
        "\n",
        "class EvaluateAccuracy(keras.callbacks.Callback):\n",
        "    def on_epoch_end(self,epoch,logs=None):\n",
        "        sys.stdout.flush()\n",
        "        print(\"\\nMeasuring validation accuracy...\")\n",
        "        acc = compute_test_accuracy(self.model)\n",
        "        print(\"\\nValidation accuracy: %.5f\\n\"%acc)\n",
        "        sys.stdout.flush()\n",
        "        "
      ],
      "execution_count": null,
      "outputs": []
    },
    {
      "cell_type": "code",
      "metadata": {
        "collapsed": true,
        "id": "5eJGEWu58aHx",
        "colab": {
          "base_uri": "https://localhost:8080/"
        },
        "outputId": "410025ce-4aaf-4269-8e71-f991618bba2f"
      },
      "source": [
        "model.compile('adam','categorical_crossentropy')\n",
        "\n",
        "model.fit_generator(generate_batches(train_data),len(train_data)/BATCH_SIZE,\n",
        "                    callbacks=[EvaluateAccuracy()], epochs=5,)"
      ],
      "execution_count": null,
      "outputs": [
        {
          "output_type": "stream",
          "name": "stdout",
          "text": [
            "Epoch 1/5\n"
          ]
        },
        {
          "output_type": "stream",
          "name": "stderr",
          "text": [
            "/usr/local/lib/python3.7/dist-packages/ipykernel_launcher.py:4: UserWarning: `Model.fit_generator` is deprecated and will be removed in a future version. Please use `Model.fit`, which supports generators.\n",
            "  after removing the cwd from sys.path.\n"
          ]
        },
        {
          "output_type": "stream",
          "name": "stdout",
          "text": [
            "1344/1343 [==============================] - ETA: 0s - loss: 0.2301\n",
            "Measuring validation accuracy...\n",
            "448/448 [==============================] - 7s 15ms/step\n",
            "\n",
            "Validation accuracy: 0.94107\n",
            "\n",
            "1343/1343 [==============================] - 87s 62ms/step - loss: 0.2301\n",
            "Epoch 2/5\n",
            "1344/1343 [==============================] - ETA: 0s - loss: 0.0569\n",
            "Measuring validation accuracy...\n",
            "448/448 [==============================] - 6s 14ms/step\n",
            "\n",
            "Validation accuracy: 0.94469\n",
            "\n",
            "1343/1343 [==============================] - 84s 62ms/step - loss: 0.0569\n",
            "Epoch 3/5\n",
            "1343/1343 [============================>.] - ETA: 0s - loss: 0.0511\n",
            "Measuring validation accuracy...\n",
            "448/448 [==============================] - 6s 13ms/step\n",
            "\n",
            "Validation accuracy: 0.94643\n",
            "\n",
            "1343/1343 [==============================] - 80s 59ms/step - loss: 0.0511\n",
            "Epoch 4/5\n",
            "1343/1343 [============================>.] - ETA: 0s - loss: 0.0466\n",
            "Measuring validation accuracy...\n",
            "448/448 [==============================] - 6s 14ms/step\n",
            "\n",
            "Validation accuracy: 0.94653\n",
            "\n",
            "1343/1343 [==============================] - 77s 57ms/step - loss: 0.0466\n",
            "Epoch 5/5\n",
            "1344/1343 [==============================] - ETA: 0s - loss: 0.0429\n",
            "Measuring validation accuracy...\n",
            "448/448 [==============================] - 6s 14ms/step\n",
            "\n",
            "Validation accuracy: 0.94582\n",
            "\n",
            "1343/1343 [==============================] - 78s 58ms/step - loss: 0.0429\n"
          ]
        },
        {
          "output_type": "execute_result",
          "data": {
            "text/plain": [
              "<keras.callbacks.History at 0x7f6fd01695d0>"
            ]
          },
          "metadata": {},
          "execution_count": 13
        }
      ]
    },
    {
      "cell_type": "markdown",
      "metadata": {
        "id": "TTN7C34V8aHy"
      },
      "source": [
        "Measure final accuracy on the whole test set."
      ]
    },
    {
      "cell_type": "code",
      "metadata": {
        "collapsed": true,
        "id": "tHgxnYB68aHy",
        "colab": {
          "base_uri": "https://localhost:8080/"
        },
        "outputId": "5a521f92-12a5-47d0-a3d4-a23bea772acd"
      },
      "source": [
        "acc = compute_test_accuracy(model)\n",
        "print(\"Final accuracy: %.5f\"%acc)\n",
        "\n",
        "assert acc>0.94, \"Keras has gone on a rampage again, please contact course staff.\""
      ],
      "execution_count": null,
      "outputs": [
        {
          "output_type": "stream",
          "name": "stdout",
          "text": [
            "448/448 [==============================] - 6s 13ms/step\n",
            "Final accuracy: 0.94582\n"
          ]
        }
      ]
    },
    {
      "cell_type": "markdown",
      "metadata": {
        "id": "5L5Prr4I8aHy"
      },
      "source": [
        "### Going bidirectional\n",
        "\n",
        "Since we're analyzing a full sequence, it's legal for us to look into future data.\n",
        "\n",
        "A simple way to achieve that is to go both directions at once, making a __bidirectional RNN__.\n",
        "\n",
        "In Keras you can achieve that both manually (using two LSTMs and Concatenate) and by using __`keras.layers.Bidirectional`__. \n",
        "\n",
        "This one works just as `TimeDistributed` we saw before: you wrap it around a recurrent layer (SimpleRNN now and LSTM/GRU later) and it actually creates two layers under the hood.\n",
        "\n",
        "Your first task is to use such a layer our POS-tagger."
      ]
    },
    {
      "cell_type": "code",
      "metadata": {
        "collapsed": true,
        "id": "xWfCrbh-8aHy"
      },
      "source": [
        "#Define a model that utilizes bidirectional SimpleRNN\n",
        "model = keras.models.Sequential()\n",
        "\n",
        "model = keras.models.Sequential()\n",
        "\n",
        "model = keras.models.Sequential()\n",
        "model.add(L.InputLayer([None],dtype='int32'))\n",
        "model.add(L.Embedding(len(all_words),50))\n",
        "model.add(L.Bidirectional(L.SimpleRNN(64,return_sequences=True)))\n",
        "model.add(L.Bidirectional(L.LSTM(20, return_sequences=True)))\n",
        "model.add(L.Dense(len(all_tags), activation='softmax'))\n",
        "\n"
      ],
      "execution_count": null,
      "outputs": []
    },
    {
      "cell_type": "code",
      "metadata": {
        "collapsed": true,
        "id": "Ort64W348aHz",
        "colab": {
          "base_uri": "https://localhost:8080/"
        },
        "outputId": "d944d5a8-bdb6-4f9a-8216-59e694890ae4"
      },
      "source": [
        "model.compile('adam','categorical_crossentropy')\n",
        "\n",
        "model.fit_generator(generate_batches(train_data),len(train_data)/BATCH_SIZE,\n",
        "                    callbacks=[EvaluateAccuracy()], epochs=5,)"
      ],
      "execution_count": null,
      "outputs": [
        {
          "output_type": "stream",
          "name": "stdout",
          "text": [
            "Epoch 1/5\n"
          ]
        },
        {
          "output_type": "stream",
          "name": "stderr",
          "text": [
            "/usr/local/lib/python3.7/dist-packages/ipykernel_launcher.py:4: UserWarning: `Model.fit_generator` is deprecated and will be removed in a future version. Please use `Model.fit`, which supports generators.\n",
            "  after removing the cwd from sys.path.\n"
          ]
        },
        {
          "output_type": "stream",
          "name": "stdout",
          "text": [
            "1344/1343 [==============================] - ETA: 0s - loss: 0.2488\n",
            "Measuring validation accuracy...\n",
            "448/448 [==============================] - 15s 31ms/step\n",
            "\n",
            "Validation accuracy: 0.95565\n",
            "\n",
            "1343/1343 [==============================] - 168s 120ms/step - loss: 0.2488\n",
            "Epoch 2/5\n",
            "1344/1343 [==============================] - ETA: 0s - loss: 0.0448\n",
            "Measuring validation accuracy...\n",
            "448/448 [==============================] - 14s 32ms/step\n",
            "\n",
            "Validation accuracy: 0.96137\n",
            "\n",
            "1343/1343 [==============================] - 154s 115ms/step - loss: 0.0448\n",
            "Epoch 3/5\n",
            "1344/1343 [==============================] - ETA: 0s - loss: 0.0357\n",
            "Measuring validation accuracy...\n",
            "448/448 [==============================] - 14s 31ms/step\n",
            "\n",
            "Validation accuracy: 0.96327\n",
            "\n",
            "1343/1343 [==============================] - 159s 118ms/step - loss: 0.0357\n",
            "Epoch 4/5\n",
            "1344/1343 [==============================] - ETA: 0s - loss: 0.0300\n",
            "Measuring validation accuracy...\n",
            "448/448 [==============================] - 15s 33ms/step\n",
            "\n",
            "Validation accuracy: 0.96343\n",
            "\n",
            "1343/1343 [==============================] - 151s 113ms/step - loss: 0.0300\n",
            "Epoch 5/5\n",
            "1344/1343 [==============================] - ETA: 0s - loss: 0.0255\n",
            "Measuring validation accuracy...\n",
            "448/448 [==============================] - 14s 31ms/step\n",
            "\n",
            "Validation accuracy: 0.96328\n",
            "\n",
            "1343/1343 [==============================] - 151s 112ms/step - loss: 0.0255\n"
          ]
        },
        {
          "output_type": "execute_result",
          "data": {
            "text/plain": [
              "<keras.callbacks.History at 0x7f6f74157c90>"
            ]
          },
          "metadata": {},
          "execution_count": 17
        }
      ]
    },
    {
      "cell_type": "code",
      "metadata": {
        "collapsed": true,
        "id": "iWHSkF648aHz",
        "colab": {
          "base_uri": "https://localhost:8080/"
        },
        "outputId": "a2425300-6cf5-4a41-badc-8d4dcbccc4ff"
      },
      "source": [
        "acc = compute_test_accuracy(model)\n",
        "print(\"\\nFinal accuracy: %.5f\"%acc)\n",
        "\n",
        "assert acc>0.96, \"Bidirectional RNNs are better than this!\"\n",
        "print(\"Well done!\")"
      ],
      "execution_count": null,
      "outputs": [
        {
          "output_type": "stream",
          "name": "stdout",
          "text": [
            "448/448 [==============================] - 14s 31ms/step\n",
            "\n",
            "Final accuracy: 0.96328\n",
            "Well done!\n"
          ]
        }
      ]
    },
    {
      "cell_type": "markdown",
      "metadata": {
        "id": "VW_nFppS8aH0"
      },
      "source": [
        "Task I: Structured loss functions (more bonus points)\n",
        "\n",
        "Since we're tagging the whole sequence at once, we might as well train our network to do so. Remember linear CRF from the lecture? You can also use it as a loss function for your RNN\n",
        "\n",
        "\n",
        "  * There's more than one way to do so, but we'd recommend starting with [Conditional Random Fields](http://blog.echen.me/2012/01/03/introduction-to-conditional-random-fields/)\n",
        "  * You can plug CRF as a loss function and still train by backprop. There's even some neat tensorflow [implementation](https://www.tensorflow.org/addons/api_docs/python/tfa/layers/CRF) for you.\n",
        "  * Alternatively, you can condition your model on previous tags (make it autoregressive) and perform __beam search__ over that model."
      ]
    },
    {
      "cell_type": "code",
      "source": [
        "!pip install -q tensorflow-addons"
      ],
      "metadata": {
        "colab": {
          "base_uri": "https://localhost:8080/"
        },
        "id": "WIHltSGJz9-7",
        "outputId": "63a70fb2-ef2a-402d-f8c0-3191a9486042"
      },
      "execution_count": null,
      "outputs": [
        {
          "output_type": "stream",
          "name": "stdout",
          "text": [
            "\u001b[?25l\r\u001b[K     |▎                               | 10 kB 30.3 MB/s eta 0:00:01\r\u001b[K     |▋                               | 20 kB 27.5 MB/s eta 0:00:01\r\u001b[K     |█                               | 30 kB 34.8 MB/s eta 0:00:01\r\u001b[K     |█▏                              | 40 kB 16.9 MB/s eta 0:00:01\r\u001b[K     |█▌                              | 51 kB 15.5 MB/s eta 0:00:01\r\u001b[K     |█▉                              | 61 kB 17.9 MB/s eta 0:00:01\r\u001b[K     |██                              | 71 kB 16.8 MB/s eta 0:00:01\r\u001b[K     |██▍                             | 81 kB 16.1 MB/s eta 0:00:01\r\u001b[K     |██▊                             | 92 kB 17.6 MB/s eta 0:00:01\r\u001b[K     |███                             | 102 kB 17.1 MB/s eta 0:00:01\r\u001b[K     |███▎                            | 112 kB 17.1 MB/s eta 0:00:01\r\u001b[K     |███▋                            | 122 kB 17.1 MB/s eta 0:00:01\r\u001b[K     |███▉                            | 133 kB 17.1 MB/s eta 0:00:01\r\u001b[K     |████▏                           | 143 kB 17.1 MB/s eta 0:00:01\r\u001b[K     |████▌                           | 153 kB 17.1 MB/s eta 0:00:01\r\u001b[K     |████▊                           | 163 kB 17.1 MB/s eta 0:00:01\r\u001b[K     |█████                           | 174 kB 17.1 MB/s eta 0:00:01\r\u001b[K     |█████▍                          | 184 kB 17.1 MB/s eta 0:00:01\r\u001b[K     |█████▋                          | 194 kB 17.1 MB/s eta 0:00:01\r\u001b[K     |██████                          | 204 kB 17.1 MB/s eta 0:00:01\r\u001b[K     |██████▎                         | 215 kB 17.1 MB/s eta 0:00:01\r\u001b[K     |██████▌                         | 225 kB 17.1 MB/s eta 0:00:01\r\u001b[K     |██████▉                         | 235 kB 17.1 MB/s eta 0:00:01\r\u001b[K     |███████▏                        | 245 kB 17.1 MB/s eta 0:00:01\r\u001b[K     |███████▍                        | 256 kB 17.1 MB/s eta 0:00:01\r\u001b[K     |███████▊                        | 266 kB 17.1 MB/s eta 0:00:01\r\u001b[K     |████████                        | 276 kB 17.1 MB/s eta 0:00:01\r\u001b[K     |████████▎                       | 286 kB 17.1 MB/s eta 0:00:01\r\u001b[K     |████████▋                       | 296 kB 17.1 MB/s eta 0:00:01\r\u001b[K     |█████████                       | 307 kB 17.1 MB/s eta 0:00:01\r\u001b[K     |█████████▏                      | 317 kB 17.1 MB/s eta 0:00:01\r\u001b[K     |█████████▌                      | 327 kB 17.1 MB/s eta 0:00:01\r\u001b[K     |█████████▉                      | 337 kB 17.1 MB/s eta 0:00:01\r\u001b[K     |██████████                      | 348 kB 17.1 MB/s eta 0:00:01\r\u001b[K     |██████████▍                     | 358 kB 17.1 MB/s eta 0:00:01\r\u001b[K     |██████████▊                     | 368 kB 17.1 MB/s eta 0:00:01\r\u001b[K     |███████████                     | 378 kB 17.1 MB/s eta 0:00:01\r\u001b[K     |███████████▎                    | 389 kB 17.1 MB/s eta 0:00:01\r\u001b[K     |███████████▋                    | 399 kB 17.1 MB/s eta 0:00:01\r\u001b[K     |███████████▉                    | 409 kB 17.1 MB/s eta 0:00:01\r\u001b[K     |████████████▏                   | 419 kB 17.1 MB/s eta 0:00:01\r\u001b[K     |████████████▌                   | 430 kB 17.1 MB/s eta 0:00:01\r\u001b[K     |████████████▊                   | 440 kB 17.1 MB/s eta 0:00:01\r\u001b[K     |█████████████                   | 450 kB 17.1 MB/s eta 0:00:01\r\u001b[K     |█████████████▍                  | 460 kB 17.1 MB/s eta 0:00:01\r\u001b[K     |█████████████▋                  | 471 kB 17.1 MB/s eta 0:00:01\r\u001b[K     |██████████████                  | 481 kB 17.1 MB/s eta 0:00:01\r\u001b[K     |██████████████▎                 | 491 kB 17.1 MB/s eta 0:00:01\r\u001b[K     |██████████████▌                 | 501 kB 17.1 MB/s eta 0:00:01\r\u001b[K     |██████████████▉                 | 512 kB 17.1 MB/s eta 0:00:01\r\u001b[K     |███████████████▏                | 522 kB 17.1 MB/s eta 0:00:01\r\u001b[K     |███████████████▍                | 532 kB 17.1 MB/s eta 0:00:01\r\u001b[K     |███████████████▊                | 542 kB 17.1 MB/s eta 0:00:01\r\u001b[K     |████████████████                | 552 kB 17.1 MB/s eta 0:00:01\r\u001b[K     |████████████████▎               | 563 kB 17.1 MB/s eta 0:00:01\r\u001b[K     |████████████████▋               | 573 kB 17.1 MB/s eta 0:00:01\r\u001b[K     |█████████████████               | 583 kB 17.1 MB/s eta 0:00:01\r\u001b[K     |█████████████████▏              | 593 kB 17.1 MB/s eta 0:00:01\r\u001b[K     |█████████████████▌              | 604 kB 17.1 MB/s eta 0:00:01\r\u001b[K     |█████████████████▉              | 614 kB 17.1 MB/s eta 0:00:01\r\u001b[K     |██████████████████              | 624 kB 17.1 MB/s eta 0:00:01\r\u001b[K     |██████████████████▍             | 634 kB 17.1 MB/s eta 0:00:01\r\u001b[K     |██████████████████▊             | 645 kB 17.1 MB/s eta 0:00:01\r\u001b[K     |███████████████████             | 655 kB 17.1 MB/s eta 0:00:01\r\u001b[K     |███████████████████▎            | 665 kB 17.1 MB/s eta 0:00:01\r\u001b[K     |███████████████████▋            | 675 kB 17.1 MB/s eta 0:00:01\r\u001b[K     |███████████████████▉            | 686 kB 17.1 MB/s eta 0:00:01\r\u001b[K     |████████████████████▏           | 696 kB 17.1 MB/s eta 0:00:01\r\u001b[K     |████████████████████▌           | 706 kB 17.1 MB/s eta 0:00:01\r\u001b[K     |████████████████████▊           | 716 kB 17.1 MB/s eta 0:00:01\r\u001b[K     |█████████████████████           | 727 kB 17.1 MB/s eta 0:00:01\r\u001b[K     |█████████████████████▍          | 737 kB 17.1 MB/s eta 0:00:01\r\u001b[K     |█████████████████████▋          | 747 kB 17.1 MB/s eta 0:00:01\r\u001b[K     |██████████████████████          | 757 kB 17.1 MB/s eta 0:00:01\r\u001b[K     |██████████████████████▎         | 768 kB 17.1 MB/s eta 0:00:01\r\u001b[K     |██████████████████████▌         | 778 kB 17.1 MB/s eta 0:00:01\r\u001b[K     |██████████████████████▉         | 788 kB 17.1 MB/s eta 0:00:01\r\u001b[K     |███████████████████████▏        | 798 kB 17.1 MB/s eta 0:00:01\r\u001b[K     |███████████████████████▍        | 808 kB 17.1 MB/s eta 0:00:01\r\u001b[K     |███████████████████████▊        | 819 kB 17.1 MB/s eta 0:00:01\r\u001b[K     |████████████████████████        | 829 kB 17.1 MB/s eta 0:00:01\r\u001b[K     |████████████████████████▎       | 839 kB 17.1 MB/s eta 0:00:01\r\u001b[K     |████████████████████████▋       | 849 kB 17.1 MB/s eta 0:00:01\r\u001b[K     |█████████████████████████       | 860 kB 17.1 MB/s eta 0:00:01\r\u001b[K     |█████████████████████████▎      | 870 kB 17.1 MB/s eta 0:00:01\r\u001b[K     |█████████████████████████▌      | 880 kB 17.1 MB/s eta 0:00:01\r\u001b[K     |█████████████████████████▉      | 890 kB 17.1 MB/s eta 0:00:01\r\u001b[K     |██████████████████████████▏     | 901 kB 17.1 MB/s eta 0:00:01\r\u001b[K     |██████████████████████████▍     | 911 kB 17.1 MB/s eta 0:00:01\r\u001b[K     |██████████████████████████▊     | 921 kB 17.1 MB/s eta 0:00:01\r\u001b[K     |███████████████████████████     | 931 kB 17.1 MB/s eta 0:00:01\r\u001b[K     |███████████████████████████▎    | 942 kB 17.1 MB/s eta 0:00:01\r\u001b[K     |███████████████████████████▋    | 952 kB 17.1 MB/s eta 0:00:01\r\u001b[K     |████████████████████████████    | 962 kB 17.1 MB/s eta 0:00:01\r\u001b[K     |████████████████████████████▏   | 972 kB 17.1 MB/s eta 0:00:01\r\u001b[K     |████████████████████████████▌   | 983 kB 17.1 MB/s eta 0:00:01\r\u001b[K     |████████████████████████████▉   | 993 kB 17.1 MB/s eta 0:00:01\r\u001b[K     |█████████████████████████████   | 1.0 MB 17.1 MB/s eta 0:00:01\r\u001b[K     |█████████████████████████████▍  | 1.0 MB 17.1 MB/s eta 0:00:01\r\u001b[K     |█████████████████████████████▊  | 1.0 MB 17.1 MB/s eta 0:00:01\r\u001b[K     |██████████████████████████████  | 1.0 MB 17.1 MB/s eta 0:00:01\r\u001b[K     |██████████████████████████████▎ | 1.0 MB 17.1 MB/s eta 0:00:01\r\u001b[K     |██████████████████████████████▋ | 1.1 MB 17.1 MB/s eta 0:00:01\r\u001b[K     |██████████████████████████████▉ | 1.1 MB 17.1 MB/s eta 0:00:01\r\u001b[K     |███████████████████████████████▏| 1.1 MB 17.1 MB/s eta 0:00:01\r\u001b[K     |███████████████████████████████▌| 1.1 MB 17.1 MB/s eta 0:00:01\r\u001b[K     |███████████████████████████████▊| 1.1 MB 17.1 MB/s eta 0:00:01\r\u001b[K     |████████████████████████████████| 1.1 MB 17.1 MB/s \n",
            "\u001b[?25h"
          ]
        }
      ]
    },
    {
      "cell_type": "code",
      "source": [
        "import tensorflow as tf\n",
        "import tensorflow_addons as tfa"
      ],
      "metadata": {
        "id": "ux1JoZvEz5Kn"
      },
      "execution_count": null,
      "outputs": []
    },
    {
      "cell_type": "code",
      "metadata": {
        "id": "uXEj1Nm98aH0"
      },
      "source": [
        "model = keras.models.Sequential()\n",
        "\n",
        "inputs = L.Input([None],dtype='int32')\n",
        "x = L.Embedding(len(all_words),50)(inputs)\n",
        "x = L.SimpleRNN(64,return_sequences=True)(x)\n",
        "x = L.Bidirectional(L.LSTM(64,return_sequences=True))(x)\n",
        "#add top layer that predicts tag probabilities\n",
        "x = L.TimeDistributed(L.Dense(len(all_tags),activation='softmax'))(x)\n",
        "\n",
        "# crf = tfa.layers.CRF(len(all_words))  # CRF layer\n",
        "# decoded_sequence, potentials, sequence_length, chain_kernel = crf(x)  # output\n",
        "\n",
        "model = tf.keras.Model(inputs, x) # potentials\n",
        "model.add_loss(tf.abs(tf.reduce_mean(x)))\n",
        "model.compile(optimizer=\"rmsprop\", loss='categorical_crossentropy') #, tfa.losses.SigmoidFocalCrossEntropy()\n",
        "\n"
      ],
      "execution_count": null,
      "outputs": []
    },
    {
      "cell_type": "code",
      "source": [
        "# model.compile('adam','categorical_crossentropy')\n",
        "\n",
        "model.fit_generator(generate_batches(train_data),len(train_data)/BATCH_SIZE,\n",
        "                    callbacks=[EvaluateAccuracy()], epochs=5,)\n",
        "\n"
      ],
      "metadata": {
        "colab": {
          "base_uri": "https://localhost:8080/"
        },
        "id": "G305wefbwwT9",
        "outputId": "28329b43-03e3-47a6-f65e-476c5138c841"
      },
      "execution_count": null,
      "outputs": [
        {
          "output_type": "stream",
          "name": "stdout",
          "text": [
            "Epoch 1/5\n"
          ]
        },
        {
          "output_type": "stream",
          "name": "stderr",
          "text": [
            "/usr/local/lib/python3.7/dist-packages/ipykernel_launcher.py:4: UserWarning: `Model.fit_generator` is deprecated and will be removed in a future version. Please use `Model.fit`, which supports generators.\n",
            "  after removing the cwd from sys.path.\n"
          ]
        },
        {
          "output_type": "stream",
          "name": "stdout",
          "text": [
            "1343/1343 [============================>.] - ETA: 0s - loss: 0.2495\n",
            "Measuring validation accuracy...\n",
            "448/448 [==============================] - 9s 19ms/step\n",
            "\n",
            "Validation accuracy: 0.95557\n",
            "\n",
            "1343/1343 [==============================] - 100s 68ms/step - loss: 0.2495\n",
            "Epoch 2/5\n",
            "1344/1343 [==============================] - ETA: 0s - loss: 0.1158\n",
            "Measuring validation accuracy...\n",
            "448/448 [==============================] - 9s 20ms/step\n",
            "\n",
            "Validation accuracy: 0.96212\n",
            "\n",
            "1343/1343 [==============================] - 94s 70ms/step - loss: 0.1158\n",
            "Epoch 3/5\n",
            "1344/1343 [==============================] - ETA: 0s - loss: 0.1089\n",
            "Measuring validation accuracy...\n",
            "448/448 [==============================] - 9s 20ms/step\n",
            "\n",
            "Validation accuracy: 0.96470\n",
            "\n",
            "1343/1343 [==============================] - 94s 70ms/step - loss: 0.1089\n",
            "Epoch 4/5\n",
            "1344/1343 [==============================] - ETA: 0s - loss: 0.1053\n",
            "Measuring validation accuracy...\n",
            "448/448 [==============================] - 9s 20ms/step\n",
            "\n",
            "Validation accuracy: 0.96560\n",
            "\n",
            "1343/1343 [==============================] - 95s 71ms/step - loss: 0.1053\n",
            "Epoch 5/5\n",
            "1343/1343 [============================>.] - ETA: 0s - loss: 0.1026\n",
            "Measuring validation accuracy...\n",
            "448/448 [==============================] - 9s 20ms/step\n",
            "\n",
            "Validation accuracy: 0.96571\n",
            "\n",
            "1343/1343 [==============================] - 93s 69ms/step - loss: 0.1027\n"
          ]
        },
        {
          "output_type": "execute_result",
          "data": {
            "text/plain": [
              "<keras.callbacks.History at 0x7f6f6f9929d0>"
            ]
          },
          "metadata": {},
          "execution_count": 25
        }
      ]
    },
    {
      "cell_type": "code",
      "source": [
        "acc = compute_test_accuracy(model)\n",
        "print(\"\\nFinal accuracy: %.5f\"%acc)"
      ],
      "metadata": {
        "colab": {
          "base_uri": "https://localhost:8080/"
        },
        "id": "AeRw6p-uw0u8",
        "outputId": "9e8ed17d-3434-45a2-a7be-2d09d001c132"
      },
      "execution_count": null,
      "outputs": [
        {
          "output_type": "stream",
          "name": "stdout",
          "text": [
            "448/448 [==============================] - 9s 19ms/step\n",
            "\n",
            "Final accuracy: 0.96571\n"
          ]
        }
      ]
    },
    {
      "cell_type": "code",
      "source": [
        "#dropout 0.2\n",
        "model = keras.models.Sequential()\n",
        "\n",
        "inputs = L.Input([None],dtype='int32')\n",
        "x = L.Embedding(len(all_words),50)(inputs)\n",
        "x = L.SimpleRNN(64,return_sequences=True)(x)\n",
        "x = L.Bidirectional(L.LSTM(64, return_sequences=True))(x)\n",
        "x = L.Dropout(0.2)(x)\n",
        "#add top layer that predicts tag probabilities\n",
        "x = L.TimeDistributed(L.Dense(len(all_tags),activation='softmax'))(x)\n",
        "\n",
        "model = tf.keras.Model(inputs, x)\n",
        "model.add_loss(tf.abs(tf.reduce_mean(x)))\n",
        "model.compile(optimizer=\"rmsprop\", loss='categorical_crossentropy')\n",
        "model.fit_generator(generate_batches(train_data),len(train_data)/BATCH_SIZE,\n",
        "                    callbacks=[EvaluateAccuracy()], epochs=5,)"
      ],
      "metadata": {
        "colab": {
          "base_uri": "https://localhost:8080/"
        },
        "id": "TAcjNwcw2GyL",
        "outputId": "154d6bda-a5c9-4bcb-862e-398a33d9afd2"
      },
      "execution_count": null,
      "outputs": [
        {
          "output_type": "stream",
          "name": "stdout",
          "text": [
            "Epoch 1/5\n"
          ]
        },
        {
          "output_type": "stream",
          "name": "stderr",
          "text": [
            "/usr/local/lib/python3.7/dist-packages/ipykernel_launcher.py:15: UserWarning: `Model.fit_generator` is deprecated and will be removed in a future version. Please use `Model.fit`, which supports generators.\n",
            "  from ipykernel import kernelapp as app\n"
          ]
        },
        {
          "output_type": "stream",
          "name": "stdout",
          "text": [
            "1344/1343 [==============================] - ETA: 0s - loss: 0.2586\n",
            "Measuring validation accuracy...\n",
            "448/448 [==============================] - 14s 29ms/step\n",
            "\n",
            "Validation accuracy: 0.95508\n",
            "\n",
            "1343/1343 [==============================] - 116s 83ms/step - loss: 0.2586\n",
            "Epoch 2/5\n",
            "1343/1343 [============================>.] - ETA: 0s - loss: 0.1195\n",
            "Measuring validation accuracy...\n",
            "448/448 [==============================] - 9s 19ms/step\n",
            "\n",
            "Validation accuracy: 0.96073\n",
            "\n",
            "1343/1343 [==============================] - 101s 75ms/step - loss: 0.1195\n",
            "Epoch 3/5\n",
            "1344/1343 [==============================] - ETA: 0s - loss: 0.1121\n",
            "Measuring validation accuracy...\n",
            "448/448 [==============================] - 12s 26ms/step\n",
            "\n",
            "Validation accuracy: 0.96429\n",
            "\n",
            "1343/1343 [==============================] - 111s 83ms/step - loss: 0.1121\n",
            "Epoch 4/5\n",
            "1344/1343 [==============================] - ETA: 0s - loss: 0.1082\n",
            "Measuring validation accuracy...\n",
            "448/448 [==============================] - 9s 19ms/step\n",
            "\n",
            "Validation accuracy: 0.96547\n",
            "\n",
            "1343/1343 [==============================] - 98s 73ms/step - loss: 0.1082\n",
            "Epoch 5/5\n",
            "1344/1343 [==============================] - ETA: 0s - loss: 0.1052\n",
            "Measuring validation accuracy...\n",
            "448/448 [==============================] - 9s 19ms/step\n",
            "\n",
            "Validation accuracy: 0.96615\n",
            "\n",
            "1343/1343 [==============================] - 96s 72ms/step - loss: 0.1052\n"
          ]
        },
        {
          "output_type": "execute_result",
          "data": {
            "text/plain": [
              "<keras.callbacks.History at 0x7f6f58cbdad0>"
            ]
          },
          "metadata": {},
          "execution_count": 27
        }
      ]
    },
    {
      "cell_type": "code",
      "source": [
        "acc = compute_test_accuracy(model)\n",
        "print(\"\\nFinal accuracy: %.5f\"%acc)"
      ],
      "metadata": {
        "colab": {
          "base_uri": "https://localhost:8080/"
        },
        "id": "ffK54tGi2O59",
        "outputId": "f4696987-cdf1-40b4-f65e-4ead77ba196a"
      },
      "execution_count": null,
      "outputs": [
        {
          "output_type": "stream",
          "name": "stdout",
          "text": [
            "448/448 [==============================] - 9s 20ms/step\n",
            "\n",
            "Final accuracy: 0.96615\n"
          ]
        }
      ]
    },
    {
      "cell_type": "markdown",
      "metadata": {
        "id": "AG_wuMVf8aH0"
      },
      "source": [
        "\n",
        "#### Some tips\n",
        "Here there are a few more tips on how to improve training that are a bit trickier to impliment. We strongly suggest that you try them _after_ you've got a good initial model.\n",
        "* __Use pre-trained embeddings__: you can use pre-trained weights from [there](http://ahogrammer.com/2017/01/20/the-list-of-pretrained-word-embeddings/) to kickstart your Embedding layer.\n",
        "  * Embedding layer has a matrix W (layer.W) which contains word embeddings for each word in the dictionary. You can just overwrite them with tf.assign.\n",
        "  * When using pre-trained embeddings, pay attention to the fact that model's dictionary is different from your own.\n",
        "  * You may want to switch trainable=False for embedding layer in first few epochs as in regular fine-tuning.  \n",
        "* __Go beyond SimpleRNN__: there's `keras.layers.LSTM` and `keras.layers.GRU`\n",
        "  * If you want to use a custom recurrent Cell, read [this](https://keras.io/layers/recurrent/#rnn)\n",
        "  * You can also use 1D Convolutions (`keras.layers.Conv1D`). They are often as good as recurrent layers but with less overfitting.\n",
        "* __Stack more layers__: if there is a common motif to this course it's about stacking layers\n",
        "  * You can just add recurrent and 1dconv layers on top of one another and keras will understand it\n",
        "  * Just remember that bigger networks may need more epochs to train\n",
        "* __Regularization__: you can apply dropouts as usual but also in an RNN-specific way\n",
        "  * `keras.layers.Dropout` works inbetween RNN layers\n",
        "  * Recurrent layers also have `recurrent_dropout` parameter\n",
        "* __Gradient clipping__: If your training isn't as stable as you'd like, set `clipnorm` in your optimizer.\n",
        "  * Which is to say, it's a good idea to watch over your loss curve at each minibatch. Try tensorboard callback or something similar.\n",
        "* __Word Dropout__: tl;dr randomly replace words with UNK during training. \n",
        "  * This can also simulate increased amount of unknown words in the test set\n",
        "* __Larger vocabulary__: You can obtain greater performance by expanding your model's input dictionary from 5000 to up to every single word!\n",
        "  * Just make sure your model doesn't overfit due to so many parameters.\n",
        "  * Combined with regularizers or pre-trained word-vectors this could be really good cuz right now our model is blind to >5% of words.  \n",
        "* __More efficient batching__: right now TF spends a lot of time iterating over \"0\"s\n",
        "  * This happens because batch is always padded to the length of a longest sentence\n",
        "  * You can speed things up by pre-generating batches of similar lengths and feeding it with randomly chosen pre-generated batch.\n",
        "  * This technically breaks the i.i.d. assumption, but it works unless you come up with some insane rnn architectures.\n",
        "* __The most important advice__: don't cram in everything at once!\n",
        "  * If you stuff in a lot of modiffications, some of them almost inevitably gonna be detrimental and you'll never know which of them are.\n",
        "  * Try to instead go in small iterations and record experiment results to guide further search.\n",
        "    \n",
        "Good hunting!"
      ]
    },
    {
      "cell_type": "code",
      "metadata": {
        "id": "TF1T00yr8RvM"
      },
      "source": [],
      "execution_count": null,
      "outputs": []
    }
  ]
}