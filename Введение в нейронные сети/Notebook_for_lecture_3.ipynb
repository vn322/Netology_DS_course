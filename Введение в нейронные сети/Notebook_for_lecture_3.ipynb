{
  "nbformat": 4,
  "nbformat_minor": 0,
  "metadata": {
    "kernelspec": {
      "display_name": "Python 3",
      "language": "python",
      "name": "python3"
    },
    "language_info": {
      "codemirror_mode": {
        "name": "ipython",
        "version": 3
      },
      "file_extension": ".py",
      "mimetype": "text/x-python",
      "name": "python",
      "nbconvert_exporter": "python",
      "pygments_lexer": "ipython3",
      "version": "3.7.3"
    },
    "colab": {
      "name": "Intro to NN. Seminar 3.ipynb",
      "provenance": [],
      "collapsed_sections": []
    },
    "accelerator": "GPU"
  },
  "cells": [
    {
      "cell_type": "markdown",
      "metadata": {
        "id": "wam9bqBX-PT4"
      },
      "source": [
        "# Классификация MNIST сверточной сетью\n",
        "\n",
        "https://www.kaggle.com/c/digit-recognizer"
      ]
    },
    {
      "cell_type": "code",
      "metadata": {
        "id": "7GXdhb_G-vkc",
        "colab": {
          "base_uri": "https://localhost:8080/"
        },
        "outputId": "c6b1d931-a1b4-470f-e18a-f8525f9b849d"
      },
      "source": [
        "!wget https://www.dropbox.com/s/9wrovo5cugw8xdu/digit-recognizer.zip\n",
        "!unzip digit-recognizer.zip "
      ],
      "execution_count": null,
      "outputs": [
        {
          "output_type": "stream",
          "text": [
            "--2021-03-25 17:44:08--  https://www.dropbox.com/s/9wrovo5cugw8xdu/digit-recognizer.zip\n",
            "Resolving www.dropbox.com (www.dropbox.com)... 162.125.82.18, 2620:100:6032:18::a27d:5212\n",
            "Connecting to www.dropbox.com (www.dropbox.com)|162.125.82.18|:443... connected.\n",
            "HTTP request sent, awaiting response... 301 Moved Permanently\n",
            "Location: /s/raw/9wrovo5cugw8xdu/digit-recognizer.zip [following]\n",
            "--2021-03-25 17:44:08--  https://www.dropbox.com/s/raw/9wrovo5cugw8xdu/digit-recognizer.zip\n",
            "Reusing existing connection to www.dropbox.com:443.\n",
            "HTTP request sent, awaiting response... 302 Found\n",
            "Location: https://uccdc5803bbb3313236c14041e77.dl.dropboxusercontent.com/cd/0/inline/BLWfovC7uQuar_Vif5MaE-pJcINqZcA5-bPgQdC6kwQYUMh3XtwmAES0IoIXluk5vw8Su-cw4t41DXTivgL9d4JmMlGC-Gn6C5dTpGyfOtO3xvPi1vFeb6MZMUvt2zt1kNMgZM61BJ4YmYGB7nYfvDaa/file# [following]\n",
            "--2021-03-25 17:44:09--  https://uccdc5803bbb3313236c14041e77.dl.dropboxusercontent.com/cd/0/inline/BLWfovC7uQuar_Vif5MaE-pJcINqZcA5-bPgQdC6kwQYUMh3XtwmAES0IoIXluk5vw8Su-cw4t41DXTivgL9d4JmMlGC-Gn6C5dTpGyfOtO3xvPi1vFeb6MZMUvt2zt1kNMgZM61BJ4YmYGB7nYfvDaa/file\n",
            "Resolving uccdc5803bbb3313236c14041e77.dl.dropboxusercontent.com (uccdc5803bbb3313236c14041e77.dl.dropboxusercontent.com)... 162.125.80.15, 2620:100:6032:15::a27d:520f\n",
            "Connecting to uccdc5803bbb3313236c14041e77.dl.dropboxusercontent.com (uccdc5803bbb3313236c14041e77.dl.dropboxusercontent.com)|162.125.80.15|:443... connected.\n",
            "HTTP request sent, awaiting response... 302 Found\n",
            "Location: /cd/0/inline2/BLUYWspx-htcEQJZFT-QW114cv3phpIJWajReVGlnRGVodzzsRNi1p6eJZY61x-Cu_Hg12NHry6UF5zn0jUiI65Qv1zobnS4itOp-0KWe-PB-HT_gywUNRvj_-PDQ2-jOVIu47zh0Zshjyow-S76DfvnrNcMdWhz6Rx5o20kT8xIKUegb_JqmTuXWtMj3TNqaXVYgoOnQPFRt-cgDhqB5FYoNxYVecp5YmGhlm99J-C81AnOMQyS2lulQbuF-D_cB9Qd8I9Y1raZL00ogP7FHiuRSitt0z5hq0YI_o1IJq9ZxTHrhvRaQ_7MlZjSXEHsZbTgMI7OeA_eNwf5lLRdkki2EWJAm1SJsg9ZU3XcoitK5ahdzHJMl2KT2-MEvhwa_RY/file [following]\n",
            "--2021-03-25 17:44:10--  https://uccdc5803bbb3313236c14041e77.dl.dropboxusercontent.com/cd/0/inline2/BLUYWspx-htcEQJZFT-QW114cv3phpIJWajReVGlnRGVodzzsRNi1p6eJZY61x-Cu_Hg12NHry6UF5zn0jUiI65Qv1zobnS4itOp-0KWe-PB-HT_gywUNRvj_-PDQ2-jOVIu47zh0Zshjyow-S76DfvnrNcMdWhz6Rx5o20kT8xIKUegb_JqmTuXWtMj3TNqaXVYgoOnQPFRt-cgDhqB5FYoNxYVecp5YmGhlm99J-C81AnOMQyS2lulQbuF-D_cB9Qd8I9Y1raZL00ogP7FHiuRSitt0z5hq0YI_o1IJq9ZxTHrhvRaQ_7MlZjSXEHsZbTgMI7OeA_eNwf5lLRdkki2EWJAm1SJsg9ZU3XcoitK5ahdzHJMl2KT2-MEvhwa_RY/file\n",
            "Reusing existing connection to uccdc5803bbb3313236c14041e77.dl.dropboxusercontent.com:443.\n",
            "HTTP request sent, awaiting response... 200 OK\n",
            "Length: 16054568 (15M) [application/zip]\n",
            "Saving to: ‘digit-recognizer.zip’\n",
            "\n",
            "digit-recognizer.zi 100%[===================>]  15.31M  13.3MB/s    in 1.2s    \n",
            "\n",
            "2021-03-25 17:44:12 (13.3 MB/s) - ‘digit-recognizer.zip’ saved [16054568/16054568]\n",
            "\n",
            "Archive:  digit-recognizer.zip\n",
            "  inflating: sample_submission.csv   \n",
            "  inflating: test.csv                \n",
            "  inflating: train.csv               \n"
          ],
          "name": "stdout"
        }
      ]
    },
    {
      "cell_type": "code",
      "metadata": {
        "id": "MYMa35NN-PT-",
        "colab": {
          "base_uri": "https://localhost:8080/"
        },
        "outputId": "2280ce94-3459-40e4-ed65-fbd3cef79043"
      },
      "source": [
        "import cv2\n",
        "import numpy as np\n",
        "import tensorflow as tf\n",
        "\n",
        "print(tf.__version__)\n",
        "print(tf.executing_eagerly())"
      ],
      "execution_count": null,
      "outputs": [
        {
          "output_type": "stream",
          "text": [
            "2.4.1\n",
            "True\n"
          ],
          "name": "stdout"
        }
      ]
    },
    {
      "cell_type": "code",
      "metadata": {
        "id": "WGgwb7uR-PUA"
      },
      "source": [
        "train = np.loadtxt('train.csv', delimiter=',', skiprows=1)\n",
        "test = np.loadtxt('test.csv', delimiter=',', skiprows=1)"
      ],
      "execution_count": null,
      "outputs": []
    },
    {
      "cell_type": "code",
      "metadata": {
        "id": "YxCmQ8p6-PUA"
      },
      "source": [
        "# сохраняем разметку в отдельную переменную\n",
        "train_label = train[:, 0]\n",
        "\n",
        "# приводим размерность к удобному для обаботки виду\n",
        "# добавляем размерность канала\n",
        "train_img = np.resize(train[:, 1:], (train.shape[0], 28, 28, 1))\n",
        "test_img = np.resize(test, (test.shape[0], 28, 28, 1))"
      ],
      "execution_count": null,
      "outputs": []
    },
    {
      "cell_type": "markdown",
      "metadata": {
        "id": "AfJmhSd8-PUB"
      },
      "source": [
        "## Визуализируем исходные данные"
      ]
    },
    {
      "cell_type": "code",
      "metadata": {
        "id": "krOeCzpp-PUB",
        "colab": {
          "base_uri": "https://localhost:8080/",
          "height": 256
        },
        "outputId": "21c9be6c-f476-4b96-ee94-3e3679b695e5"
      },
      "source": [
        "%matplotlib inline\n",
        "import matplotlib.pyplot as plt\n",
        "\n",
        "fig = plt.figure(figsize=(20, 10))\n",
        "for i, img in enumerate(train_img[0:5, :], 1):\n",
        "    subplot = fig.add_subplot(1, 5, i)\n",
        "    plt.imshow(img[:,:,0], cmap='gray');\n",
        "    subplot.set_title('%s' % train_label[i - 1]);"
      ],
      "execution_count": null,
      "outputs": [
        {
          "output_type": "display_data",
          "data": {
            "image/png": "[encoded data removed]",
            "text/plain": [
              "<Figure size 1440x720 with 5 Axes>"
            ]
          },
          "metadata": {
            "tags": [],
            "needs_background": "light"
          }
        }
      ]
    },
    {
      "cell_type": "markdown",
      "metadata": {
        "id": "MssFvw-p-PUB"
      },
      "source": [
        "## Разбиваем выборку на обучение и валидацию"
      ]
    },
    {
      "cell_type": "code",
      "metadata": {
        "id": "C3H_546f-PUC"
      },
      "source": [
        "from sklearn.model_selection import train_test_split\n",
        "y_train, y_val, x_train, x_val = train_test_split(\n",
        "    train_label, train_img, test_size=0.2, random_state=42)"
      ],
      "execution_count": null,
      "outputs": []
    },
    {
      "cell_type": "markdown",
      "metadata": {
        "id": "FjnpPir3-PUC"
      },
      "source": [
        "## Собираем сверточную сеть для обучения"
      ]
    },
    {
      "cell_type": "code",
      "metadata": {
        "id": "NLvBtFnA-PUC"
      },
      "source": [
        "model = tf.keras.models.Sequential([\n",
        "    tf.keras.layers.Conv2D(filters=6,\n",
        "                           kernel_size=(5, 5),\n",
        "                           padding='same',\n",
        "                           activation='relu',\n",
        "                           input_shape=x_train.shape[1:]),\n",
        "    tf.keras.layers.MaxPool2D(pool_size=(2, 2), padding='valid'),\n",
        "    \n",
        "    tf.keras.layers.Conv2D(filters=16, \n",
        "                           kernel_size=(5, 5),\n",
        "                           padding='same',\n",
        "                           activation='relu'),\n",
        "    tf.keras.layers.MaxPool2D(pool_size=(2, 2), padding='valid'),\n",
        "    \n",
        "    tf.keras.layers.Flatten(),\n",
        "    tf.keras.layers.Dense(32, activation='relu'),\n",
        "    tf.keras.layers.Dense(10, activation='softmax')])\n",
        "\n",
        "model.compile(optimizer='adam',\n",
        "              loss='categorical_crossentropy',\n",
        "              metrics=['accuracy'])"
      ],
      "execution_count": null,
      "outputs": []
    },
    {
      "cell_type": "code",
      "metadata": {
        "id": "s9Q-kgO--PUD",
        "colab": {
          "base_uri": "https://localhost:8080/"
        },
        "outputId": "29e3c37a-ee4f-4be1-a33f-1ac526755b78"
      },
      "source": [
        "model.summary()"
      ],
      "execution_count": null,
      "outputs": [
        {
          "output_type": "stream",
          "text": [
            "Model: \"sequential\"\n",
            "_________________________________________________________________\n",
            "Layer (type)                 Output Shape              Param #   \n",
            "=================================================================\n",
            "conv2d (Conv2D)              (None, 28, 28, 6)         156       \n",
            "_________________________________________________________________\n",
            "max_pooling2d (MaxPooling2D) (None, 14, 14, 6)         0         \n",
            "_________________________________________________________________\n",
            "conv2d_1 (Conv2D)            (None, 14, 14, 16)        2416      \n",
            "_________________________________________________________________\n",
            "max_pooling2d_1 (MaxPooling2 (None, 7, 7, 16)          0         \n",
            "_________________________________________________________________\n",
            "flatten (Flatten)            (None, 784)               0         \n",
            "_________________________________________________________________\n",
            "dense (Dense)                (None, 32)                25120     \n",
            "_________________________________________________________________\n",
            "dense_1 (Dense)              (None, 10)                330       \n",
            "=================================================================\n",
            "Total params: 28,022\n",
            "Trainable params: 28,022\n",
            "Non-trainable params: 0\n",
            "_________________________________________________________________\n"
          ],
          "name": "stdout"
        }
      ]
    },
    {
      "cell_type": "markdown",
      "metadata": {
        "id": "mdWWGVWh-PUD"
      },
      "source": [
        "## One-hot кодировка разметки"
      ]
    },
    {
      "cell_type": "code",
      "metadata": {
        "id": "t53WhEJj-PUD"
      },
      "source": [
        "y_train_labels = tf.keras.utils.to_categorical(y_train)"
      ],
      "execution_count": null,
      "outputs": []
    },
    {
      "cell_type": "code",
      "metadata": {
        "id": "_DDvCDWO-PUE",
        "colab": {
          "base_uri": "https://localhost:8080/"
        },
        "outputId": "ef8e666b-0cc6-482f-c97f-0b634042fc37"
      },
      "source": [
        "print(y_train.shape)\n",
        "print(y_train_labels.shape)"
      ],
      "execution_count": null,
      "outputs": [
        {
          "output_type": "stream",
          "text": [
            "(33600,)\n",
            "(33600, 10)\n"
          ],
          "name": "stdout"
        }
      ]
    },
    {
      "cell_type": "markdown",
      "metadata": {
        "id": "C1spRItd-PUE"
      },
      "source": [
        "## Запускаем обучение"
      ]
    },
    {
      "cell_type": "code",
      "metadata": {
        "id": "8gNQkGB0-PUE",
        "colab": {
          "base_uri": "https://localhost:8080/"
        },
        "outputId": "fc78f5cc-6baa-407f-a40b-a9269b0fecda"
      },
      "source": [
        "model.fit(x_train, \n",
        "          y_train_labels,\n",
        "          batch_size=32, \n",
        "          epochs=5,\n",
        "          validation_split=0.2)"
      ],
      "execution_count": null,
      "outputs": [
        {
          "output_type": "stream",
          "text": [
            "Epoch 1/5\n",
            "840/840 [==============================] - 33s 3ms/step - loss: 2.6211 - accuracy: 0.6638 - val_loss: 0.2079 - val_accuracy: 0.9408\n",
            "Epoch 2/5\n",
            "840/840 [==============================] - 2s 3ms/step - loss: 0.1579 - accuracy: 0.9529 - val_loss: 0.1362 - val_accuracy: 0.9586\n",
            "Epoch 3/5\n",
            "840/840 [==============================] - 2s 3ms/step - loss: 0.0928 - accuracy: 0.9711 - val_loss: 0.1273 - val_accuracy: 0.9674\n",
            "Epoch 4/5\n",
            "840/840 [==============================] - 2s 3ms/step - loss: 0.0706 - accuracy: 0.9764 - val_loss: 0.1209 - val_accuracy: 0.9638\n",
            "Epoch 5/5\n",
            "840/840 [==============================] - 2s 3ms/step - loss: 0.0576 - accuracy: 0.9808 - val_loss: 0.0923 - val_accuracy: 0.9744\n"
          ],
          "name": "stdout"
        },
        {
          "output_type": "execute_result",
          "data": {
            "text/plain": [
              "<tensorflow.python.keras.callbacks.History at 0x7feed14d6f90>"
            ]
          },
          "metadata": {
            "tags": []
          },
          "execution_count": 12
        }
      ]
    },
    {
      "cell_type": "markdown",
      "metadata": {
        "id": "DU8-qtD6-PUE"
      },
      "source": [
        "## Предсказываем класс объекта"
      ]
    },
    {
      "cell_type": "code",
      "metadata": {
        "id": "7YOXhjXz-PUF"
      },
      "source": [
        "y_pred = model.predict(x_val)\n",
        "y_pred_labels = np.argmax(y_pred, axis=1)"
      ],
      "execution_count": null,
      "outputs": []
    },
    {
      "cell_type": "markdown",
      "metadata": {
        "id": "RLqb0lu9-PUF"
      },
      "source": [
        "## Оцениваем качество решение на валидационной выборке"
      ]
    },
    {
      "cell_type": "code",
      "metadata": {
        "id": "pv3JU7Sr-PUF",
        "colab": {
          "base_uri": "https://localhost:8080/"
        },
        "outputId": "fc3a4a92-3a77-44d1-9f7f-31e886e43fc7"
      },
      "source": [
        "from sklearn.metrics import accuracy_score\n",
        "print('Accuracy: %s' % accuracy_score(y_val, y_pred_labels))"
      ],
      "execution_count": null,
      "outputs": [
        {
          "output_type": "stream",
          "text": [
            "Accuracy: 0.9719047619047619\n"
          ],
          "name": "stdout"
        }
      ]
    },
    {
      "cell_type": "code",
      "metadata": {
        "id": "HK_wcKkG-PUF",
        "colab": {
          "base_uri": "https://localhost:8080/"
        },
        "outputId": "c995b336-7123-4e44-8ae2-68ac2fd657a9"
      },
      "source": [
        "from sklearn.metrics import classification_report\n",
        "print(classification_report(y_val, y_pred_labels))"
      ],
      "execution_count": null,
      "outputs": [
        {
          "output_type": "stream",
          "text": [
            "              precision    recall  f1-score   support\n",
            "\n",
            "         0.0       0.99      0.97      0.98       816\n",
            "         1.0       0.98      0.98      0.98       909\n",
            "         2.0       0.97      0.98      0.98       846\n",
            "         3.0       0.98      0.97      0.98       937\n",
            "         4.0       0.95      0.98      0.97       839\n",
            "         5.0       0.98      0.97      0.97       702\n",
            "         6.0       0.97      0.97      0.97       785\n",
            "         7.0       0.99      0.96      0.97       893\n",
            "         8.0       0.97      0.96      0.97       835\n",
            "         9.0       0.94      0.97      0.95       838\n",
            "\n",
            "    accuracy                           0.97      8400\n",
            "   macro avg       0.97      0.97      0.97      8400\n",
            "weighted avg       0.97      0.97      0.97      8400\n",
            "\n"
          ],
          "name": "stdout"
        }
      ]
    },
    {
      "cell_type": "code",
      "metadata": {
        "id": "PPljcguC-PUF",
        "colab": {
          "base_uri": "https://localhost:8080/",
          "height": 496
        },
        "outputId": "021a8ab1-0c13-46a2-b997-e47699925a6a"
      },
      "source": [
        "from sklearn.metrics import confusion_matrix\n",
        "cm = confusion_matrix(y_val, y_pred_labels)\n",
        "\n",
        "plt.figure(figsize=(10, 8))\n",
        "plt.imshow(cm, cmap=plt.cm.Blues)\n",
        "plt.xlabel(\"Predicted labels\")\n",
        "plt.ylabel(\"True labels\")\n",
        "plt.xticks([], [])\n",
        "plt.yticks([], [])\n",
        "plt.title('Confusion matrix ')\n",
        "plt.colorbar()\n",
        "plt.show()"
      ],
      "execution_count": null,
      "outputs": [
        {
          "output_type": "display_data",
          "data": {
            "image/png": "[encoded data removed]",
            "text/plain": [
              "<Figure size 720x576 with 2 Axes>"
            ]
          },
          "metadata": {
            "tags": [],
            "needs_background": "light"
          }
        }
      ]
    },
    {
      "cell_type": "markdown",
      "metadata": {
        "id": "BW_fiXzo-PUG"
      },
      "source": [
        "## Визуализируем предсказания для тестовой выборки"
      ]
    },
    {
      "cell_type": "code",
      "metadata": {
        "id": "cdjlRTCK-PUG"
      },
      "source": [
        "y_pred_test = model.predict(test_img)\n",
        "y_pred_test_labels = np.argmax(y_pred_test, axis=1)"
      ],
      "execution_count": null,
      "outputs": []
    },
    {
      "cell_type": "code",
      "metadata": {
        "id": "yWr_Ca52-PUG",
        "colab": {
          "base_uri": "https://localhost:8080/",
          "height": 256
        },
        "outputId": "34be5f09-6f6e-487a-cf39-59eb55356e2d"
      },
      "source": [
        "fig = plt.figure(figsize=(20, 10))\n",
        "indices = np.random.choice(range(len(test_img)), 5)\n",
        "img_prediction = zip(test_img[indices], y_pred_test_labels[indices])\n",
        "for i, (img, pred) in enumerate(img_prediction, 1):\n",
        "    subplot = fig.add_subplot(1, 5, i)\n",
        "    plt.imshow(img[...,0], cmap='gray');\n",
        "    subplot.set_title('%d' % pred);"
      ],
      "execution_count": null,
      "outputs": [
        {
          "output_type": "display_data",
          "data": {
            "image/png": "[encoded data removed]",
            "text/plain": [
              "<Figure size 1440x720 with 5 Axes>"
            ]
          },
          "metadata": {
            "tags": [],
            "needs_background": "light"
          }
        }
      ]
    },
    {
      "cell_type": "markdown",
      "metadata": {
        "id": "tinngHdI-PUG"
      },
      "source": [
        "## Готовим файл для отправки"
      ]
    },
    {
      "cell_type": "code",
      "metadata": {
        "id": "AqyKGyYT-PUG"
      },
      "source": [
        "with open('submit.txt', 'w') as dst:\n",
        "    dst.write('ImageId,Label\\n')\n",
        "    for i, p in enumerate(y_pred_test_labels, 1):\n",
        "        dst.write('%s,%d\\n' % (i, p))"
      ],
      "execution_count": null,
      "outputs": []
    },
    {
      "cell_type": "code",
      "metadata": {
        "id": "VozT2TRp-PUH"
      },
      "source": [
        "# Your submission scored 0.96814"
      ],
      "execution_count": null,
      "outputs": []
    }
  ]
}